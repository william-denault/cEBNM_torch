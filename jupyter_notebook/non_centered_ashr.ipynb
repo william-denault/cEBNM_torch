{
 "cells": [
  {
   "cell_type": "code",
   "execution_count": 15,
   "metadata": {},
   "outputs": [],
   "source": [
    "import sys\n",
    "import os\n",
    "import matplotlib.pyplot as plt\n",
    "\n",
    "# Add the path to utils.py\n",
    "sys.path.append(r\"c:\\Document\\Serieux\\Travail\\python_work\\cEBNM_torch\\py\")\n",
    "from distribution_operation import *\n",
    "from utils import *\n",
    "from numerical_routine import *\n",
    "from posterior_computation import *\n",
    "from ash import *"
   ]
  },
  {
   "cell_type": "code",
   "execution_count": null,
   "metadata": {},
   "outputs": [],
   "source": [
    "betahat=  np.array([1,2,3,4,5])\n",
    "sebetahat=np.array([1,0.4,5,1,1])\n",
    "\n",
    "res= ash(betahat, sebetahat, mult=np.sqrt(2))\n",
    "print(res.log_lik)\n",
    "print(res.pi )\n",
    "print(res.scale     )\n",
    "mult=2\n",
    "\n",
    "\n",
    "\n",
    "scale=autoselect_scales_mix_norm(betahat  = betahat,\n",
    "                                         sebetahat= sebetahat,\n",
    "                                         mult=np.sqrt(2))\n",
    "location=0*scale+2"
   ]
  },
  {
   "cell_type": "code",
   "execution_count": null,
   "metadata": {},
   "outputs": [],
   "source": [
    "L= get_data_loglik_normal(betahat=betahat ,\n",
    "                                 sebetahat=sebetahat ,\n",
    "                                 location=0*scale,\n",
    "                                 scale=scale)\n",
    "optimal_pi = optimize_pi( np.exp(L),\n",
    "                                 penalty=10,\n",
    "                                 verbose=True) \n",
    "optimal_pi\n",
    " "
   ]
  },
  {
   "cell_type": "code",
   "execution_count": null,
   "metadata": {},
   "outputs": [],
   "source": [
    "location"
   ]
  },
  {
   "cell_type": "code",
   "execution_count": 19,
   "metadata": {},
   "outputs": [],
   "source": [
    "data_loglik = get_data_loglik_normal (  betahat,sebetahat, location, scale)"
   ]
  },
  {
   "cell_type": "code",
   "execution_count": null,
   "metadata": {},
   "outputs": [],
   "source": [
    "log_pi =np.log(optimal_pi+1e-32)\n",
    "\n",
    "optimal_pi "
   ]
  },
  {
   "cell_type": "code",
   "execution_count": 21,
   "metadata": {},
   "outputs": [],
   "source": [
    "\n",
    "L= get_data_loglik_normal(betahat=betahat ,\n",
    "                                 sebetahat=sebetahat ,\n",
    "                                 location=0*scale,\n",
    "                                 scale=scale)\n",
    "optimal_pi = optimize_pi( np.exp(L),\n",
    "                                 penalty=10,\n",
    "                                 verbose=True) \n",
    " "
   ]
  },
  {
   "cell_type": "code",
   "execution_count": null,
   "metadata": {},
   "outputs": [],
   "source": [
    "\n",
    "log_pi =np.log(optimal_pi+1e-32)\n",
    "\n",
    "optimal_pi "
   ]
  },
  {
   "cell_type": "code",
   "execution_count": 23,
   "metadata": {},
   "outputs": [],
   "source": [
    "data_loglik = get_data_loglik_normal (  betahat,sebetahat, location, scale)\n",
    "log_post_assignment = apply_log_sum_exp(data_loglik, log_pi)\n",
    "t_ind_Var =np.zeros((betahat.shape[0], scale.shape[0]))\n",
    " \n",
    "for i in range(t_ind_Var.shape[0]):\n",
    "        t_ind_Var[i , ]= np.concatenate(\n",
    "                                        ([0], \n",
    "                                         1/((1/sebetahat[i]**2)+ (1/scale[1:]**2)) )\n",
    "                                        )#assume that first entry of scale is 0\n",
    "        \n",
    "temp=np.zeros((betahat.shape[0], scale.shape[0]))\n",
    "\n",
    "for i in range(temp.shape[0]):\n",
    "        temp[i,] = (t_ind_Var[i,]/(sebetahat[i]**2))*(betahat[i] )+ location*(1-t_ind_Var[i,]/(sebetahat[i]**2))\n",
    "\n",
    "post_mean  = np.sum ( np.exp(log_post_assignment)* temp, axis=1)\n",
    "post_mean2 = np.sum ( np.exp(log_post_assignment)*( t_ind_Var+ temp**2), axis=1)\n",
    "post_sd    = np.sqrt(post_mean2-post_mean**2) "
   ]
  },
  {
   "cell_type": "code",
   "execution_count": null,
   "metadata": {},
   "outputs": [],
   "source": [
    "post_mean"
   ]
  },
  {
   "cell_type": "code",
   "execution_count": 25,
   "metadata": {},
   "outputs": [],
   "source": [
    "data_loglik = get_data_loglik_normal (  betahat,sebetahat, location, scale)\n",
    "log_post_assignment = apply_log_sum_exp(data_loglik, log_pi)\n",
    "t_ind_Var =np.zeros((betahat.shape[0], scale.shape[0]))\n",
    " \n",
    "for i in range(t_ind_Var.shape[0]):\n",
    "        t_ind_Var[i , ]= np.concatenate(\n",
    "                                        ([0], \n",
    "                                         1/((1/sebetahat[i]**2)+ (1/scale[1:]**2)) )\n",
    "                                        )#assume that first entry of scale is 0\n",
    "        \n",
    "temp=np.zeros((betahat.shape[0], scale.shape[0]))\n",
    "\n",
    "for i in range(temp.shape[0]):\n",
    "        temp[i,] = (t_ind_Var[i,]/(sebetahat[i]**2))*(betahat[i] )+ location*(1-t_ind_Var[i,]/(sebetahat[i]**2))\n",
    "\n",
    "post_mean  = np.sum ( np.exp(log_post_assignment)* temp, axis=1)\n",
    "post_mean2 = np.sum ( np.exp(log_post_assignment)*( t_ind_Var+ temp**2), axis=1)\n",
    "post_sd    = np.sqrt(post_mean2-post_mean**2) "
   ]
  },
  {
   "cell_type": "code",
   "execution_count": null,
   "metadata": {},
   "outputs": [],
   "source": [
    "post_mean"
   ]
  },
  {
   "cell_type": "code",
   "execution_count": null,
   "metadata": {},
   "outputs": [],
   "source": [
    "plt.scatter(post_mean, betahat)\n",
    "res= ash(betahat,sebetahat, mode=2)\n",
    "plt.scatter(res.post_mean, betahat)"
   ]
  },
  {
   "cell_type": "code",
   "execution_count": null,
   "metadata": {},
   "outputs": [],
   "source": [
    "scale=autoselect_scales_mix_norm(betahat  = betahat,\n",
    "                                         sebetahat= sebetahat,\n",
    "                                         mult=np.sqrt(2))\n",
    "\n",
    "location=scale\n",
    "print (location)\n",
    "if location is None:\n",
    "    print(1)\n",
    "else:\n",
    "    print(2)\n",
    "\n",
    "location=None\n",
    "location is None"
   ]
  }
 ],
 "metadata": {
  "kernelspec": {
   "display_name": "ml",
   "language": "python",
   "name": "python3"
  },
  "language_info": {
   "codemirror_mode": {
    "name": "ipython",
    "version": 3
   },
   "file_extension": ".py",
   "mimetype": "text/x-python",
   "name": "python",
   "nbconvert_exporter": "python",
   "pygments_lexer": "ipython3",
   "version": "3.11.7"
  }
 },
 "nbformat": 4,
 "nbformat_minor": 2
}
