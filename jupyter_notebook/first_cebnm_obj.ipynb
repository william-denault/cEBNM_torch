{
 "cells": [
  {
   "cell_type": "code",
   "execution_count": 1,
   "metadata": {},
   "outputs": [],
   "source": [
    "import numpy as np\n",
    "import math \n",
    "from scipy.stats import norm\n",
    "from scipy.stats import truncnorm\n",
    "import scipy.stats as stats"
   ]
  },
  {
   "cell_type": "code",
   "execution_count": 2,
   "metadata": {},
   "outputs": [],
   "source": [
    "import sys\n",
    "import os\n",
    "\n",
    "# Add the path to utils.py\n",
    "sys.path.append(r\"c:\\Document\\Serieux\\Travail\\python_work\\cEBNM_torch\\py\")\n",
    "\n",
    "# Import utils.py directly\n",
    "from utils import *\n",
    "from numerical_routine import *\n",
    "from distribution_operation import *\n",
    "from posterior_computation import *"
   ]
  },
  {
   "cell_type": "code",
   "execution_count": 3,
   "metadata": {},
   "outputs": [],
   "source": [
    "class cebnm:\n",
    "    def __init__(self, \n",
    "                 betahat,\n",
    "                 sebetahat,\n",
    "                 type=\"norm\",\n",
    "                 X=None,\n",
    "                 max_class=None,\n",
    "                 mult=2\n",
    "                 ):\n",
    "        self.betahat   = betahat\n",
    "        self.sebetahat = sebetahat\n",
    "        self.type      = type       \n",
    "        self.X         = X\n",
    "        self.loss      = 0\n",
    "        \n",
    "        if self.type== \"norm\":\n",
    "            self.scale = autoselect_scales_mix_norm(betahat=betahat,\n",
    "                                                    sebetahat=sebetahat,\n",
    "                                                    max_class=max_class,\n",
    "                                                    mult=mult)  \n",
    "        elif self.type == \"exp\":\n",
    "            self.sale= autoselect_scales_mix_exp   (betahat=betahat,\n",
    "                                                    sebetahat=sebetahat,\n",
    "                                                    max_class=max_class,\n",
    "                                                    mult=mult)  \n",
    "        self.log_pi    = np.log( \n",
    "                                np.full( (self.betahat.shape[0], \n",
    "                                   self.scale.shape[0]),\n",
    "                                 1/self.scale.shape[0])  \n",
    "                                )      \n",
    "    def update_posterior(self):\n",
    "        \"\"\"Compute and update the posterior mean, mean2, and sd.\"\"\"\n",
    "        if(self.type == \"norm\"):\n",
    "            posterior_result = posterior_mean_norm(betahat  =self.betahat, \n",
    "                                                   sebetahat=  self.sebetahat, \n",
    "                                                   log_pi   =  self.log_pi, \n",
    "                                                   scale    = self.scale)\n",
    "        elif(self.type ==\"exp\"):\n",
    "            posterior_result = posterior_mean_norm(betahat  =self.betahat, \n",
    "                                                   sebetahat=  self.sebetahat, \n",
    "                                                   log_pi   =  self.log_pi, \n",
    "                                                   scale    = self.scale)\n",
    "        \n",
    "        \n",
    "        \n",
    "        self.post_mean = posterior_result.post_mean\n",
    "        self.post_mean2 = posterior_result.post_mean2\n",
    "        self.post_sd = posterior_result.post_sd\n",
    "            "
   ]
  },
  {
   "cell_type": "code",
   "execution_count": 5,
   "metadata": {},
   "outputs": [
    {
     "name": "stdout",
     "output_type": "stream",
     "text": [
      "[1 2 3 4 5]\n",
      "[0.         0.03827328 0.07654655 0.15309311 0.30618622 0.61237244\n",
      " 1.22474487 2.44948974 4.89897949 9.79795897]\n",
      "None\n",
      "[1.  0.4 5.  1.  1. ]\n",
      "norm\n",
      "0\n",
      "[[-2.30258509 -2.30258509 -2.30258509 -2.30258509 -2.30258509 -2.30258509\n",
      "  -2.30258509 -2.30258509 -2.30258509 -2.30258509]\n",
      " [-2.30258509 -2.30258509 -2.30258509 -2.30258509 -2.30258509 -2.30258509\n",
      "  -2.30258509 -2.30258509 -2.30258509 -2.30258509]\n",
      " [-2.30258509 -2.30258509 -2.30258509 -2.30258509 -2.30258509 -2.30258509\n",
      "  -2.30258509 -2.30258509 -2.30258509 -2.30258509]\n",
      " [-2.30258509 -2.30258509 -2.30258509 -2.30258509 -2.30258509 -2.30258509\n",
      "  -2.30258509 -2.30258509 -2.30258509 -2.30258509]\n",
      " [-2.30258509 -2.30258509 -2.30258509 -2.30258509 -2.30258509 -2.30258509\n",
      "  -2.30258509 -2.30258509 -2.30258509 -2.30258509]]\n",
      "[0.23635376 1.90130825 0.34311694 3.60843288 4.70131272]\n",
      "[ 0.39779246  3.78405223  3.4020959  14.1843412  23.15589264]\n",
      "[0.58474726 0.4111924  1.81228217 1.07868129 1.02642651]\n"
     ]
    }
   ],
   "source": [
    "betahat=  np.array([1,2,3,4,5])\n",
    "sebetahat=np.array([1,0.4,5,1,1])\n",
    "model= cebnm ( betahat=betahat,\n",
    "                 sebetahat=sebetahat)\n",
    "print(model.betahat)\n",
    "print(model.scale)\n",
    "print(model.X)\n",
    "print(model.sebetahat)\n",
    "print(model.type)\n",
    "print(model.loss)\n",
    "print(model.log_pi)\n",
    "model.update_posterior()\n",
    "print(model.post_mean)\n",
    "print(model.post_mean2)\n",
    "print(model.post_sd)"
   ]
  },
  {
   "cell_type": "code",
   "execution_count": 6,
   "metadata": {},
   "outputs": [
    {
     "name": "stdout",
     "output_type": "stream",
     "text": [
      "None\n"
     ]
    }
   ],
   "source": [
    "print(model.X)"
   ]
  },
  {
   "cell_type": "code",
   "execution_count": 5,
   "metadata": {},
   "outputs": [
    {
     "name": "stdout",
     "output_type": "stream",
     "text": [
      "[0.         0.03827328 0.07654655 0.15309311 0.30618622 0.61237244\n",
      " 1.22474487 2.44948974 4.89897949 9.79795897]\n"
     ]
    }
   ],
   "source": [
    "\n",
    "\n",
    "# Use the function directly\n",
    "betahat = np.array([1, 2, 3, 4, 5])\n",
    "sebetahat = np.array([1, 0.4, 5, 1, 1])\n",
    "\n",
    "scale = utils.autoselect_scales_mix_norm(betahat, sebetahat)\n",
    "print(scale)\n"
   ]
  }
 ],
 "metadata": {
  "kernelspec": {
   "display_name": "ml",
   "language": "python",
   "name": "python3"
  },
  "language_info": {
   "codemirror_mode": {
    "name": "ipython",
    "version": 3
   },
   "file_extension": ".py",
   "mimetype": "text/x-python",
   "name": "python",
   "nbconvert_exporter": "python",
   "pygments_lexer": "ipython3",
   "version": "3.11.7"
  }
 },
 "nbformat": 4,
 "nbformat_minor": 2
}
