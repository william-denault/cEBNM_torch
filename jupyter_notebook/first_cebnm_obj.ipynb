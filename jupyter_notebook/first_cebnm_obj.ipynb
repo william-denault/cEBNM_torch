{
 "cells": [
  {
   "cell_type": "code",
   "execution_count": 1,
   "metadata": {},
   "outputs": [],
   "source": [
    "import numpy as np\n",
    "import math \n",
    "from scipy.stats import norm\n",
    "from scipy.stats import truncnorm\n",
    "import scipy.stats as stats"
   ]
  },
  {
   "cell_type": "code",
   "execution_count": 3,
   "metadata": {},
   "outputs": [],
   "source": [
    "import sys\n",
    "import os\n",
    "\n",
    "# Add the path to utils.py\n",
    "sys.path.append(r\"c:\\Document\\Serieux\\Travail\\python_work\\cEBNM_torch\\py\")\n",
    "\n",
    "# Import utils.py directly\n",
    "from utils import *\n",
    "from numerical_routine import *\n",
    "from distribution_operation import *\n",
    "from posterior_computation import *"
   ]
  },
  {
   "cell_type": "code",
   "execution_count": 4,
   "metadata": {},
   "outputs": [],
   "source": [
    "class cebnm:\n",
    "    def __init__(self, \n",
    "                 betahat,\n",
    "                 sebetahat,\n",
    "                 type=\"norm\",\n",
    "                 X=None,\n",
    "                 max_class=None,\n",
    "                 mult=2\n",
    "                 ):\n",
    "        self.betahat   = betahat\n",
    "        self.sebetahat = sebetahat\n",
    "        self.type      = type       \n",
    "        self.X         = X\n",
    "        self.loss      = 0\n",
    "        \n",
    "        if self.type== \"norm\":\n",
    "            self.scale = autoselect_scales_mix_norm(betahat=betahat,\n",
    "                                                    sebetahat=sebetahat,\n",
    "                                                    max_class=max_class,\n",
    "                                                    mult=mult)  \n",
    "        elif self.type == \"exp\":\n",
    "            self.sale= autoselect_scales_mix_exp   (betahat=betahat,\n",
    "                                                    sebetahat=sebetahat,\n",
    "                                                    max_class=max_class,\n",
    "                                                    mult=mult)  \n",
    "        self.log_pi    = np.log( \n",
    "                                np.full( (self.betahat.shape[0], \n",
    "                                   self.scale.shape[0]),\n",
    "                                 1/self.scale.shape[0])  \n",
    "                                )      \n",
    "    def update_posterior(self):\n",
    "        \"\"\"Compute and update the posterior mean, mean2, and sd.\"\"\"\n",
    "        if(self.type == \"norm\"):\n",
    "            posterior_result = posterior_mean_norm(betahat  =self.betahat, \n",
    "                                                   sebetahat=  self.sebetahat, \n",
    "                                                   log_pi   =  self.log_pi, \n",
    "                                                   scale    = self.scale)\n",
    "        elif(self.type ==\"exp\"):\n",
    "            posterior_result = posterior_mean_norm(betahat  =self.betahat, \n",
    "                                                   sebetahat=  self.sebetahat, \n",
    "                                                   log_pi   =  self.log_pi, \n",
    "                                                   scale    = self.scale)\n",
    "        \n",
    "        \n",
    "        \n",
    "        self.post_mean = posterior_result.post_mean\n",
    "        self.post_mean2 = posterior_result.post_mean2\n",
    "        self.post_sd = posterior_result.post_sd\n",
    "            "
   ]
  },
  {
   "cell_type": "code",
   "execution_count": 6,
   "metadata": {},
   "outputs": [
    {
     "name": "stdout",
     "output_type": "stream",
     "text": [
      "[1 2 3 4 5]\n",
      "[0.         0.03827328 0.07654655 0.15309311 0.30618622 0.61237244\n",
      " 1.22474487 2.44948974 4.89897949 9.79795897]\n",
      "None\n",
      "[1.  0.4 5.  1.  1. ]\n",
      "norm\n",
      "0\n",
      "[[-2.30258509 -2.30258509 -2.30258509 -2.30258509 -2.30258509 -2.30258509\n",
      "  -2.30258509 -2.30258509 -2.30258509 -2.30258509]\n",
      " [-2.30258509 -2.30258509 -2.30258509 -2.30258509 -2.30258509 -2.30258509\n",
      "  -2.30258509 -2.30258509 -2.30258509 -2.30258509]\n",
      " [-2.30258509 -2.30258509 -2.30258509 -2.30258509 -2.30258509 -2.30258509\n",
      "  -2.30258509 -2.30258509 -2.30258509 -2.30258509]\n",
      " [-2.30258509 -2.30258509 -2.30258509 -2.30258509 -2.30258509 -2.30258509\n",
      "  -2.30258509 -2.30258509 -2.30258509 -2.30258509]\n",
      " [-2.30258509 -2.30258509 -2.30258509 -2.30258509 -2.30258509 -2.30258509\n",
      "  -2.30258509 -2.30258509 -2.30258509 -2.30258509]]\n"
     ]
    },
    {
     "ename": "NameError",
     "evalue": "name 'np' is not defined",
     "output_type": "error",
     "traceback": [
      "\u001b[1;31m---------------------------------------------------------------------------\u001b[0m",
      "\u001b[1;31mNameError\u001b[0m                                 Traceback (most recent call last)",
      "Cell \u001b[1;32mIn[6], line 12\u001b[0m\n\u001b[0;32m     10\u001b[0m \u001b[38;5;28mprint\u001b[39m(model\u001b[38;5;241m.\u001b[39mloss)\n\u001b[0;32m     11\u001b[0m \u001b[38;5;28mprint\u001b[39m(model\u001b[38;5;241m.\u001b[39mlog_pi)\n\u001b[1;32m---> 12\u001b[0m model\u001b[38;5;241m.\u001b[39mupdate_posterior()\n\u001b[0;32m     13\u001b[0m \u001b[38;5;28mprint\u001b[39m(model\u001b[38;5;241m.\u001b[39mpost_mean)\n\u001b[0;32m     14\u001b[0m \u001b[38;5;28mprint\u001b[39m(model\u001b[38;5;241m.\u001b[39mpost_mean2)\n",
      "Cell \u001b[1;32mIn[4], line 34\u001b[0m, in \u001b[0;36mcebnm.update_posterior\u001b[1;34m(self)\u001b[0m\n\u001b[0;32m     32\u001b[0m \u001b[38;5;250m\u001b[39m\u001b[38;5;124;03m\"\"\"Compute and update the posterior mean, mean2, and sd.\"\"\"\u001b[39;00m\n\u001b[0;32m     33\u001b[0m \u001b[38;5;28;01mif\u001b[39;00m(\u001b[38;5;28mself\u001b[39m\u001b[38;5;241m.\u001b[39mtype \u001b[38;5;241m==\u001b[39m \u001b[38;5;124m\"\u001b[39m\u001b[38;5;124mnorm\u001b[39m\u001b[38;5;124m\"\u001b[39m):\n\u001b[1;32m---> 34\u001b[0m     posterior_result \u001b[38;5;241m=\u001b[39m posterior_mean_norm(betahat  \u001b[38;5;241m=\u001b[39m\u001b[38;5;28mself\u001b[39m\u001b[38;5;241m.\u001b[39mbetahat, \n\u001b[0;32m     35\u001b[0m                                            sebetahat\u001b[38;5;241m=\u001b[39m  \u001b[38;5;28mself\u001b[39m\u001b[38;5;241m.\u001b[39msebetahat, \n\u001b[0;32m     36\u001b[0m                                            log_pi   \u001b[38;5;241m=\u001b[39m  \u001b[38;5;28mself\u001b[39m\u001b[38;5;241m.\u001b[39mlog_pi, \n\u001b[0;32m     37\u001b[0m                                            scale    \u001b[38;5;241m=\u001b[39m \u001b[38;5;28mself\u001b[39m\u001b[38;5;241m.\u001b[39mscale)\n\u001b[0;32m     38\u001b[0m \u001b[38;5;28;01melif\u001b[39;00m(\u001b[38;5;28mself\u001b[39m\u001b[38;5;241m.\u001b[39mtype \u001b[38;5;241m==\u001b[39m\u001b[38;5;124m\"\u001b[39m\u001b[38;5;124mexp\u001b[39m\u001b[38;5;124m\"\u001b[39m):\n\u001b[0;32m     39\u001b[0m     posterior_result \u001b[38;5;241m=\u001b[39m posterior_mean_norm(betahat  \u001b[38;5;241m=\u001b[39m\u001b[38;5;28mself\u001b[39m\u001b[38;5;241m.\u001b[39mbetahat, \n\u001b[0;32m     40\u001b[0m                                            sebetahat\u001b[38;5;241m=\u001b[39m  \u001b[38;5;28mself\u001b[39m\u001b[38;5;241m.\u001b[39msebetahat, \n\u001b[0;32m     41\u001b[0m                                            log_pi   \u001b[38;5;241m=\u001b[39m  \u001b[38;5;28mself\u001b[39m\u001b[38;5;241m.\u001b[39mlog_pi, \n\u001b[0;32m     42\u001b[0m                                            scale    \u001b[38;5;241m=\u001b[39m \u001b[38;5;28mself\u001b[39m\u001b[38;5;241m.\u001b[39mscale)\n",
      "File \u001b[1;32mc:\\Document\\Serieux\\Travail\\python_work\\cEBNM_torch\\py\\posterior_computation.py:91\u001b[0m, in \u001b[0;36mposterior_mean_norm\u001b[1;34m(betahat, sebetahat, log_pi, scale)\u001b[0m\n\u001b[0;32m     88\u001b[0m \u001b[38;5;28;01mdef\u001b[39;00m \u001b[38;5;21mposterior_mean_norm\u001b[39m(betahat, sebetahat, log_pi, scale):\n\u001b[0;32m     90\u001b[0m     location \u001b[38;5;241m=\u001b[39m \u001b[38;5;241m0\u001b[39m\u001b[38;5;241m*\u001b[39m scale\n\u001b[1;32m---> 91\u001b[0m     data_loglik \u001b[38;5;241m=\u001b[39m get_data_loglik_normal (  betahat,sebetahat, location, scale)\n\u001b[0;32m     92\u001b[0m     log_post_assignment \u001b[38;5;241m=\u001b[39m apply_log_sum_exp(data_loglik, log_pi)\n\u001b[0;32m     93\u001b[0m     t_ind_Var \u001b[38;5;241m=\u001b[39mnp\u001b[38;5;241m.\u001b[39mzeros((betahat\u001b[38;5;241m.\u001b[39mshape[\u001b[38;5;241m0\u001b[39m], scale\u001b[38;5;241m.\u001b[39mshape[\u001b[38;5;241m0\u001b[39m]))\n",
      "File \u001b[1;32mc:\\Document\\Serieux\\Travail\\python_work\\cEBNM_torch\\py\\distribution_operation.py:15\u001b[0m, in \u001b[0;36mget_data_loglik_normal\u001b[1;34m(betahat, sebetahat, location, scale)\u001b[0m\n\u001b[0;32m     14\u001b[0m \u001b[38;5;28;01mdef\u001b[39;00m \u001b[38;5;21mget_data_loglik_normal\u001b[39m (  betahat,sebetahat, location, scale):\n\u001b[1;32m---> 15\u001b[0m     out \u001b[38;5;241m=\u001b[39m np\u001b[38;5;241m.\u001b[39mzeros( (betahat\u001b[38;5;241m.\u001b[39mshape[\u001b[38;5;241m0\u001b[39m], scale\u001b[38;5;241m.\u001b[39mshape[\u001b[38;5;241m0\u001b[39m]))\n\u001b[0;32m     16\u001b[0m     \u001b[38;5;28;01mfor\u001b[39;00m i \u001b[38;5;129;01min\u001b[39;00m \u001b[38;5;28mrange\u001b[39m(betahat\u001b[38;5;241m.\u001b[39mshape[\u001b[38;5;241m0\u001b[39m]):\n\u001b[0;32m     17\u001b[0m         out[i,] \u001b[38;5;241m=\u001b[39mconvolved_logpdf_normal(betahat\u001b[38;5;241m=\u001b[39mbetahat[i],\n\u001b[0;32m     18\u001b[0m                                          sebetahat\u001b[38;5;241m=\u001b[39msebetahat[i], \n\u001b[0;32m     19\u001b[0m                                          location\u001b[38;5;241m=\u001b[39mlocation,\n\u001b[0;32m     20\u001b[0m                                          scale\u001b[38;5;241m=\u001b[39mscale)\n",
      "\u001b[1;31mNameError\u001b[0m: name 'np' is not defined"
     ]
    }
   ],
   "source": [
    "betahat=  np.array([1,2,3,4,5])\n",
    "sebetahat=np.array([1,0.4,5,1,1])\n",
    "model= cebnm ( betahat=betahat,\n",
    "                 sebetahat=sebetahat)\n",
    "print(model.betahat)\n",
    "print(model.scale)\n",
    "print(model.X)\n",
    "print(model.sebetahat)\n",
    "print(model.type)\n",
    "print(model.loss)\n",
    "print(model.log_pi)\n",
    "model.update_posterior()\n",
    "print(model.post_mean)\n",
    "print(model.post_mean2)\n",
    "print(model.post_sd)"
   ]
  },
  {
   "cell_type": "code",
   "execution_count": 8,
   "metadata": {},
   "outputs": [
    {
     "ename": "NameError",
     "evalue": "name 'autoselect_scales_mix_norm' is not defined",
     "output_type": "error",
     "traceback": [
      "\u001b[1;31m---------------------------------------------------------------------------\u001b[0m",
      "\u001b[1;31mNameError\u001b[0m                                 Traceback (most recent call last)",
      "Cell \u001b[1;32mIn[8], line 1\u001b[0m\n\u001b[1;32m----> 1\u001b[0m \u001b[38;5;28mprint\u001b[39m(autoselect_scales_mix_norm)\n",
      "\u001b[1;31mNameError\u001b[0m: name 'autoselect_scales_mix_norm' is not defined"
     ]
    }
   ],
   "source": [
    "print(autoselect_scales_mix_norm)"
   ]
  },
  {
   "cell_type": "code",
   "execution_count": 5,
   "metadata": {},
   "outputs": [
    {
     "name": "stdout",
     "output_type": "stream",
     "text": [
      "[0.         0.03827328 0.07654655 0.15309311 0.30618622 0.61237244\n",
      " 1.22474487 2.44948974 4.89897949 9.79795897]\n"
     ]
    }
   ],
   "source": [
    "\n",
    "\n",
    "# Use the function directly\n",
    "betahat = np.array([1, 2, 3, 4, 5])\n",
    "sebetahat = np.array([1, 0.4, 5, 1, 1])\n",
    "\n",
    "scale = utils.autoselect_scales_mix_norm(betahat, sebetahat)\n",
    "print(scale)\n"
   ]
  }
 ],
 "metadata": {
  "kernelspec": {
   "display_name": "ml",
   "language": "python",
   "name": "python3"
  },
  "language_info": {
   "codemirror_mode": {
    "name": "ipython",
    "version": 3
   },
   "file_extension": ".py",
   "mimetype": "text/x-python",
   "name": "python",
   "nbconvert_exporter": "python",
   "pygments_lexer": "ipython3",
   "version": "3.11.7"
  }
 },
 "nbformat": 4,
 "nbformat_minor": 2
}
