{
 "cells": [
  {
   "cell_type": "code",
   "execution_count": null,
   "metadata": {},
   "outputs": [],
   "source": [
    "import torch\n",
    "import torch.nn as nn\n",
    "import torch.optim as optim\n",
    "import numpy as np\n",
    "import matplotlib.pyplot as plt\n",
    "from torch.utils.data import DataLoader\n",
    "# Set random seed for reproducibility\n",
    "np.random.seed(1)\n",
    "torch.manual_seed(1)\n",
    "\n",
    "# Generate data\n",
    "n_samples = 20000\n",
    "y = np.random.uniform(-.5, 2.5, n_samples)\n",
    "X = y.reshape(-1, 1)\n",
    "xtrue = np.zeros_like(y)\n",
    "\n",
    "# Apply conditions to generate xtrue based on y\n",
    "for i in range(len(xtrue)):\n",
    "    if (0 < y[i] < 0.5) or (1.5 < y[i] < 2):\n",
    "        xtrue[i] = np.random.normal(1, scale=0.5 )\n",
    "    else:\n",
    "        xtrue[i] = np.random.normal(0, scale=0.5 )\n",
    "\n",
    "# Generate x and s\n",
    "x = xtrue + np.random.normal(0, 1, len(xtrue))\n",
    "s = np.ones_like(x)\n",
    "Z = np.ones((n_samples, 1))\n",
    "\n",
    "# Plot the results\n",
    "plt.scatter(y, xtrue, c=np.where(xtrue == 0, 'green', 'blue'))\n",
    "plt.title('True Underlying Effect')\n",
    "plt.xlabel('y')\n",
    "plt.ylabel('xtrue')\n",
    "plt.show()\n"
   ]
  }
 ],
 "metadata": {
  "kernelspec": {
   "display_name": "ml",
   "language": "python",
   "name": "python3"
  },
  "language_info": {
   "codemirror_mode": {
    "name": "ipython",
    "version": 3
   },
   "file_extension": ".py",
   "mimetype": "text/x-python",
   "name": "python",
   "nbconvert_exporter": "python",
   "pygments_lexer": "ipython3",
   "version": "3.11.7"
  }
 },
 "nbformat": 4,
 "nbformat_minor": 2
}
