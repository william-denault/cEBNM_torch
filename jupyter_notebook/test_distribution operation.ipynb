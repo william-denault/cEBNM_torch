{
 "cells": [
  {
   "cell_type": "code",
   "execution_count": 1,
   "metadata": {},
   "outputs": [],
   "source": [
    "import sys\n",
    "import os\n",
    "\n",
    "# Add the path to utils.py\n",
    "sys.path.append(r\"c:\\Document\\Serieux\\Travail\\python_work\\cEBNM_torch\\py\")\n",
    "from distribution_operation import *\n",
    "from utils import *"
   ]
  },
  {
   "cell_type": "code",
   "execution_count": 2,
   "metadata": {},
   "outputs": [
    {
     "name": "stdout",
     "output_type": "stream",
     "text": [
      "[-12.5026478  -12.39380192 -12.07903895 -10.97389398  -8.11500906\n",
      "  -4.34451202  -2.37716661  -2.15265225  -2.59406918  -3.22274394]\n"
     ]
    }
   ],
   "source": [
    "betahat=  np.array([1,2,3,4,5])\n",
    "sebetahat=np.array([1,0.4,5,1,1])\n",
    "\n",
    "scale=autoselect_scales_mix_norm(betahat=betahat,\n",
    "                                 sebetahat=sebetahat)\n",
    "\n",
    "i=1\n",
    "print( convolved_logpdf_normal(betahat=betahat[i],\n",
    "                               sebetahat=sebetahat[i],\n",
    "                               location=0*scale,\n",
    "                               scale=scale))\n"
   ]
  },
  {
   "cell_type": "code",
   "execution_count": 3,
   "metadata": {},
   "outputs": [
    {
     "name": "stdout",
     "output_type": "stream",
     "text": [
      "[[ -1.41893853  -1.41893907  -1.41894705  -1.41907168  -1.42088747\n",
      "   -1.44180176  -1.5770839   -1.96332218  -2.54837645  -3.21144866]\n",
      " [-12.5026478  -12.39380192 -12.07903895 -10.97389398  -8.11500906\n",
      "   -4.34451202  -2.37716661  -2.15265225  -2.59406918  -3.22274394]\n",
      " [ -2.70837645  -2.7083952   -2.70845144  -2.70867638  -2.70957546\n",
      "   -2.71316065  -2.72732222  -2.78109343  -2.95668542  -3.35402389]\n",
      " [ -8.91893853  -8.90796881  -8.87525773  -8.74731596  -8.27803033\n",
      "   -6.89634722  -4.5770839   -3.03475075  -2.84837645  -3.28876825]\n",
      " [-13.41893853 -13.40138666 -13.34904414 -13.14426252 -12.39231604\n",
      "  -10.16907449  -6.3770839   -3.67760789  -3.02837645  -3.33516   ]]\n"
     ]
    }
   ],
   "source": [
    "print(get_data_loglik_normal(betahat=betahat ,\n",
    "                               sebetahat=sebetahat ,\n",
    "                               location=0*scale,\n",
    "                               scale=scale))"
   ]
  },
  {
   "cell_type": "code",
   "execution_count": 4,
   "metadata": {},
   "outputs": [
    {
     "name": "stdout",
     "output_type": "stream",
     "text": [
      "[-12.5026478]\n",
      "[-12.5026478  -11.87740939 -11.40220327 -10.40992311  -8.63586089\n",
      "  -6.51698062  -4.67152354  -3.31773067  -2.43508985  -1.93056714\n",
      "  -1.70659371  -1.68230841  -1.79677333  -2.00623835  -2.28014784]\n"
     ]
    }
   ],
   "source": [
    "betahat=  np.array([1,2,3,4,5])\n",
    "sebetahat=np.array([1,0.4,5,1,1])\n",
    "\n",
    "scale=autoselect_scales_mix_exp(betahat=betahat,\n",
    "                                 sebetahat=sebetahat)\n",
    "\n",
    "i=1\n",
    "print( convolved_logpdf_exp(betahat=betahat[i],\n",
    "                               sebetahat=sebetahat[i], \n",
    "                               scale=scale))\n"
   ]
  },
  {
   "cell_type": "code",
   "execution_count": 5,
   "metadata": {},
   "outputs": [
    {
     "name": "stdout",
     "output_type": "stream",
     "text": [
      "[-1.41893853]\n",
      "[-12.5026478]\n",
      "[-2.70837645]\n",
      "[-8.91893853]\n",
      "[-13.41893853]\n",
      "[[ -1.41893853  -1.38123973  -1.36312464  -1.33705821  -1.30082832\n",
      "   -1.2538323   -1.20079393  -1.15642191  -1.14499733  -1.1906699\n",
      "   -1.30638599  -1.4913827   -1.73599675  -2.02751161  -2.35385632]\n",
      " [-12.5026478  -11.87740939 -11.40220327 -10.40992311  -8.63586089\n",
      "   -6.51698062  -4.67152354  -3.31773067  -2.43508985  -1.93056714\n",
      "   -1.70659371  -1.68230841  -1.79677333  -2.00623835  -2.28014784]\n",
      " [ -2.70837645  -2.70380126  -2.70155115  -2.69822387  -2.69334304\n",
      "   -2.68627697  -2.67627455  -2.66267476  -2.64555985  -2.62730781\n",
      "   -2.61522375  -2.62361688  -2.67146561  -2.77487196  -2.94044567]\n",
      " [ -8.91893853  -8.75359393  -8.66156346  -8.50992587  -8.24776001\n",
      "   -7.77125388  -6.92986458  -5.73769819  -4.51037924  -3.52640669\n",
      "   -2.86567228  -2.49745033  -2.35908061  -2.38951026  -2.53940263]\n",
      " [-13.41893853 -13.20716457 -13.08432433 -12.8727871  -12.47625608\n",
      "  -11.65641975 -10.0769394   -7.97559642  -6.02281116  -4.53753274\n",
      "   -3.54023771  -2.94726038  -2.65897411  -2.58943871  -2.67268137]]\n"
     ]
    }
   ],
   "source": [
    "print( get_data_loglik_exp(betahat=betahat ,\n",
    "                               sebetahat=sebetahat , \n",
    "                               scale=scale))"
   ]
  },
  {
   "cell_type": "code",
   "execution_count": null,
   "metadata": {},
   "outputs": [],
   "source": [
    " "
   ]
  }
 ],
 "metadata": {
  "kernelspec": {
   "display_name": "ml",
   "language": "python",
   "name": "python3"
  },
  "language_info": {
   "codemirror_mode": {
    "name": "ipython",
    "version": 3
   },
   "file_extension": ".py",
   "mimetype": "text/x-python",
   "name": "python",
   "nbconvert_exporter": "python",
   "pygments_lexer": "ipython3",
   "version": "3.11.7"
  }
 },
 "nbformat": 4,
 "nbformat_minor": 2
}
