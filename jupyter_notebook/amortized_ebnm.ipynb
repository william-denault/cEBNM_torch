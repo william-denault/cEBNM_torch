{
 "cells": [
  {
   "cell_type": "code",
   "execution_count": 1,
   "metadata": {},
   "outputs": [
    {
     "name": "stdout",
     "output_type": "stream",
     "text": [
      "Epoch 0: ELBO=-12058125.00, KL_u=277.75, KL_v=356.76\n",
      "Epoch 500: ELBO=-7147.25, KL_u=2187.94, KL_v=1797.34\n",
      "Epoch 1000: ELBO=-1556.52, KL_u=2611.19, KL_v=2144.22\n",
      "Epoch 1500: ELBO=63.08, KL_u=2811.03, KL_v=2295.05\n",
      "Epoch 2000: ELBO=758.71, KL_u=2903.76, KL_v=2368.75\n",
      "Epoch 2500: ELBO=893.06, KL_u=2940.03, KL_v=2401.83\n",
      "Epoch 3000: ELBO=1068.40, KL_u=2941.70, KL_v=2409.32\n",
      "Epoch 3500: ELBO=1003.27, KL_u=2925.17, KL_v=2404.13\n",
      "Epoch 4000: ELBO=1112.32, KL_u=2908.83, KL_v=2392.20\n",
      "Epoch 4500: ELBO=1189.68, KL_u=2888.15, KL_v=2378.78\n",
      "Epoch 5000: ELBO=1127.48, KL_u=2863.44, KL_v=2349.06\n",
      "Epoch 5500: ELBO=978.71, KL_u=2848.98, KL_v=2341.95\n",
      "Epoch 6000: ELBO=1139.96, KL_u=2823.73, KL_v=2309.74\n",
      "Epoch 6500: ELBO=1325.84, KL_u=2782.34, KL_v=2293.77\n",
      "Epoch 7000: ELBO=1281.86, KL_u=2737.81, KL_v=2269.11\n",
      "Epoch 7500: ELBO=1499.76, KL_u=2680.30, KL_v=2241.12\n",
      "Epoch 8000: ELBO=1627.40, KL_u=2611.66, KL_v=2214.93\n",
      "Epoch 8500: ELBO=1700.82, KL_u=2560.10, KL_v=2180.06\n",
      "Epoch 9000: ELBO=1875.79, KL_u=2462.97, KL_v=2141.05\n",
      "Epoch 9500: ELBO=1930.10, KL_u=2389.70, KL_v=2096.46\n",
      "\n",
      "Inferred U shape: torch.Size([100, 5])\n",
      "Inferred V shape: torch.Size([80, 5])\n",
      "Prior tau_u: 1.0551551580429077\n",
      "Prior tau_v: 0.9374144673347473\n"
     ]
    }
   ],
   "source": [
    "# Amortized Empirical Bayes Matrix Factorization\n",
    "# Author: William Denault\n",
    "\n",
    "import torch\n",
    "import torch.nn as nn\n",
    "import torch.distributions as dist\n",
    "\n",
    "# Simulate low-rank matrix Y = U V^T + noise\n",
    "n, p, k = 100, 80, 5  # users, items, latent dim\n",
    "true_U = torch.randn(n, k)\n",
    "true_V = torch.randn(p, k)\n",
    "Y = true_U @ true_V.T + 0.1 * torch.randn(n, p)\n",
    "sigma = 0.1\n",
    "\n",
    "# Define amortized inference networks\n",
    "class RowEncoder(nn.Module):\n",
    "    def __init__(self, p, k):\n",
    "        super().__init__()\n",
    "        self.net = nn.Sequential(\n",
    "            nn.Linear(p, 128), nn.ReLU(),\n",
    "            nn.Linear(128, 2 * k)\n",
    "        )\n",
    "\n",
    "    def forward(self, y_row):\n",
    "        out = self.net(y_row)\n",
    "        mu, log_std = out[:, :k], out[:, k:]\n",
    "        return mu, torch.exp(log_std)\n",
    "\n",
    "class ColEncoder(nn.Module):\n",
    "    def __init__(self, n, k):\n",
    "        super().__init__()\n",
    "        self.net = nn.Sequential(\n",
    "            nn.Linear(n, 128), nn.ReLU(),\n",
    "            nn.Linear(128, 2 * k)\n",
    "        )\n",
    "\n",
    "    def forward(self, y_col):\n",
    "        out = self.net(y_col)\n",
    "        mu, log_std = out[:, :k], out[:, k:]\n",
    "        return mu, torch.exp(log_std)\n",
    "\n",
    "# Initialize networks\n",
    "row_encoder = RowEncoder(p, k)\n",
    "col_encoder = ColEncoder(n, k)\n",
    "log_tau_u = nn.Parameter(torch.tensor(0.0))\n",
    "log_tau_v = nn.Parameter(torch.tensor(0.0))\n",
    "\n",
    "params = list(row_encoder.parameters()) + list(col_encoder.parameters()) + [log_tau_u, log_tau_v]\n",
    "optimizer = torch.optim.Adam(params, lr=1e-3)\n",
    "\n",
    "# Training loop\n",
    "for epoch in range(10000):\n",
    "    optimizer.zero_grad()\n",
    "\n",
    "    # Encode all rows and columns\n",
    "    mu_u, std_u = row_encoder(Y)\n",
    "    mu_v, std_v = col_encoder(Y.T)\n",
    "\n",
    "    q_u = dist.Normal(mu_u, std_u)\n",
    "    q_v = dist.Normal(mu_v, std_v)\n",
    "\n",
    "    u_sample = q_u.rsample()\n",
    "    v_sample = q_v.rsample()\n",
    "\n",
    "    # Reconstruct Y\n",
    "    Y_pred = u_sample @ v_sample.T\n",
    "    log_lik = dist.Normal(Y_pred, sigma).log_prob(Y).sum()\n",
    "\n",
    "    # KL terms\n",
    "    p_u = dist.Normal(0, torch.exp(log_tau_u))\n",
    "    p_v = dist.Normal(0, torch.exp(log_tau_v))\n",
    "    kl_u = dist.kl_divergence(q_u, p_u).sum()\n",
    "    kl_v = dist.kl_divergence(q_v, p_v).sum()\n",
    "\n",
    "    elbo = log_lik - kl_u - kl_v\n",
    "    loss = -elbo\n",
    "    loss.backward()\n",
    "    optimizer.step()\n",
    "\n",
    "    if epoch % 500 == 0:\n",
    "        print(f\"Epoch {epoch}: ELBO={elbo.item():.2f}, KL_u={kl_u.item():.2f}, KL_v={kl_v.item():.2f}\")\n",
    "\n",
    "# Final latent embeddings\n",
    "with torch.no_grad():\n",
    "    U_mean, _ = row_encoder(Y)\n",
    "    V_mean, _ = col_encoder(Y.T)\n",
    "    print(\"\\nInferred U shape:\", U_mean.shape)\n",
    "    print(\"Inferred V shape:\", V_mean.shape)\n",
    "    print(\"Prior tau_u:\", torch.exp(log_tau_u).item())\n",
    "    print(\"Prior tau_v:\", torch.exp(log_tau_v).item())\n"
   ]
  },
  {
   "cell_type": "code",
   "execution_count": 2,
   "metadata": {},
   "outputs": [
    {
     "data": {
      "text/plain": [
       "0.10044094175100327"
      ]
     },
     "execution_count": 2,
     "metadata": {},
     "output_type": "execute_result"
    }
   ],
   "source": [
    "Y_final_pred = U_mean @ V_mean.T\n",
    "final_rmse = torch.sqrt(((Y - Y_final_pred) ** 2).mean()).item()\n",
    "final_rmse"
   ]
  },
  {
   "cell_type": "code",
   "execution_count": 8,
   "metadata": {},
   "outputs": [],
   "source": [
    "import sys\n",
    "import os\n",
    "import matplotlib.pyplot as plt\n",
    "\n",
    "# Add the path to utils.py\n",
    "sys.path.append(r\"C:\\Document\\Serieux\\Travail\\python_work\\cEBNM_torch\\py\")\n",
    "sys.path.append(r\"C:\\Document\\Serieux\\Travail\\python_work\\cEBNM_torch\\py\\ebnm_solver\")\n",
    "sys.path.append(r\"C:\\Document\\Serieux\\Travail\\python_work\\cEBNM_torch\\py\\numerical_routine\")\n",
    "from cEBMF import *"
   ]
  },
  {
   "cell_type": "code",
   "execution_count": 9,
   "metadata": {},
   "outputs": [],
   "source": [
    "Y_np = Y.detach().cpu().numpy()\n",
    "\n",
    "mycebmf= cEBMF(data= Y_np)\n",
    "mycebmf.init_LF()"
   ]
  },
  {
   "cell_type": "code",
   "execution_count": 10,
   "metadata": {},
   "outputs": [],
   "source": [
    "for i in range(40):\n",
    "    mycebmf.iter()"
   ]
  },
  {
   "cell_type": "code",
   "execution_count": 11,
   "metadata": {},
   "outputs": [
    {
     "data": {
      "text/plain": [
       "[<matplotlib.lines.Line2D at 0x27909b9f400>]"
      ]
     },
     "execution_count": 11,
     "metadata": {},
     "output_type": "execute_result"
    },
    {
     "data": {
      "image/png": "[encoded data removed]",
      "text/plain": [
       "<Figure size 1000x600 with 1 Axes>"
      ]
     },
     "metadata": {},
     "output_type": "display_data"
    }
   ],
   "source": [
    "plt.figure(figsize=(10, 6))\n",
    "plt.plot(np.array(mycebmf.obj)[1:], marker='o', linestyle='-', color='b')"
   ]
  },
  {
   "cell_type": "code",
   "execution_count": 13,
   "metadata": {},
   "outputs": [
    {
     "data": {
      "text/plain": [
       "0.09520877"
      ]
     },
     "execution_count": 13,
     "metadata": {},
     "output_type": "execute_result"
    }
   ],
   "source": [
    "np.sqrt(np.mean((Y_np - mycebmf.L @ mycebmf.F.T   ) ** 2))"
   ]
  },
  {
   "cell_type": "code",
   "execution_count": null,
   "metadata": {},
   "outputs": [],
   "source": [
    " "
   ]
  }
 ],
 "metadata": {
  "kernelspec": {
   "display_name": "ml_env",
   "language": "python",
   "name": "python3"
  },
  "language_info": {
   "codemirror_mode": {
    "name": "ipython",
    "version": 3
   },
   "file_extension": ".py",
   "mimetype": "text/x-python",
   "name": "python",
   "nbconvert_exporter": "python",
   "pygments_lexer": "ipython3",
   "version": "3.10.8"
  }
 },
 "nbformat": 4,
 "nbformat_minor": 2
}
