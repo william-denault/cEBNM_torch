{
 "cells": [
  {
   "cell_type": "code",
   "execution_count": 2,
   "metadata": {},
   "outputs": [
    {
     "ename": "ModuleNotFoundError",
     "evalue": "No module named 'rpy2'",
     "output_type": "error",
     "traceback": [
      "\u001b[1;31m---------------------------------------------------------------------------\u001b[0m",
      "\u001b[1;31mModuleNotFoundError\u001b[0m                       Traceback (most recent call last)",
      "Cell \u001b[1;32mIn[2], line 3\u001b[0m\n\u001b[0;32m      1\u001b[0m \u001b[38;5;28;01mimport\u001b[39;00m\u001b[38;5;250m \u001b[39m\u001b[38;5;21;01msys\u001b[39;00m\n\u001b[0;32m      2\u001b[0m \u001b[38;5;28;01mimport\u001b[39;00m\u001b[38;5;250m \u001b[39m\u001b[38;5;21;01mos\u001b[39;00m\n\u001b[1;32m----> 3\u001b[0m \u001b[38;5;28;01mimport\u001b[39;00m\u001b[38;5;250m \u001b[39m\u001b[38;5;21;01mrpy2\u001b[39;00m\u001b[38;5;250m \u001b[39m\u001b[38;5;28;01mas\u001b[39;00m\u001b[38;5;250m \u001b[39m\u001b[38;5;21;01mro\u001b[39;00m\n\u001b[0;32m      6\u001b[0m \u001b[38;5;66;03m# Add the path to utils.py\u001b[39;00m\n\u001b[0;32m      7\u001b[0m sys\u001b[38;5;241m.\u001b[39mpath\u001b[38;5;241m.\u001b[39mappend(\u001b[38;5;124mr\u001b[39m\u001b[38;5;124m\"\u001b[39m\u001b[38;5;124mD:\u001b[39m\u001b[38;5;124m\\\u001b[39m\u001b[38;5;124mDocument\u001b[39m\u001b[38;5;124m\\\u001b[39m\u001b[38;5;124mSerieux\u001b[39m\u001b[38;5;124m\\\u001b[39m\u001b[38;5;124mTravail\u001b[39m\u001b[38;5;124m\\\u001b[39m\u001b[38;5;124mpython_work\u001b[39m\u001b[38;5;124m\\\u001b[39m\u001b[38;5;124mcEBNM_torch\u001b[39m\u001b[38;5;124m\\\u001b[39m\u001b[38;5;124mpy\u001b[39m\u001b[38;5;124m\"\u001b[39m)\n",
      "\u001b[1;31mModuleNotFoundError\u001b[0m: No module named 'rpy2'"
     ]
    }
   ],
   "source": [
    "import sys\n",
    "import os\n",
    "import rpy2 as ro\n",
    "\n",
    "\n",
    "# Add the path to utils.py\n",
    "sys.path.append(r\"D:\\Document\\Serieux\\Travail\\python_work\\cEBNM_torch\\py\")\n",
    "sys.path.append(r\"D:\\Document\\Serieux\\Travail\\python_work\\cEBNM_torch\\py\\ebnm_solver\")\n",
    "sys.path.append(r\"D:\\Document\\Serieux\\Travail\\python_work\\cEBNM_torch\\py\\numerical_routine\")\n",
    "from distribution_operation import *\n",
    "from utils import *\n",
    "from numerical_routine import *\n",
    "from posterior_computation import *"
   ]
  },
  {
   "cell_type": "code",
   "execution_count": 2,
   "metadata": {},
   "outputs": [
    {
     "name": "stdout",
     "output_type": "stream",
     "text": [
      "[-12.5026478  -12.39380192 -12.07903895 -10.97389398  -8.11500906\n",
      "  -4.34451202  -2.37716661  -2.15265225  -2.59406918  -3.22274394]\n"
     ]
    }
   ],
   "source": [
    "betahat=  np.array([1,2,3,4,5])\n",
    "sebetahat=np.array([1,0.4,5,1,1])\n",
    "\n",
    "scale=autoselect_scales_mix_norm(betahat=betahat,\n",
    "                                 sebetahat=sebetahat)\n",
    "\n",
    "i=1\n",
    "print( convolved_logpdf_normal(betahat=betahat[i],\n",
    "                               sebetahat=sebetahat[i],\n",
    "                               location=0*scale,\n",
    "                               scale=scale))\n"
   ]
  },
  {
   "cell_type": "code",
   "execution_count": 3,
   "metadata": {},
   "outputs": [
    {
     "name": "stdout",
     "output_type": "stream",
     "text": [
      "[[ -1.41893853  -1.41893907  -1.41894705  -1.41907168  -1.42088747\n",
      "   -1.44180176  -1.5770839   -1.96332218  -2.54837645  -3.21144866]\n",
      " [-12.5026478  -12.39380192 -12.07903895 -10.97389398  -8.11500906\n",
      "   -4.34451202  -2.37716661  -2.15265225  -2.59406918  -3.22274394]\n",
      " [ -2.70837645  -2.7083952   -2.70845144  -2.70867638  -2.70957546\n",
      "   -2.71316065  -2.72732222  -2.78109343  -2.95668542  -3.35402389]\n",
      " [ -8.91893853  -8.90796881  -8.87525773  -8.74731596  -8.27803033\n",
      "   -6.89634722  -4.5770839   -3.03475075  -2.84837645  -3.28876825]\n",
      " [-13.41893853 -13.40138666 -13.34904414 -13.14426252 -12.39231604\n",
      "  -10.16907449  -6.3770839   -3.67760789  -3.02837645  -3.33516   ]]\n"
     ]
    }
   ],
   "source": [
    "\n",
    "\n",
    "L=get_data_loglik_normal(betahat=betahat ,\n",
    "                               sebetahat=sebetahat ,\n",
    "                               location=0*scale,\n",
    "                               scale=scale)\n",
    "print(L)"
   ]
  },
  {
   "cell_type": "code",
   "execution_count": 4,
   "metadata": {},
   "outputs": [
    {
     "name": "stdout",
     "output_type": "stream",
     "text": [
      "[-12.5026478  -11.87740939 -11.40220327 -10.40992311  -8.63586089\n",
      "  -6.51698062  -4.67152354  -3.31773067  -2.43508985  -1.93056714\n",
      "  -1.70659371  -1.68230841  -1.79677333  -2.00623835  -2.28014784]\n",
      "(15,)\n",
      "(5, 10)\n"
     ]
    }
   ],
   "source": [
    "betahat=  np.array([1,2,3,4,5])\n",
    "sebetahat=np.array([1,0.4,5,1,1])\n",
    "\n",
    "scale=autoselect_scales_mix_exp(betahat=betahat,\n",
    "                                 sebetahat=sebetahat)\n",
    "\n",
    "i=1\n",
    "print( convolved_logpdf_exp(betahat=betahat[i],\n",
    "                               sebetahat=sebetahat[i], \n",
    "                               scale=scale))\n",
    "print(scale.shape)\n",
    "print(L.shape)"
   ]
  },
  {
   "cell_type": "code",
   "execution_count": 5,
   "metadata": {},
   "outputs": [],
   "source": [
    " \n",
    "\n",
    "L=get_data_loglik_exp(betahat=betahat ,\n",
    "                               sebetahat=sebetahat , \n",
    "                               scale=scale)\n",
    " \n",
    "\n",
    " \n",
    " "
   ]
  },
  {
   "cell_type": "code",
   "execution_count": 7,
   "metadata": {},
   "outputs": [
    {
     "ename": "",
     "evalue": "",
     "output_type": "error",
     "traceback": [
      "\u001b[1;31mThe Kernel crashed while executing code in the current cell or a previous cell. \n",
      "\u001b[1;31mPlease review the code in the cell(s) to identify a possible cause of the failure. \n",
      "\u001b[1;31mClick <a href='https://aka.ms/vscodeJupyterKernelCrash'>here</a> for more info. \n",
      "\u001b[1;31mView Jupyter <a href='command:jupyter.viewOutput'>log</a> for further details."
     ]
    }
   ],
   "source": [
    "from rpy2.robjects import numpy2ri\n",
    "numpy2ri.activate()\n",
    "\n",
    "# Import R's mixsqp package\n",
    "ro.r('library(mixsqp)')\n",
    "\n",
    "# Define your numpy array L (example)\n",
    "L = np.random.rand(10, 10)\n",
    "\n",
    "# Convert numpy array L to an R matrix\n",
    "r_L = numpy2ri.py2rpy(L)\n",
    "\n",
    "# Run the mixsqp function from the R package\n",
    "mixsqp_code = \"\"\"\n",
    "    function(L) {\n",
    "        result <- mixsqp(L)\n",
    "        return(result)\n",
    "    }\n",
    "\"\"\"\n",
    "\n",
    "# Define the mixsqp function in R and call it\n",
    "mixsqp_function = ro.r(mixsqp_code)\n",
    "result = mixsqp_function(r_L)\n",
    "\n",
    "# Display the result\n",
    "print(result)"
   ]
  },
  {
   "cell_type": "code",
   "execution_count": null,
   "metadata": {},
   "outputs": [],
   "source": [
    "pi_init = np.ones(L.shape[1]) / L.shape[1]\n",
    "pi_init\n",
    "\n",
    "np.sum(pi_init *L)\n",
    "np.sum(optimal_pi*L)\n",
    "np.log(optimal_pi+1e-32)"
   ]
  },
  {
   "cell_type": "code",
   "execution_count": null,
   "metadata": {},
   "outputs": [],
   "source": [
    "out= posterior_mean_norm(betahat, sebetahat, log_pi=np.log(optimal_pi+1e-32), scale=scale)\n",
    "print(out.post_mean)"
   ]
  },
  {
   "cell_type": "code",
   "execution_count": null,
   "metadata": {},
   "outputs": [],
   "source": [
    " "
   ]
  }
 ],
 "metadata": {
  "kernelspec": {
   "display_name": "torch_env",
   "language": "python",
   "name": "python3"
  },
  "language_info": {
   "codemirror_mode": {
    "name": "ipython",
    "version": 3
   },
   "file_extension": ".py",
   "mimetype": "text/x-python",
   "name": "python",
   "nbconvert_exporter": "python",
   "pygments_lexer": "ipython3",
   "version": "3.10.16"
  }
 },
 "nbformat": 4,
 "nbformat_minor": 2
}
