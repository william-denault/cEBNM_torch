{
 "cells": [
  {
   "cell_type": "code",
   "execution_count": 2,
   "metadata": {},
   "outputs": [],
   "source": [
    "import numpy as np\n",
    "import math \n",
    "from scipy.stats import norm\n",
    "from scipy.stats import truncnorm\n",
    "import scipy.stats as stats"
   ]
  },
  {
   "cell_type": "code",
   "execution_count": 3,
   "metadata": {},
   "outputs": [],
   "source": [
    "import sys\n",
    "import os\n",
    "\n",
    "# Add the path to utils.py\n",
    "sys.path.append(r\"D:\\Document\\Serieux\\Travail\\python_work\\cEBNM_torch\\py\")\n",
    "sys.path.append(r\"D:\\Document\\Serieux\\Travail\\python_work\\cEBNM_torch\\py\\ebnm_solver\")\n",
    "sys.path.append(r\"D:\\Document\\Serieux\\Travail\\python_work\\cEBNM_torch\\py\\numerical_routine\")\n",
    "\n",
    "# Import utils.py directly\n",
    "from utils import *\n",
    "from numerical_routine import *\n",
    "from distribution_operation import *\n",
    "from posterior_computation import *"
   ]
  },
  {
   "cell_type": "code",
   "execution_count": 4,
   "metadata": {},
   "outputs": [
    {
     "name": "stdout",
     "output_type": "stream",
     "text": [
      "[0.         0.03827328 0.07654655 0.15309311 0.30618622 0.61237244\n",
      " 1.22474487 2.44948974 4.89897949 9.79795897]\n",
      "(5, 10)\n",
      "[[ -1.41893853  -1.41893907  -1.41894705  -1.41907168  -1.42088747\n",
      "   -1.44180176  -1.5770839   -1.96332218  -2.54837645  -3.21144866]\n",
      " [-12.5026478  -12.39380192 -12.07903895 -10.97389398  -8.11500906\n",
      "   -4.34451202  -2.37716661  -2.15265225  -2.59406918  -3.22274394]\n",
      " [ -2.70837645  -2.7083952   -2.70845144  -2.70867638  -2.70957546\n",
      "   -2.71316065  -2.72732222  -2.78109343  -2.95668542  -3.35402389]\n",
      " [ -8.91893853  -8.90796881  -8.87525773  -8.74731596  -8.27803033\n",
      "   -6.89634722  -4.5770839   -3.03475075  -2.84837645  -3.28876825]\n",
      " [-13.41893853 -13.40138666 -13.34904414 -13.14426252 -12.39231604\n",
      "  -10.16907449  -6.3770839   -3.67760789  -3.02837645  -3.33516   ]]\n"
     ]
    }
   ],
   "source": [
    "betahat=  np.array([1,2,3,4,5])\n",
    "sebetahat=np.array([1,0.4,5,1,1])\n",
    "scale = autoselect_scales_mix_norm ( np.array([1,2,3,4,5]),  np.array([1,0.4,5,1,1]))\n",
    "location = 0* scale\n",
    "n=betahat.shape[0]\n",
    "p= scale.shape[0]\n",
    " \n",
    "log_pi =  np.log( np.full( (n, p), 1/scale.shape[0]))\n",
    "print(scale)\n",
    "print(log_pi.shape)\n",
    "\n",
    "convolved_logpdf_normal(betahat[1],sebetahat[1], location,scale)\n",
    "print(get_data_loglik_normal (  betahat,sebetahat, location, scale))\n",
    "#res = posterior_mean_exp(betahat, sebetahat, log_pi, scale)\n",
    "#print(res.post_mean)\n",
    "#print(res.post_mean2)"
   ]
  },
  {
   "cell_type": "code",
   "execution_count": 5,
   "metadata": {},
   "outputs": [
    {
     "name": "stdout",
     "output_type": "stream",
     "text": [
      "[[ -2.0667347   -2.06673523  -2.06674321  -2.06686784  -2.06868363\n",
      "   -2.08959792  -2.22488006  -2.61111834  -3.19617261  -3.85924482]\n",
      " [-11.41455194 -11.30570607 -10.99094309  -9.88579812  -7.0269132\n",
      "   -3.25641616  -1.28907075  -1.06455639  -1.50597332  -2.13464808]\n",
      " [ -2.22020012  -2.22021887  -2.22027512  -2.22050006  -2.22139914\n",
      "   -2.22498433  -2.2391459   -2.2929171   -2.46850909  -2.86584757]\n",
      " [ -7.05746176  -7.04649204  -7.01378096  -6.88583918  -6.41655355\n",
      "   -5.03487044  -2.71560713  -1.17327398  -0.98689967  -1.42729148]\n",
      " [-11.22103348 -11.2034816  -11.15113909 -10.94635747 -10.19441099\n",
      "   -7.97116944  -4.17917885  -1.47970284  -0.83047139  -1.13725495]]\n"
     ]
    }
   ],
   "source": [
    "\n",
    "# Example Usage\n",
    "data_loglik = get_data_loglik_normal (  betahat,sebetahat, location, scale)\n",
    "assignment_loglik = log_pi \n",
    "    \n",
    "res = apply_log_sum_exp(data_loglik, assignment_loglik)\n",
    "print(res)"
   ]
  },
  {
   "cell_type": "code",
   "execution_count": 6,
   "metadata": {},
   "outputs": [
    {
     "name": "stdout",
     "output_type": "stream",
     "text": [
      "[[0.00000000e+00 1.46270112e-03 5.82524272e-03 2.29007634e-02\n",
      "  8.57142857e-02 2.72727273e-01 6.00000000e-01 8.57142857e-01\n",
      "  9.60000000e-01 9.89690722e-01]\n",
      " [0.00000000e+00 1.81444297e-02 7.06547339e-02 2.55536627e-01\n",
      "  7.38916256e-01 1.40186916e+00 1.80722892e+00 1.94805195e+00\n",
      "  1.98675497e+00 1.99667221e+00]\n",
      " [0.00000000e+00 1.75770951e-04 7.02960244e-04 2.80986575e-03\n",
      "  1.12079701e-02 4.43349754e-02 1.69811321e-01 5.80645161e-01\n",
      "  1.46938776e+00 2.38016529e+00]\n",
      " [0.00000000e+00 5.85080449e-03 2.33009709e-02 9.16030534e-02\n",
      "  3.42857143e-01 1.09090909e+00 2.40000000e+00 3.42857143e+00\n",
      "  3.84000000e+00 3.95876289e+00]\n",
      " [0.00000000e+00 7.31350561e-03 2.91262136e-02 1.14503817e-01\n",
      "  4.28571429e-01 1.36363636e+00 3.00000000e+00 4.28571429e+00\n",
      "  4.80000000e+00 4.94845361e+00]]\n",
      "[0.23635376 1.90130825 0.34311694 3.60843288 4.70131272]\n",
      "[ 0.39779246  3.78405223  3.4020959  14.1843412  23.15589264]\n",
      "[0.34192936 0.16907919 3.28436667 1.16355333 1.05355138]\n"
     ]
    }
   ],
   "source": [
    "t_ind_Var =np.zeros((betahat.shape[0], scale.shape[0]))\n",
    " \n",
    "for i in range(t_ind_Var.shape[0]):\n",
    "    t_ind_Var[i , ]= np.concatenate(([0], 1/((1/sebetahat[i]**2)+ (1/scale[1:]**2)) ))#assume that first entry of scale is 0\n",
    "    \n",
    " \n",
    "\n",
    "\n",
    "temp=np.zeros((betahat.shape[0], scale.shape[0]))\n",
    "\n",
    "for i in range(temp.shape[0]):\n",
    "    temp[i,] = (t_ind_Var[i,]/(sebetahat[i]**2))*betahat[i]\n",
    "\n",
    "print(temp)\n",
    "post_mean  = np.sum( np.exp(res)* temp, axis=1)\n",
    "post_mean2 = np.sum( np.exp(res)*( t_ind_Var+ temp**2), axis=1)\n",
    "print(post_mean)\n",
    "print(post_mean2)\n",
    "print(post_mean2-post_mean **2)"
   ]
  },
  {
   "cell_type": "markdown",
   "metadata": {},
   "source": [
    "The first posterior mean and second moment shoulld be 0.2363538 and 0.3977925"
   ]
  },
  {
   "cell_type": "code",
   "execution_count": 7,
   "metadata": {},
   "outputs": [
    {
     "name": "stdout",
     "output_type": "stream",
     "text": [
      "[0.23635376 1.90130825 0.34311694 3.60843288 4.70131272]\n",
      "[ 0.39779246  3.78405223  3.4020959  14.1843412  23.15589264]\n"
     ]
    }
   ],
   "source": [
    "out= posterior_mean_norm(betahat, sebetahat, log_pi, scale)\n",
    "print(out.post_mean)\n",
    "print(out.post_mean2)"
   ]
  },
  {
   "cell_type": "markdown",
   "metadata": {},
   "source": [
    "The first posterior mean and second moment shoulkd be 0.2363538 and 0.3977925"
   ]
  },
  {
   "cell_type": "code",
   "execution_count": 8,
   "metadata": {},
   "outputs": [
    {
     "name": "stdout",
     "output_type": "stream",
     "text": [
      "(10,)\n",
      "(10, 5)\n",
      "[[1.95179041e-01]\n",
      " [7.18024847e-02]\n",
      " [2.64146951e-02]\n",
      " [9.71697530e-03]\n",
      " [3.57329107e-03]\n",
      " [1.34961162e-03]\n",
      " [5.90374744e-04]\n",
      " [2.25913377e-04]\n",
      " [6.60038750e-05]\n",
      " [1.46662010e-05]]\n"
     ]
    }
   ],
   "source": [
    "L= np.exp(data_loglik)\n",
    "n, K = L.shape  # n: number of data points, K: number of components\n",
    "pi =np.exp( - np.arange(0,K) )/ np.sum( np.exp( - np.arange(0,K) ))  # Initialize pi uniformly\n",
    "print(pi.shape)\n",
    "print(L.T.shape)\n",
    "w = w = pi[:, np.newaxis] * L.T  # Now pi is reshaped to (10, 1) for broadcasting\n",
    " \n",
    "\n",
    "print(w.sum(axis=1, keepdims=True))\n",
    "w = w / w.sum(axis=1, keepdims=True)"
   ]
  },
  {
   "cell_type": "code",
   "execution_count": 9,
   "metadata": {},
   "outputs": [
    {
     "name": "stdout",
     "output_type": "stream",
     "text": [
      "10\n",
      "[1.72677602 0.63749231 0.23710904 0.09181195 0.05115029 0.22287135\n",
      " 0.66097632 0.82313638 0.43659911 0.11207723]\n",
      "[10.  1.  1.  1.  1.  1.  1.  1.  1.  1.]\n",
      "[1.6123663  0.09583589 0.0356601  0.01383433 0.00783523 0.05041024\n",
      " 0.5127177  1.52890335 0.97549275 0.16694409]\n",
      "[10.  1.  1.  1.  1.  1.  1.  1.  1.  1.]\n",
      "[1.64135053e+00 1.48233723e-02 5.51687159e-03 2.14232155e-03\n",
      " 1.22430039e-03 1.01582725e-02 2.74156512e-01 1.68822419e+00\n",
      " 1.22429152e+00 1.38112106e-01]\n",
      "[10.  1.  1.  1.  1.  1.  1.  1.  1.  1.]\n",
      "[1.65956116e+00 2.31190199e-03 8.60587367e-04 3.34464955e-04\n",
      " 1.92708353e-04 2.03417575e-03 1.40517316e-01 1.71114990e+00\n",
      " 1.38084127e+00 1.02196517e-01]\n",
      "[10.  1.  1.  1.  1.  1.  1.  1.  1.  1.]\n",
      "[1.66762046e+00 3.61702866e-04 1.34664575e-04 5.23789064e-05\n",
      " 3.04201762e-05 4.07678088e-04 7.15080173e-02 1.68816935e+00\n",
      " 1.49911760e+00 7.25977243e-02]\n",
      "[10.  1.  1.  1.  1.  1.  1.  1.  1.  1.]\n",
      "[1.67175257e+00 5.66866030e-05 2.11084278e-05 8.21672393e-06\n",
      " 4.80979152e-06 8.18344170e-05 3.63670308e-02 1.64505424e+00\n",
      " 1.59616435e+00 5.04891586e-02]\n",
      "[10.  1.  1.  1.  1.  1.  1.  1.  1.  1.]\n",
      "[1.67442653e+00 8.89476502e-06 3.31270636e-06 1.29050977e-06\n",
      " 7.61376185e-07 1.64560579e-05 1.85246151e-02 1.59265233e+00\n",
      " 1.67970709e+00 3.46587186e-02]\n",
      "[10.  1.  1.  1.  1.  1.  1.  1.  1.  1.]\n",
      "[1.67652286e+00 1.39708519e-06 5.20407702e-07 2.02887423e-07\n",
      " 1.20643026e-07 3.31546945e-06 9.46174817e-03 1.53648649e+00\n",
      " 1.75394172e+00 2.35816200e-02]\n",
      "[10.  1.  1.  1.  1.  1.  1.  1.  1.  1.]\n",
      "[1.67837215e+00 2.19636572e-07 8.18271476e-08 3.19256907e-08\n",
      " 1.91337864e-08 6.69325045e-07 4.84906939e-03 1.47954201e+00\n",
      " 1.82129558e+00 1.59401742e-02]\n",
      "[10.  1.  1.  1.  1.  1.  1.  1.  1.  1.]\n",
      "[1.68010154e+00 3.45587769e-08 1.28772383e-08 5.02800900e-09\n",
      " 3.03723123e-09 1.35402650e-07 2.49442137e-03 1.42345628e+00\n",
      " 1.88322798e+00 1.07195877e-02]\n",
      "[10.  1.  1.  1.  1.  1.  1.  1.  1.  1.]\n",
      "[1.68175694e+00 5.44213556e-09 2.02817347e-09 7.92516071e-10\n",
      " 4.82525828e-10 2.74487852e-08 1.28820380e-03 1.36911939e+00\n",
      " 1.94065716e+00 7.17826718e-03]\n",
      "[10.  1.  1.  1.  1.  1.  1.  1.  1.  1.]\n",
      "[1.68335154e+00 8.57678584e-10 3.19691774e-10 1.25015416e-10\n",
      " 7.67215171e-11 5.57594605e-09 6.67925913e-04 1.31699584e+00\n",
      " 1.99419522e+00 4.78947139e-03]\n",
      "[10.  1.  1.  1.  1.  1.  1.  1.  1.  1.]\n",
      "[1.68488636e+00 1.35272864e-10 5.04299635e-11 1.97355437e-11\n",
      " 1.22082964e-11 1.13500148e-09 3.47689374e-04 1.26730250e+00\n",
      " 2.04427793e+00 3.18552370e-03]\n",
      "[10.  1.  1.  1.  1.  1.  1.  1.  1.  1.]\n",
      "[1.68635898e+00 2.13507876e-11 7.96089515e-12 3.11782308e-12\n",
      " 1.94409857e-12 2.31490007e-10 1.81694371e-04 1.22010994e+00\n",
      " 2.09123660e+00 2.11277939e-03]\n",
      "[10.  1.  1.  1.  1.  1.  1.  1.  1.  1.]\n",
      "[1.68776697e+00 3.37223430e-12 1.25759877e-12 4.92881738e-13\n",
      " 3.09795377e-13 4.73038743e-11 9.53084574e-05 1.17540181e+00\n",
      " 2.13533814e+00 1.39776192e-03]\n",
      "[10.  1.  1.  1.  1.  1.  1.  1.  1.  1.]\n",
      "[1.68910906e+00 5.32973739e-13 1.98805172e-13 7.79803653e-14\n",
      " 4.93959547e-14 9.68408530e-12 5.01770949e-05 1.13311047e+00\n",
      " 2.17680767e+00 9.22620994e-04]\n",
      "[10.  1.  1.  1.  1.  1.  1.  1.  1.  1.]\n",
      "[1.69038526e+00 8.42788294e-14 3.14340833e-14 1.23370846e-14\n",
      " 7.86599752e-15 1.98600710e-12 2.65095906e-05 1.09313893e+00\n",
      " 2.21584157e+00 6.07735800e-04]\n",
      "[10.  1.  1.  1.  1.  1.  1.  1.  1.  1.]\n",
      "[1.69159670e+00 1.33521160e-14 4.99028398e-15 1.96948393e-15\n",
      " 1.24090364e-15 4.07968077e-13 1.40527433e-05 1.05537455e+00\n",
      " 2.25261514e+00 3.99563946e-04]\n",
      "[10.  1.  1.  1.  1.  1.  1.  1.  1.  1.]\n",
      "[1.69274531e+00 2.10942116e-15 7.73579686e-16 3.16703048e-16\n",
      " 2.12851360e-16 8.39266148e-14 7.47337148e-06 1.01969766e+00\n",
      " 2.28728731e+00 2.62244873e-04]\n",
      "[10.  1.  1.  1.  1.  1.  1.  1.  1.  1.]\n",
      "[1.69383360e+00 3.16582567e-16 1.05544593e-16 3.52080498e-17\n",
      " 3.54949774e-17 1.72960102e-14 3.98663984e-06 9.85987038e-01\n",
      " 2.32000353e+00 1.71845618e-04]\n",
      "[10.  1.  1.  1.  1.  1.  1.  1.  1.  1.]\n",
      "[7.63845257e-01 1.58603289e-17 0.00000000e+00 0.00000000e+00\n",
      " 0.00000000e+00 1.23710566e-15 2.84759988e-07 7.04276456e-02\n",
      " 1.65714538e-01 1.22746870e-05]\n"
     ]
    }
   ],
   "source": [
    "n, K = L.shape  # n: number of data points, K: number of components\n",
    "print(K)\n",
    "pi =np.exp( - np.arange(0,K) )/ np.sum( np.exp( - np.arange(0,K) ))  # Initialize pi uniformly\n",
    "penalty= np.ones_like(pi)\n",
    "penalty[0]=10\n",
    "tol=1e-10\n",
    "    # EM algorithm iterations\n",
    "for iteration in range(20):\n",
    "        # E-Step: calculate responsibilities (w_kj)\n",
    "        w =  pi[:, np.newaxis] * L.T   # Element-wise multiplication (pi_k * l_kj)\n",
    "        \n",
    "        w = w / w.sum(axis=0, keepdims=True)  # Normalize by sum over k for each j\n",
    "\n",
    "        # M-Step: update pi\n",
    "        print( w.sum(axis=1) )\n",
    "        print(penalty)\n",
    "        n_k = w.sum(axis=1) + penalty - 1  # Apply penalty (S.2.8)\n",
    "        pi_new = n_k / n_k.sum()  # Normalize to make sure sum(pi) = 1 (S.2.9)\n",
    "\n",
    "        # Check for convergence\n",
    "        if np.linalg.norm(pi_new - pi) < tol:\n",
    "            print(f\"Converged after {iteration} iterations.\")\n",
    "            break\n",
    "\n",
    "        # Update pi\n",
    "        pi = pi_new\n",
    "print(pi)"
   ]
  }
 ],
 "metadata": {
  "kernelspec": {
   "display_name": "torch_env",
   "language": "python",
   "name": "python3"
  },
  "language_info": {
   "codemirror_mode": {
    "name": "ipython",
    "version": 3
   },
   "file_extension": ".py",
   "mimetype": "text/x-python",
   "name": "python",
   "nbconvert_exporter": "python",
   "pygments_lexer": "ipython3",
   "version": "3.10.16"
  }
 },
 "nbformat": 4,
 "nbformat_minor": 2
}
