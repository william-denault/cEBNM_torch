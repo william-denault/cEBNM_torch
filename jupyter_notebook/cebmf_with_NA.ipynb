{
 "cells": [
  {
   "cell_type": "code",
   "execution_count": 1,
   "metadata": {},
   "outputs": [
    {
     "name": "stdout",
     "output_type": "stream",
     "text": [
      "Rank-1 Matrix (Outer Product):\n",
      "[[0.03058465 0.01938689 0.08784367 ... 0.04945566 0.00303888 0.01516826]\n",
      " [0.04956158 0.03141591 0.14234823 ... 0.08014153 0.00492443 0.02457974]\n",
      " [0.17895622 0.1134361  0.51398884 ... 0.28937383 0.01778105 0.08875217]\n",
      " ...\n",
      " [0.21902024 0.13883173 0.62905865 ... 0.35415772 0.02176181 0.10862166]\n",
      " [0.25061818 0.15886092 0.71981263 ... 0.40525187 0.02490137 0.12429245]\n",
      " [0.03569355 0.02262529 0.10251717 ... 0.05771679 0.0035465  0.01770198]]\n",
      "\n",
      "Noisy Matrix (with Homoscedastic Noise):\n",
      "[[ 0.14185237  0.04319901  0.02186947 ... -0.00466847 -0.09474386\n",
      "   0.06907314]\n",
      " [-0.07615887 -0.02102712  0.15452135 ... -0.04378429  0.11520309\n",
      "   0.03554141]\n",
      " [ 0.2892867   0.12372196  0.63197336 ...  0.29840895  0.00410331\n",
      "   0.06676927]\n",
      " ...\n",
      " [ 0.24242366  0.10337752  0.61433604 ...  0.2184187   0.21816497\n",
      "   0.04371591]\n",
      " [ 0.17544908  0.0977172   0.58834608 ...  0.54955615 -0.10462094\n",
      "   0.03819793]\n",
      " [ 0.14578078  0.04327755  0.10077365 ... -0.01191075  0.05815646\n",
      "  -0.17118713]]\n"
     ]
    }
   ],
   "source": [
    "import numpy as np\n",
    "from fancyimpute import IterativeSVD\n",
    "# Parameters\n",
    "n, p = 50, 40  # Dimensions of the matrix\n",
    "noise_std = 0.1  # Standard deviation of the homoscedastic noise\n",
    "\n",
    "# Generate two random vectors\n",
    "u = np.random.rand(n)  # Vector of length n\n",
    "v = np.random.rand(p)  # Vector of length p\n",
    "\n",
    "# Create a rank-1 matrix as the outer product of u and v\n",
    "rank_1_matrix = np.outer(u, v)\n",
    "\n",
    "# Add homoscedastic Gaussian noise (constant variance across the matrix)\n",
    "noise = np.random.normal(0, noise_std, size=(n, p))\n",
    "noisy_matrix = rank_1_matrix + noise\n",
    "\n",
    "# Print the original and noisy matrix\n",
    "print(\"Rank-1 Matrix (Outer Product):\")\n",
    "print(rank_1_matrix)\n",
    "print(\"\\nNoisy Matrix (with Homoscedastic Noise):\")\n",
    "print(noisy_matrix)\n"
   ]
  },
  {
   "cell_type": "code",
   "execution_count": 2,
   "metadata": {},
   "outputs": [],
   "source": [
    "import sys\n",
    "import os\n",
    "import matplotlib.pyplot as plt\n",
    "\n",
    "# Add the path to utils.py\n",
    "sys.path.append(r\"c:\\Document\\Serieux\\Travail\\python_work\\cEBNM_torch\\py\")\n",
    "from cEBMF import *"
   ]
  },
  {
   "cell_type": "code",
   "execution_count": 3,
   "metadata": {},
   "outputs": [
    {
     "name": "stdout",
     "output_type": "stream",
     "text": [
      "[IterativeSVD] Iter 1: observed MAE=0.079273\n",
      "[IterativeSVD] Iter 2: observed MAE=0.075423\n",
      "[IterativeSVD] Iter 3: observed MAE=0.068739\n",
      "[IterativeSVD] Iter 4: observed MAE=0.058204\n"
     ]
    }
   ],
   "source": [
    "\n",
    "noisy_matrix[1,1]=np.nan\n",
    "imputed_data = IterativeSVD().fit_transform(noisy_matrix)\n",
    " \n",
    "\n",
    "U, s, Vt = np.linalg.svd(imputed_data , full_matrices=False)\n",
    " \n",
    "\n",
    "mycebmf= cEBMF(data= noisy_matrix)\n",
    "K=5"
   ]
  },
  {
   "cell_type": "code",
   "execution_count": 4,
   "metadata": {},
   "outputs": [
    {
     "name": "stdout",
     "output_type": "stream",
     "text": [
      "5\n"
     ]
    }
   ],
   "source": [
    "K = np.min([K, U.shape[1]])\n",
    "print(K)"
   ]
  },
  {
   "cell_type": "code",
   "execution_count": 5,
   "metadata": {},
   "outputs": [
    {
     "name": "stdout",
     "output_type": "stream",
     "text": [
      "The array contains missing values (NaN), generate initialization using iterive svd.\n",
      "[IterativeSVD] Iter 1: observed MAE=0.079273\n",
      "[IterativeSVD] Iter 2: observed MAE=0.075423\n",
      "[IterativeSVD] Iter 3: observed MAE=0.068739\n",
      "[IterativeSVD] Iter 4: observed MAE=0.058204\n",
      "[-0.08495955  0.10084559  0.13837474 -0.13421432  0.0057472  -0.16367765\n",
      "  0.21828804  0.11259871  0.27658039 -0.08003339  0.16483254  0.06321466\n",
      " -0.13025633 -0.11125663 -0.11601978  0.39663434  0.24675812 -0.22381624\n",
      " -0.28044558  0.23820234 -0.1444668  -0.25525946 -0.0766346  -0.23483304\n",
      " -0.12394772  0.49652086  0.14500522  0.06715288 -0.23872328 -0.06450816\n",
      "  0.05900602 -0.23867339 -0.01893083  0.08192301 -0.08698723  0.07180735\n",
      " -0.11516868 -0.15956455 -0.32602382 -0.19876513  0.29736122  0.0424861\n",
      "  0.07687061 -0.18069065 -0.04082741  0.26680672  0.3107957   0.2898835\n",
      " -0.05612172 -0.148786  ]\n",
      "[ 0.10310313  0.02001036  0.1906334   0.24578828  0.06790411 -0.1417842\n",
      " -0.13661824  0.02406    -0.10143507 -0.22248904 -0.04078622  0.08740178\n",
      "  0.26246673  0.04676706  0.08223939 -0.08980003  0.06615416 -0.12048641\n",
      " -0.04014067 -0.11433224  0.1764339  -0.20255565 -0.39706463  0.01659638\n",
      " -0.22778655 -0.11822667  0.07082605  0.03287915  0.17795231  0.11005024\n",
      "  0.39127999 -0.025941   -0.17127711  0.05556405  0.05772921 -0.06667154\n",
      " -0.21756719 -0.2056662   0.13364424 -0.11128536]\n",
      "5\n"
     ]
    }
   ],
   "source": [
    "mycebmf.init_LF()\n",
    "print(mycebmf.L[:,1])\n",
    "print(mycebmf.F[:,1])\n",
    "print(mycebmf.K)"
   ]
  },
  {
   "cell_type": "code",
   "execution_count": 6,
   "metadata": {},
   "outputs": [
    {
     "name": "stdout",
     "output_type": "stream",
     "text": [
      "[[1.69321023e-02 1.07939590e-03 1.38734552e-03 ... 1.64756280e-03\n",
      "  9.27659834e-03 1.22832228e-03]\n",
      " [8.85858987e-03            nan 2.49552490e-07 ... 3.72098477e-03\n",
      "  2.20822746e-03 4.29839455e-03]\n",
      " [1.20995825e-02 1.55654501e-03 2.87128250e-02 ... 9.78189969e-04\n",
      "  9.24456096e-03 4.14998287e-06]\n",
      " ...\n",
      " [5.40633698e-04 6.03535172e-04 4.23298202e-03 ... 2.33744943e-03\n",
      "  7.14160175e-03 2.15438616e-04]\n",
      " [1.19334999e-02 2.49382946e-02 2.28494256e-03 ... 2.87778535e-03\n",
      "  2.76177420e-03 1.00579782e-03]\n",
      " [1.00439057e-02 1.39304253e-02 6.05949732e-04 ... 6.64482997e-04\n",
      "  1.47459828e-03 1.40665149e-02]]\n"
     ]
    }
   ],
   "source": [
    "\n",
    "self=  mycebmf\n",
    "K= self.K          \n",
    "            # When K>1, sum the outer products across all K components\n",
    "prod_square_firstmom = np.sum(\n",
    "                [np.outer(self.L[:, k] ** 2, self.F[:, k].T ** 2) for k in range(self.K)], axis=0\n",
    "    )\n",
    "prod_sectmom = np.sum(\n",
    "                [np.outer(self.L2[:, k], self.F2[:, k]) for k in range(self.K)], axis=0\n",
    "            )\n",
    "\n",
    "self.update_fitted_val()  # Update fitted values Y_fit\n",
    "\n",
    "        # Compute R2 as per the formula\n",
    "R2 = (self.data- self.Y_fit) ** 2 - prod_square_firstmom + prod_sectmom\n",
    "\n",
    " \n",
    "print(R2)"
   ]
  },
  {
   "cell_type": "code",
   "execution_count": 7,
   "metadata": {},
   "outputs": [
    {
     "data": {
      "text/plain": [
       "array([[145.82467277, 145.82467277, 145.82467277, ..., 145.82467277,\n",
       "        145.82467277, 145.82467277],\n",
       "       [145.82467277, 145.82467277, 145.82467277, ..., 145.82467277,\n",
       "        145.82467277, 145.82467277],\n",
       "       [145.82467277, 145.82467277, 145.82467277, ..., 145.82467277,\n",
       "        145.82467277, 145.82467277],\n",
       "       ...,\n",
       "       [145.82467277, 145.82467277, 145.82467277, ..., 145.82467277,\n",
       "        145.82467277, 145.82467277],\n",
       "       [145.82467277, 145.82467277, 145.82467277, ..., 145.82467277,\n",
       "        145.82467277, 145.82467277],\n",
       "       [145.82467277, 145.82467277, 145.82467277, ..., 145.82467277,\n",
       "        145.82467277, 145.82467277]])"
      ]
     },
     "execution_count": 7,
     "metadata": {},
     "output_type": "execute_result"
    }
   ],
   "source": [
    "R2 = self.cal_expected_residuals()\n",
    "self.tau = np.full(self.data.shape, 1 / np.nanmean(R2))\n",
    "self.tau"
   ]
  },
  {
   "cell_type": "code",
   "execution_count": 8,
   "metadata": {},
   "outputs": [],
   "source": [
    "self.cal_partial_residuals(k=1)\n",
    "k=1\n",
    "lhat , s_l  = compute_hat_l_and_s_l(Z = self.Rk,\n",
    "                                                            nu = self.F[:,k] ,\n",
    "                                                            omega= self.F2[:,k], \n",
    "                                                            tau= self.tau  )"
   ]
  },
  {
   "cell_type": "code",
   "execution_count": 9,
   "metadata": {},
   "outputs": [],
   "source": [
    "Z = self.Rk\n",
    "nu = self.F[:,k]\n",
    "omega= self.F2[:,k]\n",
    "tau= self.tau  "
   ]
  },
  {
   "cell_type": "code",
   "execution_count": 10,
   "metadata": {},
   "outputs": [
    {
     "name": "stdout",
     "output_type": "stream",
     "text": [
      "[-12.38919855  14.74836762  20.17845064 -19.5717588    0.83808293\n",
      " -23.86823984  31.83178243  16.41966971  40.33224499 -11.67084294\n",
      "  24.03665106   9.21825727 -18.99458687 -16.22396184 -16.91854654\n",
      "  57.83907285  35.98342221 -32.63793    -40.8958849   34.73577799\n",
      " -21.06682317 -37.22312787 -11.17521495 -34.24445114 -18.07463591\n",
      "  72.40499143  21.14533872   9.79254603 -34.81174441  -9.40688141\n",
      "   8.60453327 -34.80446909  -2.76058227  11.94639624 -12.68488489\n",
      "  10.47128361 -16.79443495 -23.26844785 -47.5423169  -28.98485982\n",
      "  43.36260215   6.19552136  11.20963186 -26.34915424  -5.95364373\n",
      "  38.90700308  45.32168145  42.27216696  -8.18393123 -21.69667047]\n",
      "[145.82467277 145.76628247 145.82467277 145.82467277 145.82467277\n",
      " 145.82467277 145.82467277 145.82467277 145.82467277 145.82467277\n",
      " 145.82467277 145.82467277 145.82467277 145.82467277 145.82467277\n",
      " 145.82467277 145.82467277 145.82467277 145.82467277 145.82467277\n",
      " 145.82467277 145.82467277 145.82467277 145.82467277 145.82467277\n",
      " 145.82467277 145.82467277 145.82467277 145.82467277 145.82467277\n",
      " 145.82467277 145.82467277 145.82467277 145.82467277 145.82467277\n",
      " 145.82467277 145.82467277 145.82467277 145.82467277 145.82467277\n",
      " 145.82467277 145.82467277 145.82467277 145.82467277 145.82467277\n",
      " 145.82467277 145.82467277 145.82467277 145.82467277 145.82467277]\n"
     ]
    }
   ],
   "source": [
    "# Mask to ignore nan entries in Z\n",
    "Z_filled = np.nan_to_num(Z, nan=0)\n",
    "# Set tau to 0 wherever Z has nan values\n",
    "mask_nan_Z = np.isnan(Z)\n",
    "tau_spiked = np.copy(tau)  # Make a copy of tau to modify\n",
    "tau_spiked[mask_nan_Z] = 0\n",
    "\n",
    "# Now perform the computation with filled arrays\n",
    "numerator_l_hat = np.sum(tau_spiked * Z_filled * nu, axis=1)\n",
    "denominator_l_hat = np.sum(tau_spiked  * omega , axis=1)+1e-32\n",
    "print(numerator_l_hat  )\n",
    "print(denominator_l_hat  )"
   ]
  },
  {
   "cell_type": "code",
   "execution_count": 11,
   "metadata": {},
   "outputs": [
    {
     "data": {
      "text/plain": [
       "array([-12.38919855,          nan,  20.17845064, -19.5717588 ,\n",
       "         0.83808293, -23.86823984,  31.83178243,  16.41966971,\n",
       "        40.33224499, -11.67084294,  24.03665106,   9.21825727,\n",
       "       -18.99458687, -16.22396184, -16.91854654,  57.83907285,\n",
       "        35.98342221, -32.63793   , -40.8958849 ,  34.73577799,\n",
       "       -21.06682317, -37.22312787, -11.17521495, -34.24445114,\n",
       "       -18.07463591,  72.40499143,  21.14533872,   9.79254603,\n",
       "       -34.81174441,  -9.40688141,   8.60453327, -34.80446909,\n",
       "        -2.76058227,  11.94639624, -12.68488489,  10.47128361,\n",
       "       -16.79443495, -23.26844785, -47.5423169 , -28.98485982,\n",
       "        43.36260215,   6.19552136,  11.20963186, -26.34915424,\n",
       "        -5.95364373,  38.90700308,  45.32168145,  42.27216696,\n",
       "        -8.18393123, -21.69667047])"
      ]
     },
     "execution_count": 11,
     "metadata": {},
     "output_type": "execute_result"
    }
   ],
   "source": [
    "Z = self.Rk\n",
    "nu = self.F[:,k]\n",
    "omega= self.F2[:,k]\n",
    "tau= self.tau \n",
    "\n",
    "# Mask to ignore nan entries in Z\n",
    "# Mask to ignore nan entries in Z\n",
    "mask = ~np.isnan(Z)\n",
    "\n",
    "# For numerator_l_hat, ignore Z where it is nan\n",
    "numerator_l_hat = np.sum(tau * Z * nu, axis=1)\n",
    "numerator_l_hat\n",
    "denominator_l_hat = np.sum(tau  * omega, axis=1)+1e-32\n",
    "denominator_l_hat \n",
    "tt= compute_hat_l_and_s_l(Z, nu , omega, tau  )\n",
    "np.sum(tau  * Z* mask * nu , axis=1)\n"
   ]
  },
  {
   "cell_type": "code",
   "execution_count": 12,
   "metadata": {},
   "outputs": [
    {
     "data": {
      "text/plain": [
       "array([0.01063026, 0.00040041, 0.03634109, 0.06041188, 0.00461097,\n",
       "       0.02010276, 0.01866454, 0.00057888, 0.01028907, 0.04950137,\n",
       "       0.00166352, 0.00763907, 0.06888878, 0.00218716, 0.00676332,\n",
       "       0.00806405, 0.00437637, 0.01451697, 0.00161127, 0.01307186,\n",
       "       0.03112892, 0.04102879, 0.15766032, 0.00027544, 0.05188671,\n",
       "       0.01397755, 0.00501633, 0.00108104, 0.03166702, 0.01211106,\n",
       "       0.15310003, 0.00067294, 0.02933585, 0.00308736, 0.00333266,\n",
       "       0.00444509, 0.04733548, 0.04229859, 0.01786078, 0.01238443])"
      ]
     },
     "execution_count": 12,
     "metadata": {},
     "output_type": "execute_result"
    }
   ],
   "source": [
    "omega"
   ]
  },
  {
   "cell_type": "code",
   "execution_count": null,
   "metadata": {},
   "outputs": [],
   "source": []
  },
  {
   "cell_type": "code",
   "execution_count": 13,
   "metadata": {},
   "outputs": [
    {
     "data": {
      "text/plain": [
       "<matplotlib.collections.PathCollection at 0x251a15b0450>"
      ]
     },
     "execution_count": 13,
     "metadata": {},
     "output_type": "execute_result"
    },
    {
     "data": {
      "image/png": "[encoded data removed]",
      "text/plain": [
       "<Figure size 640x480 with 1 Axes>"
      ]
     },
     "metadata": {},
     "output_type": "display_data"
    }
   ],
   "source": [
    "mycebmf.update_fitted_val()\n",
    "U_k = U[:, :K]\n",
    "D_k = np.diag(s[:K])\n",
    "V_k = Vt[:K, :]\n",
    "L = np.matmul(U_k,  D_k)\n",
    "F =V_k.T\n",
    " \n",
    "plt.scatter(mycebmf.Y_fit , np.sum( [np.outer(    L[:, k]  ,   F[:, k]    ) for k in range(  K)], axis=0) )"
   ]
  },
  {
   "cell_type": "markdown",
   "metadata": {},
   "source": [
    "check partial residual is good, seems fine"
   ]
  },
  {
   "cell_type": "code",
   "execution_count": 14,
   "metadata": {},
   "outputs": [
    {
     "data": {
      "text/plain": [
       "<matplotlib.collections.PathCollection at 0x251a15f2650>"
      ]
     },
     "execution_count": 14,
     "metadata": {},
     "output_type": "execute_result"
    },
    {
     "data": {
      "image/png": "[encoded data removed]",
      "text/plain": [
       "<Figure size 640x480 with 1 Axes>"
      ]
     },
     "metadata": {},
     "output_type": "display_data"
    }
   ],
   "source": [
    "mycebmf.cal_partial_residuals(k=0)\n",
    "mycebmf.update_fitted_val()\n",
    "idx_loop = set(range(5))-{0}\n",
    "Rk= noisy_matrix-np.sum( [np.outer(  mycebmf.L[:, j]  ,  mycebmf.F[:, j]    ) for j in  idx_loop], axis=0)\n",
    "plt.scatter (mycebmf.Rk, Rk)\n",
    "plt.scatter( mycebmf.Rk, \n",
    "            noisy_matrix- np.sum( [np.outer(    L[:, k]  ,   F[:, k]    ) for k in set(range(  K))-{0}], axis=0)\n",
    "            )"
   ]
  },
  {
   "cell_type": "markdown",
   "metadata": {},
   "source": [
    "check if update works"
   ]
  },
  {
   "cell_type": "code",
   "execution_count": 15,
   "metadata": {},
   "outputs": [
    {
     "data": {
      "text/plain": [
       "array([[145.82467277, 145.82467277, 145.82467277, ..., 145.82467277,\n",
       "        145.82467277, 145.82467277],\n",
       "       [145.82467277, 145.82467277, 145.82467277, ..., 145.82467277,\n",
       "        145.82467277, 145.82467277],\n",
       "       [145.82467277, 145.82467277, 145.82467277, ..., 145.82467277,\n",
       "        145.82467277, 145.82467277],\n",
       "       ...,\n",
       "       [145.82467277, 145.82467277, 145.82467277, ..., 145.82467277,\n",
       "        145.82467277, 145.82467277],\n",
       "       [145.82467277, 145.82467277, 145.82467277, ..., 145.82467277,\n",
       "        145.82467277, 145.82467277],\n",
       "       [145.82467277, 145.82467277, 145.82467277, ..., 145.82467277,\n",
       "        145.82467277, 145.82467277]])"
      ]
     },
     "execution_count": 15,
     "metadata": {},
     "output_type": "execute_result"
    }
   ],
   "source": [
    "mycebmf.update_tau()\n",
    "mycebmf.tau"
   ]
  },
  {
   "cell_type": "code",
   "execution_count": 16,
   "metadata": {},
   "outputs": [
    {
     "name": "stdout",
     "output_type": "stream",
     "text": [
      "(50, 12)\n",
      "(40, 12)\n"
     ]
    }
   ],
   "source": [
    " \n",
    "mycebmf.update_loading_factor_k(k=0)"
   ]
  },
  {
   "cell_type": "code",
   "execution_count": 32,
   "metadata": {},
   "outputs": [
    {
     "name": "stdout",
     "output_type": "stream",
     "text": [
      "(50, 12)\n",
      "(40, 12)\n",
      "(50, 5)\n",
      "(40, 5)\n",
      "(50, 5)\n",
      "(40, 5)\n",
      "(50, 5)\n",
      "(40, 5)\n",
      "(50, 5)\n",
      "(40, 5)\n"
     ]
    },
    {
     "data": {
      "text/plain": [
       "<matplotlib.collections.PathCollection at 0x251a43b9a10>"
      ]
     },
     "execution_count": 32,
     "metadata": {},
     "output_type": "execute_result"
    },
    {
     "data": {
      "image/png": "[encoded data removed]",
      "text/plain": [
       "<Figure size 640x480 with 1 Axes>"
      ]
     },
     "metadata": {},
     "output_type": "display_data"
    }
   ],
   "source": [
    "mycebmf.iter()\n",
    "mycebmf.update_fitted_val()\n",
    "plt.scatter(mycebmf.Y_fit, noisy_matrix)\n",
    " \n",
    "plt.scatter(mycebmf.Y_fit, rank_1_matrix)\n",
    "\n",
    "plt.scatter(np.outer(mycebmf.L[:,0],mycebmf.F[:,0] ), rank_1_matrix)"
   ]
  },
  {
   "cell_type": "code",
   "execution_count": 33,
   "metadata": {},
   "outputs": [
    {
     "data": {
      "text/plain": [
       "<matplotlib.collections.PathCollection at 0x251a44abb90>"
      ]
     },
     "execution_count": 35,
     "metadata": {},
     "output_type": "execute_result"
    },
    {
     "data": {
      "image/png": "[encoded data removed]",
      "text/plain": [
       "<Figure size 640x480 with 1 Axes>"
      ]
     },
     "metadata": {},
     "output_type": "display_data"
    }
   ],
   "source": [
    "plt.scatter(mycebmf.L[:,0], u)"
   ]
  },
  {
   "cell_type": "code",
   "execution_count": 34,
   "metadata": {},
   "outputs": [
    {
     "data": {
      "text/plain": [
       "<matplotlib.collections.PathCollection at 0x251a2f4b490>"
      ]
     },
     "execution_count": 34,
     "metadata": {},
     "output_type": "execute_result"
    },
    {
     "data": {
      "image/png": "[encoded data removed]",
      "text/plain": [
       "<Figure size 640x480 with 1 Axes>"
      ]
     },
     "metadata": {},
     "output_type": "display_data"
    }
   ],
   "source": [
    "plt.scatter(mycebmf.F[:,0], v)"
   ]
  },
  {
   "cell_type": "code",
   "execution_count": 36,
   "metadata": {},
   "outputs": [
    {
     "data": {
      "text/plain": [
       "array([-8.10122528e-62,  7.82855906e-62,  1.21009601e-61, -1.24813898e-61,\n",
       "        8.18333845e-63, -1.66663446e-61,  1.98726393e-61,  1.00095448e-61,\n",
       "        2.49810525e-61, -7.09018120e-62,  1.39543483e-61,  6.27318600e-62,\n",
       "       -1.12304091e-61, -7.92678922e-62, -1.03332033e-61,  3.64294204e-61,\n",
       "        2.17299014e-61, -2.05808544e-61, -2.45821959e-61,  2.38357200e-61,\n",
       "       -1.40185807e-61, -2.31851653e-61, -8.96689076e-62, -2.23367983e-61,\n",
       "       -1.04874119e-61,  4.60642189e-61,  1.37909599e-61,  6.33750362e-62,\n",
       "       -2.52347048e-61, -5.69433489e-62,  5.35148779e-62, -1.91718205e-61,\n",
       "        7.63256115e-63,  7.59860846e-62, -8.55582555e-62,  7.36207331e-62,\n",
       "       -1.00569109e-61, -1.37404437e-61, -2.89931271e-61, -1.84160522e-61,\n",
       "        2.83490116e-61,  3.20634092e-62,  8.14942255e-62, -1.63524289e-61,\n",
       "       -3.32682414e-62,  2.22616229e-61,  2.68821026e-61,  2.40574076e-61,\n",
       "       -2.68795194e-62, -1.46800328e-61])"
      ]
     },
     "execution_count": 36,
     "metadata": {},
     "output_type": "execute_result"
    }
   ],
   "source": [
    "mycebmf.L[:,1]"
   ]
  }
 ],
 "metadata": {
  "kernelspec": {
   "display_name": "ml",
   "language": "python",
   "name": "python3"
  },
  "language_info": {
   "codemirror_mode": {
    "name": "ipython",
    "version": 3
   },
   "file_extension": ".py",
   "mimetype": "text/x-python",
   "name": "python",
   "nbconvert_exporter": "python",
   "pygments_lexer": "ipython3",
   "version": "3.11.7"
  }
 },
 "nbformat": 4,
 "nbformat_minor": 2
}
