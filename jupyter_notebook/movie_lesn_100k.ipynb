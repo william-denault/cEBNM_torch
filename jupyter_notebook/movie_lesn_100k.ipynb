{
 "cells": [
  {
   "cell_type": "code",
   "execution_count": 1,
   "metadata": {},
   "outputs": [
    {
     "ename": "ModuleNotFoundError",
     "evalue": "No module named 'surprise'",
     "output_type": "error",
     "traceback": [
      "\u001b[1;31m---------------------------------------------------------------------------\u001b[0m",
      "\u001b[1;31mModuleNotFoundError\u001b[0m                       Traceback (most recent call last)",
      "Cell \u001b[1;32mIn[1], line 3\u001b[0m\n\u001b[0;32m      1\u001b[0m \u001b[38;5;28;01mimport\u001b[39;00m \u001b[38;5;21;01mnumpy\u001b[39;00m \u001b[38;5;28;01mas\u001b[39;00m \u001b[38;5;21;01mnp\u001b[39;00m\n\u001b[0;32m      2\u001b[0m \u001b[38;5;28;01mimport\u001b[39;00m \u001b[38;5;21;01mpandas\u001b[39;00m \u001b[38;5;28;01mas\u001b[39;00m \u001b[38;5;21;01mpd\u001b[39;00m\n\u001b[1;32m----> 3\u001b[0m \u001b[38;5;28;01mfrom\u001b[39;00m \u001b[38;5;21;01msurprise\u001b[39;00m \u001b[38;5;28;01mimport\u001b[39;00m Dataset\n\u001b[0;32m      4\u001b[0m \u001b[38;5;28;01mfrom\u001b[39;00m \u001b[38;5;21;01msurprise\u001b[39;00m\u001b[38;5;21;01m.\u001b[39;00m\u001b[38;5;21;01mmodel_selection\u001b[39;00m \u001b[38;5;28;01mimport\u001b[39;00m train_test_split\n\u001b[0;32m      5\u001b[0m \u001b[38;5;28;01mfrom\u001b[39;00m \u001b[38;5;21;01msklearn\u001b[39;00m\u001b[38;5;21;01m.\u001b[39;00m\u001b[38;5;21;01mimpute\u001b[39;00m \u001b[38;5;28;01mimport\u001b[39;00m SimpleImputer\n",
      "\u001b[1;31mModuleNotFoundError\u001b[0m: No module named 'surprise'"
     ]
    }
   ],
   "source": [
    "import numpy as np\n",
    "import pandas as pd\n",
    "from surprise import Dataset\n",
    "from surprise.model_selection import train_test_split\n",
    "from sklearn.impute import SimpleImputer\n",
    "from sklearn.decomposition import TruncatedSVD\n",
    "from sklearn.metrics import mean_squared_error\n",
    "from math import sqrt\n",
    "\n",
    "# Step 1: Load the MovieLens 100k dataset\n",
    "data = Dataset.load_builtin('ml-100k')\n",
    "trainset = data.build_full_trainset()\n",
    "\n",
    "# Convert Surprise trainset to a pandas DataFrame\n",
    "raw_ratings = np.array(trainset.all_ratings())\n",
    "ratings_df = pd.DataFrame(raw_ratings, columns=['user_id', 'item_id', 'rating'])\n",
    "ratings_matrix = ratings_df.pivot(index='user_id', columns='item_id', values='rating')\n",
    "\n",
    "# Step 2: Remove 20% of the data to simulate missing entries\n",
    "missing_mask = np.random.rand(*ratings_matrix.shape) < 0.2\n",
    "ratings_with_missing = ratings_matrix.mask(missing_mask)\n",
    "\n",
    "# Store the actual missing entries to calculate RMSE later\n",
    "actual_missing = ratings_matrix[missing_mask]\n",
    "\n",
    "# Step 3: Impute missing values using SVD\n",
    "# Fill the missing values using the mean of each user (or movie)\n",
    "imputer = SimpleImputer(strategy='mean')\n",
    "ratings_filled = imputer.fit_transform(ratings_with_missing)\n",
    "\n",
    "# Apply SVD (Matrix Factorization)\n",
    "svd = TruncatedSVD(n_components=20, random_state=42)\n",
    "U = svd.fit_transform(ratings_filled)\n",
    "Sigma = svd.singular_values_\n",
    "Vt = svd.components_\n",
    "\n",
    "# Reconstruct the matrix\n",
    "ratings_imputed = np.dot(U, np.dot(np.diag(Sigma), Vt))\n",
    "\n",
    "# Step 4: Calculate RMSE for the missing entries\n",
    "imputed_missing = ratings_imputed[missing_mask]\n",
    "rmse = sqrt(mean_squared_error(actual_missing, imputed_missing))\n",
    "print(f'RMSE after SVD-based imputation: {rmse:.4f}')\n"
   ]
  }
 ],
 "metadata": {
  "kernelspec": {
   "display_name": "ml",
   "language": "python",
   "name": "python3"
  },
  "language_info": {
   "codemirror_mode": {
    "name": "ipython",
    "version": 3
   },
   "file_extension": ".py",
   "mimetype": "text/x-python",
   "name": "python",
   "nbconvert_exporter": "python",
   "pygments_lexer": "ipython3",
   "version": "3.11.7"
  }
 },
 "nbformat": 4,
 "nbformat_minor": 2
}
