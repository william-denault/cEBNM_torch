{
 "cells": [
  {
   "cell_type": "code",
   "execution_count": 2,
   "metadata": {},
   "outputs": [],
   "source": [
    "import numpy as np\n",
    "from scipy.stats import norm\n",
    "import sys\n",
    "import os\n",
    "import matplotlib.pyplot as plt\n",
    "\n"
   ]
  },
  {
   "cell_type": "code",
   "execution_count": 3,
   "metadata": {},
   "outputs": [],
   "source": [
    " # Add the path to utils.py\n",
    "sys.path.append(r\"C:\\Document\\Serieux\\Travail\\python_work\\cEBNM_torch\\py\")\n",
    "sys.path.append(r\"C:\\Document\\Serieux\\Travail\\python_work\\cEBNM_torch\\py\\ebnm_solver\")\n",
    "sys.path.append(r\"C:\\Document\\Serieux\\Travail\\python_work\\cEBNM_torch\\py\\numerical_routine\")\n",
    "from numerical_routine import *\n",
    "from scipy.stats import norm\n",
    "from ebnm_point_exp import *\n",
    "import numpy as np"
   ]
  },
  {
   "cell_type": "code",
   "execution_count": 4,
   "metadata": {},
   "outputs": [
    {
     "name": "stderr",
     "output_type": "stream",
     "text": [
      "C:\\Document\\Serieux\\Travail\\python_work\\cEBNM_torch\\py\\numerical_routine.py:87: RuntimeWarning: invalid value encountered in multiply\n",
      "  alpha_frac = alpha * np.exp( np.clip(stats.norm.logpdf(alpha) - pnorm_diff, None, 300))\n"
     ]
    }
   ],
   "source": [
    "true_val1=  np.random.normal(loc=0, scale=1, size=100)\n",
    "true_val0=  np.zeros( 200)\n",
    "\n",
    "observations_mu_1 =true_val1+np.random.normal(loc=0, scale=1, size=100)\n",
    "observations_mu_0 =true_val0+ np.random.normal(loc=0, scale=1, size=200)\n",
    "# Combine them into one array\n",
    "betahat = np.hstack([observations_mu_1, observations_mu_0])\n",
    "sebetahat=  np.repeat(1, betahat.shape[0])\n",
    "res=ebnm_point_exp_solver(x=betahat, s=sebetahat)\n",
    " "
   ]
  },
  {
   "cell_type": "code",
   "execution_count": 5,
   "metadata": {},
   "outputs": [
    {
     "data": {
      "text/plain": [
       "array([3.74331915e-07, 3.71890753e-07, 3.72665043e-07, 3.73906643e-07,\n",
       "       3.74455704e-07, 3.71356356e-07, 3.72239963e-07, 3.70640948e-07,\n",
       "       3.72056856e-07, 3.73784154e-07, 3.72109181e-07, 3.71919687e-07,\n",
       "       3.71760157e-07, 3.73390136e-07, 3.72810359e-07, 3.72946063e-07,\n",
       "       3.70612316e-07, 3.72666225e-07, 3.71763293e-07, 3.71834060e-07,\n",
       "       3.72461988e-07, 3.71459316e-07, 3.75208535e-07, 3.71150564e-07,\n",
       "       3.72534292e-07, 3.71513282e-07, 3.71633939e-07, 3.73393224e-07,\n",
       "       3.72344639e-07, 3.71919793e-07, 3.72807551e-07, 3.71858571e-07,\n",
       "       3.72659327e-07, 3.69900568e-07, 3.72420971e-07, 3.72036482e-07,\n",
       "       3.72610136e-07, 3.71814705e-07, 3.72258300e-07, 3.72866647e-07,\n",
       "       3.70983120e-07, 3.72847265e-07, 3.71747628e-07, 3.70868347e-07,\n",
       "       3.72325198e-07, 3.72378766e-07, 3.73612839e-07, 3.70786372e-07,\n",
       "       3.73300327e-07, 3.73340149e-07, 3.74065256e-07, 3.70063842e-07,\n",
       "       3.71897808e-07, 3.72239108e-07, 3.71789301e-07, 3.72894804e-07,\n",
       "       3.73018525e-07, 3.72082091e-07, 3.72997987e-07, 3.72825466e-07,\n",
       "       3.72951492e-07, 3.72564354e-07, 3.73411386e-07, 3.72868500e-07,\n",
       "       3.72478707e-07, 3.72017456e-07, 3.71772358e-07, 3.72409400e-07,\n",
       "       3.73438825e-07, 3.71477240e-07, 3.70144349e-07, 3.73737940e-07,\n",
       "       3.71266349e-07, 3.73081296e-07, 3.71786806e-07, 3.71765920e-07,\n",
       "       3.72793909e-07, 3.73970081e-07, 3.72644255e-07, 3.72458271e-07,\n",
       "       3.72329083e-07, 3.70011812e-07, 3.71462623e-07, 3.73380451e-07,\n",
       "       3.73903972e-07, 3.72195668e-07, 3.73537779e-07, 3.73806255e-07,\n",
       "       3.71451756e-07, 3.69648101e-07, 3.71727825e-07, 3.72273411e-07,\n",
       "       3.72044105e-07, 3.72841298e-07, 3.71444828e-07, 3.71554922e-07,\n",
       "       3.74144778e-07, 3.72843513e-07, 3.72766868e-07, 3.70806386e-07,\n",
       "       3.72750931e-07, 3.72331360e-07, 3.71736997e-07, 3.71890865e-07,\n",
       "       3.72617597e-07, 3.72358301e-07, 3.72886038e-07, 3.71133689e-07,\n",
       "       3.71703640e-07, 3.71518219e-07, 3.72269438e-07, 3.71162677e-07,\n",
       "       3.71691820e-07, 3.71065907e-07, 3.71614905e-07, 3.73490551e-07,\n",
       "       3.72299663e-07, 3.72277951e-07, 3.72776029e-07, 3.70771267e-07,\n",
       "       3.74057985e-07, 3.72606656e-07, 3.72464100e-07, 3.72028272e-07,\n",
       "       3.71469360e-07, 3.71967832e-07, 3.72490721e-07, 3.72852618e-07,\n",
       "       3.72685020e-07, 3.71478155e-07, 3.71792895e-07, 3.73095805e-07,\n",
       "       3.71132361e-07, 3.72231602e-07, 3.72188131e-07, 3.71812508e-07,\n",
       "       3.71474941e-07, 3.71761439e-07, 3.71842392e-07, 3.72781128e-07,\n",
       "       3.73442361e-07, 3.72140139e-07, 3.72035130e-07, 3.71984969e-07,\n",
       "       3.72886540e-07, 3.71948201e-07, 3.72316245e-07, 3.70392240e-07,\n",
       "       3.72557882e-07, 3.71841901e-07, 3.72467079e-07, 3.71506543e-07,\n",
       "       3.72969182e-07, 3.71708601e-07, 3.72174870e-07, 3.73103282e-07,\n",
       "       3.71836255e-07, 3.72002709e-07, 3.70208985e-07, 3.72533435e-07,\n",
       "       3.72888480e-07, 3.71983298e-07, 3.73400282e-07, 3.71990870e-07,\n",
       "       3.71679014e-07, 3.72637159e-07, 3.73483403e-07, 3.71960669e-07,\n",
       "       3.71962577e-07, 3.73044537e-07, 3.71894309e-07, 3.72097826e-07,\n",
       "       3.71950907e-07, 3.72689368e-07, 3.73012447e-07, 3.73041225e-07,\n",
       "       3.71128675e-07, 3.72109878e-07, 3.73041901e-07, 3.72661020e-07,\n",
       "       3.71851906e-07, 3.72942172e-07, 3.72408558e-07, 3.73113315e-07,\n",
       "       3.72806836e-07, 3.72843764e-07, 3.72082936e-07, 3.71434188e-07,\n",
       "       3.72682286e-07, 3.71753699e-07, 3.71829478e-07, 3.72884692e-07,\n",
       "       3.71424566e-07, 3.72635919e-07, 3.73109853e-07, 3.73257416e-07,\n",
       "       3.73449835e-07, 3.72745638e-07, 3.72940335e-07, 3.71763528e-07,\n",
       "       3.73639997e-07, 3.72531987e-07, 3.72063494e-07, 3.71194876e-07,\n",
       "       3.72083601e-07, 3.72909926e-07, 3.72274416e-07, 3.71444242e-07,\n",
       "       3.72282208e-07, 3.71798347e-07, 3.72108386e-07, 3.71335935e-07,\n",
       "       3.72347517e-07, 3.71282100e-07, 3.72304803e-07, 3.72551095e-07,\n",
       "       3.72901536e-07, 3.73374058e-07, 3.72577594e-07, 3.70597462e-07,\n",
       "       3.71219864e-07, 3.71613137e-07, 3.73174207e-07, 3.72816810e-07,\n",
       "       3.72730910e-07, 3.71814527e-07, 3.72206829e-07, 3.69418683e-07,\n",
       "       3.72923800e-07, 3.71948047e-07, 3.72027246e-07, 3.71205081e-07,\n",
       "       3.69478294e-07, 3.72503465e-07, 3.71468630e-07, 3.72544614e-07,\n",
       "       3.72647681e-07, 3.70492325e-07, 3.72568059e-07, 3.73747643e-07,\n",
       "       3.71323200e-07, 3.71707915e-07, 3.71645421e-07, 3.72253291e-07,\n",
       "       3.72674922e-07, 3.72639664e-07, 3.72129285e-07, 3.72111967e-07,\n",
       "       3.73171575e-07, 3.72234801e-07, 3.72137573e-07, 3.72643626e-07,\n",
       "       3.71172660e-07, 3.72458544e-07, 3.73514515e-07, 3.71876252e-07,\n",
       "       3.71622818e-07, 3.73196808e-07, 3.71623297e-07, 3.71998540e-07,\n",
       "       3.73676670e-07, 3.72173066e-07, 3.72600123e-07, 3.71834425e-07,\n",
       "       3.72110248e-07, 3.71901514e-07, 3.70463661e-07, 3.71751718e-07,\n",
       "       3.73142304e-07, 3.72227431e-07, 3.70976100e-07, 3.72528756e-07,\n",
       "       3.72041723e-07, 3.72158650e-07, 3.70896687e-07, 3.72982991e-07,\n",
       "       3.71879225e-07, 3.71924511e-07, 3.72309163e-07, 3.72978639e-07,\n",
       "       3.71850091e-07, 3.72324221e-07, 3.71737517e-07, 3.72075564e-07,\n",
       "       3.71947733e-07, 3.70834685e-07, 3.70952346e-07, 3.72454782e-07,\n",
       "       3.72275070e-07, 3.72491540e-07, 3.71268337e-07, 3.72699764e-07,\n",
       "       3.71915998e-07, 3.71776721e-07, 3.71826285e-07, 3.71931036e-07,\n",
       "       3.70766331e-07, 3.71562992e-07, 3.72286271e-07, 3.71495954e-07])"
      ]
     },
     "execution_count": 5,
     "metadata": {},
     "output_type": "execute_result"
    }
   ],
   "source": [
    "res.post_mean"
   ]
  },
  {
   "cell_type": "code",
   "execution_count": 6,
   "metadata": {},
   "outputs": [
    {
     "name": "stderr",
     "output_type": "stream",
     "text": [
      "C:\\Document\\Serieux\\Travail\\python_work\\cEBNM_torch\\py\\numerical_routine.py:89: RuntimeWarning: invalid value encountered in multiply\n",
      "  beta_frac = beta * np.exp( np.clip(stats.norm.logpdf(beta) - pnorm_diff, None, 300))\n",
      "C:\\Document\\Serieux\\Travail\\python_work\\cEBNM_torch\\py\\numerical_routine.py:107: RuntimeWarning: invalid value encountered in add\n",
      "  upper_bd2 = (alpha ** 2 + alpha * beta + beta ** 2) / 3\n"
     ]
    }
   ],
   "source": [
    "res=ebnm_point_exp_solver(x=betahat, s=0.000001*sebetahat)"
   ]
  },
  {
   "cell_type": "code",
   "execution_count": 7,
   "metadata": {},
   "outputs": [],
   "source": [
    "a=res.scale\n",
    "a\n",
    "w=res.pi"
   ]
  },
  {
   "cell_type": "code",
   "execution_count": 8,
   "metadata": {},
   "outputs": [
    {
     "data": {
      "text/plain": [
       "0.40376947946183195"
      ]
     },
     "execution_count": 8,
     "metadata": {},
     "output_type": "execute_result"
    }
   ],
   "source": [
    "res.pi"
   ]
  },
  {
   "cell_type": "code",
   "execution_count": 9,
   "metadata": {},
   "outputs": [],
   "source": [
    "x=100000*betahat\n",
    "s=0.000000001*sebetahat"
   ]
  },
  {
   "cell_type": "code",
   "execution_count": 10,
   "metadata": {},
   "outputs": [],
   "source": [
    "lf = norm.logpdf(x, loc=0, scale=s)"
   ]
  },
  {
   "cell_type": "code",
   "execution_count": 11,
   "metadata": {},
   "outputs": [
    {
     "data": {
      "text/plain": [
       "2.6030814427366633"
      ]
     },
     "execution_count": 11,
     "metadata": {},
     "output_type": "execute_result"
    },
    {
     "data": {
      "image/png": "[encoded data removed]",
      "text/plain": [
       "<Figure size 640x480 with 1 Axes>"
      ]
     },
     "metadata": {},
     "output_type": "display_data"
    }
   ],
   "source": [
    "plt.scatter(betahat, res.post_mean  )\n",
    "plt.xlabel(\"observed values\")\n",
    "plt.plot(betahat, betahat, color='red', label='x = y')\n",
    "plt.axhline(y=0, color=\"black\")\n",
    "plt.ylabel(\"posterior mean\")\n",
    "res.scale"
   ]
  },
  {
   "cell_type": "code",
   "execution_count": 12,
   "metadata": {},
   "outputs": [],
   "source": [
    "from scipy.stats import norm\n",
    "import numpy as np\n",
    "\n",
    "def wpost_pe(x, s, w, a):\n",
    "    \"\"\"\n",
    "    Compute the posterior weights for the exponential component under a point-exponential prior.\n",
    "\n",
    "    Args:\n",
    "        x (np.ndarray): Input data.\n",
    "        s (np.ndarray or float): Standard deviations.\n",
    "        w (float): Mixture weight for the exponential component.\n",
    "        a (float): Scale parameter for the exponential component.\n",
    "\n",
    "    Returns:\n",
    "        np.ndarray: Posterior weights for the exponential component.\n",
    "    \"\"\"\n",
    "    if w == 0:\n",
    "        return np.zeros_like(x)\n",
    "\n",
    "    if w == 1:\n",
    "        return np.ones_like(x)\n",
    "\n",
    "    # Log-density for the normal (point mass) component\n",
    "    lf = norm.logpdf(x, loc=0, scale=s)\n",
    "\n",
    "    # Log-density for the exponential component\n",
    "    lg = np.log(a) + s**2 * a**2 / 2 - a * x + norm.logcdf(x / s - s * a)\n",
    "\n",
    "    # Compute posterior weights\n",
    "    wpost = w / (w + (1 - w) * np.exp(lf - lg))\n",
    "\n",
    "    return wpost\n"
   ]
  },
  {
   "cell_type": "code",
   "execution_count": 13,
   "metadata": {},
   "outputs": [
    {
     "data": {
      "text/plain": [
       "array([0.55620924, 0.69507278, 0.11760856])"
      ]
     },
     "execution_count": 13,
     "metadata": {},
     "output_type": "execute_result"
    }
   ],
   "source": [
    "x = np.array([1.0, 2.0, -1.5])\n",
    "s = np.array([1.0, 1.2, .5])\n",
    "wpost_pe(x,s,0.5,1)"
   ]
  },
  {
   "cell_type": "code",
   "execution_count": 14,
   "metadata": {},
   "outputs": [
    {
     "name": "stdout",
     "output_type": "stream",
     "text": [
      "[0.62583508 0.8761269  0.61477198]\n",
      "[0.59457077 1.00312451 0.4373592 ]\n"
     ]
    },
    {
     "name": "stderr",
     "output_type": "stream",
     "text": [
      "C:\\Document\\Serieux\\Travail\\python_work\\cEBNM_torch\\py\\numerical_routine.py:49: RuntimeWarning: divide by zero encountered in divide\n",
      "  lower_bd = np.maximum(beta + 1 / beta, (alpha + beta) / 2)\n",
      "C:\\Document\\Serieux\\Travail\\python_work\\cEBNM_torch\\py\\numerical_routine.py:107: RuntimeWarning: invalid value encountered in multiply\n",
      "  upper_bd2 = (alpha ** 2 + alpha * beta + beta ** 2) / 3\n"
     ]
    }
   ],
   "source": [
    "class PosteriorMeanPointExp:\n",
    "    def __init__(self, post_mean, post_mean2, post_sd):\n",
    "        self.post_mean = post_mean\n",
    "        self.post_mean2 = post_mean2\n",
    "        self.post_sd = post_sd\n",
    "\n",
    "def posterior_mean_pe(x, s, w, a, mu=0):\n",
    "    \"\"\"\n",
    "    Compute the posterior mean for a normal mean under a Laplace prior.\n",
    "    \n",
    "    Args:\n",
    "        x (np.ndarray): Observed data.\n",
    "        s (float or np.ndarray): Standard deviation of the normal likelihood.\n",
    "        w (float): Mixture weight for the Laplace component.\n",
    "        a (float): Laplace scale parameter.\n",
    "        mu (float): Mean of the prior distribution (default is 0).\n",
    "    \n",
    "    Returns:\n",
    "        np.ndarray: Posterior means.\n",
    "    \"\"\"\n",
    "    # Compute posterior weights\n",
    "    wpost = wpost_pe(x - mu, s, w, a)\n",
    "     \n",
    "    \n",
    "    # Compute the truncated means for the Laplace component\n",
    "    laplace_mean_positive = my_etruncnorm(0, 99999 ,x - mu - s**2 * a, s) \n",
    "    laplace_component_mean =   laplace_mean_positive  \n",
    "    post_mean2              =  wpost * (  my_e2truncnorm(0, np.inf, x - mu - s**2 * a, s)\n",
    "                                       )\n",
    "\n",
    "    \n",
    "    # Combine posterior means\n",
    "    post_mean =    wpost * laplace_component_mean  \n",
    "\n",
    "    if np.any(np.isinf(s)):\n",
    "        inf_indices = np.isinf(s)\n",
    "        a = 1/scale[1:]\n",
    "        # Equivalent of `post$mean[is.infinite(s)]` \n",
    "        post_mean[inf_indices] = wpost  / a \n",
    "\n",
    "        # Equivalent of `post$mean2[is.infinite(s)]`\n",
    "        post_mean2[inf_indices] =  2 * wpost / a**2 \n",
    "\n",
    "    post_mean2 = np.maximum(post_mean2, post_mean  ** 2)\n",
    "    \n",
    "    post_sd= np.sqrt(np.maximum(0, post_mean2 - post_mean**2))\n",
    "    post_mean2 = post_mean2 + mu**2+ 2*mu*post_mean\n",
    "    post_mean  =  post_mean+mu  \n",
    "    return PosteriorMeanPointExp(post_mean=post_mean,\n",
    "                                     post_mean2=post_mean2,\n",
    "                                     post_sd=  post_sd)\n",
    "\n",
    "\n",
    "\n",
    "x = np.array([1.0, 2.0, -1.5])\n",
    "s = np.array([1.0, 1.2, 2.5])\n",
    "a= posterior_mean_pe(x,s,w=.7 ,a=1, mu=0 ) \n",
    "print(a.post_sd)\n",
    "print(a.post_mean)"
   ]
  },
  {
   "cell_type": "code",
   "execution_count": 15,
   "metadata": {},
   "outputs": [],
   "source": [
    "import numpy as np\n",
    "from scipy.stats import norm\n",
    "\n",
    "def logscale_add(logx, logy):\n",
    "    \"\"\"\n",
    "    Compute log(exp(logx) + exp(logy)) in a numerically stable way.\n",
    "    \"\"\"\n",
    "    max_log = np.maximum(logx, logy)\n",
    "    return max_log + np.log(np.exp(logx - max_log) + np.exp(logy - max_log))\n",
    "\n",
    "def pe_nllik(par, x, s, par_init, fix_par, calc_grad=False, calc_hess=False):\n",
    "    \"\"\"\n",
    "    Compute the negative log likelihood, gradient, and Hessian for the point-exponential prior.\n",
    "\n",
    "    Args:\n",
    "        par (list): Parameters to optimize (subset based on fix_par).\n",
    "        x (np.ndarray): Observed data.\n",
    "        s (np.ndarray): Standard deviations.\n",
    "        par_init (list): Initial parameters (full set).\n",
    "        fix_par (list): Boolean list indicating which parameters are fixed.\n",
    "        calc_grad (bool): Whether to calculate the gradient.\n",
    "        calc_hess (bool): Whether to calculate the Hessian.\n",
    "\n",
    "    Returns:\n",
    "        float: Negative log likelihood.\n",
    "        Optional: Gradient and Hessian as attributes of the output.\n",
    "    \"\"\"\n",
    "    fix_pi0, fix_a, fix_mu = fix_par\n",
    "\n",
    "    # Initialize parameters and update non-fixed values\n",
    "    p = np.array(par_init)\n",
    "    p[~np.array(fix_par)] = par\n",
    "\n",
    "    # Parameters\n",
    "    w = 1 - 1 / (1 + np.exp(p[0]))  # Transformation for w\n",
    "    a = np.exp(p[1])               # Transformation for a\n",
    "    mu = p[2]                      # mu\n",
    "\n",
    "    # Point mass component\n",
    "    lf = -0.5 * np.log(2 * np.pi * s**2) - 0.5 * ((x - mu) / s)**2\n",
    "\n",
    "    # Exponential component\n",
    "    xright = (x - mu) / s - s * a\n",
    "    lpnormright = norm.logcdf(xright)\n",
    "    lg = np.log(a) + s**2 * a**2 / 2 - a * (x - mu) + lpnormright\n",
    "\n",
    "    # Combine log likelihood components\n",
    "    llik = logscale_add(np.log(1 - w) + lf, np.log(w) + lg)\n",
    "    nllik = -np.sum(llik)\n",
    "\n",
    "    # Gradients (optional)\n",
    "    if calc_grad or calc_hess:\n",
    "        grad = np.zeros(len(par))\n",
    "        i = 0\n",
    "\n",
    "        # Gradient with respect to w (alpha)\n",
    "        if not fix_pi0:\n",
    "            f = np.exp(lf - llik)\n",
    "            g = np.exp(lg - llik)\n",
    "            dnllik_dw = f - g\n",
    "            dw_dalpha = w * (1 - w)\n",
    "            grad[i] = np.sum(dnllik_dw * dw_dalpha)\n",
    "            i += 1\n",
    "\n",
    "        # Gradient with respect to a (beta)\n",
    "        if not fix_a or not fix_mu:\n",
    "            dlogpnorm_right = np.exp(-0.5 * np.log(2 * np.pi) - 0.5 * xright**2 - lpnormright)\n",
    "\n",
    "        if not fix_a:\n",
    "            dg_da = np.exp(lg - llik) * (1 / a + a * s**2 - (x - mu) - s * dlogpnorm_right)\n",
    "            dnllik_da = -w * dg_da\n",
    "            da_dbeta = a\n",
    "            dnllik_dbeta = dnllik_da * da_dbeta\n",
    "            grad[i] = np.sum(dnllik_da * da_dbeta)\n",
    "            i += 1\n",
    "\n",
    "        # Gradient with respect to mu\n",
    "        if not fix_mu:\n",
    "            df_dmu = np.exp(lf - llik) * ((x - mu) / s**2)\n",
    "            dg_dmu = np.exp(lg - llik) * (a - dlogpnorm_right / s)\n",
    "            dnllik_dmu = -(1 - w) * df_dmu - w * dg_dmu\n",
    "            grad[i] = np.sum(dnllik_dmu)\n",
    "\n",
    "    # Hessian (optional)\n",
    "    if calc_hess:\n",
    "        hess = np.zeros((len(par), len(par)))\n",
    "        i = 0\n",
    "\n",
    "        # Hessian with respect to w (alpha)\n",
    "        if not fix_pi0:\n",
    "            d2nllik_dw2 = dnllik_dw**2\n",
    "            d2w_dalpha2 = (1 - 2 * w) * dw_dalpha\n",
    "            d2nllik_dalpha2 = d2nllik_dw2 * (dw_dalpha**2) + dnllik_dw * d2w_dalpha2\n",
    "            hess[i, i] = np.sum(d2nllik_dalpha2)\n",
    "\n",
    "            j = i + 1\n",
    "            if not fix_a:\n",
    "                d2nllik_dwda = dnllik_dw * dnllik_da - dg_da\n",
    "                d2nllik_dalphadbeta = d2nllik_dwda * dw_dalpha * da_dbeta\n",
    "                hess[i, j] = hess[j, i] = np.sum(d2nllik_dalphadbeta)\n",
    "                j += 1\n",
    "\n",
    "            if not fix_mu:\n",
    "                d2nllik_dwdmu = dnllik_dw * dnllik_dmu - (dg_dmu - df_dmu)\n",
    "                d2nllik_dalphadmu = d2nllik_dwdmu * dw_dalpha\n",
    "                hess[i, j] = hess[j, i] = np.sum(d2nllik_dalphadmu)\n",
    "\n",
    "            i += 1\n",
    "\n",
    "        # Hessian with respect to a (beta)\n",
    "        if not fix_a:\n",
    "            d2g_da2 = dg_da * (1 / a + a * s**2 - (x - mu) - s * dlogpnorm_right) + \\\n",
    "                      np.exp(lg - llik) * (-1 / a**2 + s**2 * (1 - dlogpnorm_right * xright - dlogpnorm_right**2))\n",
    "            d2nllik_da2 = dnllik_da**2 - w * d2g_da2\n",
    "            d2a_dbeta2 = da_dbeta\n",
    "            d2nllik_dbeta2 = d2nllik_da2 * (da_dbeta**2) + dnllik_da * d2a_dbeta2\n",
    "            hess[i, i] = np.sum(d2nllik_dbeta2)\n",
    "\n",
    "            j = i + 1\n",
    "            if not fix_mu:\n",
    "                d2g_dadmu = dg_da * (a - dlogpnorm_right / s) + \\\n",
    "                            np.exp(lg - llik) * (1 - dlogpnorm_right * xright - dlogpnorm_right**2)\n",
    "                d2nllik_dbetadmu = dnllik_dbeta * dnllik_dmu - w * d2g_dadmu * da_dbeta\n",
    "                hess[i, j] = hess[j, i] = np.sum(d2nllik_dbetadmu)\n",
    "\n",
    "            i += 1\n",
    "\n",
    "        # Hessian with respect to mu\n",
    "        if not fix_mu:\n",
    "            d2f_dmu2 = df_dmu * ((x - mu) / s**2) - np.exp(lf - llik) / s**2\n",
    "            d2g_dmu2 = dg_dmu * (a - dlogpnorm_right / s) - \\\n",
    "                       np.exp(lg - llik) * (dlogpnorm_right * xright + dlogpnorm_right**2) / s**2\n",
    "            d2nllik_dmu2 = dnllik_dmu**2 - (1 - w) * d2f_dmu2 - w * d2g_dmu2\n",
    "            hess[i, i] = np.sum(d2nllik_dmu2)\n",
    "\n",
    "    if calc_grad and calc_hess:\n",
    "        return nllik, grad, hess\n",
    "    elif calc_grad:\n",
    "        return nllik, grad\n",
    "    else:\n",
    "        return nllik\n"
   ]
  },
  {
   "cell_type": "code",
   "execution_count": 16,
   "metadata": {},
   "outputs": [
    {
     "name": "stdout",
     "output_type": "stream",
     "text": [
      "Negative Log Likelihood: 7.026976565768523\n"
     ]
    }
   ],
   "source": [
    "x = np.array([1.0, 2.0, -1.5])  # Observed data\n",
    "s = np.array([1.0, 1.0, 1.0])   # Standard deviations\n",
    "par_init = [0.0, 0.0, 0.0]      # Initial parameters (alpha, beta, mu)\n",
    "fix_par = [False, False, False] # No fixed parameters\n",
    "par = [0.5, 0.1, 1.0]           # Parameters to optimize\n",
    "\n",
    "# Compute negative log likelihood\n",
    "nllik = pe_nllik(par, x, s, par_init, fix_par, calc_grad=False)\n",
    "print(\"Negative Log Likelihood:\", nllik)\n"
   ]
  },
  {
   "cell_type": "code",
   "execution_count": null,
   "metadata": {},
   "outputs": [],
   "source": []
  },
  {
   "cell_type": "code",
   "execution_count": 17,
   "metadata": {},
   "outputs": [
    {
     "name": "stdout",
     "output_type": "stream",
     "text": [
      "Final Negative Log Likelihood: 3.636553632132083\n",
      "Optimized w: 0.9999563044116645\n",
      "Optimized a: 3.047337093696241\n",
      "Optimized mu: 0.0\n"
     ]
    }
   ],
   "source": [
    "from scipy.optimize import minimize\n",
    "\n",
    "class optimizePointExponential:\n",
    "    def __init__(self, w, a, mu, nllik):\n",
    "        self.w = w\n",
    "        self.a = a\n",
    "        self.mu = mu\n",
    "        self.nllik = nllik\n",
    "\n",
    "def optimize_pe_nllik_with_gradient(x, s, par_init, fix_par):\n",
    "    \"\"\"\n",
    "    Optimize the negative log likelihood for the point-exponential prior using gradient.\n",
    "\n",
    "    Args:\n",
    "        x (np.ndarray): Observed data.\n",
    "        s (np.ndarray): Standard deviations.\n",
    "        par_init (list): Initial parameters [alpha, beta, mu].\n",
    "        fix_par (list): Boolean list indicating which parameters are fixed.\n",
    "\n",
    "    Returns:\n",
    "        optimizePointExponential: Optimized parameters and final negative log likelihood.\n",
    "    \"\"\"\n",
    "    # Define a wrapper for the objective function\n",
    "    def objective(par):\n",
    "        nllik, grad = pe_nllik(par, x, s, par_init, fix_par, calc_grad=True, calc_hess=False)\n",
    "        return nllik, grad\n",
    "\n",
    "    # Wrapper for gradient extraction\n",
    "    def fun(par):\n",
    "        nllik, _ = objective(par)\n",
    "        return nllik\n",
    "\n",
    "    def jac(par):\n",
    "        _, grad = objective(par)\n",
    "        return grad\n",
    "\n",
    "    # Initial values for non-fixed parameters\n",
    "    free_params = [p for p, fixed in zip(par_init, fix_par) if not fixed]\n",
    "\n",
    "    # Bounds: Keep alpha unbounded, beta > 0, and mu unbounded\n",
    "    bounds = [\n",
    "        (None, None),  # Alpha has no bounds\n",
    "        (0, None),     # Beta must be strictly positive\n",
    "        (None, None)   # Mu has no bounds\n",
    "    ]\n",
    "    bounds = [b for b, fixed in zip(bounds, fix_par) if not fixed]\n",
    "\n",
    "    # Optimize using L-BFGS-B\n",
    "    result = minimize(\n",
    "        fun, free_params, method=\"L-BFGS-B\", jac=jac, bounds=bounds\n",
    "    )\n",
    "\n",
    "    if not result.success:\n",
    "        raise ValueError(\"Optimization failed: \" + result.message)\n",
    "\n",
    "    # Update the full parameter set with optimized values\n",
    "    optimized_params = np.array(par_init)\n",
    "    optimized_params[~np.array(fix_par)] = result.x\n",
    "\n",
    "    # Convert alpha to w\n",
    "    optimized_params[0] = 1 - 1 / (1 + np.exp(optimized_params[0]))\n",
    "\n",
    "    # Convert beta to a\n",
    "    optimized_params[1] = np.exp(optimized_params[1])\n",
    "\n",
    "    return optimizePointExponential(w=optimized_params[0],\n",
    "                                     a=optimized_params[1],\n",
    "                                     mu=optimized_params[2],\n",
    "                                     nllik=result.fun)\n",
    "\n",
    "# Example Usage\n",
    "x = np.array([1.0, 1.0, -0.5])  # Observed data\n",
    "s = np.array([1.0, 1.0, 1.0])   # Standard deviations\n",
    "par_init = [0.0, 0.1, 0.0]      # Initial parameters [alpha, beta, mu]\n",
    "fix_par = [False, False, True] # No fixed parameters\n",
    "\n",
    "# Run optimization\n",
    "result = optimize_pe_nllik_with_gradient(x, s, par_init, fix_par)\n",
    "print(\"Final Negative Log Likelihood:\", result.nllik)\n",
    "print(\"Optimized w:\", result.w)\n",
    "print(\"Optimized a:\", result.a)\n",
    "print(\"Optimized mu:\", result.mu)\n"
   ]
  },
  {
   "cell_type": "code",
   "execution_count": 18,
   "metadata": {},
   "outputs": [],
   "source": [
    "class ebnm_point_exp:\n",
    "    def __init__(self, post_mean, post_mean2, post_sd, scale, pi,   log_lik=0,#log_lik2 =0,\n",
    "                 mode=0):\n",
    "        self.post_mean = post_mean\n",
    "        self.post_mean2 = post_mean2\n",
    "        self.post_sd = post_sd\n",
    "        self.scale= scale\n",
    "        self.pi =pi  \n",
    "        self.log_lik = log_lik\n",
    "       # self.log_lik2= log_lik2 \n",
    "        self.mode =  mode\n",
    "\n",
    "\n",
    "def ebnm_point_exp_solver ( x,s,opt_mu=False,par_init = [0.0, 1.0, 0.0]  ):\n",
    "    if(opt_mu):\n",
    "        fix_par = [False, False, False]\n",
    "    else :\n",
    "        fix_par = [False, False, True]\n",
    "    par_init = par_init\n",
    "    optimized_prior =  optimize_pe_nllik_with_gradient(x, s, par_init, fix_par)\n",
    "    post_obj=  posterior_mean_pe(x, s, optimized_prior.w, optimized_prior.a, optimized_prior.mu)\n",
    "    return( ebnm_point_exp( post_mean=post_obj.post_mean, \n",
    "                                post_mean2=post_obj.post_mean2, \n",
    "                                post_sd=post_obj.post_sd,\n",
    "                                scale=optimized_prior.a,\n",
    "                                pi=optimized_prior.w,   log_lik=-optimized_prior.nllik,#log_lik2 =0,\n",
    "                                mode=optimized_prior.mu)\n",
    "    )"
   ]
  },
  {
   "cell_type": "code",
   "execution_count": null,
   "metadata": {},
   "outputs": [],
   "source": [
    " "
   ]
  },
  {
   "cell_type": "code",
   "execution_count": 19,
   "metadata": {},
   "outputs": [],
   "source": [
    "true_val1=  np.random.normal(loc=0, scale=1, size=100)\n",
    "true_val0=  np.zeros( 100)\n",
    "\n",
    "observations_mu_1 =true_val1+np.random.normal(loc=0, scale=1, size=100)\n",
    "observations_mu_0 =true_val0+ np.random.normal(loc=0, scale=1, size=100)\n",
    "# Combine them into one array\n",
    "betahat = np.hstack([observations_mu_1, observations_mu_0])\n",
    "sebetahat=  np.repeat(1, betahat.shape[0])\n",
    "res=ebnm_point_exp_solver(x=betahat, s=sebetahat)\n",
    " "
   ]
  },
  {
   "cell_type": "code",
   "execution_count": null,
   "metadata": {},
   "outputs": [],
   "source": []
  },
  {
   "cell_type": "code",
   "execution_count": 20,
   "metadata": {},
   "outputs": [
    {
     "data": {
      "text/plain": [
       "1.541503314152026"
      ]
     },
     "execution_count": 20,
     "metadata": {},
     "output_type": "execute_result"
    },
    {
     "data": {
      "image/png": "[encoded data removed]",
      "text/plain": [
       "<Figure size 640x480 with 1 Axes>"
      ]
     },
     "metadata": {},
     "output_type": "display_data"
    }
   ],
   "source": [
    "plt.scatter(betahat, res.post_mean  )\n",
    "plt.xlabel(\"observed values\")\n",
    "plt.plot(betahat, betahat, color='red', label='x = y')\n",
    "plt.axhline(y=0, color=\"black\")\n",
    "plt.ylabel(\"posterior mean\")\n",
    "res.scale"
   ]
  },
  {
   "cell_type": "code",
   "execution_count": 21,
   "metadata": {},
   "outputs": [],
   "source": [
    "res=ebnm_point_exp_solver(x=betahat, s=0.000001*sebetahat)"
   ]
  },
  {
   "cell_type": "code",
   "execution_count": 22,
   "metadata": {},
   "outputs": [
    {
     "data": {
      "text/plain": [
       "1.0000000835648326"
      ]
     },
     "execution_count": 22,
     "metadata": {},
     "output_type": "execute_result"
    }
   ],
   "source": [
    "res.scale"
   ]
  },
  {
   "cell_type": "code",
   "execution_count": 23,
   "metadata": {},
   "outputs": [
    {
     "data": {
      "text/plain": [
       "1.0000000835648326"
      ]
     },
     "execution_count": 23,
     "metadata": {},
     "output_type": "execute_result"
    },
    {
     "data": {
      "image/png": "[encoded data removed]",
      "text/plain": [
       "<Figure size 640x480 with 1 Axes>"
      ]
     },
     "metadata": {},
     "output_type": "display_data"
    }
   ],
   "source": [
    "plt.scatter(betahat, res.post_mean  )\n",
    "plt.xlabel(\"observed values\")\n",
    "plt.plot(betahat, betahat, color='red', label='x = y')\n",
    "plt.axhline(y=0, color=\"black\")\n",
    "plt.ylabel(\"posterior mean\")\n",
    "res.scale"
   ]
  },
  {
   "cell_type": "code",
   "execution_count": 24,
   "metadata": {},
   "outputs": [],
   "source": [
    "\n",
    "par_init = [0.0, 1.0, 0.0]\n",
    "fix_par = [False, False, True]\n",
    "par_init = par_init\n",
    "x=0*betahat\n",
    "s=sebetahat"
   ]
  }
 ],
 "metadata": {
  "kernelspec": {
   "display_name": "ml_env",
   "language": "python",
   "name": "python3"
  },
  "language_info": {
   "codemirror_mode": {
    "name": "ipython",
    "version": 3
   },
   "file_extension": ".py",
   "mimetype": "text/x-python",
   "name": "python",
   "nbconvert_exporter": "python",
   "pygments_lexer": "ipython3",
   "version": "3.10.8"
  }
 },
 "nbformat": 4,
 "nbformat_minor": 2
}
