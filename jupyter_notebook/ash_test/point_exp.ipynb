{
 "cells": [
  {
   "cell_type": "code",
   "execution_count": 1,
   "metadata": {},
   "outputs": [],
   "source": [
    "import numpy as np\n",
    "from scipy.stats import norm\n",
    "import sys\n",
    "import os\n",
    "import matplotlib.pyplot as plt\n",
    "\n"
   ]
  },
  {
   "cell_type": "code",
   "execution_count": 2,
   "metadata": {},
   "outputs": [],
   "source": [
    " # Add the path to utils.py\n",
    "sys.path.append(r\"C:\\Document\\Serieux\\Travail\\python_work\\cEBNM_torch\\py\")\n",
    "sys.path.append(r\"C:\\Document\\Serieux\\Travail\\python_work\\cEBNM_torch\\py\\ebnm_solver\")\n",
    "sys.path.append(r\"C:\\Document\\Serieux\\Travail\\python_work\\cEBNM_torch\\py\\numerical_routine\")\n",
    "from numerical_routine import *\n",
    "from scipy.stats import norm\n",
    "from ebnm_point_exp import *\n",
    "import numpy as np"
   ]
  },
  {
   "cell_type": "code",
   "execution_count": 3,
   "metadata": {},
   "outputs": [
    {
     "name": "stderr",
     "output_type": "stream",
     "text": [
      "C:\\Document\\Serieux\\Travail\\python_work\\cEBNM_torch\\py\\numerical_routine.py:87: RuntimeWarning: invalid value encountered in multiply\n",
      "  alpha_frac = alpha * np.exp( np.clip(stats.norm.logpdf(alpha) - pnorm_diff, None, 300))\n",
      "C:\\Document\\Serieux\\Travail\\python_work\\cEBNM_torch\\py\\numerical_routine.py:89: RuntimeWarning: invalid value encountered in multiply\n",
      "  beta_frac = beta * np.exp( np.clip(stats.norm.logpdf(beta) - pnorm_diff, None, 300))\n",
      "C:\\Document\\Serieux\\Travail\\python_work\\cEBNM_torch\\py\\numerical_routine.py:107: RuntimeWarning: invalid value encountered in add\n",
      "  upper_bd2 = (alpha ** 2 + alpha * beta + beta ** 2) / 3\n"
     ]
    }
   ],
   "source": [
    "true_val1=  np.random.normal(loc=0, scale=1, size=100)\n",
    "true_val0=  np.zeros( 200)\n",
    "\n",
    "observations_mu_1 =true_val1+np.random.normal(loc=0, scale=1, size=100)\n",
    "observations_mu_0 =true_val0+ np.random.normal(loc=0, scale=1, size=200)\n",
    "# Combine them into one array\n",
    "betahat = np.hstack([observations_mu_1, observations_mu_0])\n",
    "sebetahat=  np.repeat(1, betahat.shape[0])\n",
    "res=ebnm_point_exp_solver(x=betahat, s=sebetahat)\n",
    " "
   ]
  },
  {
   "cell_type": "code",
   "execution_count": 4,
   "metadata": {},
   "outputs": [
    {
     "data": {
      "text/plain": [
       "array([0.01907446, 0.06205611, 0.09329506, 0.25376261, 0.01227769,\n",
       "       0.09891664, 0.01567909, 0.02944792, 0.02883733, 0.01123128,\n",
       "       0.00727576, 0.01584307, 0.13048946, 0.11569964, 0.17002925,\n",
       "       0.09700332, 0.02019851, 0.1942143 , 0.00574433, 0.0166878 ,\n",
       "       0.00417903, 0.03281348, 0.02471631, 0.03297367, 0.01433551,\n",
       "       0.18397625, 0.00896564, 0.06896236, 0.08507744, 0.02147176,\n",
       "       0.0298825 , 2.56462768, 0.02638751, 0.01396205, 0.54832697,\n",
       "       2.94469109, 0.02152561, 0.09337785, 0.07574348, 0.06860256,\n",
       "       0.03876356, 0.02938478, 0.00569733, 0.00960153, 0.06957916,\n",
       "       0.92408192, 0.0289046 , 0.04901274, 0.17682004, 0.02438684,\n",
       "       0.05003039, 0.16548969, 0.01620743, 0.01946706, 0.00715537,\n",
       "       0.05476739, 0.02302067, 0.01852424, 0.23380833, 0.04417897,\n",
       "       0.01270764, 0.0060676 , 0.00567995, 0.01484686, 1.55930892,\n",
       "       0.21428134, 0.09605029, 0.02891376, 0.02386422, 0.07274765,\n",
       "       0.01098437, 0.05563877, 0.07416702, 0.00929493, 0.01363179,\n",
       "       0.00825534, 0.34701982, 0.15512294, 0.00770841, 0.00534293,\n",
       "       0.01470278, 0.09395762, 0.00828114, 0.20685671, 0.0111769 ,\n",
       "       0.0676165 , 0.16304665, 0.01408472, 0.08671084, 0.08633943,\n",
       "       0.0478003 , 0.07257072, 0.0386846 , 0.07463544, 0.01726959,\n",
       "       0.26284026, 0.03030783, 0.04511685, 0.00440928, 0.00369127,\n",
       "       0.02410411, 0.01079219, 0.01489029, 0.00768806, 0.03111563,\n",
       "       0.12454352, 0.01895348, 0.03058696, 0.00675983, 0.0352665 ,\n",
       "       0.01992924, 0.01510217, 0.01616134, 0.03913496, 0.02405875,\n",
       "       0.01673825, 0.01392373, 0.0576968 , 0.03357018, 0.02158955,\n",
       "       0.07812577, 0.04197519, 0.02128358, 0.00825404, 0.00916524,\n",
       "       0.03121363, 0.05933832, 0.01178223, 0.01454447, 0.02880618,\n",
       "       0.00763045, 0.01544156, 0.02332941, 0.00964129, 0.03737405,\n",
       "       0.01325929, 0.23902167, 0.08258188, 0.08068696, 0.03660228,\n",
       "       0.03254058, 0.02040777, 0.02287032, 0.04580571, 0.03801483,\n",
       "       0.02161685, 0.04623701, 0.06754402, 0.04560964, 0.05878006,\n",
       "       0.04180182, 0.0238868 , 0.03413234, 0.04024601, 0.01548025,\n",
       "       0.01663176, 0.31066398, 0.04011259, 0.02144703, 0.02747917,\n",
       "       0.00471597, 0.05853064, 0.01340954, 0.01568047, 0.03418754,\n",
       "       0.15949148, 0.09144725, 0.01740492, 0.04842766, 0.0382079 ,\n",
       "       0.01433047, 0.03193017, 0.01019893, 0.03857172, 0.01289352,\n",
       "       0.03649963, 0.02508085, 0.06001359, 0.02213815, 0.04450692,\n",
       "       0.00962795, 0.01626155, 0.01425277, 0.04912579, 0.01355995,\n",
       "       0.04166253, 0.06760485, 0.01590792, 0.01315938, 0.01789483,\n",
       "       0.01226279, 0.02148985, 0.01949863, 0.01104706, 0.00814666,\n",
       "       0.00856109, 0.02798657, 0.01185784, 0.14226171, 0.18392548,\n",
       "       0.13127004, 0.00912042, 0.06299278, 0.0145847 , 0.03617168,\n",
       "       0.05410395, 0.04840924, 0.04716993, 0.01047315, 0.02899111,\n",
       "       0.0706817 , 0.00910283, 0.055328  , 0.02015935, 0.01446864,\n",
       "       0.02422408, 0.01711647, 0.01516639, 0.0296016 , 0.05559895,\n",
       "       0.01815433, 0.03649295, 0.01229121, 0.04281333, 0.01355043,\n",
       "       0.08171745, 0.02421939, 0.07038571, 0.0723803 , 0.11105649,\n",
       "       0.01254816, 0.03587553, 0.03905143, 0.04275179, 0.05390855,\n",
       "       0.01014229, 0.01549244, 0.00478282, 0.00428835, 0.02718741,\n",
       "       0.05251612, 0.02431593, 0.0254841 , 0.0365563 , 0.05783897,\n",
       "       0.01499156, 0.03846181, 0.01768058, 0.01791839, 0.05075865,\n",
       "       0.01334141, 0.00898463, 0.01535878, 0.02313785, 0.03333152,\n",
       "       0.03378974, 0.00880917, 0.00903254, 0.01140683, 0.06650772,\n",
       "       0.1337131 , 0.01417589, 0.00598052, 0.00947102, 0.04336765,\n",
       "       0.23491725, 0.00892663, 0.02613549, 0.03005535, 0.03491017,\n",
       "       0.03845536, 0.02446632, 0.03944087, 0.01812654, 0.03126205,\n",
       "       0.20363927, 0.06043767, 0.03573528, 0.01425899, 0.06428975,\n",
       "       0.01867395, 0.03608467, 0.04459687, 0.01476364, 0.02109001,\n",
       "       0.02315629, 0.02547202, 0.04257716, 0.0125097 , 0.02780215,\n",
       "       0.06026694, 0.0793442 , 0.01660257, 0.07306006, 0.01743095,\n",
       "       0.01927577, 0.02847572, 0.02107853, 0.04400553, 0.01876464])"
      ]
     },
     "execution_count": 4,
     "metadata": {},
     "output_type": "execute_result"
    }
   ],
   "source": [
    "res.post_mean"
   ]
  },
  {
   "cell_type": "code",
   "execution_count": 10,
   "metadata": {},
   "outputs": [],
   "source": [
    "res=ebnm_point_exp_solver(x=betahat, s=0.000001*sebetahat)"
   ]
  },
  {
   "cell_type": "code",
   "execution_count": 11,
   "metadata": {},
   "outputs": [],
   "source": [
    "a=res.scale\n",
    "a\n",
    "w=res.pi"
   ]
  },
  {
   "cell_type": "code",
   "execution_count": 12,
   "metadata": {},
   "outputs": [
    {
     "data": {
      "text/plain": [
       "0.6157392579989798"
      ]
     },
     "execution_count": 12,
     "metadata": {},
     "output_type": "execute_result"
    }
   ],
   "source": [
    "res.pi"
   ]
  },
  {
   "cell_type": "code",
   "execution_count": 13,
   "metadata": {},
   "outputs": [],
   "source": [
    "x=100000*betahat\n",
    "s=0.000000001*sebetahat"
   ]
  },
  {
   "cell_type": "code",
   "execution_count": 14,
   "metadata": {},
   "outputs": [],
   "source": [
    "lf = norm.logpdf(x, loc=0, scale=s)"
   ]
  },
  {
   "cell_type": "code",
   "execution_count": 15,
   "metadata": {},
   "outputs": [
    {
     "data": {
      "text/plain": [
       "2.5411912546675577"
      ]
     },
     "execution_count": 15,
     "metadata": {},
     "output_type": "execute_result"
    },
    {
     "data": {
      "image/png": "[encoded data removed]",
      "text/plain": [
       "<Figure size 640x480 with 1 Axes>"
      ]
     },
     "metadata": {},
     "output_type": "display_data"
    }
   ],
   "source": [
    "plt.scatter(betahat, res.post_mean  )\n",
    "plt.xlabel(\"observed values\")\n",
    "plt.plot(betahat, betahat, color='red', label='x = y')\n",
    "plt.axhline(y=0, color=\"black\")\n",
    "plt.ylabel(\"posterior mean\")\n",
    "res.scale"
   ]
  },
  {
   "cell_type": "code",
   "execution_count": 18,
   "metadata": {},
   "outputs": [],
   "source": [
    "from scipy.stats import norm\n",
    "import numpy as np\n",
    "\n",
    "def wpost_pe(x, s, w, a):\n",
    "    \"\"\"\n",
    "    Compute the posterior weights for the exponential component under a point-exponential prior.\n",
    "\n",
    "    Args:\n",
    "        x (np.ndarray): Input data.\n",
    "        s (np.ndarray or float): Standard deviations.\n",
    "        w (float): Mixture weight for the exponential component.\n",
    "        a (float): Scale parameter for the exponential component.\n",
    "\n",
    "    Returns:\n",
    "        np.ndarray: Posterior weights for the exponential component.\n",
    "    \"\"\"\n",
    "    if w == 0:\n",
    "        return np.zeros_like(x)\n",
    "\n",
    "    if w == 1:\n",
    "        return np.ones_like(x)\n",
    "\n",
    "    # Log-density for the normal (point mass) component\n",
    "    lf = norm.logpdf(x, loc=0, scale=s)\n",
    "\n",
    "    # Log-density for the exponential component\n",
    "    lg = np.log(a) + s**2 * a**2 / 2 - a * x + norm.logcdf(x / s - s * a)\n",
    "\n",
    "    # Compute posterior weights\n",
    "    wpost = w / (w + (1 - w) * np.exp(lf - lg))\n",
    "\n",
    "    return wpost\n"
   ]
  },
  {
   "cell_type": "code",
   "execution_count": 19,
   "metadata": {},
   "outputs": [
    {
     "data": {
      "text/plain": [
       "array([0.55620924, 0.69507278, 0.11760856])"
      ]
     },
     "execution_count": 19,
     "metadata": {},
     "output_type": "execute_result"
    }
   ],
   "source": [
    "x = np.array([1.0, 2.0, -1.5])\n",
    "s = np.array([1.0, 1.2, .5])\n",
    "wpost_pe(x,s,0.5,1)"
   ]
  },
  {
   "cell_type": "code",
   "execution_count": 20,
   "metadata": {},
   "outputs": [
    {
     "name": "stdout",
     "output_type": "stream",
     "text": [
      "[0.62583508 0.8761269  0.61477198]\n",
      "[0.59457077 1.00312451 0.4373592 ]\n"
     ]
    },
    {
     "name": "stderr",
     "output_type": "stream",
     "text": [
      "C:\\Document\\Serieux\\Travail\\python_work\\cEBNM_torch\\py\\numerical_routine.py:49: RuntimeWarning: divide by zero encountered in divide\n",
      "  lower_bd = np.maximum(beta + 1 / beta, (alpha + beta) / 2)\n",
      "C:\\Document\\Serieux\\Travail\\python_work\\cEBNM_torch\\py\\numerical_routine.py:107: RuntimeWarning: invalid value encountered in multiply\n",
      "  upper_bd2 = (alpha ** 2 + alpha * beta + beta ** 2) / 3\n"
     ]
    }
   ],
   "source": [
    "class PosteriorMeanPointExp:\n",
    "    def __init__(self, post_mean, post_mean2, post_sd):\n",
    "        self.post_mean = post_mean\n",
    "        self.post_mean2 = post_mean2\n",
    "        self.post_sd = post_sd\n",
    "\n",
    "def posterior_mean_pe(x, s, w, a, mu=0):\n",
    "    \"\"\"\n",
    "    Compute the posterior mean for a normal mean under a Laplace prior.\n",
    "    \n",
    "    Args:\n",
    "        x (np.ndarray): Observed data.\n",
    "        s (float or np.ndarray): Standard deviation of the normal likelihood.\n",
    "        w (float): Mixture weight for the Laplace component.\n",
    "        a (float): Laplace scale parameter.\n",
    "        mu (float): Mean of the prior distribution (default is 0).\n",
    "    \n",
    "    Returns:\n",
    "        np.ndarray: Posterior means.\n",
    "    \"\"\"\n",
    "    # Compute posterior weights\n",
    "    wpost = wpost_pe(x - mu, s, w, a)\n",
    "     \n",
    "    \n",
    "    # Compute the truncated means for the Laplace component\n",
    "    laplace_mean_positive = my_etruncnorm(0, 99999 ,x - mu - s**2 * a, s) \n",
    "    laplace_component_mean =   laplace_mean_positive  \n",
    "    post_mean2              =  wpost * (  my_e2truncnorm(0, np.inf, x - mu - s**2 * a, s)\n",
    "                                       )\n",
    "\n",
    "    \n",
    "    # Combine posterior means\n",
    "    post_mean =    wpost * laplace_component_mean  \n",
    "\n",
    "    if np.any(np.isinf(s)):\n",
    "        inf_indices = np.isinf(s)\n",
    "        a = 1/scale[1:]\n",
    "        # Equivalent of `post$mean[is.infinite(s)]` \n",
    "        post_mean[inf_indices] = wpost  / a \n",
    "\n",
    "        # Equivalent of `post$mean2[is.infinite(s)]`\n",
    "        post_mean2[inf_indices] =  2 * wpost / a**2 \n",
    "\n",
    "    post_mean2 = np.maximum(post_mean2, post_mean  ** 2)\n",
    "    \n",
    "    post_sd= np.sqrt(np.maximum(0, post_mean2 - post_mean**2))\n",
    "    post_mean2 = post_mean2 + mu**2+ 2*mu*post_mean\n",
    "    post_mean  =  post_mean+mu  \n",
    "    return PosteriorMeanPointExp(post_mean=post_mean,\n",
    "                                     post_mean2=post_mean2,\n",
    "                                     post_sd=  post_sd)\n",
    "\n",
    "\n",
    "\n",
    "x = np.array([1.0, 2.0, -1.5])\n",
    "s = np.array([1.0, 1.2, 2.5])\n",
    "a= posterior_mean_pe(x,s,w=.7 ,a=1, mu=0 ) \n",
    "print(a.post_sd)\n",
    "print(a.post_mean)"
   ]
  },
  {
   "cell_type": "code",
   "execution_count": null,
   "metadata": {},
   "outputs": [],
   "source": [
    "import numpy as np\n",
    "from scipy.stats import norm\n",
    "\n",
    "def logscale_add(logx, logy):\n",
    "    \"\"\"\n",
    "    Compute log(exp(logx) + exp(logy)) in a numerically stable way.\n",
    "    \"\"\"\n",
    "    max_log = np.maximum(logx, logy)\n",
    "    return max_log + np.log(np.exp(logx - max_log) + np.exp(logy - max_log))\n",
    "\n",
    "def pe_nllik(par, x, s, par_init, fix_par, calc_grad=False, calc_hess=False):\n",
    "    \"\"\"\n",
    "    Compute the negative log likelihood, gradient, and Hessian for the point-exponential prior.\n",
    "\n",
    "    Args:\n",
    "        par (list): Parameters to optimize (subset based on fix_par).\n",
    "        x (np.ndarray): Observed data.\n",
    "        s (np.ndarray): Standard deviations.\n",
    "        par_init (list): Initial parameters (full set).\n",
    "        fix_par (list): Boolean list indicating which parameters are fixed.\n",
    "        calc_grad (bool): Whether to calculate the gradient.\n",
    "        calc_hess (bool): Whether to calculate the Hessian.\n",
    "\n",
    "    Returns:\n",
    "        float: Negative log likelihood.\n",
    "        Optional: Gradient and Hessian as attributes of the output.\n",
    "    \"\"\"\n",
    "    fix_pi0, fix_a, fix_mu = fix_par\n",
    "\n",
    "    # Initialize parameters and update non-fixed values\n",
    "    p = np.array(par_init)\n",
    "    p[~np.array(fix_par)] = par\n",
    "\n",
    "    # Parameters\n",
    "    w = 1 - 1 / (1 + np.exp(p[0]))  # Transformation for w\n",
    "    a = np.exp(p[1])               # Transformation for a\n",
    "    mu = p[2]                      # mu\n",
    "\n",
    "    # Point mass component\n",
    "    lf = -0.5 * np.log(2 * np.pi * s**2) - 0.5 * ((x - mu) / s)**2\n",
    "\n",
    "    # Exponential component\n",
    "    xright = (x - mu) / s - s * a\n",
    "    lpnormright = norm.logcdf(xright)\n",
    "    lg = np.log(a) + s**2 * a**2 / 2 - a * (x - mu) + lpnormright\n",
    "\n",
    "    # Combine log likelihood components\n",
    "    llik = logscale_add(np.log(1 - w) + lf, np.log(w) + lg)\n",
    "    nllik = -np.sum(llik)\n",
    "\n",
    "    # Gradients (optional)\n",
    "    if calc_grad or calc_hess:\n",
    "        grad = np.zeros(len(par))\n",
    "        i = 0\n",
    "\n",
    "        # Gradient with respect to w (alpha)\n",
    "        if not fix_pi0:\n",
    "            f = np.exp(lf - llik)\n",
    "            g = np.exp(lg - llik)\n",
    "            dnllik_dw = f - g\n",
    "            dw_dalpha = w * (1 - w)\n",
    "            grad[i] = np.sum(dnllik_dw * dw_dalpha)\n",
    "            i += 1\n",
    "\n",
    "        # Gradient with respect to a (beta)\n",
    "        if not fix_a or not fix_mu:\n",
    "            dlogpnorm_right = np.exp(-0.5 * np.log(2 * np.pi) - 0.5 * xright**2 - lpnormright)\n",
    "\n",
    "        if not fix_a:\n",
    "            dg_da = np.exp(lg - llik) * (1 / a + a * s**2 - (x - mu) - s * dlogpnorm_right)\n",
    "            dnllik_da = -w * dg_da\n",
    "            da_dbeta = a\n",
    "            dnllik_dbeta = dnllik_da * da_dbeta\n",
    "            grad[i] = np.sum(dnllik_da * da_dbeta)\n",
    "            i += 1\n",
    "\n",
    "        # Gradient with respect to mu\n",
    "        if not fix_mu:\n",
    "            df_dmu = np.exp(lf - llik) * ((x - mu) / s**2)\n",
    "            dg_dmu = np.exp(lg - llik) * (a - dlogpnorm_right / s)\n",
    "            dnllik_dmu = -(1 - w) * df_dmu - w * dg_dmu\n",
    "            grad[i] = np.sum(dnllik_dmu)\n",
    "\n",
    "    # Hessian (optional)\n",
    "    if calc_hess:\n",
    "        hess = np.zeros((len(par), len(par)))\n",
    "        i = 0\n",
    "\n",
    "        # Hessian with respect to w (alpha)\n",
    "        if not fix_pi0:\n",
    "            d2nllik_dw2 = dnllik_dw**2\n",
    "            d2w_dalpha2 = (1 - 2 * w) * dw_dalpha\n",
    "            d2nllik_dalpha2 = d2nllik_dw2 * (dw_dalpha**2) + dnllik_dw * d2w_dalpha2\n",
    "            hess[i, i] = np.sum(d2nllik_dalpha2)\n",
    "\n",
    "            j = i + 1\n",
    "            if not fix_a:\n",
    "                d2nllik_dwda = dnllik_dw * dnllik_da - dg_da\n",
    "                d2nllik_dalphadbeta = d2nllik_dwda * dw_dalpha * da_dbeta\n",
    "                hess[i, j] = hess[j, i] = np.sum(d2nllik_dalphadbeta)\n",
    "                j += 1\n",
    "\n",
    "            if not fix_mu:\n",
    "                d2nllik_dwdmu = dnllik_dw * dnllik_dmu - (dg_dmu - df_dmu)\n",
    "                d2nllik_dalphadmu = d2nllik_dwdmu * dw_dalpha\n",
    "                hess[i, j] = hess[j, i] = np.sum(d2nllik_dalphadmu)\n",
    "\n",
    "            i += 1\n",
    "\n",
    "        # Hessian with respect to a (beta)\n",
    "        if not fix_a:\n",
    "            d2g_da2 = dg_da * (1 / a + a * s**2 - (x - mu) - s * dlogpnorm_right) + \\\n",
    "                      np.exp(lg - llik) * (-1 / a**2 + s**2 * (1 - dlogpnorm_right * xright - dlogpnorm_right**2))\n",
    "            d2nllik_da2 = dnllik_da**2 - w * d2g_da2\n",
    "            d2a_dbeta2 = da_dbeta\n",
    "            d2nllik_dbeta2 = d2nllik_da2 * (da_dbeta**2) + dnllik_da * d2a_dbeta2\n",
    "            hess[i, i] = np.sum(d2nllik_dbeta2)\n",
    "\n",
    "            j = i + 1\n",
    "            if not fix_mu:\n",
    "                d2g_dadmu = dg_da * (a - dlogpnorm_right / s) + \\\n",
    "                            np.exp(lg - llik) * (1 - dlogpnorm_right * xright - dlogpnorm_right**2)\n",
    "                d2nllik_dbetadmu = dnllik_dbeta * dnllik_dmu - w * d2g_dadmu * da_dbeta\n",
    "                hess[i, j] = hess[j, i] = np.sum(d2nllik_dbetadmu)\n",
    "\n",
    "            i += 1\n",
    "\n",
    "        # Hessian with respect to mu\n",
    "        if not fix_mu:\n",
    "            d2f_dmu2 = df_dmu * ((x - mu) / s**2) - np.exp(lf - llik) / s**2\n",
    "            d2g_dmu2 = dg_dmu * (a - dlogpnorm_right / s) - \\\n",
    "                       np.exp(lg - llik) * (dlogpnorm_right * xright + dlogpnorm_right**2) / s**2\n",
    "            d2nllik_dmu2 = dnllik_dmu**2 - (1 - w) * d2f_dmu2 - w * d2g_dmu2\n",
    "            hess[i, i] = np.sum(d2nllik_dmu2)\n",
    "\n",
    "    if calc_grad and calc_hess:\n",
    "        return nllik, grad, hess\n",
    "    elif calc_grad:\n",
    "        return nllik, grad\n",
    "    else:\n",
    "        return nllik\n"
   ]
  },
  {
   "cell_type": "code",
   "execution_count": 22,
   "metadata": {},
   "outputs": [
    {
     "name": "stdout",
     "output_type": "stream",
     "text": [
      "Negative Log Likelihood: 7.026976565768523\n"
     ]
    }
   ],
   "source": [
    "x = np.array([1.0, 2.0, -1.5])  # Observed data\n",
    "s = np.array([1.0, 1.0, 1.0])   # Standard deviations\n",
    "par_init = [0.0, 0.0, 0.0]      # Initial parameters (alpha, beta, mu)\n",
    "fix_par = [False, False, False] # No fixed parameters\n",
    "par = [0.5, 0.1, 1.0]           # Parameters to optimize\n",
    "\n",
    "# Compute negative log likelihood\n",
    "nllik = pe_nllik(par, x, s, par_init, fix_par, calc_grad=False)\n",
    "print(\"Negative Log Likelihood:\", nllik)\n"
   ]
  },
  {
   "cell_type": "code",
   "execution_count": 23,
   "metadata": {},
   "outputs": [
    {
     "name": "stdout",
     "output_type": "stream",
     "text": [
      "Final Negative Log Likelihood: 3.636553632132083\n",
      "Optimized w: 0.9999563044116645\n",
      "Optimized a: 3.047337093696241\n",
      "Optimized mu: 0.0\n"
     ]
    }
   ],
   "source": [
    "from scipy.optimize import minimize\n",
    "\n",
    "class optimizePointExponential:\n",
    "    def __init__(self, w, a, mu, nllik):\n",
    "        self.w = w\n",
    "        self.a = a\n",
    "        self.mu = mu\n",
    "        self.nllik = nllik\n",
    "\n",
    "def optimize_pe_nllik_with_gradient(x, s, par_init, fix_par):\n",
    "    \"\"\"\n",
    "    Optimize the negative log likelihood for the point-exponential prior using gradient.\n",
    "\n",
    "    Args:\n",
    "        x (np.ndarray): Observed data.\n",
    "        s (np.ndarray): Standard deviations.\n",
    "        par_init (list): Initial parameters [alpha, beta, mu].\n",
    "        fix_par (list): Boolean list indicating which parameters are fixed.\n",
    "\n",
    "    Returns:\n",
    "        optimizePointExponential: Optimized parameters and final negative log likelihood.\n",
    "    \"\"\"\n",
    "    # Define a wrapper for the objective function\n",
    "    def objective(par):\n",
    "        nllik, grad = pe_nllik(par, x, s, par_init, fix_par, calc_grad=True, calc_hess=False)\n",
    "        return nllik, grad\n",
    "\n",
    "    # Wrapper for gradient extraction\n",
    "    def fun(par):\n",
    "        nllik, _ = objective(par)\n",
    "        return nllik\n",
    "\n",
    "    def jac(par):\n",
    "        _, grad = objective(par)\n",
    "        return grad\n",
    "\n",
    "    # Initial values for non-fixed parameters\n",
    "    free_params = [p for p, fixed in zip(par_init, fix_par) if not fixed]\n",
    "\n",
    "    # Bounds: Keep alpha unbounded, beta > 0, and mu unbounded\n",
    "    bounds = [\n",
    "        (None, None),  # Alpha has no bounds\n",
    "        (0, None),     # Beta must be strictly positive\n",
    "        (None, None)   # Mu has no bounds\n",
    "    ]\n",
    "    bounds = [b for b, fixed in zip(bounds, fix_par) if not fixed]\n",
    "\n",
    "    # Optimize using L-BFGS-B\n",
    "    result = minimize(\n",
    "        fun, free_params, method=\"L-BFGS-B\", jac=jac, bounds=bounds\n",
    "    )\n",
    "\n",
    "    if not result.success:\n",
    "        raise ValueError(\"Optimization failed: \" + result.message)\n",
    "\n",
    "    # Update the full parameter set with optimized values\n",
    "    optimized_params = np.array(par_init)\n",
    "    optimized_params[~np.array(fix_par)] = result.x\n",
    "\n",
    "    # Convert alpha to w\n",
    "    optimized_params[0] = 1 - 1 / (1 + np.exp(optimized_params[0]))\n",
    "\n",
    "    # Convert beta to a\n",
    "    optimized_params[1] = np.exp(optimized_params[1])\n",
    "\n",
    "    return optimizePointExponential(w=optimized_params[0],\n",
    "                                     a=optimized_params[1],\n",
    "                                     mu=optimized_params[2],\n",
    "                                     nllik=result.fun)\n",
    "\n",
    "# Example Usage\n",
    "x = np.array([1.0, 1.0, -0.5])  # Observed data\n",
    "s = np.array([1.0, 1.0, 1.0])   # Standard deviations\n",
    "par_init = [0.0, 0.1, 0.0]      # Initial parameters [alpha, beta, mu]\n",
    "fix_par = [False, False, True] # No fixed parameters\n",
    "\n",
    "# Run optimization\n",
    "result = optimize_pe_nllik_with_gradient(x, s, par_init, fix_par)\n",
    "print(\"Final Negative Log Likelihood:\", result.nllik)\n",
    "print(\"Optimized w:\", result.w)\n",
    "print(\"Optimized a:\", result.a)\n",
    "print(\"Optimized mu:\", result.mu)\n"
   ]
  },
  {
   "cell_type": "code",
   "execution_count": 24,
   "metadata": {},
   "outputs": [],
   "source": [
    "class ebnm_point_exp:\n",
    "    def __init__(self, post_mean, post_mean2, post_sd, scale, pi,   log_lik=0,#log_lik2 =0,\n",
    "                 mode=0):\n",
    "        self.post_mean = post_mean\n",
    "        self.post_mean2 = post_mean2\n",
    "        self.post_sd = post_sd\n",
    "        self.scale= scale\n",
    "        self.pi =pi  \n",
    "        self.log_lik = log_lik\n",
    "       # self.log_lik2= log_lik2 \n",
    "        self.mode =  mode\n",
    "\n",
    "\n",
    "def ebnm_point_exp_solver ( x,s,opt_mu=False,par_init = [0.0, 1.0, 0.0]  ):\n",
    "    if(opt_mu):\n",
    "        fix_par = [False, False, False]\n",
    "    else :\n",
    "        fix_par = [False, False, True]\n",
    "    par_init = par_init\n",
    "    optimized_prior =  optimize_pe_nllik_with_gradient(x, s, par_init, fix_par)\n",
    "    post_obj=  posterior_mean_pe(x, s, optimized_prior.w, optimized_prior.a, optimized_prior.mu)\n",
    "    return( ebnm_point_exp( post_mean=post_obj.post_mean, \n",
    "                                post_mean2=post_obj.post_mean2, \n",
    "                                post_sd=post_obj.post_sd,\n",
    "                                scale=optimized_prior.a,\n",
    "                                pi=optimized_prior.w,   log_lik=-optimized_prior.nllik,#log_lik2 =0,\n",
    "                                mode=optimized_prior.mu)\n",
    "    )"
   ]
  },
  {
   "cell_type": "code",
   "execution_count": null,
   "metadata": {},
   "outputs": [],
   "source": [
    " "
   ]
  },
  {
   "cell_type": "code",
   "execution_count": 25,
   "metadata": {},
   "outputs": [],
   "source": [
    "true_val1=  np.random.normal(loc=0, scale=1, size=100)\n",
    "true_val0=  np.zeros( 100)\n",
    "\n",
    "observations_mu_1 =true_val1+np.random.normal(loc=0, scale=1, size=100)\n",
    "observations_mu_0 =true_val0+ np.random.normal(loc=0, scale=1, size=100)\n",
    "# Combine them into one array\n",
    "betahat = np.hstack([observations_mu_1, observations_mu_0])\n",
    "sebetahat=  np.repeat(1, betahat.shape[0])\n",
    "res=ebnm_point_exp_solver(x=betahat, s=sebetahat)\n",
    " "
   ]
  },
  {
   "cell_type": "code",
   "execution_count": null,
   "metadata": {},
   "outputs": [],
   "source": []
  },
  {
   "cell_type": "code",
   "execution_count": 26,
   "metadata": {},
   "outputs": [
    {
     "data": {
      "text/plain": [
       "1.2840542116299096"
      ]
     },
     "execution_count": 26,
     "metadata": {},
     "output_type": "execute_result"
    },
    {
     "data": {
      "image/png": "[encoded data removed]",
      "text/plain": [
       "<Figure size 640x480 with 1 Axes>"
      ]
     },
     "metadata": {},
     "output_type": "display_data"
    }
   ],
   "source": [
    "plt.scatter(betahat, res.post_mean  )\n",
    "plt.xlabel(\"observed values\")\n",
    "plt.plot(betahat, betahat, color='red', label='x = y')\n",
    "plt.axhline(y=0, color=\"black\")\n",
    "plt.ylabel(\"posterior mean\")\n",
    "res.scale"
   ]
  },
  {
   "cell_type": "code",
   "execution_count": 7,
   "metadata": {},
   "outputs": [],
   "source": [
    "res=ebnm_point_exp_solver(x=betahat, s=0.000001*sebetahat)"
   ]
  },
  {
   "cell_type": "code",
   "execution_count": 8,
   "metadata": {},
   "outputs": [
    {
     "data": {
      "text/plain": [
       "2.5411912546675577"
      ]
     },
     "execution_count": 8,
     "metadata": {},
     "output_type": "execute_result"
    }
   ],
   "source": [
    "res.scale"
   ]
  },
  {
   "cell_type": "code",
   "execution_count": 9,
   "metadata": {},
   "outputs": [
    {
     "data": {
      "text/plain": [
       "2.5411912546675577"
      ]
     },
     "execution_count": 9,
     "metadata": {},
     "output_type": "execute_result"
    },
    {
     "data": {
      "image/png": "[encoded data removed]",
      "text/plain": [
       "<Figure size 640x480 with 1 Axes>"
      ]
     },
     "metadata": {},
     "output_type": "display_data"
    }
   ],
   "source": [
    "plt.scatter(betahat, res.post_mean  )\n",
    "plt.xlabel(\"observed values\")\n",
    "plt.plot(betahat, betahat, color='red', label='x = y')\n",
    "plt.axhline(y=0, color=\"black\")\n",
    "plt.ylabel(\"posterior mean\")\n",
    "res.scale"
   ]
  },
  {
   "cell_type": "code",
   "execution_count": 30,
   "metadata": {},
   "outputs": [],
   "source": [
    "\n",
    "par_init = [0.0, 1.0, 0.0]\n",
    "fix_par = [False, False, True]\n",
    "par_init = par_init\n",
    "x=0*betahat\n",
    "s=sebetahat"
   ]
  }
 ],
 "metadata": {
  "kernelspec": {
   "display_name": "ml_env",
   "language": "python",
   "name": "python3"
  },
  "language_info": {
   "codemirror_mode": {
    "name": "ipython",
    "version": 3
   },
   "file_extension": ".py",
   "mimetype": "text/x-python",
   "name": "python",
   "nbconvert_exporter": "python",
   "pygments_lexer": "ipython3",
   "version": "3.10.8"
  }
 },
 "nbformat": 4,
 "nbformat_minor": 2
}
