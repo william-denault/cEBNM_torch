{
 "cells": [
  {
   "cell_type": "code",
   "execution_count": 1,
   "metadata": {},
   "outputs": [],
   "source": [
    "import numpy as np\n",
    "from scipy.stats import norm\n",
    "import sys\n",
    "import os\n",
    "import matplotlib.pyplot as plt\n",
    "\n",
    "# Add the path to utils.py\n",
    "sys.path.append(r\"D:\\Document\\Serieux\\Travail\\python_work\\cEBNM_torch\\py\")\n",
    "from numerical_routine import *\n",
    "from ebnm_point_laplace import *\n",
    "from scipy.stats import norm\n",
    "import numpy as np"
   ]
  },
  {
   "cell_type": "code",
   "execution_count": 2,
   "metadata": {},
   "outputs": [
    {
     "name": "stderr",
     "output_type": "stream",
     "text": [
      "D:\\Document\\Serieux\\Travail\\python_work\\cEBNM_torch\\py\\numerical_routine.py:86: RuntimeWarning: invalid value encountered in multiply\n",
      "  alpha_frac = alpha * np.exp( np.clip(stats.norm.logpdf(alpha) - pnorm_diff, None, 700))\n",
      "D:\\Document\\Serieux\\Travail\\python_work\\cEBNM_torch\\py\\numerical_routine.py:87: RuntimeWarning: invalid value encountered in multiply\n",
      "  beta_frac = beta * np.exp( np.clip(stats.norm.logpdf(beta) - pnorm_diff, None, 700))\n",
      "D:\\Document\\Serieux\\Travail\\python_work\\cEBNM_torch\\py\\numerical_routine.py:105: RuntimeWarning: invalid value encountered in add\n",
      "  upper_bd2 = (alpha ** 2 + alpha * beta + beta ** 2) / 3\n"
     ]
    }
   ],
   "source": [
    "true_val1=  np.random.normal(loc=0, scale=5, size=100)\n",
    "true_val0=  np.zeros( 200)\n",
    "\n",
    "observations_mu_1 =true_val1+np.random.normal(loc=0, scale=1, size=100)\n",
    "observations_mu_0 =true_val0+ np.random.normal(loc=0, scale=1, size=200)\n",
    "# Combine them into one array\n",
    "betahat = np.hstack([observations_mu_1, observations_mu_0])\n",
    "sebetahat=  np.repeat(1, betahat.shape[0])\n",
    "res= ebnm_point_laplace_solver(x=betahat, s=sebetahat)\n",
    " "
   ]
  },
  {
   "cell_type": "code",
   "execution_count": 3,
   "metadata": {},
   "outputs": [
    {
     "data": {
      "text/plain": [
       "np.float64(0.27241057957017933)"
      ]
     },
     "execution_count": 3,
     "metadata": {},
     "output_type": "execute_result"
    },
    {
     "data": {
      "image/png": "[encoded data removed]",
      "text/plain": [
       "<Figure size 640x480 with 1 Axes>"
      ]
     },
     "metadata": {},
     "output_type": "display_data"
    }
   ],
   "source": [
    "plt.scatter(betahat, res.post_mean  )\n",
    "plt.xlabel(\"observed values\")\n",
    "plt.plot(betahat, betahat, color='red', label='x = y')\n",
    "plt.axhline(y=0, color=\"black\")\n",
    "plt.ylabel(\"posterior mean\")\n",
    "res.scale"
   ]
  },
  {
   "cell_type": "code",
   "execution_count": 132,
   "metadata": {},
   "outputs": [],
   "source": [
    "import sys\n",
    "import os\n",
    "import matplotlib.pyplot as plt\n",
    "import numpy as np\n",
    "\n",
    "# Add the path to utils.py\n",
    "sys.path.append(r\"D:\\Document\\Serieux\\Travail\\python_work\\cEBNM_torch\\py\")\n",
    "from distribution_operation import *\n",
    "from utils import *\n",
    "from numerical_routine import *\n",
    "from posterior_computation import *\n",
    "from ash import *"
   ]
  },
  {
   "cell_type": "code",
   "execution_count": 133,
   "metadata": {},
   "outputs": [
    {
     "name": "stdout",
     "output_type": "stream",
     "text": [
      "-16.91767637608251\n",
      "[7.62378256e-01 1.85932222e-11 1.85942848e-11 1.85964577e-11\n",
      " 1.86010255e-11 1.86114299e-11 1.86410570e-11 1.87732211e-11\n",
      " 1.96474741e-11 2.49075205e-11 4.52087257e-11 9.75060667e-11\n",
      " 2.30335211e-10 5.25821675e-06 2.36980217e-01 6.36267815e-04\n",
      " 3.90494875e-10 1.59697715e-10]\n",
      "[0.         0.03827328 0.05412659 0.07654655 0.10825318 0.15309311\n",
      " 0.21650635 0.30618622 0.4330127  0.61237244 0.8660254  1.22474487\n",
      " 1.73205081 2.44948974 3.46410162 4.89897949 6.92820323 9.79795897]\n"
     ]
    }
   ],
   "source": [
    "betahat=  np.array([1,2,3,4,5])\n",
    "sebetahat=np.array([1,0.4,5,1,1])\n",
    "\n",
    "res= ash(betahat, sebetahat, mult=np.sqrt(2))\n",
    "print(res.log_lik)\n",
    "print(res.pi )\n",
    "print(res.scale     )\n",
    "mult=2"
   ]
  },
  {
   "cell_type": "code",
   "execution_count": 134,
   "metadata": {},
   "outputs": [
    {
     "data": {
      "text/plain": [
       "np.float64(-1.5964616012204798)"
      ]
     },
     "execution_count": 134,
     "metadata": {},
     "output_type": "execute_result"
    }
   ],
   "source": [
    "from scipy.stats import norm\n",
    "import numpy as np\n",
    "\n",
    "def logg_laplace(x, s, a):\n",
    "    \"\"\"\n",
    "    Compute the log of g, Laplace(a) convolved with a normal distribution.\n",
    "    \n",
    "    Args:\n",
    "        x (np.ndarray): Input data.\n",
    "        s (float or np.ndarray): Standard deviation of the normal distribution.\n",
    "        a (float): Scale parameter of the Laplace distribution.\n",
    "    \n",
    "    Returns:\n",
    "        np.ndarray: Log-Laplace density values.\n",
    "    \"\"\"\n",
    "    lg1 = -a * x + norm.logcdf((x - s**2 * a) / s)\n",
    "    lg2 = a * x + norm.logcdf(-(x + s**2 * a) / s)  # Upper tail as -x\n",
    "    lfac = np.maximum(lg1, lg2)\n",
    "    return np.log(a / 2) + s**2 * a**2 / 2 + lfac + np.log(np.exp(lg1 - lfac) + np.exp(lg2 - lfac))\n",
    "\n",
    "\n",
    "logg_laplace(1,1,1)"
   ]
  },
  {
   "cell_type": "code",
   "execution_count": 135,
   "metadata": {},
   "outputs": [
    {
     "data": {
      "text/plain": [
       "np.float64(-1.5037659241189736)"
      ]
     },
     "execution_count": 135,
     "metadata": {},
     "output_type": "execute_result"
    }
   ],
   "source": [
    "import numpy as np\n",
    "from scipy.stats import norm\n",
    "import sys\n",
    "import os\n",
    "import matplotlib.pyplot as plt\n",
    "\n",
    "# Add the path to utils.py\n",
    "sys.path.append(r\"D:\\Document\\Serieux\\Travail\\python_work\\cEBNM_torch\\py\")\n",
    "from numerical_routine import *\n",
    "# Function to compute the log likelihood under the point-laplace prior\n",
    "def loglik_point_laplace(x, s, w, a, mu):\n",
    "    \"\"\"\n",
    "    Compute the log likelihood under the point-laplace prior.\n",
    "    Args:\n",
    "        x: Observed data (array-like).\n",
    "        s: Standard deviation (scalar or array-like).\n",
    "        w: Weight for the mixture component (scalar).\n",
    "        a: Laplace scale parameter (scalar).\n",
    "        mu: Mean (scalar).\n",
    "    Returns:\n",
    "        Log likelihood (scalar).\n",
    "    \"\"\"\n",
    "    return np.sum(vloglik_point_laplace(x, s, w, a, mu))\n",
    "\n",
    "# Helper function to compute log((1 - w)f + wg) as a vector\n",
    "def vloglik_point_laplace(x, s, w, a, mu):\n",
    "    \"\"\"\n",
    "    Compute the vectorized log likelihood under the point-laplace prior.\n",
    "    Args:\n",
    "        x: Observed data (array-like).\n",
    "        s: Standard deviation (scalar or array-like).\n",
    "        w: Weight for the mixture component (scalar).\n",
    "        a: Laplace scale parameter (scalar).\n",
    "        mu: Mean (scalar).\n",
    "    Returns:\n",
    "        Log likelihood vector (array-like).\n",
    "    \"\"\"\n",
    "    if w <= 0:\n",
    "        return norm.logpdf(x - mu, scale=s)\n",
    "\n",
    "    lg = logg_laplace(x - mu, s, a)\n",
    "    if w == 1:\n",
    "        return lg\n",
    "\n",
    "    lf = norm.logpdf(x - mu, scale=s)\n",
    "    lfac = np.maximum(lg, lf)\n",
    "    return lfac + np.log((1 - w) * np.exp(lf - lfac) + w * np.exp(lg - lfac))\n",
    "\n",
    "\n",
    "\n",
    "\n",
    "vloglik_point_laplace(1,1,0.5,1,0)\n",
    "loglik_point_laplace(1,1,0.5,1,0)\n"
   ]
  },
  {
   "cell_type": "code",
   "execution_count": 136,
   "metadata": {},
   "outputs": [
    {
     "data": {
      "text/plain": [
       "array([0.45573542, 0.57074938, 0.93438632])"
      ]
     },
     "execution_count": 136,
     "metadata": {},
     "output_type": "execute_result"
    }
   ],
   "source": [
    "def wpost_laplace(x, s, w, a):\n",
    "    \"\"\"\n",
    "    Compute the posterior weights for the Laplace component.\n",
    "    \n",
    "    Args:\n",
    "        x (np.ndarray): Input data.\n",
    "        s (float or np.ndarray): Standard deviation of the normal component.\n",
    "        w (float): Weight for the Laplace component (mixture proportion).\n",
    "        a (float): Scale parameter of the Laplace distribution.\n",
    "    \n",
    "    Returns:\n",
    "        np.ndarray: Posterior weights for the Laplace component.\n",
    "    \"\"\"\n",
    "    if w == 0:\n",
    "        return np.zeros_like(x)\n",
    "\n",
    "    if w == 1:\n",
    "        return np.ones_like(x)\n",
    "\n",
    "    # Log-density for the normal component\n",
    "    lf = norm.logpdf(x, loc=0, scale=s)\n",
    "\n",
    "    # Log-density for the Laplace component convolved with normal\n",
    "    lg = logg_laplace(x, s, a)\n",
    "\n",
    "    # Compute posterior weights\n",
    "    wpost = w / (w + (1 - w) * np.exp(lf - lg))\n",
    "    \n",
    "    return wpost\n",
    "\n",
    "x = np.array([1.0, 2.0, -1.5])\n",
    "s = np.array([1.0, 1.2, .5])\n",
    "wpost_laplace(x,s,0.5,1)"
   ]
  },
  {
   "cell_type": "code",
   "execution_count": 137,
   "metadata": {},
   "outputs": [
    {
     "data": {
      "text/plain": [
       "np.float64(0.08054445392157272)"
      ]
     },
     "execution_count": 137,
     "metadata": {},
     "output_type": "execute_result"
    }
   ],
   "source": [
    "def lambda_func(x, s, a):\n",
    "    \"\"\"\n",
    "    Compute lambda, the probability of being positive given a non-zero effect.\n",
    "    \n",
    "    Args:\n",
    "        x (np.ndarray): Input data.\n",
    "        s (np.ndarray): Standard deviations.\n",
    "        a (float): Laplace scale parameter.\n",
    "    \n",
    "    Returns:\n",
    "        np.ndarray: Lambda values.\n",
    "    \"\"\"\n",
    "    lm1 = -a * x + norm.logcdf(x / s - s * a)\n",
    "    lm2 = a * x + norm.logcdf(-(x / s + s * a))\n",
    "    return 1 / (1 + np.exp(lm2 - lm1))\n",
    "\n",
    "\n",
    "lambda_func(-2,1,1)"
   ]
  },
  {
   "cell_type": "code",
   "execution_count": 138,
   "metadata": {},
   "outputs": [
    {
     "name": "stdout",
     "output_type": "stream",
     "text": [
      "[0.66145273 0.75624598 0.68156531]\n",
      "[0.65301652 0.92274914 0.94291949]\n",
      "[ 0.33285794  0.73456863 -0.20122616]\n"
     ]
    }
   ],
   "source": [
    "class PosteriorMeanPointLapalce:\n",
    "    def __init__(self, post_mean, post_mean2, post_sd):\n",
    "        self.post_mean = post_mean\n",
    "        self.post_mean2 = post_mean2\n",
    "        self.post_sd = post_sd\n",
    "\n",
    "def posterior_mean_laplace(x, s, w, a, mu=0):\n",
    "    \"\"\"\n",
    "    Compute the posterior mean for a normal mean under a Laplace prior.\n",
    "    \n",
    "    Args:\n",
    "        x (np.ndarray): Observed data.\n",
    "        s (float or np.ndarray): Standard deviation of the normal likelihood.\n",
    "        w (float): Mixture weight for the Laplace component.\n",
    "        a (float): Laplace scale parameter.\n",
    "        mu (float): Mean of the prior distribution (default is 0).\n",
    "    \n",
    "    Returns:\n",
    "        np.ndarray: Posterior means.\n",
    "    \"\"\"\n",
    "    # Compute posterior weights\n",
    "    wpost = wpost_laplace(x - mu, s, w, a)\n",
    "    print(wpost)\n",
    "    # Compute lambda (probability of being positive given non-null)\n",
    "    lm = lambda_func(x - mu, s, a)\n",
    "    \n",
    "    # Compute the truncated means for the Laplace component\n",
    "    laplace_mean_positive = my_etruncnorm(0, 99999 ,x - mu - s**2 * a, s)\n",
    "    laplace_mean_negative = my_etruncnorm(-99999, 0, x - mu + s**2 * a, s)\n",
    "    laplace_component_mean = lm * laplace_mean_positive + (1 - lm) * laplace_mean_negative\n",
    "    post_mean2              =  wpost * (lm * my_e2truncnorm(0, np.inf, x - mu - s**2 * a, s)\n",
    "                                       + (1 - lm) * my_e2truncnorm(-np.inf, 0, x - mu + s**2 * a, s))\n",
    "\n",
    "    \n",
    "    # Combine posterior means\n",
    "    post_mean =    wpost * laplace_component_mean  \n",
    "\n",
    "    if np.any(np.isinf(s)):\n",
    "        inf_indices = np.isinf(s)\n",
    "        a = 1/scale[1:]\n",
    "        # Equivalent of `post$mean[is.infinite(s)]` \n",
    "        post_mean[inf_indices] = wpost  / a \n",
    "\n",
    "        # Equivalent of `post$mean2[is.infinite(s)]`\n",
    "        post_mean2[inf_indices] =  2 * wpost / a**2 \n",
    "\n",
    "    post_mean2 = np.maximum(post_mean2, post_mean  ** 2)\n",
    "    \n",
    "    post_sd= np.sqrt(np.maximum(0, post_mean2 - post_mean**2))\n",
    "    post_mean2 = post_mean2 + mu**2+ 2*mu*post_mean\n",
    "    post_mean  =  post_mean+mu  \n",
    "    return PosteriorMeanPointLapalce(post_mean=post_mean,\n",
    "                                     post_mean2=post_mean2,\n",
    "                                     post_sd=  post_sd)\n",
    "\n",
    "\n",
    "\n",
    "x = np.array([1.0, 2.0, -1.5])\n",
    "s = np.array([1.0, 1.2, 2.5])\n",
    "a= posterior_mean_laplace(x,s,w=.7 ,a=1, mu=0 ) \n",
    "print(a.post_sd)\n",
    "print(a.post_mean)"
   ]
  },
  {
   "cell_type": "code",
   "execution_count": 139,
   "metadata": {},
   "outputs": [],
   "source": [
    "\n",
    " \n",
    "\n",
    "import numpy as np\n",
    "from scipy.stats import norm, truncnorm\n",
    "from scipy.special import logsumexp\n",
    "\n",
    "\n",
    "class LaplaceMixture:\n",
    "    def __init__(self, pi, mean, scale):\n",
    "        \"\"\"\n",
    "        Constructor for LaplaceMixture class.\n",
    "        \n",
    "        Args:\n",
    "            pi (np.ndarray): Mixture proportions.\n",
    "            mean (np.ndarray): Means of components.\n",
    "            scale (np.ndarray): Scale parameters of components.\n",
    "        \"\"\"\n",
    "        self.pi = np.asarray(pi)\n",
    "        self.mean = np.asarray(mean)\n",
    "        self.scale = np.asarray(scale)\n",
    "\n",
    "    def __repr__(self):\n",
    "        return f\"LaplaceMixture(pi={self.pi}, mean={self.mean}, scale={self.scale})\"\n",
    "def wpost_laplace(x, s, w, a):\n",
    "    \"\"\"\n",
    "    Compute posterior weights for non-null effects.\n",
    "    \n",
    "    Args:\n",
    "        x (np.ndarray): Input data.\n",
    "        s (float): Standard deviation.\n",
    "        w (float): Weight for the mixture component.\n",
    "        a (float): Scale parameter.\n",
    "    \n",
    "    Returns:\n",
    "        np.ndarray: Posterior weights.\n",
    "    \"\"\"\n",
    "    if w == 0:\n",
    "        return np.zeros(len(x))\n",
    "    if w == 1:\n",
    "        return np.ones(len(x))\n",
    "\n",
    "    lf = norm.logpdf(x, loc=0, scale=s)\n",
    "    lg = logg_laplace(x, s, a)\n",
    "    return w / (w + (1 - w) * np.exp(lf - lg))\n",
    "\n",
    "\n",
    "def pl_nllik(par, x, s,  calc_grad=False):\n",
    "    \"\"\"\n",
    "    Compute the negative log likelihood and its gradient.\n",
    "    \n",
    "    Args:\n",
    "        par (dict): Parameters (alpha, beta, mu).\n",
    "        x (np.ndarray): Observed data.\n",
    "        s (np.ndarray): Standard deviation.\n",
    "        fix_par (list): Fixed parameters.\n",
    "        calc_grad (bool): Whether to calculate gradients.\n",
    "    \n",
    "    Returns:\n",
    "        float: Negative log likelihood.\n",
    "    \"\"\"\n",
    "    alpha, beta, mu = par['alpha'], par['beta'], par['mu']\n",
    "\n",
    "    # Convert alpha and beta to w and a\n",
    "    w = 1 - 1 / (1 + np.exp(alpha))\n",
    "    a = np.exp(beta)\n",
    "\n",
    "    lf = norm.logpdf(x - mu, scale=s)\n",
    "    lg = logg_laplace(x - mu, s, a)\n",
    "    llik = np.log((1 - w) * np.exp(lf) + w * np.exp(lg))\n",
    "    nllik = -np.sum(llik)\n",
    "\n",
    "    if calc_grad:\n",
    "        # Gradient calculations (optional)\n",
    "        pass\n",
    "\n",
    "    return nllik\n",
    "def logscale_add(logx, logy):\n",
    "    \"\"\"\n",
    "    Compute the log of the sum of exponentials of logx and logy.\n",
    "    \n",
    "    Args:\n",
    "        logx (float): Log value.\n",
    "        logy (float): Log value.\n",
    "    \n",
    "    Returns:\n",
    "        float: Log-sum-exp.\n",
    "    \"\"\"\n",
    "    max_log = np.maximum(logx, logy)\n",
    "    return max_log + np.log(np.exp(logx - max_log) + np.exp(logy - max_log))\n"
   ]
  },
  {
   "cell_type": "code",
   "execution_count": 140,
   "metadata": {},
   "outputs": [],
   "source": [
    "import numpy as np\n",
    "from scipy.stats import norm\n",
    "\n",
    "def logscale_add(logx, logy):\n",
    "    \"\"\"\n",
    "    Compute log(exp(logx) + exp(logy)) in a numerically stable way.\n",
    "    \"\"\"\n",
    "    max_log = np.maximum(logx, logy)\n",
    "    return max_log + np.log(np.exp(logx - max_log) + np.exp(logy - max_log))\n",
    "\n",
    "def pl_nllik(par, x, s, par_init, fix_par, calc_grad=False, calc_hess=False):\n",
    "    \"\"\"\n",
    "    Compute the negative log likelihood and optionally its gradient and Hessian.\n",
    "\n",
    "    Args:\n",
    "        par (list): Parameters to optimize (subset based on fix_par).\n",
    "        x (np.ndarray): Observed data.\n",
    "        s (np.ndarray): Standard deviations.\n",
    "        par_init (list): Initial parameters (full set).\n",
    "        fix_par (list): Boolean list indicating which parameters to fix.\n",
    "        calc_grad (bool): Whether to calculate the gradient.\n",
    "        calc_hess (bool): Whether to calculate the Hessian.\n",
    "\n",
    "    Returns:\n",
    "        float: Negative log likelihood.\n",
    "        Optional: Gradient and Hessian as attributes of the output.\n",
    "    \"\"\"\n",
    "    fix_pi0, fix_a, fix_mu = fix_par\n",
    "\n",
    "    # Initialize parameters and update non-fixed values\n",
    "    p = np.array(par_init)\n",
    "    p[~np.array(fix_par)] = par\n",
    "\n",
    "    # Parameters\n",
    "    w = 1 - 1 / (1 + np.exp(p[0]))\n",
    "    a = np.exp(p[1])\n",
    "    mu = p[2]\n",
    "\n",
    "    # Point mass component\n",
    "    lf = -0.5 * np.log(2 * np.pi * s**2) - 0.5 * ((x - mu) / s)**2\n",
    "\n",
    "    # Laplace component: left tail\n",
    "    xleft = (x - mu) / s + s * a\n",
    "    lpnormleft = norm.logsf(xleft)\n",
    "    lgleft = np.log(a / 2) + s**2 * a**2 / 2 + a * (x - mu) + lpnormleft\n",
    "\n",
    "    # Laplace component: right tail\n",
    "    xright = (x - mu) / s - s * a\n",
    "    lpnormright = norm.logcdf(xright)\n",
    "    lgright = np.log(a / 2) + s**2 * a**2 / 2 - a * (x - mu) + lpnormright\n",
    "\n",
    "    # Combine left and right tails\n",
    "    lg = logscale_add(lgleft, lgright)\n",
    "\n",
    "    # Log likelihood\n",
    "    llik = logscale_add(np.log(1 - w) + lf, np.log(w) + lg)\n",
    "    nllik = -np.sum(llik)\n",
    "\n",
    "    # Gradients (optional)\n",
    "    if calc_grad or calc_hess:\n",
    "        grad = np.zeros(len(par))\n",
    "        i = 0\n",
    "\n",
    "        # Gradient with respect to w (alpha)\n",
    "        if not fix_pi0:\n",
    "            f = np.exp(lf - llik)\n",
    "            g = np.exp(lg - llik)\n",
    "            dnllik_dw = f - g\n",
    "            dw_dalpha = w * (1 - w)\n",
    "            grad[i] = np.sum(dnllik_dw * dw_dalpha)\n",
    "            i += 1\n",
    "\n",
    "        # Gradient with respect to a (beta)\n",
    "        if not fix_a:\n",
    "            dlogpnorm_left = -np.exp(-np.log(2 * np.pi) / 2 - xleft**2 / 2 - lpnormleft)\n",
    "            dlogpnorm_right = np.exp(-np.log(2 * np.pi) / 2 - xright**2 / 2 - lpnormright)\n",
    "\n",
    "            dgleft_da = np.exp(lgleft - llik) * (1 / a + a * s**2 + (x - mu) + s * dlogpnorm_left)\n",
    "            dgright_da = np.exp(lgright - llik) * (1 / a + a * s**2 - (x - mu) - s * dlogpnorm_right)\n",
    "            dg_da = dgleft_da + dgright_da\n",
    "\n",
    "            dnllik_da = -w * dg_da\n",
    "            da_dbeta = a\n",
    "            grad[i] = np.sum(dnllik_da * da_dbeta)\n",
    "            i += 1\n",
    "\n",
    "        # Gradient with respect to mu\n",
    "        if not fix_mu:\n",
    "            df_dmu = np.exp(lf - llik) * ((x - mu) / s**2)\n",
    "            dgleft_dmu = np.exp(lgleft - llik) * (-a - dlogpnorm_left / s)\n",
    "            dgright_dmu = np.exp(lgright - llik) * (a - dlogpnorm_right / s)\n",
    "            dg_dmu = dgleft_dmu + dgright_dmu\n",
    "            dnllik_dmu = -(1 - w) * df_dmu - w * dg_dmu\n",
    "            grad[i] = np.sum(dnllik_dmu)\n",
    "\n",
    "        nllik_grad = grad\n",
    "\n",
    "    # Hessian (optional)\n",
    "    if calc_hess:\n",
    "        hess = np.zeros((len(par), len(par)))\n",
    "        # The second derivatives would go here, similar to the gradient logic\n",
    "        # Implementation omitted for brevity\n",
    "\n",
    "        nllik_hess = hess\n",
    "\n",
    "    # Return results\n",
    "    if calc_grad and calc_hess:\n",
    "        return nllik, nllik_grad, nllik_hess\n",
    "    elif calc_grad:\n",
    "        return nllik, nllik_grad\n",
    "    else:\n",
    "        return nllik\n"
   ]
  },
  {
   "cell_type": "code",
   "execution_count": 141,
   "metadata": {},
   "outputs": [
    {
     "name": "stdout",
     "output_type": "stream",
     "text": [
      "Negative Log Likelihood: 5.74805874231258\n"
     ]
    }
   ],
   "source": [
    "x = np.array([1.0, 2.0, -1.5])  # Observed data\n",
    "s = np.array([1.0, 1.0, 1.0])   # Standard deviations\n",
    "par_init = [0.0, 0.0, 0.0]      # Initial parameters (alpha, beta, mu)\n",
    "fix_par = [False, False, False] # No fixed parameters\n",
    "par = [0.5, 0.1, 1.0]           # Parameters to optimize\n",
    "\n",
    "# Compute negative log likelihood\n",
    "nllik = pl_nllik(par, x, s, par_init, fix_par, calc_grad=False)\n",
    "print(\"Negative Log Likelihood:\", nllik)\n"
   ]
  },
  {
   "cell_type": "code",
   "execution_count": null,
   "metadata": {},
   "outputs": [],
   "source": []
  },
  {
   "cell_type": "code",
   "execution_count": null,
   "metadata": {},
   "outputs": [],
   "source": []
  },
  {
   "cell_type": "code",
   "execution_count": null,
   "metadata": {},
   "outputs": [],
   "source": [
    " "
   ]
  },
  {
   "cell_type": "code",
   "execution_count": 142,
   "metadata": {},
   "outputs": [
    {
     "data": {
      "text/plain": [
       "np.float64(0.04698323858334896)"
      ]
     },
     "execution_count": 142,
     "metadata": {},
     "output_type": "execute_result"
    }
   ],
   "source": [
    "from scipy.optimize import minimize\n",
    "\n",
    "class optimizePointLalplace:\n",
    "    def __init__(self, w, a, mu ,nllik):\n",
    "        self.w = w\n",
    "        self.a = a\n",
    "        self.mu= mu\n",
    "        self.nllik= nllik\n",
    "\n",
    "def optimize_pl_nllik_with_gradient(x, s, par_init, fix_par):\n",
    "    \"\"\"\n",
    "    Optimize the negative log likelihood for the point-Laplace prior using gradient.\n",
    "\n",
    "    Args:\n",
    "        x (np.ndarray): Observed data.\n",
    "        s (np.ndarray): Standard deviations.\n",
    "        par_init (list): Initial parameters [alpha, beta, mu].\n",
    "        fix_par (list): Boolean list indicating which parameters are fixed.\n",
    "\n",
    "    Returns:\n",
    "        dict: Optimized parameters and final negative log likelihood.\n",
    "    \"\"\"\n",
    "    # Define a wrapper for the objective function\n",
    "    def objective(par):\n",
    "        nllik, grad = pl_nllik(par, x, s, par_init, fix_par, calc_grad=True, calc_hess=False)\n",
    "        return nllik, grad\n",
    "\n",
    "    # Wrapper for gradient extraction\n",
    "    def fun(par):\n",
    "        nllik, _ = objective(par)\n",
    "        return nllik\n",
    "\n",
    "    def jac(par):\n",
    "        _, grad = objective(par)\n",
    "        return grad\n",
    "\n",
    "    # Initial values for non-fixed parameters\n",
    "    free_params = [p for p, fixed in zip(par_init, fix_par) if not fixed]\n",
    "\n",
    "    # Bounds (optional): Keep alpha unbounded, beta > 0, mu unbounded\n",
    "    bounds = [\n",
    "        (None, None),  # Alpha has no bounds\n",
    "        (None, None),  # Beta (transformed Laplace scale) has no explicit bounds\n",
    "        (None, None)   # Mu has no bounds\n",
    "    ]\n",
    "    bounds = [b for b, fixed in zip(bounds, fix_par) if not fixed]\n",
    "\n",
    "    # Optimize using L-BFGS-B\n",
    "    result = minimize(\n",
    "        fun, free_params, method=\"L-BFGS-B\", jac=jac, bounds=bounds\n",
    "    )\n",
    "\n",
    "    if not result.success:\n",
    "        raise ValueError(\"Optimization failed: \" + result.message)\n",
    "\n",
    "    # Update the full parameter set with optimized values\n",
    "    optimized_params = np.array(par_init)\n",
    "    optimized_params[~np.array(fix_par)] = result.x\n",
    "    optimized_params[0]= 1- 1/(1+ np.exp(optimized_params[0]))\n",
    "    \n",
    "    # Compute final negative log likelihood\n",
    "    \n",
    "\n",
    "    return  optimizePointLalplace(w=optimized_params[0],\n",
    "                                  a=np.exp(optimized_params[1]),\n",
    "                                  mu=optimized_params[2],\n",
    "                                  nllik= result.fun)\n",
    "# Example Usage\n",
    "x = np.array([0.0, 0.0, -0.5])  # Observed data\n",
    "s = np.array([1.0, 1.0, 1.0])   # Standard deviations\n",
    "par_init = [0.0, 0.0, 0.0]      # Initial parameters [alpha, beta, mu]\n",
    "fix_par = [False, False, False] # No fixed parameters\n",
    "\n",
    "# Run optimization\n",
    "result = optimize_pl_nllik_with_gradient(x, s, par_init, fix_par)\n",
    "result.nllik\n",
    "result.w"
   ]
  },
  {
   "cell_type": "code",
   "execution_count": 143,
   "metadata": {},
   "outputs": [],
   "source": [
    "class ebnm_point_laplace:\n",
    "    def __init__(self, post_mean, post_mean2, post_sd, scale, pi,   log_lik=0,#log_lik2 =0,\n",
    "                 mode=0):\n",
    "        self.post_mean = post_mean\n",
    "        self.post_mean2 = post_mean2\n",
    "        self.post_sd = post_sd\n",
    "        self.scale= scale\n",
    "        self.pi =pi  \n",
    "        self.log_lik = log_lik\n",
    "       # self.log_lik2= log_lik2 \n",
    "        self.mode =  mode\n",
    "\n",
    "\n",
    "def ebnm_point_laplace_solver ( x,s,opt_mu=False,par_init = [0.0, 1.0, 0.0]  ):\n",
    "    if(opt_mu):\n",
    "        fix_par = [False, False, False]\n",
    "    else :\n",
    "        fix_par = [False, False, True]\n",
    "    par_init = par_init\n",
    "    optimized_prior =  optimize_pl_nllik_with_gradient(x, s, par_init, fix_par)\n",
    "    post_obj=  posterior_mean_laplace(x, s, optimized_prior.w, optimized_prior.a, optimized_prior.mu)\n",
    "    return( ebnm_point_laplace( post_mean=post_obj.post_mean, \n",
    "                                post_mean2=post_obj.post_mean2, \n",
    "                                post_sd=post_obj.post_sd,\n",
    "                                scale=optimized_prior.a,\n",
    "                                pi=optimized_prior.w,   log_lik=-optimized_prior.nllik,#log_lik2 =0,\n",
    "                                mode=optimized_prior.mu)\n",
    "    )"
   ]
  },
  {
   "cell_type": "code",
   "execution_count": null,
   "metadata": {},
   "outputs": [],
   "source": []
  },
  {
   "cell_type": "code",
   "execution_count": null,
   "metadata": {},
   "outputs": [],
   "source": []
  },
  {
   "cell_type": "code",
   "execution_count": 144,
   "metadata": {},
   "outputs": [
    {
     "name": "stdout",
     "output_type": "stream",
     "text": [
      "[0.99999833 1.         0.99999839]\n",
      "-4.161880337595548\n",
      "[ 0.          0.9326135  -0.15496329]\n"
     ]
    }
   ],
   "source": [
    "x = np.array([0.0, 1.0, -0.5])  # Observed data\n",
    "s = np.array([1.0,  .2, 1.0])  \n",
    "ebnm_res= ebnm_point_laplace_solver(x=x,s=s) \n",
    "\n",
    "\n",
    "print(ebnm_res.log_lik)\n",
    "\n",
    "print(ebnm_res.post_mean)\n"
   ]
  },
  {
   "cell_type": "code",
   "execution_count": 145,
   "metadata": {},
   "outputs": [],
   "source": [
    "true_val1=  np.random.normal(loc=0, scale=2, size=100)\n",
    "true_val0=  np.zeros( 100)\n",
    "\n",
    "observations_mu_1 =true_val1+np.random.normal(loc=0, scale=1, size=100)\n",
    "observations_mu_0 =true_val0+ np.random.normal(loc=0, scale=1, size=100)\n",
    "# Combine them into one array\n",
    "betahat = np.hstack([observations_mu_1, observations_mu_0])\n",
    "sebetahat=  np.repeat(1, betahat.shape[0])"
   ]
  },
  {
   "cell_type": "code",
   "execution_count": 146,
   "metadata": {},
   "outputs": [],
   "source": [
    "x=betahat\n",
    "s=sebetahat"
   ]
  },
  {
   "cell_type": "code",
   "execution_count": 147,
   "metadata": {},
   "outputs": [
    {
     "name": "stdout",
     "output_type": "stream",
     "text": [
      "Negative Log Likelihood: 431.3917691654209\n"
     ]
    }
   ],
   "source": [
    "par_init = [0.0, 0.0, 0.0]      # Initial parameters (alpha, beta, mu)\n",
    "fix_par = [False, False, False] # No fixed parameters\n",
    "par = [0.5, 0.1, 1.0]           # Parameters to optimize\n",
    "\n",
    "# Compute negative log likelihood\n",
    "nllik = pl_nllik(par, x, s, par_init, fix_par, calc_grad=False)\n",
    "print(\"Negative Log Likelihood:\", nllik)"
   ]
  },
  {
   "cell_type": "code",
   "execution_count": 148,
   "metadata": {},
   "outputs": [
    {
     "data": {
      "text/plain": [
       "np.float64(382.2367653477873)"
      ]
     },
     "execution_count": 148,
     "metadata": {},
     "output_type": "execute_result"
    }
   ],
   "source": [
    "result = optimize_pl_nllik_with_gradient(x, s, par_init, fix_par)\n",
    "result.nllik\n",
    " "
   ]
  },
  {
   "cell_type": "code",
   "execution_count": 149,
   "metadata": {},
   "outputs": [
    {
     "data": {
      "text/plain": [
       "array([ 0.54775741,  1.0231843 , -2.3105441 ,  1.27928412, -0.45737817,\n",
       "       -0.01426966, -3.93211372, -1.50926442,  1.36148417,  0.44493185,\n",
       "       -2.54702787, -1.22261343,  2.36553048,  1.5832207 , -1.38554829,\n",
       "       -1.13849144,  4.70358237, -2.15037122, -0.11285648, -1.90526796,\n",
       "       -2.92845533,  3.43252228, -0.80941143,  0.19259291, -3.28629582,\n",
       "        1.5841955 , -0.3269936 ,  1.62045841,  0.67767762,  1.46292205,\n",
       "       -0.37331655,  1.02073347,  1.62683257, -2.12717391,  1.93881286,\n",
       "       -1.07297558, -0.94764285, -0.05496423, -1.94933975, -0.7531588 ,\n",
       "       -1.47904147,  2.8743513 ,  0.95356705, -1.05632001,  3.86779219,\n",
       "       -0.74876285,  1.52967243, -1.54523708, -2.77031263,  1.10880801,\n",
       "        1.18943368, -0.88902978,  3.31486072,  2.23321922, -0.81600566,\n",
       "       -1.93172419,  0.98043434,  0.16178953, -1.17458972, -0.17658314,\n",
       "       -0.31918275,  1.90493978,  2.29137468, -1.8322847 , -5.68730686,\n",
       "        0.92192266,  5.93446207, -1.88318398, -0.13266574,  3.7764815 ,\n",
       "       -0.71424125, -6.34369684,  0.7669197 ,  3.31633547, -0.89207327,\n",
       "       -5.84545297,  1.22508489,  0.7147933 ,  1.57069192,  1.40296932,\n",
       "        0.1509061 ,  3.57141561,  1.02862265,  1.04833545, -0.50072113,\n",
       "       -0.23045078, -0.60572748, -2.74231592, -2.59005992, -2.80419178,\n",
       "       -3.74905436,  0.31252979,  1.19157416,  1.31015088,  1.2464891 ,\n",
       "        0.87325877,  1.29671492,  2.47941563,  0.59418291,  2.6132011 ,\n",
       "       -0.87564327, -1.59761959,  0.6097178 , -0.13639611, -0.61591097,\n",
       "        1.70344116,  0.07449754,  0.16412478,  0.1390639 , -3.17532917,\n",
       "        0.66816987, -0.20150925,  0.07818513, -1.41804171,  0.57168234,\n",
       "        0.82627283, -1.17585867, -0.86533989, -0.91251539, -1.05358479,\n",
       "        1.32813751, -2.47856898, -1.16555793, -0.28679128, -1.27799598,\n",
       "        1.19406159, -0.83707667, -2.3973736 ,  1.39461846,  0.15606526,\n",
       "        1.40049439, -0.36347511,  2.09910366, -1.13888129,  0.35654053,\n",
       "       -0.121199  ,  0.66147242,  0.71512758, -0.14548357,  0.79186936,\n",
       "       -0.0808622 ,  0.34455873, -0.51267437, -0.31990473, -0.03820384,\n",
       "       -1.30727036, -0.3248078 ,  1.56462317,  0.92845504, -0.65905541,\n",
       "        0.30850319, -0.67804257, -0.15801836,  0.09534379,  1.39127837,\n",
       "        0.57249833,  0.85865194, -0.60314849, -0.00764023,  0.97622623,\n",
       "        0.51548854, -0.69362327,  1.63934113,  0.46721949,  1.53924376,\n",
       "       -2.77119042, -1.52572221, -0.49593247,  0.88929767,  0.76687253,\n",
       "       -1.85623208, -0.13009539,  1.12236104, -0.45992185, -0.05786666,\n",
       "        0.02338995, -0.11623122,  1.95191417,  0.53450075, -0.03064438,\n",
       "       -1.22779859,  0.51083976,  1.211106  ,  1.1151855 ,  0.40385183,\n",
       "        0.11790982, -0.4300203 ,  0.65666278, -0.47281925,  0.9795783 ,\n",
       "       -2.04985027, -1.21618254,  0.22775525,  0.49913671,  0.99548992,\n",
       "       -0.57098446,  0.30410412,  1.40450813,  0.77733574, -2.01054719])"
      ]
     },
     "execution_count": 149,
     "metadata": {},
     "output_type": "execute_result"
    }
   ],
   "source": [
    "x"
   ]
  },
  {
   "cell_type": "code",
   "execution_count": 150,
   "metadata": {},
   "outputs": [
    {
     "name": "stdout",
     "output_type": "stream",
     "text": [
      "[0.56905734 0.61868114 0.85932729 0.65751549 0.56304315 0.54925692\n",
      " 0.99609817 0.69861603 0.67159637 0.56230046 0.90014109 0.64824428\n",
      " 0.8694076  0.71284742 0.67585327 0.63517713 0.99973267 0.82837314\n",
      " 0.55008138 0.77824598 0.94952716 0.98402145 0.59264289 0.55168446\n",
      " 0.97704224 0.71303774 0.55628719 0.72016344 0.5796205  0.68992548\n",
      " 0.55842835 0.6183488  0.72142488 0.82373265 0.78519208 0.62559901\n",
      " 0.60879456 0.54944224 0.78737027 0.58679771 0.69292716 0.9438444\n",
      " 0.60954308 0.62324983 0.99525267 0.58635877 0.70250059 0.70548564\n",
      " 0.93168964 0.63077136 0.64298916 0.60163715 0.97857229 0.84464806\n",
      " 0.59335579 0.78372475 0.61299524 0.55096581 0.64068047 0.55129533\n",
      " 0.55595422 0.778178   0.85574015 0.76314457 0.99999632 0.60559814\n",
      " 0.99999892 0.77367223 0.55040141 0.99377444 0.58300177 0.99999988\n",
      " 0.58818849 0.97864897 0.60199765 0.99999831 0.64864089 0.58305419\n",
      " 0.71040744 0.67897139 0.55074181 0.98891377 0.61942134 0.62213612\n",
      " 0.56579101 0.55273925 0.57349078 0.92814027 0.9067873  0.93582654\n",
      " 0.99325774 0.555677   0.64332424 0.66271735 0.65210546 0.59978869\n",
      " 0.66044012 0.8891835  0.57257193 0.91025242 0.60006605 0.71566527\n",
      " 0.57381253 0.55046746 0.57431614 0.73676927 0.54960858 0.55101591\n",
      " 0.55051582 0.97024159 0.57877065 0.55191585 0.54964562 0.6816932\n",
      " 0.57083246 0.5944773  0.6408768  0.59887297 0.60445074 0.6228674\n",
      " 0.66579656 0.88904243 0.63928871 0.55465977 0.6573007  0.64371432\n",
      " 0.59567259 0.87509363 0.67747294 0.55084605 0.67852658 0.5579496\n",
      " 0.81807647 0.63523572 0.55761999 0.55020986 0.57817928 0.58308596\n",
      " 0.55063604 0.59077471 0.54967362 0.55706554 0.56659301 0.55598466\n",
      " 0.54933953 0.66222747 0.55619319 0.70922963 0.60640174 0.57796735\n",
      " 0.55551207 0.57965336 0.55088643 0.54984149 0.67687554 0.57089436\n",
      " 0.59810608 0.57328396 0.54924737 0.61244833 0.5667846  0.58107303\n",
      " 0.72390762 0.56364504 0.70433397 0.93179901 0.70174605 0.56547508\n",
      " 0.60166883 0.58818368 0.76809396 0.55035697 0.63276947 0.56319748\n",
      " 0.54946378 0.54927951 0.55013225 0.78790277 0.56810678 0.5493053\n",
      " 0.6490772  0.56646867 0.64640699 0.63170875 0.55999578 0.55015811\n",
      " 0.56143788 0.57775832 0.5639933  0.6128838  0.80805986 0.6472156\n",
      " 0.55265788 0.56568614 0.61497074 0.5707796  0.55533434 0.67924825\n",
      " 0.58925807 0.80000013]\n",
      "0.8386989567939219\n"
     ]
    }
   ],
   "source": [
    "res= ebnm_point_laplace_solver(x=betahat, s=sebetahat)\n",
    "print(res.scale    ) "
   ]
  },
  {
   "cell_type": "code",
   "execution_count": 151,
   "metadata": {},
   "outputs": [
    {
     "data": {
      "text/plain": [
       "Text(0, 0.5, 'posterior mean')"
      ]
     },
     "execution_count": 151,
     "metadata": {},
     "output_type": "execute_result"
    },
    {
     "data": {
      "image/png": "[encoded data removed]",
      "text/plain": [
       "<Figure size 640x480 with 1 Axes>"
      ]
     },
     "metadata": {},
     "output_type": "display_data"
    }
   ],
   "source": [
    "plt.scatter(betahat, res.post_mean  )\n",
    "plt.xlabel(\"observed values\")\n",
    "plt.plot(betahat, betahat, color='red', label='x = y')\n",
    "plt.axhline(y=0, color=\"black\")\n",
    "plt.ylabel(\"posterior mean\")"
   ]
  }
 ],
 "metadata": {
  "kernelspec": {
   "display_name": "ml_env",
   "language": "python",
   "name": "python3"
  },
  "language_info": {
   "codemirror_mode": {
    "name": "ipython",
    "version": 3
   },
   "file_extension": ".py",
   "mimetype": "text/x-python",
   "name": "python",
   "nbconvert_exporter": "python",
   "pygments_lexer": "ipython3",
   "version": "3.12.8"
  }
 },
 "nbformat": 4,
 "nbformat_minor": 2
}
