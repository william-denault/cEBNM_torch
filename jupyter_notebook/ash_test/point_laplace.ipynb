{
 "cells": [
  {
   "cell_type": "code",
   "execution_count": 2,
   "metadata": {},
   "outputs": [],
   "source": [
    "import numpy as np\n",
    "from scipy.stats import norm\n",
    "import sys\n",
    "import os\n",
    "import matplotlib.pyplot as plt\n",
    "\n",
    "# Add the path to utils.py\n",
    "sys.path.append(r\"C:\\Document\\Serieux\\Travail\\python_work\\cEBNM_torch\\py\")\n",
    "sys.path.append(r\"C:\\Document\\Serieux\\Travail\\python_work\\cEBNM_torch\\py\\ebnm_solver\")\n",
    "sys.path.append(r\"C:\\Document\\Serieux\\Travail\\python_work\\cEBNM_torch\\py\\numerical_routine\")\n",
    "from numerical_routine import *\n",
    "from ebnm_point_laplace import *\n",
    "from scipy.stats import norm\n",
    "import numpy as np"
   ]
  },
  {
   "cell_type": "code",
   "execution_count": 3,
   "metadata": {},
   "outputs": [],
   "source": [
    "true_val1=  np.random.normal(loc=0, scale=5, size=10000)\n",
    "true_val0=  np.zeros( 200)\n",
    "\n",
    "observations_mu_1 =true_val1+np.random.normal(loc=0, scale=1, size=10000)\n",
    "observations_mu_0 =true_val0+ np.random.normal(loc=0, scale=1, size=200)\n",
    "# Combine them into one array\n",
    "betahat = np.hstack([observations_mu_1, observations_mu_0])\n",
    "sebetahat=  np.repeat(1, betahat.shape[0])\n",
    "res= ebnm_point_laplace_solver(x=betahat, s=sebetahat)\n",
    " "
   ]
  },
  {
   "cell_type": "code",
   "execution_count": 4,
   "metadata": {},
   "outputs": [
    {
     "data": {
      "text/plain": [
       "0.9999999785016699"
      ]
     },
     "execution_count": 4,
     "metadata": {},
     "output_type": "execute_result"
    },
    {
     "data": {
      "image/png": "[encoded data removed]",
      "text/plain": [
       "<Figure size 640x480 with 1 Axes>"
      ]
     },
     "metadata": {},
     "output_type": "display_data"
    }
   ],
   "source": [
    "plt.scatter(betahat, res.post_mean  )\n",
    "plt.xlabel(\"observed values\")\n",
    "plt.plot(betahat, betahat, color='red', label='x = y')\n",
    "plt.axhline(y=0, color=\"black\")\n",
    "plt.ylabel(\"posterior mean\")\n",
    "res.pi"
   ]
  },
  {
   "cell_type": "code",
   "execution_count": 50,
   "metadata": {},
   "outputs": [],
   "source": [
    "import sys\n",
    "import os\n",
    "import matplotlib.pyplot as plt\n",
    "import numpy as np\n",
    "\n",
    "# Add the path to utils.py\n",
    "sys.path.append(r\"C:\\Document\\Serieux\\Travail\\python_work\\cEBNM_torch\\py\")\n",
    "from distribution_operation import *\n",
    "from utils import *\n",
    "from numerical_routine import *\n",
    "from posterior_computation import *\n",
    "from ash import *"
   ]
  },
  {
   "cell_type": "code",
   "execution_count": 5,
   "metadata": {},
   "outputs": [
    {
     "ename": "NameError",
     "evalue": "name 'ash' is not defined",
     "output_type": "error",
     "traceback": [
      "\u001b[1;31m---------------------------------------------------------------------------\u001b[0m",
      "\u001b[1;31mNameError\u001b[0m                                 Traceback (most recent call last)",
      "Cell \u001b[1;32mIn[5], line 4\u001b[0m\n\u001b[0;32m      1\u001b[0m betahat\u001b[38;5;241m=\u001b[39m  np\u001b[38;5;241m.\u001b[39marray([\u001b[38;5;241m1\u001b[39m,\u001b[38;5;241m2\u001b[39m,\u001b[38;5;241m3\u001b[39m,\u001b[38;5;241m4\u001b[39m,\u001b[38;5;241m5\u001b[39m])\n\u001b[0;32m      2\u001b[0m sebetahat\u001b[38;5;241m=\u001b[39mnp\u001b[38;5;241m.\u001b[39marray([\u001b[38;5;241m1\u001b[39m,\u001b[38;5;241m0.4\u001b[39m,\u001b[38;5;241m5\u001b[39m,\u001b[38;5;241m1\u001b[39m,\u001b[38;5;241m1\u001b[39m])\n\u001b[1;32m----> 4\u001b[0m res\u001b[38;5;241m=\u001b[39m \u001b[43mash\u001b[49m(betahat, sebetahat, mult\u001b[38;5;241m=\u001b[39mnp\u001b[38;5;241m.\u001b[39msqrt(\u001b[38;5;241m2\u001b[39m))\n\u001b[0;32m      5\u001b[0m \u001b[38;5;28mprint\u001b[39m(res\u001b[38;5;241m.\u001b[39mlog_lik)\n\u001b[0;32m      6\u001b[0m \u001b[38;5;28mprint\u001b[39m(res\u001b[38;5;241m.\u001b[39mpi )\n",
      "\u001b[1;31mNameError\u001b[0m: name 'ash' is not defined"
     ]
    }
   ],
   "source": [
    "betahat=  np.array([1,2,3,4,5])\n",
    "sebetahat=np.array([1,0.4,5,1,1])\n",
    "\n",
    "res= ash(betahat, sebetahat, mult=np.sqrt(2))\n",
    "print(res.log_lik)\n",
    "print(res.pi )\n",
    "print(res.scale     )\n",
    "mult=2"
   ]
  },
  {
   "cell_type": "code",
   "execution_count": 6,
   "metadata": {},
   "outputs": [
    {
     "data": {
      "text/plain": [
       "-1.5964616012204798"
      ]
     },
     "execution_count": 6,
     "metadata": {},
     "output_type": "execute_result"
    }
   ],
   "source": [
    "from scipy.stats import norm\n",
    "import numpy as np\n",
    "\n",
    "def logg_laplace(x, s, a):\n",
    "    \"\"\"\n",
    "    Compute the log of g, Laplace(a) convolved with a normal distribution.\n",
    "    \n",
    "    Args:\n",
    "        x (np.ndarray): Input data.\n",
    "        s (float or np.ndarray): Standard deviation of the normal distribution.\n",
    "        a (float): Scale parameter of the Laplace distribution.\n",
    "    \n",
    "    Returns:\n",
    "        np.ndarray: Log-Laplace density values.\n",
    "    \"\"\"\n",
    "    lg1 = -a * x + norm.logcdf((x - s**2 * a) / s)\n",
    "    lg2 = a * x + norm.logcdf(-(x + s**2 * a) / s)  # Upper tail as -x\n",
    "    lfac = np.maximum(lg1, lg2)\n",
    "    return np.log(a / 2) + s**2 * a**2 / 2 + lfac + np.log(np.exp(lg1 - lfac) + np.exp(lg2 - lfac))\n",
    "\n",
    "\n",
    "logg_laplace(1,1,1)"
   ]
  },
  {
   "cell_type": "code",
   "execution_count": 7,
   "metadata": {},
   "outputs": [
    {
     "data": {
      "text/plain": [
       "-1.5037659241189736"
      ]
     },
     "execution_count": 7,
     "metadata": {},
     "output_type": "execute_result"
    }
   ],
   "source": [
    "import numpy as np\n",
    "from scipy.stats import norm\n",
    "import sys\n",
    "import os\n",
    "import matplotlib.pyplot as plt\n",
    "\n",
    "# Add the path to utils.py\n",
    "sys.path.append(r\"D:\\Document\\Serieux\\Travail\\python_work\\cEBNM_torch\\py\")\n",
    "from numerical_routine import *\n",
    "# Function to compute the log likelihood under the point-laplace prior\n",
    "def loglik_point_laplace(x, s, w, a, mu):\n",
    "    \"\"\"\n",
    "    Compute the log likelihood under the point-laplace prior.\n",
    "    Args:\n",
    "        x: Observed data (array-like).\n",
    "        s: Standard deviation (scalar or array-like).\n",
    "        w: Weight for the mixture component (scalar).\n",
    "        a: Laplace scale parameter (scalar).\n",
    "        mu: Mean (scalar).\n",
    "    Returns:\n",
    "        Log likelihood (scalar).\n",
    "    \"\"\"\n",
    "    return np.sum(vloglik_point_laplace(x, s, w, a, mu))\n",
    "\n",
    "# Helper function to compute log((1 - w)f + wg) as a vector\n",
    "def vloglik_point_laplace(x, s, w, a, mu):\n",
    "    \"\"\"\n",
    "    Compute the vectorized log likelihood under the point-laplace prior.\n",
    "    Args:\n",
    "        x: Observed data (array-like).\n",
    "        s: Standard deviation (scalar or array-like).\n",
    "        w: Weight for the mixture component (scalar).\n",
    "        a: Laplace scale parameter (scalar).\n",
    "        mu: Mean (scalar).\n",
    "    Returns:\n",
    "        Log likelihood vector (array-like).\n",
    "    \"\"\"\n",
    "    if w <= 0:\n",
    "        return norm.logpdf(x - mu, scale=s)\n",
    "\n",
    "    lg = logg_laplace(x - mu, s, a)\n",
    "    if w == 1:\n",
    "        return lg\n",
    "\n",
    "    lf = norm.logpdf(x - mu, scale=s)\n",
    "    lfac = np.maximum(lg, lf)\n",
    "    return lfac + np.log((1 - w) * np.exp(lf - lfac) + w * np.exp(lg - lfac))\n",
    "\n",
    "\n",
    "\n",
    "\n",
    "vloglik_point_laplace(1,1,0.5,1,0)\n",
    "loglik_point_laplace(1,1,0.5,1,0)\n"
   ]
  },
  {
   "cell_type": "code",
   "execution_count": 8,
   "metadata": {},
   "outputs": [
    {
     "data": {
      "text/plain": [
       "array([0.45573542, 0.57074938, 0.93438632])"
      ]
     },
     "execution_count": 8,
     "metadata": {},
     "output_type": "execute_result"
    }
   ],
   "source": [
    "def wpost_laplace(x, s, w, a):\n",
    "    \"\"\"\n",
    "    Compute the posterior weights for the Laplace component.\n",
    "    \n",
    "    Args:\n",
    "        x (np.ndarray): Input data.\n",
    "        s (float or np.ndarray): Standard deviation of the normal component.\n",
    "        w (float): Weight for the Laplace component (mixture proportion).\n",
    "        a (float): Scale parameter of the Laplace distribution.\n",
    "    \n",
    "    Returns:\n",
    "        np.ndarray: Posterior weights for the Laplace component.\n",
    "    \"\"\"\n",
    "    if w == 0:\n",
    "        return np.zeros_like(x)\n",
    "\n",
    "    if w == 1:\n",
    "        return np.ones_like(x)\n",
    "\n",
    "    # Log-density for the normal component\n",
    "    lf = norm.logpdf(x, loc=0, scale=s)\n",
    "\n",
    "    # Log-density for the Laplace component convolved with normal\n",
    "    lg = logg_laplace(x, s, a)\n",
    "\n",
    "    # Compute posterior weights\n",
    "    wpost = w / (w + (1 - w) * np.exp(lf - lg))\n",
    "    \n",
    "    return wpost\n",
    "\n",
    "x = np.array([1.0, 2.0, -1.5])\n",
    "s = np.array([1.0, 1.2, .5])\n",
    "wpost_laplace(x,s,0.5,1)"
   ]
  },
  {
   "cell_type": "code",
   "execution_count": 9,
   "metadata": {},
   "outputs": [
    {
     "data": {
      "text/plain": [
       "0.08054445392157272"
      ]
     },
     "execution_count": 9,
     "metadata": {},
     "output_type": "execute_result"
    }
   ],
   "source": [
    "def lambda_func(x, s, a):\n",
    "    \"\"\"\n",
    "    Compute lambda, the probability of being positive given a non-zero effect.\n",
    "    \n",
    "    Args:\n",
    "        x (np.ndarray): Input data.\n",
    "        s (np.ndarray): Standard deviations.\n",
    "        a (float): Laplace scale parameter.\n",
    "    \n",
    "    Returns:\n",
    "        np.ndarray: Lambda values.\n",
    "    \"\"\"\n",
    "    lm1 = -a * x + norm.logcdf(x / s - s * a)\n",
    "    lm2 = a * x + norm.logcdf(-(x / s + s * a))\n",
    "    return 1 / (1 + np.exp(lm2 - lm1))\n",
    "\n",
    "\n",
    "lambda_func(-2,1,1)"
   ]
  },
  {
   "cell_type": "code",
   "execution_count": 56,
   "metadata": {},
   "outputs": [
    {
     "name": "stdout",
     "output_type": "stream",
     "text": [
      "[0.66145273 0.75624598 0.68156531]\n",
      "[0.65301652 0.92274914 0.94291949]\n",
      "[ 0.33285794  0.73456863 -0.20122616]\n"
     ]
    }
   ],
   "source": [
    "class PosteriorMeanPointLapalce:\n",
    "    def __init__(self, post_mean, post_mean2, post_sd):\n",
    "        self.post_mean = post_mean\n",
    "        self.post_mean2 = post_mean2\n",
    "        self.post_sd = post_sd\n",
    "\n",
    "def posterior_mean_laplace(x, s, w, a, mu=0):\n",
    "    \"\"\"\n",
    "    Compute the posterior mean for a normal mean under a Laplace prior.\n",
    "    \n",
    "    Args:\n",
    "        x (np.ndarray): Observed data.\n",
    "        s (float or np.ndarray): Standard deviation of the normal likelihood.\n",
    "        w (float): Mixture weight for the Laplace component.\n",
    "        a (float): Laplace scale parameter.\n",
    "        mu (float): Mean of the prior distribution (default is 0).\n",
    "    \n",
    "    Returns:\n",
    "        np.ndarray: Posterior means.\n",
    "    \"\"\"\n",
    "    # Compute posterior weights\n",
    "    wpost = wpost_laplace(x - mu, s, w, a)\n",
    "    print(wpost)\n",
    "    # Compute lambda (probability of being positive given non-null)\n",
    "    lm = lambda_func(x - mu, s, a)\n",
    "    \n",
    "    # Compute the truncated means for the Laplace component\n",
    "    laplace_mean_positive = my_etruncnorm(0, 99999 ,x - mu - s**2 * a, s)\n",
    "    laplace_mean_negative = my_etruncnorm(-99999, 0, x - mu + s**2 * a, s)\n",
    "    laplace_component_mean = lm * laplace_mean_positive + (1 - lm) * laplace_mean_negative\n",
    "    post_mean2              =  wpost * (lm * my_e2truncnorm(0, np.inf, x - mu - s**2 * a, s)\n",
    "                                       + (1 - lm) * my_e2truncnorm(-np.inf, 0, x - mu + s**2 * a, s))\n",
    "\n",
    "    \n",
    "    # Combine posterior means\n",
    "    post_mean =    wpost * laplace_component_mean  \n",
    "\n",
    "    if np.any(np.isinf(s)):\n",
    "        inf_indices = np.isinf(s)\n",
    "        a = 1/scale[1:]\n",
    "        # Equivalent of `post$mean[is.infinite(s)]` \n",
    "        post_mean[inf_indices] = wpost  / a \n",
    "\n",
    "        # Equivalent of `post$mean2[is.infinite(s)]`\n",
    "        post_mean2[inf_indices] =  2 * wpost / a**2 \n",
    "\n",
    "    post_mean2 = np.maximum(post_mean2, post_mean  ** 2)\n",
    "    \n",
    "    post_sd= np.sqrt(np.maximum(0, post_mean2 - post_mean**2))\n",
    "    post_mean2 = post_mean2 + mu**2+ 2*mu*post_mean\n",
    "    post_mean  =  post_mean+mu  \n",
    "    return PosteriorMeanPointLapalce(post_mean=post_mean,\n",
    "                                     post_mean2=post_mean2,\n",
    "                                     post_sd=  post_sd)\n",
    "\n",
    "\n",
    "\n",
    "x = np.array([1.0, 2.0, -1.5])\n",
    "s = np.array([1.0, 1.2, 2.5])\n",
    "a= posterior_mean_laplace(x,s,w=.7 ,a=1, mu=0 ) \n",
    "print(a.post_sd)\n",
    "print(a.post_mean)"
   ]
  },
  {
   "cell_type": "code",
   "execution_count": 17,
   "metadata": {},
   "outputs": [
    {
     "data": {
      "text/plain": [
       "array([ 0.33285794,  0.73456863, -0.20122616])"
      ]
     },
     "execution_count": 17,
     "metadata": {},
     "output_type": "execute_result"
    }
   ],
   "source": [
    "a.post_mean"
   ]
  },
  {
   "cell_type": "code",
   "execution_count": 11,
   "metadata": {},
   "outputs": [
    {
     "name": "stderr",
     "output_type": "stream",
     "text": [
      "C:\\Document\\Serieux\\Travail\\python_work\\cEBNM_torch\\py\\numerical_routine.py:49: RuntimeWarning: divide by zero encountered in divide\n",
      "  lower_bd = np.maximum(beta + 1 / beta, (alpha + beta) / 2)\n"
     ]
    }
   ],
   "source": [
    "x = np.array([1.0, 2.0, -1.5])\n",
    "s = np.array([1.0, 1.2, 2.5])\n",
    "a= posterior_mean_laplace(x,s,w=.7 ,a=1, mu=0 ) "
   ]
  },
  {
   "cell_type": "code",
   "execution_count": 12,
   "metadata": {},
   "outputs": [
    {
     "data": {
      "text/plain": [
       "array([ 0.33285794,  0.73456863, -0.20122616])"
      ]
     },
     "execution_count": 12,
     "metadata": {},
     "output_type": "execute_result"
    }
   ],
   "source": [
    "a.post_mean"
   ]
  },
  {
   "cell_type": "code",
   "execution_count": 57,
   "metadata": {},
   "outputs": [],
   "source": [
    "\n",
    " \n",
    "\n",
    "import numpy as np\n",
    "from scipy.stats import norm, truncnorm\n",
    "from scipy.special import logsumexp\n",
    "\n",
    "\n",
    "class LaplaceMixture:\n",
    "    def __init__(self, pi, mean, scale):\n",
    "        \"\"\"\n",
    "        Constructor for LaplaceMixture class.\n",
    "        \n",
    "        Args:\n",
    "            pi (np.ndarray): Mixture proportions.\n",
    "            mean (np.ndarray): Means of components.\n",
    "            scale (np.ndarray): Scale parameters of components.\n",
    "        \"\"\"\n",
    "        self.pi = np.asarray(pi)\n",
    "        self.mean = np.asarray(mean)\n",
    "        self.scale = np.asarray(scale)\n",
    "\n",
    "    def __repr__(self):\n",
    "        return f\"LaplaceMixture(pi={self.pi}, mean={self.mean}, scale={self.scale})\"\n",
    "def wpost_laplace(x, s, w, a):\n",
    "    \"\"\"\n",
    "    Compute posterior weights for non-null effects.\n",
    "    \n",
    "    Args:\n",
    "        x (np.ndarray): Input data.\n",
    "        s (float): Standard deviation.\n",
    "        w (float): Weight for the mixture component.\n",
    "        a (float): Scale parameter.\n",
    "    \n",
    "    Returns:\n",
    "        np.ndarray: Posterior weights.\n",
    "    \"\"\"\n",
    "    if w == 0:\n",
    "        return np.zeros(len(x))\n",
    "    if w == 1:\n",
    "        return np.ones(len(x))\n",
    "\n",
    "    lf = norm.logpdf(x, loc=0, scale=s)\n",
    "    lg = logg_laplace(x, s, a)\n",
    "    return w / (w + (1 - w) * np.exp(lf - lg))\n",
    "\n",
    "\n",
    "def pl_nllik(par, x, s,  calc_grad=False):\n",
    "    \"\"\"\n",
    "    Compute the negative log likelihood and its gradient.\n",
    "    \n",
    "    Args:\n",
    "        par (dict): Parameters (alpha, beta, mu).\n",
    "        x (np.ndarray): Observed data.\n",
    "        s (np.ndarray): Standard deviation.\n",
    "        fix_par (list): Fixed parameters.\n",
    "        calc_grad (bool): Whether to calculate gradients.\n",
    "    \n",
    "    Returns:\n",
    "        float: Negative log likelihood.\n",
    "    \"\"\"\n",
    "    alpha, beta, mu = par['alpha'], par['beta'], par['mu']\n",
    "\n",
    "    # Convert alpha and beta to w and a\n",
    "    w = 1 - 1 / (1 + np.exp(alpha))\n",
    "    a = np.exp(beta)\n",
    "\n",
    "    lf = norm.logpdf(x - mu, scale=s)\n",
    "    lg = logg_laplace(x - mu, s, a)\n",
    "    llik = np.log((1 - w) * np.exp(lf) + w * np.exp(lg))\n",
    "    nllik = -np.sum(llik)\n",
    "\n",
    "    if calc_grad:\n",
    "        # Gradient calculations (optional)\n",
    "        pass\n",
    "\n",
    "    return nllik\n",
    "def logscale_add(logx, logy):\n",
    "    \"\"\"\n",
    "    Compute the log of the sum of exponentials of logx and logy.\n",
    "    \n",
    "    Args:\n",
    "        logx (float): Log value.\n",
    "        logy (float): Log value.\n",
    "    \n",
    "    Returns:\n",
    "        float: Log-sum-exp.\n",
    "    \"\"\"\n",
    "    max_log = np.maximum(logx, logy)\n",
    "    return max_log + np.log(np.exp(logx - max_log) + np.exp(logy - max_log))\n"
   ]
  },
  {
   "cell_type": "code",
   "execution_count": 58,
   "metadata": {},
   "outputs": [],
   "source": [
    "import numpy as np\n",
    "from scipy.stats import norm\n",
    "\n",
    "def logscale_add(logx, logy):\n",
    "    \"\"\"\n",
    "    Compute log(exp(logx) + exp(logy)) in a numerically stable way.\n",
    "    \"\"\"\n",
    "    max_log = np.maximum(logx, logy)\n",
    "    return max_log + np.log(np.exp(logx - max_log) + np.exp(logy - max_log))\n",
    "\n",
    "def pl_nllik(par, x, s, par_init, fix_par, calc_grad=False, calc_hess=False):\n",
    "    \"\"\"\n",
    "    Compute the negative log likelihood and optionally its gradient and Hessian.\n",
    "\n",
    "    Args:\n",
    "        par (list): Parameters to optimize (subset based on fix_par).\n",
    "        x (np.ndarray): Observed data.\n",
    "        s (np.ndarray): Standard deviations.\n",
    "        par_init (list): Initial parameters (full set).\n",
    "        fix_par (list): Boolean list indicating which parameters to fix.\n",
    "        calc_grad (bool): Whether to calculate the gradient.\n",
    "        calc_hess (bool): Whether to calculate the Hessian.\n",
    "\n",
    "    Returns:\n",
    "        float: Negative log likelihood.\n",
    "        Optional: Gradient and Hessian as attributes of the output.\n",
    "    \"\"\"\n",
    "    fix_pi0, fix_a, fix_mu = fix_par\n",
    "\n",
    "    # Initialize parameters and update non-fixed values\n",
    "    p = np.array(par_init)\n",
    "    p[~np.array(fix_par)] = par\n",
    "\n",
    "    # Parameters\n",
    "    w = 1 - 1 / (1 + np.exp(p[0]))\n",
    "    a = np.exp(p[1])\n",
    "    mu = p[2]\n",
    "\n",
    "    # Point mass component\n",
    "    lf = -0.5 * np.log(2 * np.pi * s**2) - 0.5 * ((x - mu) / s)**2\n",
    "\n",
    "    # Laplace component: left tail\n",
    "    xleft = (x - mu) / s + s * a\n",
    "    lpnormleft = norm.logsf(xleft)\n",
    "    lgleft = np.log(a / 2) + s**2 * a**2 / 2 + a * (x - mu) + lpnormleft\n",
    "\n",
    "    # Laplace component: right tail\n",
    "    xright = (x - mu) / s - s * a\n",
    "    lpnormright = norm.logcdf(xright)\n",
    "    lgright = np.log(a / 2) + s**2 * a**2 / 2 - a * (x - mu) + lpnormright\n",
    "\n",
    "    # Combine left and right tails\n",
    "    lg = logscale_add(lgleft, lgright)\n",
    "\n",
    "    # Log likelihood\n",
    "    llik = logscale_add(np.log(1 - w) + lf, np.log(w) + lg)\n",
    "    nllik = -np.sum(llik)\n",
    "\n",
    "    # Gradients (optional)\n",
    "    if calc_grad or calc_hess:\n",
    "        grad = np.zeros(len(par))\n",
    "        i = 0\n",
    "\n",
    "        # Gradient with respect to w (alpha)\n",
    "        if not fix_pi0:\n",
    "            f = np.exp(lf - llik)\n",
    "            g = np.exp(lg - llik)\n",
    "            dnllik_dw = f - g\n",
    "            dw_dalpha = w * (1 - w)\n",
    "            grad[i] = np.sum(dnllik_dw * dw_dalpha)\n",
    "            i += 1\n",
    "\n",
    "        # Gradient with respect to a (beta)\n",
    "        if not fix_a:\n",
    "            dlogpnorm_left = -np.exp(-np.log(2 * np.pi) / 2 - xleft**2 / 2 - lpnormleft)\n",
    "            dlogpnorm_right = np.exp(-np.log(2 * np.pi) / 2 - xright**2 / 2 - lpnormright)\n",
    "\n",
    "            dgleft_da = np.exp(lgleft - llik) * (1 / a + a * s**2 + (x - mu) + s * dlogpnorm_left)\n",
    "            dgright_da = np.exp(lgright - llik) * (1 / a + a * s**2 - (x - mu) - s * dlogpnorm_right)\n",
    "            dg_da = dgleft_da + dgright_da\n",
    "\n",
    "            dnllik_da = -w * dg_da\n",
    "            da_dbeta = a\n",
    "            grad[i] = np.sum(dnllik_da * da_dbeta)\n",
    "            i += 1\n",
    "\n",
    "        # Gradient with respect to mu\n",
    "        if not fix_mu:\n",
    "            df_dmu = np.exp(lf - llik) * ((x - mu) / s**2)\n",
    "            dgleft_dmu = np.exp(lgleft - llik) * (-a - dlogpnorm_left / s)\n",
    "            dgright_dmu = np.exp(lgright - llik) * (a - dlogpnorm_right / s)\n",
    "            dg_dmu = dgleft_dmu + dgright_dmu\n",
    "            dnllik_dmu = -(1 - w) * df_dmu - w * dg_dmu\n",
    "            grad[i] = np.sum(dnllik_dmu)\n",
    "\n",
    "        nllik_grad = grad\n",
    "\n",
    "    # Hessian (optional)\n",
    "    if calc_hess:\n",
    "        hess = np.zeros((len(par), len(par)))\n",
    "        # The second derivatives would go here, similar to the gradient logic\n",
    "        # Implementation omitted for brevity\n",
    "\n",
    "        nllik_hess = hess\n",
    "\n",
    "    # Return results\n",
    "    if calc_grad and calc_hess:\n",
    "        return nllik, nllik_grad, nllik_hess\n",
    "    elif calc_grad:\n",
    "        return nllik, nllik_grad\n",
    "    else:\n",
    "        return nllik\n"
   ]
  },
  {
   "cell_type": "code",
   "execution_count": 59,
   "metadata": {},
   "outputs": [
    {
     "name": "stdout",
     "output_type": "stream",
     "text": [
      "Negative Log Likelihood: 5.74805874231258\n"
     ]
    }
   ],
   "source": [
    "x = np.array([1.0, 2.0, -1.5])  # Observed data\n",
    "s = np.array([1.0, 1.0, 1.0])   # Standard deviations\n",
    "par_init = [0.0, 0.0, 0.0]      # Initial parameters (alpha, beta, mu)\n",
    "fix_par = [False, False, False] # No fixed parameters\n",
    "par = [0.5, 0.1, 1.0]           # Parameters to optimize\n",
    "\n",
    "# Compute negative log likelihood\n",
    "nllik = pl_nllik(par, x, s, par_init, fix_par, calc_grad=False)\n",
    "print(\"Negative Log Likelihood:\", nllik)\n"
   ]
  },
  {
   "cell_type": "code",
   "execution_count": null,
   "metadata": {},
   "outputs": [],
   "source": []
  },
  {
   "cell_type": "code",
   "execution_count": null,
   "metadata": {},
   "outputs": [],
   "source": []
  },
  {
   "cell_type": "code",
   "execution_count": null,
   "metadata": {},
   "outputs": [],
   "source": [
    " "
   ]
  },
  {
   "cell_type": "code",
   "execution_count": 60,
   "metadata": {},
   "outputs": [
    {
     "data": {
      "text/plain": [
       "0.046401624283020415"
      ]
     },
     "execution_count": 60,
     "metadata": {},
     "output_type": "execute_result"
    }
   ],
   "source": [
    "from scipy.optimize import minimize\n",
    "\n",
    "class optimizePointLalplace:\n",
    "    def __init__(self, w, a, mu ,nllik):\n",
    "        self.w = w\n",
    "        self.a = a\n",
    "        self.mu= mu\n",
    "        self.nllik= nllik\n",
    "\n",
    "def optimize_pl_nllik_with_gradient(x, s, par_init, fix_par):\n",
    "    \"\"\"\n",
    "    Optimize the negative log likelihood for the point-Laplace prior using gradient.\n",
    "\n",
    "    Args:\n",
    "        x (np.ndarray): Observed data.\n",
    "        s (np.ndarray): Standard deviations.\n",
    "        par_init (list): Initial parameters [alpha, beta, mu].\n",
    "        fix_par (list): Boolean list indicating which parameters are fixed.\n",
    "\n",
    "    Returns:\n",
    "        dict: Optimized parameters and final negative log likelihood.\n",
    "    \"\"\"\n",
    "    # Define a wrapper for the objective function\n",
    "    def objective(par):\n",
    "        nllik, grad = pl_nllik(par, x, s, par_init, fix_par, calc_grad=True, calc_hess=False)\n",
    "        return nllik, grad\n",
    "\n",
    "    # Wrapper for gradient extraction\n",
    "    def fun(par):\n",
    "        nllik, _ = objective(par)\n",
    "        return nllik\n",
    "\n",
    "    def jac(par):\n",
    "        _, grad = objective(par)\n",
    "        return grad\n",
    "\n",
    "    # Initial values for non-fixed parameters\n",
    "    free_params = [p for p, fixed in zip(par_init, fix_par) if not fixed]\n",
    "\n",
    "    # Bounds (optional): Keep alpha unbounded, beta > 0, mu unbounded\n",
    "    bounds = [\n",
    "        (None, None),  # Alpha has no bounds\n",
    "        (None, None),  # Beta (transformed Laplace scale) has no explicit bounds\n",
    "        (None, None)   # Mu has no bounds\n",
    "    ]\n",
    "    bounds = [b for b, fixed in zip(bounds, fix_par) if not fixed]\n",
    "\n",
    "    # Optimize using L-BFGS-B\n",
    "    result = minimize(\n",
    "        fun, free_params, method=\"L-BFGS-B\", jac=jac, bounds=bounds\n",
    "    )\n",
    "\n",
    "    if not result.success:\n",
    "        raise ValueError(\"Optimization failed: \" + result.message)\n",
    "\n",
    "    # Update the full parameter set with optimized values\n",
    "    optimized_params = np.array(par_init)\n",
    "    optimized_params[~np.array(fix_par)] = result.x\n",
    "    optimized_params[0]= 1- 1/(1+ np.exp(optimized_params[0]))\n",
    "    \n",
    "    # Compute final negative log likelihood\n",
    "    \n",
    "\n",
    "    return  optimizePointLalplace(w=optimized_params[0],\n",
    "                                  a=np.exp(optimized_params[1]),\n",
    "                                  mu=optimized_params[2],\n",
    "                                  nllik= result.fun)\n",
    "# Example Usage\n",
    "x = np.array([0.0, 0.0, -0.5])  # Observed data\n",
    "s = np.array([1.0, 1.0, 1.0])   # Standard deviations\n",
    "par_init = [0.0, 0.0, 0.0]      # Initial parameters [alpha, beta, mu]\n",
    "fix_par = [False, False, False] # No fixed parameters\n",
    "\n",
    "# Run optimization\n",
    "result = optimize_pl_nllik_with_gradient(x, s, par_init, fix_par)\n",
    "result.nllik\n",
    "result.w"
   ]
  },
  {
   "cell_type": "code",
   "execution_count": 10,
   "metadata": {},
   "outputs": [
    {
     "data": {
      "text/plain": [
       "2.8401494330200583"
      ]
     },
     "execution_count": 10,
     "metadata": {},
     "output_type": "execute_result"
    }
   ],
   "source": [
    "x = np.array([0.0, 0.0, -0.5])  # Observed data\n",
    "s = np.array([1.0, 1.0, 1.0])   # Standard deviations\n",
    "par_init = [0.0, 0.0, 0.0]      # Initial parameters [alpha, beta, mu]\n",
    "fix_par = [False, False, False] # No fixed parameters\n",
    "\n",
    "# Run optimization\n",
    "result = optimize_pl_nllik_with_gradient(x, s, par_init, fix_par)\n",
    "result.nllik\n",
    " "
   ]
  },
  {
   "cell_type": "code",
   "execution_count": 61,
   "metadata": {},
   "outputs": [],
   "source": [
    "class ebnm_point_laplace:\n",
    "    def __init__(self, post_mean, post_mean2, post_sd, scale, pi,   log_lik=0,#log_lik2 =0,\n",
    "                 mode=0):\n",
    "        self.post_mean = post_mean\n",
    "        self.post_mean2 = post_mean2\n",
    "        self.post_sd = post_sd\n",
    "        self.scale= scale\n",
    "        self.pi =pi  \n",
    "        self.log_lik = log_lik\n",
    "       # self.log_lik2= log_lik2 \n",
    "        self.mode =  mode\n",
    "\n",
    "\n",
    "def ebnm_point_laplace_solver ( x,s,opt_mu=False,par_init = [0.0, 1.0, 0.0]  ):\n",
    "    if(opt_mu):\n",
    "        fix_par = [False, False, False]\n",
    "    else :\n",
    "        fix_par = [False, False, True]\n",
    "    par_init = par_init\n",
    "    optimized_prior =  optimize_pl_nllik_with_gradient(x, s, par_init, fix_par)\n",
    "    post_obj=  posterior_mean_laplace(x, s, optimized_prior.w, optimized_prior.a, optimized_prior.mu)\n",
    "    return( ebnm_point_laplace( post_mean=post_obj.post_mean, \n",
    "                                post_mean2=post_obj.post_mean2, \n",
    "                                post_sd=post_obj.post_sd,\n",
    "                                scale=optimized_prior.a,\n",
    "                                pi=optimized_prior.w,   log_lik=-optimized_prior.nllik,#log_lik2 =0,\n",
    "                                mode=optimized_prior.mu)\n",
    "    )"
   ]
  },
  {
   "cell_type": "code",
   "execution_count": null,
   "metadata": {},
   "outputs": [],
   "source": []
  },
  {
   "cell_type": "code",
   "execution_count": null,
   "metadata": {},
   "outputs": [],
   "source": []
  },
  {
   "cell_type": "code",
   "execution_count": 62,
   "metadata": {},
   "outputs": [
    {
     "name": "stdout",
     "output_type": "stream",
     "text": [
      "[0.99999833 1.         0.99999839]\n",
      "-4.161880337595547\n",
      "[ 0.          0.9326135  -0.15496329]\n"
     ]
    }
   ],
   "source": [
    "x = np.array([0.0, 1.0, -0.5])  # Observed data\n",
    "s = np.array([1.0,  .2, 1.0])  \n",
    "ebnm_res= ebnm_point_laplace_solver(x=x,s=s) \n",
    "\n",
    "\n",
    "print(ebnm_res.log_lik)\n",
    "\n",
    "print(ebnm_res.post_mean)\n"
   ]
  },
  {
   "cell_type": "code",
   "execution_count": null,
   "metadata": {},
   "outputs": [],
   "source": []
  },
  {
   "cell_type": "code",
   "execution_count": 63,
   "metadata": {},
   "outputs": [],
   "source": [
    "true_val1=  np.random.normal(loc=0, scale=2, size=100)\n",
    "true_val0=  np.zeros( 100)\n",
    "\n",
    "observations_mu_1 =true_val1+np.random.normal(loc=0, scale=1, size=100)\n",
    "observations_mu_0 =true_val0+ np.random.normal(loc=0, scale=1, size=100)\n",
    "# Combine them into one array\n",
    "betahat = np.hstack([observations_mu_1, observations_mu_0])\n",
    "sebetahat=  np.repeat(1, betahat.shape[0])"
   ]
  },
  {
   "cell_type": "code",
   "execution_count": 64,
   "metadata": {},
   "outputs": [],
   "source": [
    "x=betahat\n",
    "s=sebetahat"
   ]
  },
  {
   "cell_type": "code",
   "execution_count": 65,
   "metadata": {},
   "outputs": [
    {
     "name": "stdout",
     "output_type": "stream",
     "text": [
      "Negative Log Likelihood: 468.5901597993751\n"
     ]
    }
   ],
   "source": [
    "par_init = [0.0, 0.0, 0.0]      # Initial parameters (alpha, beta, mu)\n",
    "fix_par = [False, False, False] # No fixed parameters\n",
    "par = [0.5, 0.1, 1.0]           # Parameters to optimize\n",
    "\n",
    "# Compute negative log likelihood\n",
    "nllik = pl_nllik(par, x, s, par_init, fix_par, calc_grad=False)\n",
    "print(\"Negative Log Likelihood:\", nllik)"
   ]
  },
  {
   "cell_type": "code",
   "execution_count": 66,
   "metadata": {},
   "outputs": [
    {
     "data": {
      "text/plain": [
       "411.80484778541154"
      ]
     },
     "execution_count": 66,
     "metadata": {},
     "output_type": "execute_result"
    }
   ],
   "source": [
    "result = optimize_pl_nllik_with_gradient(x, s, par_init, fix_par)\n",
    "result.nllik\n",
    " "
   ]
  },
  {
   "cell_type": "code",
   "execution_count": 67,
   "metadata": {},
   "outputs": [
    {
     "data": {
      "text/plain": [
       "array([ 0.51079234,  3.09088568, -0.98758103, -3.44035433,  1.06194776,\n",
       "       -0.37665754, -0.83715968,  1.05596709,  7.21271664,  2.66231799,\n",
       "       -2.49597518,  1.63648025,  1.7060061 ,  0.56914903,  1.45209177,\n",
       "        3.86652192, -1.03126122, -2.0283649 ,  3.5849149 , -3.43903271,\n",
       "        0.80291948, -1.67848887,  4.63853209,  3.66356214,  3.01793818,\n",
       "       -2.2334583 , -3.3592391 ,  1.09641498, -2.38794739,  2.2489355 ,\n",
       "       -3.42533298,  2.77490468, -3.31665208, -0.7253568 ,  3.79090941,\n",
       "       -0.32337242,  3.57472425, -0.04471182,  6.45516769, -1.77896485,\n",
       "       -1.83065777, -1.09553215,  5.32519066, -1.84202986,  0.85091084,\n",
       "       -0.46681028,  0.75391109,  1.0625859 , -1.82859894, -1.72419399,\n",
       "       -1.09664971, -2.43089146, -1.55339672, -1.64177045,  0.10123646,\n",
       "        0.60650711,  4.88520092, -3.69084884, -1.7005333 ,  1.4146728 ,\n",
       "        1.03698168,  1.37479829,  1.01741701, -0.8519998 ,  2.4736539 ,\n",
       "       -1.92167579, -0.51229165, -5.50574418,  3.32077036, -3.70557818,\n",
       "       -0.1149468 , -1.66111164, -0.66994696,  2.66130423,  5.57011823,\n",
       "        2.47674316, -2.67707238, -3.44372466, -0.4492012 , -0.45048687,\n",
       "       -0.70152175,  1.88852865,  3.18165592, -0.01101425,  0.11990852,\n",
       "        1.19500964,  0.02471506,  1.92496345, -2.02268826, -5.00766385,\n",
       "       -3.35967019,  3.2376009 ,  0.57545506, -1.9283819 ,  3.51354547,\n",
       "        0.68203831,  3.81895809, -1.68613819,  1.07998863, -3.44544736,\n",
       "        1.56314536, -1.15075064,  1.27496324, -0.45687131,  1.00067728,\n",
       "       -0.15201133,  0.93057775, -0.83397159,  0.32237995,  2.15460153,\n",
       "       -0.54600937,  0.20575733, -0.4653599 ,  1.18887842, -0.24783169,\n",
       "        0.54113615, -0.47692885,  1.12904141,  0.43927986,  0.64010493,\n",
       "        0.33011071,  0.66173785,  0.22928919, -1.5073508 ,  0.22336822,\n",
       "        0.47477204, -1.0531289 ,  1.10799187, -1.25973143, -1.10320124,\n",
       "       -0.97741396,  0.96272427, -0.32422942, -0.40857879,  0.35994241,\n",
       "       -1.06454424,  0.59347087, -0.56713386, -0.44666375, -1.63577047,\n",
       "       -0.85892397, -1.23537487,  0.15398054, -0.63250007, -1.09358094,\n",
       "        0.63784797, -0.66927187, -0.07543042,  0.36561447, -0.61626313,\n",
       "        0.20596619,  0.97099947, -0.66458045,  0.2203226 , -0.28555493,\n",
       "       -0.1272141 , -0.62987418,  0.55279597,  0.82198527,  1.01858903,\n",
       "       -1.86441359,  2.27920997,  0.16771273,  0.86385236, -0.44286906,\n",
       "        1.41447917,  1.00879617,  0.07574641, -0.33247365, -0.49550029,\n",
       "        0.34797251, -0.45090465, -0.24464287,  0.24989332, -1.33795281,\n",
       "        0.16466016,  0.06446748, -1.10326635,  3.14556466, -0.62281066,\n",
       "       -1.22378335,  1.07280249, -0.54900593, -1.06966367,  0.23427786,\n",
       "        0.27503137, -0.47853844,  1.79659395,  0.12892778,  0.35666095,\n",
       "        1.27917793, -0.0565296 ,  1.52484849, -1.06690168, -1.90974518,\n",
       "        1.4263125 ,  1.71994964,  1.74723715,  0.79641968, -1.09527757])"
      ]
     },
     "execution_count": 67,
     "metadata": {},
     "output_type": "execute_result"
    }
   ],
   "source": [
    "x"
   ]
  },
  {
   "cell_type": "code",
   "execution_count": 68,
   "metadata": {},
   "outputs": [
    {
     "name": "stdout",
     "output_type": "stream",
     "text": [
      "[0.65227078 0.97953303 0.69922582 0.99153032 0.70896584 0.64428981\n",
      " 0.68141272 0.70816088 1.         0.94950073 0.93204752 0.79963251\n",
      " 0.8116328  0.656482   0.76834354 0.99756969 0.70487528 0.86619505\n",
      " 0.99433672 0.99149995 0.67772959 0.80687885 0.99984177 0.99549163\n",
      " 0.97579467 0.89779006 0.98948519 0.71367641 0.91890432 0.90002005\n",
      " 0.9911796  0.95939062 0.98825326 0.66991679 0.99692547 0.64178246\n",
      " 0.99416959 0.63487389 0.99999998 0.82422871 0.83311077 0.71355425\n",
      " 0.99999157 0.83505656 0.68293158 0.64939186 0.67270653 0.70905195\n",
      " 0.83275813 0.81477562 0.7137089  0.9242959  0.78539501 0.80054387\n",
      " 0.63543024 0.65941045 0.99994173 0.99584082 0.81068712 0.76216694\n",
      " 0.70563032 0.75567337 0.70306243 0.68305282 0.92944668 0.84856462\n",
      " 0.65237341 0.99999639 0.98837747 0.9960192  0.6356301  0.80387903\n",
      " 0.66479505 0.94940469 0.99999736 0.92981025 0.95088423 0.99160735\n",
      " 0.64831069 0.64838824 0.66766618 0.84297138 0.98352081 0.63474724\n",
      " 0.63570867 0.72779303 0.63478026 0.84911681 0.86527387 0.99996531\n",
      " 0.98949707 0.98564421 0.65696363 0.84969045 0.993073   0.66587961\n",
      " 0.99718036 0.80820005 0.71141636 0.99164649 0.78705632 0.72134224\n",
      " 0.73988158 0.64877659 0.70089795 0.63629717 0.69216951 0.68106382\n",
      " 0.64173935 0.88606779 0.65475897 0.63759304 0.64930126 0.72688874\n",
      " 0.63887854 0.654405   0.65003163 0.71824504 0.64771959 0.66219794\n",
      " 0.64207859 0.6640693  0.6382827  0.77759214 0.63810217 0.64989413\n",
      " 0.70778018 0.71528549 0.73753768 0.71461802 0.69794069 0.69610411\n",
      " 0.64181978 0.64597305 0.6434625  0.70931646 0.65836804 0.65632918\n",
      " 0.64815827 0.79951026 0.68382705 0.73382883 0.63633779 0.6615543\n",
      " 0.71328454 0.66200614 0.66473504 0.6351228  0.64373906 0.66020492\n",
      " 0.63759884 0.69713576 0.66431964 0.63801114 0.64023312 0.63583039\n",
      " 0.66133377 0.65525709 0.67976298 0.70321511 0.83887554 0.90431108\n",
      " 0.63663556 0.68438159 0.64793193 0.76213518 0.70194395 0.63512602\n",
      " 0.64218388 0.65124096 0.64289294 0.64841349 0.63877278 0.63894764\n",
      " 0.74976298 0.63656717 0.63501936 0.71462707 0.9820189  0.66074498\n",
      " 0.73208116 0.71043626 0.65497817 0.71000982 0.63843847 0.63983605\n",
      " 0.65013465 0.82726369 0.63585998 0.64330446 0.7405334  0.63495459\n",
      " 0.78054809 0.70963541 0.84655674 0.76408009 0.81404225 0.81875583\n",
      " 0.67704647 0.71351904]\n",
      "0.7114022025097102\n"
     ]
    }
   ],
   "source": [
    "res= ebnm_point_laplace_solver(x=betahat, s=sebetahat)\n",
    "print(res.scale    ) "
   ]
  },
  {
   "cell_type": "code",
   "execution_count": 69,
   "metadata": {},
   "outputs": [
    {
     "data": {
      "text/plain": [
       "Text(0, 0.5, 'posterior mean')"
      ]
     },
     "execution_count": 69,
     "metadata": {},
     "output_type": "execute_result"
    },
    {
     "data": {
      "image/png": "[encoded data removed]",
      "text/plain": [
       "<Figure size 640x480 with 1 Axes>"
      ]
     },
     "metadata": {},
     "output_type": "display_data"
    }
   ],
   "source": [
    "plt.scatter(betahat, res.post_mean  )\n",
    "plt.xlabel(\"observed values\")\n",
    "plt.plot(betahat, betahat, color='red', label='x = y')\n",
    "plt.axhline(y=0, color=\"black\")\n",
    "plt.ylabel(\"posterior mean\")"
   ]
  }
 ],
 "metadata": {
  "kernelspec": {
   "display_name": "ml_env",
   "language": "python",
   "name": "python3"
  },
  "language_info": {
   "codemirror_mode": {
    "name": "ipython",
    "version": 3
   },
   "file_extension": ".py",
   "mimetype": "text/x-python",
   "name": "python",
   "nbconvert_exporter": "python",
   "pygments_lexer": "ipython3",
   "version": "3.10.8"
  }
 },
 "nbformat": 4,
 "nbformat_minor": 2
}
