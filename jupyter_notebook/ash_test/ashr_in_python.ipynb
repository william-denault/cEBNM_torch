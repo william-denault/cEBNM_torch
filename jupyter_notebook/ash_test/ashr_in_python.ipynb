{
 "cells": [
  {
   "cell_type": "code",
   "execution_count": 1,
   "metadata": {},
   "outputs": [],
   "source": [
    "import sys\n",
    "import os\n",
    "import matplotlib.pyplot as plt\n",
    "\n",
    "# Add the path to utils.py\n",
    "sys.path.append(r\"C:\\Document\\Serieux\\Travail\\python_work\\cEBNM_torch\\py\")\n",
    "sys.path.append(r\"C:\\Document\\Serieux\\Travail\\python_work\\cEBNM_torch\\py\\ebnm_solver\")\n",
    "sys.path.append(r\"C:\\Document\\Serieux\\Travail\\python_work\\cEBNM_torch\\py\\numerical_routine\")\n",
    "from distribution_operation import *\n",
    "from utils import *\n",
    "from numerical_routine import *\n",
    "from posterior_computation import *\n",
    "from ash import *\n",
    "from utils_mix import *"
   ]
  },
  {
   "cell_type": "code",
   "execution_count": 2,
   "metadata": {},
   "outputs": [],
   "source": [
    "import numpy as np\n",
    "import sys\n",
    "import os\n",
    "sys.path.append(r\"c:\\Document\\Serieux\\Travail\\python_work\\cEBNM_torch\\py\")\n",
    "from distribution_operation import *\n",
    "from utils import *\n",
    "from numerical_routine import *\n",
    "from posterior_computation import *\n",
    "from utils_mix import *\n",
    "\n",
    "class ash_object:\n",
    "    def __init__(self, post_mean, post_mean2, post_sd, scale, pi, prior, log_lik=0,#log_lik2 =0,\n",
    "                 mode=0):\n",
    "        self.post_mean = post_mean\n",
    "        self.post_mean2 = post_mean2\n",
    "        self.post_sd = post_sd\n",
    "        self.scale= scale\n",
    "        self.pi =pi \n",
    "        self.prior= prior\n",
    "        self.log_lik = log_lik\n",
    "       # self.log_lik2= log_lik2 \n",
    "        self.mode =  mode\n",
    "\n",
    "\n",
    "def ash ( betahat,sebetahat, prior = \"norm\", mult=np.sqrt(2),penalty=10,verbose= True,threshold_loglikelihood =  -300, mode=0):\n",
    "    \n",
    "     \n",
    "    if prior== \"norm\":\n",
    "       \n",
    "        scale=autoselect_scales_mix_norm(betahat  = betahat,\n",
    "                                         sebetahat= sebetahat,\n",
    "                                         mult=mult)\n",
    "        L= get_data_loglik_normal(betahat=betahat ,\n",
    "                                 sebetahat=sebetahat ,\n",
    "                                 location=0*scale+mode,\n",
    "                                 scale=scale)\n",
    "        optimal_pi = optimize_pi_logL(  logL =L,\n",
    "                                 penalty=penalty,\n",
    "                                 verbose=verbose) \n",
    "        out= posterior_mean_norm(betahat, sebetahat,\n",
    "                                 log_pi=np.log(optimal_pi+1e-32), \n",
    "                                 location=0*scale+mode,\n",
    "                                 scale=scale)\n",
    "    if prior== \"exp\":\n",
    "        scale=autoselect_scales_mix_exp(betahat  = betahat,\n",
    "                                         sebetahat= sebetahat,\n",
    "                                          mult=mult)\n",
    "        L= get_data_loglik_exp(betahat=betahat ,\n",
    "                                 sebetahat=sebetahat , \n",
    "                                 scale=scale)\n",
    "        optimal_pi = optimize_pi_logL(  logL =L,\n",
    "                                 penalty=penalty,\n",
    "                                 verbose=verbose)  \n",
    "        log_pi=  np.tile(np.log(optimal_pi+1e-32), (betahat.shape[0],1))\n",
    "        \n",
    "        out= posterior_mean_exp(betahat, sebetahat,\n",
    "                                 log_pi=log_pi, \n",
    "                                 scale=scale)\n",
    "     \n",
    "    L = np.maximum(L, threshold_loglikelihood)\n",
    "    \n",
    "    log_lik =    np.sum(np.log(np.sum(np.exp(L)*optimal_pi, axis=1)))\n",
    "    \n",
    "    L_max = np.max(L, axis=1, keepdims=True)\n",
    "    exp_term = np.exp(L - L_max)\n",
    "    exp_term = np.maximum(exp_term, 1e-300)  # Add a small threshold to prevent extremely small values\n",
    "    #log_sum_exp = L_max + np.log(np.sum(exp_term, axis=1))\n",
    "    log_lik2 = np.sum(log_sum_exp)\n",
    "\n",
    "    \n",
    "    \n",
    "    return ash_object(post_mean  = out.post_mean,\n",
    "                      post_mean2 = out.post_mean2,\n",
    "                      post_sd    = out.post_sd,\n",
    "                      scale      = scale,\n",
    "                      pi         = optimal_pi,\n",
    "                      prior      = prior ,\n",
    "                      log_lik    = log_lik,\n",
    "                     # log_lik2   = log_lik2 ,\n",
    "                      mode       = mode)\n",
    "\n",
    "\n",
    "\n",
    "\n",
    "\n",
    "\n",
    "def call_r_ash_fit_all_with_postmean(beta, sigma):\n",
    "    \"\"\"\n",
    "    Calls R's ash function and returns:\n",
    "    - log mixture weights\n",
    "    - mixture standard deviations\n",
    "    - posterior mean of beta\n",
    "    \"\"\"\n",
    "    from rpy2.rinterface_lib.sexp import NULLType\n",
    "\n",
    "    sebetahat = np.full_like(beta, sigma)\n",
    "    ash_obj = ashr.ash(betahat=beta, sebetahat=sebetahat, mixcompdist=\"normal\")\n",
    "\n",
    "    fitted_g = ash_obj.rx2(\"fitted_g\")\n",
    "    pi_r = np.array(fitted_g.rx2(\"pi\"), dtype=np.float32)\n",
    "    scale_r = np.array(fitted_g.rx2(\"sd\"), dtype=np.float32)\n",
    "\n",
    "    posterior_mean_r = ash_obj.rx2(\"result\").rx2(\"PosteriorMean\")\n",
    "    if isinstance(posterior_mean_r, NULLType):\n",
    "        raise RuntimeError(\"R ash() returned NULL for result$PosteriorMean\")\n",
    "    posterior_mean = np.array(posterior_mean_r, dtype=np.float32)\n",
    "\n",
    "    log_pi = np.log(np.clip(pi_r, 1e-12, 1.0))\n",
    "    return log_pi, scale_r, posterior_mean"
   ]
  },
  {
   "cell_type": "code",
   "execution_count": 3,
   "metadata": {},
   "outputs": [
    {
     "name": "stdout",
     "output_type": "stream",
     "text": [
      "-16.91767637608251\n",
      "[7.62378256e-01 1.85932222e-11 1.85942848e-11 1.85964577e-11\n",
      " 1.86010255e-11 1.86114299e-11 1.86410570e-11 1.87732211e-11\n",
      " 1.96474741e-11 2.49075205e-11 4.52087257e-11 9.75060667e-11\n",
      " 2.30335211e-10 5.25821675e-06 2.36980217e-01 6.36267815e-04\n",
      " 3.90494875e-10 1.59697715e-10]\n",
      "[0.         0.03827328 0.05412659 0.07654655 0.10825318 0.15309311\n",
      " 0.21650635 0.30618622 0.4330127  0.61237244 0.8660254  1.22474487\n",
      " 1.73205081 2.44948974 3.46410162 4.89897949 6.92820323 9.79795897]\n"
     ]
    }
   ],
   "source": [
    "betahat=  np.array([1,2,3,4,5])\n",
    "sebetahat=np.array([1,0.4,5,1,1])\n",
    "\n",
    "res= ash(betahat, sebetahat, mult=np.sqrt(2))\n",
    "print(res.log_lik)\n",
    "print(res.pi )\n",
    "print(res.scale     )\n",
    "mult=2"
   ]
  },
  {
   "cell_type": "markdown",
   "metadata": {},
   "source": [
    "different than library(ashr)\n",
    "betahat= c( 1,2,3,4,5 )\n",
    "sebetahat=c( 1,0.4,5,1,1 )\n",
    "r= ash(betahat , sebetahat, mixcompdist = \"normal\" )\n",
    "\n",
    "r$loglik\n",
    "r$fitted_g\n",
    "\n",
    "prior= rep(1, length(r$fitted_g$pi))\n",
    "prior[1]=10\n",
    "ashr:::penalty(prior, r$fitted_g$pi)\n"
   ]
  },
  {
   "cell_type": "code",
   "execution_count": 4,
   "metadata": {},
   "outputs": [],
   "source": [
    "scale=autoselect_scales_mix_norm(betahat  = betahat,\n",
    "                                         sebetahat= sebetahat,\n",
    "                                         mult=mult)\n",
    "L= get_data_loglik_normal(betahat=betahat ,\n",
    "                                 sebetahat=sebetahat ,\n",
    "                                 location=0*scale,\n",
    "                                 scale=scale)\n",
    "optimal_pi = optimize_pi( np.exp(L),\n",
    "                                 penalty=10,\n",
    "                                 verbose=True) \n",
    "out= posterior_mean_norm(betahat, sebetahat,\n",
    "                                 log_pi=np.log(optimal_pi+1e-32), \n",
    "                                 scale=scale)"
   ]
  },
  {
   "cell_type": "code",
   "execution_count": 5,
   "metadata": {},
   "outputs": [
    {
     "data": {
      "text/plain": [
       "array([ 0.21398654,  4.05293203,  1.93632865, 14.45535405, 22.22774277])"
      ]
     },
     "execution_count": 5,
     "metadata": {},
     "output_type": "execute_result"
    }
   ],
   "source": [
    "res.post_mean2\n"
   ]
  },
  {
   "cell_type": "code",
   "execution_count": 5,
   "metadata": {},
   "outputs": [
    {
     "data": {
      "text/plain": [
       "array([0.        , 0.03827328, 0.07654655, 0.15309311, 0.30618622,\n",
       "       0.61237244, 1.22474487, 2.44948974, 4.89897949, 9.79795897])"
      ]
     },
     "execution_count": 5,
     "metadata": {},
     "output_type": "execute_result"
    }
   ],
   "source": [
    "scale"
   ]
  },
  {
   "cell_type": "code",
   "execution_count": 6,
   "metadata": {},
   "outputs": [
    {
     "name": "stdout",
     "output_type": "stream",
     "text": [
      "-16.91767637608251\n"
     ]
    }
   ],
   "source": [
    "print(res.log_lik) "
   ]
  },
  {
   "cell_type": "markdown",
   "metadata": {},
   "source": []
  },
  {
   "cell_type": "code",
   "execution_count": 6,
   "metadata": {},
   "outputs": [],
   "source": [
    "betahat = np.array([1, 2, 3, 4, 5])\n",
    "sebetahat = np.array([1, 0.4, 5, 1, 1])\n",
    " \n",
    "scale = autoselect_scales_mix_exp(betahat=betahat, sebetahat=sebetahat )\n",
    "L = get_data_loglik_exp(betahat=betahat, sebetahat=sebetahat,   scale=scale)"
   ]
  },
  {
   "cell_type": "code",
   "execution_count": 7,
   "metadata": {},
   "outputs": [
    {
     "data": {
      "text/plain": [
       "array([[ -1.41893853,  -1.38123973,  -1.36312464,  -1.33705821,\n",
       "         -1.30082832,  -1.2538323 ,  -1.20079393,  -1.15642191,\n",
       "         -1.14499733,  -1.1906699 ,  -1.30638599,  -1.4913827 ,\n",
       "         -1.73599675,  -2.02751161,  -2.35385632],\n",
       "       [-12.5026478 , -11.87740939, -11.40220327, -10.40992311,\n",
       "         -8.63586089,  -6.51698062,  -4.67152354,  -3.31773067,\n",
       "         -2.43508985,  -1.93056714,  -1.70659371,  -1.68230841,\n",
       "         -1.79677333,  -2.00623835,  -2.28014784],\n",
       "       [ -2.70837645,  -2.70380126,  -2.70155115,  -2.69822387,\n",
       "         -2.69334304,  -2.68627697,  -2.67627455,  -2.66267476,\n",
       "         -2.64555985,  -2.62730781,  -2.61522375,  -2.62361688,\n",
       "         -2.67146561,  -2.77487196,  -2.94044567],\n",
       "       [ -8.91893853,  -8.75359393,  -8.66156346,  -8.50992587,\n",
       "         -8.24776001,  -7.77125388,  -6.92986458,  -5.73769819,\n",
       "         -4.51037924,  -3.52640669,  -2.86567228,  -2.49745033,\n",
       "         -2.35908061,  -2.38951026,  -2.53940263],\n",
       "       [-13.41893853, -13.20716457, -13.08432433, -12.8727871 ,\n",
       "        -12.47625608, -11.65641975, -10.0769394 ,  -7.97559642,\n",
       "         -6.02281116,  -4.53753274,  -3.54023771,  -2.94726038,\n",
       "         -2.65897411,  -2.58943871,  -2.67268137]])"
      ]
     },
     "execution_count": 7,
     "metadata": {},
     "output_type": "execute_result"
    }
   ],
   "source": [
    "L"
   ]
  },
  {
   "cell_type": "code",
   "execution_count": 8,
   "metadata": {},
   "outputs": [],
   "source": [
    "exp_L = np.exp(L)\n",
    "optimal_pi = optimize_pi(exp_L, penalty=10, verbose=False)"
   ]
  },
  {
   "cell_type": "code",
   "execution_count": 9,
   "metadata": {},
   "outputs": [
    {
     "data": {
      "text/plain": [
       "array([7.54277772e-01, 0.00000000e+00, 0.00000000e+00, 0.00000000e+00,\n",
       "       0.00000000e+00, 0.00000000e+00, 0.00000000e+00, 0.00000000e+00,\n",
       "       0.00000000e+00, 1.58603289e-17, 3.17734727e-12, 1.04329869e-03,\n",
       "       2.44489823e-01, 1.89106017e-04, 6.45328235e-12])"
      ]
     },
     "execution_count": 9,
     "metadata": {},
     "output_type": "execute_result"
    }
   ],
   "source": [
    "optimal_pi "
   ]
  },
  {
   "cell_type": "code",
   "execution_count": 10,
   "metadata": {},
   "outputs": [
    {
     "name": "stdout",
     "output_type": "stream",
     "text": [
      "[[5.14448019e-01 2.51266858e-01 2.55860056e-01 2.62617097e-01\n",
      "  2.72306144e-01 2.85408925e-01 3.00955180e-01 3.14609872e-01\n",
      "  3.18224769e-01 3.04017535e-01 2.70796954e-01 2.25296176e-01\n",
      "  2.25033292e-01 1.31687642e-01 9.50020960e-02]\n",
      " [7.90219468e-06 6.94554999e-06 1.11708453e-05 3.01319916e-05\n",
      "  1.77620574e-04 1.47812540e-03 9.35800140e-03 3.62349677e-02\n",
      "  8.75898768e-02 1.45065902e-01 1.81482924e-01 1.86138341e-01\n",
      "  2.11763856e-01 1.34519079e-01 1.02269086e-01]\n",
      " [1.41692130e-01 6.69505321e-02 6.71013478e-02 6.73249846e-02\n",
      "  6.76543894e-02 6.81341330e-02 6.88190590e-02 6.97613770e-02\n",
      "  7.09656123e-02 7.22727727e-02 7.31514193e-02 7.26157400e-02\n",
      "  8.83034777e-02 6.23692536e-02 5.28421736e-02]\n",
      " [2.84533158e-04 1.57892848e-04 1.73113440e-04 2.01458758e-04\n",
      "  2.61844431e-04 4.21684195e-04 9.78133319e-04 3.22217658e-03\n",
      "  1.09942900e-02 2.94104069e-02 5.69448355e-02 8.23804579e-02\n",
      "  1.20682664e-01 9.16919072e-02 7.89135260e-02]\n",
      " [3.16087787e-06 1.83738982e-06 2.07754359e-06 2.56696292e-06\n",
      "  3.81619740e-06 8.66325751e-06 4.20378818e-05 3.43749825e-04\n",
      "  2.42284899e-03 1.06997731e-02 2.90064310e-02 5.25380779e-02\n",
      "  8.94134392e-02 7.50763563e-02 6.90667835e-02]]\n",
      "(5, 15)\n"
     ]
    }
   ],
   "source": [
    "print(np.exp(L) * np.exp(optimal_pi))\n",
    "print((np.exp(L) * np.exp(optimal_pi)).shape)\n",
    "\n",
    "\n",
    "\n",
    "log_lik =    np.sum( np.log( np.sum( np.exp(L) * np.exp(optimal_pi) , axis=0)))"
   ]
  },
  {
   "cell_type": "code",
   "execution_count": 11,
   "metadata": {},
   "outputs": [
    {
     "data": {
      "text/plain": [
       "array([[5.14448019e-01, 2.51266858e-01, 2.55860056e-01, 2.62617097e-01,\n",
       "        2.72306144e-01, 2.85408925e-01, 3.00955180e-01, 3.14609872e-01,\n",
       "        3.18224769e-01, 3.04017535e-01, 2.70796954e-01, 2.25296176e-01,\n",
       "        2.25033292e-01, 1.31687642e-01, 9.50020960e-02],\n",
       "       [7.90219468e-06, 6.94554999e-06, 1.11708453e-05, 3.01319916e-05,\n",
       "        1.77620574e-04, 1.47812540e-03, 9.35800140e-03, 3.62349677e-02,\n",
       "        8.75898768e-02, 1.45065902e-01, 1.81482924e-01, 1.86138341e-01,\n",
       "        2.11763856e-01, 1.34519079e-01, 1.02269086e-01],\n",
       "       [1.41692130e-01, 6.69505321e-02, 6.71013478e-02, 6.73249846e-02,\n",
       "        6.76543894e-02, 6.81341330e-02, 6.88190590e-02, 6.97613770e-02,\n",
       "        7.09656123e-02, 7.22727727e-02, 7.31514193e-02, 7.26157400e-02,\n",
       "        8.83034777e-02, 6.23692536e-02, 5.28421736e-02],\n",
       "       [2.84533158e-04, 1.57892848e-04, 1.73113440e-04, 2.01458758e-04,\n",
       "        2.61844431e-04, 4.21684195e-04, 9.78133319e-04, 3.22217658e-03,\n",
       "        1.09942900e-02, 2.94104069e-02, 5.69448355e-02, 8.23804579e-02,\n",
       "        1.20682664e-01, 9.16919072e-02, 7.89135260e-02],\n",
       "       [3.16087787e-06, 1.83738982e-06, 2.07754359e-06, 2.56696292e-06,\n",
       "        3.81619740e-06, 8.66325751e-06, 4.20378818e-05, 3.43749825e-04,\n",
       "        2.42284899e-03, 1.06997731e-02, 2.90064310e-02, 5.25380779e-02,\n",
       "        8.94134392e-02, 7.50763563e-02, 6.90667835e-02]])"
      ]
     },
     "execution_count": 11,
     "metadata": {},
     "output_type": "execute_result"
    }
   ],
   "source": [
    "np.exp(L) * np.exp(optimal_pi)"
   ]
  },
  {
   "cell_type": "code",
   "execution_count": null,
   "metadata": {},
   "outputs": [],
   "source": []
  },
  {
   "cell_type": "code",
   "execution_count": null,
   "metadata": {},
   "outputs": [],
   "source": []
  },
  {
   "cell_type": "code",
   "execution_count": null,
   "metadata": {},
   "outputs": [],
   "source": []
  },
  {
   "cell_type": "code",
   "execution_count": 8,
   "metadata": {},
   "outputs": [],
   "source": [
    "true_val1=  np.random.normal(loc=0, scale=2, size=100)\n",
    "true_val0=  np.zeros( 100)\n",
    "\n",
    "observations_mu_1 =true_val1+np.random.normal(loc=0, scale=1, size=100)\n",
    "observations_mu_0 =true_val0+ np.random.normal(loc=0, scale=1, size=100)\n",
    "# Combine them into one array\n",
    "betahat = np.hstack([observations_mu_1, observations_mu_0])\n",
    "sebetahat=  np.repeat(1, betahat.shape[0])"
   ]
  },
  {
   "cell_type": "code",
   "execution_count": 9,
   "metadata": {},
   "outputs": [
    {
     "name": "stdout",
     "output_type": "stream",
     "text": [
      "[7.27798808e-01 4.58929024e-04 1.79517213e-04 7.46077380e-05\n",
      " 3.49279990e-05 2.06053815e-05 1.89758377e-05 4.04549874e-05\n",
      " 2.94744752e-04 6.31954433e-03 1.56371953e-01 1.08373203e-01\n",
      " 1.37282619e-05 3.29295589e-10 1.48340959e-10 8.01005992e-11]\n"
     ]
    }
   ],
   "source": [
    "res= ash(betahat, sebetahat)\n",
    "print(res.pi) "
   ]
  },
  {
   "cell_type": "markdown",
   "metadata": {},
   "source": [
    "nice conservative behaviour"
   ]
  },
  {
   "cell_type": "code",
   "execution_count": 10,
   "metadata": {},
   "outputs": [
    {
     "data": {
      "text/plain": [
       "Text(0, 0.5, 'posterior mean')"
      ]
     },
     "execution_count": 10,
     "metadata": {},
     "output_type": "execute_result"
    },
    {
     "data": {
      "image/png": "[encoded data removed]",
      "text/plain": [
       "<Figure size 640x480 with 1 Axes>"
      ]
     },
     "metadata": {},
     "output_type": "display_data"
    }
   ],
   "source": [
    "plt.scatter(betahat, res.post_mean  )\n",
    "plt.xlabel(\"observed values\")\n",
    "plt.plot(betahat, betahat, color='red', label='x = y')\n",
    "plt.axhline(y=0, color=\"black\")\n",
    "plt.ylabel(\"posterior mean\")"
   ]
  },
  {
   "cell_type": "code",
   "execution_count": null,
   "metadata": {},
   "outputs": [],
   "source": []
  },
  {
   "cell_type": "code",
   "execution_count": 11,
   "metadata": {},
   "outputs": [
    {
     "name": "stdout",
     "output_type": "stream",
     "text": [
      "0.9776881513088249\n",
      "0.7618257328471782\n"
     ]
    }
   ],
   "source": [
    "print( np.sqrt(np.mean((np.concatenate((true_val1 , true_val0))     - betahat )**2)))\n",
    "print(np.sqrt(np.mean((np.concatenate((true_val1 , true_val0))     - res.post_mean  )**2)))"
   ]
  },
  {
   "cell_type": "code",
   "execution_count": 12,
   "metadata": {},
   "outputs": [],
   "source": [
    "true_val1=  np.random.normal(loc=0, scale=2, size=1000)\n",
    "true_val0=  np.zeros( 1000)\n",
    "\n",
    "observations_mu_1 =true_val1+np.random.normal(loc=0, scale=1, size=1000)\n",
    "observations_mu_0 =true_val0+ np.random.normal(loc=0, scale=1, size=1000)\n",
    "\n",
    "# Combine them into one array\n",
    "betahat = np.hstack([observations_mu_1, observations_mu_0])\n",
    "sebetahat=  np.repeat(1, betahat.shape[0])"
   ]
  },
  {
   "cell_type": "code",
   "execution_count": 13,
   "metadata": {},
   "outputs": [
    {
     "name": "stdout",
     "output_type": "stream",
     "text": [
      "[3.87126947e-01 4.58875849e-02 1.74319174e-02 6.84122400e-03\n",
      " 2.86919515e-03 1.38090697e-03 8.90285364e-04 1.07660357e-03\n",
      " 4.17407717e-03 4.79295147e-02 3.49095725e-01 1.35146793e-01\n",
      " 1.49224521e-04 5.53735242e-10 2.14537451e-10 1.09978505e-10\n",
      " 6.31457664e-11]\n"
     ]
    }
   ],
   "source": [
    "res= ash(betahat, sebetahat)\n",
    "print(res.pi) "
   ]
  },
  {
   "cell_type": "markdown",
   "metadata": {},
   "source": [
    "in the large scale regime works well"
   ]
  },
  {
   "cell_type": "code",
   "execution_count": 14,
   "metadata": {},
   "outputs": [
    {
     "data": {
      "text/plain": [
       "Text(0, 0.5, 'posterior mean')"
      ]
     },
     "execution_count": 14,
     "metadata": {},
     "output_type": "execute_result"
    },
    {
     "data": {
      "image/png": "[encoded data removed]",
      "text/plain": [
       "<Figure size 640x480 with 1 Axes>"
      ]
     },
     "metadata": {},
     "output_type": "display_data"
    }
   ],
   "source": [
    "plt.scatter(betahat, res.post_mean  )\n",
    "plt.xlabel(\"observed values\") \n",
    "plt.plot(betahat, betahat, color='red', label='x = y')\n",
    "plt.axhline(y=0, color=\"black\")\n",
    "plt.ylabel(\"posterior mean\")"
   ]
  },
  {
   "cell_type": "code",
   "execution_count": 15,
   "metadata": {},
   "outputs": [
    {
     "data": {
      "text/plain": [
       "Text(0, 0.5, 'posterior mean')"
      ]
     },
     "execution_count": 15,
     "metadata": {},
     "output_type": "execute_result"
    },
    {
     "data": {
      "image/png": "[encoded data removed]",
      "text/plain": [
       "<Figure size 640x480 with 1 Axes>"
      ]
     },
     "metadata": {},
     "output_type": "display_data"
    }
   ],
   "source": [
    "plt.scatter(np.concatenate((true_val1 , true_val0))    , betahat ,color=\"green\" )\n",
    "plt.scatter(np.concatenate((true_val1 , true_val0))    , res.post_mean  )\n",
    "plt.xlabel(\"true values\") \n",
    "plt.plot(betahat, betahat, color='red', label='x = y')\n",
    "plt.axhline(y=0, color=\"black\")\n",
    "plt.ylabel(\"posterior mean\")"
   ]
  },
  {
   "cell_type": "code",
   "execution_count": 16,
   "metadata": {},
   "outputs": [
    {
     "name": "stdout",
     "output_type": "stream",
     "text": [
      "1.0184039000177565\n",
      "0.7600245517395992\n"
     ]
    }
   ],
   "source": [
    "print( np.sqrt(np.mean((np.concatenate((true_val1 , true_val0))     - betahat )**2)))\n",
    "print(np.sqrt(np.mean((np.concatenate((true_val1 , true_val0))     - res.post_mean  )**2)))"
   ]
  }
 ],
 "metadata": {
  "kernelspec": {
   "display_name": "ml_env",
   "language": "python",
   "name": "python3"
  },
  "language_info": {
   "codemirror_mode": {
    "name": "ipython",
    "version": 3
   },
   "file_extension": ".py",
   "mimetype": "text/x-python",
   "name": "python",
   "nbconvert_exporter": "python",
   "pygments_lexer": "ipython3",
   "version": "3.10.8"
  }
 },
 "nbformat": 4,
 "nbformat_minor": 2
}
