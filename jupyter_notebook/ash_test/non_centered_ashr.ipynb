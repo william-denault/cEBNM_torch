{
 "cells": [
  {
   "cell_type": "code",
   "execution_count": 1,
   "metadata": {},
   "outputs": [
    {
     "ename": "ModuleNotFoundError",
     "evalue": "No module named 'distribution_operation'",
     "output_type": "error",
     "traceback": [
      "\u001b[1;31m---------------------------------------------------------------------------\u001b[0m",
      "\u001b[1;31mModuleNotFoundError\u001b[0m                       Traceback (most recent call last)",
      "Cell \u001b[1;32mIn[1], line 9\u001b[0m\n\u001b[0;32m      7\u001b[0m sys\u001b[38;5;241m.\u001b[39mpath\u001b[38;5;241m.\u001b[39mappend(\u001b[38;5;124mr\u001b[39m\u001b[38;5;124m\"\u001b[39m\u001b[38;5;124mC:\u001b[39m\u001b[38;5;124m\\\u001b[39m\u001b[38;5;124mDocument\u001b[39m\u001b[38;5;124m\\\u001b[39m\u001b[38;5;124mSerieux\u001b[39m\u001b[38;5;124m\\\u001b[39m\u001b[38;5;124mTravail\u001b[39m\u001b[38;5;124m\\\u001b[39m\u001b[38;5;124mpython_work\u001b[39m\u001b[38;5;124m\\\u001b[39m\u001b[38;5;124mcEBNM_torch\u001b[39m\u001b[38;5;124m\\\u001b[39m\u001b[38;5;124mpy\u001b[39m\u001b[38;5;124m\\\u001b[39m\u001b[38;5;124mebnm_solver\u001b[39m\u001b[38;5;124m\"\u001b[39m)\n\u001b[0;32m      8\u001b[0m sys\u001b[38;5;241m.\u001b[39mpath\u001b[38;5;241m.\u001b[39mappend(\u001b[38;5;124mr\u001b[39m\u001b[38;5;124m\"\u001b[39m\u001b[38;5;124mD:\u001b[39m\u001b[38;5;124m\\\u001b[39m\u001b[38;5;124mDocument\u001b[39m\u001b[38;5;124m\\\u001b[39m\u001b[38;5;124mSerieux\u001b[39m\u001b[38;5;124m\\\u001b[39m\u001b[38;5;124mTravail\u001b[39m\u001b[38;5;124m\\\u001b[39m\u001b[38;5;124mpython_work\u001b[39m\u001b[38;5;124m\\\u001b[39m\u001b[38;5;124mcEBNM_torch\u001b[39m\u001b[38;5;124m\\\u001b[39m\u001b[38;5;124mpy\u001b[39m\u001b[38;5;124m\\\u001b[39m\u001b[38;5;124mnumerical_routine\u001b[39m\u001b[38;5;124m\"\u001b[39m)\n\u001b[1;32m----> 9\u001b[0m \u001b[38;5;28;01mfrom\u001b[39;00m \u001b[38;5;21;01mdistribution_operation\u001b[39;00m \u001b[38;5;28;01mimport\u001b[39;00m \u001b[38;5;241m*\u001b[39m\n\u001b[0;32m     10\u001b[0m \u001b[38;5;28;01mfrom\u001b[39;00m \u001b[38;5;21;01mutils\u001b[39;00m \u001b[38;5;28;01mimport\u001b[39;00m \u001b[38;5;241m*\u001b[39m\n\u001b[0;32m     11\u001b[0m \u001b[38;5;28;01mfrom\u001b[39;00m \u001b[38;5;21;01mnumerical_routine\u001b[39;00m \u001b[38;5;28;01mimport\u001b[39;00m \u001b[38;5;241m*\u001b[39m\n",
      "\u001b[1;31mModuleNotFoundError\u001b[0m: No module named 'distribution_operation'"
     ]
    }
   ],
   "source": [
    "import sys\n",
    "import os\n",
    "import matplotlib.pyplot as plt\n",
    "\n",
    "# Add the path to utils.py\n",
    "sys.path.append(r\"C:\\Document\\Serieux\\Travail\\python_work\\cEBNM_torch\\py\")\n",
    "sys.path.append(r\"C:\\Document\\Serieux\\Travail\\python_work\\cEBNM_torch\\py\\ebnm_solver\")\n",
    "sys.path.append(r\"C:\\Document\\Serieux\\Travail\\python_work\\cEBNM_torch\\py\\numerical_routine\")\n",
    "from distribution_operation import *\n",
    "from utils import *\n",
    "from numerical_routine import *\n",
    "from posterior_computation import *\n",
    "from ash import *"
   ]
  },
  {
   "cell_type": "code",
   "execution_count": null,
   "metadata": {},
   "outputs": [
    {
     "name": "stdout",
     "output_type": "stream",
     "text": [
      "[1.97808877 2.         2.00759421 2.14860704 3.15034247]\n",
      "-11.772394073433777\n",
      "1\n"
     ]
    }
   ],
   "source": [
    "betahat=  np.array([1,2,3,4,5])\n",
    "sebetahat=np.array([1,0.4,5,1,1])\n",
    "\n",
    "res= ash(betahat, sebetahat, mult=np.sqrt(2),mode=2)\n",
    "print(res.post_mean)\n",
    "mult=2\n",
    "\n",
    "print(res.log_lik)\n",
    "\n",
    "scale=autoselect_scales_mix_norm(betahat  = betahat,\n",
    "                                         sebetahat= sebetahat,\n",
    "                                         mult=np.sqrt(2))\n",
    "location=0*scale+2\n",
    "print(len(location.shape))"
   ]
  },
  {
   "cell_type": "code",
   "execution_count": 3,
   "metadata": {},
   "outputs": [
    {
     "data": {
      "text/plain": [
       "array([9.56721745e-01, 0.00000000e+00, 0.00000000e+00, 0.00000000e+00,\n",
       "       0.00000000e+00, 0.00000000e+00, 0.00000000e+00, 0.00000000e+00,\n",
       "       0.00000000e+00, 0.00000000e+00, 1.58603289e-17, 1.58603289e-17,\n",
       "       7.08349778e-07, 4.31668575e-02, 1.10688684e-04, 9.85782884e-13,\n",
       "       1.58603289e-17, 0.00000000e+00])"
      ]
     },
     "execution_count": 3,
     "metadata": {},
     "output_type": "execute_result"
    }
   ],
   "source": [
    "L= get_data_loglik_normal(betahat=betahat ,\n",
    "                                 sebetahat=sebetahat ,\n",
    "                                 location=location,\n",
    "                                 scale=scale)\n",
    "optimal_pi = optimize_pi( np.exp(L),\n",
    "                                 penalty=10,\n",
    "                                 verbose=True) \n",
    "optimal_pi\n",
    " "
   ]
  },
  {
   "cell_type": "code",
   "execution_count": 4,
   "metadata": {},
   "outputs": [
    {
     "data": {
      "text/plain": [
       "array([2., 2., 2., 2., 2., 2., 2., 2., 2., 2., 2., 2., 2., 2., 2., 2., 2.,\n",
       "       2.])"
      ]
     },
     "execution_count": 4,
     "metadata": {},
     "output_type": "execute_result"
    }
   ],
   "source": [
    "location"
   ]
  },
  {
   "cell_type": "code",
   "execution_count": 5,
   "metadata": {},
   "outputs": [],
   "source": [
    "data_loglik = get_data_loglik_normal (  betahat,sebetahat, location, scale)"
   ]
  },
  {
   "cell_type": "code",
   "execution_count": 6,
   "metadata": {},
   "outputs": [
    {
     "data": {
      "text/plain": [
       "array([9.56721745e-01, 0.00000000e+00, 0.00000000e+00, 0.00000000e+00,\n",
       "       0.00000000e+00, 0.00000000e+00, 0.00000000e+00, 0.00000000e+00,\n",
       "       0.00000000e+00, 0.00000000e+00, 1.58603289e-17, 1.58603289e-17,\n",
       "       7.08349778e-07, 4.31668575e-02, 1.10688684e-04, 9.85782884e-13,\n",
       "       1.58603289e-17, 0.00000000e+00])"
      ]
     },
     "execution_count": 6,
     "metadata": {},
     "output_type": "execute_result"
    }
   ],
   "source": [
    "log_pi =np.log(optimal_pi+1e-32)\n",
    "\n",
    "optimal_pi "
   ]
  },
  {
   "cell_type": "code",
   "execution_count": 7,
   "metadata": {},
   "outputs": [],
   "source": [
    "\n",
    "L= get_data_loglik_normal(betahat=betahat ,\n",
    "                                 sebetahat=sebetahat ,\n",
    "                                 location=location,\n",
    "                                 scale=scale)\n",
    "optimal_pi = optimize_pi( np.exp(L),\n",
    "                                 penalty=10,\n",
    "                                 verbose=True) \n",
    " "
   ]
  },
  {
   "cell_type": "code",
   "execution_count": 8,
   "metadata": {},
   "outputs": [
    {
     "data": {
      "text/plain": [
       "array([9.56721745e-01, 0.00000000e+00, 0.00000000e+00, 0.00000000e+00,\n",
       "       0.00000000e+00, 0.00000000e+00, 0.00000000e+00, 0.00000000e+00,\n",
       "       0.00000000e+00, 0.00000000e+00, 1.58603289e-17, 1.58603289e-17,\n",
       "       7.08349778e-07, 4.31668575e-02, 1.10688684e-04, 9.85782884e-13,\n",
       "       1.58603289e-17, 0.00000000e+00])"
      ]
     },
     "execution_count": 8,
     "metadata": {},
     "output_type": "execute_result"
    }
   ],
   "source": [
    "\n",
    "log_pi =np.log(optimal_pi+1e-32)\n",
    "\n",
    "optimal_pi "
   ]
  },
  {
   "cell_type": "code",
   "execution_count": 9,
   "metadata": {},
   "outputs": [],
   "source": [
    "data_loglik = get_data_loglik_normal (  betahat,sebetahat, location, scale)\n",
    "log_post_assignment = apply_log_sum_exp(data_loglik, log_pi)\n",
    "t_ind_Var =np.zeros((betahat.shape[0], scale.shape[0]))\n",
    " \n",
    "for i in range(t_ind_Var.shape[0]):\n",
    "        t_ind_Var[i , ]= np.concatenate(\n",
    "                                        ([0], \n",
    "                                         1/((1/sebetahat[i]**2)+ (1/scale[1:]**2)) )\n",
    "                                        )#assume that first entry of scale is 0\n",
    "        \n",
    "temp=np.zeros((betahat.shape[0], scale.shape[0]))\n",
    "\n",
    "for i in range(temp.shape[0]):\n",
    "        temp[i,] = (t_ind_Var[i,]/(sebetahat[i]**2))*(betahat[i] )+ location*(1-t_ind_Var[i,]/(sebetahat[i]**2))\n",
    "\n",
    "post_mean  = np.sum ( np.exp(log_post_assignment)* temp, axis=1)\n",
    "post_mean2 = np.sum ( np.exp(log_post_assignment)*( t_ind_Var+ temp**2), axis=1)\n",
    "post_sd    = np.sqrt(post_mean2-post_mean**2) "
   ]
  },
  {
   "cell_type": "code",
   "execution_count": 10,
   "metadata": {},
   "outputs": [
    {
     "data": {
      "text/plain": [
       "array([1.97808876, 2.        , 2.0075942 , 2.14860708, 3.15034251])"
      ]
     },
     "execution_count": 10,
     "metadata": {},
     "output_type": "execute_result"
    }
   ],
   "source": [
    "post_mean"
   ]
  },
  {
   "cell_type": "code",
   "execution_count": 11,
   "metadata": {},
   "outputs": [],
   "source": [
    "data_loglik = get_data_loglik_normal (  betahat,sebetahat, location, scale)\n",
    "log_post_assignment = apply_log_sum_exp(data_loglik, log_pi)\n",
    "t_ind_Var =np.zeros((betahat.shape[0], scale.shape[0]))\n",
    " \n",
    "for i in range(t_ind_Var.shape[0]):\n",
    "        t_ind_Var[i , ]= np.concatenate(\n",
    "                                        ([0], \n",
    "                                         1/((1/sebetahat[i]**2)+ (1/scale[1:]**2)) )\n",
    "                                        )#assume that first entry of scale is 0\n",
    "        \n",
    "temp=np.zeros((betahat.shape[0], scale.shape[0]))\n",
    "\n",
    "for i in range(temp.shape[0]):\n",
    "        temp[i,] = (t_ind_Var[i,]/(sebetahat[i]**2))*(betahat[i] )+ location*(1-t_ind_Var[i,]/(sebetahat[i]**2))\n",
    "\n",
    "post_mean  = np.sum ( np.exp(log_post_assignment)* temp, axis=1)\n",
    "post_mean2 = np.sum ( np.exp(log_post_assignment)*( t_ind_Var+ temp**2), axis=1)\n",
    "post_sd    = np.sqrt(post_mean2-post_mean**2) "
   ]
  },
  {
   "cell_type": "code",
   "execution_count": 13,
   "metadata": {},
   "outputs": [
    {
     "data": {
      "text/plain": [
       "array([1.97808876, 2.        , 2.0075942 , 2.14860708, 3.15034251])"
      ]
     },
     "execution_count": 13,
     "metadata": {},
     "output_type": "execute_result"
    }
   ],
   "source": [
    "post_mean"
   ]
  },
  {
   "cell_type": "code",
   "execution_count": 12,
   "metadata": {},
   "outputs": [
    {
     "data": {
      "text/plain": [
       "<matplotlib.collections.PathCollection at 0x1dcac830310>"
      ]
     },
     "execution_count": 12,
     "metadata": {},
     "output_type": "execute_result"
    },
    {
     "data": {
      "image/png": "[encoded data removed]",
      "text/plain": [
       "<Figure size 640x480 with 1 Axes>"
      ]
     },
     "metadata": {},
     "output_type": "display_data"
    }
   ],
   "source": [
    "plt.scatter(post_mean, betahat)\n",
    "res= ash(betahat,sebetahat, mode=2)\n",
    "plt.scatter(res.post_mean, betahat)"
   ]
  },
  {
   "cell_type": "code",
   "execution_count": 14,
   "metadata": {},
   "outputs": [
    {
     "name": "stdout",
     "output_type": "stream",
     "text": [
      "[0.         0.03827328 0.05412659 0.07654655 0.10825318 0.15309311\n",
      " 0.21650635 0.30618622 0.4330127  0.61237244 0.8660254  1.22474487\n",
      " 1.73205081 2.44948974 3.46410162 4.89897949 6.92820323 9.79795897]\n",
      "2\n"
     ]
    },
    {
     "data": {
      "text/plain": [
       "True"
      ]
     },
     "execution_count": 14,
     "metadata": {},
     "output_type": "execute_result"
    }
   ],
   "source": [
    "scale=autoselect_scales_mix_norm(betahat  = betahat,\n",
    "                                         sebetahat= sebetahat,\n",
    "                                         mult=np.sqrt(2))\n",
    "\n",
    "location=scale\n",
    "print (location)\n",
    "if location is None:\n",
    "    print(1)\n",
    "else:\n",
    "    print(2)\n",
    "\n",
    "location=None\n",
    "location is None"
   ]
  }
 ],
 "metadata": {
  "kernelspec": {
   "display_name": "ml_env",
   "language": "python",
   "name": "python3"
  },
  "language_info": {
   "codemirror_mode": {
    "name": "ipython",
    "version": 3
   },
   "file_extension": ".py",
   "mimetype": "text/x-python",
   "name": "python",
   "nbconvert_exporter": "python",
   "pygments_lexer": "ipython3",
   "version": "3.10.8"
  }
 },
 "nbformat": 4,
 "nbformat_minor": 2
}
