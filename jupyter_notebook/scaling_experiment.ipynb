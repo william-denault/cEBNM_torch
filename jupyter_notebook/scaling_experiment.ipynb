{
 "cells": [
  {
   "cell_type": "code",
   "execution_count": null,
   "metadata": {},
   "outputs": [],
   "source": [
    "import numpy as np\n",
    "import time\n",
    "import pickle\n",
    "import matplotlib.pyplot as plt\n",
    "\n",
    "import os\n",
    "import sys\n",
    "import numpy as np\n",
    "import matplotlib.pyplot as plt\n",
    "sys.path.append(r\"C:\\Document\\Serieux\\Travail\\python_work\\cEBNM_torch\\py\")\n",
    "sys.path.append(r\"C:\\Document\\Serieux\\Travail\\python_work\\cEBNM_torch\\py\\ebnm_solver\")\n",
    "sys.path.append(r\"C:\\Document\\Serieux\\Travail\\python_work\\cEBNM_torch\\py\\numerical_routine\")\n",
    "\n",
    "from empirical_mdn import * \n",
    "\n",
    "# Add the path to utils.py\n",
    "sys.path.append(r\"c:\\Document\\Serieux\\Travail\\python_work\\cEBNM_torch\\py\")\n",
    "from cEBMF import *\n",
    "def scaling_exp(noise_level=1, seed=1, nrow=1000):\n",
    "    np.random.seed(seed)\n",
    "\n",
    "    # Generate random coordinates\n",
    "    x = np.random.rand(nrow)\n",
    "    y = np.random.rand(nrow)\n",
    "    X = np.column_stack((x, y))  # This will be your 'df'\n",
    "\n",
    "    # Generate f matrix (3 x 200)\n",
    "    f = np.empty((3, 200))\n",
    "    for i in range(200):\n",
    "        t1 = np.random.choice([0, 1])\n",
    "        t2 = np.random.choice([0, 1])\n",
    "        f[0, i] = t1 * np.random.randn()\n",
    "        f[1, i] = t2 * np.random.randn()\n",
    "        f[2, i] = t2 * np.random.randn()\n",
    "\n",
    "    # Initialize L matrix\n",
    "    L = np.empty((nrow, 3))\n",
    "\n",
    "    for i in range(nrow):\n",
    "        if (x[i] < 0.33 and y[i] < 0.33) or \\\n",
    "           (0.33 < x[i] < 0.66 and 0.33 < y[i] < 0.66) or \\\n",
    "           (x[i] > 0.66 and y[i] > 0.66):\n",
    "            L[i, :] = [1, 0, 0]\n",
    "        elif (x[i] < 0.33 and y[i] > 0.66) or \\\n",
    "             (0.33 < x[i] < 0.66 and y[i] < 0.33) or \\\n",
    "             (x[i] > 0.66 and 0.33 < y[i] < 0.66):\n",
    "            L[i, :] = [0, 1, 0]\n",
    "        else:\n",
    "            L[i, :] = [0, 0, 1]\n",
    "\n",
    "    # Generate noisy observations\n",
    "    Z = L @ f + np.random.normal(scale=noise_level, size=(nrow, f.shape[1]))\n",
    "\n",
    "    return Z, X  # X is a (nrow x 2) NumPy array with x and y\n"
   ]
  },
  {
   "cell_type": "code",
   "execution_count": null,
   "metadata": {},
   "outputs": [],
   "source": [
    "save_path = \"C:\\Document\\Serieux\\Travail\\Data_analysis_and_papers\\cEBMF_submission\\ICML_submission\\scaling_exp_res\\1000.pkl\"\n",
    "\n",
    "timings = []\n",
    "if os.path.exists(save_path):\n",
    "    with open(save_path, \"rb\") as f:\n",
    "        timings = pickle.load(f)"
   ]
  },
  {
   "cell_type": "code",
   "execution_count": null,
   "metadata": {},
   "outputs": [],
   "source": [
    "np.mean(timings)\n"
   ]
  },
  {
   "cell_type": "code",
   "execution_count": null,
   "metadata": {},
   "outputs": [],
   "source": [
    " "
   ]
  },
  {
   "cell_type": "code",
   "execution_count": null,
   "metadata": {},
   "outputs": [],
   "source": [
    "\n",
    "for i in range(10 - len(timings)):\n",
    "\n",
    "    Z, coords = scaling_exp(nrow=1000)\n",
    "    print(Z.shape)     # (1000, 200)\n",
    "    print(coords.shape)  # (1000, 2)\n",
    "    \n",
    "    start = time.time()\n",
    "    mycebmf= cEBMF(data= Z,\n",
    "               prior_L= \"emdn\",\n",
    "               X_l= coords,\n",
    "               K=3)\n",
    "    mycebmf.init_LF() \n",
    "    mycebmf.iter( )\n",
    "    elapsed = time.time() - start\n",
    "    timings.append(elapsed)\n",
    "    print(f\"Run {len(timings)} took {elapsed:.4f} seconds\")\n",
    "    with open(save_path, \"wb\") as f:\n",
    "        pickle.dump(timings, f)"
   ]
  },
  {
   "cell_type": "code",
   "execution_count": null,
   "metadata": {},
   "outputs": [],
   "source": [
    "save_path = \"C:\\Document\\Serieux\\Travail\\Data_analysis_and_papers\\cEBMF_submission\\ICML_submission\\scaling_exp_res\\10000.pkl\"\n",
    "\n",
    "timings = []\n",
    "if os.path.exists(save_path):\n",
    "    with open(save_path, \"rb\") as f:\n",
    "        timings = pickle.load(f)"
   ]
  },
  {
   "cell_type": "code",
   "execution_count": null,
   "metadata": {},
   "outputs": [],
   "source": [
    "np.mean(timings)"
   ]
  },
  {
   "cell_type": "code",
   "execution_count": null,
   "metadata": {},
   "outputs": [],
   "source": [
    "\n",
    "for i in range(10 - len(timings)):\n",
    "\n",
    "    Z, coords = scaling_exp(nrow=10000)\n",
    "    print(Z.shape)     # (1000, 200)\n",
    "    print(coords.shape)  # (1000, 2)\n",
    "    \n",
    "    start = time.time()\n",
    "    mycebmf= cEBMF(data= Z,\n",
    "               prior_L= \"emdn\",\n",
    "               X_l= coords,\n",
    "               K=3)\n",
    "    mycebmf.init_LF() \n",
    "    mycebmf.iter( )\n",
    "    elapsed = time.time() - start\n",
    "    timings.append(elapsed)\n",
    "    print(f\"Run {len(timings)} took {elapsed:.4f} seconds, it  {i}\")\n",
    "    with open(save_path, \"wb\") as f:\n",
    "        pickle.dump(timings, f)"
   ]
  },
  {
   "cell_type": "code",
   "execution_count": null,
   "metadata": {},
   "outputs": [],
   "source": [
    "timings"
   ]
  },
  {
   "cell_type": "code",
   "execution_count": null,
   "metadata": {},
   "outputs": [],
   "source": [
    "save_path = \"C:\\Document\\Serieux\\Travail\\Data_analysis_and_papers\\cEBMF_submission\\ICML_submission\\scaling_exp_res\\100000.pkl\"\n",
    "\n",
    "timings = []\n",
    "if os.path.exists(save_path):\n",
    "    with open(save_path, \"rb\") as f:\n",
    "        timings = pickle.load(f)"
   ]
  },
  {
   "cell_type": "code",
   "execution_count": null,
   "metadata": {},
   "outputs": [],
   "source": [
    "np.mean(timings)"
   ]
  },
  {
   "cell_type": "code",
   "execution_count": null,
   "metadata": {},
   "outputs": [],
   "source": [
    " \n",
    "for i in range(10 - len(timings)):\n",
    "\n",
    "    Z, coords = scaling_exp(nrow=100000)\n",
    "    print(Z.shape)     # (1000, 200)\n",
    "    print(coords.shape)  # (1000, 2)\n",
    "    \n",
    "    start = time.time()\n",
    "    mycebmf= cEBMF(data= Z,\n",
    "               prior_L= \"emdn\",\n",
    "               X_l= coords,\n",
    "               K=3)\n",
    "    mycebmf.init_LF()\n",
    "    mycebmf.iter( )\n",
    "    elapsed = time.time() - start\n",
    "    timings.append(elapsed)\n",
    "    print(f\"Run {len(timings)} took {elapsed:.4f} seconds, it  {i}\")\n",
    "    with open(save_path, \"wb\") as f:\n",
    "        pickle.dump(timings, f)"
   ]
  },
  {
   "cell_type": "code",
   "execution_count": null,
   "metadata": {},
   "outputs": [],
   "source": [
    "save_path = \"C:\\Document\\Serieux\\Travail\\Data_analysis_and_papers\\cEBMF_submission\\ICML_submission\\scaling_exp_res\\1000000.pkl\"\n",
    "\n",
    "timings = []\n",
    "if os.path.exists(save_path):\n",
    "    with open(save_path, \"rb\") as f:\n",
    "        timings = pickle.load(f)"
   ]
  },
  {
   "cell_type": "code",
   "execution_count": null,
   "metadata": {},
   "outputs": [],
   "source": [
    "timings"
   ]
  },
  {
   "cell_type": "code",
   "execution_count": null,
   "metadata": {},
   "outputs": [],
   "source": [
    " \n",
    "for i in range(10 - len(timings)):\n",
    "\n",
    "    Z, coords = scaling_exp(nrow=1000000)\n",
    "    print(Z.shape)     # (1000, 200)\n",
    "    print(coords.shape)  # (1000, 2)\n",
    "    \n",
    "    start = time.time()\n",
    "    mycebmf= cEBMF(data= Z,\n",
    "               prior_L= \"emdn\",\n",
    "               X_l= coords,\n",
    "               K=3)\n",
    "    mycebmf.init_LF()\n",
    "    mycebmf.iter( )\n",
    "    elapsed = time.time() - start\n",
    "    timings.append(elapsed)\n",
    "    print(f\"Run {len(timings)} took {elapsed:.4f} seconds\")\n",
    "    with open(save_path, \"wb\") as f:\n",
    "        pickle.dump(timings, f)"
   ]
  },
  {
   "cell_type": "code",
   "execution_count": null,
   "metadata": {},
   "outputs": [],
   "source": []
  },
  {
   "cell_type": "code",
   "execution_count": null,
   "metadata": {},
   "outputs": [],
   "source": [
    "plt.scatter(coords[:,0], coords[:,1], alpha=0.5,\n",
    "            c= mycebmf.L [:,1] )\n",
    " "
   ]
  },
  {
   "cell_type": "code",
   "execution_count": null,
   "metadata": {},
   "outputs": [],
   "source": [
    "rmse = np.sqrt(np.mean((Z - mycebmf.L[:,0:1] @ mycebmf.F[:,0:1].T) ** 2))"
   ]
  },
  {
   "cell_type": "code",
   "execution_count": null,
   "metadata": {},
   "outputs": [],
   "source": [
    "rmse"
   ]
  }
 ],
 "metadata": {
  "kernelspec": {
   "display_name": "ml_env",
   "language": "python",
   "name": "python3"
  },
  "language_info": {
   "codemirror_mode": {
    "name": "ipython",
    "version": 3
   },
   "file_extension": ".py",
   "mimetype": "text/x-python",
   "name": "python",
   "nbconvert_exporter": "python",
   "pygments_lexer": "ipython3",
   "version": "3.10.8"
  }
 },
 "nbformat": 4,
 "nbformat_minor": 2
}
