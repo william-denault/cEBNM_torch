{
 "cells": [
  {
   "cell_type": "code",
   "execution_count": 1,
   "metadata": {},
   "outputs": [
    {
     "name": "stdout",
     "output_type": "stream",
     "text": [
      "Rank-1 Matrix (Outer Product):\n",
      "[[0.11297917 0.31397253 0.37514486 ... 0.56209635 0.0454579  0.12723723]\n",
      " [0.09458225 0.26284693 0.31405829 ... 0.47056761 0.03805578 0.10651861]\n",
      " [0.13745647 0.38199568 0.45642119 ... 0.68387632 0.05530649 0.15480359]\n",
      " ...\n",
      " [0.04188835 0.11640899 0.13908935 ... 0.2084038  0.01685405 0.04717469]\n",
      " [0.01959423 0.05445295 0.06506221 ... 0.09748562 0.00788386 0.02206704]\n",
      " [0.02830421 0.07865826 0.09398351 ... 0.14081971 0.01138838 0.03187623]]\n",
      "\n",
      "Noisy Matrix (with Homoscedastic Noise):\n",
      "[[ 0.01152129  0.25956499  0.258771   ...  0.47685686  0.0127428\n",
      "   0.27747843]\n",
      " [-0.01263714  0.19913086  0.15476304 ...  0.29297002 -0.09844083\n",
      "   0.32558421]\n",
      " [ 0.10810724  0.35522071  0.32736028 ...  0.66096272 -0.04827398\n",
      "   0.37224748]\n",
      " ...\n",
      " [ 0.07556855  0.09614721  0.22795116 ...  0.13027049 -0.12420913\n",
      "  -0.16537578]\n",
      " [ 0.2368145  -0.02072585  0.13295821 ...  0.27379999 -0.03784046\n",
      "  -0.05843747]\n",
      " [-0.05417099  0.11991049  0.20847755 ...  0.21983256 -0.08298591\n",
      "   0.05013246]]\n"
     ]
    }
   ],
   "source": [
    "import numpy as np\n",
    "\n",
    "# Parameters\n",
    "n, p = 50, 40  # Dimensions of the matrix\n",
    "noise_std = 0.1  # Standard deviation of the homoscedastic noise\n",
    "\n",
    "# Generate two random vectors\n",
    "u = np.random.rand(n)  # Vector of length n\n",
    "v = np.random.rand(p)  # Vector of length p\n",
    "\n",
    "# Create a rank-1 matrix as the outer product of u and v\n",
    "rank_1_matrix = np.outer(u, v)\n",
    "\n",
    "# Add homoscedastic Gaussian noise (constant variance across the matrix)\n",
    "noise = np.random.normal(0, noise_std, size=(n, p))\n",
    "noisy_matrix = rank_1_matrix + noise\n",
    "\n",
    "# Print the original and noisy matrix\n",
    "print(\"Rank-1 Matrix (Outer Product):\")\n",
    "print(rank_1_matrix)\n",
    "print(\"\\nNoisy Matrix (with Homoscedastic Noise):\")\n",
    "print(noisy_matrix)\n"
   ]
  },
  {
   "cell_type": "code",
   "execution_count": 2,
   "metadata": {},
   "outputs": [],
   "source": [
    "import sys\n",
    "import os\n",
    "import matplotlib.pyplot as plt\n",
    "\n",
    "# Add the path to utils.py\n",
    "sys.path.append(r\"c:\\Document\\Serieux\\Travail\\python_work\\cEBNM_torch\\py\")\n",
    "from cEBMF import *"
   ]
  },
  {
   "cell_type": "code",
   "execution_count": 3,
   "metadata": {},
   "outputs": [],
   "source": [
    "mycebmf= cEBMF(data    = noisy_matrix,\n",
    "               prior_L = \"exp\",\n",
    "               prior_F = \"exp\")\n",
    "K=5\n",
    "# Perform udv_si transformation\n",
    "U, s, Vt = np.linalg.svd(noisy_matrix, full_matrices=False)\n",
    "\n",
    "\n",
    "mycebmf.init_LF()\n",
    " "
   ]
  },
  {
   "cell_type": "code",
   "execution_count": 4,
   "metadata": {},
   "outputs": [
    {
     "name": "stdout",
     "output_type": "stream",
     "text": [
      "exp\n",
      "(50,)\n",
      "(50,)\n"
     ]
    },
    {
     "name": "stderr",
     "output_type": "stream",
     "text": [
      "c:\\Document\\Serieux\\Travail\\python_work\\cEBNM_torch\\py\\numerical_routine.py:237: RuntimeWarning: invalid value encountered in divide\n",
      "  w = w / w.sum(axis=0, keepdims=True)  # Normalize by sum over k for each j\n"
     ]
    },
    {
     "ename": "AxisError",
     "evalue": "axis 1 is out of bounds for array of dimension 1",
     "output_type": "error",
     "traceback": [
      "\u001b[1;31m---------------------------------------------------------------------------\u001b[0m",
      "\u001b[1;31mAxisError\u001b[0m                                 Traceback (most recent call last)",
      "Cell \u001b[1;32mIn[4], line 1\u001b[0m\n\u001b[1;32m----> 1\u001b[0m mycebmf\u001b[38;5;241m.\u001b[39miter()\n",
      "File \u001b[1;32mc:\\Document\\Serieux\\Travail\\python_work\\cEBNM_torch\\py\\cEBMF.py:129\u001b[0m, in \u001b[0;36mcEBMF_object.iter\u001b[1;34m(self)\u001b[0m\n\u001b[0;32m    127\u001b[0m \u001b[38;5;28;01mdef\u001b[39;00m \u001b[38;5;21miter\u001b[39m (\u001b[38;5;28mself\u001b[39m):\n\u001b[0;32m    128\u001b[0m     \u001b[38;5;28;01mfor\u001b[39;00m k \u001b[38;5;129;01min\u001b[39;00m \u001b[38;5;28mrange\u001b[39m(\u001b[38;5;28mself\u001b[39m\u001b[38;5;241m.\u001b[39mK):\n\u001b[1;32m--> 129\u001b[0m         \u001b[38;5;28mself\u001b[39m\u001b[38;5;241m.\u001b[39mupdate_loading_factor_k(k\u001b[38;5;241m=\u001b[39mk)\n\u001b[0;32m    130\u001b[0m     \u001b[38;5;28mself\u001b[39m\u001b[38;5;241m.\u001b[39mupdate_tau()\n",
      "File \u001b[1;32mc:\\Document\\Serieux\\Travail\\python_work\\cEBNM_torch\\py\\cEBMF.py:107\u001b[0m, in \u001b[0;36mcEBMF_object.update_loading_factor_k\u001b[1;34m(self, k)\u001b[0m\n\u001b[0;32m    105\u001b[0m \u001b[38;5;28mprint\u001b[39m(lhat\u001b[38;5;241m.\u001b[39mshape)\n\u001b[0;32m    106\u001b[0m \u001b[38;5;28mprint\u001b[39m(s_l\u001b[38;5;241m.\u001b[39mshape)\n\u001b[1;32m--> 107\u001b[0m ash_obj \u001b[38;5;241m=\u001b[39m ash(betahat   \u001b[38;5;241m=\u001b[39mlhat,\n\u001b[0;32m    108\u001b[0m               sebetahat \u001b[38;5;241m=\u001b[39ms_l ,\n\u001b[0;32m    109\u001b[0m               prior     \u001b[38;5;241m=\u001b[39m \u001b[38;5;28mself\u001b[39m\u001b[38;5;241m.\u001b[39mprior_L,\n\u001b[0;32m    110\u001b[0m               verbose\u001b[38;5;241m=\u001b[39m\u001b[38;5;28;01mFalse\u001b[39;00m\n\u001b[0;32m    111\u001b[0m               )\n\u001b[0;32m    112\u001b[0m \u001b[38;5;28mself\u001b[39m\u001b[38;5;241m.\u001b[39mL  [:,k] \u001b[38;5;241m=\u001b[39mash_obj\u001b[38;5;241m.\u001b[39mpost_mean\n\u001b[0;32m    113\u001b[0m \u001b[38;5;28mself\u001b[39m\u001b[38;5;241m.\u001b[39mL2 [:,k] \u001b[38;5;241m=\u001b[39mash_obj\u001b[38;5;241m.\u001b[39mpost_mean2\n",
      "File \u001b[1;32mc:\\Document\\Serieux\\Travail\\python_work\\cEBNM_torch\\py\\ash.py:48\u001b[0m, in \u001b[0;36mash\u001b[1;34m(betahat, sebetahat, prior, mult, penalty, verbose)\u001b[0m\n\u001b[0;32m     42\u001b[0m     L\u001b[38;5;241m=\u001b[39m get_data_loglik_exp(betahat\u001b[38;5;241m=\u001b[39mbetahat ,\n\u001b[0;32m     43\u001b[0m                              sebetahat\u001b[38;5;241m=\u001b[39msebetahat , \n\u001b[0;32m     44\u001b[0m                              scale\u001b[38;5;241m=\u001b[39mscale)\n\u001b[0;32m     45\u001b[0m     optimal_pi \u001b[38;5;241m=\u001b[39m optimize_pi( np\u001b[38;5;241m.\u001b[39mexp(L),\n\u001b[0;32m     46\u001b[0m                              penalty\u001b[38;5;241m=\u001b[39mpenalty,\n\u001b[0;32m     47\u001b[0m                              verbose\u001b[38;5;241m=\u001b[39mverbose)  \n\u001b[1;32m---> 48\u001b[0m     out\u001b[38;5;241m=\u001b[39m posterior_mean_exp(betahat, sebetahat,\n\u001b[0;32m     49\u001b[0m                              log_pi\u001b[38;5;241m=\u001b[39mnp\u001b[38;5;241m.\u001b[39mlog(optimal_pi\u001b[38;5;241m+\u001b[39m\u001b[38;5;241m1e-32\u001b[39m), \n\u001b[0;32m     50\u001b[0m                              scale\u001b[38;5;241m=\u001b[39mscale)\n\u001b[0;32m     53\u001b[0m \u001b[38;5;28;01mreturn\u001b[39;00m ash_object(post_mean  \u001b[38;5;241m=\u001b[39m out\u001b[38;5;241m.\u001b[39mpost_mean,\n\u001b[0;32m     54\u001b[0m                   post_mean2 \u001b[38;5;241m=\u001b[39m out\u001b[38;5;241m.\u001b[39mpost_mean2,\n\u001b[0;32m     55\u001b[0m                   post_sd    \u001b[38;5;241m=\u001b[39m out\u001b[38;5;241m.\u001b[39mpost_sd,\n\u001b[0;32m     56\u001b[0m                   scale      \u001b[38;5;241m=\u001b[39m scale,\n\u001b[0;32m     57\u001b[0m                   pi         \u001b[38;5;241m=\u001b[39m optimal_pi,\n\u001b[0;32m     58\u001b[0m                   prior      \u001b[38;5;241m=\u001b[39m prior )\n",
      "File \u001b[1;32mc:\\Document\\Serieux\\Travail\\python_work\\cEBNM_torch\\py\\posterior_computation.py:23\u001b[0m, in \u001b[0;36mposterior_mean_exp\u001b[1;34m(betahat, sebetahat, log_pi, scale)\u001b[0m\n\u001b[0;32m     21\u001b[0m \u001b[38;5;28;01mdef\u001b[39;00m \u001b[38;5;21mposterior_mean_exp\u001b[39m(betahat, sebetahat, log_pi, scale):\n\u001b[0;32m     22\u001b[0m     assignment \u001b[38;5;241m=\u001b[39m np\u001b[38;5;241m.\u001b[39mexp(log_pi)\n\u001b[1;32m---> 23\u001b[0m     assignment \u001b[38;5;241m=\u001b[39m assignment \u001b[38;5;241m/\u001b[39m assignment\u001b[38;5;241m.\u001b[39msum(axis\u001b[38;5;241m=\u001b[39m\u001b[38;5;241m1\u001b[39m, keepdims\u001b[38;5;241m=\u001b[39m\u001b[38;5;28;01mTrue\u001b[39;00m)\n\u001b[0;32m     24\u001b[0m     mu \u001b[38;5;241m=\u001b[39m \u001b[38;5;241m0\u001b[39m\n\u001b[0;32m     25\u001b[0m     post_assign \u001b[38;5;241m=\u001b[39m np\u001b[38;5;241m.\u001b[39mzeros((betahat\u001b[38;5;241m.\u001b[39mshape[\u001b[38;5;241m0\u001b[39m], scale\u001b[38;5;241m.\u001b[39mshape[\u001b[38;5;241m0\u001b[39m]))\n",
      "File \u001b[1;32mc:\\Document\\Serieux\\Travail\\conda_env\\ml\\Lib\\site-packages\\numpy\\core\\_methods.py:49\u001b[0m, in \u001b[0;36m_sum\u001b[1;34m(a, axis, dtype, out, keepdims, initial, where)\u001b[0m\n\u001b[0;32m     47\u001b[0m \u001b[38;5;28;01mdef\u001b[39;00m \u001b[38;5;21m_sum\u001b[39m(a, axis\u001b[38;5;241m=\u001b[39m\u001b[38;5;28;01mNone\u001b[39;00m, dtype\u001b[38;5;241m=\u001b[39m\u001b[38;5;28;01mNone\u001b[39;00m, out\u001b[38;5;241m=\u001b[39m\u001b[38;5;28;01mNone\u001b[39;00m, keepdims\u001b[38;5;241m=\u001b[39m\u001b[38;5;28;01mFalse\u001b[39;00m,\n\u001b[0;32m     48\u001b[0m          initial\u001b[38;5;241m=\u001b[39m_NoValue, where\u001b[38;5;241m=\u001b[39m\u001b[38;5;28;01mTrue\u001b[39;00m):\n\u001b[1;32m---> 49\u001b[0m     \u001b[38;5;28;01mreturn\u001b[39;00m umr_sum(a, axis, dtype, out, keepdims, initial, where)\n",
      "\u001b[1;31mAxisError\u001b[0m: axis 1 is out of bounds for array of dimension 1"
     ]
    }
   ],
   "source": [
    "mycebmf.iter()\n"
   ]
  },
  {
   "cell_type": "code",
   "execution_count": 5,
   "metadata": {},
   "outputs": [
    {
     "name": "stdout",
     "output_type": "stream",
     "text": [
      "norm\n",
      "(50,)\n",
      "(50,)\n",
      "norm\n",
      "(50,)\n",
      "(50,)\n",
      "norm\n",
      "(50,)\n",
      "(50,)\n",
      "norm\n",
      "(50,)\n",
      "(50,)\n",
      "norm\n",
      "(50,)\n",
      "(50,)\n"
     ]
    }
   ],
   "source": [
    "mycebmf= cEBMF(data    = noisy_matrix )\n",
    "K=5\n",
    "# Perform udv_si transformation\n",
    "U, s, Vt = np.linalg.svd(noisy_matrix, full_matrices=False)\n",
    "\n",
    " \n",
    "mycebmf.init_LF()\n",
    "mycebmf.iter()"
   ]
  },
  {
   "cell_type": "code",
   "execution_count": null,
   "metadata": {},
   "outputs": [],
   "source": []
  },
  {
   "cell_type": "code",
   "execution_count": null,
   "metadata": {},
   "outputs": [],
   "source": []
  },
  {
   "cell_type": "code",
   "execution_count": null,
   "metadata": {},
   "outputs": [],
   "source": [
    "mycebmf.update_fitted_val()\n",
    "plt.scatter(mycebmf.Y_fit, noisy_matrix)\n",
    " \n",
    "plt.scatter(mycebmf.Y_fit, rank_1_matrix)\n",
    "plt.scatter(np.outer(mycebmf.L[:,0],mycebmf.F[:,0] ), rank_1_matrix)"
   ]
  },
  {
   "cell_type": "code",
   "execution_count": null,
   "metadata": {},
   "outputs": [],
   "source": []
  }
 ],
 "metadata": {
  "kernelspec": {
   "display_name": "ml",
   "language": "python",
   "name": "python3"
  },
  "language_info": {
   "codemirror_mode": {
    "name": "ipython",
    "version": 3
   },
   "file_extension": ".py",
   "mimetype": "text/x-python",
   "name": "python",
   "nbconvert_exporter": "python",
   "pygments_lexer": "ipython3",
   "version": "3.11.7"
  }
 },
 "nbformat": 4,
 "nbformat_minor": 2
}
