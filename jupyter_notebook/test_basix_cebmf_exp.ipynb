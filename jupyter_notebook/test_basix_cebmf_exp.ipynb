{
 "cells": [
  {
   "cell_type": "code",
   "execution_count": 1,
   "metadata": {},
   "outputs": [
    {
     "name": "stdout",
     "output_type": "stream",
     "text": [
      "Rank-1 Matrix (Outer Product):\n",
      "[[0.00727978 0.0087785  0.06034405 ... 0.01933419 0.00844284 0.00732589]\n",
      " [0.05191904 0.06260785 0.43037076 ... 0.13789049 0.06021391 0.05224789]\n",
      " [0.06588753 0.07945211 0.54615935 ... 0.17498908 0.07641409 0.06630486]\n",
      " ...\n",
      " [0.07926201 0.09558004 0.65702393 ... 0.21051001 0.09192534 0.07976404]\n",
      " [0.02091266 0.02521804 0.17335059 ... 0.05554141 0.02425378 0.02104511]\n",
      " [0.04568913 0.05509536 0.37872938 ... 0.12134463 0.05298868 0.04597852]]\n",
      "\n",
      "Noisy Matrix (with Homoscedastic Noise):\n",
      "[[ 0.07674138 -0.00682142 -0.02637531 ...  0.03430799 -0.06494178\n",
      "   0.00554142]\n",
      " [-0.14406739  0.28918851  0.53114981 ...  0.07608515 -0.01748259\n",
      "   0.1065369 ]\n",
      " [-0.00356162  0.03862637  0.63994627 ...  0.23895201  0.1374069\n",
      "   0.00692645]\n",
      " ...\n",
      " [ 0.19545184  0.24101889  0.6730079  ...  0.24169689  0.02873672\n",
      "   0.05332355]\n",
      " [-0.10525191 -0.03505321  0.00875721 ...  0.04276018  0.08158522\n",
      "   0.28464867]\n",
      " [ 0.00950724 -0.0157735   0.40642802 ...  0.22360776  0.17904054\n",
      "   0.18972828]]\n"
     ]
    }
   ],
   "source": [
    "import numpy as np\n",
    "\n",
    "# Parameters\n",
    "n, p = 50, 40  # Dimensions of the matrix\n",
    "noise_std = 0.1  # Standard deviation of the homoscedastic noise\n",
    "\n",
    "# Generate two random vectors\n",
    "u = np.random.rand(n)  # Vector of length n\n",
    "v = np.random.rand(p)  # Vector of length p\n",
    "\n",
    "# Create a rank-1 matrix as the outer product of u and v\n",
    "rank_1_matrix = np.outer(u, v)\n",
    "\n",
    "# Add homoscedastic Gaussian noise (constant variance across the matrix)\n",
    "noise = np.random.normal(0, noise_std, size=(n, p))\n",
    "noisy_matrix = rank_1_matrix + noise\n",
    "\n",
    "# Print the original and noisy matrix\n",
    "print(\"Rank-1 Matrix (Outer Product):\")\n",
    "print(rank_1_matrix)\n",
    "print(\"\\nNoisy Matrix (with Homoscedastic Noise):\")\n",
    "print(noisy_matrix)\n"
   ]
  },
  {
   "cell_type": "code",
   "execution_count": 2,
   "metadata": {},
   "outputs": [
    {
     "name": "stdout",
     "output_type": "stream",
     "text": [
      "[0.07266431 0.51823823 0.65766703 0.95049583 0.27305327 0.20925575\n",
      " 0.58219614 0.4427043  0.34595668 0.33154929 0.65545225 0.67533416\n",
      " 0.68778936 0.62766974 0.46281019 0.25794196 0.56475066 0.23464169\n",
      " 0.7256425  0.53685143 0.43660846 0.1087336  0.65619515 0.03449166\n",
      " 0.84720052 0.78640436 0.32319081 0.2649785  0.95720652 0.93853612\n",
      " 0.92198717 0.83567823 0.59607931 0.27832543 0.42177783 0.29453446\n",
      " 0.05482911 0.87496106 0.96534952 0.64797617 0.59781537 0.87319784\n",
      " 0.83750084 0.64762312 0.35372624 0.36662409 0.63681026 0.79116648\n",
      " 0.20874305 0.4560534 ]\n"
     ]
    }
   ],
   "source": [
    "print(u)"
   ]
  },
  {
   "cell_type": "code",
   "execution_count": 3,
   "metadata": {},
   "outputs": [],
   "source": [
    "import sys\n",
    "import os\n",
    "import matplotlib.pyplot as plt\n",
    "\n",
    "# Add the path to utils.py\n",
    "sys.path.append(r\"c:\\Document\\Serieux\\Travail\\python_work\\cEBNM_torch\\py\")\n",
    "from cEBMF import *"
   ]
  },
  {
   "cell_type": "code",
   "execution_count": 4,
   "metadata": {},
   "outputs": [],
   "source": [
    "mycebmf= cEBMF(data    = noisy_matrix,\n",
    "               prior_L = \"exp\",\n",
    "               prior_F = \"exp\")\n",
    "K=5\n",
    "# Perform udv_si transformation\n",
    "U, s, Vt = np.linalg.svd(noisy_matrix, full_matrices=False)\n",
    "\n",
    "\n",
    "mycebmf.init_LF()\n",
    " "
   ]
  },
  {
   "cell_type": "code",
   "execution_count": 5,
   "metadata": {},
   "outputs": [
    {
     "name": "stdout",
     "output_type": "stream",
     "text": [
      "exp\n",
      "(50,)\n",
      "(50,)\n",
      "[[nan nan nan nan nan nan nan nan nan nan nan nan]\n",
      " [nan nan nan nan nan nan nan nan nan nan nan nan]\n",
      " [nan nan nan nan nan nan nan nan nan nan nan nan]\n",
      " [nan nan nan nan nan nan nan nan nan nan nan nan]\n",
      " [nan nan nan nan nan nan nan nan nan nan nan nan]\n",
      " [nan nan nan nan nan nan nan nan nan nan nan nan]\n",
      " [nan nan nan nan nan nan nan nan nan nan nan nan]\n",
      " [nan nan nan nan nan nan nan nan nan nan nan nan]\n",
      " [nan nan nan nan nan nan nan nan nan nan nan nan]\n",
      " [nan nan nan nan nan nan nan nan nan nan nan nan]\n",
      " [nan nan nan nan nan nan nan nan nan nan nan nan]\n",
      " [nan nan nan nan nan nan nan nan nan nan nan nan]\n",
      " [nan nan nan nan nan nan nan nan nan nan nan nan]\n",
      " [nan nan nan nan nan nan nan nan nan nan nan nan]\n",
      " [nan nan nan nan nan nan nan nan nan nan nan nan]\n",
      " [nan nan nan nan nan nan nan nan nan nan nan nan]\n",
      " [nan nan nan nan nan nan nan nan nan nan nan nan]\n",
      " [nan nan nan nan nan nan nan nan nan nan nan nan]\n",
      " [nan nan nan nan nan nan nan nan nan nan nan nan]\n",
      " [nan nan nan nan nan nan nan nan nan nan nan nan]\n",
      " [nan nan nan nan nan nan nan nan nan nan nan nan]\n",
      " [nan nan nan nan nan nan nan nan nan nan nan nan]\n",
      " [nan nan nan nan nan nan nan nan nan nan nan nan]\n",
      " [nan nan nan nan nan nan nan nan nan nan nan nan]\n",
      " [nan nan nan nan nan nan nan nan nan nan nan nan]\n",
      " [nan nan nan nan nan nan nan nan nan nan nan nan]\n",
      " [nan nan nan nan nan nan nan nan nan nan nan nan]\n",
      " [nan nan nan nan nan nan nan nan nan nan nan nan]\n",
      " [nan nan nan nan nan nan nan nan nan nan nan nan]\n",
      " [nan nan nan nan nan nan nan nan nan nan nan nan]\n",
      " [nan nan nan nan nan nan nan nan nan nan nan nan]\n",
      " [nan nan nan nan nan nan nan nan nan nan nan nan]\n",
      " [nan nan nan nan nan nan nan nan nan nan nan nan]\n",
      " [nan nan nan nan nan nan nan nan nan nan nan nan]\n",
      " [nan nan nan nan nan nan nan nan nan nan nan nan]\n",
      " [nan nan nan nan nan nan nan nan nan nan nan nan]\n",
      " [nan nan nan nan nan nan nan nan nan nan nan nan]\n",
      " [nan nan nan nan nan nan nan nan nan nan nan nan]\n",
      " [nan nan nan nan nan nan nan nan nan nan nan nan]\n",
      " [nan nan nan nan nan nan nan nan nan nan nan nan]\n",
      " [nan nan nan nan nan nan nan nan nan nan nan nan]\n",
      " [nan nan nan nan nan nan nan nan nan nan nan nan]\n",
      " [nan nan nan nan nan nan nan nan nan nan nan nan]\n",
      " [nan nan nan nan nan nan nan nan nan nan nan nan]\n",
      " [nan nan nan nan nan nan nan nan nan nan nan nan]\n",
      " [nan nan nan nan nan nan nan nan nan nan nan nan]\n",
      " [nan nan nan nan nan nan nan nan nan nan nan nan]\n",
      " [nan nan nan nan nan nan nan nan nan nan nan nan]\n",
      " [nan nan nan nan nan nan nan nan nan nan nan nan]\n",
      " [nan nan nan nan nan nan nan nan nan nan nan nan]]\n",
      "(50, 12)\n",
      "[nan nan nan nan nan nan nan nan nan nan nan nan]\n",
      "[nan nan nan nan nan nan nan nan nan nan nan nan]\n",
      "[nan nan nan nan nan nan nan nan nan nan nan nan]\n",
      "[nan nan nan nan nan nan nan nan nan nan nan nan]\n",
      "[nan nan nan nan nan nan nan nan nan nan nan nan]\n",
      "[nan nan nan nan nan nan nan nan nan nan nan nan]\n",
      "[nan nan nan nan nan nan nan nan nan nan nan nan]\n",
      "[nan nan nan nan nan nan nan nan nan nan nan nan]\n",
      "[nan nan nan nan nan nan nan nan nan nan nan nan]\n",
      "[nan nan nan nan nan nan nan nan nan nan nan nan]\n",
      "[nan nan nan nan nan nan nan nan nan nan nan nan]\n",
      "[nan nan nan nan nan nan nan nan nan nan nan nan]\n",
      "[nan nan nan nan nan nan nan nan nan nan nan nan]\n",
      "[nan nan nan nan nan nan nan nan nan nan nan nan]\n",
      "[nan nan nan nan nan nan nan nan nan nan nan nan]\n",
      "[nan nan nan nan nan nan nan nan nan nan nan nan]\n",
      "[nan nan nan nan nan nan nan nan nan nan nan nan]\n",
      "[nan nan nan nan nan nan nan nan nan nan nan nan]\n",
      "[nan nan nan nan nan nan nan nan nan nan nan nan]\n",
      "[nan nan nan nan nan nan nan nan nan nan nan nan]\n",
      "[nan nan nan nan nan nan nan nan nan nan nan nan]\n",
      "[nan nan nan nan nan nan nan nan nan nan nan nan]\n",
      "[nan nan nan nan nan nan nan nan nan nan nan nan]\n",
      "[nan nan nan nan nan nan nan nan nan nan nan nan]\n",
      "[nan nan nan nan nan nan nan nan nan nan nan nan]\n",
      "[nan nan nan nan nan nan nan nan nan nan nan nan]\n",
      "[nan nan nan nan nan nan nan nan nan nan nan nan]\n",
      "[nan nan nan nan nan nan nan nan nan nan nan nan]\n",
      "[nan nan nan nan nan nan nan nan nan nan nan nan]\n",
      "[nan nan nan nan nan nan nan nan nan nan nan nan]\n",
      "[nan nan nan nan nan nan nan nan nan nan nan nan]\n",
      "[nan nan nan nan nan nan nan nan nan nan nan nan]\n",
      "[nan nan nan nan nan nan nan nan nan nan nan nan]\n",
      "[nan nan nan nan nan nan nan nan nan nan nan nan]\n",
      "[nan nan nan nan nan nan nan nan nan nan nan nan]\n",
      "[nan nan nan nan nan nan nan nan nan nan nan nan]\n",
      "[nan nan nan nan nan nan nan nan nan nan nan nan]\n",
      "[nan nan nan nan nan nan nan nan nan nan nan nan]\n",
      "[nan nan nan nan nan nan nan nan nan nan nan nan]\n",
      "[nan nan nan nan nan nan nan nan nan nan nan nan]\n",
      "[nan nan nan nan nan nan nan nan nan nan nan nan]\n",
      "[nan nan nan nan nan nan nan nan nan nan nan nan]\n",
      "[nan nan nan nan nan nan nan nan nan nan nan nan]\n",
      "[nan nan nan nan nan nan nan nan nan nan nan nan]\n",
      "[nan nan nan nan nan nan nan nan nan nan nan nan]\n",
      "[nan nan nan nan nan nan nan nan nan nan nan nan]\n",
      "[nan nan nan nan nan nan nan nan nan nan nan nan]\n",
      "[nan nan nan nan nan nan nan nan nan nan nan nan]\n",
      "[nan nan nan nan nan nan nan nan nan nan nan nan]\n",
      "[nan nan nan nan nan nan nan nan nan nan nan nan]\n"
     ]
    },
    {
     "name": "stderr",
     "output_type": "stream",
     "text": [
      "c:\\Document\\Serieux\\Travail\\python_work\\cEBNM_torch\\py\\numerical_routine.py:237: RuntimeWarning: invalid value encountered in divide\n",
      "  w = w / w.sum(axis=0, keepdims=True)  # Normalize by sum over k for each j\n",
      "c:\\Document\\Serieux\\Travail\\python_work\\cEBNM_torch\\py\\posterior_computation.py:85: RuntimeWarning: overflow encountered in exp\n",
      "  wpost = w* np.exp( log_prob) / (sum(w *np.exp(log_prob)))\n"
     ]
    },
    {
     "ename": "ValueError",
     "evalue": "cannot convert float NaN to integer",
     "output_type": "error",
     "traceback": [
      "\u001b[1;31m---------------------------------------------------------------------------\u001b[0m",
      "\u001b[1;31mValueError\u001b[0m                                Traceback (most recent call last)",
      "Cell \u001b[1;32mIn[5], line 1\u001b[0m\n\u001b[1;32m----> 1\u001b[0m mycebmf\u001b[38;5;241m.\u001b[39miter()\n",
      "File \u001b[1;32mc:\\Document\\Serieux\\Travail\\python_work\\cEBNM_torch\\py\\cEBMF.py:129\u001b[0m, in \u001b[0;36mcEBMF_object.iter\u001b[1;34m(self)\u001b[0m\n\u001b[0;32m    127\u001b[0m \u001b[38;5;28;01mdef\u001b[39;00m \u001b[38;5;21miter\u001b[39m (\u001b[38;5;28mself\u001b[39m):\n\u001b[0;32m    128\u001b[0m     \u001b[38;5;28;01mfor\u001b[39;00m k \u001b[38;5;129;01min\u001b[39;00m \u001b[38;5;28mrange\u001b[39m(\u001b[38;5;28mself\u001b[39m\u001b[38;5;241m.\u001b[39mK):\n\u001b[1;32m--> 129\u001b[0m         \u001b[38;5;28mself\u001b[39m\u001b[38;5;241m.\u001b[39mupdate_loading_factor_k(k\u001b[38;5;241m=\u001b[39mk)\n\u001b[0;32m    130\u001b[0m     \u001b[38;5;28mself\u001b[39m\u001b[38;5;241m.\u001b[39mupdate_tau()\n",
      "File \u001b[1;32mc:\\Document\\Serieux\\Travail\\python_work\\cEBNM_torch\\py\\cEBMF.py:119\u001b[0m, in \u001b[0;36mcEBMF_object.update_loading_factor_k\u001b[1;34m(self, k)\u001b[0m\n\u001b[0;32m    113\u001b[0m \u001b[38;5;28mself\u001b[39m\u001b[38;5;241m.\u001b[39mL2 [:,k] \u001b[38;5;241m=\u001b[39mash_obj\u001b[38;5;241m.\u001b[39mpost_mean2\n\u001b[0;32m    115\u001b[0m fhat , s_f  \u001b[38;5;241m=\u001b[39m compute_hat_f_and_s_f(Z \u001b[38;5;241m=\u001b[39m \u001b[38;5;28mself\u001b[39m\u001b[38;5;241m.\u001b[39mRk,\n\u001b[0;32m    116\u001b[0m                                                     nu \u001b[38;5;241m=\u001b[39m \u001b[38;5;28mself\u001b[39m\u001b[38;5;241m.\u001b[39mL[:,k] ,\n\u001b[0;32m    117\u001b[0m                                                     omega\u001b[38;5;241m=\u001b[39m \u001b[38;5;28mself\u001b[39m\u001b[38;5;241m.\u001b[39mL2[:,k], \n\u001b[0;32m    118\u001b[0m                                                     tau\u001b[38;5;241m=\u001b[39m \u001b[38;5;28mself\u001b[39m\u001b[38;5;241m.\u001b[39mtau  )\n\u001b[1;32m--> 119\u001b[0m ash_obj \u001b[38;5;241m=\u001b[39m ash(betahat   \u001b[38;5;241m=\u001b[39m fhat, \n\u001b[0;32m    120\u001b[0m               sebetahat \u001b[38;5;241m=\u001b[39m s_f ,\n\u001b[0;32m    121\u001b[0m               prior     \u001b[38;5;241m=\u001b[39m \u001b[38;5;28mself\u001b[39m\u001b[38;5;241m.\u001b[39mprior_F,\n\u001b[0;32m    122\u001b[0m               verbose\u001b[38;5;241m=\u001b[39m\u001b[38;5;28;01mFalse\u001b[39;00m\n\u001b[0;32m    123\u001b[0m               )\n\u001b[0;32m    124\u001b[0m \u001b[38;5;28mself\u001b[39m\u001b[38;5;241m.\u001b[39mF  [:,k] \u001b[38;5;241m=\u001b[39mash_obj\u001b[38;5;241m.\u001b[39mpost_mean\n\u001b[0;32m    125\u001b[0m \u001b[38;5;28mself\u001b[39m\u001b[38;5;241m.\u001b[39mF2 [:,k] \u001b[38;5;241m=\u001b[39mash_obj\u001b[38;5;241m.\u001b[39mpost_mean2\n",
      "File \u001b[1;32mc:\\Document\\Serieux\\Travail\\python_work\\cEBNM_torch\\py\\ash.py:39\u001b[0m, in \u001b[0;36mash\u001b[1;34m(betahat, sebetahat, prior, mult, penalty, verbose)\u001b[0m\n\u001b[0;32m     35\u001b[0m     out\u001b[38;5;241m=\u001b[39m posterior_mean_norm(betahat, sebetahat,\n\u001b[0;32m     36\u001b[0m                              log_pi\u001b[38;5;241m=\u001b[39mnp\u001b[38;5;241m.\u001b[39mlog(optimal_pi\u001b[38;5;241m+\u001b[39m\u001b[38;5;241m1e-32\u001b[39m), \n\u001b[0;32m     37\u001b[0m                              scale\u001b[38;5;241m=\u001b[39mscale)\n\u001b[0;32m     38\u001b[0m \u001b[38;5;28;01mif\u001b[39;00m prior\u001b[38;5;241m==\u001b[39m \u001b[38;5;124m\"\u001b[39m\u001b[38;5;124mexp\u001b[39m\u001b[38;5;124m\"\u001b[39m:\n\u001b[1;32m---> 39\u001b[0m     scale\u001b[38;5;241m=\u001b[39mautoselect_scales_mix_exp(betahat  \u001b[38;5;241m=\u001b[39m betahat,\n\u001b[0;32m     40\u001b[0m                                      sebetahat\u001b[38;5;241m=\u001b[39m sebetahat,\n\u001b[0;32m     41\u001b[0m                                       mult\u001b[38;5;241m=\u001b[39mmult)\n\u001b[0;32m     42\u001b[0m     L\u001b[38;5;241m=\u001b[39m get_data_loglik_exp(betahat\u001b[38;5;241m=\u001b[39mbetahat ,\n\u001b[0;32m     43\u001b[0m                              sebetahat\u001b[38;5;241m=\u001b[39msebetahat , \n\u001b[0;32m     44\u001b[0m                              scale\u001b[38;5;241m=\u001b[39mscale)\n\u001b[0;32m     45\u001b[0m     optimal_pi \u001b[38;5;241m=\u001b[39m optimize_pi( np\u001b[38;5;241m.\u001b[39mexp(L),\n\u001b[0;32m     46\u001b[0m                              penalty\u001b[38;5;241m=\u001b[39mpenalty,\n\u001b[0;32m     47\u001b[0m                              verbose\u001b[38;5;241m=\u001b[39mverbose)  \n",
      "File \u001b[1;32mc:\\Document\\Serieux\\Travail\\python_work\\cEBNM_torch\\py\\utils.py:40\u001b[0m, in \u001b[0;36mautoselect_scales_mix_exp\u001b[1;34m(betahat, sebetahat, max_class, mult, tt)\u001b[0m\n\u001b[0;32m     38\u001b[0m     out \u001b[38;5;241m=\u001b[39m np\u001b[38;5;241m.\u001b[39marray([\u001b[38;5;241m0\u001b[39m, sigmaamax \u001b[38;5;241m/\u001b[39m \u001b[38;5;241m2\u001b[39m])\n\u001b[0;32m     39\u001b[0m \u001b[38;5;28;01melse\u001b[39;00m:\n\u001b[1;32m---> 40\u001b[0m     npoint \u001b[38;5;241m=\u001b[39m math\u001b[38;5;241m.\u001b[39mceil(math\u001b[38;5;241m.\u001b[39mlog2(sigmaamax \u001b[38;5;241m/\u001b[39m sigmaamin) \u001b[38;5;241m/\u001b[39m math\u001b[38;5;241m.\u001b[39mlog2(mult))\n\u001b[0;32m     42\u001b[0m     \u001b[38;5;66;03m# Generate the sequence (-npoint):0 using np.arange\u001b[39;00m\n\u001b[0;32m     43\u001b[0m     sequence \u001b[38;5;241m=\u001b[39m np\u001b[38;5;241m.\u001b[39marange(\u001b[38;5;241m-\u001b[39mnpoint, \u001b[38;5;241m1\u001b[39m)\n",
      "\u001b[1;31mValueError\u001b[0m: cannot convert float NaN to integer"
     ]
    }
   ],
   "source": [
    "mycebmf.iter()\n"
   ]
  },
  {
   "cell_type": "code",
   "execution_count": 5,
   "metadata": {},
   "outputs": [
    {
     "name": "stdout",
     "output_type": "stream",
     "text": [
      "norm\n",
      "(50,)\n",
      "(50,)\n",
      "(50, 12)\n",
      "(40, 12)\n",
      "norm\n",
      "(50,)\n",
      "(50,)\n",
      "(50, 9)\n",
      "(40, 9)\n",
      "norm\n",
      "(50,)\n",
      "(50,)\n",
      "(50, 9)\n",
      "(40, 9)\n",
      "norm\n",
      "(50,)\n",
      "(50,)\n",
      "(50, 9)\n",
      "(40, 9)\n",
      "norm\n",
      "(50,)\n",
      "(50,)\n",
      "(50, 9)\n",
      "(40, 9)\n"
     ]
    }
   ],
   "source": [
    "mycebmf= cEBMF(data    = noisy_matrix )\n",
    "K=5\n",
    "# Perform udv_si transformation\n",
    "U, s, Vt = np.linalg.svd(noisy_matrix, full_matrices=False)\n",
    "\n",
    " \n",
    "mycebmf.init_LF()\n",
    "mycebmf.iter()"
   ]
  },
  {
   "cell_type": "code",
   "execution_count": null,
   "metadata": {},
   "outputs": [],
   "source": []
  },
  {
   "cell_type": "code",
   "execution_count": null,
   "metadata": {},
   "outputs": [],
   "source": []
  },
  {
   "cell_type": "code",
   "execution_count": 6,
   "metadata": {},
   "outputs": [
    {
     "data": {
      "text/plain": [
       "<matplotlib.collections.PathCollection at 0x1a8c84d4410>"
      ]
     },
     "execution_count": 6,
     "metadata": {},
     "output_type": "execute_result"
    },
    {
     "data": {
      "image/png": "[encoded data removed]",
      "text/plain": [
       "<Figure size 640x480 with 1 Axes>"
      ]
     },
     "metadata": {},
     "output_type": "display_data"
    }
   ],
   "source": [
    "mycebmf.update_fitted_val()\n",
    "plt.scatter(mycebmf.Y_fit, noisy_matrix)\n",
    " \n",
    "plt.scatter(mycebmf.Y_fit, rank_1_matrix)\n",
    "plt.scatter(np.outer(mycebmf.L[:,0],mycebmf.F[:,0] ), rank_1_matrix)"
   ]
  },
  {
   "cell_type": "code",
   "execution_count": null,
   "metadata": {},
   "outputs": [],
   "source": []
  }
 ],
 "metadata": {
  "kernelspec": {
   "display_name": "ml",
   "language": "python",
   "name": "python3"
  },
  "language_info": {
   "codemirror_mode": {
    "name": "ipython",
    "version": 3
   },
   "file_extension": ".py",
   "mimetype": "text/x-python",
   "name": "python",
   "nbconvert_exporter": "python",
   "pygments_lexer": "ipython3",
   "version": "3.11.7"
  }
 },
 "nbformat": 4,
 "nbformat_minor": 2
}
