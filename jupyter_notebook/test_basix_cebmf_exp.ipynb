{
 "cells": [
  {
   "cell_type": "code",
   "execution_count": 1,
   "metadata": {},
   "outputs": [
    {
     "name": "stdout",
     "output_type": "stream",
     "text": [
      "Rank-1 Matrix (Outer Product):\n",
      "[[0.12756719 0.16122258 0.27167016 ... 0.25765262 0.27777605 0.10367959]\n",
      " [0.07033983 0.08889723 0.1497974  ... 0.14206821 0.15316416 0.05716834]\n",
      " [0.07965541 0.10067049 0.16963609 ... 0.16088327 0.17344873 0.06473954]\n",
      " ...\n",
      " [0.08923033 0.11277151 0.19002706 ... 0.18022211 0.19429799 0.0725215 ]\n",
      " [0.18105324 0.22881959 0.38557535 ... 0.36568057 0.3942413  0.14715011]\n",
      " [0.07098205 0.08970888 0.15116509 ... 0.14336533 0.15456258 0.0576903 ]]\n",
      "\n",
      "Noisy Matrix (with Homoscedastic Noise):\n",
      "[[ 2.42164943e-01  3.57547557e-01  3.54129263e-01 ...  2.40887793e-01\n",
      "   3.59386747e-01 -9.66780851e-02]\n",
      " [ 1.25412626e-01 -7.53502424e-02  8.63473255e-02 ...  6.83714281e-02\n",
      "  -8.76865454e-02  1.07322689e-01]\n",
      " [ 4.58621220e-02  2.47533055e-01  8.36795912e-02 ...  1.45859974e-01\n",
      "   3.05602172e-01  5.84920367e-02]\n",
      " ...\n",
      " [ 1.49828497e-01 -6.26148545e-03  1.90638521e-01 ...  1.46693043e-01\n",
      "  -3.63391943e-04 -7.56355150e-02]\n",
      " [ 1.29890917e-01  1.52946658e-01  3.57213228e-01 ...  3.81732783e-01\n",
      "   2.19951160e-01  6.57391462e-02]\n",
      " [ 1.93653774e-01  3.47081234e-02  2.23449666e-01 ...  1.07629110e-01\n",
      "   3.05818472e-01  1.00164288e-01]]\n"
     ]
    }
   ],
   "source": [
    "import numpy as np\n",
    "\n",
    "# Parameters\n",
    "n, p = 50, 40  # Dimensions of the matrix\n",
    "noise_std = 0.1  # Standard deviation of the homoscedastic noise\n",
    "\n",
    "# Generate two random vectors\n",
    "u = np.random.rand(n)  # Vector of length n\n",
    "v = np.random.rand(p)  # Vector of length p\n",
    "\n",
    "# Create a rank-1 matrix as the outer product of u and v\n",
    "rank_1_matrix = np.outer(u, v)\n",
    "\n",
    "# Add homoscedastic Gaussian noise (constant variance across the matrix)\n",
    "noise = np.random.normal(0, noise_std, size=(n, p))\n",
    "noisy_matrix = rank_1_matrix + noise\n",
    "\n",
    "# Print the original and noisy matrix\n",
    "print(\"Rank-1 Matrix (Outer Product):\")\n",
    "print(rank_1_matrix)\n",
    "print(\"\\nNoisy Matrix (with Homoscedastic Noise):\")\n",
    "print(noisy_matrix)\n"
   ]
  },
  {
   "cell_type": "code",
   "execution_count": 2,
   "metadata": {},
   "outputs": [
    {
     "name": "stdout",
     "output_type": "stream",
     "text": [
      "[0.46325401 0.25543567 0.28926475 0.02295788 0.65321505 0.06403166\n",
      " 0.60721385 0.8504657  0.47687444 0.98344822 0.88907968 0.61135761\n",
      " 0.21558328 0.00292521 0.6445888  0.76022865 0.12876975 0.6075725\n",
      " 0.5738352  0.57753324 0.26687616 0.80305299 0.81029367 0.34969266\n",
      " 0.05662601 0.94000961 0.79725724 0.88686866 0.14705674 0.74756952\n",
      " 0.07748869 0.86764107 0.5536866  0.85640528 0.15802391 0.78778197\n",
      " 0.0536842  0.26034035 0.29235564 0.11630309 0.12783705 0.06990138\n",
      " 0.56152095 0.49051701 0.76125286 0.62726177 0.74625073 0.32403558\n",
      " 0.657486   0.25776785]\n"
     ]
    }
   ],
   "source": [
    "print(u)"
   ]
  },
  {
   "cell_type": "code",
   "execution_count": 3,
   "metadata": {},
   "outputs": [],
   "source": [
    "import sys\n",
    "import os\n",
    "import matplotlib.pyplot as plt\n",
    "\n",
    "# Add the path to utils.py\n",
    "sys.path.append(r\"c:\\Document\\Serieux\\Travail\\python_work\\cEBNM_torch\\py\")\n",
    "from cEBMF import *"
   ]
  },
  {
   "cell_type": "code",
   "execution_count": 4,
   "metadata": {},
   "outputs": [
    {
     "name": "stdout",
     "output_type": "stream",
     "text": [
      "The array does not contain any missing values.\n"
     ]
    },
    {
     "data": {
      "text/plain": [
       "array([[-1.73492355e+00, -2.05231138e-01,  2.17384270e-01,\n",
       "         3.05935201e-01,  5.85312057e-02],\n",
       "       [-7.68959630e-01, -1.64087192e-01, -7.55653868e-02,\n",
       "        -1.89747202e-01, -1.84404189e-01],\n",
       "       [-1.11323356e+00, -5.21589766e-02, -4.01068276e-02,\n",
       "        -6.82926119e-03,  1.91591845e-01],\n",
       "       [-4.21047969e-02, -7.02913188e-02, -2.49212380e-01,\n",
       "        -8.17891746e-02, -6.34662347e-02],\n",
       "       [-2.53708729e+00,  2.01420714e-01,  1.17607164e-01,\n",
       "         1.76276464e-01, -1.76600385e-01],\n",
       "       [-1.01104296e-01, -1.79790056e-01, -2.30967814e-01,\n",
       "         8.52623839e-02,  1.23177057e-01],\n",
       "       [-2.12864134e+00,  3.87609491e-01, -5.85824790e-05,\n",
       "         2.90843310e-01, -7.20624792e-02],\n",
       "       [-2.99212080e+00,  7.71138547e-02, -9.19361091e-02,\n",
       "         1.27721713e-01,  1.20449267e-01],\n",
       "       [-1.53539650e+00, -8.07214462e-02, -2.96572391e-02,\n",
       "         3.73946134e-02, -1.69312256e-01],\n",
       "       [-3.44876898e+00,  3.10591794e-02,  9.11988607e-02,\n",
       "        -1.46797160e-01,  1.19684762e-01],\n",
       "       [-3.21605704e+00,  7.90928864e-02,  1.01817511e-01,\n",
       "         1.17014885e-01, -1.24986329e-01],\n",
       "       [-1.97400530e+00, -2.85985331e-01, -2.61712314e-03,\n",
       "         8.64381268e-02, -1.17664670e-01],\n",
       "       [-6.55811728e-01, -2.53929361e-01, -8.82784800e-02,\n",
       "         6.09169346e-02, -7.72474545e-02],\n",
       "       [ 2.03999208e-02,  1.79173175e-01, -5.15271544e-02,\n",
       "         6.78254107e-02, -7.20632209e-02],\n",
       "       [-2.21928048e+00, -8.52074432e-03, -2.88528061e-01,\n",
       "         7.12346673e-03,  6.55480456e-02],\n",
       "       [-2.55270385e+00,  8.52480156e-02, -3.34472106e-02,\n",
       "        -8.61818847e-03, -9.09916507e-02],\n",
       "       [-6.07486729e-01, -2.51103886e-02,  1.55925823e-01,\n",
       "         9.20176992e-02, -1.81321845e-01],\n",
       "       [-2.19884859e+00,  7.21060261e-02,  1.52250544e-01,\n",
       "         1.76071415e-01, -3.39770670e-02],\n",
       "       [-2.08744607e+00, -2.66747697e-01, -2.29232620e-01,\n",
       "         8.26235425e-02,  1.68331117e-01],\n",
       "       [-2.10206309e+00,  5.00209846e-02,  3.15947203e-02,\n",
       "        -5.05054734e-02, -3.46793156e-02],\n",
       "       [-8.71282075e-01,  1.05846261e-01,  1.64958299e-01,\n",
       "        -1.31263106e-01,  1.03334789e-01],\n",
       "       [-2.86045291e+00, -2.41092379e-02, -3.35660482e-01,\n",
       "         7.67749536e-02, -5.44230503e-02],\n",
       "       [-2.85459971e+00, -3.55419324e-02,  1.62812688e-02,\n",
       "        -1.44686177e-01, -4.85827744e-01],\n",
       "       [-1.22341856e+00, -3.73019581e-02,  1.56055422e-01,\n",
       "        -2.87933134e-01,  2.09301371e-01],\n",
       "       [-1.77734727e-01,  9.79504772e-02,  5.45157770e-02,\n",
       "         2.42788481e-01,  1.20946537e-02],\n",
       "       [-3.41387593e+00,  1.61540511e-01,  3.08051525e-01,\n",
       "        -1.41329302e-03,  2.76143902e-01],\n",
       "       [-2.86907896e+00, -1.85400423e-01,  3.10471049e-01,\n",
       "        -1.37481518e-01,  3.51660989e-02],\n",
       "       [-3.13898205e+00, -7.86968139e-02,  1.65116898e-02,\n",
       "        -3.22507928e-01,  1.45271785e-01],\n",
       "       [-5.98883967e-01, -4.99828996e-02,  3.21212109e-01,\n",
       "        -2.17431659e-01, -5.55667312e-02],\n",
       "       [-2.75364093e+00,  4.30553925e-01,  2.50684631e-02,\n",
       "         1.12541950e-01,  1.10734586e-01],\n",
       "       [-2.09139741e-01, -4.34329105e-01,  1.83202744e-01,\n",
       "         2.68835190e-01, -2.29296118e-02],\n",
       "       [-3.08549681e+00, -2.83883578e-01, -1.24527389e-01,\n",
       "        -3.91369827e-02,  9.16902496e-02],\n",
       "       [-2.10424128e+00,  2.45601766e-01, -3.37800308e-01,\n",
       "        -4.15513900e-02,  1.27286846e-01],\n",
       "       [-3.14086587e+00,  1.41547375e-01,  8.33965925e-02,\n",
       "         4.98853306e-02,  1.59564375e-01],\n",
       "       [-6.10114794e-01,  2.22887287e-01, -1.13394464e-01,\n",
       "        -6.16137877e-02, -5.91850054e-02],\n",
       "       [-2.91771153e+00, -1.26822671e-01,  1.74329069e-01,\n",
       "        -1.59535473e-03,  2.09753519e-01],\n",
       "       [-2.15635577e-01,  1.08197792e-01, -9.34121984e-02,\n",
       "        -3.68244944e-01,  1.13807010e-01],\n",
       "       [-1.17048779e+00,  1.37248394e-01, -3.61561036e-01,\n",
       "        -3.02392923e-01,  6.75157547e-02],\n",
       "       [-1.07647399e+00,  7.79310130e-02, -1.25434230e-01,\n",
       "        -1.05430557e-01, -1.15349562e-01],\n",
       "       [-4.05922337e-01, -2.31885002e-02, -1.41704958e-02,\n",
       "        -1.32184773e-02,  1.54286537e-01],\n",
       "       [-5.26639771e-01,  2.39435896e-01,  2.26299623e-01,\n",
       "         7.95933577e-02, -2.12294821e-01],\n",
       "       [-2.75812150e-01, -1.58452995e-01,  4.31718302e-02,\n",
       "         2.66370319e-02,  8.08910119e-02],\n",
       "       [-2.08442009e+00, -2.19959749e-01,  1.10370254e-01,\n",
       "        -3.54092659e-01, -3.13165734e-01],\n",
       "       [-1.69789992e+00, -2.08692169e-02,  1.75276050e-01,\n",
       "        -1.59789115e-01,  5.53183817e-02],\n",
       "       [-2.79539722e+00, -3.78103484e-02, -1.33818663e-01,\n",
       "         1.99545953e-01,  1.24776461e-01],\n",
       "       [-2.27398414e+00, -2.67323371e-02, -2.79253476e-01,\n",
       "         8.92281548e-02, -1.55719790e-01],\n",
       "       [-2.54337250e+00, -2.29642549e-01, -4.56611194e-02,\n",
       "        -1.55889094e-03, -1.95299393e-02],\n",
       "       [-1.30284214e+00,  2.09099910e-01,  2.72064635e-02,\n",
       "        -1.41621859e-01, -3.43299748e-01],\n",
       "       [-2.26156136e+00, -5.59162401e-02, -1.26032893e-01,\n",
       "         4.28402724e-02, -1.93543166e-01],\n",
       "       [-1.04744782e+00, -2.13115125e-01, -1.15169217e-01,\n",
       "         2.47070159e-01, -6.84670955e-02]])"
      ]
     },
     "execution_count": 4,
     "metadata": {},
     "output_type": "execute_result"
    }
   ],
   "source": [
    "mycebmf= cEBMF(data    = noisy_matrix,\n",
    "               prior_L = \"exp\",\n",
    "               prior_F = \"exp\")\n",
    "K=5\n",
    "# Perform udv_si transformation\n",
    "U, s, Vt = np.linalg.svd(noisy_matrix, full_matrices=False)\n",
    "\n",
    "U, s, Vt = np.linalg.svd(mycebmf.data, full_matrices=False)\n",
    "mycebmf.init_LF()\n",
    "U\n",
    "mycebmf.L\n",
    " "
   ]
  },
  {
   "cell_type": "code",
   "execution_count": null,
   "metadata": {},
   "outputs": [],
   "source": []
  },
  {
   "cell_type": "code",
   "execution_count": 5,
   "metadata": {},
   "outputs": [
    {
     "name": "stdout",
     "output_type": "stream",
     "text": [
      "[[nan nan nan nan nan nan nan nan nan nan nan nan]\n",
      " [nan nan nan nan nan nan nan nan nan nan nan nan]\n",
      " [nan nan nan nan nan nan nan nan nan nan nan nan]\n",
      " [nan nan nan nan nan nan nan nan nan nan nan nan]\n",
      " [nan nan nan nan nan nan nan nan nan nan nan nan]\n",
      " [nan nan nan nan nan nan nan nan nan nan nan nan]\n",
      " [nan nan nan nan nan nan nan nan nan nan nan nan]\n",
      " [nan nan nan nan nan nan nan nan nan nan nan nan]\n",
      " [nan nan nan nan nan nan nan nan nan nan nan nan]\n",
      " [nan nan nan nan nan nan nan nan nan nan nan nan]\n",
      " [nan nan nan nan nan nan nan nan nan nan nan nan]\n",
      " [nan nan nan nan nan nan nan nan nan nan nan nan]\n",
      " [nan nan nan nan nan nan nan nan nan nan nan nan]\n",
      " [nan nan nan nan nan nan nan nan nan nan nan nan]\n",
      " [nan nan nan nan nan nan nan nan nan nan nan nan]\n",
      " [nan nan nan nan nan nan nan nan nan nan nan nan]\n",
      " [nan nan nan nan nan nan nan nan nan nan nan nan]\n",
      " [nan nan nan nan nan nan nan nan nan nan nan nan]\n",
      " [nan nan nan nan nan nan nan nan nan nan nan nan]\n",
      " [nan nan nan nan nan nan nan nan nan nan nan nan]\n",
      " [nan nan nan nan nan nan nan nan nan nan nan nan]\n",
      " [nan nan nan nan nan nan nan nan nan nan nan nan]\n",
      " [nan nan nan nan nan nan nan nan nan nan nan nan]\n",
      " [nan nan nan nan nan nan nan nan nan nan nan nan]\n",
      " [nan nan nan nan nan nan nan nan nan nan nan nan]\n",
      " [nan nan nan nan nan nan nan nan nan nan nan nan]\n",
      " [nan nan nan nan nan nan nan nan nan nan nan nan]\n",
      " [nan nan nan nan nan nan nan nan nan nan nan nan]\n",
      " [nan nan nan nan nan nan nan nan nan nan nan nan]\n",
      " [nan nan nan nan nan nan nan nan nan nan nan nan]\n",
      " [nan nan nan nan nan nan nan nan nan nan nan nan]\n",
      " [nan nan nan nan nan nan nan nan nan nan nan nan]\n",
      " [nan nan nan nan nan nan nan nan nan nan nan nan]\n",
      " [nan nan nan nan nan nan nan nan nan nan nan nan]\n",
      " [nan nan nan nan nan nan nan nan nan nan nan nan]\n",
      " [nan nan nan nan nan nan nan nan nan nan nan nan]\n",
      " [nan nan nan nan nan nan nan nan nan nan nan nan]\n",
      " [nan nan nan nan nan nan nan nan nan nan nan nan]\n",
      " [nan nan nan nan nan nan nan nan nan nan nan nan]\n",
      " [nan nan nan nan nan nan nan nan nan nan nan nan]\n",
      " [nan nan nan nan nan nan nan nan nan nan nan nan]\n",
      " [nan nan nan nan nan nan nan nan nan nan nan nan]\n",
      " [nan nan nan nan nan nan nan nan nan nan nan nan]\n",
      " [nan nan nan nan nan nan nan nan nan nan nan nan]\n",
      " [nan nan nan nan nan nan nan nan nan nan nan nan]\n",
      " [nan nan nan nan nan nan nan nan nan nan nan nan]\n",
      " [nan nan nan nan nan nan nan nan nan nan nan nan]\n",
      " [nan nan nan nan nan nan nan nan nan nan nan nan]\n",
      " [nan nan nan nan nan nan nan nan nan nan nan nan]\n",
      " [nan nan nan nan nan nan nan nan nan nan nan nan]]\n",
      "(50, 12)\n",
      "[nan nan nan nan nan nan nan nan nan nan nan nan]\n",
      "[nan nan nan nan nan nan nan nan nan nan nan nan]\n",
      "[nan nan nan nan nan nan nan nan nan nan nan nan]\n",
      "[nan nan nan nan nan nan nan nan nan nan nan nan]\n",
      "[nan nan nan nan nan nan nan nan nan nan nan nan]\n",
      "[nan nan nan nan nan nan nan nan nan nan nan nan]\n",
      "[nan nan nan nan nan nan nan nan nan nan nan nan]\n",
      "[nan nan nan nan nan nan nan nan nan nan nan nan]\n",
      "[nan nan nan nan nan nan nan nan nan nan nan nan]\n",
      "[nan nan nan nan nan nan nan nan nan nan nan nan]\n",
      "[nan nan nan nan nan nan nan nan nan nan nan nan]\n",
      "[nan nan nan nan nan nan nan nan nan nan nan nan]\n",
      "[nan nan nan nan nan nan nan nan nan nan nan nan]\n",
      "[nan nan nan nan nan nan nan nan nan nan nan nan]\n",
      "[nan nan nan nan nan nan nan nan nan nan nan nan]\n",
      "[nan nan nan nan nan nan nan nan nan nan nan nan]\n",
      "[nan nan nan nan nan nan nan nan nan nan nan nan]\n",
      "[nan nan nan nan nan nan nan nan nan nan nan nan]\n",
      "[nan nan nan nan nan nan nan nan nan nan nan nan]\n",
      "[nan nan nan nan nan nan nan nan nan nan nan nan]\n",
      "[nan nan nan nan nan nan nan nan nan nan nan nan]\n",
      "[nan nan nan nan nan nan nan nan nan nan nan nan]\n",
      "[nan nan nan nan nan nan nan nan nan nan nan nan]\n",
      "[nan nan nan nan nan nan nan nan nan nan nan nan]\n",
      "[nan nan nan nan nan nan nan nan nan nan nan nan]\n",
      "[nan nan nan nan nan nan nan nan nan nan nan nan]\n",
      "[nan nan nan nan nan nan nan nan nan nan nan nan]\n",
      "[nan nan nan nan nan nan nan nan nan nan nan nan]\n",
      "[nan nan nan nan nan nan nan nan nan nan nan nan]\n",
      "[nan nan nan nan nan nan nan nan nan nan nan nan]\n",
      "[nan nan nan nan nan nan nan nan nan nan nan nan]\n",
      "[nan nan nan nan nan nan nan nan nan nan nan nan]\n",
      "[nan nan nan nan nan nan nan nan nan nan nan nan]\n",
      "[nan nan nan nan nan nan nan nan nan nan nan nan]\n",
      "[nan nan nan nan nan nan nan nan nan nan nan nan]\n",
      "[nan nan nan nan nan nan nan nan nan nan nan nan]\n",
      "[nan nan nan nan nan nan nan nan nan nan nan nan]\n",
      "[nan nan nan nan nan nan nan nan nan nan nan nan]\n",
      "[nan nan nan nan nan nan nan nan nan nan nan nan]\n",
      "[nan nan nan nan nan nan nan nan nan nan nan nan]\n",
      "[nan nan nan nan nan nan nan nan nan nan nan nan]\n",
      "[nan nan nan nan nan nan nan nan nan nan nan nan]\n",
      "[nan nan nan nan nan nan nan nan nan nan nan nan]\n",
      "[nan nan nan nan nan nan nan nan nan nan nan nan]\n",
      "[nan nan nan nan nan nan nan nan nan nan nan nan]\n",
      "[nan nan nan nan nan nan nan nan nan nan nan nan]\n",
      "[nan nan nan nan nan nan nan nan nan nan nan nan]\n",
      "[nan nan nan nan nan nan nan nan nan nan nan nan]\n",
      "[nan nan nan nan nan nan nan nan nan nan nan nan]\n",
      "[nan nan nan nan nan nan nan nan nan nan nan nan]\n"
     ]
    },
    {
     "name": "stderr",
     "output_type": "stream",
     "text": [
      "c:\\Document\\Serieux\\Travail\\python_work\\cEBNM_torch\\py\\numerical_routine.py:237: RuntimeWarning: invalid value encountered in divide\n",
      "  w = w / w.sum(axis=0, keepdims=True)  # Normalize by sum over k for each j\n",
      "c:\\Document\\Serieux\\Travail\\python_work\\cEBNM_torch\\py\\posterior_computation.py:85: RuntimeWarning: overflow encountered in exp\n",
      "  wpost = w* np.exp( log_prob) / (sum(w *np.exp(log_prob)))\n"
     ]
    },
    {
     "ename": "ValueError",
     "evalue": "cannot convert float NaN to integer",
     "output_type": "error",
     "traceback": [
      "\u001b[1;31m---------------------------------------------------------------------------\u001b[0m",
      "\u001b[1;31mValueError\u001b[0m                                Traceback (most recent call last)",
      "Cell \u001b[1;32mIn[5], line 1\u001b[0m\n\u001b[1;32m----> 1\u001b[0m mycebmf\u001b[38;5;241m.\u001b[39miter()\n",
      "File \u001b[1;32mc:\\Document\\Serieux\\Travail\\python_work\\cEBNM_torch\\py\\cEBMF.py:144\u001b[0m, in \u001b[0;36mcEBMF_object.iter\u001b[1;34m(self)\u001b[0m\n\u001b[0;32m    142\u001b[0m \u001b[38;5;28;01mdef\u001b[39;00m \u001b[38;5;21miter\u001b[39m (\u001b[38;5;28mself\u001b[39m):\n\u001b[0;32m    143\u001b[0m     \u001b[38;5;28;01mfor\u001b[39;00m k \u001b[38;5;129;01min\u001b[39;00m \u001b[38;5;28mrange\u001b[39m(\u001b[38;5;28mself\u001b[39m\u001b[38;5;241m.\u001b[39mK):\n\u001b[1;32m--> 144\u001b[0m         \u001b[38;5;28mself\u001b[39m\u001b[38;5;241m.\u001b[39mupdate_loading_factor_k(k\u001b[38;5;241m=\u001b[39mk)\n\u001b[0;32m    145\u001b[0m     \u001b[38;5;28mself\u001b[39m\u001b[38;5;241m.\u001b[39mupdate_tau()\n",
      "File \u001b[1;32mc:\\Document\\Serieux\\Travail\\python_work\\cEBNM_torch\\py\\cEBMF.py:134\u001b[0m, in \u001b[0;36mcEBMF_object.update_loading_factor_k\u001b[1;34m(self, k)\u001b[0m\n\u001b[0;32m    127\u001b[0m \u001b[38;5;28mself\u001b[39m\u001b[38;5;241m.\u001b[39mL2 [:,k] \u001b[38;5;241m=\u001b[39mash_obj\u001b[38;5;241m.\u001b[39mpost_mean2\n\u001b[0;32m    129\u001b[0m fhat , s_f  \u001b[38;5;241m=\u001b[39m compute_hat_f_and_s_f(Z \u001b[38;5;241m=\u001b[39m \u001b[38;5;28mself\u001b[39m\u001b[38;5;241m.\u001b[39mRk,\n\u001b[0;32m    130\u001b[0m                                                     nu \u001b[38;5;241m=\u001b[39m \u001b[38;5;28mself\u001b[39m\u001b[38;5;241m.\u001b[39mL[:,k] ,\n\u001b[0;32m    131\u001b[0m                                                     omega\u001b[38;5;241m=\u001b[39m \u001b[38;5;28mself\u001b[39m\u001b[38;5;241m.\u001b[39mL2[:,k], \n\u001b[0;32m    132\u001b[0m                                                     tau\u001b[38;5;241m=\u001b[39m \u001b[38;5;28mself\u001b[39m\u001b[38;5;241m.\u001b[39mtau  ,\n\u001b[0;32m    133\u001b[0m                                                     has_nan\u001b[38;5;241m=\u001b[39m\u001b[38;5;28mself\u001b[39m\u001b[38;5;241m.\u001b[39mhas_nan)\n\u001b[1;32m--> 134\u001b[0m ash_obj \u001b[38;5;241m=\u001b[39m ash(betahat   \u001b[38;5;241m=\u001b[39m fhat, \n\u001b[0;32m    135\u001b[0m               sebetahat \u001b[38;5;241m=\u001b[39m s_f ,\n\u001b[0;32m    136\u001b[0m               prior     \u001b[38;5;241m=\u001b[39m \u001b[38;5;28mself\u001b[39m\u001b[38;5;241m.\u001b[39mprior_F,\n\u001b[0;32m    137\u001b[0m               verbose\u001b[38;5;241m=\u001b[39m\u001b[38;5;28;01mFalse\u001b[39;00m\n\u001b[0;32m    138\u001b[0m               )\n\u001b[0;32m    139\u001b[0m \u001b[38;5;28mself\u001b[39m\u001b[38;5;241m.\u001b[39mF  [:,k] \u001b[38;5;241m=\u001b[39mash_obj\u001b[38;5;241m.\u001b[39mpost_mean\n\u001b[0;32m    140\u001b[0m \u001b[38;5;28mself\u001b[39m\u001b[38;5;241m.\u001b[39mF2 [:,k] \u001b[38;5;241m=\u001b[39mash_obj\u001b[38;5;241m.\u001b[39mpost_mean2\n",
      "File \u001b[1;32mc:\\Document\\Serieux\\Travail\\python_work\\cEBNM_torch\\py\\ash.py:39\u001b[0m, in \u001b[0;36mash\u001b[1;34m(betahat, sebetahat, prior, mult, penalty, verbose)\u001b[0m\n\u001b[0;32m     35\u001b[0m     out\u001b[38;5;241m=\u001b[39m posterior_mean_norm(betahat, sebetahat,\n\u001b[0;32m     36\u001b[0m                              log_pi\u001b[38;5;241m=\u001b[39mnp\u001b[38;5;241m.\u001b[39mlog(optimal_pi\u001b[38;5;241m+\u001b[39m\u001b[38;5;241m1e-32\u001b[39m), \n\u001b[0;32m     37\u001b[0m                              scale\u001b[38;5;241m=\u001b[39mscale)\n\u001b[0;32m     38\u001b[0m \u001b[38;5;28;01mif\u001b[39;00m prior\u001b[38;5;241m==\u001b[39m \u001b[38;5;124m\"\u001b[39m\u001b[38;5;124mexp\u001b[39m\u001b[38;5;124m\"\u001b[39m:\n\u001b[1;32m---> 39\u001b[0m     scale\u001b[38;5;241m=\u001b[39mautoselect_scales_mix_exp(betahat  \u001b[38;5;241m=\u001b[39m betahat,\n\u001b[0;32m     40\u001b[0m                                      sebetahat\u001b[38;5;241m=\u001b[39m sebetahat,\n\u001b[0;32m     41\u001b[0m                                       mult\u001b[38;5;241m=\u001b[39mmult)\n\u001b[0;32m     42\u001b[0m     L\u001b[38;5;241m=\u001b[39m get_data_loglik_exp(betahat\u001b[38;5;241m=\u001b[39mbetahat ,\n\u001b[0;32m     43\u001b[0m                              sebetahat\u001b[38;5;241m=\u001b[39msebetahat , \n\u001b[0;32m     44\u001b[0m                              scale\u001b[38;5;241m=\u001b[39mscale)\n\u001b[0;32m     45\u001b[0m     optimal_pi \u001b[38;5;241m=\u001b[39m optimize_pi( np\u001b[38;5;241m.\u001b[39mexp(L),\n\u001b[0;32m     46\u001b[0m                              penalty\u001b[38;5;241m=\u001b[39mpenalty,\n\u001b[0;32m     47\u001b[0m                              verbose\u001b[38;5;241m=\u001b[39mverbose)  \n",
      "File \u001b[1;32mc:\\Document\\Serieux\\Travail\\python_work\\cEBNM_torch\\py\\utils.py:40\u001b[0m, in \u001b[0;36mautoselect_scales_mix_exp\u001b[1;34m(betahat, sebetahat, max_class, mult, tt)\u001b[0m\n\u001b[0;32m     38\u001b[0m     out \u001b[38;5;241m=\u001b[39m np\u001b[38;5;241m.\u001b[39marray([\u001b[38;5;241m0\u001b[39m, sigmaamax \u001b[38;5;241m/\u001b[39m \u001b[38;5;241m2\u001b[39m])\n\u001b[0;32m     39\u001b[0m \u001b[38;5;28;01melse\u001b[39;00m:\n\u001b[1;32m---> 40\u001b[0m     npoint \u001b[38;5;241m=\u001b[39m math\u001b[38;5;241m.\u001b[39mceil(math\u001b[38;5;241m.\u001b[39mlog2(sigmaamax \u001b[38;5;241m/\u001b[39m sigmaamin) \u001b[38;5;241m/\u001b[39m math\u001b[38;5;241m.\u001b[39mlog2(mult))\n\u001b[0;32m     42\u001b[0m     \u001b[38;5;66;03m# Generate the sequence (-npoint):0 using np.arange\u001b[39;00m\n\u001b[0;32m     43\u001b[0m     sequence \u001b[38;5;241m=\u001b[39m np\u001b[38;5;241m.\u001b[39marange(\u001b[38;5;241m-\u001b[39mnpoint, \u001b[38;5;241m1\u001b[39m)\n",
      "\u001b[1;31mValueError\u001b[0m: cannot convert float NaN to integer"
     ]
    }
   ],
   "source": [
    "mycebmf.iter()\n"
   ]
  },
  {
   "cell_type": "code",
   "execution_count": 11,
   "metadata": {},
   "outputs": [
    {
     "name": "stdout",
     "output_type": "stream",
     "text": [
      "The array does not contain any missing values.\n",
      "(50, 12)\n",
      "(40, 13)\n",
      "(50, 9)\n",
      "(40, 9)\n",
      "(50, 9)\n",
      "(40, 9)\n",
      "(50, 9)\n",
      "(40, 9)\n",
      "(50, 9)\n",
      "(40, 9)\n"
     ]
    }
   ],
   "source": [
    "mycebmf= cEBMF(data    = noisy_matrix )\n",
    "K=5\n",
    "# Perform udv_si transformation\n",
    "U, s, Vt = np.linalg.svd(noisy_matrix, full_matrices=False)\n",
    "\n",
    " \n",
    "mycebmf.init_LF()\n",
    "mycebmf.iter()"
   ]
  },
  {
   "cell_type": "code",
   "execution_count": null,
   "metadata": {},
   "outputs": [],
   "source": []
  },
  {
   "cell_type": "code",
   "execution_count": null,
   "metadata": {},
   "outputs": [],
   "source": []
  },
  {
   "cell_type": "code",
   "execution_count": 22,
   "metadata": {},
   "outputs": [
    {
     "data": {
      "text/plain": [
       "<matplotlib.collections.PathCollection at 0x25c23e49190>"
      ]
     },
     "execution_count": 22,
     "metadata": {},
     "output_type": "execute_result"
    },
    {
     "data": {
      "image/png": "[encoded data removed]",
      "text/plain": [
       "<Figure size 640x480 with 1 Axes>"
      ]
     },
     "metadata": {},
     "output_type": "display_data"
    }
   ],
   "source": [
    "mycebmf.update_fitted_val()\n",
    "plt.scatter(mycebmf.Y_fit, noisy_matrix)\n",
    " \n",
    "plt.scatter(mycebmf.Y_fit, rank_1_matrix)\n",
    "plt.scatter(np.outer(mycebmf.L[:,0],mycebmf.F[:,0] ), rank_1_matrix)"
   ]
  },
  {
   "cell_type": "code",
   "execution_count": null,
   "metadata": {},
   "outputs": [],
   "source": []
  }
 ],
 "metadata": {
  "kernelspec": {
   "display_name": "ml",
   "language": "python",
   "name": "python3"
  },
  "language_info": {
   "codemirror_mode": {
    "name": "ipython",
    "version": 3
   },
   "file_extension": ".py",
   "mimetype": "text/x-python",
   "name": "python",
   "nbconvert_exporter": "python",
   "pygments_lexer": "ipython3",
   "version": "3.11.7"
  }
 },
 "nbformat": 4,
 "nbformat_minor": 2
}
