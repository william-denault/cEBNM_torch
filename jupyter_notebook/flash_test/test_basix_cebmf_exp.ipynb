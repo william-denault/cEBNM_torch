{
 "cells": [
  {
   "cell_type": "code",
   "execution_count": 108,
   "metadata": {},
   "outputs": [
    {
     "name": "stdout",
     "output_type": "stream",
     "text": [
      "Rank-1 Matrix (Outer Product):\n",
      "[[9.71343058e-01 7.17365705e-01 6.69595227e-01 ... 2.71451427e-01\n",
      "  2.18624387e-02 6.11511372e-01]\n",
      " [2.81318277e-01 2.07761905e-01 1.93926723e-01 ... 7.86171757e-02\n",
      "  6.33175225e-03 1.77104602e-01]\n",
      " [1.35616994e-02 1.00157179e-02 9.34875595e-03 ... 3.78995107e-03\n",
      "  3.05239039e-04 8.53780067e-03]\n",
      " ...\n",
      " [6.60735655e-01 4.87972910e-01 4.55478049e-01 ... 1.84649116e-01\n",
      "  1.48714634e-02 4.15967730e-01]\n",
      " [6.50176556e-01 4.80174702e-01 4.48199136e-01 ... 1.81698271e-01\n",
      "  1.46338052e-02 4.09320224e-01]\n",
      " [3.78976820e-01 2.79885640e-01 2.61247628e-01 ... 1.05908822e-01\n",
      "  8.52979536e-03 2.38585774e-01]]\n",
      "\n",
      "Noisy Matrix (with Homoscedastic Noise):\n",
      "[[ 0.88345822  0.64969404  0.80042548 ...  0.39264125  0.07570972\n",
      "   0.66748083]\n",
      " [ 0.37007748  0.05217146  0.11198487 ... -0.00175118  0.07663235\n",
      "   0.06487272]\n",
      " [ 0.01550415  0.06018323 -0.04443596 ...  0.07870368 -0.07490096\n",
      "   0.08777618]\n",
      " ...\n",
      " [ 0.61914108  0.28105372  0.53021654 ...  0.10151915 -0.07412876\n",
      "   0.51353709]\n",
      " [ 0.68679248  0.38195698  0.61594489 ...  0.1912181   0.09753601\n",
      "   0.4740207 ]\n",
      " [ 0.30823109  0.18210492  0.21421667 ...  0.27921514  0.230653\n",
      "   0.17305087]]\n"
     ]
    }
   ],
   "source": [
    "import numpy as np \n",
    "# Parameters\n",
    "n, p = 50, 40  # Dimensions of the matrix\n",
    "noise_std = 0.1  # Standard deviation of the homoscedastic noise\n",
    "\n",
    "# Generate two random vectors\n",
    "u = np.random.rand(n)  # Vector of length n\n",
    "v = np.random.rand(p)  # Vector of length p\n",
    "\n",
    "# Create a rank-1 matrix as the outer product of u and v\n",
    "rank_1_matrix = np.outer(u, v)\n",
    "\n",
    "# Add homoscedastic Gaussian noise (constant variance across the matrix)\n",
    "noise = np.random.normal(0, noise_std, size=(n, p))\n",
    "noisy_matrix = rank_1_matrix + noise\n",
    "\n",
    "# Print the original and noisy matrix\n",
    "print(\"Rank-1 Matrix (Outer Product):\")\n",
    "print(rank_1_matrix)\n",
    "print(\"\\nNoisy Matrix (with Homoscedastic Noise):\")\n",
    "print(noisy_matrix)\n"
   ]
  },
  {
   "cell_type": "code",
   "execution_count": 109,
   "metadata": {},
   "outputs": [
    {
     "name": "stdout",
     "output_type": "stream",
     "text": [
      "[0.99969878 0.2895306  0.0139576  0.25088867 0.03105409 0.36720156\n",
      " 0.07156737 0.80664668 0.43776768 0.50640914 0.6149168  0.83354049\n",
      " 0.4552263  0.86215434 0.24621185 0.43885916 0.65381255 0.6242675\n",
      " 0.53718886 0.52037347 0.1362611  0.85405256 0.35860859 0.86020973\n",
      " 0.81745386 0.64811543 0.6094276  0.884622   0.47863013 0.89472247\n",
      " 0.83321851 0.69497063 0.16747871 0.87335582 0.74884574 0.50703066\n",
      " 0.01205483 0.7124611  0.1953945  0.5860786  0.78564144 0.68122631\n",
      " 0.82073129 0.76748847 0.82850909 0.75728564 0.54003449 0.68002404\n",
      " 0.6691567  0.39004002]\n"
     ]
    }
   ],
   "source": [
    "print(u)"
   ]
  },
  {
   "cell_type": "code",
   "execution_count": 110,
   "metadata": {},
   "outputs": [],
   "source": [
    "import sys\n",
    "import os\n",
    "import matplotlib.pyplot as plt\n",
    "\n",
    "# Add the path to utils.py\n",
    "sys.path.append(r\"C:\\Document\\Serieux\\Travail\\python_work\\cEBNM_torch\\py\")\n",
    "from cEBMF import *"
   ]
  },
  {
   "cell_type": "code",
   "execution_count": 111,
   "metadata": {},
   "outputs": [],
   "source": [
    "mycebmf0= cEBMF(data    = noisy_matrix,  K=10)\n",
    "mycebmf0.init_LF( )"
   ]
  },
  {
   "cell_type": "code",
   "execution_count": 112,
   "metadata": {},
   "outputs": [
    {
     "data": {
      "text/plain": [
       "array([[-3.36527848e+00, -6.44590706e-02,  1.49249919e-02,\n",
       "        -2.02037580e-02, -1.82749510e-01, -1.29834116e-01,\n",
       "        -2.06564456e-01, -7.49268830e-02, -1.01922989e-01,\n",
       "        -2.16173559e-01],\n",
       "       [-8.09336543e-01,  1.40805051e-01,  5.87261170e-02,\n",
       "        -8.51620063e-02,  5.85920364e-02,  9.80579574e-03,\n",
       "         2.26011187e-01, -4.02423769e-01,  1.34799734e-01,\n",
       "         1.23742837e-02],\n",
       "       [-5.92898093e-02, -1.94657966e-01,  1.54332444e-01,\n",
       "         2.08679494e-02,  3.48742455e-02, -6.21703975e-02,\n",
       "         6.98933005e-02, -7.92995244e-02,  1.78047374e-01,\n",
       "         2.60031875e-02],\n",
       "       [-7.57391810e-01,  1.17689833e-01,  5.26618212e-02,\n",
       "         8.25415924e-02, -1.18817888e-01,  1.31734788e-01,\n",
       "        -1.78765357e-01,  6.36137724e-02, -1.30466223e-01,\n",
       "        -3.23161297e-02],\n",
       "       [-9.09175128e-02, -7.70317391e-02,  8.40236396e-02,\n",
       "        -2.42832512e-01,  1.19046308e-01, -6.51090294e-02,\n",
       "        -1.21380221e-02,  3.08570445e-01, -1.29303858e-01,\n",
       "        -2.37482905e-01],\n",
       "       [-1.30727136e+00, -7.24906027e-02, -5.68258017e-02,\n",
       "        -2.19939917e-01, -1.38044283e-01,  1.63443029e-01,\n",
       "         9.45620984e-03, -2.29238465e-01, -1.23062357e-01,\n",
       "        -3.41191702e-02],\n",
       "       [-2.34087765e-01, -1.55648693e-01,  8.74529928e-02,\n",
       "         1.23645067e-01, -9.66896266e-02, -6.56869635e-02,\n",
       "        -3.95678319e-02, -8.37797299e-02, -1.65017128e-01,\n",
       "         2.56079644e-01],\n",
       "       [-2.86858273e+00,  2.34371409e-01,  8.09971467e-02,\n",
       "        -6.95176935e-03, -3.71829607e-02,  2.32189268e-01,\n",
       "        -2.96301872e-01,  1.64374392e-02, -2.73456238e-02,\n",
       "         7.90773798e-03],\n",
       "       [-1.64079154e+00,  8.70574042e-02, -3.37016992e-02,\n",
       "        -4.67211664e-01,  4.53148670e-02, -1.43737152e-01,\n",
       "        -2.53115147e-02,  5.82594760e-02, -8.83769616e-02,\n",
       "        -1.23039419e-02],\n",
       "       [-1.79709601e+00,  9.22678038e-02,  1.67746753e-01,\n",
       "        -2.04775691e-01, -4.35393825e-02,  3.26321945e-02,\n",
       "         1.54181361e-01, -8.16524699e-02,  9.56648290e-02,\n",
       "        -4.15750146e-02],\n",
       "       [-2.25111127e+00, -1.34391719e-02,  1.47813603e-01,\n",
       "        -1.75037697e-01,  7.01256469e-02,  4.48102921e-01,\n",
       "         3.70600596e-02, -2.27942946e-03,  4.39684885e-03,\n",
       "         7.70296082e-02],\n",
       "       [-2.86908484e+00, -5.49105704e-02, -1.70248330e-01,\n",
       "        -1.33158177e-01, -2.52087027e-01,  1.66327044e-01,\n",
       "         9.97839794e-02,  1.85141116e-01,  1.43018544e-01,\n",
       "         1.39532387e-01],\n",
       "       [-1.57069266e+00, -1.46484703e-01, -2.02620506e-01,\n",
       "         9.90825221e-02,  1.52021293e-02, -2.56416142e-01,\n",
       "         3.39158475e-02, -9.14312452e-02,  4.45851088e-02,\n",
       "        -1.67324811e-01],\n",
       "       [-2.97567463e+00,  2.47124866e-01, -5.34791499e-02,\n",
       "        -1.04689635e-01,  3.03482115e-01, -1.62102759e-01,\n",
       "         1.20860249e-01,  8.31862986e-02,  9.45007503e-02,\n",
       "        -6.67822063e-02],\n",
       "       [-9.08739090e-01,  7.97262937e-02, -1.40849531e-01,\n",
       "        -2.89363023e-02,  8.67866054e-02,  2.90285140e-01,\n",
       "        -1.48907453e-01,  9.07393396e-02,  2.97969691e-02,\n",
       "        -1.26249790e-02],\n",
       "       [-1.42605352e+00, -2.87020594e-01, -3.29407573e-01,\n",
       "        -2.23338187e-01, -8.22033286e-02,  1.14305615e-01,\n",
       "         1.13912590e-01,  1.01306111e-01, -2.38366529e-01,\n",
       "         9.22411159e-02],\n",
       "       [-2.35517931e+00, -9.14600417e-02,  8.61224979e-02,\n",
       "         3.30802538e-02,  2.48870060e-01,  9.62926000e-02,\n",
       "        -6.59153387e-02, -1.37932077e-01,  1.62603520e-02,\n",
       "        -2.47958973e-01],\n",
       "       [-2.29576993e+00, -3.65467891e-02,  1.27286064e-02,\n",
       "         2.22045988e-01,  4.53754067e-02, -2.48691940e-04,\n",
       "        -1.43761382e-01,  8.94400552e-02, -1.08957544e-01,\n",
       "        -1.22859061e-01],\n",
       "       [-1.95360446e+00,  2.82835849e-02,  4.18458134e-02,\n",
       "        -2.60917127e-01,  1.51569366e-01, -4.99820448e-02,\n",
       "         6.53009454e-04, -4.54319967e-03,  4.29397944e-04,\n",
       "        -4.84183356e-02],\n",
       "       [-1.89553893e+00,  6.29039183e-02,  7.07994103e-02,\n",
       "        -2.97464170e-02, -6.01035357e-02,  9.67783257e-02,\n",
       "         2.85799932e-02, -2.65871687e-03, -9.57939997e-02,\n",
       "        -1.02627456e-01],\n",
       "       [-5.07391274e-01,  1.96209133e-01,  1.92280635e-01,\n",
       "         7.25632384e-02, -2.63459627e-02,  3.25181670e-02,\n",
       "         2.04795182e-01,  1.17451496e-01, -3.49511415e-01,\n",
       "        -5.49949706e-02],\n",
       "       [-3.24369955e+00,  3.51546317e-01,  2.88242370e-01,\n",
       "        -3.92071366e-01, -2.31598571e-01, -1.02925263e-01,\n",
       "         3.44312713e-02,  3.14541757e-02,  1.18314877e-01,\n",
       "        -3.27505432e-02],\n",
       "       [-1.40048027e+00,  8.78915861e-02, -1.55416682e-01,\n",
       "         1.50940835e-01,  1.69471964e-01, -1.79300532e-01,\n",
       "        -1.48228288e-01,  2.12060101e-02, -1.70313139e-02,\n",
       "         2.01449804e-02],\n",
       "       [-3.14982796e+00, -1.95850171e-02,  2.79811751e-02,\n",
       "         1.70888212e-02,  1.64601296e-01, -7.12346584e-02,\n",
       "         1.65774841e-02,  1.17167514e-02, -1.80140510e-02,\n",
       "         5.78718670e-02],\n",
       "       [-2.89954782e+00, -7.09911287e-02, -1.19550660e-01,\n",
       "         1.02510609e-01,  1.14301063e-01,  1.10460788e-01,\n",
       "         3.33115876e-01,  2.40794942e-01,  2.29234755e-01,\n",
       "        -8.27202871e-02],\n",
       "       [-2.36688709e+00, -1.92248017e-01, -1.30627275e-01,\n",
       "        -1.57395855e-01,  1.35791689e-01, -1.07070676e-03,\n",
       "         1.32553190e-01,  1.95458196e-02, -2.00411990e-01,\n",
       "         2.43920416e-01],\n",
       "       [-2.21025562e+00, -1.24253169e-01,  1.33372501e-01,\n",
       "         1.39653189e-02,  1.00972258e-01,  2.60487180e-02,\n",
       "        -2.25432441e-01,  2.89254338e-01,  1.99330658e-01,\n",
       "         1.08594425e-01],\n",
       "       [-3.05135489e+00, -2.75784638e-02,  2.24443242e-01,\n",
       "         7.00788274e-02, -1.16002120e-01, -1.14416763e-01,\n",
       "         1.59505412e-01, -1.38403922e-01, -2.99545884e-01,\n",
       "        -2.05578711e-02],\n",
       "       [-1.81584501e+00,  2.64923215e-01, -3.11825424e-01,\n",
       "         6.27829581e-02,  8.12786072e-02, -3.48400846e-02,\n",
       "         1.58576533e-01, -1.52788937e-01,  5.93394600e-02,\n",
       "         1.97576508e-02],\n",
       "       [-3.31286359e+00,  8.29335153e-02,  6.21370785e-02,\n",
       "        -3.85518298e-02,  1.28661972e-02, -7.10939690e-02,\n",
       "         7.00109452e-03, -1.30060334e-02, -5.64602613e-02,\n",
       "         2.01729134e-01],\n",
       "       [-3.04840684e+00,  7.49521106e-02,  4.04387340e-02,\n",
       "        -1.32943522e-02, -2.30008848e-02, -6.33058771e-02,\n",
       "        -1.27437875e-01, -1.92624375e-01,  1.63446541e-03,\n",
       "        -1.65016830e-01],\n",
       "       [-2.39089084e+00, -1.72418460e-01,  1.14307947e-01,\n",
       "        -5.21946177e-02, -2.42538005e-01,  8.67206678e-02,\n",
       "        -7.54485428e-02,  1.07278660e-01,  2.08468631e-01,\n",
       "         6.39010593e-02],\n",
       "       [-7.82707453e-01,  3.05674672e-01, -2.13988274e-01,\n",
       "        -5.53203858e-02,  3.05942148e-02, -1.90731049e-01,\n",
       "        -5.24555147e-02,  1.77438363e-01, -8.51791427e-02,\n",
       "         8.90232176e-02],\n",
       "       [-3.31461501e+00,  2.19106048e-01, -1.44102737e-01,\n",
       "         2.74641037e-01,  1.90732449e-01,  2.27989089e-02,\n",
       "        -8.75884071e-02,  7.44623644e-03, -1.40549392e-01,\n",
       "         6.42423257e-02],\n",
       "       [-2.87525249e+00,  3.31894308e-01,  7.96302333e-02,\n",
       "         1.81196213e-01, -1.43297628e-01, -2.34597862e-01,\n",
       "         5.89933693e-02,  1.26727223e-01,  1.91996485e-01,\n",
       "         1.50195554e-01],\n",
       "       [-1.84379816e+00, -1.31384894e-01, -2.37640157e-01,\n",
       "        -3.53604443e-02,  1.59394279e-01,  1.50224537e-01,\n",
       "         1.21435896e-01, -2.67205536e-01, -5.18249162e-02,\n",
       "         2.70425645e-03],\n",
       "       [ 4.76365983e-02, -2.16663592e-02, -7.54254013e-02,\n",
       "        -1.91736400e-01,  1.55102625e-01,  5.26161008e-02,\n",
       "        -3.19330007e-01, -3.66797410e-02, -9.35273170e-02,\n",
       "         4.18165661e-02],\n",
       "       [-2.46439815e+00, -2.83552319e-01, -5.21706510e-03,\n",
       "        -8.67718458e-02,  2.31231794e-01, -8.33400637e-02,\n",
       "         2.52038687e-02, -3.14897262e-02,  3.14249575e-01,\n",
       "        -6.16277270e-02],\n",
       "       [-6.46310270e-01,  1.51981851e-02,  6.05580304e-03,\n",
       "         8.35763216e-02, -2.40960419e-02,  2.37465084e-01,\n",
       "         1.88282624e-01, -8.49435851e-03,  6.44088835e-02,\n",
       "         2.22276643e-01],\n",
       "       [-2.09388280e+00, -3.29325378e-01,  3.40203017e-01,\n",
       "         4.06785384e-02, -1.41042739e-01, -2.36244559e-01,\n",
       "         5.24593964e-02,  8.76278579e-02, -9.24170017e-02,\n",
       "         2.34627947e-01],\n",
       "       [-2.93168068e+00, -1.23427376e-01, -5.52918836e-02,\n",
       "        -3.70801315e-02, -1.84993863e-01, -1.79652646e-01,\n",
       "        -2.43259147e-01, -3.00752342e-01,  1.52048931e-01,\n",
       "         1.02940395e-01],\n",
       "       [-2.50844669e+00, -1.96853112e-02,  1.87517311e-02,\n",
       "         3.73124540e-01,  8.10906570e-03,  1.43657148e-01,\n",
       "        -7.96199962e-02,  1.34789068e-02,  1.36036336e-01,\n",
       "         5.19227348e-02],\n",
       "       [-2.94095826e+00,  3.00319612e-01,  3.43554169e-02,\n",
       "         1.48315802e-01, -9.45257470e-02,  1.22553974e-01,\n",
       "        -6.89025670e-02, -8.85815844e-02, -1.96006875e-02,\n",
       "         9.35249031e-03],\n",
       "       [-2.67384934e+00, -8.57297257e-02,  2.35886127e-01,\n",
       "         2.90413171e-01, -1.00856863e-01,  1.60134867e-01,\n",
       "         2.65702665e-01,  6.79659992e-02, -8.59542564e-02,\n",
       "        -3.17804158e-01],\n",
       "       [-2.92228031e+00,  3.52651924e-02, -2.86974132e-01,\n",
       "         7.72605017e-02, -2.18088031e-01, -6.23547845e-02,\n",
       "         6.09483197e-02, -4.19484526e-02, -9.39783305e-02,\n",
       "         4.77270642e-03],\n",
       "       [-2.78858304e+00, -5.30462302e-02,  1.86791211e-01,\n",
       "        -9.10138153e-03,  3.75790715e-01,  1.82135537e-01,\n",
       "        -9.44775641e-02, -3.21135633e-02, -1.01829357e-01,\n",
       "         1.65560409e-01],\n",
       "       [-1.98527443e+00, -4.26370680e-01, -1.10263631e-01,\n",
       "        -2.72241719e-02, -2.20926493e-01,  1.12154528e-01,\n",
       "        -1.31478667e-01,  7.71028129e-03,  6.79438338e-02,\n",
       "        -2.06439376e-01],\n",
       "       [-2.50938821e+00, -6.16922826e-02, -4.64912713e-01,\n",
       "         3.98724675e-02, -2.16530174e-01, -7.12864427e-03,\n",
       "         3.18504423e-02,  1.11869618e-01, -2.49440223e-02,\n",
       "        -9.95321479e-03],\n",
       "       [-2.55961370e+00, -2.31669605e-01, -1.00904405e-02,\n",
       "         1.70399062e-02,  1.37219369e-01, -2.37725005e-01,\n",
       "         4.15267125e-02,  1.50979951e-01, -8.62008855e-02,\n",
       "        -1.00195639e-01],\n",
       "       [-1.29572642e+00, -3.32294047e-01,  1.54700071e-01,\n",
       "         1.20100588e-01,  1.61626041e-01, -1.24085985e-01,\n",
       "        -2.74963590e-04, -8.75143483e-02, -7.05831796e-02,\n",
       "         1.55947775e-01]], dtype=float32)"
      ]
     },
     "execution_count": 112,
     "metadata": {},
     "output_type": "execute_result"
    }
   ],
   "source": [
    "mycebmf= cEBMF(data    = noisy_matrix,\n",
    "               prior_L = \"exp\",\n",
    "               prior_F = \"exp\",K=10)\n",
    "K=5\n",
    "# Perform udv_si transformation\n",
    "U, s, Vt = np.linalg.svd(noisy_matrix, full_matrices=False)\n",
    "\n",
    "U, s, Vt = np.linalg.svd(mycebmf.data, full_matrices=False)\n",
    "mycebmf.init_LF( )\n",
    "U\n",
    "mycebmf.L\n",
    " "
   ]
  },
  {
   "cell_type": "code",
   "execution_count": null,
   "metadata": {},
   "outputs": [],
   "source": []
  },
  {
   "cell_type": "code",
   "execution_count": null,
   "metadata": {},
   "outputs": [],
   "source": []
  },
  {
   "cell_type": "code",
   "execution_count": null,
   "metadata": {},
   "outputs": [],
   "source": []
  },
  {
   "cell_type": "code",
   "execution_count": 113,
   "metadata": {},
   "outputs": [
    {
     "data": {
      "text/plain": [
       "<matplotlib.collections.PathCollection at 0x1a507b19570>"
      ]
     },
     "execution_count": 113,
     "metadata": {},
     "output_type": "execute_result"
    },
    {
     "data": {
      "image/png": "[encoded data removed]",
      "text/plain": [
       "<Figure size 640x480 with 1 Axes>"
      ]
     },
     "metadata": {},
     "output_type": "display_data"
    }
   ],
   "source": [
    "mycebmf.update_fitted_val()\n",
    "plt.scatter(mycebmf.Y_fit, noisy_matrix)\n",
    " \n",
    "plt.scatter(mycebmf.Y_fit, rank_1_matrix)\n",
    "\n",
    "plt.scatter(np.outer(mycebmf.L[:,0],mycebmf.F[:,0] ), rank_1_matrix) \n",
    "\n",
    "plt.scatter(np.outer(mycebmf0.L[:,0],mycebmf0.F[:,0] ), rank_1_matrix) "
   ]
  },
  {
   "cell_type": "code",
   "execution_count": 114,
   "metadata": {},
   "outputs": [
    {
     "data": {
      "text/plain": [
       "array([[-0.27468106,  0.004303  , -0.05664828, -0.04540357,  0.16282949,\n",
       "        -0.22618525,  0.04225927, -0.20393343,  0.03817857, -0.07190139],\n",
       "       [-0.20014295,  0.01362791,  0.3304907 ,  0.04611865,  0.14555088,\n",
       "         0.13481115, -0.3304888 ,  0.12868294,  0.31558326, -0.02563313],\n",
       "       [-0.18319559, -0.21364543,  0.00401952,  0.06740647, -0.1824106 ,\n",
       "        -0.06776784, -0.02796227,  0.10196036, -0.23707649, -0.27437836],\n",
       "       [-0.03286956,  0.26638046, -0.1784216 , -0.04498697, -0.23717879,\n",
       "         0.03765533, -0.19107354,  0.02550568, -0.21548988, -0.03399199],\n",
       "       [-0.25645068, -0.14099275,  0.17113775,  0.00432558, -0.21633929,\n",
       "        -0.08099738,  0.14082311, -0.14185807, -0.02521411, -0.01420433],\n",
       "       [-0.16956614,  0.09614798,  0.13332058, -0.0895064 ,  0.24367474,\n",
       "         0.10429516,  0.02666418, -0.268174  , -0.29502347, -0.04792018],\n",
       "       [-0.12255216, -0.12487981, -0.00718008,  0.06117206,  0.36134377,\n",
       "         0.25321028,  0.01420766, -0.02644509,  0.10608846, -0.26541716],\n",
       "       [-0.09547694,  0.08328301, -0.29430357,  0.20346898,  0.25760627,\n",
       "        -0.06483094,  0.05273259,  0.28800908,  0.06735221, -0.14621502],\n",
       "       [-0.09806252,  0.259525  ,  0.26456386,  0.07636638,  0.00371742,\n",
       "         0.1277957 ,  0.18749258,  0.00406061,  0.19657178,  0.23824151],\n",
       "       [-0.05032679,  0.09563827,  0.05032545,  0.28159237, -0.03224301,\n",
       "        -0.16628209, -0.04719132, -0.11005446, -0.01212367, -0.15793994],\n",
       "       [-0.22378717, -0.06123058, -0.02456059,  0.12431461, -0.06700433,\n",
       "         0.10744774, -0.01196405, -0.02811692,  0.05981001, -0.17297947],\n",
       "       [-0.02549318, -0.09110481,  0.10785259,  0.16125737, -0.17087176,\n",
       "        -0.0814529 , -0.14800227, -0.07787795, -0.03402559,  0.2192854 ],\n",
       "       [-0.18495208, -0.03548854, -0.06384892, -0.11085895,  0.19562274,\n",
       "        -0.10774948,  0.23494685,  0.31089744, -0.04443845,  0.28734735],\n",
       "       [-0.02124614,  0.22814398, -0.16626471, -0.08736032, -0.07735962,\n",
       "         0.11094631, -0.10433506, -0.14152908, -0.09478963,  0.03416176],\n",
       "       [-0.1005642 ,  0.09660343,  0.27051246,  0.07678049,  0.13981383,\n",
       "         0.02285198, -0.10396008,  0.08097806, -0.08365954,  0.10230983],\n",
       "       [-0.18582927,  0.08792277, -0.33722362,  0.40623748, -0.13622914,\n",
       "        -0.02418079, -0.02266505,  0.0010163 , -0.12437709,  0.21036825],\n",
       "       [-0.17328608, -0.00390665,  0.12847166,  0.18383305, -0.06697143,\n",
       "        -0.3294882 , -0.24358064,  0.1442685 ,  0.05681492,  0.13152996],\n",
       "       [-0.22457802,  0.13637324, -0.11302081, -0.0404709 ,  0.26350746,\n",
       "        -0.13288476,  0.0732225 ,  0.00761748,  0.07251634, -0.10647845],\n",
       "       [-0.16816987,  0.3089531 , -0.07991553,  0.0377996 , -0.04071076,\n",
       "        -0.10830838, -0.04479109, -0.06259147,  0.17964722,  0.0267357 ],\n",
       "       [-0.16654289, -0.3646881 , -0.08483832, -0.12438844, -0.20836137,\n",
       "         0.16435559,  0.11567307, -0.04947541,  0.01566899,  0.13641049],\n",
       "       [-0.16787024, -0.21105243, -0.2220343 ,  0.02244356,  0.07400338,\n",
       "        -0.2521812 ,  0.03782324,  0.10572487, -0.1380851 , -0.05362473],\n",
       "       [-0.13217854, -0.0807697 , -0.03934756, -0.01092642, -0.08824646,\n",
       "         0.00539048, -0.21430328, -0.09749795, -0.03758883,  0.34551567],\n",
       "       [-0.0291901 , -0.14357753,  0.02911155,  0.01652759,  0.12292306,\n",
       "        -0.09811184,  0.26836383,  0.09006775, -0.09200063,  0.14450805],\n",
       "       [-0.24292007, -0.15730987,  0.00368711, -0.09153751,  0.02460962,\n",
       "         0.20537198, -0.20233612,  0.32442057,  0.01771309,  0.28081673],\n",
       "       [-0.21997106,  0.13556224,  0.09179448,  0.05496141, -0.04850124,\n",
       "         0.19302306,  0.1467019 ,  0.20863207, -0.3236691 , -0.10288371],\n",
       "       [-0.20858273, -0.14576446, -0.19540857,  0.0911523 ,  0.11382386,\n",
       "        -0.03056569,  0.09940062, -0.4214032 ,  0.1649024 ,  0.14527807],\n",
       "       [-0.05590438, -0.01044834, -0.13265929, -0.05919804, -0.05914396,\n",
       "         0.2937829 , -0.04597165, -0.13469744, -0.16821343,  0.05494451],\n",
       "       [-0.05302846, -0.20999923,  0.30571473,  0.1718024 , -0.15136172,\n",
       "         0.00203239,  0.36122584,  0.01608108, -0.03216976, -0.10028557],\n",
       "       [-0.11634192,  0.01921693,  0.20657235,  0.019977  , -0.01046941,\n",
       "        -0.03632448, -0.24342342,  0.0814053 , -0.03595608, -0.06679212],\n",
       "       [-0.05471564,  0.05938371,  0.06077746,  0.07787897, -0.23256718,\n",
       "         0.208538  ,  0.06265666,  0.02680785, -0.05414153, -0.10834815],\n",
       "       [-0.07082099, -0.01171537, -0.04537058, -0.24194463,  0.08082974,\n",
       "         0.08605058,  0.0977916 , -0.09269509,  0.06043746,  0.30209443],\n",
       "       [-0.0748808 , -0.15620218, -0.04156772,  0.10386255, -0.24972887,\n",
       "        -0.00376396,  0.04598753, -0.01579043,  0.47353113, -0.13149954],\n",
       "       [-0.11454265, -0.02609718, -0.15634419, -0.37629008, -0.11267239,\n",
       "         0.01801703, -0.14414015,  0.03696359,  0.2257833 , -0.10435088],\n",
       "       [-0.00778179, -0.00778362,  0.10314573, -0.18895662,  0.05732119,\n",
       "         0.00664713,  0.05634771, -0.17034839,  0.07765646, -0.07990105],\n",
       "       [-0.266062  ,  0.05677557,  0.01951916,  0.18059455,  0.05871882,\n",
       "         0.2708179 , -0.07477245, -0.28598723, -0.05358921, -0.03825122],\n",
       "       [-0.2528146 ,  0.4019128 ,  0.04940312, -0.2664765 , -0.30923253,\n",
       "        -0.19820978,  0.3008096 ,  0.04749066,  0.12030081, -0.05122701],\n",
       "       [-0.19249763,  0.12441207,  0.02539131, -0.13591973,  0.01972042,\n",
       "         0.15230888,  0.06938358,  0.13874118, -0.05156821, -0.05586332],\n",
       "       [-0.07684842, -0.10465485,  0.17781119, -0.21892868,  0.01115771,\n",
       "        -0.15427323, -0.03416029, -0.01414697, -0.21428609, -0.00358022],\n",
       "       [-0.0075763 ,  0.00698595,  0.19357719, -0.08760397,  0.09945977,\n",
       "        -0.35838628, -0.14441721, -0.24530935, -0.16571854,  0.0408472 ],\n",
       "       [-0.1764434 , -0.15774494, -0.09260841, -0.28617027, -0.06573524,\n",
       "        -0.07843357, -0.2553832 ,  0.04303994, -0.04291615, -0.24413192]],\n",
       "      dtype=float32)"
      ]
     },
     "execution_count": 114,
     "metadata": {},
     "output_type": "execute_result"
    }
   ],
   "source": [
    "mycebmf.F"
   ]
  },
  {
   "cell_type": "code",
   "execution_count": 115,
   "metadata": {},
   "outputs": [],
   "source": [
    "#3mycebmf.update_loading_factor_k(k=0)\n"
   ]
  },
  {
   "cell_type": "code",
   "execution_count": 116,
   "metadata": {},
   "outputs": [],
   "source": [
    "#mycebmf0.update_loading_factor_k(k=0)\n"
   ]
  },
  {
   "cell_type": "code",
   "execution_count": 117,
   "metadata": {},
   "outputs": [
    {
     "data": {
      "text/plain": [
       "array([[-3.36528015e+00, -6.44591749e-02, -1.49251940e-02,\n",
       "        -2.02032700e-02, -1.82747796e-01, -1.29836261e-01,\n",
       "        -2.06564069e-01, -7.49280527e-02,  1.01922572e-01,\n",
       "        -2.16173187e-01],\n",
       "       [-8.09335828e-01,  1.40805185e-01, -5.87276444e-02,\n",
       "        -8.51614028e-02,  5.85913286e-02,  9.80730448e-03,\n",
       "         2.26015404e-01, -4.02422667e-01, -1.34795845e-01,\n",
       "         1.23743229e-02],\n",
       "       [-5.92906848e-02, -1.94657832e-01, -1.54332608e-01,\n",
       "         2.08684728e-02,  3.48748602e-02, -6.21698163e-02,\n",
       "         6.98949322e-02, -7.92998895e-02, -1.78046852e-01,\n",
       "         2.60026827e-02],\n",
       "       [-7.57391274e-01,  1.17689930e-01, -5.26609756e-02,\n",
       "         8.25433955e-02, -1.18819311e-01,  1.31732553e-01,\n",
       "        -1.78766340e-01,  6.36132509e-02,  1.30465120e-01,\n",
       "        -3.23160104e-02],\n",
       "       [-9.09176543e-02, -7.70317540e-02, -8.40254351e-02,\n",
       "        -2.42832869e-01,  1.19046375e-01, -6.51066452e-02,\n",
       "        -1.21415602e-02,  3.08570802e-01,  1.29301697e-01,\n",
       "        -2.37483010e-01],\n",
       "       [-1.30727196e+00, -7.24909008e-02,  5.68234026e-02,\n",
       "        -2.19938427e-01, -1.38047248e-01,  1.63442403e-01,\n",
       "         9.45787784e-03, -2.29237393e-01,  1.23064369e-01,\n",
       "        -3.41186412e-02],\n",
       "       [-2.34087288e-01, -1.55648783e-01, -8.74521881e-02,\n",
       "         1.23645946e-01, -9.66885388e-02, -6.56891167e-02,\n",
       "        -3.95677537e-02, -8.37783664e-02,  1.65017039e-01,\n",
       "         2.56079942e-01],\n",
       "       [-2.86858177e+00,  2.34371424e-01, -8.09971467e-02,\n",
       "        -6.94938283e-03, -3.71860787e-02,  2.32188821e-01,\n",
       "        -2.96301782e-01,  1.64349843e-02,  2.73444969e-02,\n",
       "         7.90714193e-03],\n",
       "       [-1.64079082e+00,  8.70573297e-02,  3.36980745e-02,\n",
       "        -4.67213035e-01,  4.53154333e-02, -1.43733919e-01,\n",
       "        -2.53129285e-02,  5.82592040e-02,  8.83765295e-02,\n",
       "        -1.23037789e-02],\n",
       "       [-1.79709470e+00,  9.22680348e-02, -1.67748600e-01,\n",
       "        -2.04774052e-01, -4.35408168e-02,  3.26328427e-02,\n",
       "         1.54182568e-01, -8.16513151e-02, -9.56636146e-02,\n",
       "        -4.15748656e-02],\n",
       "       [-2.25111175e+00, -1.34390593e-02, -1.47815481e-01,\n",
       "        -1.75033897e-01,  7.01187104e-02,  4.48104531e-01,\n",
       "         3.70602757e-02, -2.27888604e-03, -4.39624116e-03,\n",
       "         7.70292059e-02],\n",
       "       [-2.86908460e+00, -5.49104810e-02,  1.70248374e-01,\n",
       "        -1.33157983e-01, -2.52089351e-01,  1.66324764e-01,\n",
       "         9.97826532e-02,  1.85140803e-01, -1.43018961e-01,\n",
       "         1.39532432e-01],\n",
       "       [-1.57069361e+00, -1.46484718e-01,  2.02621222e-01,\n",
       "         9.90792289e-02,  1.52060185e-02, -2.56416142e-01,\n",
       "         3.39168608e-02, -9.14316773e-02, -4.45847660e-02,\n",
       "        -1.67324722e-01],\n",
       "       [-2.97567391e+00,  2.47125000e-01,  5.34784459e-02,\n",
       "        -1.04692377e-01,  3.03483874e-01, -1.62098244e-01,\n",
       "         1.20859638e-01,  8.31860378e-02, -9.45011526e-02,\n",
       "        -6.67829216e-02],\n",
       "       [-9.08739507e-01,  7.97259584e-02,  1.40849218e-01,\n",
       "        -2.89358497e-02,  8.67828205e-02,  2.90286362e-01,\n",
       "        -1.48907945e-01,  9.07379687e-02, -2.97974851e-02,\n",
       "        -1.26245674e-02],\n",
       "       [-1.42605591e+00, -2.87020832e-01,  3.29406202e-01,\n",
       "        -2.23339841e-01, -8.22050571e-02,  1.14305489e-01,\n",
       "         1.13910213e-01,  1.01308033e-01,  2.38366500e-01,\n",
       "         9.22408551e-02],\n",
       "       [-2.35518003e+00, -9.14599970e-02, -8.61232728e-02,\n",
       "         3.30808237e-02,  2.48868912e-01,  9.62957293e-02,\n",
       "        -6.59136027e-02, -1.37932733e-01, -1.62593499e-02,\n",
       "        -2.47958601e-01],\n",
       "       [-2.29576969e+00, -3.65467481e-02, -1.27268033e-02,\n",
       "         2.22045958e-01,  4.53763194e-02, -2.49492557e-04,\n",
       "        -1.43762648e-01,  8.94394964e-02,  1.08956352e-01,\n",
       "        -1.22858964e-01],\n",
       "       [-1.95360506e+00,  2.82834880e-02, -4.18483838e-02,\n",
       "        -2.60917723e-01,  1.51569083e-01, -4.99787815e-02,\n",
       "         6.52950723e-04, -4.54360526e-03, -4.29249660e-04,\n",
       "        -4.84184511e-02],\n",
       "       [-1.89553928e+00,  6.29042089e-02, -7.07995668e-02,\n",
       "        -2.97450479e-02, -6.01050407e-02,  9.67774093e-02,\n",
       "         2.85794009e-02, -2.65791547e-03,  9.57942531e-02,\n",
       "        -1.02627523e-01],\n",
       "       [-5.07391036e-01,  1.96209311e-01, -1.92279920e-01,\n",
       "         7.25651234e-02, -2.63464395e-02,  3.25165503e-02,\n",
       "         2.04792485e-01,  1.17456153e-01,  3.49511325e-01,\n",
       "        -5.49944863e-02],\n",
       "       [-3.24369812e+00,  3.51546824e-01, -2.88244814e-01,\n",
       "        -3.92069161e-01, -2.31598973e-01, -1.02926150e-01,\n",
       "         3.44307758e-02,  3.14535089e-02, -1.18314631e-01,\n",
       "        -3.27507742e-02],\n",
       "       [-1.40048003e+00,  8.78915340e-02,  1.55418068e-01,\n",
       "         1.50937945e-01,  1.69475451e-01, -1.79298818e-01,\n",
       "        -1.48228765e-01,  2.12044008e-02,  1.70306545e-02,\n",
       "         2.01457683e-02],\n",
       "       [-3.14982796e+00, -1.95848607e-02, -2.79812403e-02,\n",
       "         1.70880910e-02,  1.64602265e-01, -7.12326467e-02,\n",
       "         1.65770967e-02,  1.17168780e-02,  1.80142913e-02,\n",
       "         5.78726344e-02],\n",
       "       [-2.89954829e+00, -7.09907934e-02,  1.19552061e-01,\n",
       "         1.02509506e-01,  1.14299946e-01,  1.10461548e-01,\n",
       "         3.33114564e-01,  2.40796462e-01, -2.29234681e-01,\n",
       "        -8.27200711e-02],\n",
       "       [-2.36688781e+00, -1.92248181e-01,  1.30625665e-01,\n",
       "        -1.57397404e-01,  1.35791346e-01, -1.06845459e-03,\n",
       "         1.32551968e-01,  1.95483360e-02,  2.00412139e-01,\n",
       "         2.43920416e-01],\n",
       "       [-2.21025515e+00, -1.24252990e-01, -1.33372113e-01,\n",
       "         1.39658917e-02,  1.00972079e-01,  2.60504168e-02,\n",
       "        -2.25433961e-01,  2.89250940e-01, -1.99333683e-01,\n",
       "         1.08593836e-01],\n",
       "       [-3.05135512e+00, -2.75784209e-02, -2.24443182e-01,\n",
       "         7.00805783e-02, -1.16000853e-01, -1.14419356e-01,\n",
       "         1.59505323e-01, -1.38399795e-01,  2.99547076e-01,\n",
       "        -2.05576792e-02],\n",
       "       [-1.81584477e+00,  2.64923066e-01,  3.11826020e-01,\n",
       "         6.27800152e-02,  8.12795162e-02, -3.48391235e-02,\n",
       "         1.58578187e-01, -1.52788207e-01, -5.93377165e-02,\n",
       "         1.97577421e-02],\n",
       "       [-3.31286335e+00,  8.29334557e-02, -6.21373914e-02,\n",
       "        -3.85520160e-02,  1.28667438e-02, -7.10937530e-02,\n",
       "         7.00089335e-03, -1.30051812e-02,  5.64600229e-02,\n",
       "         2.01729119e-01],\n",
       "       [-3.04840708e+00,  7.49520212e-02, -4.04393375e-02,\n",
       "        -1.32941622e-02, -2.30002739e-02, -6.33060038e-02,\n",
       "        -1.27435997e-01, -1.92625389e-01, -1.63343141e-03,\n",
       "        -1.65016130e-01],\n",
       "       [-2.39089131e+00, -1.72418132e-01, -1.14307873e-01,\n",
       "        -5.21925613e-02, -2.42539376e-01,  8.67180750e-02,\n",
       "        -7.54485503e-02,  1.07276857e-01, -2.08469570e-01,\n",
       "         6.39008954e-02],\n",
       "       [-7.82706618e-01,  3.05674523e-01,  2.13988692e-01,\n",
       "        -5.53234220e-02,  3.05967983e-02, -1.90730184e-01,\n",
       "        -5.24576604e-02,  1.77437812e-01,  8.51772279e-02,\n",
       "         8.90225470e-02],\n",
       "       [-3.31461477e+00,  2.19105974e-01,  1.44104868e-01,\n",
       "         2.74639577e-01,  1.90733239e-01,  2.27997638e-02,\n",
       "        -8.75889286e-02,  7.44631514e-03,  1.40548795e-01,\n",
       "         6.42421097e-02],\n",
       "       [-2.87525058e+00,  3.31894398e-01, -7.96276629e-02,\n",
       "         1.81195572e-01, -1.43294126e-01, -2.34600648e-01,\n",
       "         5.89927882e-02,  1.26726761e-01, -1.91997379e-01,\n",
       "         1.50195584e-01],\n",
       "       [-1.84379935e+00, -1.31385297e-01,  2.37639025e-01,\n",
       "        -3.53617333e-02,  1.59392297e-01,  1.50226608e-01,\n",
       "         1.21438034e-01, -2.67204285e-01,  5.18277064e-02,\n",
       "         2.70438078e-03],\n",
       "       [ 4.76359688e-02, -2.16667205e-02,  7.54232854e-02,\n",
       "        -1.91736981e-01,  1.55101642e-01,  5.26192188e-02,\n",
       "        -3.19330245e-01, -3.66822407e-02,  9.35267285e-02,\n",
       "         4.18174416e-02],\n",
       "       [-2.46439862e+00, -2.83552080e-01,  5.21588698e-03,\n",
       "        -8.67734104e-02,  2.31232494e-01, -8.33360180e-02,\n",
       "         2.52055097e-02, -3.14920135e-02, -3.14249039e-01,\n",
       "        -6.16279058e-02],\n",
       "       [-6.46309853e-01,  1.51983360e-02, -6.05497183e-03,\n",
       "         8.35777447e-02, -2.40989588e-02,  2.37464070e-01,\n",
       "         1.88282922e-01, -8.49276222e-03, -6.44077063e-02,\n",
       "         2.22276881e-01],\n",
       "       [-2.09388256e+00, -3.29325110e-01, -3.40202808e-01,\n",
       "         4.06800322e-02, -1.41039893e-01, -2.36246929e-01,\n",
       "         5.24582900e-02,  8.76299590e-02,  9.24157053e-02,\n",
       "         2.34628618e-01],\n",
       "       [-2.93168116e+00, -1.23427615e-01,  5.52911349e-02,\n",
       "        -3.70807461e-02, -1.84991747e-01, -1.79654047e-01,\n",
       "        -2.43255347e-01, -3.00755233e-01, -1.52048513e-01,\n",
       "         1.02940165e-01],\n",
       "       [-2.50844646e+00, -1.96849667e-02, -1.87485516e-02,\n",
       "         3.73125881e-01,  8.10838304e-03,  1.43655404e-01,\n",
       "        -7.96191841e-02,  1.34774782e-02, -1.36036798e-01,\n",
       "         5.19223250e-02],\n",
       "       [-2.94095802e+00,  3.00319642e-01, -3.43543068e-02,\n",
       "         1.48317382e-01, -9.45269987e-02,  1.22551814e-01,\n",
       "        -6.89017326e-02, -8.85817781e-02,  1.96013059e-02,\n",
       "         9.35288798e-03],\n",
       "       [-2.67384958e+00, -8.57293978e-02, -2.35883966e-01,\n",
       "         2.90416270e-01, -1.00858524e-01,  1.60131142e-01,\n",
       "         2.65701622e-01,  6.79696798e-02,  8.59552100e-02,\n",
       "        -3.17804098e-01],\n",
       "       [-2.92228079e+00,  3.52650434e-02,  2.86975503e-01,\n",
       "         7.72587657e-02, -2.18086571e-01, -6.23579435e-02,\n",
       "         6.09481856e-02, -4.19474617e-02,  9.39787328e-02,\n",
       "         4.77253785e-03],\n",
       "       [-2.78858423e+00, -5.30461706e-02, -1.86792448e-01,\n",
       "        -9.09997337e-03,  3.75788063e-01,  1.82140321e-01,\n",
       "        -9.44772437e-02, -3.21135297e-02,  1.01828963e-01,\n",
       "         1.65560201e-01],\n",
       "       [-1.98527598e+00, -4.26370859e-01,  1.10263467e-01,\n",
       "        -2.72235423e-02, -2.20927835e-01,  1.12152047e-01,\n",
       "        -1.31478250e-01,  7.70832226e-03, -6.79443255e-02,\n",
       "        -2.06439972e-01],\n",
       "       [-2.50938869e+00, -6.16924390e-02,  4.64914143e-01,\n",
       "         3.98694426e-02, -2.16529191e-01, -7.13136885e-03,\n",
       "         3.18491533e-02,  1.11869216e-01,  2.49435436e-02,\n",
       "        -9.95348673e-03],\n",
       "       [-2.55961490e+00, -2.31669679e-01,  1.00904629e-02,\n",
       "         1.70377344e-02,  1.37222573e-01, -2.37723589e-01,\n",
       "         4.15251553e-02,  1.50980771e-01,  8.61995071e-02,\n",
       "        -1.00195684e-01],\n",
       "       [-1.29572701e+00, -3.32293838e-01, -1.54699832e-01,\n",
       "         1.20100498e-01,  1.61627904e-01, -1.24084577e-01,\n",
       "        -2.74185732e-04, -8.75133127e-02,  7.05829412e-02,\n",
       "         1.55947611e-01]], dtype=float32)"
      ]
     },
     "execution_count": 117,
     "metadata": {},
     "output_type": "execute_result"
    }
   ],
   "source": [
    "mycebmf0.L"
   ]
  },
  {
   "cell_type": "code",
   "execution_count": 118,
   "metadata": {},
   "outputs": [
    {
     "data": {
      "text/plain": [
       "72.2447569804902"
      ]
     },
     "execution_count": 118,
     "metadata": {},
     "output_type": "execute_result"
    }
   ],
   "source": [
    "k=1\n",
    "mycebmf.cal_partial_residuals(k=k)\n",
    "\n",
    "        # Compute estimates for L\n",
    "lhat, s_l = compute_hat_f_and_s_f(mycebmf.Rk, mycebmf.L[:, k], mycebmf.L2[:, k], mycebmf.tau, mycebmf.has_nan)\n",
    "res=ash(lhat, s_l, prior=\"exp\")\n",
    "res.log_lik"
   ]
  },
  {
   "cell_type": "code",
   "execution_count": 119,
   "metadata": {},
   "outputs": [],
   "source": [
    "sys.path.append(r\"C:\\Document\\Serieux\\Travail\\python_work\\cEBNM_torch\\py\")\n",
    "sys.path.append(r\"C:\\Document\\Serieux\\Travail\\python_work\\cEBNM_torch\\py\\ebnm_solver\")\n",
    "sys.path.append(r\"C:\\Document\\Serieux\\Travail\\python_work\\cEBNM_torch\\py\\numerical_routine\")\n",
    "\n",
    "from distribution_operation import *\n",
    "from utils import *\n",
    "from numerical_routine import *\n",
    "from posterior_computation import *\n",
    "from ash import *"
   ]
  },
  {
   "cell_type": "code",
   "execution_count": 120,
   "metadata": {},
   "outputs": [],
   "source": [
    "betahat , sebetahat= lhat, s_l"
   ]
  },
  {
   "cell_type": "code",
   "execution_count": 121,
   "metadata": {},
   "outputs": [],
   "source": [
    "scale = autoselect_scales_mix_exp(betahat=betahat, sebetahat=sebetahat )\n",
    "L = get_data_loglik_exp(betahat=betahat, sebetahat=sebetahat,   scale=scale)\n",
    "exp_L = np.exp(L)\n",
    "optimal_pi = optimize_pi(exp_L, penalty=10, verbose=False)\n",
    "out = posterior_mean_exp(\n",
    "        betahat,\n",
    "        sebetahat,\n",
    "        log_pi=np.log(optimal_pi + 1e-32),\n",
    "        scale=scale)"
   ]
  },
  {
   "cell_type": "code",
   "execution_count": null,
   "metadata": {},
   "outputs": [],
   "source": []
  },
  {
   "cell_type": "code",
   "execution_count": 122,
   "metadata": {},
   "outputs": [
    {
     "data": {
      "text/plain": [
       "array([7.81569447e-04, 8.55165752e-04, 1.62610403e-04, 2.37315873e-02,\n",
       "       2.49972652e-04, 2.12411788e-03, 2.77915167e-04, 1.81721664e-03,\n",
       "       2.16025783e-02, 2.11081456e-03, 4.42109973e-04, 3.52128942e-04,\n",
       "       5.46209854e-04, 1.37115160e-02, 2.13609930e-03, 1.92121246e-03,\n",
       "       7.23455983e-04, 3.58309521e-03, 3.96168806e-02, 8.03232757e-05,\n",
       "       1.64925874e-04, 3.80192899e-04, 2.45856134e-04, 2.25483664e-04,\n",
       "       3.54371833e-03, 2.42445123e-04, 6.81129010e-04, 1.65879933e-04,\n",
       "       9.03613138e-04, 1.37949341e-03, 6.73308806e-04, 2.27038796e-04,\n",
       "       5.92280443e-04, 6.97970412e-04, 1.34009471e-03, 7.40279029e-02,\n",
       "       3.05050391e-03, 3.19437462e-04, 8.01879958e-04, 2.24877828e-04])"
      ]
     },
     "execution_count": 122,
     "metadata": {},
     "output_type": "execute_result"
    }
   ],
   "source": [
    "out.post_mean"
   ]
  },
  {
   "cell_type": "code",
   "execution_count": 123,
   "metadata": {},
   "outputs": [],
   "source": [
    "res_1=mycebmf.prior_L(mycebmf.X_l, lhat, s_l, mycebmf.model_list_L[k])"
   ]
  },
  {
   "cell_type": "code",
   "execution_count": 124,
   "metadata": {},
   "outputs": [
    {
     "data": {
      "text/plain": [
       "<function cEBMF.prior_exp(X, betahat, sebetahat, model_param)>"
      ]
     },
     "execution_count": 124,
     "metadata": {},
     "output_type": "execute_result"
    }
   ],
   "source": [
    "mycebmf.prior_L"
   ]
  },
  {
   "cell_type": "code",
   "execution_count": 125,
   "metadata": {},
   "outputs": [
    {
     "data": {
      "text/plain": [
       "array([7.23498215e-04, 7.92876059e-04, 1.47164286e-04, 2.37667768e-02,\n",
       "       2.27417493e-04, 2.00430717e-03, 2.53193733e-04, 1.70920230e-03,\n",
       "       2.15820440e-02, 1.99149265e-03, 4.05474830e-04, 3.21863745e-04,\n",
       "       5.02608250e-04, 1.35335236e-02, 2.01585004e-03, 1.80907581e-03,\n",
       "       6.68811911e-04, 3.41982222e-03, 4.01381900e-02, 7.21810687e-05,\n",
       "       1.49283845e-04, 3.47902661e-04, 2.23624128e-04, 2.04866931e-04,\n",
       "       3.38138946e-03, 2.20481696e-04, 6.29037960e-04, 1.50157313e-04,\n",
       "       8.38616410e-04, 1.29040697e-03, 6.21694909e-04, 2.06297800e-04,\n",
       "       5.45716350e-04, 6.44857623e-04, 1.25285006e-03, 7.52489395e-02,\n",
       "       2.90098523e-03, 2.91578963e-04, 7.42631320e-04, 2.04309549e-04])"
      ]
     },
     "execution_count": 125,
     "metadata": {},
     "output_type": "execute_result"
    }
   ],
   "source": [
    "res_1.post_mean\n"
   ]
  },
  {
   "cell_type": "code",
   "execution_count": null,
   "metadata": {},
   "outputs": [],
   "source": [
    " "
   ]
  },
  {
   "cell_type": "code",
   "execution_count": 126,
   "metadata": {},
   "outputs": [
    {
     "data": {
      "text/plain": [
       "<matplotlib.collections.PathCollection at 0x1a507b7ace0>"
      ]
     },
     "execution_count": 126,
     "metadata": {},
     "output_type": "execute_result"
    },
    {
     "data": {
      "image/png": "[encoded data removed]",
      "text/plain": [
       "<Figure size 640x480 with 1 Axes>"
      ]
     },
     "metadata": {},
     "output_type": "display_data"
    }
   ],
   "source": [
    "\n",
    "mycebmf .iter()\n",
    "mycebmf0.iter() \n",
    "plt.scatter(mycebmf.Y_fit, rank_1_matrix)\n",
    "\n",
    "plt.scatter(mycebmf0.Y_fit, rank_1_matrix)\n",
    "plt.scatter(np.outer(mycebmf.L[:,0],mycebmf.F[:,0] ), rank_1_matrix)\n",
    "plt.scatter(np.outer(mycebmf0.L[:,1],mycebmf0.F[:,1] ), rank_1_matrix)"
   ]
  },
  {
   "cell_type": "code",
   "execution_count": null,
   "metadata": {},
   "outputs": [],
   "source": [
    " "
   ]
  },
  {
   "cell_type": "code",
   "execution_count": 127,
   "metadata": {},
   "outputs": [],
   "source": [
    "for i in range(40):\n",
    "    mycebmf.iter()\n",
    "    mycebmf0.iter() \n"
   ]
  },
  {
   "cell_type": "code",
   "execution_count": 128,
   "metadata": {},
   "outputs": [
    {
     "data": {
      "text/plain": [
       "[<matplotlib.lines.Line2D at 0x1a50804c3d0>]"
      ]
     },
     "execution_count": 128,
     "metadata": {},
     "output_type": "execute_result"
    },
    {
     "data": {
      "image/png": "[encoded data removed]",
      "text/plain": [
       "<Figure size 1000x600 with 1 Axes>"
      ]
     },
     "metadata": {},
     "output_type": "display_data"
    }
   ],
   "source": [
    "plt.figure(figsize=(10, 6))\n",
    "plt.plot(np.array(mycebmf.obj) , marker='o', linestyle='-', color='b')"
   ]
  },
  {
   "cell_type": "code",
   "execution_count": 129,
   "metadata": {},
   "outputs": [
    {
     "data": {
      "text/plain": [
       "<matplotlib.collections.PathCollection at 0x1a507baff10>"
      ]
     },
     "execution_count": 129,
     "metadata": {},
     "output_type": "execute_result"
    },
    {
     "data": {
      "image/png": "[encoded data removed]",
      "text/plain": [
       "<Figure size 640x480 with 1 Axes>"
      ]
     },
     "metadata": {},
     "output_type": "display_data"
    }
   ],
   "source": [
    " \n",
    "plt.scatter(mycebmf.Y_fit, rank_1_matrix)\n",
    " \n",
    "plt.scatter(mycebmf0.Y_fit, rank_1_matrix)\n"
   ]
  },
  {
   "cell_type": "code",
   "execution_count": 130,
   "metadata": {},
   "outputs": [
    {
     "data": {
      "text/plain": [
       "0.3571292008703557"
      ]
     },
     "execution_count": 130,
     "metadata": {},
     "output_type": "execute_result"
    }
   ],
   "source": [
    "np.sqrt(np.mean((np.outer(mycebmf.L[:,0],mycebmf.F[:,0] ) - rank_1_matrix) ** 2))"
   ]
  },
  {
   "cell_type": "code",
   "execution_count": 131,
   "metadata": {},
   "outputs": [
    {
     "data": {
      "text/plain": [
       "0.021198463345034658"
      ]
     },
     "execution_count": 131,
     "metadata": {},
     "output_type": "execute_result"
    }
   ],
   "source": [
    "np.sqrt(np.mean((np.outer(mycebmf0.L[:,0],mycebmf0.F[:,0] ) - rank_1_matrix) ** 2))"
   ]
  },
  {
   "cell_type": "code",
   "execution_count": 132,
   "metadata": {},
   "outputs": [
    {
     "data": {
      "text/plain": [
       "<function cEBMF.prior_exp(X, betahat, sebetahat, model_param)>"
      ]
     },
     "execution_count": 132,
     "metadata": {},
     "output_type": "execute_result"
    }
   ],
   "source": [
    "mycebmf.prior_L"
   ]
  },
  {
   "cell_type": "code",
   "execution_count": 133,
   "metadata": {},
   "outputs": [
    {
     "data": {
      "text/plain": [
       "array([[4.4889407e-06, 2.0098021e-05, 5.0994613e-06, 5.0199128e-06,\n",
       "        5.7365532e-06, 1.0161866e-01, 5.0270487e-06, 5.2235882e-06,\n",
       "        4.9500986e-06, 4.9348105e-06],\n",
       "       [4.4885192e-06, 2.0096137e-05, 5.0989825e-06, 5.0194412e-06,\n",
       "        5.7360144e-06, 2.4319163e-02, 5.0265762e-06, 5.2230976e-06,\n",
       "        4.9496339e-06, 4.9343471e-06],\n",
       "       [4.4895583e-06, 2.0100779e-05, 5.1001630e-06, 5.0206036e-06,\n",
       "        5.7373422e-06, 8.9135696e-04, 5.0277399e-06, 5.2243067e-06,\n",
       "        4.9507798e-06, 4.9354894e-06],\n",
       "       [4.4886160e-06, 2.0096570e-05, 5.0990925e-06, 5.0195499e-06,\n",
       "        5.7361385e-06, 2.2760451e-02, 5.0266849e-06, 5.2232103e-06,\n",
       "        4.9497407e-06, 4.9344535e-06],\n",
       "       [4.4884905e-06, 2.0096009e-05, 5.0989497e-06, 5.0194094e-06,\n",
       "        5.7359780e-06, 1.3387052e-03, 5.0265444e-06, 5.2230644e-06,\n",
       "        4.9496020e-06, 4.9343153e-06],\n",
       "       [4.4887556e-06, 2.0097194e-05, 5.0992512e-06, 5.0197059e-06,\n",
       "        5.7363168e-06, 3.9369985e-02, 5.0268413e-06, 5.2233727e-06,\n",
       "        4.9498944e-06, 4.9346067e-06],\n",
       "       [4.4886910e-06, 2.0096904e-05, 5.0991775e-06, 5.0196336e-06,\n",
       "        5.7362340e-06, 6.2567126e-03, 5.0267686e-06, 5.2232972e-06,\n",
       "        4.9498231e-06, 4.9345358e-06],\n",
       "       [4.4894387e-06, 2.0100244e-05, 5.1000270e-06, 5.0204694e-06,\n",
       "        5.7371894e-06, 8.6590439e-02, 5.0276062e-06, 5.2241676e-06,\n",
       "        4.9506475e-06, 4.9353575e-06],\n",
       "       [4.4882659e-06, 2.0095005e-05, 5.0986946e-06, 5.0191579e-06,\n",
       "        5.7356910e-06, 4.9470481e-02, 5.0262929e-06, 5.2228029e-06,\n",
       "        4.9493547e-06, 4.9340683e-06],\n",
       "       [4.4889257e-06, 2.0097952e-05, 5.0994440e-06, 5.0198955e-06,\n",
       "        5.7365337e-06, 5.4182421e-02, 5.0270314e-06, 5.2235705e-06,\n",
       "        4.9500818e-06, 4.9347937e-06],\n",
       "       [4.4884127e-06, 2.0095662e-05, 5.0988615e-06, 5.0193221e-06,\n",
       "        5.7358784e-06, 6.7939162e-02, 5.0264571e-06, 5.2229734e-06,\n",
       "        4.9495166e-06, 4.9342298e-06],\n",
       "       [4.4884032e-06, 2.0095618e-05, 5.0988506e-06, 5.0193116e-06,\n",
       "        5.7358661e-06, 8.6629257e-02, 5.0264466e-06, 5.2229625e-06,\n",
       "        4.9495056e-06, 4.9342193e-06],\n",
       "       [4.4869971e-06, 2.0089337e-05, 5.0972531e-06, 5.0177391e-06,\n",
       "        5.7340694e-06, 4.7365431e-02, 5.0248718e-06, 5.2213263e-06,\n",
       "        4.9479554e-06, 4.9326736e-06],\n",
       "       [4.4880258e-06, 2.0093932e-05, 5.0984218e-06, 5.0188896e-06,\n",
       "        5.7353841e-06, 8.9811355e-02, 5.0260237e-06, 5.2225237e-06,\n",
       "        4.9490895e-06, 4.9338046e-06],\n",
       "       [4.4879216e-06, 2.0093466e-05, 5.0983035e-06, 5.0187728e-06,\n",
       "        5.7352509e-06, 2.7358739e-02, 5.0259068e-06, 5.2224018e-06,\n",
       "        4.9489745e-06, 4.9336900e-06],\n",
       "       [4.4881572e-06, 2.0094520e-05, 5.0985714e-06, 5.0190365e-06,\n",
       "        5.7355519e-06, 4.3018341e-02, 5.0261710e-06, 5.2226765e-06,\n",
       "        4.9492346e-06, 4.9339492e-06],\n",
       "       [4.4887520e-06, 2.0097177e-05, 5.0992467e-06, 5.0197018e-06,\n",
       "        5.7363122e-06, 7.1067385e-02, 5.0268372e-06, 5.2233686e-06,\n",
       "        4.9498904e-06, 4.9346027e-06],\n",
       "       [4.4879112e-06, 2.0093421e-05, 5.0982917e-06, 5.0187614e-06,\n",
       "        5.7352377e-06, 6.9279656e-02, 5.0258955e-06, 5.2223900e-06,\n",
       "        4.9489636e-06, 4.9336786e-06],\n",
       "       [4.4889262e-06, 2.0097956e-05, 5.0994445e-06, 5.0198964e-06,\n",
       "        5.7365346e-06, 5.8898259e-02, 5.0270323e-06, 5.2235710e-06,\n",
       "        4.9500827e-06, 4.9347941e-06],\n",
       "       [4.4883063e-06, 2.0095185e-05, 5.0987405e-06, 5.0192029e-06,\n",
       "        5.7357424e-06, 5.7167385e-02, 5.0263379e-06, 5.2228497e-06,\n",
       "        4.9493988e-06, 4.9341129e-06],\n",
       "       [4.4891544e-06, 2.0098974e-05, 5.0997037e-06, 5.0201515e-06,\n",
       "        5.7368261e-06, 1.5198200e-02, 5.0272874e-06, 5.2238365e-06,\n",
       "        4.9503342e-06, 4.9350451e-06],\n",
       "       [4.4885210e-06, 2.0096144e-05, 5.0989843e-06, 5.0194431e-06,\n",
       "        5.7360166e-06, 9.7914882e-02, 5.0265785e-06, 5.2230994e-06,\n",
       "        4.9496357e-06, 4.9343489e-06],\n",
       "       [4.4884418e-06, 2.0095791e-05, 5.0988942e-06, 5.0193544e-06,\n",
       "        5.7359152e-06, 4.2207286e-02, 5.0264894e-06, 5.2230071e-06,\n",
       "        4.9495484e-06, 4.9342616e-06],\n",
       "       [4.4884077e-06, 2.0095638e-05, 5.0988556e-06, 5.0193166e-06,\n",
       "        5.7358720e-06, 9.5094606e-02, 5.0264512e-06, 5.2229675e-06,\n",
       "        4.9495106e-06, 4.9342243e-06],\n",
       "       [4.4872936e-06, 2.0090662e-05, 5.0975900e-06, 5.0180706e-06,\n",
       "        5.7344487e-06, 8.7567471e-02, 5.0252038e-06, 5.2216715e-06,\n",
       "        4.9482824e-06, 4.9329997e-06],\n",
       "       [4.4882322e-06, 2.0094854e-05, 5.0986559e-06, 5.0191202e-06,\n",
       "        5.7356474e-06, 7.1415916e-02, 5.0262547e-06, 5.2227633e-06,\n",
       "        4.9493169e-06, 4.9340310e-06],\n",
       "       [4.4890612e-06, 2.0098560e-05, 5.0995982e-06, 5.0200479e-06,\n",
       "        5.7367074e-06, 6.6698253e-02, 5.0271838e-06, 5.2237283e-06,\n",
       "        4.9502319e-06, 4.9349428e-06],\n",
       "       [4.4899325e-06, 2.0102450e-05, 5.1005877e-06, 5.0210215e-06,\n",
       "        5.7378202e-06, 9.2092618e-02, 5.0281592e-06, 5.2247419e-06,\n",
       "        4.9511923e-06, 4.9359005e-06],\n",
       "       [4.4883031e-06, 2.0095171e-05, 5.0987369e-06, 5.0191993e-06,\n",
       "        5.7357383e-06, 5.4770101e-02, 5.0263343e-06, 5.2228461e-06,\n",
       "        4.9493951e-06, 4.9341093e-06],\n",
       "       [4.4894869e-06, 2.0100460e-05, 5.1000816e-06, 5.0205235e-06,\n",
       "        5.7372513e-06, 1.0001728e-01, 5.0276603e-06, 5.2242235e-06,\n",
       "        4.9507007e-06, 4.9354107e-06],\n",
       "       [4.4885974e-06, 2.0096486e-05, 5.0990711e-06, 5.0195285e-06,\n",
       "        5.7361144e-06, 9.2026547e-02, 5.0266640e-06, 5.2231885e-06,\n",
       "        4.9497198e-06, 4.9344326e-06],\n",
       "       [4.4879480e-06, 2.0093585e-05, 5.0983331e-06, 5.0188023e-06,\n",
       "        5.7352845e-06, 7.2165817e-02, 5.0259364e-06, 5.2224327e-06,\n",
       "        4.9490036e-06, 4.9337186e-06],\n",
       "       [4.4886092e-06, 2.0096539e-05, 5.0990848e-06, 5.0195417e-06,\n",
       "        5.7361294e-06, 2.3538066e-02, 5.0266772e-06, 5.2232022e-06,\n",
       "        4.9497330e-06, 4.9344458e-06],\n",
       "       [4.4878989e-06, 2.0093365e-05, 5.0982776e-06, 5.0187473e-06,\n",
       "        5.7352217e-06, 1.0010487e-01, 5.0258814e-06, 5.2223754e-06,\n",
       "        4.9489495e-06, 4.9336650e-06],\n",
       "       [4.4888052e-06, 2.0097415e-05, 5.0993071e-06, 5.0197614e-06,\n",
       "        5.7363800e-06, 8.6811304e-02, 5.0268968e-06, 5.2234304e-06,\n",
       "        4.9499495e-06, 4.9346613e-06],\n",
       "       [4.4886169e-06, 2.0096573e-05, 5.0990934e-06, 5.0195508e-06,\n",
       "        5.7361394e-06, 5.5610370e-02, 5.0266858e-06, 5.2232112e-06,\n",
       "        4.9497417e-06, 4.9344544e-06],\n",
       "       [4.4870262e-06, 2.0089466e-05, 5.0972862e-06, 5.0177719e-06,\n",
       "        5.7341067e-06, 2.6688038e-04, 5.0249046e-06, 5.2213604e-06,\n",
       "        4.9479872e-06, 4.9327055e-06],\n",
       "       [4.4881422e-06, 2.0094452e-05, 5.0985541e-06, 5.0190197e-06,\n",
       "        5.7355323e-06, 7.4368700e-02, 5.0261538e-06, 5.2226587e-06,\n",
       "        4.9492178e-06, 4.9339324e-06],\n",
       "       [4.4882113e-06, 2.0094762e-05, 5.0986328e-06, 5.0190970e-06,\n",
       "        5.7356210e-06, 1.9425126e-02, 5.0262315e-06, 5.2227392e-06,\n",
       "        4.9492942e-06, 4.9340083e-06],\n",
       "       [4.4881508e-06, 2.0094491e-05, 5.0985641e-06, 5.0190292e-06,\n",
       "        5.7355437e-06, 6.3165508e-02, 5.0261638e-06, 5.2226687e-06,\n",
       "        4.9492278e-06, 4.9339419e-06],\n",
       "       [4.4889384e-06, 2.0098010e-05, 5.0994586e-06, 5.0199101e-06,\n",
       "        5.7365501e-06, 8.8481419e-02, 5.0270460e-06, 5.2235855e-06,\n",
       "        4.9500959e-06, 4.9348077e-06],\n",
       "       [4.4884878e-06, 2.0095997e-05, 5.0989470e-06, 5.0194062e-06,\n",
       "        5.7359744e-06, 7.5723961e-02, 5.0265412e-06, 5.2230612e-06,\n",
       "        4.9495993e-06, 4.9343125e-06],\n",
       "       [4.4883104e-06, 2.0095205e-05, 5.0987451e-06, 5.0192079e-06,\n",
       "        5.7357479e-06, 8.8796847e-02, 5.0263425e-06, 5.2228547e-06,\n",
       "        4.9494038e-06, 4.9341174e-06],\n",
       "       [4.4881640e-06, 2.0094549e-05, 5.0985786e-06, 5.0190438e-06,\n",
       "        5.7355605e-06, 8.0728933e-02, 5.0261783e-06, 5.2226842e-06,\n",
       "        4.9492419e-06, 4.9339560e-06],\n",
       "       [4.4885769e-06, 2.0096395e-05, 5.0990479e-06, 5.0195058e-06,\n",
       "        5.7360885e-06, 8.8206947e-02, 5.0266412e-06, 5.2231649e-06,\n",
       "        4.9496975e-06, 4.9344103e-06],\n",
       "       [4.4886560e-06, 2.0096748e-05, 5.0991375e-06, 5.0195940e-06,\n",
       "        5.7361890e-06, 8.4160872e-02, 5.0267295e-06, 5.2232567e-06,\n",
       "        4.9497844e-06, 4.9344972e-06],\n",
       "       [4.4890044e-06, 2.0098303e-05, 5.0995332e-06, 5.0199837e-06,\n",
       "        5.7366342e-06, 5.9884306e-02, 5.0271196e-06, 5.2236619e-06,\n",
       "        4.9501687e-06, 4.9348801e-06],\n",
       "       [4.4891735e-06, 2.0099062e-05, 5.0997260e-06, 5.0201734e-06,\n",
       "        5.7368507e-06, 7.5745985e-02, 5.0273093e-06, 5.2238593e-06,\n",
       "        4.9503556e-06, 4.9350665e-06],\n",
       "       [4.4888170e-06, 2.0097466e-05, 5.0993203e-06, 5.0197741e-06,\n",
       "        5.7363950e-06, 7.7245720e-02, 5.0269095e-06, 5.2234441e-06,\n",
       "        4.9499622e-06, 4.9346741e-06],\n",
       "       [4.4892904e-06, 2.0099582e-05, 5.0998583e-06, 5.0203034e-06,\n",
       "        5.7369998e-06, 3.9001495e-02, 5.0274398e-06, 5.2239948e-06,\n",
       "        4.9504843e-06, 4.9351947e-06]], dtype=float32)"
      ]
     },
     "execution_count": 133,
     "metadata": {},
     "output_type": "execute_result"
    }
   ],
   "source": [
    "mycebmf.L"
   ]
  },
  {
   "cell_type": "code",
   "execution_count": 134,
   "metadata": {},
   "outputs": [],
   "source": [
    "k=0\n",
    "mycebmf.cal_partial_residuals(k=k)\n",
    "\n",
    "        # Compute estimates for L\n",
    "lhat, s_l = compute_hat_l_and_s_l(mycebmf.Rk, mycebmf.F[:, k], mycebmf.F2[:, k], mycebmf.tau, mycebmf.has_nan)"
   ]
  },
  {
   "cell_type": "code",
   "execution_count": null,
   "metadata": {},
   "outputs": [],
   "source": []
  },
  {
   "cell_type": "code",
   "execution_count": 135,
   "metadata": {},
   "outputs": [
    {
     "ename": "NameError",
     "evalue": "name 'ash_obj' is not defined",
     "output_type": "error",
     "traceback": [
      "\u001b[1;31m---------------------------------------------------------------------------\u001b[0m",
      "\u001b[1;31mNameError\u001b[0m                                 Traceback (most recent call last)",
      "Cell \u001b[1;32mIn[135], line 3\u001b[0m\n\u001b[0;32m      1\u001b[0m normal_means_loglik(x\u001b[38;5;241m=\u001b[39mlhat , \n\u001b[0;32m      2\u001b[0m                                             s\u001b[38;5;241m=\u001b[39m  s_l,\n\u001b[1;32m----> 3\u001b[0m                                             Et\u001b[38;5;241m=\u001b[39m\u001b[43mash_obj\u001b[49m\u001b[38;5;241m.\u001b[39mpost_mean,\n\u001b[0;32m      4\u001b[0m                                             Et2\u001b[38;5;241m=\u001b[39m ash_obj\u001b[38;5;241m.\u001b[39mpost_mean2\n\u001b[0;32m      5\u001b[0m                                            )\n",
      "\u001b[1;31mNameError\u001b[0m: name 'ash_obj' is not defined"
     ]
    }
   ],
   "source": [
    "normal_means_loglik(x=lhat , \n",
    "                                            s=  s_l,\n",
    "                                            Et=ash_obj.post_mean,\n",
    "                                            Et2= ash_obj.post_mean2\n",
    "                                           )"
   ]
  },
  {
   "cell_type": "code",
   "execution_count": null,
   "metadata": {},
   "outputs": [
    {
     "data": {
      "text/plain": [
       "481.358716088944"
      ]
     },
     "execution_count": 200,
     "metadata": {},
     "output_type": "execute_result"
    }
   ],
   "source": [
    "ash_obj.log_lik\n"
   ]
  },
  {
   "cell_type": "code",
   "execution_count": null,
   "metadata": {},
   "outputs": [
    {
     "ename": "ValueError",
     "evalue": "operands could not be broadcast together with shapes (40,) (50,) ",
     "output_type": "error",
     "traceback": [
      "\u001b[1;31m---------------------------------------------------------------------------\u001b[0m",
      "\u001b[1;31mValueError\u001b[0m                                Traceback (most recent call last)",
      "Cell \u001b[1;32mIn[201], line 1\u001b[0m\n\u001b[1;32m----> 1\u001b[0m \u001b[38;5;241m-\u001b[39m\u001b[38;5;241m0.5\u001b[39m \u001b[38;5;241m*\u001b[39m np\u001b[38;5;241m.\u001b[39msum(np\u001b[38;5;241m.\u001b[39mlog(\u001b[38;5;241m2\u001b[39m \u001b[38;5;241m*\u001b[39m np\u001b[38;5;241m.\u001b[39mpi \u001b[38;5;241m*\u001b[39m s\u001b[38;5;241m*\u001b[39m\u001b[38;5;241m*\u001b[39m\u001b[38;5;241m2\u001b[39m) \u001b[38;5;241m+\u001b[39m \u001b[43m(\u001b[49m\u001b[38;5;241;43m1\u001b[39;49m\u001b[43m \u001b[49m\u001b[38;5;241;43m/\u001b[39;49m\u001b[43m \u001b[49m\u001b[43ms\u001b[49m\u001b[38;5;241;43m*\u001b[39;49m\u001b[38;5;241;43m*\u001b[39;49m\u001b[38;5;241;43m2\u001b[39;49m\u001b[43m)\u001b[49m\u001b[43m \u001b[49m\u001b[38;5;241;43m*\u001b[39;49m\u001b[43m \u001b[49m\u001b[43m(\u001b[49m\u001b[43mEt2\u001b[49m\u001b[43m \u001b[49m\u001b[38;5;241;43m-\u001b[39;49m\u001b[43m \u001b[49m\u001b[38;5;241;43m2\u001b[39;49m\u001b[43m \u001b[49m\u001b[38;5;241;43m*\u001b[39;49m\u001b[43m \u001b[49m\u001b[43mx\u001b[49m\u001b[43m \u001b[49m\u001b[38;5;241;43m*\u001b[39;49m\u001b[43m \u001b[49m\u001b[43mEt\u001b[49m\u001b[43m \u001b[49m\u001b[38;5;241;43m+\u001b[39;49m\u001b[43m \u001b[49m\u001b[43mx\u001b[49m\u001b[38;5;241;43m*\u001b[39;49m\u001b[38;5;241;43m*\u001b[39;49m\u001b[38;5;241;43m2\u001b[39;49m\u001b[43m)\u001b[49m)\n",
      "\u001b[1;31mValueError\u001b[0m: operands could not be broadcast together with shapes (40,) (50,) "
     ]
    }
   ],
   "source": [
    "-0.5 * np.sum(np.log(2 * np.pi * s**2) + (1 / s**2) * (Et2 - 2 * x * Et + x**2))"
   ]
  },
  {
   "cell_type": "code",
   "execution_count": null,
   "metadata": {},
   "outputs": [
    {
     "name": "stdout",
     "output_type": "stream",
     "text": [
      "[0.00253063 0.00253063 0.00253063 0.00253063 0.00253063 0.00253063\n",
      " 0.00253063 0.00253063 0.00253063 0.00253063 0.00253063 0.00253063\n",
      " 0.00253063 0.00253063 0.00253063 0.00253063 0.00253063 0.00253063\n",
      " 0.00253063 0.00253063 0.00253063 0.00253063 0.00253063 0.00253063\n",
      " 0.00253063 0.00253063 0.00253063 0.00253063 0.00253063 0.00253063\n",
      " 0.00253063 0.00253063 0.00253063 0.00253063 0.00253063 0.00253063\n",
      " 0.00253063 0.00253063 0.00253063 0.00253063 0.00253063 0.00253063\n",
      " 0.00253063 0.00253063 0.00253063 0.00253063 0.00253063 0.00253063\n",
      " 0.00253063 0.00253063]\n"
     ]
    },
    {
     "data": {
      "image/png": "[encoded data removed]",
      "text/plain": [
       "<Figure size 640x480 with 1 Axes>"
      ]
     },
     "metadata": {},
     "output_type": "display_data"
    }
   ],
   "source": [
    "optimal_pi\n",
    "log_pi=  np.tile(np.log(optimal_pi+1e-32), (betahat.shape[0],1))\n",
    "        \n",
    "out= posterior_mean_exp(betahat= betahat ,\n",
    "                        sebetahat=sebetahat ,\n",
    "                                 log_pi=log_pi , \n",
    "                                 scale=scale)\n",
    "plt.scatter(out.post_mean, lhat)\n",
    "print(out.post_mean)\n"
   ]
  },
  {
   "cell_type": "code",
   "execution_count": null,
   "metadata": {},
   "outputs": [
    {
     "name": "stdout",
     "output_type": "stream",
     "text": [
      "[6.5913036e-05 6.5913036e-05 6.5913036e-05 6.5913036e-05 6.5913036e-05\n",
      " 6.5913036e-05 6.5913036e-05 6.5913036e-05 6.5913036e-05 6.5913036e-05\n",
      " 6.5913036e-05 6.5913036e-05 6.5913036e-05 6.5913036e-05 6.5913036e-05\n",
      " 6.5913036e-05 6.5913036e-05 6.5913036e-05 6.5913036e-05 6.5913036e-05\n",
      " 6.5913036e-05 6.5913036e-05 6.5913036e-05 6.5913036e-05 6.5913036e-05\n",
      " 6.5913036e-05 6.5913036e-05 6.5913036e-05 6.5913036e-05 6.5913036e-05\n",
      " 6.5913036e-05 6.5913036e-05 6.5913036e-05 6.5913036e-05 6.5913036e-05\n",
      " 6.5913036e-05 6.5913036e-05 6.5913036e-05 6.5913036e-05 6.5913036e-05\n",
      " 6.5913036e-05 6.5913036e-05 6.5913036e-05 6.5913036e-05 6.5913036e-05\n",
      " 6.5913036e-05 6.5913036e-05 6.5913036e-05 6.5913036e-05 6.5913036e-05]\n"
     ]
    }
   ],
   "source": [
    "print(  np.sum(np.exp(L)*optimal_pi, axis=1) )"
   ]
  },
  {
   "cell_type": "code",
   "execution_count": null,
   "metadata": {},
   "outputs": [
    {
     "name": "stdout",
     "output_type": "stream",
     "text": [
      "[[6.59127765e-05 2.11791704e-10 4.24984447e-11 5.00118907e-12\n",
      "  2.36863436e-13 2.73360663e-15 4.49813996e-18 7.17432045e-22]\n",
      " [6.59127765e-05 2.11791704e-10 4.24984447e-11 5.00118907e-12\n",
      "  2.36863436e-13 2.73360663e-15 4.49813996e-18 7.17432045e-22]\n",
      " [6.59127765e-05 2.11791704e-10 4.24984447e-11 5.00118907e-12\n",
      "  2.36863436e-13 2.73360663e-15 4.49813996e-18 7.17432045e-22]\n",
      " [6.59127765e-05 2.11791704e-10 4.24984447e-11 5.00118907e-12\n",
      "  2.36863436e-13 2.73360663e-15 4.49813996e-18 7.17432045e-22]\n",
      " [6.59127765e-05 2.11791704e-10 4.24984447e-11 5.00118907e-12\n",
      "  2.36863436e-13 2.73360663e-15 4.49813996e-18 7.17432045e-22]\n",
      " [6.59127765e-05 2.11791704e-10 4.24984447e-11 5.00118907e-12\n",
      "  2.36863436e-13 2.73360663e-15 4.49813996e-18 7.17432045e-22]\n",
      " [6.59127765e-05 2.11791704e-10 4.24984447e-11 5.00118907e-12\n",
      "  2.36863436e-13 2.73360663e-15 4.49813996e-18 7.17432045e-22]\n",
      " [6.59127765e-05 2.11791704e-10 4.24984447e-11 5.00118907e-12\n",
      "  2.36863436e-13 2.73360663e-15 4.49813996e-18 7.17432045e-22]\n",
      " [6.59127765e-05 2.11791704e-10 4.24984447e-11 5.00118907e-12\n",
      "  2.36863436e-13 2.73360663e-15 4.49813996e-18 7.17432045e-22]\n",
      " [6.59127765e-05 2.11791704e-10 4.24984447e-11 5.00118907e-12\n",
      "  2.36863436e-13 2.73360663e-15 4.49813996e-18 7.17432045e-22]\n",
      " [6.59127765e-05 2.11791704e-10 4.24984447e-11 5.00118907e-12\n",
      "  2.36863436e-13 2.73360663e-15 4.49813996e-18 7.17432045e-22]\n",
      " [6.59127765e-05 2.11791704e-10 4.24984447e-11 5.00118907e-12\n",
      "  2.36863436e-13 2.73360663e-15 4.49813996e-18 7.17432045e-22]\n",
      " [6.59127765e-05 2.11791704e-10 4.24984447e-11 5.00118907e-12\n",
      "  2.36863436e-13 2.73360663e-15 4.49813996e-18 7.17432045e-22]\n",
      " [6.59127765e-05 2.11791704e-10 4.24984447e-11 5.00118907e-12\n",
      "  2.36863436e-13 2.73360663e-15 4.49813996e-18 7.17432045e-22]\n",
      " [6.59127765e-05 2.11791704e-10 4.24984447e-11 5.00118907e-12\n",
      "  2.36863436e-13 2.73360663e-15 4.49813996e-18 7.17432045e-22]\n",
      " [6.59127765e-05 2.11791704e-10 4.24984447e-11 5.00118907e-12\n",
      "  2.36863436e-13 2.73360663e-15 4.49813996e-18 7.17432045e-22]\n",
      " [6.59127765e-05 2.11791704e-10 4.24984447e-11 5.00118907e-12\n",
      "  2.36863436e-13 2.73360663e-15 4.49813996e-18 7.17432045e-22]\n",
      " [6.59127765e-05 2.11791704e-10 4.24984447e-11 5.00118907e-12\n",
      "  2.36863436e-13 2.73360663e-15 4.49813996e-18 7.17432045e-22]\n",
      " [6.59127765e-05 2.11791704e-10 4.24984447e-11 5.00118907e-12\n",
      "  2.36863436e-13 2.73360663e-15 4.49813996e-18 7.17432045e-22]\n",
      " [6.59127765e-05 2.11791704e-10 4.24984447e-11 5.00118907e-12\n",
      "  2.36863436e-13 2.73360663e-15 4.49813996e-18 7.17432045e-22]\n",
      " [6.59127765e-05 2.11791704e-10 4.24984447e-11 5.00118907e-12\n",
      "  2.36863436e-13 2.73360663e-15 4.49813996e-18 7.17432045e-22]\n",
      " [6.59127765e-05 2.11791704e-10 4.24984447e-11 5.00118907e-12\n",
      "  2.36863436e-13 2.73360663e-15 4.49813996e-18 7.17432045e-22]\n",
      " [6.59127765e-05 2.11791704e-10 4.24984447e-11 5.00118907e-12\n",
      "  2.36863436e-13 2.73360663e-15 4.49813996e-18 7.17432045e-22]\n",
      " [6.59127765e-05 2.11791704e-10 4.24984447e-11 5.00118907e-12\n",
      "  2.36863436e-13 2.73360663e-15 4.49813996e-18 7.17432045e-22]\n",
      " [6.59127765e-05 2.11791704e-10 4.24984447e-11 5.00118907e-12\n",
      "  2.36863436e-13 2.73360663e-15 4.49813996e-18 7.17432045e-22]\n",
      " [6.59127765e-05 2.11791704e-10 4.24984447e-11 5.00118907e-12\n",
      "  2.36863436e-13 2.73360663e-15 4.49813996e-18 7.17432045e-22]\n",
      " [6.59127765e-05 2.11791704e-10 4.24984447e-11 5.00118907e-12\n",
      "  2.36863436e-13 2.73360663e-15 4.49813996e-18 7.17432045e-22]\n",
      " [6.59127765e-05 2.11791704e-10 4.24984447e-11 5.00118907e-12\n",
      "  2.36863436e-13 2.73360663e-15 4.49813996e-18 7.17432045e-22]\n",
      " [6.59127765e-05 2.11791704e-10 4.24984447e-11 5.00118907e-12\n",
      "  2.36863436e-13 2.73360663e-15 4.49813996e-18 7.17432045e-22]\n",
      " [6.59127765e-05 2.11791704e-10 4.24984447e-11 5.00118907e-12\n",
      "  2.36863436e-13 2.73360663e-15 4.49813996e-18 7.17432045e-22]\n",
      " [6.59127765e-05 2.11791704e-10 4.24984447e-11 5.00118907e-12\n",
      "  2.36863436e-13 2.73360663e-15 4.49813996e-18 7.17432045e-22]\n",
      " [6.59127765e-05 2.11791704e-10 4.24984447e-11 5.00118907e-12\n",
      "  2.36863436e-13 2.73360663e-15 4.49813996e-18 7.17432045e-22]\n",
      " [6.59127765e-05 2.11791704e-10 4.24984447e-11 5.00118907e-12\n",
      "  2.36863436e-13 2.73360663e-15 4.49813996e-18 7.17432045e-22]\n",
      " [6.59127765e-05 2.11791704e-10 4.24984447e-11 5.00118907e-12\n",
      "  2.36863436e-13 2.73360663e-15 4.49813996e-18 7.17432045e-22]\n",
      " [6.59127765e-05 2.11791704e-10 4.24984447e-11 5.00118907e-12\n",
      "  2.36863436e-13 2.73360663e-15 4.49813996e-18 7.17432045e-22]\n",
      " [6.59127765e-05 2.11791704e-10 4.24984447e-11 5.00118907e-12\n",
      "  2.36863436e-13 2.73360663e-15 4.49813996e-18 7.17432045e-22]\n",
      " [6.59127765e-05 2.11791704e-10 4.24984447e-11 5.00118907e-12\n",
      "  2.36863436e-13 2.73360663e-15 4.49813996e-18 7.17432045e-22]\n",
      " [6.59127765e-05 2.11791704e-10 4.24984447e-11 5.00118907e-12\n",
      "  2.36863436e-13 2.73360663e-15 4.49813996e-18 7.17432045e-22]\n",
      " [6.59127765e-05 2.11791704e-10 4.24984447e-11 5.00118907e-12\n",
      "  2.36863436e-13 2.73360663e-15 4.49813996e-18 7.17432045e-22]\n",
      " [6.59127765e-05 2.11791704e-10 4.24984447e-11 5.00118907e-12\n",
      "  2.36863436e-13 2.73360663e-15 4.49813996e-18 7.17432045e-22]\n",
      " [6.59127765e-05 2.11791704e-10 4.24984447e-11 5.00118907e-12\n",
      "  2.36863436e-13 2.73360663e-15 4.49813996e-18 7.17432045e-22]\n",
      " [6.59127765e-05 2.11791704e-10 4.24984447e-11 5.00118907e-12\n",
      "  2.36863436e-13 2.73360663e-15 4.49813996e-18 7.17432045e-22]\n",
      " [6.59127765e-05 2.11791704e-10 4.24984447e-11 5.00118907e-12\n",
      "  2.36863436e-13 2.73360663e-15 4.49813996e-18 7.17432045e-22]\n",
      " [6.59127765e-05 2.11791704e-10 4.24984447e-11 5.00118907e-12\n",
      "  2.36863436e-13 2.73360663e-15 4.49813996e-18 7.17432045e-22]\n",
      " [6.59127765e-05 2.11791704e-10 4.24984447e-11 5.00118907e-12\n",
      "  2.36863436e-13 2.73360663e-15 4.49813996e-18 7.17432045e-22]\n",
      " [6.59127765e-05 2.11791704e-10 4.24984447e-11 5.00118907e-12\n",
      "  2.36863436e-13 2.73360663e-15 4.49813996e-18 7.17432045e-22]\n",
      " [6.59127765e-05 2.11791704e-10 4.24984447e-11 5.00118907e-12\n",
      "  2.36863436e-13 2.73360663e-15 4.49813996e-18 7.17432045e-22]\n",
      " [6.59127765e-05 2.11791704e-10 4.24984447e-11 5.00118907e-12\n",
      "  2.36863436e-13 2.73360663e-15 4.49813996e-18 7.17432045e-22]\n",
      " [6.59127765e-05 2.11791704e-10 4.24984447e-11 5.00118907e-12\n",
      "  2.36863436e-13 2.73360663e-15 4.49813996e-18 7.17432045e-22]\n",
      " [6.59127765e-05 2.11791704e-10 4.24984447e-11 5.00118907e-12\n",
      "  2.36863436e-13 2.73360663e-15 4.49813996e-18 7.17432045e-22]]\n"
     ]
    }
   ],
   "source": [
    "L= get_data_loglik_exp(betahat=betahat ,\n",
    "                                 sebetahat=sebetahat , \n",
    "                                 scale=scale)\n",
    "print( np.exp(L)*optimal_pi )"
   ]
  },
  {
   "cell_type": "code",
   "execution_count": null,
   "metadata": {},
   "outputs": [
    {
     "name": "stdout",
     "output_type": "stream",
     "text": [
      "[[-9.62717427 -9.63693546 -9.64626062 -9.66379588 -9.69533353 -9.74859295\n",
      "  -9.8318191  -9.95146753]\n",
      " [-9.62717427 -9.63693546 -9.64626062 -9.66379588 -9.69533353 -9.74859295\n",
      "  -9.8318191  -9.95146753]\n",
      " [-9.62717427 -9.63693546 -9.64626062 -9.66379588 -9.69533353 -9.74859295\n",
      "  -9.8318191  -9.95146753]\n",
      " [-9.62717427 -9.63693546 -9.64626062 -9.66379588 -9.69533353 -9.74859295\n",
      "  -9.8318191  -9.95146753]\n",
      " [-9.62717427 -9.63693546 -9.64626062 -9.66379588 -9.69533353 -9.74859295\n",
      "  -9.8318191  -9.95146753]\n",
      " [-9.62717427 -9.63693546 -9.64626062 -9.66379588 -9.69533353 -9.74859295\n",
      "  -9.8318191  -9.95146753]\n",
      " [-9.62717427 -9.63693546 -9.64626062 -9.66379588 -9.69533353 -9.74859295\n",
      "  -9.8318191  -9.95146753]\n",
      " [-9.62717427 -9.63693546 -9.64626062 -9.66379588 -9.69533353 -9.74859295\n",
      "  -9.8318191  -9.95146753]\n",
      " [-9.62717427 -9.63693546 -9.64626062 -9.66379588 -9.69533353 -9.74859295\n",
      "  -9.8318191  -9.95146753]\n",
      " [-9.62717427 -9.63693546 -9.64626062 -9.66379588 -9.69533353 -9.74859295\n",
      "  -9.8318191  -9.95146753]\n",
      " [-9.62717427 -9.63693546 -9.64626062 -9.66379588 -9.69533353 -9.74859295\n",
      "  -9.8318191  -9.95146753]\n",
      " [-9.62717427 -9.63693546 -9.64626062 -9.66379588 -9.69533353 -9.74859295\n",
      "  -9.8318191  -9.95146753]\n",
      " [-9.62717427 -9.63693546 -9.64626062 -9.66379588 -9.69533353 -9.74859295\n",
      "  -9.8318191  -9.95146753]\n",
      " [-9.62717427 -9.63693546 -9.64626062 -9.66379588 -9.69533353 -9.74859295\n",
      "  -9.8318191  -9.95146753]\n",
      " [-9.62717427 -9.63693546 -9.64626062 -9.66379588 -9.69533353 -9.74859295\n",
      "  -9.8318191  -9.95146753]\n",
      " [-9.62717427 -9.63693546 -9.64626062 -9.66379588 -9.69533353 -9.74859295\n",
      "  -9.8318191  -9.95146753]\n",
      " [-9.62717427 -9.63693546 -9.64626062 -9.66379588 -9.69533353 -9.74859295\n",
      "  -9.8318191  -9.95146753]\n",
      " [-9.62717427 -9.63693546 -9.64626062 -9.66379588 -9.69533353 -9.74859295\n",
      "  -9.8318191  -9.95146753]\n",
      " [-9.62717427 -9.63693546 -9.64626062 -9.66379588 -9.69533353 -9.74859295\n",
      "  -9.8318191  -9.95146753]\n",
      " [-9.62717427 -9.63693546 -9.64626062 -9.66379588 -9.69533353 -9.74859295\n",
      "  -9.8318191  -9.95146753]\n",
      " [-9.62717427 -9.63693546 -9.64626062 -9.66379588 -9.69533353 -9.74859295\n",
      "  -9.8318191  -9.95146753]\n",
      " [-9.62717427 -9.63693546 -9.64626062 -9.66379588 -9.69533353 -9.74859295\n",
      "  -9.8318191  -9.95146753]\n",
      " [-9.62717427 -9.63693546 -9.64626062 -9.66379588 -9.69533353 -9.74859295\n",
      "  -9.8318191  -9.95146753]\n",
      " [-9.62717427 -9.63693546 -9.64626062 -9.66379588 -9.69533353 -9.74859295\n",
      "  -9.8318191  -9.95146753]\n",
      " [-9.62717427 -9.63693546 -9.64626062 -9.66379588 -9.69533353 -9.74859295\n",
      "  -9.8318191  -9.95146753]\n",
      " [-9.62717427 -9.63693546 -9.64626062 -9.66379588 -9.69533353 -9.74859295\n",
      "  -9.8318191  -9.95146753]\n",
      " [-9.62717427 -9.63693546 -9.64626062 -9.66379588 -9.69533353 -9.74859295\n",
      "  -9.8318191  -9.95146753]\n",
      " [-9.62717427 -9.63693546 -9.64626062 -9.66379588 -9.69533353 -9.74859295\n",
      "  -9.8318191  -9.95146753]\n",
      " [-9.62717427 -9.63693546 -9.64626062 -9.66379588 -9.69533353 -9.74859295\n",
      "  -9.8318191  -9.95146753]\n",
      " [-9.62717427 -9.63693546 -9.64626062 -9.66379588 -9.69533353 -9.74859295\n",
      "  -9.8318191  -9.95146753]\n",
      " [-9.62717427 -9.63693546 -9.64626062 -9.66379588 -9.69533353 -9.74859295\n",
      "  -9.8318191  -9.95146753]\n",
      " [-9.62717427 -9.63693546 -9.64626062 -9.66379588 -9.69533353 -9.74859295\n",
      "  -9.8318191  -9.95146753]\n",
      " [-9.62717427 -9.63693546 -9.64626062 -9.66379588 -9.69533353 -9.74859295\n",
      "  -9.8318191  -9.95146753]\n",
      " [-9.62717427 -9.63693546 -9.64626062 -9.66379588 -9.69533353 -9.74859295\n",
      "  -9.8318191  -9.95146753]\n",
      " [-9.62717427 -9.63693546 -9.64626062 -9.66379588 -9.69533353 -9.74859295\n",
      "  -9.8318191  -9.95146753]\n",
      " [-9.62717427 -9.63693546 -9.64626062 -9.66379588 -9.69533353 -9.74859295\n",
      "  -9.8318191  -9.95146753]\n",
      " [-9.62717427 -9.63693546 -9.64626062 -9.66379588 -9.69533353 -9.74859295\n",
      "  -9.8318191  -9.95146753]\n",
      " [-9.62717427 -9.63693546 -9.64626062 -9.66379588 -9.69533353 -9.74859295\n",
      "  -9.8318191  -9.95146753]\n",
      " [-9.62717427 -9.63693546 -9.64626062 -9.66379588 -9.69533353 -9.74859295\n",
      "  -9.8318191  -9.95146753]\n",
      " [-9.62717427 -9.63693546 -9.64626062 -9.66379588 -9.69533353 -9.74859295\n",
      "  -9.8318191  -9.95146753]\n",
      " [-9.62717427 -9.63693546 -9.64626062 -9.66379588 -9.69533353 -9.74859295\n",
      "  -9.8318191  -9.95146753]\n",
      " [-9.62717427 -9.63693546 -9.64626062 -9.66379588 -9.69533353 -9.74859295\n",
      "  -9.8318191  -9.95146753]\n",
      " [-9.62717427 -9.63693546 -9.64626062 -9.66379588 -9.69533353 -9.74859295\n",
      "  -9.8318191  -9.95146753]\n",
      " [-9.62717427 -9.63693546 -9.64626062 -9.66379588 -9.69533353 -9.74859295\n",
      "  -9.8318191  -9.95146753]\n",
      " [-9.62717427 -9.63693546 -9.64626062 -9.66379588 -9.69533353 -9.74859295\n",
      "  -9.8318191  -9.95146753]\n",
      " [-9.62717427 -9.63693546 -9.64626062 -9.66379588 -9.69533353 -9.74859295\n",
      "  -9.8318191  -9.95146753]\n",
      " [-9.62717427 -9.63693546 -9.64626062 -9.66379588 -9.69533353 -9.74859295\n",
      "  -9.8318191  -9.95146753]\n",
      " [-9.62717427 -9.63693546 -9.64626062 -9.66379588 -9.69533353 -9.74859295\n",
      "  -9.8318191  -9.95146753]\n",
      " [-9.62717427 -9.63693546 -9.64626062 -9.66379588 -9.69533353 -9.74859295\n",
      "  -9.8318191  -9.95146753]\n",
      " [-9.62717427 -9.63693546 -9.64626062 -9.66379588 -9.69533353 -9.74859295\n",
      "  -9.8318191  -9.95146753]]\n",
      "[[-9.62717427 -9.63693546 -9.64626062 -9.66379588 -9.69533353 -9.74859295\n",
      "  -9.8318191  -9.95146753]\n",
      " [-9.62717427 -9.63693546 -9.64626062 -9.66379588 -9.69533353 -9.74859295\n",
      "  -9.8318191  -9.95146753]\n",
      " [-9.62717427 -9.63693546 -9.64626062 -9.66379588 -9.69533353 -9.74859295\n",
      "  -9.8318191  -9.95146753]\n",
      " [-9.62717427 -9.63693546 -9.64626062 -9.66379588 -9.69533353 -9.74859295\n",
      "  -9.8318191  -9.95146753]\n",
      " [-9.62717427 -9.63693546 -9.64626062 -9.66379588 -9.69533353 -9.74859295\n",
      "  -9.8318191  -9.95146753]\n",
      " [-9.62717427 -9.63693546 -9.64626062 -9.66379588 -9.69533353 -9.74859295\n",
      "  -9.8318191  -9.95146753]\n",
      " [-9.62717427 -9.63693546 -9.64626062 -9.66379588 -9.69533353 -9.74859295\n",
      "  -9.8318191  -9.95146753]\n",
      " [-9.62717427 -9.63693546 -9.64626062 -9.66379588 -9.69533353 -9.74859295\n",
      "  -9.8318191  -9.95146753]\n",
      " [-9.62717427 -9.63693546 -9.64626062 -9.66379588 -9.69533353 -9.74859295\n",
      "  -9.8318191  -9.95146753]\n",
      " [-9.62717427 -9.63693546 -9.64626062 -9.66379588 -9.69533353 -9.74859295\n",
      "  -9.8318191  -9.95146753]\n",
      " [-9.62717427 -9.63693546 -9.64626062 -9.66379588 -9.69533353 -9.74859295\n",
      "  -9.8318191  -9.95146753]\n",
      " [-9.62717427 -9.63693546 -9.64626062 -9.66379588 -9.69533353 -9.74859295\n",
      "  -9.8318191  -9.95146753]\n",
      " [-9.62717427 -9.63693546 -9.64626062 -9.66379588 -9.69533353 -9.74859295\n",
      "  -9.8318191  -9.95146753]\n",
      " [-9.62717427 -9.63693546 -9.64626062 -9.66379588 -9.69533353 -9.74859295\n",
      "  -9.8318191  -9.95146753]\n",
      " [-9.62717427 -9.63693546 -9.64626062 -9.66379588 -9.69533353 -9.74859295\n",
      "  -9.8318191  -9.95146753]\n",
      " [-9.62717427 -9.63693546 -9.64626062 -9.66379588 -9.69533353 -9.74859295\n",
      "  -9.8318191  -9.95146753]\n",
      " [-9.62717427 -9.63693546 -9.64626062 -9.66379588 -9.69533353 -9.74859295\n",
      "  -9.8318191  -9.95146753]\n",
      " [-9.62717427 -9.63693546 -9.64626062 -9.66379588 -9.69533353 -9.74859295\n",
      "  -9.8318191  -9.95146753]\n",
      " [-9.62717427 -9.63693546 -9.64626062 -9.66379588 -9.69533353 -9.74859295\n",
      "  -9.8318191  -9.95146753]\n",
      " [-9.62717427 -9.63693546 -9.64626062 -9.66379588 -9.69533353 -9.74859295\n",
      "  -9.8318191  -9.95146753]\n",
      " [-9.62717427 -9.63693546 -9.64626062 -9.66379588 -9.69533353 -9.74859295\n",
      "  -9.8318191  -9.95146753]\n",
      " [-9.62717427 -9.63693546 -9.64626062 -9.66379588 -9.69533353 -9.74859295\n",
      "  -9.8318191  -9.95146753]\n",
      " [-9.62717427 -9.63693546 -9.64626062 -9.66379588 -9.69533353 -9.74859295\n",
      "  -9.8318191  -9.95146753]\n",
      " [-9.62717427 -9.63693546 -9.64626062 -9.66379588 -9.69533353 -9.74859295\n",
      "  -9.8318191  -9.95146753]\n",
      " [-9.62717427 -9.63693546 -9.64626062 -9.66379588 -9.69533353 -9.74859295\n",
      "  -9.8318191  -9.95146753]\n",
      " [-9.62717427 -9.63693546 -9.64626062 -9.66379588 -9.69533353 -9.74859295\n",
      "  -9.8318191  -9.95146753]\n",
      " [-9.62717427 -9.63693546 -9.64626062 -9.66379588 -9.69533353 -9.74859295\n",
      "  -9.8318191  -9.95146753]\n",
      " [-9.62717427 -9.63693546 -9.64626062 -9.66379588 -9.69533353 -9.74859295\n",
      "  -9.8318191  -9.95146753]\n",
      " [-9.62717427 -9.63693546 -9.64626062 -9.66379588 -9.69533353 -9.74859295\n",
      "  -9.8318191  -9.95146753]\n",
      " [-9.62717427 -9.63693546 -9.64626062 -9.66379588 -9.69533353 -9.74859295\n",
      "  -9.8318191  -9.95146753]\n",
      " [-9.62717427 -9.63693546 -9.64626062 -9.66379588 -9.69533353 -9.74859295\n",
      "  -9.8318191  -9.95146753]\n",
      " [-9.62717427 -9.63693546 -9.64626062 -9.66379588 -9.69533353 -9.74859295\n",
      "  -9.8318191  -9.95146753]\n",
      " [-9.62717427 -9.63693546 -9.64626062 -9.66379588 -9.69533353 -9.74859295\n",
      "  -9.8318191  -9.95146753]\n",
      " [-9.62717427 -9.63693546 -9.64626062 -9.66379588 -9.69533353 -9.74859295\n",
      "  -9.8318191  -9.95146753]\n",
      " [-9.62717427 -9.63693546 -9.64626062 -9.66379588 -9.69533353 -9.74859295\n",
      "  -9.8318191  -9.95146753]\n",
      " [-9.62717427 -9.63693546 -9.64626062 -9.66379588 -9.69533353 -9.74859295\n",
      "  -9.8318191  -9.95146753]\n",
      " [-9.62717427 -9.63693546 -9.64626062 -9.66379588 -9.69533353 -9.74859295\n",
      "  -9.8318191  -9.95146753]\n",
      " [-9.62717427 -9.63693546 -9.64626062 -9.66379588 -9.69533353 -9.74859295\n",
      "  -9.8318191  -9.95146753]\n",
      " [-9.62717427 -9.63693546 -9.64626062 -9.66379588 -9.69533353 -9.74859295\n",
      "  -9.8318191  -9.95146753]\n",
      " [-9.62717427 -9.63693546 -9.64626062 -9.66379588 -9.69533353 -9.74859295\n",
      "  -9.8318191  -9.95146753]\n",
      " [-9.62717427 -9.63693546 -9.64626062 -9.66379588 -9.69533353 -9.74859295\n",
      "  -9.8318191  -9.95146753]\n",
      " [-9.62717427 -9.63693546 -9.64626062 -9.66379588 -9.69533353 -9.74859295\n",
      "  -9.8318191  -9.95146753]\n",
      " [-9.62717427 -9.63693546 -9.64626062 -9.66379588 -9.69533353 -9.74859295\n",
      "  -9.8318191  -9.95146753]\n",
      " [-9.62717427 -9.63693546 -9.64626062 -9.66379588 -9.69533353 -9.74859295\n",
      "  -9.8318191  -9.95146753]\n",
      " [-9.62717427 -9.63693546 -9.64626062 -9.66379588 -9.69533353 -9.74859295\n",
      "  -9.8318191  -9.95146753]\n",
      " [-9.62717427 -9.63693546 -9.64626062 -9.66379588 -9.69533353 -9.74859295\n",
      "  -9.8318191  -9.95146753]\n",
      " [-9.62717427 -9.63693546 -9.64626062 -9.66379588 -9.69533353 -9.74859295\n",
      "  -9.8318191  -9.95146753]\n",
      " [-9.62717427 -9.63693546 -9.64626062 -9.66379588 -9.69533353 -9.74859295\n",
      "  -9.8318191  -9.95146753]\n",
      " [-9.62717427 -9.63693546 -9.64626062 -9.66379588 -9.69533353 -9.74859295\n",
      "  -9.8318191  -9.95146753]\n",
      " [-9.62717427 -9.63693546 -9.64626062 -9.66379588 -9.69533353 -9.74859295\n",
      "  -9.8318191  -9.95146753]]\n"
     ]
    }
   ],
   "source": [
    "L= get_data_loglik_exp(betahat=betahat ,\n",
    "                                 sebetahat=sebetahat , \n",
    "                                 scale=scale)\n",
    "\n",
    "print(L)\n",
    "\n",
    "threshold_loglikelihood =  -300  # Example of a very small threshold\n",
    "L = np.maximum(L,  (threshold_loglikelihood))\n",
    "print(L)\n",
    "log_lik =    np.sum(np.log(np.sum(np.exp(L)*optimal_pi, axis=1)))"
   ]
  },
  {
   "cell_type": "code",
   "execution_count": null,
   "metadata": {},
   "outputs": [],
   "source": []
  },
  {
   "cell_type": "code",
   "execution_count": null,
   "metadata": {},
   "outputs": [
    {
     "data": {
      "text/plain": [
       "array([6.59130391e-05, 6.52727797e-05, 6.46669294e-05, 6.35428623e-05,\n",
       "       6.15701408e-05, 5.83767451e-05, 5.37149551e-05, 4.76576437e-05])"
      ]
     },
     "execution_count": 170,
     "metadata": {},
     "output_type": "execute_result"
    }
   ],
   "source": [
    "np.exp(L[1,]) "
   ]
  },
  {
   "cell_type": "code",
   "execution_count": null,
   "metadata": {},
   "outputs": [
    {
     "name": "stdout",
     "output_type": "stream",
     "text": [
      "[   0.          605.25527344  855.96021639 1210.51054687 1711.92043279\n",
      " 2421.02109375 3423.84086557 4842.0421875 ]\n",
      "0.0\n"
     ]
    },
    {
     "data": {
      "text/plain": [
       "array([-9.62717427, -9.63693546, -9.64626062, -9.66379588, -9.69533353,\n",
       "       -9.74859295, -9.8318191 , -9.95146753])"
      ]
     },
     "execution_count": 171,
     "metadata": {},
     "output_type": "execute_result"
    }
   ],
   "source": [
    "i=6\n",
    "print(scale)\n",
    "print(betahat[i]/sebetahat[i])\n",
    "convolved_logpdf_exp(betahat=betahat[i],\n",
    "                                         sebetahat=sebetahat[i],  \n",
    "                                         scale=scale)"
   ]
  }
 ],
 "metadata": {
  "kernelspec": {
   "display_name": "ml_env",
   "language": "python",
   "name": "python3"
  },
  "language_info": {
   "codemirror_mode": {
    "name": "ipython",
    "version": 3
   },
   "file_extension": ".py",
   "mimetype": "text/x-python",
   "name": "python",
   "nbconvert_exporter": "python",
   "pygments_lexer": "ipython3",
   "version": "3.10.8"
  }
 },
 "nbformat": 4,
 "nbformat_minor": 2
}
