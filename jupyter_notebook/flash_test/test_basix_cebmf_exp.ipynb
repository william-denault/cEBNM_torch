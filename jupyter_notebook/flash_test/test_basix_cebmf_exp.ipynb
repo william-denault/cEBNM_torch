{
 "cells": [
  {
   "cell_type": "code",
   "execution_count": 26,
   "metadata": {},
   "outputs": [
    {
     "name": "stdout",
     "output_type": "stream",
     "text": [
      "Rank-1 Matrix (Outer Product):\n",
      "[[0.0242816  0.08389746 0.39521006 ... 0.04770099 0.34259274 0.2150215 ]\n",
      " [0.03356222 0.11596371 0.5462624  ... 0.06593268 0.47353433 0.29720438]\n",
      " [0.01875232 0.06479276 0.30521485 ... 0.03683876 0.26457927 0.16605791]\n",
      " ...\n",
      " [0.00758681 0.02621384 0.12348377 ... 0.01490422 0.10704344 0.06718368]\n",
      " [0.03495449 0.12077428 0.56892321 ... 0.06866779 0.49317813 0.30953342]\n",
      " [0.02900429 0.1002152  0.47207696 ... 0.05697866 0.40922575 0.25684239]]\n",
      "\n",
      "Noisy Matrix (with Homoscedastic Noise):\n",
      "[[ 0.16574215  0.04071745  0.32385143 ... -0.02087727  0.24867756\n",
      "   0.28537576]\n",
      " [ 0.04446124  0.10182893  0.56725255 ...  0.11235994  0.57997429\n",
      "   0.52237355]\n",
      " [ 0.18908545  0.12724641  0.37245098 ... -0.04446706  0.17288064\n",
      "   0.08971608]\n",
      " ...\n",
      " [-0.15361889  0.09117477  0.11742586 ...  0.15984489  0.13671548\n",
      "   0.16245388]\n",
      " [ 0.02550279  0.28565683  0.36655569 ...  0.01513873  0.4916835\n",
      "   0.2431357 ]\n",
      " [-0.14759295  0.14979618  0.51131912 ...  0.01309027  0.33173456\n",
      "   0.27452023]]\n"
     ]
    }
   ],
   "source": [
    "import numpy as np \n",
    "# Parameters\n",
    "n, p = 50, 40  # Dimensions of the matrix\n",
    "noise_std = 0.1  # Standard deviation of the homoscedastic noise\n",
    "\n",
    "# Generate two random vectors\n",
    "u = np.random.rand(n)  # Vector of length n\n",
    "v = np.random.rand(p)  # Vector of length p\n",
    "\n",
    "# Create a rank-1 matrix as the outer product of u and v\n",
    "rank_1_matrix = np.outer(u, v)\n",
    "\n",
    "# Add homoscedastic Gaussian noise (constant variance across the matrix)\n",
    "noise = np.random.normal(0, noise_std, size=(n, p))\n",
    "noisy_matrix = rank_1_matrix + noise\n",
    "\n",
    "# Print the original and noisy matrix\n",
    "print(\"Rank-1 Matrix (Outer Product):\")\n",
    "print(rank_1_matrix)\n",
    "print(\"\\nNoisy Matrix (with Homoscedastic Noise):\")\n",
    "print(noisy_matrix)\n"
   ]
  },
  {
   "cell_type": "code",
   "execution_count": 27,
   "metadata": {},
   "outputs": [
    {
     "name": "stdout",
     "output_type": "stream",
     "text": [
      "[0.53427871 0.73848416 0.41261549 0.51999561 0.3547168  0.07234378\n",
      " 0.4888113  0.5142921  0.1021436  0.4083669  0.54598897 0.13187756\n",
      " 0.61637054 0.93780822 0.53735618 0.35762099 0.95088164 0.97597469\n",
      " 0.66882858 0.32845249 0.30289091 0.37548254 0.83918157 0.14413391\n",
      " 0.20705682 0.90569071 0.45196327 0.23818072 0.9918388  0.29717165\n",
      " 0.27373099 0.73686608 0.45215571 0.71318164 0.80612911 0.93701423\n",
      " 0.32272246 0.23916189 0.78604238 0.79534504 0.62846009 0.20169324\n",
      " 0.46462365 0.51006702 0.39413113 0.30898263 0.56816153 0.16693591\n",
      " 0.76911897 0.63819393]\n"
     ]
    }
   ],
   "source": [
    "print(u)"
   ]
  },
  {
   "cell_type": "code",
   "execution_count": 28,
   "metadata": {},
   "outputs": [],
   "source": [
    "import sys\n",
    "import os\n",
    "import matplotlib.pyplot as plt\n",
    "\n",
    "# Add the path to utils.py\n",
    "sys.path.append(r\"C:\\Document\\Serieux\\Travail\\python_work\\cEBNM_torch\\py\")\n",
    "from cEBMF import *"
   ]
  },
  {
   "cell_type": "code",
   "execution_count": 29,
   "metadata": {},
   "outputs": [],
   "source": [
    "mycebmf0= cEBMF(data    = noisy_matrix,  K=10)\n",
    "mycebmf0.init_LF( )"
   ]
  },
  {
   "cell_type": "code",
   "execution_count": 30,
   "metadata": {},
   "outputs": [
    {
     "data": {
      "text/plain": [
       "array([[ 1.87948775e+00,  2.36745551e-02,  9.47682038e-02,\n",
       "         1.87488928e-01, -7.25264773e-02, -1.73128203e-01,\n",
       "        -2.01173559e-01, -1.71337545e-01, -2.12459750e-02,\n",
       "        -2.04375654e-01],\n",
       "       [ 2.66804004e+00, -3.33574601e-02, -1.95823625e-01,\n",
       "         6.21587746e-02, -1.38747275e-01,  2.26342440e-01,\n",
       "         1.23956114e-01, -6.04430065e-02, -1.88789099e-01,\n",
       "        -5.68806380e-03],\n",
       "       [ 1.58786893e+00,  1.09967045e-01,  4.86696362e-02,\n",
       "        -5.87234013e-02,  2.67378449e-01, -1.15736522e-01,\n",
       "        -1.05696827e-01, -7.62775317e-02,  4.57513370e-02,\n",
       "         1.52061269e-01],\n",
       "       [ 1.95848000e+00, -2.32949629e-01,  9.16258469e-02,\n",
       "        -2.92981770e-02, -1.52811840e-01,  8.71842057e-02,\n",
       "         1.31544724e-01,  4.98251198e-03,  3.91680002e-02,\n",
       "         5.48802875e-02],\n",
       "       [ 1.24926698e+00,  1.79563209e-01,  2.47617047e-02,\n",
       "         1.23334192e-01, -6.70717061e-02,  8.66815746e-02,\n",
       "        -5.07008508e-02,  1.48015484e-01,  1.66639592e-03,\n",
       "        -7.35585243e-02],\n",
       "       [ 2.07140148e-01,  2.26249814e-01, -3.12592328e-01,\n",
       "         2.36442573e-02,  4.09790725e-02,  4.81247418e-02,\n",
       "        -2.03755111e-01,  1.10279776e-01,  5.57728298e-02,\n",
       "        -1.07767627e-01],\n",
       "       [ 1.93627620e+00,  1.81535646e-01,  2.25234777e-01,\n",
       "         1.39383569e-01,  2.29529869e-02, -2.29967117e-01,\n",
       "         9.27137583e-02, -1.64230004e-01,  1.07725702e-01,\n",
       "        -1.20980859e-01],\n",
       "       [ 1.81072450e+00, -6.34376183e-02, -3.06383401e-01,\n",
       "        -7.36056343e-02,  6.95559755e-02, -2.72998493e-02,\n",
       "         3.27669889e-01, -5.18931672e-02,  1.28939999e-02,\n",
       "        -1.29873186e-01],\n",
       "       [ 3.27147990e-01,  7.62363672e-02,  1.69780508e-01,\n",
       "        -7.72721395e-02,  2.29928002e-01, -1.20298505e-01,\n",
       "         5.80881163e-02,  4.65528928e-02, -2.14266274e-02,\n",
       "        -4.62092943e-02],\n",
       "       [ 1.38542366e+00,  1.68305427e-01, -1.09794840e-01,\n",
       "         1.27652839e-01, -5.70412204e-02, -9.64780003e-02,\n",
       "         1.18846364e-01,  1.46201914e-02,  2.12760448e-01,\n",
       "         2.44480699e-01],\n",
       "       [ 2.07202268e+00,  1.53022692e-01,  9.32112262e-02,\n",
       "         1.30406797e-01, -9.38714817e-02, -1.00075215e-01,\n",
       "         3.94042991e-02, -2.18288422e-01,  5.27359620e-02,\n",
       "        -1.51854649e-01],\n",
       "       [ 4.21873033e-01, -2.99098700e-01,  1.75104171e-01,\n",
       "        -2.40160197e-01,  2.71605924e-02,  5.37326634e-02,\n",
       "        -4.47669923e-02,  5.30380532e-02, -3.69266160e-02,\n",
       "        -9.96837765e-02],\n",
       "       [ 2.27295351e+00,  1.55715585e-01, -1.94368422e-01,\n",
       "         2.58530118e-02, -5.22451550e-02,  7.77664483e-02,\n",
       "        -3.95925999e-01, -2.30028003e-01,  1.66137479e-02,\n",
       "         7.83682466e-02],\n",
       "       [ 3.53720140e+00, -3.36776316e-01,  2.38687798e-01,\n",
       "         3.52225900e-02, -1.83187708e-01, -1.15118988e-01,\n",
       "        -1.79309890e-01,  1.22813910e-01, -1.41371079e-02,\n",
       "         4.42213938e-02],\n",
       "       [ 1.95207357e+00, -2.53373245e-03,  1.31982207e-01,\n",
       "         5.81885390e-02, -2.16396645e-01, -6.96044192e-02,\n",
       "         3.96937765e-02,  1.67387053e-01, -8.23867619e-02,\n",
       "         1.67083457e-01],\n",
       "       [ 1.16347134e+00,  8.88267830e-02, -1.35206446e-01,\n",
       "         1.94307759e-01,  4.50385325e-02,  1.07384861e-01,\n",
       "         1.77346453e-01, -1.61110044e-01,  1.34637833e-01,\n",
       "        -3.82925309e-02],\n",
       "       [ 3.74167037e+00, -1.19051188e-01,  8.33728164e-02,\n",
       "         1.14555843e-01,  7.76008666e-02,  6.20327555e-02,\n",
       "        -1.82743758e-01,  1.09452695e-01,  4.42501605e-02,\n",
       "        -7.58579671e-02],\n",
       "       [ 3.44238830e+00,  3.52133363e-02,  2.05192491e-01,\n",
       "        -3.51381361e-01, -2.14053243e-02,  1.70139521e-02,\n",
       "         2.88050734e-02,  5.31932898e-02, -1.58918262e-01,\n",
       "        -1.05450571e-01],\n",
       "       [ 2.61954975e+00,  3.00088167e-01, -1.62996784e-01,\n",
       "        -4.41382118e-02, -2.04787657e-01, -4.69962433e-02,\n",
       "         2.74643842e-02, -2.67797597e-02, -9.25126970e-02,\n",
       "        -1.13457106e-01],\n",
       "       [ 1.20313668e+00,  1.31622097e-02, -2.90500253e-01,\n",
       "        -3.51400189e-02, -8.42015725e-03,  3.28768641e-01,\n",
       "        -3.53000872e-03,  1.13552205e-01,  1.89675972e-01,\n",
       "         1.67912051e-01],\n",
       "       [ 1.23075211e+00, -7.00197220e-02,  2.89565548e-02,\n",
       "        -3.40478607e-02,  4.44937021e-01, -3.81922759e-02,\n",
       "        -1.23674944e-01,  8.38293880e-02, -1.74809396e-01,\n",
       "        -1.16436787e-01],\n",
       "       [ 1.41266453e+00, -1.34171188e-01, -2.82830358e-01,\n",
       "        -7.49628991e-02, -2.04809196e-02, -9.39341169e-03,\n",
       "         3.80834714e-02,  1.66320801e-02,  7.20182285e-02,\n",
       "        -1.61792323e-01],\n",
       "       [ 3.13081408e+00,  2.42022470e-01,  2.37088706e-02,\n",
       "         2.72137206e-02,  6.66791797e-02, -1.09848492e-01,\n",
       "         1.22240514e-01,  1.30716309e-01,  2.44252697e-01,\n",
       "         5.67940399e-02],\n",
       "       [ 7.55642354e-01, -8.60482641e-03,  7.27017224e-02,\n",
       "        -9.34188813e-02,  2.40734980e-01,  4.05661799e-02,\n",
       "        -5.01432084e-02,  2.68750370e-01,  1.89556822e-01,\n",
       "        -1.47255033e-01],\n",
       "       [ 6.25862002e-01, -1.14375286e-01,  1.52490795e-01,\n",
       "        -1.52411640e-01,  1.52498484e-01, -1.42059177e-01,\n",
       "        -5.55822700e-02, -1.06057087e-02,  2.32026681e-01,\n",
       "         6.14062883e-02],\n",
       "       [ 3.27172732e+00, -1.16855934e-01,  1.40189165e-02,\n",
       "        -5.54495990e-01,  1.85432993e-02,  1.25326244e-02,\n",
       "         1.45657271e-01, -3.41883242e-01, -8.61898288e-02,\n",
       "        -6.32242858e-02],\n",
       "       [ 1.51545823e+00,  1.49008229e-01, -1.44843176e-01,\n",
       "        -2.63182253e-01, -1.64833710e-01, -1.43764392e-01,\n",
       "        -3.53379935e-01,  5.25234416e-02, -4.14074063e-02,\n",
       "         9.63785574e-02],\n",
       "       [ 1.02361333e+00,  4.32394117e-01,  1.57864898e-01,\n",
       "        -9.70407873e-02,  1.94618657e-01,  1.59649566e-01,\n",
       "        -3.47136818e-02, -2.92952001e-01, -7.86287431e-03,\n",
       "        -2.35960558e-02],\n",
       "       [ 3.80300164e+00, -4.97187153e-02,  1.32784382e-01,\n",
       "         1.65423036e-01, -6.96470365e-02,  1.69132575e-01,\n",
       "        -5.80044417e-03, -3.13768461e-02,  1.67248651e-01,\n",
       "         1.18984133e-02],\n",
       "       [ 1.21493912e+00, -1.57927513e-01, -3.42239253e-02,\n",
       "         2.88544670e-02,  2.45635614e-01, -1.20926350e-01,\n",
       "        -1.55635001e-02,  1.56665847e-01,  2.72966344e-02,\n",
       "        -1.97108030e-01],\n",
       "       [ 8.43381286e-01,  7.03924745e-02, -1.87258884e-01,\n",
       "         2.73434091e-02,  6.43721521e-02, -1.18920363e-01,\n",
       "        -7.48185739e-02,  1.04599372e-01, -1.80797219e-01,\n",
       "        -1.14365414e-01],\n",
       "       [ 2.90125442e+00,  7.06286654e-02, -2.35682607e-01,\n",
       "        -1.41605854e-01, -1.89409461e-02, -2.49401554e-01,\n",
       "         1.23628706e-01, -1.63996994e-01, -1.41464043e-02,\n",
       "         9.55377072e-02],\n",
       "       [ 1.68365669e+00, -9.26070288e-02, -8.42656419e-02,\n",
       "         2.01542765e-01,  2.56721377e-01, -1.09829111e-02,\n",
       "        -1.79340750e-01, -1.10452391e-01,  9.11822543e-02,\n",
       "         2.02396721e-01],\n",
       "       [ 2.74693537e+00, -4.31470238e-02,  2.54598200e-01,\n",
       "         2.03587770e-01,  3.99853140e-02, -1.34713352e-01,\n",
       "        -4.97389436e-02, -1.13877550e-01, -8.79170224e-02,\n",
       "         1.42809317e-01],\n",
       "       [ 2.92465782e+00,  4.62671697e-01,  1.26175314e-01,\n",
       "        -3.21544319e-01, -1.16695657e-01,  1.11818172e-01,\n",
       "         2.25688629e-02,  2.23625466e-01,  2.88390815e-01,\n",
       "        -2.60590054e-02],\n",
       "       [ 3.49497962e+00, -3.48903723e-02,  5.85125498e-02,\n",
       "         2.95334071e-01,  1.30895585e-01,  1.46642715e-01,\n",
       "         3.19827348e-01,  6.42211661e-02,  7.50733390e-02,\n",
       "        -1.02716081e-01],\n",
       "       [ 1.23320353e+00,  4.69567291e-02, -4.68377061e-02,\n",
       "        -7.65266865e-02,  1.78228959e-01, -1.07002616e-01,\n",
       "         1.20810553e-01, -3.05292718e-02, -1.09443225e-01,\n",
       "         4.64791842e-02],\n",
       "       [ 1.03327966e+00,  2.20530197e-01,  3.92884463e-02,\n",
       "        -6.02084026e-03, -3.73118296e-02, -6.30979165e-02,\n",
       "         3.34321037e-02,  1.44693971e-01, -3.02814599e-03,\n",
       "        -6.97969198e-02],\n",
       "       [ 2.73932648e+00,  1.70386098e-02,  8.07890370e-02,\n",
       "        -1.32358316e-02, -2.49158621e-01,  6.28762785e-03,\n",
       "        -1.11494303e-01,  3.27158645e-02,  3.23476307e-02,\n",
       "        -1.40508888e-02],\n",
       "       [ 2.85162234e+00, -1.92487240e-01,  3.48430239e-02,\n",
       "         9.45219621e-02,  2.74629742e-01,  2.12244123e-01,\n",
       "        -6.01034388e-02,  7.34181330e-02, -2.96211429e-02,\n",
       "         1.02102309e-01],\n",
       "       [ 2.33222747e+00,  9.10542458e-02, -1.74243543e-02,\n",
       "        -1.34910084e-02, -1.94515828e-02,  1.71651259e-01,\n",
       "        -1.36980727e-01,  2.05888346e-01, -2.16186225e-01,\n",
       "        -8.83078203e-02],\n",
       "       [ 7.92239368e-01, -4.91623133e-02, -3.30773830e-01,\n",
       "         1.93254188e-01,  1.06215850e-01, -1.09733894e-01,\n",
       "        -1.27048671e-01, -1.42601460e-01,  7.22593963e-02,\n",
       "        -3.20283532e-01],\n",
       "       [ 1.87270737e+00, -3.43965054e-01, -1.54963166e-01,\n",
       "         8.61541480e-02, -1.96758986e-01,  2.00149745e-01,\n",
       "         1.41199818e-02,  4.06705551e-02, -3.99881601e-03,\n",
       "        -1.71349689e-01],\n",
       "       [ 1.87084138e+00,  1.38634548e-01,  2.24404439e-01,\n",
       "         3.11235875e-01, -1.37911960e-01, -1.21966703e-02,\n",
       "         6.96670413e-02, -2.40387227e-02, -3.27236921e-01,\n",
       "        -1.61603428e-02],\n",
       "       [ 1.47506297e+00, -3.84979844e-02,  1.08801797e-01,\n",
       "        -1.84089188e-02,  1.80440083e-01,  3.64384055e-01,\n",
       "        -8.49282295e-02, -1.42821133e-01, -7.11120367e-02,\n",
       "         1.06336966e-01],\n",
       "       [ 1.11428523e+00, -4.60787773e-01, -6.25623669e-03,\n",
       "        -3.59183177e-02, -1.33392558e-01, -3.34802508e-01,\n",
       "         9.57207847e-03,  6.00251928e-02,  2.14089617e-01,\n",
       "        -5.77205271e-02],\n",
       "       [ 2.16533852e+00,  1.98387012e-01, -2.49038279e-01,\n",
       "         1.58682652e-02,  1.42186821e-01, -2.21011579e-01,\n",
       "         1.74350902e-01,  3.17502677e-01, -3.06217283e-01,\n",
       "         1.69146895e-01],\n",
       "       [ 6.77700043e-01,  3.96989211e-02, -1.19485542e-01,\n",
       "         1.79900944e-01,  1.23780183e-02, -2.02413678e-01,\n",
       "        -4.91530225e-02,  4.09902371e-02, -1.49274338e-02,\n",
       "         1.76575005e-01],\n",
       "       [ 2.59400129e+00, -2.64073521e-01, -2.92204261e-01,\n",
       "        -8.36600661e-02, -1.84806660e-02, -5.30729480e-02,\n",
       "        -1.48814857e-01, -8.22965279e-02,  3.77627858e-03,\n",
       "         1.24748103e-01],\n",
       "       [ 2.33088470e+00, -2.88746983e-01, -7.81203583e-02,\n",
       "        -7.02084154e-02,  6.58972487e-02, -9.89600550e-04,\n",
       "         1.74720138e-01, -6.03318065e-02, -7.33069852e-02,\n",
       "         2.27962226e-01]], dtype=float32)"
      ]
     },
     "execution_count": 30,
     "metadata": {},
     "output_type": "execute_result"
    }
   ],
   "source": [
    "mycebmf= cEBMF(data    = noisy_matrix,\n",
    "               prior_L = \"exp\",\n",
    "               prior_F = \"exp\",K=10)\n",
    "K=5\n",
    "# Perform udv_si transformation\n",
    "U, s, Vt = np.linalg.svd(noisy_matrix, full_matrices=False)\n",
    "\n",
    "U, s, Vt = np.linalg.svd(mycebmf.data, full_matrices=False)\n",
    "mycebmf.init_LF( )\n",
    "U\n",
    "mycebmf.L\n",
    " "
   ]
  },
  {
   "cell_type": "code",
   "execution_count": null,
   "metadata": {},
   "outputs": [],
   "source": []
  },
  {
   "cell_type": "code",
   "execution_count": null,
   "metadata": {},
   "outputs": [],
   "source": []
  },
  {
   "cell_type": "code",
   "execution_count": null,
   "metadata": {},
   "outputs": [],
   "source": []
  },
  {
   "cell_type": "code",
   "execution_count": 31,
   "metadata": {},
   "outputs": [
    {
     "data": {
      "text/plain": [
       "<matplotlib.collections.PathCollection at 0x1a5070148b0>"
      ]
     },
     "execution_count": 31,
     "metadata": {},
     "output_type": "execute_result"
    },
    {
     "data": {
      "image/png": "[encoded data removed]",
      "text/plain": [
       "<Figure size 640x480 with 1 Axes>"
      ]
     },
     "metadata": {},
     "output_type": "display_data"
    }
   ],
   "source": [
    "mycebmf.update_fitted_val()\n",
    "plt.scatter(mycebmf.Y_fit, noisy_matrix)\n",
    " \n",
    "plt.scatter(mycebmf.Y_fit, rank_1_matrix)\n",
    "\n",
    "plt.scatter(np.outer(mycebmf.L[:,0],mycebmf.F[:,0] ), rank_1_matrix) \n",
    "\n",
    "plt.scatter(np.outer(mycebmf0.L[:,0],mycebmf0.F[:,0] ), rank_1_matrix) "
   ]
  },
  {
   "cell_type": "code",
   "execution_count": 32,
   "metadata": {},
   "outputs": [
    {
     "data": {
      "text/plain": [
       "array([[ 0.01770796,  0.01059826,  0.04251256,  0.02768729,  0.22378464,\n",
       "         0.15076347, -0.34753907,  0.11880015,  0.16119112, -0.23271556],\n",
       "       [ 0.0444745 ,  0.17585996, -0.23223123, -0.27261832, -0.08532109,\n",
       "         0.13419287, -0.11521485,  0.23150924,  0.26513875,  0.20933266],\n",
       "       [ 0.1989387 , -0.01090073,  0.1843481 ,  0.06858698,  0.2161259 ,\n",
       "         0.07933609, -0.14903255,  0.07952019, -0.2647134 , -0.11253538],\n",
       "       [ 0.27210784, -0.11407635, -0.11073305, -0.2641539 , -0.07460321,\n",
       "         0.03389492,  0.06701931, -0.20259012, -0.11874962, -0.0807349 ],\n",
       "       [ 0.19631751,  0.13086751,  0.12113692,  0.07465491,  0.05879196,\n",
       "        -0.09916218,  0.31196538,  0.22624095,  0.05007105,  0.21621384],\n",
       "       [ 0.21727325, -0.15111333, -0.19062197, -0.10387293, -0.1925756 ,\n",
       "        -0.14449428, -0.16376036, -0.11464185,  0.1695248 , -0.10096   ],\n",
       "       [ 0.02613731,  0.12629975,  0.03294277, -0.32263035,  0.04959522,\n",
       "         0.18753141, -0.09506453,  0.10990159,  0.00719884,  0.04248936],\n",
       "       [ 0.1943082 , -0.05183645,  0.02523437,  0.10067495,  0.04205785,\n",
       "        -0.24578631,  0.00465044, -0.06754755,  0.03008414, -0.16918355],\n",
       "       [ 0.00422548,  0.25861916,  0.2875172 ,  0.06747345,  0.01826036,\n",
       "         0.19589992,  0.05530921, -0.29388857,  0.11681995, -0.05972343],\n",
       "       [ 0.17618205,  0.17938876,  0.10688683,  0.07128631, -0.20316812,\n",
       "         0.09551433,  0.112258  , -0.07282459, -0.13184339,  0.05777803],\n",
       "       [ 0.00915207, -0.31330243, -0.08774389, -0.17840847, -0.07288462,\n",
       "         0.2649119 , -0.15650576, -0.35706687, -0.07411314,  0.22327547],\n",
       "       [ 0.18297781,  0.28720626,  0.06209777,  0.11445215, -0.3626211 ,\n",
       "         0.03442487, -0.16263779,  0.08717783, -0.03126005,  0.05159796],\n",
       "       [ 0.11913892,  0.07768198, -0.2994485 ,  0.09290927,  0.25980258,\n",
       "        -0.00423244,  0.17043997, -0.06023745, -0.19292168,  0.04603292],\n",
       "       [ 0.2399419 ,  0.10786586, -0.21529283, -0.171841  , -0.07847953,\n",
       "        -0.0595388 ,  0.11066233,  0.15941626,  0.23718928, -0.06072515],\n",
       "       [ 0.21226853,  0.26277933,  0.11945204,  0.05957505,  0.00948387,\n",
       "        -0.38568708, -0.27815634, -0.2978552 ,  0.0513465 , -0.14042552],\n",
       "       [ 0.18322879,  0.13382012, -0.2701126 ,  0.30928245,  0.05537581,\n",
       "         0.11260094, -0.10115761, -0.08388623,  0.17115036, -0.02774654],\n",
       "       [ 0.1888868 , -0.14814478,  0.04960561, -0.01686357,  0.22354527,\n",
       "         0.12904055,  0.0508009 , -0.16761087,  0.02510836,  0.19256869],\n",
       "       [ 0.09914066,  0.04036189,  0.09974325, -0.11897258,  0.07724657,\n",
       "        -0.00614371, -0.14295666,  0.11069798,  0.10004315, -0.36444578],\n",
       "       [ 0.15573728,  0.15019868, -0.06184472, -0.05365404,  0.01114041,\n",
       "         0.16079862,  0.08280288,  0.04409818,  0.1362293 , -0.08732651],\n",
       "       [ 0.15363163, -0.19726035,  0.34618858, -0.2949922 , -0.01957196,\n",
       "        -0.01518125,  0.2407593 , -0.01383689, -0.10299955, -0.02095386],\n",
       "       [ 0.25260207, -0.1853465 ,  0.2184385 ,  0.04496348, -0.23005167,\n",
       "         0.299117  , -0.2695256 ,  0.23749612, -0.11244968,  0.06112381],\n",
       "       [ 0.2511148 , -0.00854236,  0.35188094,  0.05997568,  0.20196995,\n",
       "        -0.16160578, -0.04922439, -0.04183083,  0.16757163,  0.3899674 ],\n",
       "       [ 0.02954894, -0.21767099,  0.00669924, -0.04515743, -0.11500517,\n",
       "        -0.00833899, -0.0156076 ,  0.06691268, -0.05950911, -0.10511868],\n",
       "       [ 0.23891753, -0.2679218 , -0.04518359,  0.2850991 , -0.06304943,\n",
       "         0.06077835,  0.18721911,  0.09360667,  0.17567663,  0.02271466],\n",
       "       [ 0.18997334, -0.11730327,  0.138019  ,  0.07802529,  0.06593779,\n",
       "         0.2132805 ,  0.01697855, -0.14549893,  0.09499945, -0.1206032 ],\n",
       "       [ 0.03249255,  0.16321468, -0.02102613, -0.11332855,  0.19147347,\n",
       "         0.13851365, -0.00815703,  0.21770038, -0.28044653, -0.01328918],\n",
       "       [ 0.09713399, -0.00049751, -0.13695116, -0.24806575,  0.17048793,\n",
       "        -0.08602466, -0.01691378,  0.01032126,  0.00369005, -0.10317241],\n",
       "       [ 0.08634669, -0.00495238, -0.02656492, -0.04085584,  0.28164396,\n",
       "         0.03658439, -0.04828157,  0.08734085,  0.15029201,  0.32569432],\n",
       "       [ 0.04321463, -0.11602309,  0.00531324,  0.19134913, -0.04452342,\n",
       "         0.13637902,  0.24424867,  0.31981295,  0.07350843, -0.1569872 ],\n",
       "       [ 0.02602385, -0.03581784,  0.17350668, -0.15070122, -0.14827785,\n",
       "         0.12007501,  0.06272469,  0.0796265 ,  0.24143955, -0.22872196],\n",
       "       [ 0.12264678, -0.01698241, -0.02630025, -0.05787969,  0.28509888,\n",
       "         0.06289644,  0.06522147, -0.00605912,  0.21339886, -0.11185652],\n",
       "       [ 0.05760952, -0.01650569, -0.00764956,  0.13900122, -0.1853621 ,\n",
       "        -0.205573  ,  0.08249588,  0.16595264, -0.08564676,  0.08107706],\n",
       "       [ 0.21674366, -0.3060434 , -0.22925344, -0.04192644,  0.00148559,\n",
       "        -0.22910935, -0.10495993,  0.12282517, -0.20223263, -0.02112022],\n",
       "       [ 0.18868478,  0.15897334,  0.02238129, -0.1313578 ,  0.18221994,\n",
       "        -0.08209161,  0.18628798,  0.07435317, -0.30488232, -0.19600844],\n",
       "       [ 0.16470318, -0.126421  , -0.02196765,  0.15164477, -0.00526512,\n",
       "        -0.14890791, -0.1971875 ,  0.07324097, -0.00775197,  0.06267635],\n",
       "       [ 0.18691999,  0.1390963 , -0.18253434, -0.10482258, -0.04727143,\n",
       "         0.05834179,  0.06841801, -0.11932436,  0.04909443,  0.19982882],\n",
       "       [ 0.06212101,  0.13955563, -0.06212573,  0.07724932,  0.05833187,\n",
       "         0.11351824, -0.32536235,  0.14899567, -0.31794268,  0.13266575],\n",
       "       [ 0.02054613,  0.03688626, -0.03525162, -0.1052165 ,  0.00825794,\n",
       "        -0.00407978,  0.09038141, -0.10494875, -0.0602848 , -0.05879237],\n",
       "       [ 0.17807063,  0.2064171 , -0.00497047, -0.12756112, -0.3079447 ,\n",
       "         0.01817335,  0.11777186, -0.11605119, -0.16114703,  0.03680886],\n",
       "       [ 0.10544379,  0.02853145, -0.21180585,  0.29016483,  0.01494585,\n",
       "         0.3589637 ,  0.13239397, -0.19777614, -0.12506568, -0.17828876]],\n",
       "      dtype=float32)"
      ]
     },
     "execution_count": 32,
     "metadata": {},
     "output_type": "execute_result"
    }
   ],
   "source": [
    "mycebmf.F"
   ]
  },
  {
   "cell_type": "code",
   "execution_count": 33,
   "metadata": {},
   "outputs": [],
   "source": [
    "#3mycebmf.update_loading_factor_k(k=0)\n"
   ]
  },
  {
   "cell_type": "code",
   "execution_count": 34,
   "metadata": {},
   "outputs": [],
   "source": [
    "#mycebmf0.update_loading_factor_k(k=0)\n"
   ]
  },
  {
   "cell_type": "code",
   "execution_count": 35,
   "metadata": {},
   "outputs": [
    {
     "data": {
      "text/plain": [
       "array([[-1.87948799e+00,  2.36745533e-02,  9.47697759e-02,\n",
       "         1.87488377e-01, -7.25253746e-02,  1.73128277e-01,\n",
       "        -2.01171979e-01, -1.71339065e-01, -2.12469064e-02,\n",
       "        -2.04375759e-01],\n",
       "       [-2.66803908e+00, -3.33576910e-02, -1.95823058e-01,\n",
       "         6.21611960e-02, -1.38747007e-01, -2.26342171e-01,\n",
       "         1.23956397e-01, -6.04415722e-02, -1.88788801e-01,\n",
       "        -5.68743050e-03],\n",
       "       [-1.58787000e+00,  1.09967247e-01,  4.86695059e-02,\n",
       "        -5.87243252e-02,  2.67378241e-01,  1.15735590e-01,\n",
       "        -1.05696075e-01, -7.62782916e-02,  4.57520932e-02,\n",
       "         1.52061507e-01],\n",
       "       [-1.95848060e+00, -2.32949719e-01,  9.16254148e-02,\n",
       "        -2.92985272e-02, -1.52812466e-01, -8.71837735e-02,\n",
       "         1.31544545e-01,  4.98349639e-03,  3.91681194e-02,\n",
       "         5.48801944e-02],\n",
       "       [-1.24926639e+00,  1.79563060e-01,  2.47625839e-02,\n",
       "         1.23333946e-01, -6.70718774e-02, -8.66810754e-02,\n",
       "        -5.07022217e-02,  1.48015305e-01,  1.66681560e-03,\n",
       "        -7.35582486e-02],\n",
       "       [-2.07140818e-01,  2.26249754e-01, -3.12592030e-01,\n",
       "         2.36462615e-02,  4.09795530e-02, -4.81247529e-02,\n",
       "        -2.03756064e-01,  1.10277958e-01,  5.57722114e-02,\n",
       "        -1.07767954e-01],\n",
       "       [-1.93627620e+00,  1.81535780e-01,  2.25235790e-01,\n",
       "         1.39381617e-01,  2.29533445e-02,  2.29966894e-01,\n",
       "         9.27152261e-02, -1.64229274e-01,  1.07725434e-01,\n",
       "        -1.20981224e-01],\n",
       "       [-1.81072497e+00, -6.34377301e-02, -3.06384265e-01,\n",
       "        -7.36033693e-02,  6.95558190e-02,  2.72991005e-02,\n",
       "         3.27670157e-01, -5.18908687e-02,  1.28942914e-02,\n",
       "        -1.29872799e-01],\n",
       "       [-3.27148288e-01,  7.62365535e-02,  1.69779941e-01,\n",
       "        -7.72741437e-02,  2.29927853e-01,  1.20297946e-01,\n",
       "         5.80881089e-02,  4.65532951e-02, -2.14256700e-02,\n",
       "        -4.62088138e-02],\n",
       "       [-1.38542593e+00,  1.68305546e-01, -1.09794207e-01,\n",
       "         1.27653375e-01, -5.70413135e-02,  9.64781865e-02,\n",
       "         1.18845649e-01,  1.46209802e-02,  2.12760657e-01,\n",
       "         2.44479969e-01],\n",
       "       [-2.07202387e+00,  1.53022602e-01,  9.32121873e-02,\n",
       "         1.30406380e-01, -9.38710421e-02,  1.00075118e-01,\n",
       "         3.94060053e-02, -2.18288124e-01,  5.27355336e-02,\n",
       "        -1.51854739e-01],\n",
       "       [-4.21873033e-01, -2.99098670e-01,  1.75102308e-01,\n",
       "        -2.40161434e-01,  2.71600503e-02, -5.37326597e-02,\n",
       "        -4.47670333e-02,  5.30374423e-02, -3.69271785e-02,\n",
       "        -9.96840969e-02],\n",
       "       [-2.27295351e+00,  1.55715421e-01, -1.94367647e-01,\n",
       "         2.58552451e-02, -5.22446260e-02, -7.77667239e-02,\n",
       "        -3.95924330e-01, -2.30031028e-01,  1.66138038e-02,\n",
       "         7.83687681e-02],\n",
       "       [-3.53720379e+00, -3.36776137e-01,  2.38687754e-01,\n",
       "         3.52208279e-02, -1.83187261e-01,  1.15119956e-01,\n",
       "        -1.79310828e-01,  1.22812428e-01, -1.41373426e-02,\n",
       "         4.42211702e-02],\n",
       "       [-1.95207310e+00, -2.53375457e-03,  1.31982148e-01,\n",
       "         5.81877194e-02, -2.16396421e-01,  6.96053207e-02,\n",
       "         3.96922715e-02,  1.67387396e-01, -8.23863745e-02,\n",
       "         1.67083487e-01],\n",
       "       [-1.16347170e+00,  8.88268128e-02, -1.35204867e-01,\n",
       "         1.94308981e-01,  4.50384058e-02, -1.07385069e-01,\n",
       "         1.77347481e-01, -1.61108524e-01,  1.34637550e-01,\n",
       "        -3.82930301e-02],\n",
       "       [-3.74167132e+00, -1.19051017e-01,  8.33739415e-02,\n",
       "         1.14554770e-01,  7.76007921e-02, -6.20325580e-02,\n",
       "        -1.82744637e-01,  1.09451622e-01,  4.42505442e-02,\n",
       "        -7.58575872e-02],\n",
       "       [-3.44238949e+00,  3.52131873e-02,  2.05189630e-01,\n",
       "        -3.51382613e-01, -2.14060266e-02, -1.70141980e-02,\n",
       "         2.88049094e-02,  5.31931855e-02, -1.58918336e-01,\n",
       "        -1.05450042e-01],\n",
       "       [-2.61955023e+00,  3.00087780e-01, -1.62997589e-01,\n",
       "        -4.41365279e-02, -2.04787016e-01,  4.69965376e-02,\n",
       "         2.74643861e-02, -2.67798454e-02, -9.25135314e-02,\n",
       "        -1.13457158e-01],\n",
       "       [-1.20313680e+00,  1.31619982e-02, -2.90500402e-01,\n",
       "        -3.51376906e-02, -8.42117053e-03, -3.28768522e-01,\n",
       "        -3.53153259e-03,  1.13552339e-01,  1.89675927e-01,\n",
       "         1.67911440e-01],\n",
       "       [-1.23075247e+00, -7.00195506e-02,  2.89569218e-02,\n",
       "        -3.40491384e-02,  4.44937408e-01,  3.81913818e-02,\n",
       "        -1.23674758e-01,  8.38287398e-02, -1.74809381e-01,\n",
       "        -1.16436809e-01],\n",
       "       [-1.41266453e+00, -1.34171203e-01, -2.82830954e-01,\n",
       "        -7.49608353e-02, -2.04807594e-02,  9.39316861e-03,\n",
       "         3.80831286e-02,  1.66319814e-02,  7.20178634e-02,\n",
       "        -1.61792293e-01],\n",
       "       [-3.13081455e+00,  2.42022693e-01,  2.37087552e-02,\n",
       "         2.72126961e-02,  6.66785613e-02,  1.09848432e-01,\n",
       "         1.22239158e-01,  1.30717024e-01,  2.44253188e-01,\n",
       "         5.67935407e-02],\n",
       "       [-7.55642354e-01, -8.60459171e-03,  7.27010816e-02,\n",
       "        -9.34206471e-02,  2.40733936e-01, -4.05664369e-02,\n",
       "        -5.01452610e-02,  2.68749774e-01,  1.89557061e-01,\n",
       "        -1.47255406e-01],\n",
       "       [-6.25862479e-01, -1.14375025e-01,  1.52489707e-01,\n",
       "        -1.52413398e-01,  1.52497873e-01,  1.42058730e-01,\n",
       "        -5.55822551e-02, -1.06063858e-02,  2.32027307e-01,\n",
       "         6.14062473e-02],\n",
       "       [-3.27172756e+00, -1.16856001e-01,  1.40146604e-02,\n",
       "        -5.54495096e-01,  1.85425356e-02, -1.25339860e-02,\n",
       "         1.45660356e-01, -3.41882885e-01, -8.61902013e-02,\n",
       "        -6.32238016e-02],\n",
       "       [-1.51545846e+00,  1.49008080e-01, -1.44845530e-01,\n",
       "        -2.63180971e-01, -1.64833188e-01,  1.43764481e-01,\n",
       "        -3.53380501e-01,  5.25199845e-02, -4.14079539e-02,\n",
       "         9.63783264e-02],\n",
       "       [-1.02361393e+00,  4.32393998e-01,  1.57864630e-01,\n",
       "        -9.70415249e-02,  1.94618046e-01, -1.59650162e-01,\n",
       "        -3.47110666e-02, -2.92951882e-01, -7.86365196e-03,\n",
       "        -2.35963091e-02],\n",
       "       [-3.80300260e+00, -4.97187898e-02,  1.32785842e-01,\n",
       "         1.65422454e-01, -6.96474910e-02, -1.69131979e-01,\n",
       "        -5.80043159e-03, -3.13765220e-02,  1.67249084e-01,\n",
       "         1.18982270e-02],\n",
       "       [-1.21493936e+00, -1.57927349e-01, -3.42236198e-02,\n",
       "         2.88535319e-02,  2.45636195e-01,  1.20925978e-01,\n",
       "        -1.55644249e-02,  1.56665713e-01,  2.72966605e-02,\n",
       "        -1.97108164e-01],\n",
       "       [-8.43381464e-01,  7.03923702e-02, -1.87258631e-01,\n",
       "         2.73443814e-02,  6.43731579e-02,  1.18920147e-01,\n",
       "        -7.48191699e-02,  1.04598716e-01, -1.80797145e-01,\n",
       "        -1.14364862e-01],\n",
       "       [-2.90125513e+00,  7.06285983e-02, -2.35683858e-01,\n",
       "        -1.41603991e-01, -1.89404488e-02,  2.49400824e-01,\n",
       "         1.23629972e-01, -1.63996667e-01, -1.41463997e-02,\n",
       "         9.55379009e-02],\n",
       "       [-1.68365633e+00, -9.26067159e-02, -8.42634663e-02,\n",
       "         2.01542988e-01,  2.56721646e-01,  1.09823262e-02,\n",
       "        -1.79339826e-01, -1.10453442e-01,  9.11832079e-02,\n",
       "         2.02396929e-01],\n",
       "       [-2.74693656e+00, -4.31469306e-02,  2.54600078e-01,\n",
       "         2.03585863e-01,  3.99859846e-02,  1.34713337e-01,\n",
       "        -4.97376695e-02, -1.13877609e-01, -8.79167989e-02,\n",
       "         1.42809212e-01],\n",
       "       [-2.92465878e+00,  4.62671489e-01,  1.26172334e-01,\n",
       "        -3.21545571e-01, -1.16697684e-01, -1.11817874e-01,\n",
       "         2.25664582e-02,  2.23624870e-01,  2.88390160e-01,\n",
       "        -2.60597635e-02],\n",
       "       [-3.49498010e+00, -3.48902494e-02,  5.85149080e-02,\n",
       "         2.95333236e-01,  1.30894929e-01, -1.46642596e-01,\n",
       "         3.19826812e-01,  6.42244145e-02,  7.50741512e-02,\n",
       "        -1.02715895e-01],\n",
       "       [-1.23320401e+00,  4.69567478e-02, -4.68383543e-02,\n",
       "        -7.65267909e-02,  1.78229138e-01,  1.07001960e-01,\n",
       "         1.20811008e-01, -3.05284243e-02, -1.09442897e-01,\n",
       "         4.64794748e-02],\n",
       "       [-1.03327966e+00,  2.20530078e-01,  3.92880663e-02,\n",
       "        -6.02156809e-03, -3.73117812e-02,  6.30983040e-02,\n",
       "         3.34308818e-02,  1.44694120e-01, -3.02876765e-03,\n",
       "        -6.97973967e-02],\n",
       "       [-2.73932648e+00,  1.70385316e-02,  8.07886273e-02,\n",
       "        -1.32359592e-02, -2.49158472e-01, -6.28687162e-03,\n",
       "        -1.11494824e-01,  3.27147953e-02,  3.23469900e-02,\n",
       "        -1.40514448e-02],\n",
       "       [-2.85162210e+00, -1.92487061e-01,  3.48442532e-02,\n",
       "         9.45212916e-02,  2.74629444e-01, -2.12244168e-01,\n",
       "        -6.01036735e-02,  7.34183714e-02, -2.96204537e-02,\n",
       "         1.02102220e-01],\n",
       "       [-2.33222747e+00,  9.10540596e-02, -1.74243618e-02,\n",
       "        -1.34908101e-02, -1.94514338e-02, -1.71650663e-01,\n",
       "        -1.36982143e-01,  2.05887541e-01, -2.16186866e-01,\n",
       "        -8.83078501e-02],\n",
       "       [-7.92239487e-01, -4.91622351e-02, -3.30772012e-01,\n",
       "         1.93256333e-01,  1.06217206e-01,  1.09733403e-01,\n",
       "        -1.27047420e-01, -1.42602667e-01,  7.22581223e-02,\n",
       "        -3.20284098e-01],\n",
       "       [-1.87270761e+00, -3.43965232e-01, -1.54962346e-01,\n",
       "         8.61560032e-02, -1.96759000e-01, -2.00149164e-01,\n",
       "         1.41194565e-02,  4.06707674e-02, -3.99940507e-03,\n",
       "        -1.71349674e-01],\n",
       "       [-1.87084150e+00,  1.38634399e-01,  2.24406838e-01,\n",
       "         3.11234742e-01, -1.37910917e-01,  1.21973464e-02,\n",
       "         6.96675256e-02, -2.40374468e-02, -3.27236831e-01,\n",
       "        -1.61597989e-02],\n",
       "       [-1.47506320e+00, -3.84979732e-02,  1.08802371e-01,\n",
       "        -1.84091423e-02,  1.80439219e-01, -3.64384264e-01,\n",
       "        -8.49267021e-02, -1.42821074e-01, -7.11119249e-02,\n",
       "         1.06337100e-01],\n",
       "       [-1.11428535e+00, -4.60787535e-01, -6.25687093e-03,\n",
       "        -3.59187312e-02, -1.33392006e-01,  3.34802717e-01,\n",
       "         9.57136787e-03,  6.00244738e-02,  2.14089319e-01,\n",
       "        -5.77210262e-02],\n",
       "       [-2.16533899e+00,  1.98386967e-01, -2.49038339e-01,\n",
       "         1.58690903e-02,  1.42187566e-01,  2.21011251e-01,\n",
       "         1.74348548e-01,  3.17503989e-01, -3.06216031e-01,\n",
       "         1.69147730e-01],\n",
       "       [-6.77700579e-01,  3.96989547e-02, -1.19484238e-01,\n",
       "         1.79901391e-01,  1.23791192e-02,  2.02413782e-01,\n",
       "        -4.91533913e-02,  4.09898125e-02, -1.49274645e-02,\n",
       "         1.76574528e-01],\n",
       "       [-2.59400153e+00, -2.64073491e-01, -2.92204767e-01,\n",
       "        -8.36576819e-02, -1.84800252e-02,  5.30725420e-02,\n",
       "        -1.48814216e-01, -8.22981670e-02,  3.77576915e-03,\n",
       "         1.24747753e-01],\n",
       "       [-2.33088589e+00, -2.88746923e-01, -7.81208351e-02,\n",
       "        -7.02077821e-02,  6.58971891e-02,  9.89323831e-04,\n",
       "         1.74720719e-01, -6.03304245e-02, -7.33069181e-02,\n",
       "         2.27962121e-01]], dtype=float32)"
      ]
     },
     "execution_count": 35,
     "metadata": {},
     "output_type": "execute_result"
    }
   ],
   "source": [
    "mycebmf0.L"
   ]
  },
  {
   "cell_type": "code",
   "execution_count": 36,
   "metadata": {},
   "outputs": [
    {
     "data": {
      "text/plain": [
       "62.32260327614656"
      ]
     },
     "execution_count": 36,
     "metadata": {},
     "output_type": "execute_result"
    }
   ],
   "source": [
    "k=1\n",
    "mycebmf.cal_partial_residuals(k=k)\n",
    "\n",
    "        # Compute estimates for L\n",
    "lhat, s_l = compute_hat_f_and_s_f(mycebmf.Rk, mycebmf.L[:, k], mycebmf.L2[:, k], mycebmf.tau, mycebmf.has_nan)\n",
    "res=ash(lhat, s_l, prior=\"exp\")\n",
    "res.log_lik"
   ]
  },
  {
   "cell_type": "code",
   "execution_count": 37,
   "metadata": {},
   "outputs": [],
   "source": [
    "sys.path.append(r\"C:\\Document\\Serieux\\Travail\\python_work\\cEBNM_torch\\py\")\n",
    "sys.path.append(r\"C:\\Document\\Serieux\\Travail\\python_work\\cEBNM_torch\\py\\ebnm_solver\")\n",
    "sys.path.append(r\"C:\\Document\\Serieux\\Travail\\python_work\\cEBNM_torch\\py\\numerical_routine\")\n",
    "\n",
    "from distribution_operation import *\n",
    "from utils import *\n",
    "from numerical_routine import *\n",
    "from posterior_computation import *\n",
    "from ash import *"
   ]
  },
  {
   "cell_type": "code",
   "execution_count": 38,
   "metadata": {},
   "outputs": [],
   "source": [
    "betahat , sebetahat= lhat, s_l"
   ]
  },
  {
   "cell_type": "code",
   "execution_count": 39,
   "metadata": {},
   "outputs": [],
   "source": [
    "scale = autoselect_scales_mix_exp(betahat=betahat, sebetahat=sebetahat )\n",
    "L = get_data_loglik_exp(betahat=betahat, sebetahat=sebetahat,   scale=scale)\n",
    "exp_L = np.exp(L)\n",
    "optimal_pi = optimize_pi(exp_L, penalty=10, verbose=False)\n",
    "out = posterior_mean_exp(\n",
    "        betahat,\n",
    "        sebetahat,\n",
    "        log_pi=np.log(optimal_pi + 1e-32),\n",
    "        scale=scale)"
   ]
  },
  {
   "cell_type": "code",
   "execution_count": null,
   "metadata": {},
   "outputs": [],
   "source": []
  },
  {
   "cell_type": "code",
   "execution_count": 40,
   "metadata": {},
   "outputs": [
    {
     "data": {
      "text/plain": [
       "array([0.00127671, 0.01043892, 0.00103429, 0.00044429, 0.0054526 ,\n",
       "       0.00034632, 0.0051166 , 0.00071764, 0.03231908, 0.01099479,\n",
       "       0.00014589, 0.04331429, 0.00270489, 0.00398257, 0.03386922,\n",
       "       0.0056831 , 0.000353  , 0.0017492 , 0.00717735, 0.00026189,\n",
       "       0.00028064, 0.00105776, 0.00023366, 0.00018027, 0.00043433,\n",
       "       0.00867152, 0.00114329, 0.00109486, 0.00043824, 0.00082366,\n",
       "       0.00097684, 0.00098119, 0.00015072, 0.00815107, 0.00040779,\n",
       "       0.00612288, 0.00616293, 0.00168359, 0.01630346, 0.00153823])"
      ]
     },
     "execution_count": 40,
     "metadata": {},
     "output_type": "execute_result"
    }
   ],
   "source": [
    "out.post_mean"
   ]
  },
  {
   "cell_type": "code",
   "execution_count": 41,
   "metadata": {},
   "outputs": [],
   "source": [
    "res_1=mycebmf.prior_L(mycebmf.X_l, lhat, s_l, mycebmf.model_list_L[k])"
   ]
  },
  {
   "cell_type": "code",
   "execution_count": 42,
   "metadata": {},
   "outputs": [
    {
     "data": {
      "text/plain": [
       "<function cEBMF.prior_exp(X, betahat, sebetahat, model_param)>"
      ]
     },
     "execution_count": 42,
     "metadata": {},
     "output_type": "execute_result"
    }
   ],
   "source": [
    "mycebmf.prior_L"
   ]
  },
  {
   "cell_type": "code",
   "execution_count": 43,
   "metadata": {},
   "outputs": [
    {
     "data": {
      "text/plain": [
       "array([0.00132476, 0.01035941, 0.00107758, 0.00046975, 0.00548661,\n",
       "       0.00036756, 0.00515569, 0.0007527 , 0.03155064, 0.0108996 ,\n",
       "       0.00015657, 0.04229352, 0.00276363, 0.00403509, 0.03305855,\n",
       "       0.00571337, 0.00037454, 0.0018036 , 0.00717906, 0.00027905,\n",
       "       0.00029875, 0.00110157, 0.00024935, 0.000193  , 0.00045938,\n",
       "       0.00863864, 0.00118887, 0.00113945, 0.00046346, 0.00086177,\n",
       "       0.00101883, 0.00102328, 0.0001617 , 0.00813081, 0.00043173,\n",
       "       0.00614549, 0.0061848 , 0.00173731, 0.01604348, 0.00159022])"
      ]
     },
     "execution_count": 43,
     "metadata": {},
     "output_type": "execute_result"
    }
   ],
   "source": [
    "res_1.post_mean\n"
   ]
  },
  {
   "cell_type": "code",
   "execution_count": null,
   "metadata": {},
   "outputs": [],
   "source": [
    " "
   ]
  },
  {
   "cell_type": "code",
   "execution_count": 44,
   "metadata": {},
   "outputs": [
    {
     "data": {
      "text/plain": [
       "<matplotlib.collections.PathCollection at 0x1a506e810f0>"
      ]
     },
     "execution_count": 44,
     "metadata": {},
     "output_type": "execute_result"
    },
    {
     "data": {
      "image/png": "[encoded data removed]",
      "text/plain": [
       "<Figure size 640x480 with 1 Axes>"
      ]
     },
     "metadata": {},
     "output_type": "display_data"
    }
   ],
   "source": [
    "\n",
    "mycebmf .iter()\n",
    "mycebmf0.iter() \n",
    "plt.scatter(mycebmf.Y_fit, rank_1_matrix)\n",
    "\n",
    "plt.scatter(mycebmf0.Y_fit, rank_1_matrix)\n",
    "plt.scatter(np.outer(mycebmf.L[:,0],mycebmf.F[:,0] ), rank_1_matrix)\n",
    "plt.scatter(np.outer(mycebmf0.L[:,1],mycebmf0.F[:,1] ), rank_1_matrix)"
   ]
  },
  {
   "cell_type": "code",
   "execution_count": null,
   "metadata": {},
   "outputs": [],
   "source": [
    " "
   ]
  },
  {
   "cell_type": "code",
   "execution_count": 45,
   "metadata": {},
   "outputs": [
    {
     "ename": "KeyboardInterrupt",
     "evalue": "",
     "output_type": "error",
     "traceback": [
      "\u001b[1;31m---------------------------------------------------------------------------\u001b[0m",
      "\u001b[1;31mKeyboardInterrupt\u001b[0m                         Traceback (most recent call last)",
      "Cell \u001b[1;32mIn[45], line 2\u001b[0m\n\u001b[0;32m      1\u001b[0m \u001b[38;5;28;01mfor\u001b[39;00m i \u001b[38;5;129;01min\u001b[39;00m \u001b[38;5;28mrange\u001b[39m(\u001b[38;5;241m40\u001b[39m):\n\u001b[1;32m----> 2\u001b[0m     \u001b[43mmycebmf\u001b[49m\u001b[38;5;241;43m.\u001b[39;49m\u001b[43miter\u001b[49m\u001b[43m(\u001b[49m\u001b[43m)\u001b[49m\n\u001b[0;32m      3\u001b[0m     mycebmf0\u001b[38;5;241m.\u001b[39miter()\n",
      "File \u001b[1;32mC:\\Document\\Serieux\\Travail\\python_work\\cEBNM_torch\\py\\cEBMF.py:225\u001b[0m, in \u001b[0;36mcEBMF_object.iter\u001b[1;34m(self)\u001b[0m\n\u001b[0;32m    223\u001b[0m \u001b[38;5;250m\u001b[39m\u001b[38;5;124;03m\"\"\"Run one iteration of factor updates.\"\"\"\u001b[39;00m\n\u001b[0;32m    224\u001b[0m \u001b[38;5;28;01mfor\u001b[39;00m k \u001b[38;5;129;01min\u001b[39;00m \u001b[38;5;28mrange\u001b[39m(\u001b[38;5;28mself\u001b[39m\u001b[38;5;241m.\u001b[39mK):\n\u001b[1;32m--> 225\u001b[0m     \u001b[38;5;28;43mself\u001b[39;49m\u001b[38;5;241;43m.\u001b[39;49m\u001b[43mupdate_loading_factor_k\u001b[49m\u001b[43m(\u001b[49m\u001b[43mk\u001b[49m\u001b[43m)\u001b[49m\n\u001b[0;32m    226\u001b[0m \u001b[38;5;28mself\u001b[39m\u001b[38;5;241m.\u001b[39mupdate_tau()\n\u001b[0;32m    227\u001b[0m \u001b[38;5;28mself\u001b[39m\u001b[38;5;241m.\u001b[39mcal_obj()\n",
      "File \u001b[1;32mC:\\Document\\Serieux\\Travail\\python_work\\cEBNM_torch\\py\\cEBMF.py:204\u001b[0m, in \u001b[0;36mcEBMF_object.update_loading_factor_k\u001b[1;34m(self, k)\u001b[0m\n\u001b[0;32m    201\u001b[0m lhat, s_l \u001b[38;5;241m=\u001b[39m compute_hat_l_and_s_l(\u001b[38;5;28mself\u001b[39m\u001b[38;5;241m.\u001b[39mRk, \u001b[38;5;28mself\u001b[39m\u001b[38;5;241m.\u001b[39mF[:, k], \u001b[38;5;28mself\u001b[39m\u001b[38;5;241m.\u001b[39mF2[:, k], \u001b[38;5;28mself\u001b[39m\u001b[38;5;241m.\u001b[39mtau, \u001b[38;5;28mself\u001b[39m\u001b[38;5;241m.\u001b[39mhas_nan)\n\u001b[0;32m    203\u001b[0m \u001b[38;5;66;03m# Use user-defined or predefined function for L\u001b[39;00m\n\u001b[1;32m--> 204\u001b[0m prior_result_L \u001b[38;5;241m=\u001b[39m \u001b[38;5;28;43mself\u001b[39;49m\u001b[38;5;241;43m.\u001b[39;49m\u001b[43mprior_L\u001b[49m\u001b[43m(\u001b[49m\u001b[38;5;28;43mself\u001b[39;49m\u001b[38;5;241;43m.\u001b[39;49m\u001b[43mX_l\u001b[49m\u001b[43m,\u001b[49m\u001b[43m \u001b[49m\u001b[43mlhat\u001b[49m\u001b[43m,\u001b[49m\u001b[43m \u001b[49m\u001b[43ms_l\u001b[49m\u001b[43m,\u001b[49m\u001b[43m \u001b[49m\u001b[38;5;28;43mself\u001b[39;49m\u001b[38;5;241;43m.\u001b[39;49m\u001b[43mmodel_list_L\u001b[49m\u001b[43m[\u001b[49m\u001b[43mk\u001b[49m\u001b[43m]\u001b[49m\u001b[43m)\u001b[49m\n\u001b[0;32m    205\u001b[0m \u001b[38;5;28mself\u001b[39m\u001b[38;5;241m.\u001b[39mmodel_list_L[k] \u001b[38;5;241m=\u001b[39m prior_result_L\u001b[38;5;241m.\u001b[39mmodel_param\n\u001b[0;32m    206\u001b[0m \u001b[38;5;28mself\u001b[39m\u001b[38;5;241m.\u001b[39mL[:, k] \u001b[38;5;241m=\u001b[39m prior_result_L\u001b[38;5;241m.\u001b[39mpost_mean\n",
      "File \u001b[1;32mC:\\Document\\Serieux\\Travail\\python_work\\cEBNM_torch\\py\\cEBMF.py:39\u001b[0m, in \u001b[0;36mprior_exp\u001b[1;34m(X, betahat, sebetahat, model_param)\u001b[0m\n\u001b[0;32m     38\u001b[0m \u001b[38;5;28;01mdef\u001b[39;00m \u001b[38;5;21mprior_exp\u001b[39m(X, betahat, sebetahat, model_param):\n\u001b[1;32m---> 39\u001b[0m     ash_obj \u001b[38;5;241m=\u001b[39m \u001b[43mash\u001b[49m\u001b[43m(\u001b[49m\u001b[43mbetahat\u001b[49m\u001b[38;5;241;43m=\u001b[39;49m\u001b[43mbetahat\u001b[49m\u001b[43m,\u001b[49m\u001b[43m \u001b[49m\u001b[43msebetahat\u001b[49m\u001b[38;5;241;43m=\u001b[39;49m\u001b[43msebetahat\u001b[49m\u001b[43m,\u001b[49m\u001b[43m \u001b[49m\u001b[43mprior\u001b[49m\u001b[38;5;241;43m=\u001b[39;49m\u001b[38;5;124;43m\"\u001b[39;49m\u001b[38;5;124;43mexp\u001b[39;49m\u001b[38;5;124;43m\"\u001b[39;49m\u001b[43m,\u001b[49m\u001b[43m \u001b[49m\u001b[43mverbose\u001b[49m\u001b[38;5;241;43m=\u001b[39;49m\u001b[38;5;28;43;01mFalse\u001b[39;49;00m\u001b[43m)\u001b[49m\n\u001b[0;32m     40\u001b[0m     \u001b[38;5;28;01mreturn\u001b[39;00m PriorResult(post_mean\u001b[38;5;241m=\u001b[39mash_obj\u001b[38;5;241m.\u001b[39mpost_mean, post_mean2\u001b[38;5;241m=\u001b[39mash_obj\u001b[38;5;241m.\u001b[39mpost_mean2, log_lik\u001b[38;5;241m=\u001b[39mash_obj\u001b[38;5;241m.\u001b[39mlog_lik)\n",
      "File \u001b[1;32mC:\\Document\\Serieux\\Travail\\python_work\\cEBNM_torch\\py\\ash.py:55\u001b[0m, in \u001b[0;36mash\u001b[1;34m(betahat, sebetahat, prior, mult, penalty, verbose, threshold_loglikelihood, mode)\u001b[0m\n\u001b[0;32m     51\u001b[0m     optimal_pi \u001b[38;5;241m=\u001b[39m optimize_pi_logL(  logL \u001b[38;5;241m=\u001b[39mL,\n\u001b[0;32m     52\u001b[0m                              penalty\u001b[38;5;241m=\u001b[39mpenalty,\n\u001b[0;32m     53\u001b[0m                              verbose\u001b[38;5;241m=\u001b[39mverbose)  \n\u001b[0;32m     54\u001b[0m     log_pi\u001b[38;5;241m=\u001b[39m  np\u001b[38;5;241m.\u001b[39mlog(optimal_pi\u001b[38;5;241m+\u001b[39m\u001b[38;5;241m1e-32\u001b[39m) \n\u001b[1;32m---> 55\u001b[0m     out\u001b[38;5;241m=\u001b[39m \u001b[43mposterior_mean_exp\u001b[49m\u001b[43m(\u001b[49m\u001b[43mbetahat\u001b[49m\u001b[43m,\u001b[49m\u001b[43m \u001b[49m\u001b[43msebetahat\u001b[49m\u001b[43m,\u001b[49m\n\u001b[0;32m     56\u001b[0m \u001b[43m                             \u001b[49m\u001b[43mlog_pi\u001b[49m\u001b[38;5;241;43m=\u001b[39;49m\u001b[43mlog_pi\u001b[49m\u001b[43m,\u001b[49m\u001b[43m \u001b[49m\n\u001b[0;32m     57\u001b[0m \u001b[43m                             \u001b[49m\u001b[43mscale\u001b[49m\u001b[38;5;241;43m=\u001b[39;49m\u001b[43mscale\u001b[49m\u001b[43m)\u001b[49m\n\u001b[0;32m     60\u001b[0m L \u001b[38;5;241m=\u001b[39m np\u001b[38;5;241m.\u001b[39mmaximum(L, threshold_loglikelihood)\n\u001b[0;32m     62\u001b[0m log_lik \u001b[38;5;241m=\u001b[39m    np\u001b[38;5;241m.\u001b[39msum(np\u001b[38;5;241m.\u001b[39mlog(np\u001b[38;5;241m.\u001b[39msum(np\u001b[38;5;241m.\u001b[39mexp(L)\u001b[38;5;241m*\u001b[39moptimal_pi, axis\u001b[38;5;241m=\u001b[39m\u001b[38;5;241m1\u001b[39m)))\n",
      "File \u001b[1;32mC:\\Document\\Serieux\\Travail\\python_work\\cEBNM_torch\\py\\posterior_computation.py:55\u001b[0m, in \u001b[0;36mposterior_mean_exp\u001b[1;34m(betahat, sebetahat, log_pi, scale)\u001b[0m\n\u001b[0;32m      0\u001b[0m <Error retrieving source code with stack_data see ipython/ipython#13598>\n",
      "File \u001b[1;32mC:\\Document\\Serieux\\Travail\\python_work\\cEBNM_torch\\py\\numerical_routine.py:41\u001b[0m, in \u001b[0;36mmy_etruncnorm\u001b[1;34m(a, b, mean, sd)\u001b[0m\n\u001b[0;32m     38\u001b[0m alpha[flip] \u001b[38;5;241m=\u001b[39m \u001b[38;5;241m-\u001b[39mbeta[flip]\n\u001b[0;32m     39\u001b[0m beta[flip] \u001b[38;5;241m=\u001b[39m \u001b[38;5;241m-\u001b[39morig_alpha[flip]\n\u001b[1;32m---> 41\u001b[0m dnorm_diff \u001b[38;5;241m=\u001b[39m logscale_sub(stats\u001b[38;5;241m.\u001b[39mnorm\u001b[38;5;241m.\u001b[39mlogpdf(beta), \u001b[43mstats\u001b[49m\u001b[38;5;241;43m.\u001b[39;49m\u001b[43mnorm\u001b[49m\u001b[38;5;241;43m.\u001b[39;49m\u001b[43mlogpdf\u001b[49m\u001b[43m(\u001b[49m\u001b[43malpha\u001b[49m\u001b[43m)\u001b[49m)\n\u001b[0;32m     42\u001b[0m pnorm_diff \u001b[38;5;241m=\u001b[39m logscale_sub(stats\u001b[38;5;241m.\u001b[39mnorm\u001b[38;5;241m.\u001b[39mlogcdf(beta), stats\u001b[38;5;241m.\u001b[39mnorm\u001b[38;5;241m.\u001b[39mlogcdf(alpha))\n\u001b[0;32m     44\u001b[0m scaled_res \u001b[38;5;241m=\u001b[39m \u001b[38;5;241m-\u001b[39mnp\u001b[38;5;241m.\u001b[39mexp( np\u001b[38;5;241m.\u001b[39mclip( dnorm_diff \u001b[38;5;241m-\u001b[39m pnorm_diff, \u001b[38;5;28;01mNone\u001b[39;00m, \u001b[38;5;241m700\u001b[39m))\n",
      "File \u001b[1;32mc:\\Users\\willi\\anaconda3\\envs\\ml_env\\lib\\site-packages\\scipy\\stats\\_distn_infrastructure.py:2093\u001b[0m, in \u001b[0;36mrv_continuous.logpdf\u001b[1;34m(self, x, *args, **kwds)\u001b[0m\n\u001b[0;32m   2091\u001b[0m output \u001b[38;5;241m=\u001b[39m empty(shape(cond), dtyp)\n\u001b[0;32m   2092\u001b[0m output\u001b[38;5;241m.\u001b[39mfill(\u001b[38;5;241m-\u001b[39minf)\n\u001b[1;32m-> 2093\u001b[0m \u001b[43mputmask\u001b[49m\u001b[43m(\u001b[49m\u001b[43moutput\u001b[49m\u001b[43m,\u001b[49m\u001b[43m \u001b[49m\u001b[43m(\u001b[49m\u001b[38;5;241;43m1\u001b[39;49m\u001b[38;5;241;43m-\u001b[39;49m\u001b[43mcond0\u001b[49m\u001b[43m)\u001b[49m\u001b[38;5;241;43m+\u001b[39;49m\u001b[43mnp\u001b[49m\u001b[38;5;241;43m.\u001b[39;49m\u001b[43misnan\u001b[49m\u001b[43m(\u001b[49m\u001b[43mx\u001b[49m\u001b[43m)\u001b[49m\u001b[43m,\u001b[49m\u001b[43m \u001b[49m\u001b[38;5;28;43mself\u001b[39;49m\u001b[38;5;241;43m.\u001b[39;49m\u001b[43mbadvalue\u001b[49m\u001b[43m)\u001b[49m\n\u001b[0;32m   2094\u001b[0m \u001b[38;5;28;01mif\u001b[39;00m np\u001b[38;5;241m.\u001b[39many(cond):\n\u001b[0;32m   2095\u001b[0m     goodargs \u001b[38;5;241m=\u001b[39m argsreduce(cond, \u001b[38;5;241m*\u001b[39m((x,)\u001b[38;5;241m+\u001b[39margs\u001b[38;5;241m+\u001b[39m(scale,)))\n",
      "File \u001b[1;32mc:\\Users\\willi\\anaconda3\\envs\\ml_env\\lib\\site-packages\\numpy\\core\\multiarray.py:1131\u001b[0m, in \u001b[0;36mputmask\u001b[1;34m(a, mask, values)\u001b[0m\n\u001b[0;32m   1082\u001b[0m \u001b[38;5;250m    \u001b[39m\u001b[38;5;124;03m\"\"\"\u001b[39;00m\n\u001b[0;32m   1083\u001b[0m \u001b[38;5;124;03m    copyto(dst, src, casting='same_kind', where=True)\u001b[39;00m\n\u001b[0;32m   1084\u001b[0m \n\u001b[1;32m   (...)\u001b[0m\n\u001b[0;32m   1126\u001b[0m \n\u001b[0;32m   1127\u001b[0m \u001b[38;5;124;03m    \"\"\"\u001b[39;00m\n\u001b[0;32m   1128\u001b[0m     \u001b[38;5;28;01mreturn\u001b[39;00m (dst, src, where)\n\u001b[1;32m-> 1131\u001b[0m \u001b[38;5;129m@array_function_from_c_func_and_dispatcher\u001b[39m(_multiarray_umath\u001b[38;5;241m.\u001b[39mputmask)\n\u001b[0;32m   1132\u001b[0m \u001b[38;5;28;01mdef\u001b[39;00m \u001b[38;5;21mputmask\u001b[39m(a, \u001b[38;5;241m/\u001b[39m, mask, values):\n\u001b[0;32m   1133\u001b[0m \u001b[38;5;250m    \u001b[39m\u001b[38;5;124;03m\"\"\"\u001b[39;00m\n\u001b[0;32m   1134\u001b[0m \u001b[38;5;124;03m    putmask(a, mask, values)\u001b[39;00m\n\u001b[0;32m   1135\u001b[0m \n\u001b[1;32m   (...)\u001b[0m\n\u001b[0;32m   1171\u001b[0m \n\u001b[0;32m   1172\u001b[0m \u001b[38;5;124;03m    \"\"\"\u001b[39;00m\n\u001b[0;32m   1173\u001b[0m     \u001b[38;5;28;01mreturn\u001b[39;00m (a, mask, values)\n",
      "\u001b[1;31mKeyboardInterrupt\u001b[0m: "
     ]
    }
   ],
   "source": [
    "for i in range(40):\n",
    "    mycebmf.iter()\n",
    "    mycebmf0.iter() \n"
   ]
  },
  {
   "cell_type": "code",
   "execution_count": 46,
   "metadata": {},
   "outputs": [
    {
     "data": {
      "text/plain": [
       "[<matplotlib.lines.Line2D at 0x1a5074fe860>]"
      ]
     },
     "execution_count": 46,
     "metadata": {},
     "output_type": "execute_result"
    },
    {
     "data": {
      "image/png": "[encoded data removed]",
      "text/plain": [
       "<Figure size 1000x600 with 1 Axes>"
      ]
     },
     "metadata": {},
     "output_type": "display_data"
    }
   ],
   "source": [
    "plt.figure(figsize=(10, 6))\n",
    "plt.plot(np.array(mycebmf.obj) , marker='o', linestyle='-', color='b')"
   ]
  },
  {
   "cell_type": "code",
   "execution_count": 47,
   "metadata": {},
   "outputs": [
    {
     "data": {
      "text/plain": [
       "<matplotlib.collections.PathCollection at 0x1a5075432e0>"
      ]
     },
     "execution_count": 47,
     "metadata": {},
     "output_type": "execute_result"
    },
    {
     "data": {
      "image/png": "[encoded data removed]",
      "text/plain": [
       "<Figure size 640x480 with 1 Axes>"
      ]
     },
     "metadata": {},
     "output_type": "display_data"
    }
   ],
   "source": [
    " \n",
    "plt.scatter(mycebmf.Y_fit, rank_1_matrix)\n",
    " \n",
    "plt.scatter(mycebmf0.Y_fit, rank_1_matrix)\n"
   ]
  },
  {
   "cell_type": "code",
   "execution_count": null,
   "metadata": {},
   "outputs": [
    {
     "data": {
      "text/plain": [
       "0.35371191131113816"
      ]
     },
     "execution_count": 23,
     "metadata": {},
     "output_type": "execute_result"
    }
   ],
   "source": [
    "np.sqrt(np.mean((np.outer(mycebmf.L[:,1],mycebmf.F[:,1] ) - rank_1_matrix) ** 2))"
   ]
  },
  {
   "cell_type": "code",
   "execution_count": null,
   "metadata": {},
   "outputs": [
    {
     "data": {
      "text/plain": [
       "0.02111083120802743"
      ]
     },
     "execution_count": 24,
     "metadata": {},
     "output_type": "execute_result"
    }
   ],
   "source": [
    "np.sqrt(np.mean((np.outer(mycebmf0.L[:,0],mycebmf0.F[:,0] ) - rank_1_matrix) ** 2))"
   ]
  },
  {
   "cell_type": "code",
   "execution_count": null,
   "metadata": {},
   "outputs": [
    {
     "data": {
      "text/plain": [
       "<function cEBMF.prior_exp(X, betahat, sebetahat, model_param)>"
      ]
     },
     "execution_count": 120,
     "metadata": {},
     "output_type": "execute_result"
    }
   ],
   "source": [
    "mycebmf.prior_L"
   ]
  },
  {
   "cell_type": "code",
   "execution_count": null,
   "metadata": {},
   "outputs": [
    {
     "data": {
      "text/plain": [
       "array([[8.06021762e-06, 1.16975152e-05, 7.45306534e-05, 1.19025899e-05,\n",
       "        6.02279033e-05, 9.60542729e-06, 8.47658430e-06, 9.71998543e-06,\n",
       "        8.09557605e-06, 7.87684075e-06],\n",
       "       [8.06155822e-06, 1.16994597e-05, 7.45426951e-05, 1.19045690e-05,\n",
       "        6.02377368e-05, 9.60702437e-06, 8.47799402e-06, 9.72160160e-06,\n",
       "        8.09692301e-06, 7.87815043e-06],\n",
       "       [8.06783100e-06, 1.17085601e-05, 7.45990619e-05, 1.19138276e-05,\n",
       "        6.02837390e-05, 9.61449859e-06, 8.48459058e-06, 9.72916496e-06,\n",
       "        8.10322308e-06, 7.88428042e-06],\n",
       "       [8.07393099e-06, 1.17174095e-05, 7.46538717e-05, 1.19228325e-05,\n",
       "        6.03284752e-05, 9.62176728e-06, 8.49100616e-06, 9.73652004e-06,\n",
       "        8.10934944e-06, 7.89024216e-06],\n",
       "       [8.06300432e-06, 1.17015579e-05, 7.45556972e-05, 1.19067035e-05,\n",
       "        6.02483415e-05, 9.60874786e-06, 8.47951560e-06, 9.72334601e-06,\n",
       "        8.09837547e-06, 7.87956378e-06],\n",
       "       [8.06678690e-06, 1.17070449e-05, 7.45896759e-05, 1.19122860e-05,\n",
       "        6.02760811e-05, 9.61325441e-06, 8.48349282e-06, 9.72790622e-06,\n",
       "        8.10217352e-06, 7.88325997e-06],\n",
       "       [8.06845856e-06, 1.17094696e-05, 7.46047008e-05, 1.19147544e-05,\n",
       "        6.02883410e-05, 9.61524620e-06, 8.48525087e-06, 9.72992166e-06,\n",
       "        8.10385336e-06, 7.88489342e-06],\n",
       "       [8.06998742e-06, 1.17116879e-05, 7.46184378e-05, 1.19170109e-05,\n",
       "        6.02995533e-05, 9.61706792e-06, 8.48685886e-06, 9.73176520e-06,\n",
       "        8.10538859e-06, 7.88638772e-06],\n",
       "       [8.06910157e-06, 1.17104018e-05, 7.46104706e-05, 1.19157021e-05,\n",
       "        6.02930559e-05, 9.61601199e-06, 8.48592663e-06, 9.73069655e-06,\n",
       "        8.10449819e-06, 7.88552188e-06],\n",
       "       [8.06002299e-06, 1.16972324e-05, 7.45288999e-05, 1.19023025e-05,\n",
       "        6.02264736e-05, 9.60519537e-06, 8.47637966e-06, 9.71975078e-06,\n",
       "        8.09538051e-06, 7.87664976e-06],\n",
       "       [8.06389835e-06, 1.17028540e-05, 7.45637226e-05, 1.19080223e-05,\n",
       "        6.02548971e-05, 9.60981288e-06, 8.48045511e-06, 9.72442285e-06,\n",
       "        8.09927315e-06, 7.88043690e-06],\n",
       "       [8.06957269e-06, 1.17110867e-05, 7.46147125e-05, 1.19163988e-05,\n",
       "        6.02965156e-05, 9.61657406e-06, 8.48642230e-06, 9.73126498e-06,\n",
       "        8.10497204e-06, 7.88598300e-06],\n",
       "       [8.07650395e-06, 1.17211421e-05, 7.46769947e-05, 1.19266306e-05,\n",
       "        6.03473491e-05, 9.62483318e-06, 8.49371190e-06, 9.73962233e-06,\n",
       "        8.11193422e-06, 7.89275691e-06],\n",
       "       [8.06339631e-06, 1.17021264e-05, 7.45592115e-05, 1.19072820e-05,\n",
       "        6.02512155e-05, 9.60921443e-06, 8.47992760e-06, 9.72381804e-06,\n",
       "        8.09876838e-06, 7.87994668e-06],\n",
       "       [8.07874130e-06, 1.17243872e-05, 7.46970909e-05, 1.19299330e-05,\n",
       "        6.03637527e-05, 9.62749891e-06, 8.49606386e-06, 9.74231989e-06,\n",
       "        8.11418067e-06, 7.89494243e-06],\n",
       "       [8.06327171e-06, 1.17019445e-05, 7.45580910e-05, 1.19070974e-05,\n",
       "        6.02502987e-05, 9.60906527e-06, 8.47979572e-06, 9.72366706e-06,\n",
       "        8.09864287e-06, 7.87982481e-06],\n",
       "       [8.07068773e-06, 1.17127038e-05, 7.46247315e-05, 1.19180440e-05,\n",
       "        6.03046901e-05, 9.61790192e-06, 8.48759464e-06, 9.73260921e-06,\n",
       "        8.10609163e-06, 7.88707257e-06],\n",
       "       [8.07860670e-06, 1.17241925e-05, 7.46958831e-05, 1.19297338e-05,\n",
       "        6.03627668e-05, 9.62733793e-06, 8.49592288e-06, 9.74215800e-06,\n",
       "        8.11404607e-06, 7.89481146e-06],\n",
       "       [8.07339984e-06, 1.17166383e-05, 7.46490987e-05, 1.19220476e-05,\n",
       "        6.03245790e-05, 9.62113336e-06, 8.49044682e-06, 9.73587885e-06,\n",
       "        8.10881556e-06, 7.88972284e-06],\n",
       "       [8.07542165e-06, 1.17195714e-05, 7.46672667e-05, 1.19250326e-05,\n",
       "        6.03394074e-05, 9.62354261e-06, 8.49257322e-06, 9.73831720e-06,\n",
       "        8.11084647e-06, 7.89169826e-06],\n",
       "       [8.08225377e-06, 1.17294840e-05, 7.47286540e-05, 1.19351180e-05,\n",
       "        6.03895169e-05, 9.63168441e-06, 8.49975822e-06, 9.74655541e-06,\n",
       "        8.11770951e-06, 7.89837577e-06],\n",
       "       [8.07922697e-06, 1.17250920e-05, 7.47014565e-05, 1.19306496e-05,\n",
       "        6.03673143e-05, 9.62807735e-06, 8.49657499e-06, 9.74290560e-06,\n",
       "        8.11466816e-06, 7.89541718e-06],\n",
       "       [8.07568904e-06, 1.17199597e-05, 7.46696678e-05, 1.19254273e-05,\n",
       "        6.03413719e-05, 9.62386184e-06, 8.49285425e-06, 9.73864007e-06,\n",
       "        8.11111568e-06, 7.89196019e-06],\n",
       "       [8.07688775e-06, 1.17216987e-05, 7.46804362e-05, 1.19271963e-05,\n",
       "        6.03501612e-05, 9.62528975e-06, 8.49411481e-06, 9.74008526e-06,\n",
       "        8.11231894e-06, 7.89313162e-06],\n",
       "       [8.05930722e-06, 1.16961937e-05, 7.45224679e-05, 1.19012457e-05,\n",
       "        6.02212240e-05, 9.60434227e-06, 8.47562660e-06, 9.71888767e-06,\n",
       "        8.09466201e-06, 7.87595036e-06],\n",
       "       [8.08110144e-06, 1.17278105e-05, 7.47182930e-05, 1.19334154e-05,\n",
       "        6.03810586e-05, 9.63031016e-06, 8.49854587e-06, 9.74516479e-06,\n",
       "        8.11655082e-06, 7.89724891e-06],\n",
       "       [8.06090247e-06, 1.16985084e-05, 7.45368015e-05, 1.19036004e-05,\n",
       "        6.02329237e-05, 9.60624311e-06, 8.47730462e-06, 9.72081125e-06,\n",
       "        8.09626363e-06, 7.87750923e-06],\n",
       "       [8.06296521e-06, 1.17015006e-05, 7.45553407e-05, 1.19066453e-05,\n",
       "        6.02480541e-05, 9.60870057e-06, 8.47947376e-06, 9.72329781e-06,\n",
       "        8.09833546e-06, 7.87952558e-06],\n",
       "       [8.06595381e-06, 1.17058371e-05, 7.45821962e-05, 1.19110573e-05,\n",
       "        6.02699729e-05, 9.61226215e-06, 8.48261698e-06, 9.72690214e-06,\n",
       "        8.10133770e-06, 7.88244597e-06],\n",
       "       [8.08151890e-06, 1.17284171e-05, 7.47220547e-05, 1.19340330e-05,\n",
       "        6.03841254e-05, 9.63080856e-06, 8.49898515e-06, 9.74566956e-06,\n",
       "        8.11697100e-06, 7.89765727e-06],\n",
       "       [8.06624757e-06, 1.17062627e-05, 7.45848301e-05, 1.19114902e-05,\n",
       "        6.02721266e-05, 9.61261230e-06, 8.48292530e-06, 9.72725593e-06,\n",
       "        8.10163237e-06, 7.88273337e-06],\n",
       "       [8.07610559e-06, 1.17205636e-05, 7.46734149e-05, 1.19260421e-05,\n",
       "        6.03444241e-05, 9.62435843e-06, 8.49329263e-06, 9.73914211e-06,\n",
       "        8.11153404e-06, 7.89236765e-06],\n",
       "       [8.08155801e-06, 1.17284744e-05, 7.47224040e-05, 1.19340912e-05,\n",
       "        6.03844128e-05, 9.63085495e-06, 8.49902699e-06, 9.74571685e-06,\n",
       "        8.11701011e-06, 7.89769547e-06],\n",
       "       [8.06785374e-06, 1.17085929e-05, 7.45992656e-05, 1.19138613e-05,\n",
       "        6.02839064e-05, 9.61452588e-06, 8.48461514e-06, 9.72919315e-06,\n",
       "        8.10324582e-06, 7.88430316e-06],\n",
       "       [8.05921536e-06, 1.16960609e-05, 7.45216385e-05, 1.19011102e-05,\n",
       "        6.02205509e-05, 9.60423222e-06, 8.47553019e-06, 9.71877671e-06,\n",
       "        8.09456924e-06, 7.87586032e-06],\n",
       "       [8.07065862e-06, 1.17126610e-05, 7.46244696e-05, 1.19180013e-05,\n",
       "        6.03044755e-05, 9.61786736e-06, 8.48756463e-06, 9.73257374e-06,\n",
       "        8.10606252e-06, 7.88704347e-06],\n",
       "       [8.05978289e-06, 1.16968831e-05, 7.45267389e-05, 1.19019469e-05,\n",
       "        6.02247092e-05, 9.60490797e-06, 8.47612682e-06, 9.71946065e-06,\n",
       "        8.09513858e-06, 7.87641511e-06],\n",
       "       [8.07815559e-06, 1.17235377e-05, 7.46918304e-05, 1.19290680e-05,\n",
       "        6.03594599e-05, 9.62680042e-06, 8.49544813e-06, 9.74161412e-06,\n",
       "        8.11359314e-06, 7.89437036e-06],\n",
       "       [8.06234220e-06, 1.17005966e-05, 7.45497382e-05, 1.19057258e-05,\n",
       "        6.02434848e-05, 9.60795842e-06, 8.47881893e-06, 9.72254747e-06,\n",
       "        8.09770972e-06, 7.87891622e-06],\n",
       "       [8.07908782e-06, 1.17248901e-05, 7.47002050e-05, 1.19304441e-05,\n",
       "        6.03662957e-05, 9.62791182e-06, 8.49642856e-06, 9.74273735e-06,\n",
       "        8.11452901e-06, 7.89528167e-06],\n",
       "       [8.07152810e-06, 1.17139234e-05, 7.46322839e-05, 1.19192855e-05,\n",
       "        6.03108565e-05, 9.61890419e-06, 8.48847867e-06, 9.73362330e-06,\n",
       "        8.10693655e-06, 7.88789384e-06],\n",
       "       [8.08163713e-06, 1.17285881e-05, 7.47231097e-05, 1.19342076e-05,\n",
       "        6.03849912e-05, 9.63094953e-06, 8.49910975e-06, 9.74581144e-06,\n",
       "        8.11708924e-06, 7.89777278e-06],\n",
       "       [8.07386914e-06, 1.17173195e-05, 7.46533187e-05, 1.19227407e-05,\n",
       "        6.03280205e-05, 9.62169361e-06, 8.49094067e-06, 9.73644546e-06,\n",
       "        8.10928759e-06, 7.89018122e-06],\n",
       "       [8.06765274e-06, 1.17083009e-05, 7.45974539e-05, 1.19135639e-05,\n",
       "        6.02824293e-05, 9.61428577e-06, 8.48440322e-06, 9.72894941e-06,\n",
       "        8.10304391e-06, 7.88410580e-06],\n",
       "       [8.06161097e-06, 1.16995361e-05, 7.45431680e-05, 1.19046463e-05,\n",
       "        6.02381224e-05, 9.60708712e-06, 8.47804949e-06, 9.72166526e-06,\n",
       "        8.09697576e-06, 7.87820227e-06],\n",
       "       [8.07703327e-06, 1.17219097e-05, 7.46817459e-05, 1.19274118e-05,\n",
       "        6.03512308e-05, 9.62546346e-06, 8.49426851e-06, 9.74026079e-06,\n",
       "        8.11246537e-06, 7.89327351e-06],\n",
       "       [8.06973731e-06, 1.17113250e-05, 7.46161895e-05, 1.19166416e-05,\n",
       "        6.02977198e-05, 9.61677051e-06, 8.48659602e-06, 9.73146325e-06,\n",
       "        8.10513757e-06, 7.88614398e-06],\n",
       "       [8.06492517e-06, 1.17043446e-05, 7.45729558e-05, 1.19095384e-05,\n",
       "        6.02624277e-05, 9.61103615e-06, 8.48153559e-06, 9.72566158e-06,\n",
       "        8.10030451e-06, 7.88144098e-06],\n",
       "       [8.06503976e-06, 1.17045101e-05, 7.45739817e-05, 1.19097076e-05,\n",
       "        6.02632681e-05, 9.61117257e-06, 8.48165564e-06, 9.72579983e-06,\n",
       "        8.10041911e-06, 7.88155285e-06],\n",
       "       [8.06588741e-06, 1.17057398e-05, 7.45815996e-05, 1.19109582e-05,\n",
       "        6.02694854e-05, 9.61218302e-06, 8.48254695e-06, 9.72682119e-06,\n",
       "        8.10127040e-06, 7.88238140e-06]], dtype=float32)"
      ]
     },
     "execution_count": 25,
     "metadata": {},
     "output_type": "execute_result"
    }
   ],
   "source": [
    "mycebmf.L"
   ]
  },
  {
   "cell_type": "code",
   "execution_count": null,
   "metadata": {},
   "outputs": [],
   "source": [
    "k=0\n",
    "mycebmf.cal_partial_residuals(k=k)\n",
    "\n",
    "        # Compute estimates for L\n",
    "lhat, s_l = compute_hat_l_and_s_l(mycebmf.Rk, mycebmf.F[:, k], mycebmf.F2[:, k], mycebmf.tau, mycebmf.has_nan)"
   ]
  },
  {
   "cell_type": "code",
   "execution_count": null,
   "metadata": {},
   "outputs": [],
   "source": []
  },
  {
   "cell_type": "code",
   "execution_count": null,
   "metadata": {},
   "outputs": [
    {
     "ename": "NameError",
     "evalue": "name 'ash_obj' is not defined",
     "output_type": "error",
     "traceback": [
      "\u001b[1;31m---------------------------------------------------------------------------\u001b[0m",
      "\u001b[1;31mNameError\u001b[0m                                 Traceback (most recent call last)",
      "Cell \u001b[1;32mIn[123], line 3\u001b[0m\n\u001b[0;32m      1\u001b[0m normal_means_loglik(x\u001b[38;5;241m=\u001b[39mlhat , \n\u001b[0;32m      2\u001b[0m                                             s\u001b[38;5;241m=\u001b[39m  s_l,\n\u001b[1;32m----> 3\u001b[0m                                             Et\u001b[38;5;241m=\u001b[39m\u001b[43mash_obj\u001b[49m\u001b[38;5;241m.\u001b[39mpost_mean,\n\u001b[0;32m      4\u001b[0m                                             Et2\u001b[38;5;241m=\u001b[39m ash_obj\u001b[38;5;241m.\u001b[39mpost_mean2\n\u001b[0;32m      5\u001b[0m                                            )\n",
      "\u001b[1;31mNameError\u001b[0m: name 'ash_obj' is not defined"
     ]
    }
   ],
   "source": [
    "normal_means_loglik(x=lhat , \n",
    "                                            s=  s_l,\n",
    "                                            Et=ash_obj.post_mean,\n",
    "                                            Et2= ash_obj.post_mean2\n",
    "                                           )"
   ]
  },
  {
   "cell_type": "code",
   "execution_count": null,
   "metadata": {},
   "outputs": [
    {
     "data": {
      "text/plain": [
       "481.358716088944"
      ]
     },
     "execution_count": 200,
     "metadata": {},
     "output_type": "execute_result"
    }
   ],
   "source": [
    "ash_obj.log_lik\n"
   ]
  },
  {
   "cell_type": "code",
   "execution_count": null,
   "metadata": {},
   "outputs": [
    {
     "ename": "ValueError",
     "evalue": "operands could not be broadcast together with shapes (40,) (50,) ",
     "output_type": "error",
     "traceback": [
      "\u001b[1;31m---------------------------------------------------------------------------\u001b[0m",
      "\u001b[1;31mValueError\u001b[0m                                Traceback (most recent call last)",
      "Cell \u001b[1;32mIn[201], line 1\u001b[0m\n\u001b[1;32m----> 1\u001b[0m \u001b[38;5;241m-\u001b[39m\u001b[38;5;241m0.5\u001b[39m \u001b[38;5;241m*\u001b[39m np\u001b[38;5;241m.\u001b[39msum(np\u001b[38;5;241m.\u001b[39mlog(\u001b[38;5;241m2\u001b[39m \u001b[38;5;241m*\u001b[39m np\u001b[38;5;241m.\u001b[39mpi \u001b[38;5;241m*\u001b[39m s\u001b[38;5;241m*\u001b[39m\u001b[38;5;241m*\u001b[39m\u001b[38;5;241m2\u001b[39m) \u001b[38;5;241m+\u001b[39m \u001b[43m(\u001b[49m\u001b[38;5;241;43m1\u001b[39;49m\u001b[43m \u001b[49m\u001b[38;5;241;43m/\u001b[39;49m\u001b[43m \u001b[49m\u001b[43ms\u001b[49m\u001b[38;5;241;43m*\u001b[39;49m\u001b[38;5;241;43m*\u001b[39;49m\u001b[38;5;241;43m2\u001b[39;49m\u001b[43m)\u001b[49m\u001b[43m \u001b[49m\u001b[38;5;241;43m*\u001b[39;49m\u001b[43m \u001b[49m\u001b[43m(\u001b[49m\u001b[43mEt2\u001b[49m\u001b[43m \u001b[49m\u001b[38;5;241;43m-\u001b[39;49m\u001b[43m \u001b[49m\u001b[38;5;241;43m2\u001b[39;49m\u001b[43m \u001b[49m\u001b[38;5;241;43m*\u001b[39;49m\u001b[43m \u001b[49m\u001b[43mx\u001b[49m\u001b[43m \u001b[49m\u001b[38;5;241;43m*\u001b[39;49m\u001b[43m \u001b[49m\u001b[43mEt\u001b[49m\u001b[43m \u001b[49m\u001b[38;5;241;43m+\u001b[39;49m\u001b[43m \u001b[49m\u001b[43mx\u001b[49m\u001b[38;5;241;43m*\u001b[39;49m\u001b[38;5;241;43m*\u001b[39;49m\u001b[38;5;241;43m2\u001b[39;49m\u001b[43m)\u001b[49m)\n",
      "\u001b[1;31mValueError\u001b[0m: operands could not be broadcast together with shapes (40,) (50,) "
     ]
    }
   ],
   "source": [
    "-0.5 * np.sum(np.log(2 * np.pi * s**2) + (1 / s**2) * (Et2 - 2 * x * Et + x**2))"
   ]
  },
  {
   "cell_type": "code",
   "execution_count": null,
   "metadata": {},
   "outputs": [
    {
     "name": "stdout",
     "output_type": "stream",
     "text": [
      "[0.00253063 0.00253063 0.00253063 0.00253063 0.00253063 0.00253063\n",
      " 0.00253063 0.00253063 0.00253063 0.00253063 0.00253063 0.00253063\n",
      " 0.00253063 0.00253063 0.00253063 0.00253063 0.00253063 0.00253063\n",
      " 0.00253063 0.00253063 0.00253063 0.00253063 0.00253063 0.00253063\n",
      " 0.00253063 0.00253063 0.00253063 0.00253063 0.00253063 0.00253063\n",
      " 0.00253063 0.00253063 0.00253063 0.00253063 0.00253063 0.00253063\n",
      " 0.00253063 0.00253063 0.00253063 0.00253063 0.00253063 0.00253063\n",
      " 0.00253063 0.00253063 0.00253063 0.00253063 0.00253063 0.00253063\n",
      " 0.00253063 0.00253063]\n"
     ]
    },
    {
     "data": {
      "image/png": "[encoded data removed]",
      "text/plain": [
       "<Figure size 640x480 with 1 Axes>"
      ]
     },
     "metadata": {},
     "output_type": "display_data"
    }
   ],
   "source": [
    "optimal_pi\n",
    "log_pi=  np.tile(np.log(optimal_pi+1e-32), (betahat.shape[0],1))\n",
    "        \n",
    "out= posterior_mean_exp(betahat= betahat ,\n",
    "                        sebetahat=sebetahat ,\n",
    "                                 log_pi=log_pi , \n",
    "                                 scale=scale)\n",
    "plt.scatter(out.post_mean, lhat)\n",
    "print(out.post_mean)\n"
   ]
  },
  {
   "cell_type": "code",
   "execution_count": null,
   "metadata": {},
   "outputs": [
    {
     "name": "stdout",
     "output_type": "stream",
     "text": [
      "[6.5913036e-05 6.5913036e-05 6.5913036e-05 6.5913036e-05 6.5913036e-05\n",
      " 6.5913036e-05 6.5913036e-05 6.5913036e-05 6.5913036e-05 6.5913036e-05\n",
      " 6.5913036e-05 6.5913036e-05 6.5913036e-05 6.5913036e-05 6.5913036e-05\n",
      " 6.5913036e-05 6.5913036e-05 6.5913036e-05 6.5913036e-05 6.5913036e-05\n",
      " 6.5913036e-05 6.5913036e-05 6.5913036e-05 6.5913036e-05 6.5913036e-05\n",
      " 6.5913036e-05 6.5913036e-05 6.5913036e-05 6.5913036e-05 6.5913036e-05\n",
      " 6.5913036e-05 6.5913036e-05 6.5913036e-05 6.5913036e-05 6.5913036e-05\n",
      " 6.5913036e-05 6.5913036e-05 6.5913036e-05 6.5913036e-05 6.5913036e-05\n",
      " 6.5913036e-05 6.5913036e-05 6.5913036e-05 6.5913036e-05 6.5913036e-05\n",
      " 6.5913036e-05 6.5913036e-05 6.5913036e-05 6.5913036e-05 6.5913036e-05]\n"
     ]
    }
   ],
   "source": [
    "print(  np.sum(np.exp(L)*optimal_pi, axis=1) )"
   ]
  },
  {
   "cell_type": "code",
   "execution_count": null,
   "metadata": {},
   "outputs": [
    {
     "name": "stdout",
     "output_type": "stream",
     "text": [
      "[[6.59127765e-05 2.11791704e-10 4.24984447e-11 5.00118907e-12\n",
      "  2.36863436e-13 2.73360663e-15 4.49813996e-18 7.17432045e-22]\n",
      " [6.59127765e-05 2.11791704e-10 4.24984447e-11 5.00118907e-12\n",
      "  2.36863436e-13 2.73360663e-15 4.49813996e-18 7.17432045e-22]\n",
      " [6.59127765e-05 2.11791704e-10 4.24984447e-11 5.00118907e-12\n",
      "  2.36863436e-13 2.73360663e-15 4.49813996e-18 7.17432045e-22]\n",
      " [6.59127765e-05 2.11791704e-10 4.24984447e-11 5.00118907e-12\n",
      "  2.36863436e-13 2.73360663e-15 4.49813996e-18 7.17432045e-22]\n",
      " [6.59127765e-05 2.11791704e-10 4.24984447e-11 5.00118907e-12\n",
      "  2.36863436e-13 2.73360663e-15 4.49813996e-18 7.17432045e-22]\n",
      " [6.59127765e-05 2.11791704e-10 4.24984447e-11 5.00118907e-12\n",
      "  2.36863436e-13 2.73360663e-15 4.49813996e-18 7.17432045e-22]\n",
      " [6.59127765e-05 2.11791704e-10 4.24984447e-11 5.00118907e-12\n",
      "  2.36863436e-13 2.73360663e-15 4.49813996e-18 7.17432045e-22]\n",
      " [6.59127765e-05 2.11791704e-10 4.24984447e-11 5.00118907e-12\n",
      "  2.36863436e-13 2.73360663e-15 4.49813996e-18 7.17432045e-22]\n",
      " [6.59127765e-05 2.11791704e-10 4.24984447e-11 5.00118907e-12\n",
      "  2.36863436e-13 2.73360663e-15 4.49813996e-18 7.17432045e-22]\n",
      " [6.59127765e-05 2.11791704e-10 4.24984447e-11 5.00118907e-12\n",
      "  2.36863436e-13 2.73360663e-15 4.49813996e-18 7.17432045e-22]\n",
      " [6.59127765e-05 2.11791704e-10 4.24984447e-11 5.00118907e-12\n",
      "  2.36863436e-13 2.73360663e-15 4.49813996e-18 7.17432045e-22]\n",
      " [6.59127765e-05 2.11791704e-10 4.24984447e-11 5.00118907e-12\n",
      "  2.36863436e-13 2.73360663e-15 4.49813996e-18 7.17432045e-22]\n",
      " [6.59127765e-05 2.11791704e-10 4.24984447e-11 5.00118907e-12\n",
      "  2.36863436e-13 2.73360663e-15 4.49813996e-18 7.17432045e-22]\n",
      " [6.59127765e-05 2.11791704e-10 4.24984447e-11 5.00118907e-12\n",
      "  2.36863436e-13 2.73360663e-15 4.49813996e-18 7.17432045e-22]\n",
      " [6.59127765e-05 2.11791704e-10 4.24984447e-11 5.00118907e-12\n",
      "  2.36863436e-13 2.73360663e-15 4.49813996e-18 7.17432045e-22]\n",
      " [6.59127765e-05 2.11791704e-10 4.24984447e-11 5.00118907e-12\n",
      "  2.36863436e-13 2.73360663e-15 4.49813996e-18 7.17432045e-22]\n",
      " [6.59127765e-05 2.11791704e-10 4.24984447e-11 5.00118907e-12\n",
      "  2.36863436e-13 2.73360663e-15 4.49813996e-18 7.17432045e-22]\n",
      " [6.59127765e-05 2.11791704e-10 4.24984447e-11 5.00118907e-12\n",
      "  2.36863436e-13 2.73360663e-15 4.49813996e-18 7.17432045e-22]\n",
      " [6.59127765e-05 2.11791704e-10 4.24984447e-11 5.00118907e-12\n",
      "  2.36863436e-13 2.73360663e-15 4.49813996e-18 7.17432045e-22]\n",
      " [6.59127765e-05 2.11791704e-10 4.24984447e-11 5.00118907e-12\n",
      "  2.36863436e-13 2.73360663e-15 4.49813996e-18 7.17432045e-22]\n",
      " [6.59127765e-05 2.11791704e-10 4.24984447e-11 5.00118907e-12\n",
      "  2.36863436e-13 2.73360663e-15 4.49813996e-18 7.17432045e-22]\n",
      " [6.59127765e-05 2.11791704e-10 4.24984447e-11 5.00118907e-12\n",
      "  2.36863436e-13 2.73360663e-15 4.49813996e-18 7.17432045e-22]\n",
      " [6.59127765e-05 2.11791704e-10 4.24984447e-11 5.00118907e-12\n",
      "  2.36863436e-13 2.73360663e-15 4.49813996e-18 7.17432045e-22]\n",
      " [6.59127765e-05 2.11791704e-10 4.24984447e-11 5.00118907e-12\n",
      "  2.36863436e-13 2.73360663e-15 4.49813996e-18 7.17432045e-22]\n",
      " [6.59127765e-05 2.11791704e-10 4.24984447e-11 5.00118907e-12\n",
      "  2.36863436e-13 2.73360663e-15 4.49813996e-18 7.17432045e-22]\n",
      " [6.59127765e-05 2.11791704e-10 4.24984447e-11 5.00118907e-12\n",
      "  2.36863436e-13 2.73360663e-15 4.49813996e-18 7.17432045e-22]\n",
      " [6.59127765e-05 2.11791704e-10 4.24984447e-11 5.00118907e-12\n",
      "  2.36863436e-13 2.73360663e-15 4.49813996e-18 7.17432045e-22]\n",
      " [6.59127765e-05 2.11791704e-10 4.24984447e-11 5.00118907e-12\n",
      "  2.36863436e-13 2.73360663e-15 4.49813996e-18 7.17432045e-22]\n",
      " [6.59127765e-05 2.11791704e-10 4.24984447e-11 5.00118907e-12\n",
      "  2.36863436e-13 2.73360663e-15 4.49813996e-18 7.17432045e-22]\n",
      " [6.59127765e-05 2.11791704e-10 4.24984447e-11 5.00118907e-12\n",
      "  2.36863436e-13 2.73360663e-15 4.49813996e-18 7.17432045e-22]\n",
      " [6.59127765e-05 2.11791704e-10 4.24984447e-11 5.00118907e-12\n",
      "  2.36863436e-13 2.73360663e-15 4.49813996e-18 7.17432045e-22]\n",
      " [6.59127765e-05 2.11791704e-10 4.24984447e-11 5.00118907e-12\n",
      "  2.36863436e-13 2.73360663e-15 4.49813996e-18 7.17432045e-22]\n",
      " [6.59127765e-05 2.11791704e-10 4.24984447e-11 5.00118907e-12\n",
      "  2.36863436e-13 2.73360663e-15 4.49813996e-18 7.17432045e-22]\n",
      " [6.59127765e-05 2.11791704e-10 4.24984447e-11 5.00118907e-12\n",
      "  2.36863436e-13 2.73360663e-15 4.49813996e-18 7.17432045e-22]\n",
      " [6.59127765e-05 2.11791704e-10 4.24984447e-11 5.00118907e-12\n",
      "  2.36863436e-13 2.73360663e-15 4.49813996e-18 7.17432045e-22]\n",
      " [6.59127765e-05 2.11791704e-10 4.24984447e-11 5.00118907e-12\n",
      "  2.36863436e-13 2.73360663e-15 4.49813996e-18 7.17432045e-22]\n",
      " [6.59127765e-05 2.11791704e-10 4.24984447e-11 5.00118907e-12\n",
      "  2.36863436e-13 2.73360663e-15 4.49813996e-18 7.17432045e-22]\n",
      " [6.59127765e-05 2.11791704e-10 4.24984447e-11 5.00118907e-12\n",
      "  2.36863436e-13 2.73360663e-15 4.49813996e-18 7.17432045e-22]\n",
      " [6.59127765e-05 2.11791704e-10 4.24984447e-11 5.00118907e-12\n",
      "  2.36863436e-13 2.73360663e-15 4.49813996e-18 7.17432045e-22]\n",
      " [6.59127765e-05 2.11791704e-10 4.24984447e-11 5.00118907e-12\n",
      "  2.36863436e-13 2.73360663e-15 4.49813996e-18 7.17432045e-22]\n",
      " [6.59127765e-05 2.11791704e-10 4.24984447e-11 5.00118907e-12\n",
      "  2.36863436e-13 2.73360663e-15 4.49813996e-18 7.17432045e-22]\n",
      " [6.59127765e-05 2.11791704e-10 4.24984447e-11 5.00118907e-12\n",
      "  2.36863436e-13 2.73360663e-15 4.49813996e-18 7.17432045e-22]\n",
      " [6.59127765e-05 2.11791704e-10 4.24984447e-11 5.00118907e-12\n",
      "  2.36863436e-13 2.73360663e-15 4.49813996e-18 7.17432045e-22]\n",
      " [6.59127765e-05 2.11791704e-10 4.24984447e-11 5.00118907e-12\n",
      "  2.36863436e-13 2.73360663e-15 4.49813996e-18 7.17432045e-22]\n",
      " [6.59127765e-05 2.11791704e-10 4.24984447e-11 5.00118907e-12\n",
      "  2.36863436e-13 2.73360663e-15 4.49813996e-18 7.17432045e-22]\n",
      " [6.59127765e-05 2.11791704e-10 4.24984447e-11 5.00118907e-12\n",
      "  2.36863436e-13 2.73360663e-15 4.49813996e-18 7.17432045e-22]\n",
      " [6.59127765e-05 2.11791704e-10 4.24984447e-11 5.00118907e-12\n",
      "  2.36863436e-13 2.73360663e-15 4.49813996e-18 7.17432045e-22]\n",
      " [6.59127765e-05 2.11791704e-10 4.24984447e-11 5.00118907e-12\n",
      "  2.36863436e-13 2.73360663e-15 4.49813996e-18 7.17432045e-22]\n",
      " [6.59127765e-05 2.11791704e-10 4.24984447e-11 5.00118907e-12\n",
      "  2.36863436e-13 2.73360663e-15 4.49813996e-18 7.17432045e-22]\n",
      " [6.59127765e-05 2.11791704e-10 4.24984447e-11 5.00118907e-12\n",
      "  2.36863436e-13 2.73360663e-15 4.49813996e-18 7.17432045e-22]]\n"
     ]
    }
   ],
   "source": [
    "L= get_data_loglik_exp(betahat=betahat ,\n",
    "                                 sebetahat=sebetahat , \n",
    "                                 scale=scale)\n",
    "print( np.exp(L)*optimal_pi )"
   ]
  },
  {
   "cell_type": "code",
   "execution_count": null,
   "metadata": {},
   "outputs": [
    {
     "name": "stdout",
     "output_type": "stream",
     "text": [
      "[[-9.62717427 -9.63693546 -9.64626062 -9.66379588 -9.69533353 -9.74859295\n",
      "  -9.8318191  -9.95146753]\n",
      " [-9.62717427 -9.63693546 -9.64626062 -9.66379588 -9.69533353 -9.74859295\n",
      "  -9.8318191  -9.95146753]\n",
      " [-9.62717427 -9.63693546 -9.64626062 -9.66379588 -9.69533353 -9.74859295\n",
      "  -9.8318191  -9.95146753]\n",
      " [-9.62717427 -9.63693546 -9.64626062 -9.66379588 -9.69533353 -9.74859295\n",
      "  -9.8318191  -9.95146753]\n",
      " [-9.62717427 -9.63693546 -9.64626062 -9.66379588 -9.69533353 -9.74859295\n",
      "  -9.8318191  -9.95146753]\n",
      " [-9.62717427 -9.63693546 -9.64626062 -9.66379588 -9.69533353 -9.74859295\n",
      "  -9.8318191  -9.95146753]\n",
      " [-9.62717427 -9.63693546 -9.64626062 -9.66379588 -9.69533353 -9.74859295\n",
      "  -9.8318191  -9.95146753]\n",
      " [-9.62717427 -9.63693546 -9.64626062 -9.66379588 -9.69533353 -9.74859295\n",
      "  -9.8318191  -9.95146753]\n",
      " [-9.62717427 -9.63693546 -9.64626062 -9.66379588 -9.69533353 -9.74859295\n",
      "  -9.8318191  -9.95146753]\n",
      " [-9.62717427 -9.63693546 -9.64626062 -9.66379588 -9.69533353 -9.74859295\n",
      "  -9.8318191  -9.95146753]\n",
      " [-9.62717427 -9.63693546 -9.64626062 -9.66379588 -9.69533353 -9.74859295\n",
      "  -9.8318191  -9.95146753]\n",
      " [-9.62717427 -9.63693546 -9.64626062 -9.66379588 -9.69533353 -9.74859295\n",
      "  -9.8318191  -9.95146753]\n",
      " [-9.62717427 -9.63693546 -9.64626062 -9.66379588 -9.69533353 -9.74859295\n",
      "  -9.8318191  -9.95146753]\n",
      " [-9.62717427 -9.63693546 -9.64626062 -9.66379588 -9.69533353 -9.74859295\n",
      "  -9.8318191  -9.95146753]\n",
      " [-9.62717427 -9.63693546 -9.64626062 -9.66379588 -9.69533353 -9.74859295\n",
      "  -9.8318191  -9.95146753]\n",
      " [-9.62717427 -9.63693546 -9.64626062 -9.66379588 -9.69533353 -9.74859295\n",
      "  -9.8318191  -9.95146753]\n",
      " [-9.62717427 -9.63693546 -9.64626062 -9.66379588 -9.69533353 -9.74859295\n",
      "  -9.8318191  -9.95146753]\n",
      " [-9.62717427 -9.63693546 -9.64626062 -9.66379588 -9.69533353 -9.74859295\n",
      "  -9.8318191  -9.95146753]\n",
      " [-9.62717427 -9.63693546 -9.64626062 -9.66379588 -9.69533353 -9.74859295\n",
      "  -9.8318191  -9.95146753]\n",
      " [-9.62717427 -9.63693546 -9.64626062 -9.66379588 -9.69533353 -9.74859295\n",
      "  -9.8318191  -9.95146753]\n",
      " [-9.62717427 -9.63693546 -9.64626062 -9.66379588 -9.69533353 -9.74859295\n",
      "  -9.8318191  -9.95146753]\n",
      " [-9.62717427 -9.63693546 -9.64626062 -9.66379588 -9.69533353 -9.74859295\n",
      "  -9.8318191  -9.95146753]\n",
      " [-9.62717427 -9.63693546 -9.64626062 -9.66379588 -9.69533353 -9.74859295\n",
      "  -9.8318191  -9.95146753]\n",
      " [-9.62717427 -9.63693546 -9.64626062 -9.66379588 -9.69533353 -9.74859295\n",
      "  -9.8318191  -9.95146753]\n",
      " [-9.62717427 -9.63693546 -9.64626062 -9.66379588 -9.69533353 -9.74859295\n",
      "  -9.8318191  -9.95146753]\n",
      " [-9.62717427 -9.63693546 -9.64626062 -9.66379588 -9.69533353 -9.74859295\n",
      "  -9.8318191  -9.95146753]\n",
      " [-9.62717427 -9.63693546 -9.64626062 -9.66379588 -9.69533353 -9.74859295\n",
      "  -9.8318191  -9.95146753]\n",
      " [-9.62717427 -9.63693546 -9.64626062 -9.66379588 -9.69533353 -9.74859295\n",
      "  -9.8318191  -9.95146753]\n",
      " [-9.62717427 -9.63693546 -9.64626062 -9.66379588 -9.69533353 -9.74859295\n",
      "  -9.8318191  -9.95146753]\n",
      " [-9.62717427 -9.63693546 -9.64626062 -9.66379588 -9.69533353 -9.74859295\n",
      "  -9.8318191  -9.95146753]\n",
      " [-9.62717427 -9.63693546 -9.64626062 -9.66379588 -9.69533353 -9.74859295\n",
      "  -9.8318191  -9.95146753]\n",
      " [-9.62717427 -9.63693546 -9.64626062 -9.66379588 -9.69533353 -9.74859295\n",
      "  -9.8318191  -9.95146753]\n",
      " [-9.62717427 -9.63693546 -9.64626062 -9.66379588 -9.69533353 -9.74859295\n",
      "  -9.8318191  -9.95146753]\n",
      " [-9.62717427 -9.63693546 -9.64626062 -9.66379588 -9.69533353 -9.74859295\n",
      "  -9.8318191  -9.95146753]\n",
      " [-9.62717427 -9.63693546 -9.64626062 -9.66379588 -9.69533353 -9.74859295\n",
      "  -9.8318191  -9.95146753]\n",
      " [-9.62717427 -9.63693546 -9.64626062 -9.66379588 -9.69533353 -9.74859295\n",
      "  -9.8318191  -9.95146753]\n",
      " [-9.62717427 -9.63693546 -9.64626062 -9.66379588 -9.69533353 -9.74859295\n",
      "  -9.8318191  -9.95146753]\n",
      " [-9.62717427 -9.63693546 -9.64626062 -9.66379588 -9.69533353 -9.74859295\n",
      "  -9.8318191  -9.95146753]\n",
      " [-9.62717427 -9.63693546 -9.64626062 -9.66379588 -9.69533353 -9.74859295\n",
      "  -9.8318191  -9.95146753]\n",
      " [-9.62717427 -9.63693546 -9.64626062 -9.66379588 -9.69533353 -9.74859295\n",
      "  -9.8318191  -9.95146753]\n",
      " [-9.62717427 -9.63693546 -9.64626062 -9.66379588 -9.69533353 -9.74859295\n",
      "  -9.8318191  -9.95146753]\n",
      " [-9.62717427 -9.63693546 -9.64626062 -9.66379588 -9.69533353 -9.74859295\n",
      "  -9.8318191  -9.95146753]\n",
      " [-9.62717427 -9.63693546 -9.64626062 -9.66379588 -9.69533353 -9.74859295\n",
      "  -9.8318191  -9.95146753]\n",
      " [-9.62717427 -9.63693546 -9.64626062 -9.66379588 -9.69533353 -9.74859295\n",
      "  -9.8318191  -9.95146753]\n",
      " [-9.62717427 -9.63693546 -9.64626062 -9.66379588 -9.69533353 -9.74859295\n",
      "  -9.8318191  -9.95146753]\n",
      " [-9.62717427 -9.63693546 -9.64626062 -9.66379588 -9.69533353 -9.74859295\n",
      "  -9.8318191  -9.95146753]\n",
      " [-9.62717427 -9.63693546 -9.64626062 -9.66379588 -9.69533353 -9.74859295\n",
      "  -9.8318191  -9.95146753]\n",
      " [-9.62717427 -9.63693546 -9.64626062 -9.66379588 -9.69533353 -9.74859295\n",
      "  -9.8318191  -9.95146753]\n",
      " [-9.62717427 -9.63693546 -9.64626062 -9.66379588 -9.69533353 -9.74859295\n",
      "  -9.8318191  -9.95146753]\n",
      " [-9.62717427 -9.63693546 -9.64626062 -9.66379588 -9.69533353 -9.74859295\n",
      "  -9.8318191  -9.95146753]]\n",
      "[[-9.62717427 -9.63693546 -9.64626062 -9.66379588 -9.69533353 -9.74859295\n",
      "  -9.8318191  -9.95146753]\n",
      " [-9.62717427 -9.63693546 -9.64626062 -9.66379588 -9.69533353 -9.74859295\n",
      "  -9.8318191  -9.95146753]\n",
      " [-9.62717427 -9.63693546 -9.64626062 -9.66379588 -9.69533353 -9.74859295\n",
      "  -9.8318191  -9.95146753]\n",
      " [-9.62717427 -9.63693546 -9.64626062 -9.66379588 -9.69533353 -9.74859295\n",
      "  -9.8318191  -9.95146753]\n",
      " [-9.62717427 -9.63693546 -9.64626062 -9.66379588 -9.69533353 -9.74859295\n",
      "  -9.8318191  -9.95146753]\n",
      " [-9.62717427 -9.63693546 -9.64626062 -9.66379588 -9.69533353 -9.74859295\n",
      "  -9.8318191  -9.95146753]\n",
      " [-9.62717427 -9.63693546 -9.64626062 -9.66379588 -9.69533353 -9.74859295\n",
      "  -9.8318191  -9.95146753]\n",
      " [-9.62717427 -9.63693546 -9.64626062 -9.66379588 -9.69533353 -9.74859295\n",
      "  -9.8318191  -9.95146753]\n",
      " [-9.62717427 -9.63693546 -9.64626062 -9.66379588 -9.69533353 -9.74859295\n",
      "  -9.8318191  -9.95146753]\n",
      " [-9.62717427 -9.63693546 -9.64626062 -9.66379588 -9.69533353 -9.74859295\n",
      "  -9.8318191  -9.95146753]\n",
      " [-9.62717427 -9.63693546 -9.64626062 -9.66379588 -9.69533353 -9.74859295\n",
      "  -9.8318191  -9.95146753]\n",
      " [-9.62717427 -9.63693546 -9.64626062 -9.66379588 -9.69533353 -9.74859295\n",
      "  -9.8318191  -9.95146753]\n",
      " [-9.62717427 -9.63693546 -9.64626062 -9.66379588 -9.69533353 -9.74859295\n",
      "  -9.8318191  -9.95146753]\n",
      " [-9.62717427 -9.63693546 -9.64626062 -9.66379588 -9.69533353 -9.74859295\n",
      "  -9.8318191  -9.95146753]\n",
      " [-9.62717427 -9.63693546 -9.64626062 -9.66379588 -9.69533353 -9.74859295\n",
      "  -9.8318191  -9.95146753]\n",
      " [-9.62717427 -9.63693546 -9.64626062 -9.66379588 -9.69533353 -9.74859295\n",
      "  -9.8318191  -9.95146753]\n",
      " [-9.62717427 -9.63693546 -9.64626062 -9.66379588 -9.69533353 -9.74859295\n",
      "  -9.8318191  -9.95146753]\n",
      " [-9.62717427 -9.63693546 -9.64626062 -9.66379588 -9.69533353 -9.74859295\n",
      "  -9.8318191  -9.95146753]\n",
      " [-9.62717427 -9.63693546 -9.64626062 -9.66379588 -9.69533353 -9.74859295\n",
      "  -9.8318191  -9.95146753]\n",
      " [-9.62717427 -9.63693546 -9.64626062 -9.66379588 -9.69533353 -9.74859295\n",
      "  -9.8318191  -9.95146753]\n",
      " [-9.62717427 -9.63693546 -9.64626062 -9.66379588 -9.69533353 -9.74859295\n",
      "  -9.8318191  -9.95146753]\n",
      " [-9.62717427 -9.63693546 -9.64626062 -9.66379588 -9.69533353 -9.74859295\n",
      "  -9.8318191  -9.95146753]\n",
      " [-9.62717427 -9.63693546 -9.64626062 -9.66379588 -9.69533353 -9.74859295\n",
      "  -9.8318191  -9.95146753]\n",
      " [-9.62717427 -9.63693546 -9.64626062 -9.66379588 -9.69533353 -9.74859295\n",
      "  -9.8318191  -9.95146753]\n",
      " [-9.62717427 -9.63693546 -9.64626062 -9.66379588 -9.69533353 -9.74859295\n",
      "  -9.8318191  -9.95146753]\n",
      " [-9.62717427 -9.63693546 -9.64626062 -9.66379588 -9.69533353 -9.74859295\n",
      "  -9.8318191  -9.95146753]\n",
      " [-9.62717427 -9.63693546 -9.64626062 -9.66379588 -9.69533353 -9.74859295\n",
      "  -9.8318191  -9.95146753]\n",
      " [-9.62717427 -9.63693546 -9.64626062 -9.66379588 -9.69533353 -9.74859295\n",
      "  -9.8318191  -9.95146753]\n",
      " [-9.62717427 -9.63693546 -9.64626062 -9.66379588 -9.69533353 -9.74859295\n",
      "  -9.8318191  -9.95146753]\n",
      " [-9.62717427 -9.63693546 -9.64626062 -9.66379588 -9.69533353 -9.74859295\n",
      "  -9.8318191  -9.95146753]\n",
      " [-9.62717427 -9.63693546 -9.64626062 -9.66379588 -9.69533353 -9.74859295\n",
      "  -9.8318191  -9.95146753]\n",
      " [-9.62717427 -9.63693546 -9.64626062 -9.66379588 -9.69533353 -9.74859295\n",
      "  -9.8318191  -9.95146753]\n",
      " [-9.62717427 -9.63693546 -9.64626062 -9.66379588 -9.69533353 -9.74859295\n",
      "  -9.8318191  -9.95146753]\n",
      " [-9.62717427 -9.63693546 -9.64626062 -9.66379588 -9.69533353 -9.74859295\n",
      "  -9.8318191  -9.95146753]\n",
      " [-9.62717427 -9.63693546 -9.64626062 -9.66379588 -9.69533353 -9.74859295\n",
      "  -9.8318191  -9.95146753]\n",
      " [-9.62717427 -9.63693546 -9.64626062 -9.66379588 -9.69533353 -9.74859295\n",
      "  -9.8318191  -9.95146753]\n",
      " [-9.62717427 -9.63693546 -9.64626062 -9.66379588 -9.69533353 -9.74859295\n",
      "  -9.8318191  -9.95146753]\n",
      " [-9.62717427 -9.63693546 -9.64626062 -9.66379588 -9.69533353 -9.74859295\n",
      "  -9.8318191  -9.95146753]\n",
      " [-9.62717427 -9.63693546 -9.64626062 -9.66379588 -9.69533353 -9.74859295\n",
      "  -9.8318191  -9.95146753]\n",
      " [-9.62717427 -9.63693546 -9.64626062 -9.66379588 -9.69533353 -9.74859295\n",
      "  -9.8318191  -9.95146753]\n",
      " [-9.62717427 -9.63693546 -9.64626062 -9.66379588 -9.69533353 -9.74859295\n",
      "  -9.8318191  -9.95146753]\n",
      " [-9.62717427 -9.63693546 -9.64626062 -9.66379588 -9.69533353 -9.74859295\n",
      "  -9.8318191  -9.95146753]\n",
      " [-9.62717427 -9.63693546 -9.64626062 -9.66379588 -9.69533353 -9.74859295\n",
      "  -9.8318191  -9.95146753]\n",
      " [-9.62717427 -9.63693546 -9.64626062 -9.66379588 -9.69533353 -9.74859295\n",
      "  -9.8318191  -9.95146753]\n",
      " [-9.62717427 -9.63693546 -9.64626062 -9.66379588 -9.69533353 -9.74859295\n",
      "  -9.8318191  -9.95146753]\n",
      " [-9.62717427 -9.63693546 -9.64626062 -9.66379588 -9.69533353 -9.74859295\n",
      "  -9.8318191  -9.95146753]\n",
      " [-9.62717427 -9.63693546 -9.64626062 -9.66379588 -9.69533353 -9.74859295\n",
      "  -9.8318191  -9.95146753]\n",
      " [-9.62717427 -9.63693546 -9.64626062 -9.66379588 -9.69533353 -9.74859295\n",
      "  -9.8318191  -9.95146753]\n",
      " [-9.62717427 -9.63693546 -9.64626062 -9.66379588 -9.69533353 -9.74859295\n",
      "  -9.8318191  -9.95146753]\n",
      " [-9.62717427 -9.63693546 -9.64626062 -9.66379588 -9.69533353 -9.74859295\n",
      "  -9.8318191  -9.95146753]]\n"
     ]
    }
   ],
   "source": [
    "L= get_data_loglik_exp(betahat=betahat ,\n",
    "                                 sebetahat=sebetahat , \n",
    "                                 scale=scale)\n",
    "\n",
    "print(L)\n",
    "\n",
    "threshold_loglikelihood =  -300  # Example of a very small threshold\n",
    "L = np.maximum(L,  (threshold_loglikelihood))\n",
    "print(L)\n",
    "log_lik =    np.sum(np.log(np.sum(np.exp(L)*optimal_pi, axis=1)))"
   ]
  },
  {
   "cell_type": "code",
   "execution_count": null,
   "metadata": {},
   "outputs": [],
   "source": []
  },
  {
   "cell_type": "code",
   "execution_count": null,
   "metadata": {},
   "outputs": [
    {
     "data": {
      "text/plain": [
       "array([6.59130391e-05, 6.52727797e-05, 6.46669294e-05, 6.35428623e-05,\n",
       "       6.15701408e-05, 5.83767451e-05, 5.37149551e-05, 4.76576437e-05])"
      ]
     },
     "execution_count": 170,
     "metadata": {},
     "output_type": "execute_result"
    }
   ],
   "source": [
    "np.exp(L[1,]) "
   ]
  },
  {
   "cell_type": "code",
   "execution_count": null,
   "metadata": {},
   "outputs": [
    {
     "name": "stdout",
     "output_type": "stream",
     "text": [
      "[   0.          605.25527344  855.96021639 1210.51054687 1711.92043279\n",
      " 2421.02109375 3423.84086557 4842.0421875 ]\n",
      "0.0\n"
     ]
    },
    {
     "data": {
      "text/plain": [
       "array([-9.62717427, -9.63693546, -9.64626062, -9.66379588, -9.69533353,\n",
       "       -9.74859295, -9.8318191 , -9.95146753])"
      ]
     },
     "execution_count": 171,
     "metadata": {},
     "output_type": "execute_result"
    }
   ],
   "source": [
    "i=6\n",
    "print(scale)\n",
    "print(betahat[i]/sebetahat[i])\n",
    "convolved_logpdf_exp(betahat=betahat[i],\n",
    "                                         sebetahat=sebetahat[i],  \n",
    "                                         scale=scale)"
   ]
  }
 ],
 "metadata": {
  "kernelspec": {
   "display_name": "ml_env",
   "language": "python",
   "name": "python3"
  },
  "language_info": {
   "codemirror_mode": {
    "name": "ipython",
    "version": 3
   },
   "file_extension": ".py",
   "mimetype": "text/x-python",
   "name": "python",
   "nbconvert_exporter": "python",
   "pygments_lexer": "ipython3",
   "version": "3.10.8"
  }
 },
 "nbformat": 4,
 "nbformat_minor": 2
}
