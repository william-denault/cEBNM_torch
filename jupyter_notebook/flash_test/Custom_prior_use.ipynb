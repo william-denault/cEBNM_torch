{
 "cells": [
  {
   "cell_type": "markdown",
   "metadata": {},
   "source": [
    "Here we decribe how to use cEBMF with a custom  prior\n",
    "\n",
    "\n",
    "Step 1: Define a Custom Prior Function\n",
    " \n",
    "\n",
    "    Take X, betahat, sebetahat, and model_param as inputs.\n",
    "    \n",
    "    Return a PriorResult object (which contains .post_mean, .post_mean2, .loss, and .model_param)."
   ]
  },
  {
   "cell_type": "markdown",
   "metadata": {},
   "source": [
    "Below a naive example generated via GPT\n",
    "Compute posterior mean and variance based on a simple Bayesian update."
   ]
  },
  {
   "cell_type": "markdown",
   "metadata": {},
   "source": []
  },
  {
   "cell_type": "code",
   "execution_count": 2,
   "metadata": {},
   "outputs": [],
   "source": [
    "import sys\n",
    "import os\n",
    "import matplotlib.pyplot as plt\n",
    "\n",
    "# Add the path to utils.py\n",
    "sys.path.append(r\"D:\\Document\\Serieux\\Travail\\python_work\\cEBNM_torch\\py\")\n",
    "from cEBMF import *"
   ]
  },
  {
   "cell_type": "code",
   "execution_count": 3,
   "metadata": {},
   "outputs": [],
   "source": [
    "def my_custom_prior(X, betahat, sebetahat, model_param):\n",
    "    \"\"\"\n",
    "    A simple custom prior function for demonstration.\n",
    "    \n",
    "    - Assumes a Gaussian prior with mean 0 and variance 1.\n",
    "    - Uses a standard Bayesian update to compute the posterior.\n",
    "\n",
    "    Parameters:\n",
    "    - X: Covariates (not used in this simple example).\n",
    "    - betahat: Observed effect estimates.\n",
    "    - sebetahat: Standard errors of betahat.\n",
    "    - model_param: Model parameters (not used here).\n",
    "\n",
    "    Returns:\n",
    "    - PriorResult object with post_mean, post_mean2, loss, and model_param.\n",
    "    \"\"\"\n",
    "\n",
    "    # Simple Bayesian posterior update assuming Gaussian prior\n",
    "    prior_mean = 0\n",
    "    prior_var = 1  # Prior variance\n",
    "\n",
    "    posterior_var = 1 / (1 / prior_var + 1 / sebetahat**2)\n",
    "    posterior_mean = posterior_var * (prior_mean / prior_var + betahat / sebetahat**2)\n",
    "\n",
    "    # Compute posterior second moment (E[theta^2])\n",
    "    post_mean2 = posterior_var + posterior_mean**2\n",
    "\n",
    "    # Dummy loss (not really used for this example)\n",
    "    loss = np.sum((betahat - posterior_mean)**2)\n",
    "\n",
    "    return PriorResult(post_mean=posterior_mean, post_mean2=post_mean2, log_lik=-loss)\n"
   ]
  },
  {
   "cell_type": "code",
   "execution_count": 4,
   "metadata": {},
   "outputs": [],
   "source": [
    "# Generate synthetic data\n",
    "np.random.seed(42)\n",
    "N, P = 50, 30  # Matrix dimensions\n",
    "true_K = 5  # Number of true factors\n",
    "\n",
    "# Create a low-rank matrix L @ F'\n",
    "true_L = np.random.randn(N, true_K)\n",
    "true_F = np.random.randn(P, true_K)\n",
    "Y = true_L @ true_F.T + np.random.randn(N, P) * 0.1  # Add some noise\n"
   ]
  },
  {
   "cell_type": "code",
   "execution_count": 5,
   "metadata": {},
   "outputs": [
    {
     "name": "stdout",
     "output_type": "stream",
     "text": [
      "Learned L matrix:\n",
      "[[-0.60958064  0.746022    1.6817462  -1.1198523  -0.187282  ]\n",
      " [-1.9499727  -0.4235448   0.56339747  0.86948955 -0.563917  ]\n",
      " [ 2.1332428   0.12717284  0.2979037   1.6733191   0.8358868 ]\n",
      " [ 1.8442827   0.33968693  0.6332076   0.7077116   1.1096287 ]\n",
      " [ 1.8955008  -1.2064508   0.37512994  0.75628686 -0.7761075 ]\n",
      " [ 1.3617381  -0.8121241   0.68506557  0.0152251   0.6891069 ]\n",
      " [-1.8701243  -0.43843305 -1.0580943   1.3280759  -0.639041  ]\n",
      " [ 0.8624438   0.3464905  -3.8449154   1.1613811   0.29073432]\n",
      " [ 1.3288583   0.9510803   0.49561158  0.49840233 -0.5779007 ]\n",
      " [ 0.45966184  1.4835061   2.1002178   0.21198682  1.1207855 ]\n",
      " [-0.1325615  -0.4889433  -1.0171773  -0.8908546  -0.21550657]\n",
      " [ 0.5637158  -1.2105744  -0.23150134 -1.020381   -0.26264718]\n",
      " [ 0.61789924 -0.9199849  -2.4581225   0.6074162   0.19590311]\n",
      " [ 0.35394508 -0.2120251   2.3192124  -0.36018062 -0.6238682 ]\n",
      " [-0.33730716  3.850969    1.1662544   0.2185012  -1.1402876 ]\n",
      " [ 1.6359863   1.62996     0.51688737  0.32752588 -0.6040251 ]\n",
      " [-0.44912562  0.00758733  2.284086    0.7377408   0.36643583]\n",
      " [-1.2482146  -0.3696481  -0.12630041  0.67148405 -0.06860723]\n",
      " [-0.03028821  0.8046246  -1.1164387   0.67756915 -0.7901374 ]\n",
      " [-0.85892427  0.80818194 -0.06912454  0.46210566  0.8956082 ]\n",
      " [ 0.3817141   0.17878327 -1.1007473   0.6697196   1.1672982 ]\n",
      " [-1.6522838   0.7664611   0.23137921  0.49865475 -1.3193392 ]\n",
      " [-1.954769    2.649039    0.2426581  -1.2352453   1.2619607 ]\n",
      " [-0.26750264  0.4441051  -1.6092162  -1.0830842  -0.536589  ]\n",
      " [ 0.7612728  -2.7473888   1.906497    0.2593671   0.37191573]\n",
      " [ 2.4293466  -0.5410175   0.25410032 -0.73855495 -1.07933   ]\n",
      " [ 0.14761278  2.2166781  -1.7050699   0.26429388  0.795717  ]\n",
      " [ 1.9025494   0.8334077   0.75366366 -0.8272053  -0.68598306]\n",
      " [-0.45187855  0.958045   -2.562417    0.25432795 -1.3158675 ]\n",
      " [ 1.6389079  -0.17858429 -1.4760617  -1.048383   -0.17667395]\n",
      " [-0.14175096  0.18933398 -1.0092307  -0.15322377 -0.57097375]\n",
      " [-1.9923083  -0.5303778  -0.32501483  1.5055209  -0.45222297]\n",
      " [-1.8721641  -1.150199    0.7680253   0.75660044  0.46271074]\n",
      " [-0.90963656 -0.0662487   3.0516984   0.5830655  -0.28406417]\n",
      " [-0.02002439  0.03284169 -0.3011774  -0.45431247  1.0367289 ]\n",
      " [-1.9565549  -3.529429    1.4846984  -0.6927347  -0.27225256]\n",
      " [ 1.4809793   0.39131817 -1.0910381  -0.71983993 -0.21962517]\n",
      " [ 1.3059804   0.6492443   0.33585098  1.0458064  -0.7139391 ]\n",
      " [-0.5312348  -0.5560674  -0.37898713  1.2316691  -0.05098321]\n",
      " [ 1.5983112   0.5067013   0.91040033 -0.13990252  0.29964653]\n",
      " [-0.6243128   1.5382131   2.468793   -0.21657772 -0.28818697]\n",
      " [-3.769416   -2.6666331  -0.7293826  -1.0037098   0.37083778]\n",
      " [-1.3472673   0.589121    1.84191    -0.05617472 -0.8274575 ]\n",
      " [ 1.3533643  -0.89500505 -0.15872744 -0.16288474 -0.11672654]\n",
      " [ 3.4418142  -2.63677     1.7383488   0.04058472 -0.24264646]\n",
      " [ 0.9460564  -1.0950615  -1.7120147   0.08180211 -1.0165224 ]\n",
      " [-1.516249   -1.9934622  -1.0978099   0.11570476  0.33107498]\n",
      " [ 1.7890035  -2.319754    0.27231088 -0.6921052   0.7542997 ]\n",
      " [-0.18990985  1.6931734   1.1702521  -0.14461017  0.6990769 ]\n",
      " [-0.52183956  1.0762585  -0.64283264 -1.4109485   0.21881148]]\n",
      "\n",
      "Learned F matrix:\n",
      "[[-7.68951595e-01  1.40070474e+00  1.38728583e+00  1.01668000e+00\n",
      "   9.49914634e-01]\n",
      " [-1.02229393e+00  1.26086324e-01 -7.28408873e-01  1.43583631e-04\n",
      "  -3.96427274e-01]\n",
      " [ 5.76560020e-01  3.95033598e-01 -1.89869416e+00  6.42942846e-01\n",
      "   3.86249930e-01]\n",
      " [-9.11834836e-01  4.67305839e-01 -1.10751426e+00  1.34241903e+00\n",
      "   2.30980062e-04]\n",
      " [ 1.36276817e+00 -1.32480219e-01  1.24228799e+00 -5.79524636e-01\n",
      "  -3.64706129e-01]\n",
      " [ 3.39494556e-01  2.96323508e-01 -9.64220092e-02 -7.00448230e-02\n",
      "  -7.02110231e-01]\n",
      " [-1.21973515e+00 -1.88102174e+00  1.19119331e-01  9.09606516e-01\n",
      "  -2.14279120e-04]\n",
      " [-4.76174980e-01  7.48466611e-01  1.08400732e-01  6.14783466e-01\n",
      "   1.93969858e+00]\n",
      " [-6.96201771e-02  1.47554100e-01 -4.13338244e-01 -1.25149202e+00\n",
      "   3.01647604e-01]\n",
      " [-1.11030221e+00  1.93548501e-01 -1.47919387e-01 -2.40732491e-01\n",
      "   1.28239229e-01]\n",
      " [-2.74240613e-01  2.12991655e-01  2.66128629e-01 -4.26948518e-01\n",
      "   1.17002726e+00]\n",
      " [-4.42192852e-01  6.16082370e-01 -2.23831266e-01  1.09090135e-01\n",
      "  -9.50195372e-01]\n",
      " [-1.42028010e+00 -3.43526155e-01  2.15573760e-04 -4.44624096e-01\n",
      "  -2.65071183e-01]\n",
      " [-2.48072371e-01  3.70616168e-01 -1.21181838e-01  7.71358684e-02\n",
      "  -4.68638390e-01]\n",
      " [-5.10310717e-02  1.62352359e+00 -6.53659663e-05 -1.34562004e+00\n",
      "  -7.60933280e-01]\n",
      " [-1.46093619e+00  2.09353313e-01 -1.12705326e-04  3.18600684e-01\n",
      "   5.80379009e-01]\n",
      " [ 9.85102355e-02 -9.97514188e-01 -2.81481981e-01 -2.61437058e-01\n",
      "   5.56907117e-01]\n",
      " [ 5.36661327e-01  4.23727632e-01  3.77256249e-04 -6.24769628e-01\n",
      "   4.94003206e-01]\n",
      " [-1.35168225e-01  2.56138295e-01  8.43241587e-02  1.10484672e+00\n",
      "   6.81349158e-01]\n",
      " [ 1.19807947e+00 -2.49913663e-01 -6.52637005e-01 -4.07399833e-01\n",
      "   3.94926280e-01]\n",
      " [-6.72863066e-01  3.22320731e-04  5.02457380e-01  1.01894188e+00\n",
      "  -9.50023890e-01]\n",
      " [ 3.51950666e-06  8.49547982e-01 -9.84894633e-02  2.58813590e-01\n",
      "   8.23093653e-01]\n",
      " [-8.67211819e-01 -7.23489150e-02 -1.60850227e-01 -5.25686482e-05\n",
      "  -1.35392869e+00]\n",
      " [ 7.89524615e-02  6.11294270e-01  1.73553467e-01  4.69224453e-01\n",
      "   1.89151227e-01]\n",
      " [-1.58506405e+00 -1.00411415e+00  1.49889410e-01 -1.21115053e+00\n",
      "   4.86235134e-04]\n",
      " [-7.59666145e-01  1.62191606e+00  3.02740842e-01 -9.58649457e-01\n",
      "   3.55380289e-02]\n",
      " [ 7.76067555e-01  6.19435728e-01 -1.09887505e+00  2.73717433e-01\n",
      "   7.49544382e-01]\n",
      " [-3.72882694e-01  4.80296791e-01  1.26408446e+00 -1.31239429e-01\n",
      "  -1.02537304e-01]\n",
      " [-1.14023149e+00  4.83695507e-01 -1.14913952e+00 -1.89705443e+00\n",
      "   2.59013981e-01]\n",
      " [-1.34665161e-01 -1.17553437e+00  2.60118306e-01 -9.30570424e-01\n",
      "   1.69743693e+00]]\n"
     ]
    }
   ],
   "source": [
    "# Initialize the cEBMF model with a custom prior for L\n",
    "ebmf = cEBMF(data=Y, K=5, prior_L=my_custom_prior, prior_F=\"norm\")\n",
    "\n",
    "# Initialize factors\n",
    "ebmf.init_LF()\n",
    "\n",
    "# Run multiple iterations\n",
    "for i in range(50):\n",
    "    ebmf.iter()\n",
    "\n",
    "# Print final factor matrices\n",
    "print(\"Learned L matrix:\")\n",
    "print(ebmf.L)\n",
    "\n",
    "print(\"\\nLearned F matrix:\")\n",
    "print(ebmf.F)\n"
   ]
  },
  {
   "cell_type": "code",
   "execution_count": 6,
   "metadata": {},
   "outputs": [
    {
     "data": {
      "text/plain": [
       "<matplotlib.collections.PathCollection at 0x1a8a44639d0>"
      ]
     },
     "execution_count": 6,
     "metadata": {},
     "output_type": "execute_result"
    },
    {
     "data": {
      "image/png": "[encoded data removed]",
      "text/plain": [
       "<Figure size 640x480 with 1 Axes>"
      ]
     },
     "metadata": {},
     "output_type": "display_data"
    }
   ],
   "source": [
    "plt.scatter(ebmf.L[:,0], true_L[:,1])"
   ]
  }
 ],
 "metadata": {
  "kernelspec": {
   "display_name": "torch_env",
   "language": "python",
   "name": "python3"
  },
  "language_info": {
   "codemirror_mode": {
    "name": "ipython",
    "version": 3
   },
   "file_extension": ".py",
   "mimetype": "text/x-python",
   "name": "python",
   "nbconvert_exporter": "python",
   "pygments_lexer": "ipython3",
   "version": "3.10.16"
  }
 },
 "nbformat": 4,
 "nbformat_minor": 2
}
