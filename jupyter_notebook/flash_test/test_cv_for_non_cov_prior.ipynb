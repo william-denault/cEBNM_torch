{
 "cells": [
  {
   "cell_type": "code",
   "execution_count": null,
   "metadata": {},
   "outputs": [],
   "source": [
    "import numpy as np\n",
    "o=+1\n",
    "np.random.seed(o)\n",
    "# Parameters\n",
    "n, p = 50, 40  # Dimensions of the matrix\n",
    "noise_std = 0.1  # Standard deviation of the homoscedastic noise\n",
    "\n",
    "# Generate two random vectors\n",
    "u = np.random.rand(n)  # Vector of length n\n",
    "v = np.random.rand(p)  # Vector of length p\n",
    "\n",
    "# Create a rank-1 matrix as the outer product of u and v\n",
    "rank_1_matrix = np.outer(u, v)\n",
    "\n",
    "# Add homoscedastic Gaussian noise (constant variance across the matrix)\n",
    "noise = np.random.normal(0, noise_std, size=(n, p))\n",
    "noisy_matrix = rank_1_matrix + noise\n",
    " \n",
    "# Print the original and noisy matrix\n",
    "print(\"Rank-1 Matrix (Outer Product):\")\n",
    "print(rank_1_matrix)\n",
    "print(\"\\nNoisy Matrix (with Homoscedastic Noise):\")\n",
    "print(noisy_matrix)\n"
   ]
  },
  {
   "cell_type": "code",
   "execution_count": null,
   "metadata": {},
   "outputs": [],
   "source": [
    "import sys\n",
    "import os\n",
    "import matplotlib.pyplot as plt\n",
    "\n",
    "# Add the path to utils.py\n",
    "sys.path.append(r\"C:\\Document\\Serieux\\Travail\\python_work\\cEBNM_torch\\py\")\n",
    "sys.path.append(r\"C:\\Document\\Serieux\\Travail\\python_work\\cEBNM_torch\\py\\ebnm_solver\")\n",
    "sys.path.append(r\"C:\\Document\\Serieux\\Travail\\python_work\\cEBNM_torch\\py\\numerical_routine\")\n",
    "from cEBMF import *"
   ]
  },
  {
   "cell_type": "code",
   "execution_count": null,
   "metadata": {},
   "outputs": [],
   "source": [
    "mycebmf_pe = cEBMF(data    = noisy_matrix,\n",
    "               prior_L = \"point_exp\",\n",
    "               prior_F = \"point_exp\",K=10)\n",
    "\n",
    "mycebmf_pe.init_LF()\n",
    "for i in range(20):\n",
    "    print(i)\n",
    "    mycebmf_pe.iter()\n",
    "\n",
    "\n",
    "\n",
    "plt.figure(figsize=(10, 6))\n",
    "plt.plot(np.array(mycebmf_pe.obj)[1:], marker='o', linestyle='-', color='b')"
   ]
  },
  {
   "cell_type": "code",
   "execution_count": 4,
   "metadata": {},
   "outputs": [],
   "source": [
    "mycebmf_pe = cEBMF(data    = noisy_matrix,\n",
    "               prior_L = \"point_exp\",\n",
    "               prior_F = \"point_exp\",K=10)\n",
    "\n",
    "mycebmf_pe.init_LF()"
   ]
  },
  {
   "cell_type": "code",
   "execution_count": null,
   "metadata": {},
   "outputs": [],
   "source": [
    "for k in range(mycebmf_pe.K):\n",
    "            mycebmf_pe.update_loading_factor_k(k)"
   ]
  },
  {
   "cell_type": "code",
   "execution_count": null,
   "metadata": {},
   "outputs": [],
   "source": [
    "k"
   ]
  },
  {
   "cell_type": "code",
   "execution_count": null,
   "metadata": {},
   "outputs": [],
   "source": [
    "k=8\n",
    "mycebmf_pe.cal_partial_residuals(k=k)\n",
    "mycebmf_pe.Rk\n",
    "lhat, s_l = compute_hat_l_and_s_l(mycebmf_pe.Rk, mycebmf_pe.F[:, k], mycebmf_pe.F2[:, k], mycebmf_pe.tau, mycebmf_pe.has_nan)\n",
    "print(s_l)\n",
    "print(lhat/s_l) "
   ]
  },
  {
   "cell_type": "code",
   "execution_count": null,
   "metadata": {},
   "outputs": [],
   "source": [
    " # Compute estimates for L\n",
    "\n",
    "        # Use user-defined or predefined function for L\n",
    "prior_result_L = mycebmf_pe.prior_L(mycebmf_pe.X_l, lhat, s_l, mycebmf_pe.model_list_L[k])\n",
    "mycebmf_pe.model_list_L[k] = prior_result_L.model_param\n",
    "mycebmf_pe.L[:, k] = prior_result_L.post_mean\n",
    "mycebmf_pe.L2[:, k] = prior_result_L.post_mean2\n",
    "mycebmf_pe.kl_l[k] = prior_result_L.loss"
   ]
  },
  {
   "cell_type": "code",
   "execution_count": null,
   "metadata": {},
   "outputs": [],
   "source": [
    "prior_result_L.loss"
   ]
  },
  {
   "cell_type": "code",
   "execution_count": 9,
   "metadata": {},
   "outputs": [],
   "source": [
    "fhat, s_f = compute_hat_f_and_s_f(mycebmf_pe.Rk, mycebmf_pe.L[:, k], mycebmf_pe.L2[:, k], mycebmf_pe.tau, mycebmf_pe.has_nan)\n"
   ]
  },
  {
   "cell_type": "code",
   "execution_count": null,
   "metadata": {},
   "outputs": [],
   "source": [
    "s_f"
   ]
  },
  {
   "cell_type": "code",
   "execution_count": null,
   "metadata": {},
   "outputs": [],
   "source": [
    "res=ebnm_point_exp_solver(x=lhat, s= s_l)\n",
    "res.pi"
   ]
  },
  {
   "cell_type": "code",
   "execution_count": null,
   "metadata": {},
   "outputs": [],
   "source": [
    "res.log_lik\n",
    "np.clip( res.log_lik, min= 1e-32,max=1e-32)"
   ]
  },
  {
   "cell_type": "code",
   "execution_count": null,
   "metadata": {},
   "outputs": [],
   "source": [
    "\n",
    "\n",
    "         # Loss is already negated in PriorResult\n",
    "\n",
    "        # Compute estimates for F\n",
    "fhat, s_f = compute_hat_f_and_s_f(mycebmf_pe.Rk, mycebmf_pe.L[:, k], mycebmf_pe.L2[:, k], mycebmf_pe.tau, mycebmf_pe.has_nan)\n",
    "\n",
    "        # Use user-defined or predefined function for F\n",
    "prior_result_F = mycebmf_pe.prior_F(mycebmf_pe.X_f, fhat, s_f, mycebmf_pe.model_list_F[k])\n",
    "mycebmf_pe.model_list_F[k] = prior_result_F.model_param\n",
    "mycebmf_pe.F[:, k] = prior_result_F.post_mean\n",
    "mycebmf_pe.F2[:, k] = prior_result_F.post_mean2\n",
    "mycebmf_pe.kl_f[k] = prior_result_F.loss"
   ]
  },
  {
   "cell_type": "code",
   "execution_count": null,
   "metadata": {},
   "outputs": [],
   "source": []
  },
  {
   "cell_type": "code",
   "execution_count": null,
   "metadata": {},
   "outputs": [],
   "source": [
    "mycebmf_ash = cEBMF(data= noisy_matrix)\n",
    "\n",
    "mycebmf_ash.init_LF()\n",
    "for i in range(80):\n",
    "    mycebmf_ash.iter()\n",
    "\n",
    "plt.figure(figsize=(10, 6))\n",
    "plt.plot(np.array(mycebmf_ash.obj)[1:], marker='o', linestyle='-', color='b')"
   ]
  },
  {
   "cell_type": "code",
   "execution_count": null,
   "metadata": {},
   "outputs": [],
   "source": [
    "mycebmf_ash_exp = cEBMF(data    = noisy_matrix,\n",
    "               prior_L = \"exp\",\n",
    "               prior_F = \"exp\",K=10)\n",
    "\n",
    "mycebmf_ash_exp.init_LF()\n",
    "for i in range(80):\n",
    "    mycebmf_ash_exp.iter()\n",
    "\n",
    "\n",
    "\n",
    "plt.figure(figsize=(10, 6))\n",
    "plt.plot(np.array(mycebmf_ash_exp.obj)[1:], marker='o', linestyle='-', color='b')"
   ]
  },
  {
   "cell_type": "code",
   "execution_count": null,
   "metadata": {},
   "outputs": [],
   "source": []
  },
  {
   "cell_type": "code",
   "execution_count": null,
   "metadata": {},
   "outputs": [],
   "source": [
    "plt.figure(figsize=(10, 6))\n",
    "plt.plot(np.array(mycebmf_pe.obj)[1:], marker='o', linestyle='-', color='b')\n"
   ]
  },
  {
   "cell_type": "code",
   "execution_count": null,
   "metadata": {},
   "outputs": [],
   "source": [
    "mycebmf_pl = cEBMF(data    = noisy_matrix,\n",
    "               prior_L = \"point_Laplace\",\n",
    "               prior_F = \"point_Laplace\",K=10)\n",
    "\n",
    "mycebmf_pl.init_LF()\n",
    "for i in range(40):\n",
    "    mycebmf_pl.iter()\n",
    "\n",
    "\n",
    "\n",
    "plt.figure(figsize=(10, 6))\n",
    "plt.plot(np.array(mycebmf_pl.obj)[1:], marker='o', linestyle='-', color='b')"
   ]
  }
 ],
 "metadata": {
  "kernelspec": {
   "display_name": "torch_env",
   "language": "python",
   "name": "python3"
  },
  "language_info": {
   "codemirror_mode": {
    "name": "ipython",
    "version": 3
   },
   "file_extension": ".py",
   "mimetype": "text/x-python",
   "name": "python",
   "nbconvert_exporter": "python",
   "pygments_lexer": "ipython3",
   "version": "3.10.16"
  }
 },
 "nbformat": 4,
 "nbformat_minor": 2
}
