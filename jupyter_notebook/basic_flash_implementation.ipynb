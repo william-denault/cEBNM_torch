{
 "cells": [
  {
   "cell_type": "code",
   "execution_count": 1,
   "metadata": {},
   "outputs": [
    {
     "name": "stdout",
     "output_type": "stream",
     "text": [
      "Rank-1 Matrix (Outer Product):\n",
      "[[0.32923638 0.75967647 0.25226516 ... 0.821511   0.49296489 0.80523334]\n",
      " [0.14119261 0.32578632 0.1081836  ... 0.35230398 0.21140739 0.34532332]\n",
      " [0.35151226 0.81107559 0.26933323 ... 0.8770938  0.52631851 0.8597148 ]\n",
      " ...\n",
      " [0.06990884 0.16130691 0.05356506 ... 0.17443662 0.10467435 0.17098028]\n",
      " [0.01986045 0.04582579 0.01521733 ... 0.04955582 0.02973701 0.04857391]\n",
      " [0.06774226 0.15630776 0.05190499 ... 0.16903057 0.10143033 0.16568135]]\n",
      "\n",
      "Noisy Matrix (with Homoscedastic Noise):\n",
      "[[ 0.33224651  0.87779205  0.19875543 ...  0.73371248  0.54667201\n",
      "   0.81683282]\n",
      " [ 0.05263011  0.37345303  0.17407644 ...  0.33412836  0.28495226\n",
      "   0.18484555]\n",
      " [ 0.49212496  0.79373411  0.18996489 ...  0.79034719  0.69901991\n",
      "   0.81019339]\n",
      " ...\n",
      " [-0.01985821  0.21939216  0.13137711 ...  0.22127359  0.11954033\n",
      "   0.11959109]\n",
      " [ 0.02632889  0.11817174 -0.08060754 ...  0.13110124 -0.03586799\n",
      "   0.15482944]\n",
      " [ 0.22347839  0.05882682  0.01031703 ...  0.08775598  0.08140056\n",
      "   0.0709143 ]]\n"
     ]
    }
   ],
   "source": [
    "import numpy as np\n",
    "\n",
    "# Parameters\n",
    "n, p = 50, 40  # Dimensions of the matrix\n",
    "noise_std = 0.1  # Standard deviation of the homoscedastic noise\n",
    "\n",
    "# Generate two random vectors\n",
    "u = np.random.rand(n)  # Vector of length n\n",
    "v = np.random.rand(p)  # Vector of length p\n",
    "\n",
    "# Create a rank-1 matrix as the outer product of u and v\n",
    "rank_1_matrix = np.outer(u, v)\n",
    "\n",
    "# Add homoscedastic Gaussian noise (constant variance across the matrix)\n",
    "noise = np.random.normal(0, noise_std, size=(n, p))\n",
    "noisy_matrix = rank_1_matrix + noise\n",
    "\n",
    "# Print the original and noisy matrix\n",
    "print(\"Rank-1 Matrix (Outer Product):\")\n",
    "print(rank_1_matrix)\n",
    "print(\"\\nNoisy Matrix (with Homoscedastic Noise):\")\n",
    "print(noisy_matrix)\n"
   ]
  },
  {
   "cell_type": "code",
   "execution_count": 2,
   "metadata": {},
   "outputs": [],
   "source": [
    "import sys\n",
    "import os\n",
    "import matplotlib.pyplot as plt\n",
    "\n",
    "# Add the path to utils.py\n",
    "sys.path.append(r\"c:\\Document\\Serieux\\Travail\\python_work\\cEBNM_torch\\py\")\n",
    "from cEBMF import *"
   ]
  },
  {
   "cell_type": "code",
   "execution_count": 3,
   "metadata": {},
   "outputs": [],
   "source": [
    "mycebmf= cEBMF(data= noisy_matrix)\n",
    "K=5\n",
    "# Perform udv_si transformation\n",
    "U, s, Vt = np.linalg.svd(noisy_matrix, full_matrices=False)\n"
   ]
  },
  {
   "cell_type": "code",
   "execution_count": 4,
   "metadata": {},
   "outputs": [
    {
     "name": "stdout",
     "output_type": "stream",
     "text": [
      "5\n"
     ]
    }
   ],
   "source": [
    "K = np.min([K, U.shape[1]])\n",
    "print(K)"
   ]
  },
  {
   "cell_type": "code",
   "execution_count": 5,
   "metadata": {},
   "outputs": [
    {
     "name": "stdout",
     "output_type": "stream",
     "text": [
      "[-0.07584928  0.29239591  0.20289332 -0.2700468   0.00328819  0.00760711\n",
      "  0.07378517  0.1620958   0.1325365   0.03483537 -0.29467611  0.17498967\n",
      " -0.03761576 -0.02555254  0.14263951  0.23491303 -0.10369515  0.02672734\n",
      " -0.12683411  0.05624148  0.00685798 -0.13760043 -0.11226447  0.03869249\n",
      " -0.10036739  0.10415984 -0.19795204 -0.42499903 -0.01898705 -0.11776222\n",
      " -0.02702603  0.06770056  0.00770695 -0.29130794  0.36521024 -0.0135707\n",
      " -0.25642969 -0.14326427 -0.12100757  0.29772406  0.13883331 -0.07803124\n",
      "  0.26813903 -0.08250533 -0.0509668   0.30848567  0.23334481 -0.03207058\n",
      " -0.24682086 -0.12011527]\n",
      "[-0.06842796 -0.05634831  0.15600138  0.16177327  0.14144594 -0.15167385\n",
      "  0.14331333 -0.14670993  0.11278013  0.04255068  0.2177631   0.15024693\n",
      " -0.23011802 -0.14676706 -0.17681841 -0.12761541 -0.08786753 -0.22573862\n",
      " -0.12609208  0.00178929 -0.11650182 -0.21358739  0.24100298  0.37149825\n",
      "  0.24101152 -0.27345426  0.0176156  -0.07512588  0.07495517  0.04018919\n",
      "  0.06341382 -0.17399575 -0.20336128  0.06609155 -0.0300229  -0.17037036\n",
      "  0.13721463 -0.140754    0.15621113  0.03292645]\n"
     ]
    }
   ],
   "source": [
    "mycebmf.init_LF()\n",
    "print(mycebmf.L[:,1])\n",
    "print(mycebmf.F[:,1])\n"
   ]
  },
  {
   "cell_type": "code",
   "execution_count": 6,
   "metadata": {},
   "outputs": [],
   "source": [
    " \n",
    "            "
   ]
  },
  {
   "cell_type": "code",
   "execution_count": 9,
   "metadata": {},
   "outputs": [
    {
     "data": {
      "text/plain": [
       "0.0"
      ]
     },
     "execution_count": 9,
     "metadata": {},
     "output_type": "execute_result"
    }
   ],
   "source": [
    "np.sum ( (Y_fit -Y_fit2 ) )"
   ]
  },
  {
   "cell_type": "code",
   "execution_count": 8,
   "metadata": {},
   "outputs": [
    {
     "ename": "IndentationError",
     "evalue": "unexpected indent (527071822.py, line 9)",
     "output_type": "error",
     "traceback": [
      "\u001b[1;36m  Cell \u001b[1;32mIn[8], line 9\u001b[1;36m\u001b[0m\n\u001b[1;33m    self.update_fitted_val()  # Update fitted values Y_fit\u001b[0m\n\u001b[1;37m    ^\u001b[0m\n\u001b[1;31mIndentationError\u001b[0m\u001b[1;31m:\u001b[0m unexpected indent\n"
     ]
    }
   ],
   "source": [
    " \n",
    "            # When K>1, sum the outer products across all K components\n",
    "prod_square_firstmom = np.sum(\n",
    "                [np.outer(self.loading[:, k] ** 2, self.factor[:, k] ** 2) for k in range(self.K)], axis=0\n",
    "            )\n",
    "            prod_sectmom = np.sum(\n",
    "                [np.outer(self.loading2[:, k], self.factor2[:, k]) for k in range(self.K)], axis=0\n",
    "            )\n",
    "\n",
    "        self.update_fitted_val()  # Update fitted values Y_fit\n",
    "\n",
    "        # Compute R2 as per the formula\n",
    "        R2 = (self.Y - self.Y_fit) ** 2 - prod_square_firstmom + prod_sectmom\n",
    " "
   ]
  },
  {
   "cell_type": "code",
   "execution_count": null,
   "metadata": {},
   "outputs": [],
   "source": []
  },
  {
   "cell_type": "code",
   "execution_count": null,
   "metadata": {},
   "outputs": [],
   "source": []
  }
 ],
 "metadata": {
  "kernelspec": {
   "display_name": "ml",
   "language": "python",
   "name": "python3"
  },
  "language_info": {
   "codemirror_mode": {
    "name": "ipython",
    "version": 3
   },
   "file_extension": ".py",
   "mimetype": "text/x-python",
   "name": "python",
   "nbconvert_exporter": "python",
   "pygments_lexer": "ipython3",
   "version": "3.11.7"
  }
 },
 "nbformat": 4,
 "nbformat_minor": 2
}
