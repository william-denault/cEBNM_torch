{
 "cells": [
  {
   "cell_type": "code",
   "execution_count": 1,
   "metadata": {},
   "outputs": [],
   "source": [
    "import numpy as np\n",
    "import math \n",
    "from scipy.stats import norm"
   ]
  },
  {
   "cell_type": "code",
   "execution_count": 4,
   "metadata": {},
   "outputs": [],
   "source": [
    "def autoselect_scales_mix_norm(betahat, sebetahat, max_class=None, mult=2):\n",
    "    sigmaamin = np.min(sebetahat) / 10\n",
    "    if np.all(betahat**2 < sigmaamin**2):  # Fix the typo and ensure logical comparison\n",
    "        sigmaamax = 8 * sigmaamin\n",
    "    else:\n",
    "        sigmaamax = 2*np.sqrt(np.max(betahat**2 - sebetahat**2))\n",
    "    \n",
    "    if mult == 0:\n",
    "        out = np.array([0, sigmaamax / 2])\n",
    "    else:\n",
    "        npoint = math.ceil(math.log2(sigmaamax / sigmaamin) / math.log2(mult))\n",
    "\n",
    "        # Generate the sequence (-npoint):0 using np.arange\n",
    "        sequence = np.arange(-npoint, 1)\n",
    "\n",
    "        # Calculate the output\n",
    "        out = np.concatenate(([0], (1/mult) ** (-sequence) * sigmaamax))\n",
    "        if max_class!=None:\n",
    "            # Check if the length of out is equal to max_class\n",
    "            if len(out) != max_class:\n",
    "            # Generate a sequence from min(out) to max(out) with length max_class\n",
    "                out = np.linspace(np.min(out), np.max(out), num=max_class)\n",
    "        \n",
    "    \n",
    "    return out\n",
    "     \n",
    "def autoselect_scales_mix_exp(betahat, sebetahat, max_class=None , mult=1.5,tt=1.5):\n",
    "    sigmaamin = np.min(sebetahat) / 10\n",
    "    if np.all(betahat**2 < sigmaamin**2):  # Fix the typo and ensure logical comparison\n",
    "        sigmaamax = 8 * sigmaamin\n",
    "    else:\n",
    "        sigmaamax = tt*np.sqrt(np.max(betahat**2  ))\n",
    "    \n",
    "    if mult == 0:\n",
    "        out = np.array([0, sigmaamax / 2])\n",
    "    else:\n",
    "        npoint = math.ceil(math.log2(sigmaamax / sigmaamin) / math.log2(mult))\n",
    "\n",
    "        # Generate the sequence (-npoint):0 using np.arange\n",
    "        sequence = np.arange(-npoint, 1)\n",
    "\n",
    "        # Calculate the output\n",
    "        out = np.concatenate(([0], (1/mult) ** (-sequence) * sigmaamax))\n",
    "        if max_class!=None:\n",
    "            # Check if the length of out is equal to max_class\n",
    "            if len(out) != max_class:\n",
    "            # Generate a sequence from min(out) to max(out) with length max_class\n",
    "                out = np.linspace(np.min(out), np.max(out), num=max_class)\n",
    "                if(out[2] <1e-2 ):\n",
    "                 out[2: ] <- out[2: ] +1e-2\n",
    "         \n",
    "    \n",
    "    return out\n",
    "\n",
    "    \n",
    "def wpost_exp ( x, s, w, scale):\n",
    "    \n",
    "    if  w[0]==1:\n",
    "     out =  np.concatenate(([1]  ,np.full( scale.shape[0],[0])))\n",
    "     return out\n",
    "    else:\n",
    "     a=1/scale[1:]\n",
    "     w = assignment\n",
    "     a = 1 / scale[1:]  # Note: slicing in Python is zero-based, so [1:] starts from the second element\n",
    "     lf = norm.logpdf(x, loc=0, scale=s)\n",
    "     lg = np.log(a) + s**2 * a**2 / 2 - a * x + norm.logcdf(x / s - s * a)\n",
    "     log_prob = np.concatenate(([lf]  ,lg ))\n",
    "     bmax=np.max(log_prob)\n",
    "     log_prob = log_prob - bmax\n",
    " \n",
    "     log_prob = log_prob - bmax\n",
    "     wpost = w* np.exp( log_prob) / (sum(w *np.exp(log_prob)))\n",
    "     return wpost    "
   ]
  },
  {
   "cell_type": "code",
   "execution_count": 5,
   "metadata": {},
   "outputs": [],
   "source": [
    "betahat=  np.array([1,2,3,4,5])\n",
    "sebetahat=np.array([1,0.4,5,1,1])\n",
    "scale = autoselect_scales_mix_exp ( np.array([1,2,3,4,5]),  np.array([1,0.4,5,1,1]))\n",
    "log_pi =  np.log( np.full( scale.shape[0], 1/ scale.shape[0]))"
   ]
  },
  {
   "cell_type": "code",
   "execution_count": 6,
   "metadata": {},
   "outputs": [
    {
     "name": "stdout",
     "output_type": "stream",
     "text": [
      "[0.06666667 0.06666667 0.06666667 0.06666667 0.06666667 0.06666667\n",
      " 0.06666667 0.06666667 0.06666667 0.06666667 0.06666667 0.06666667\n",
      " 0.06666667 0.06666667 0.06666667]\n"
     ]
    }
   ],
   "source": [
    "assignment = np.exp(log_pi)\n",
    "assignment = assignment /   sum(assignment)\n",
    "print(assignment)\n",
    "x=betahat[1]\n",
    "s=sebetahat[1]"
   ]
  },
  {
   "cell_type": "markdown",
   "metadata": {},
   "source": [
    "writing wpost_def"
   ]
  },
  {
   "cell_type": "code",
   "execution_count": 18,
   "metadata": {},
   "outputs": [
    {
     "name": "stdout",
     "output_type": "stream",
     "text": [
      "-12.502647801330518\n"
     ]
    }
   ],
   "source": [
    "wpost_exp ( x, s, w, scale)"
   ]
  },
  {
   "cell_type": "markdown",
   "metadata": {},
   "source": [
    "should  be array([3.53987758e-06, 6.61493885e-06, 1.06391083e-05, 2.86976960e-05,\n",
    "       1.69165759e-04, 1.40776600e-03, 8.91255655e-03, 3.45101678e-02,\n",
    "       8.34205613e-02, 1.38160703e-01, 1.72844260e-01, 1.77093219e-01,\n",
    "       1.57939387e-01, 1.28091688e-01, 9.74010338e-02])"
   ]
  },
  {
   "cell_type": "code",
   "execution_count": 19,
   "metadata": {},
   "outputs": [],
   "source": []
  },
  {
   "cell_type": "code",
   "execution_count": 20,
   "metadata": {},
   "outputs": [
    {
     "data": {
      "text/plain": [
       "array([3.53987758e-06, 6.61493885e-06, 1.06391083e-05, 2.86976960e-05,\n",
       "       1.69165759e-04, 1.40776600e-03, 8.91255655e-03, 3.45101678e-02,\n",
       "       8.34205613e-02, 1.38160703e-01, 1.72844260e-01, 1.77093219e-01,\n",
       "       1.57939387e-01, 1.28091688e-01, 9.74010338e-02])"
      ]
     },
     "execution_count": 20,
     "metadata": {},
     "output_type": "execute_result"
    }
   ],
   "source": [
    "w"
   ]
  }
 ],
 "metadata": {
  "kernelspec": {
   "display_name": "ml",
   "language": "python",
   "name": "python3"
  },
  "language_info": {
   "codemirror_mode": {
    "name": "ipython",
    "version": 3
   },
   "file_extension": ".py",
   "mimetype": "text/x-python",
   "name": "python",
   "nbconvert_exporter": "python",
   "pygments_lexer": "ipython3",
   "version": "3.11.7"
  }
 },
 "nbformat": 4,
 "nbformat_minor": 2
}
