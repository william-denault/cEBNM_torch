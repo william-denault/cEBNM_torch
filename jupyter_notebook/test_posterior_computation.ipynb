{
 "cells": [
  {
   "cell_type": "code",
   "execution_count": 14,
   "metadata": {},
   "outputs": [],
   "source": [
    "import numpy as np\n",
    "import math \n",
    "from scipy.stats import norm\n",
    "from scipy.stats import truncnorm"
   ]
  },
  {
   "cell_type": "code",
   "execution_count": 24,
   "metadata": {},
   "outputs": [],
   "source": [
    "def autoselect_scales_mix_norm(betahat, sebetahat, max_class=None, mult=2):\n",
    "    sigmaamin = np.min(sebetahat) / 10\n",
    "    if np.all(betahat**2 < sigmaamin**2):  # Fix the typo and ensure logical comparison\n",
    "        sigmaamax = 8 * sigmaamin\n",
    "    else:\n",
    "        sigmaamax = 2*np.sqrt(np.max(betahat**2 - sebetahat**2))\n",
    "    \n",
    "    if mult == 0:\n",
    "        out = np.array([0, sigmaamax / 2])\n",
    "    else:\n",
    "        npoint = math.ceil(math.log2(sigmaamax / sigmaamin) / math.log2(mult))\n",
    "\n",
    "        # Generate the sequence (-npoint):0 using np.arange\n",
    "        sequence = np.arange(-npoint, 1)\n",
    "\n",
    "        # Calculate the output\n",
    "        out = np.concatenate(([0], (1/mult) ** (-sequence) * sigmaamax))\n",
    "        if max_class!=None:\n",
    "            # Check if the length of out is equal to max_class\n",
    "            if len(out) != max_class:\n",
    "            # Generate a sequence from min(out) to max(out) with length max_class\n",
    "                out = np.linspace(np.min(out), np.max(out), num=max_class)\n",
    "        \n",
    "    \n",
    "    return out\n",
    "     \n",
    "def autoselect_scales_mix_exp(betahat, sebetahat, max_class=None , mult=1.5,tt=1.5):\n",
    "    sigmaamin = np.min(sebetahat) / 10\n",
    "    if np.all(betahat**2 < sigmaamin**2):  # Fix the typo and ensure logical comparison\n",
    "        sigmaamax = 8 * sigmaamin\n",
    "    else:\n",
    "        sigmaamax = tt*np.sqrt(np.max(betahat**2  ))\n",
    "    \n",
    "    if mult == 0:\n",
    "        out = np.array([0, sigmaamax / 2])\n",
    "    else:\n",
    "        npoint = math.ceil(math.log2(sigmaamax / sigmaamin) / math.log2(mult))\n",
    "\n",
    "        # Generate the sequence (-npoint):0 using np.arange\n",
    "        sequence = np.arange(-npoint, 1)\n",
    "\n",
    "        # Calculate the output\n",
    "        out = np.concatenate(([0], (1/mult) ** (-sequence) * sigmaamax))\n",
    "        if max_class!=None:\n",
    "            # Check if the length of out is equal to max_class\n",
    "            if len(out) != max_class:\n",
    "            # Generate a sequence from min(out) to max(out) with length max_class\n",
    "                out = np.linspace(np.min(out), np.max(out), num=max_class)\n",
    "                if(out[2] <1e-2 ):\n",
    "                 out[2: ] <- out[2: ] +1e-2\n",
    "         \n",
    "    \n",
    "    return out\n",
    "\n",
    "    \n",
    "def wpost_exp ( x, s, w, scale):\n",
    "    \n",
    "    if  w[0]==1:\n",
    "     out =  np.concatenate(([1]  ,np.full( scale.shape[0],[0])))\n",
    "     return out\n",
    "    else:\n",
    "     a=1/scale[1:]\n",
    "     w = assignment\n",
    "     a = 1 / scale[1:]  # Note: slicing in Python is zero-based, so [1:] starts from the second element\n",
    "     lf = norm.logpdf(x, loc=0, scale=s)\n",
    "     lg = np.log(a) + s**2 * a**2 / 2 - a * x + norm.logcdf(x / s - s * a)\n",
    "     log_prob = np.concatenate(([lf]  ,lg ))\n",
    "     bmax=np.max(log_prob)\n",
    "     log_prob = log_prob - bmax\n",
    " \n",
    "     log_prob = log_prob - bmax\n",
    "     wpost = w* np.exp( log_prob) / (sum(w *np.exp(log_prob)))\n",
    "     return wpost    \n",
    " \n",
    " \n",
    "def expectation_truncated(a, b, mean, sd):\n",
    "    # Standardize the bounds\n",
    "    alpha = (a - mean) / sd\n",
    "    beta = (b - mean) / sd\n",
    "    \n",
    "    # Calculate the PDF and CDF of the standard normal distribution\n",
    "    phi_alpha = truncnorm.pdf(alpha, alpha, beta)\n",
    "    phi_beta = truncnorm.pdf(beta, alpha, beta)\n",
    "    Phi_alpha = truncnorm.cdf(alpha, alpha, beta)\n",
    "    Phi_beta = truncnorm.cdf(beta, alpha, beta)\n",
    "    \n",
    "    # Calculate the expected value\n",
    "    expected_value = mean + (phi_alpha - phi_beta) / (Phi_beta - Phi_alpha) * sd\n",
    "    \n",
    "    return expected_value"
   ]
  },
  {
   "cell_type": "code",
   "execution_count": 27,
   "metadata": {},
   "outputs": [
    {
     "name": "stdout",
     "output_type": "stream",
     "text": [
      "Expected value of the truncated normal distribution: 3.004437839042126\n"
     ]
    }
   ],
   "source": [
    "# Example usage\n",
    "\n",
    "expected_value =expectation_truncated(0,2,3,1)\n",
    "print(f\"Expected value of the truncated normal distribution: {expected_value}\")"
   ]
  },
  {
   "cell_type": "markdown",
   "metadata": {},
   "source": [
    "should equal to 1.4899504867560165"
   ]
  },
  {
   "cell_type": "code",
   "execution_count": 7,
   "metadata": {},
   "outputs": [],
   "source": [
    "betahat=  np.array([1,2,3,4,5])\n",
    "sebetahat=np.array([1,0.4,5,1,1])\n",
    "scale = autoselect_scales_mix_exp ( np.array([1,2,3,4,5]),  np.array([1,0.4,5,1,1]))\n",
    "\n",
    "non_informativ = np.full( scale.shape[0], 1/ scale.shape[0])\n",
    "n=betahat.shape[0]\n",
    "log_pi =  np.log( np.tile(non_informativ, (n, 1)))"
   ]
  },
  {
   "cell_type": "code",
   "execution_count": 8,
   "metadata": {},
   "outputs": [
    {
     "name": "stdout",
     "output_type": "stream",
     "text": [
      "[0.06666667 0.06666667 0.06666667 0.06666667 0.06666667 0.06666667\n",
      " 0.06666667 0.06666667 0.06666667 0.06666667 0.06666667 0.06666667\n",
      " 0.06666667 0.06666667 0.06666667]\n"
     ]
    }
   ],
   "source": [
    "assignment = np.exp(log_pi)[0]\n",
    "\n",
    "\n",
    "assignment = assignment /   sum(assignment)\n",
    "print(assignment)\n",
    "x=betahat[1]\n",
    "s=sebetahat[1]"
   ]
  },
  {
   "cell_type": "markdown",
   "metadata": {},
   "source": [
    "writing wpost_def"
   ]
  },
  {
   "cell_type": "code",
   "execution_count": 10,
   "metadata": {},
   "outputs": [
    {
     "name": "stdout",
     "output_type": "stream",
     "text": [
      "[0.06666667 0.06666667 0.06666667 0.06666667 0.06666667 0.06666667\n",
      " 0.06666667 0.06666667 0.06666667 0.06666667 0.06666667 0.06666667\n",
      " 0.06666667 0.06666667 0.06666667]\n"
     ]
    }
   ],
   "source": [
    "w=assignment\n",
    "print(w)\n",
    "wpost_exp ( x, s, w, scale)\n",
    "temp_array =   np.zeros ( (betahat.shape[0], scale.shape[0]))\n",
    "i=1\n",
    "temp_array[i,] = wpost_exp ( x=betahat[i], s=sebetahat[i], w=w, scale=scale) "
   ]
  },
  {
   "cell_type": "markdown",
   "metadata": {},
   "source": [
    "should  be array([3.53987758e-06, 6.61493885e-06, 1.06391083e-05, 2.86976960e-05,\n",
    "       1.69165759e-04, 1.40776600e-03, 8.91255655e-03, 3.45101678e-02,\n",
    "       8.34205613e-02, 1.38160703e-01, 1.72844260e-01, 1.77093219e-01,\n",
    "       1.57939387e-01, 1.28091688e-01, 9.74010338e-02])"
   ]
  },
  {
   "cell_type": "code",
   "execution_count": 13,
   "metadata": {},
   "outputs": [
    {
     "name": "stdout",
     "output_type": "stream",
     "text": [
      "15\n",
      "[[6.52918851e-02 6.78002962e-02 6.90396965e-02 7.08629747e-02\n",
      "  7.34774073e-02 7.70129806e-02 8.12078860e-02 8.48923837e-02\n",
      "  8.58678052e-02 8.20342129e-02 7.30701767e-02 6.07291363e-02\n",
      "  4.75513198e-02 3.55270606e-02 2.56347785e-02]\n",
      " [3.53987758e-06 6.61493885e-06 1.06391083e-05 2.86976960e-05\n",
      "  1.69165759e-04 1.40776600e-03 8.91255655e-03 3.45101678e-02\n",
      "  8.34205613e-02 1.38160703e-01 1.72844260e-01 1.77093219e-01\n",
      "  1.57939387e-01 1.28091688e-01 9.74010338e-02]\n",
      " [6.56166419e-02 6.59175381e-02 6.60660268e-02 6.62862131e-02\n",
      "  6.66105355e-02 6.70828769e-02 6.77572351e-02 6.86850138e-02\n",
      "  6.98706687e-02 7.11576607e-02 7.20227505e-02 7.14207842e-02\n",
      "  6.80838604e-02 6.13953338e-02 5.20268604e-02]\n",
      " [2.97209370e-04 3.50647498e-04 3.84449298e-04 4.47398412e-04\n",
      "  5.81502557e-04 9.36473754e-04 2.17223266e-03 7.15579060e-03\n",
      "  2.44160538e-02 6.53144569e-02 1.26462752e-01 1.82759260e-01\n",
      "  2.09880744e-01 2.03590339e-01 1.75250690e-01]\n",
      " [4.80878262e-06 5.94302299e-06 6.71979846e-06 8.30282145e-06\n",
      "  1.23434606e-05 2.80212386e-05 1.35971200e-04 1.11185612e-03\n",
      "  7.83668609e-03 3.46083323e-02 9.38210739e-02 1.69756802e-01\n",
      "  2.26479200e-01 2.42787969e-01 2.23395970e-01]]\n"
     ]
    },
    {
     "data": {
      "text/plain": [
       "array([ True,  True,  True,  True,  True,  True,  True,  True,  True,\n",
       "        True,  True,  True,  True,  True,  True])"
      ]
     },
     "execution_count": 13,
     "metadata": {},
     "output_type": "execute_result"
    }
   ],
   "source": [
    "print(scale.shape[0] )\n",
    "temp_array =   np.zeros ( (betahat.shape[0], scale.shape[0]))\n",
    "for i in range(betahat.shape[0]):\n",
    "    temp_array[i,] = wpost_exp ( x=betahat[i], s=sebetahat[i], w=np.exp(log_pi)[i,], scale=scale) \n",
    "print(temp_array)\n",
    "\n",
    "temp_array[0,]== wpost_exp ( x=betahat[0], s=sebetahat[0], w=w, scale=scale) \n"
   ]
  },
  {
   "cell_type": "code",
   "execution_count": 22,
   "metadata": {},
   "outputs": [
    {
     "name": "stdout",
     "output_type": "stream",
     "text": [
      "[0. 0. 0. 0. 0.]\n"
     ]
    }
   ],
   "source": [
    "post_mean = np.zeros(betahat.shape[0])\n",
    "print(post_mean)\n",
    "\n",
    "for i in range(post_mean.shape[0]):\n",
    "    post_mean[i]= expectation_truncated(0, np.inf, betahat[i]- sebetahat** 2 )\n"
   ]
  },
  {
   "cell_type": "code",
   "execution_count": 33,
   "metadata": {},
   "outputs": [
    {
     "data": {
      "text/plain": [
       "array([0.03853673, 0.0578051 , 0.08670765, 0.13006147, 0.19509221,\n",
       "       0.29263832, 0.43895748, 0.65843621, 0.98765432, 1.48148148,\n",
       "       2.22222222, 3.33333333, 5.        , 7.5       ])"
      ]
     },
     "execution_count": 33,
     "metadata": {},
     "output_type": "execute_result"
    }
   ],
   "source": [
    "scale"
   ]
  },
  {
   "cell_type": "code",
   "execution_count": 36,
   "metadata": {},
   "outputs": [
    {
     "name": "stdout",
     "output_type": "stream",
     "text": [
      "<built-in method sum of numpy.ndarray object at 0x00000259405BA430>\n"
     ]
    }
   ],
   "source": [
    "i=1\n",
    "print(expectation_truncated(0, np.inf, betahat[i]- sebetahat[i]** 2 *(1/scale[1:]) , sebetahat[i]).sum)"
   ]
  }
 ],
 "metadata": {
  "kernelspec": {
   "display_name": "ml",
   "language": "python",
   "name": "python3"
  },
  "language_info": {
   "codemirror_mode": {
    "name": "ipython",
    "version": 3
   },
   "file_extension": ".py",
   "mimetype": "text/x-python",
   "name": "python",
   "nbconvert_exporter": "python",
   "pygments_lexer": "ipython3",
   "version": "3.11.7"
  }
 },
 "nbformat": 4,
 "nbformat_minor": 2
}
