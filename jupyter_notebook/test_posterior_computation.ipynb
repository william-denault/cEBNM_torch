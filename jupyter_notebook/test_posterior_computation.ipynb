{
 "cells": [
  {
   "cell_type": "code",
   "execution_count": 1,
   "metadata": {},
   "outputs": [],
   "source": [
    "import numpy as np\n",
    "import math \n",
    "from scipy.stats import norm\n",
    "from scipy.stats import truncnorm\n",
    "import scipy.stats as stats"
   ]
  },
  {
   "cell_type": "code",
   "execution_count": 2,
   "metadata": {},
   "outputs": [],
   "source": [
    "import sys\n",
    "import os\n",
    "\n",
    "# Add the path to utils.py\n",
    "sys.path.append(r\"c:\\Document\\Serieux\\Travail\\python_work\\cEBNM_torch\\py\")\n",
    "\n",
    "# Import utils.py directly\n",
    "from utils import *\n",
    "from numerical_routine import *\n",
    "from distribution_operation import *\n",
    "from posterior_computation import *"
   ]
  },
  {
   "cell_type": "code",
   "execution_count": 3,
   "metadata": {},
   "outputs": [
    {
     "name": "stdout",
     "output_type": "stream",
     "text": [
      "[0.         0.03827328 0.07654655 0.15309311 0.30618622 0.61237244\n",
      " 1.22474487 2.44948974 4.89897949 9.79795897]\n",
      "[0. 0. 0. 0. 0. 0. 0. 0. 0. 0.]\n",
      "[[ -1.41893853  -1.41893907  -1.41894705  -1.41907168  -1.42088747\n",
      "   -1.44180176  -1.5770839   -1.96332218  -2.54837645  -3.21144866]\n",
      " [-12.5026478  -12.39380192 -12.07903895 -10.97389398  -8.11500906\n",
      "   -4.34451202  -2.37716661  -2.15265225  -2.59406918  -3.22274394]\n",
      " [ -2.70837645  -2.7083952   -2.70845144  -2.70867638  -2.70957546\n",
      "   -2.71316065  -2.72732222  -2.78109343  -2.95668542  -3.35402389]\n",
      " [ -8.91893853  -8.90796881  -8.87525773  -8.74731596  -8.27803033\n",
      "   -6.89634722  -4.5770839   -3.03475075  -2.84837645  -3.28876825]\n",
      " [-13.41893853 -13.40138666 -13.34904414 -13.14426252 -12.39231604\n",
      "  -10.16907449  -6.3770839   -3.67760789  -3.02837645  -3.33516   ]]\n"
     ]
    }
   ],
   "source": [
    "betahat=  np.array([1,2,3,4,5])\n",
    "sebetahat=np.array([1,0.4,5,1,1])\n",
    "scale = autoselect_scales_mix_norm ( np.array([1,2,3,4,5]),  np.array([1,0.4,5,1,1]))\n",
    "location = 0* scale\n",
    "n=betahat.shape[0]\n",
    "p= scale.shape[0]\n",
    " \n",
    "log_pi =  np.log( np.full( (n, p), 1/scale.shape[0]))\n",
    "print(scale)\n",
    "print(location)\n",
    "\n",
    "convolved_logpdf_normal(betahat[1],sebetahat[1], location,scale)\n",
    "print(get_data_loglik_normal (  betahat,sebetahat, location, scale))\n",
    "#res = posterior_mean_exp(betahat, sebetahat, log_pi, scale)\n",
    "#print(res.post_mean)\n",
    "#print(res.post_mean2)"
   ]
  },
  {
   "cell_type": "code",
   "execution_count": 4,
   "metadata": {},
   "outputs": [
    {
     "name": "stdout",
     "output_type": "stream",
     "text": [
      "[[ -2.0667347   -2.06673523  -2.06674321  -2.06686784  -2.06868363\n",
      "   -2.08959792  -2.22488006  -2.61111834  -3.19617261  -3.85924482]\n",
      " [-11.41455194 -11.30570607 -10.99094309  -9.88579812  -7.0269132\n",
      "   -3.25641616  -1.28907075  -1.06455639  -1.50597332  -2.13464808]\n",
      " [ -2.22020012  -2.22021887  -2.22027512  -2.22050006  -2.22139914\n",
      "   -2.22498433  -2.2391459   -2.2929171   -2.46850909  -2.86584757]\n",
      " [ -7.05746176  -7.04649204  -7.01378096  -6.88583918  -6.41655355\n",
      "   -5.03487044  -2.71560713  -1.17327398  -0.98689967  -1.42729148]\n",
      " [-11.22103348 -11.2034816  -11.15113909 -10.94635747 -10.19441099\n",
      "   -7.97116944  -4.17917885  -1.47970284  -0.83047139  -1.13725495]]\n"
     ]
    }
   ],
   "source": [
    "\n",
    "# Example Usage\n",
    "data_loglik = get_data_loglik_normal (  betahat,sebetahat, location, scale)\n",
    "assignment_loglik = log_pi \n",
    "    \n",
    "res = apply_log_sum_exp(data_loglik, assignment_loglik)\n",
    "print(res)"
   ]
  },
  {
   "cell_type": "code",
   "execution_count": 5,
   "metadata": {},
   "outputs": [
    {
     "name": "stdout",
     "output_type": "stream",
     "text": [
      "[[0.00000000e+00 1.46270112e-03 5.82524272e-03 2.29007634e-02\n",
      "  8.57142857e-02 2.72727273e-01 6.00000000e-01 8.57142857e-01\n",
      "  9.60000000e-01 9.89690722e-01]\n",
      " [0.00000000e+00 1.81444297e-02 7.06547339e-02 2.55536627e-01\n",
      "  7.38916256e-01 1.40186916e+00 1.80722892e+00 1.94805195e+00\n",
      "  1.98675497e+00 1.99667221e+00]\n",
      " [0.00000000e+00 1.75770951e-04 7.02960244e-04 2.80986575e-03\n",
      "  1.12079701e-02 4.43349754e-02 1.69811321e-01 5.80645161e-01\n",
      "  1.46938776e+00 2.38016529e+00]\n",
      " [0.00000000e+00 5.85080449e-03 2.33009709e-02 9.16030534e-02\n",
      "  3.42857143e-01 1.09090909e+00 2.40000000e+00 3.42857143e+00\n",
      "  3.84000000e+00 3.95876289e+00]\n",
      " [0.00000000e+00 7.31350561e-03 2.91262136e-02 1.14503817e-01\n",
      "  4.28571429e-01 1.36363636e+00 3.00000000e+00 4.28571429e+00\n",
      "  4.80000000e+00 4.94845361e+00]]\n",
      "[0.23635376 1.90130825 0.34311694 3.60843288 4.70131272]\n",
      "[ 0.39779246  3.78405223  3.4020959  14.1843412  23.15589264]\n",
      "[0.34192936 0.16907919 3.28436667 1.16355333 1.05355138]\n"
     ]
    }
   ],
   "source": [
    "t_ind_Var =np.zeros((betahat.shape[0], scale.shape[0]))\n",
    " \n",
    "for i in range(t_ind_Var.shape[0]):\n",
    "    t_ind_Var[i , ]= np.concatenate(([0], 1/((1/sebetahat[i]**2)+ (1/scale[1:]**2)) ))#assume that first entry of scale is 0\n",
    "    \n",
    " \n",
    "\n",
    "\n",
    "temp=np.zeros((betahat.shape[0], scale.shape[0]))\n",
    "\n",
    "for i in range(temp.shape[0]):\n",
    "    temp[i,] = (t_ind_Var[i,]/(sebetahat[i]**2))*betahat[i]\n",
    "\n",
    "print(temp)\n",
    "post_mean  = np.sum( np.exp(res)* temp, axis=1)\n",
    "post_mean2 = np.sum( np.exp(res)*( t_ind_Var+ temp**2), axis=1)\n",
    "print(post_mean)\n",
    "print(post_mean2)\n",
    "print(post_mean2-post_mean **2)"
   ]
  },
  {
   "cell_type": "markdown",
   "metadata": {},
   "source": [
    "The first posterior mean and second moment shoulld be 0.2363538 and 0.3977925"
   ]
  },
  {
   "cell_type": "code",
   "execution_count": 6,
   "metadata": {},
   "outputs": [
    {
     "name": "stdout",
     "output_type": "stream",
     "text": [
      "[0.23635376 1.90130825 0.34311694 3.60843288 4.70131272]\n",
      "[ 0.39779246  3.78405223  3.4020959  14.1843412  23.15589264]\n"
     ]
    }
   ],
   "source": [
    "out= posterior_mean_norm(betahat, sebetahat, log_pi, scale)\n",
    "print(out.post_mean)\n",
    "print(out.post_mean2)"
   ]
  },
  {
   "cell_type": "markdown",
   "metadata": {},
   "source": [
    "The first posterior mean and second moment shoulkd be 0.2363538 and 0.3977925"
   ]
  },
  {
   "cell_type": "code",
   "execution_count": null,
   "metadata": {},
   "outputs": [],
   "source": []
  }
 ],
 "metadata": {
  "kernelspec": {
   "display_name": "ml",
   "language": "python",
   "name": "python3"
  },
  "language_info": {
   "codemirror_mode": {
    "name": "ipython",
    "version": 3
   },
   "file_extension": ".py",
   "mimetype": "text/x-python",
   "name": "python",
   "nbconvert_exporter": "python",
   "pygments_lexer": "ipython3",
   "version": "3.11.7"
  }
 },
 "nbformat": 4,
 "nbformat_minor": 2
}
