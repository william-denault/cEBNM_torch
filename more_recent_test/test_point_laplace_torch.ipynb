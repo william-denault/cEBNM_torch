{
 "cells": [
  {
   "cell_type": "code",
   "execution_count": null,
   "id": "fbfee6dc",
   "metadata": {},
   "outputs": [],
   "source": [
    "import numpy as np\n",
    "import torch\n",
    "from cebmf_torch import *"
   ]
  },
  {
   "cell_type": "code",
   "execution_count": null,
   "id": "89f09c36",
   "metadata": {},
   "outputs": [],
   "source": [
    "x = torch.tensor([0.0, 1.0, -0.5])\n",
    "s = torch.tensor([1.0, 0.2, 1.0])\n",
    "res = ebnm_point_laplace(x, s, steps=4000, lr=0.02)\n",
    "expected_log_lik = -4.161880337595547\n",
    "expected_post_mean = np.array([0.0, 0.9326135, -0.15496329])\n",
    "\n"
   ]
  },
  {
   "cell_type": "code",
   "execution_count": null,
   "id": "7f48d2fa",
   "metadata": {},
   "outputs": [],
   "source": [
    "res.log_lik# should be close to , expected_log_lik"
   ]
  },
  {
   "cell_type": "code",
   "execution_count": null,
   "id": "950dc23f",
   "metadata": {},
   "outputs": [],
   "source": [
    "res.post_mean.cpu().numpy() # should be close to, expected_post_mean"
   ]
  }
 ],
 "metadata": {
  "language_info": {
   "name": "python"
  }
 },
 "nbformat": 4,
 "nbformat_minor": 5
}
