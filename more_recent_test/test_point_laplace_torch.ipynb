{
 "cells": [
  {
   "cell_type": "code",
   "execution_count": 1,
   "id": "fbfee6dc",
   "metadata": {},
   "outputs": [],
   "source": [
    "import numpy as np\n",
    "import torch\n",
    "from cebmf_torch.torch_ebnm_point_laplace import ebnm_point_laplace"
   ]
  },
  {
   "cell_type": "code",
   "execution_count": 2,
   "id": "89f09c36",
   "metadata": {},
   "outputs": [],
   "source": [
    "x = torch.tensor([0.0, 1.0, -0.5])\n",
    "s = torch.tensor([1.0, 0.2, 1.0])\n",
    "res = ebnm_point_laplace(x, s )\n",
    "expected_log_lik = -4.161880337595547\n",
    "expected_post_mean = np.array([0.0, 0.9326135, -0.15496329])\n",
    "\n"
   ]
  },
  {
   "cell_type": "code",
   "execution_count": 3,
   "id": "7f48d2fa",
   "metadata": {},
   "outputs": [
    {
     "data": {
      "text/plain": [
       "-4.1618804931640625"
      ]
     },
     "execution_count": 3,
     "metadata": {},
     "output_type": "execute_result"
    }
   ],
   "source": [
    "res.log_lik# should be close to , expected_log_lik"
   ]
  },
  {
   "cell_type": "code",
   "execution_count": 4,
   "id": "821cfd3f",
   "metadata": {},
   "outputs": [
    {
     "data": {
      "text/plain": [
       "tensor([ 0.0000,  0.9326, -0.1550])"
      ]
     },
     "execution_count": 4,
     "metadata": {},
     "output_type": "execute_result"
    }
   ],
   "source": [
    "res.post_mean"
   ]
  },
  {
   "cell_type": "code",
   "execution_count": null,
   "id": "6e34cefa",
   "metadata": {},
   "outputs": [
    {
     "ename": "ImportError",
     "evalue": "cannot import name 'ebnm_point_exp_solver' from 'cebmf_torch.torch_ebnm_point_exp' (C:\\Document\\Serieux\\Travail\\python_work\\package\\cebmf_torch\\src\\cebmf_torch\\torch_ebnm_point_exp.py)",
     "output_type": "error",
     "traceback": [
      "\u001b[1;31m---------------------------------------------------------------------------\u001b[0m",
      "\u001b[1;31mImportError\u001b[0m                               Traceback (most recent call last)",
      "Cell \u001b[1;32mIn[5], line 3\u001b[0m\n\u001b[0;32m      1\u001b[0m \u001b[38;5;28;01mimport\u001b[39;00m \u001b[38;5;21;01mtorch\u001b[39;00m\n\u001b[0;32m      2\u001b[0m \u001b[38;5;28;01mimport\u001b[39;00m \u001b[38;5;21;01mmath\u001b[39;00m\n\u001b[1;32m----> 3\u001b[0m \u001b[38;5;28;01mfrom\u001b[39;00m \u001b[38;5;21;01mcebmf_torch\u001b[39;00m\u001b[38;5;21;01m.\u001b[39;00m\u001b[38;5;21;01mtorch_ebnm_point_exp\u001b[39;00m \u001b[38;5;28;01mimport\u001b[39;00m ebnm_point_exp_solver\n\u001b[0;32m      4\u001b[0m \u001b[38;5;28;01mfrom\u001b[39;00m \u001b[38;5;21;01mcebmf_torch\u001b[39;00m\u001b[38;5;21;01m.\u001b[39;00m\u001b[38;5;21;01mtorch_ebnm_point_laplace\u001b[39;00m \u001b[38;5;28;01mimport\u001b[39;00m  ebnm_point_laplace\n\u001b[0;32m      5\u001b[0m \u001b[38;5;66;03m# If you saved the previous implementation in torch_only_point_exponential.py:\u001b[39;00m\n\u001b[0;32m      6\u001b[0m \u001b[38;5;66;03m# from torch_only_point_exponential import ebnm_point_exp_solver\u001b[39;00m\n",
      "\u001b[1;31mImportError\u001b[0m: cannot import name 'ebnm_point_exp_solver' from 'cebmf_torch.torch_ebnm_point_exp' (C:\\Document\\Serieux\\Travail\\python_work\\package\\cebmf_torch\\src\\cebmf_torch\\torch_ebnm_point_exp.py)"
     ]
    }
   ],
   "source": [
    "import torch\n",
    "import math\n",
    "from cebmf_torch.torch_ebnm_point_exp import ebnm_point_exp \n",
    "from cebmf_torch.torch_ebnm_point_laplace import  ebnm_point_laplace\n",
    "# If you saved the previous implementation in torch_only_point_exponential.py:\n",
    "# from torch_only_point_exponential import ebnm_point_exp_solver\n",
    " \n",
    "dtype = torch.float64\n",
    "device = \"cpu\"\n",
    "\n",
    "# Generate data (same structure as your NumPy snippet)\n",
    "true_val1 = 3*torch.randn(100000, dtype=dtype, device=device)          # ~ N(0,1)\n",
    "true_val0 = torch.zeros(200000, dtype=dtype, device=device)\n",
    "\n",
    "observations_mu_1 = true_val1 + torch.randn(100000, dtype=dtype, device=device)  # add N(0,1) noise\n",
    "observations_mu_0 = true_val0 + torch.randn(200000, dtype=dtype, device=device)  # add N(0,1) noise\n",
    "\n",
    "betahat = 0*torch.cat([observations_mu_1, observations_mu_0], dim=0)            # shape (300,)\n",
    "sebetahat = torch.ones_like(betahat)                                          # all s = 1\n",
    "\n",
    "# Fit point-exponential EBNM\n",
    "res = ebnm_point_laplace(\n",
    "    x=betahat,\n",
    "    s=sebetahat# [alpha, beta, mu] (alpha=0 => w≈0.5, beta=0 => a=1)\n",
    ")\n",
    "\n",
    "res0 = ebnm_point_exp (\n",
    "    x=betahat,\n",
    "    s=sebetahat# [alpha, beta, mu] (alpha=0 => w≈0.5, beta=0 => a=1)\n",
    ")"
   ]
  },
  {
   "cell_type": "code",
   "execution_count": null,
   "id": "641a3f42",
   "metadata": {},
   "outputs": [],
   "source": [
    "import matplotlib.pyplot as plt\n",
    "import torch"
   ]
  },
  {
   "cell_type": "code",
   "execution_count": null,
   "id": "950dc23f",
   "metadata": {},
   "outputs": [
    {
     "data": {
      "text/plain": [
       "<matplotlib.collections.PathCollection at 0x113496514e0>"
      ]
     },
     "execution_count": 15,
     "metadata": {},
     "output_type": "execute_result"
    },
    {
     "data": {
      "image/png": "[encoded data removed]",
      "text/plain": [
       "<Figure size 640x480 with 1 Axes>"
      ]
     },
     "metadata": {},
     "output_type": "display_data"
    }
   ],
   "source": [
    "plt.scatter(betahat,res.post_mean)\n",
    "plt.scatter(betahat,res0.post_mean)"
   ]
  }
 ],
 "metadata": {
  "kernelspec": {
   "display_name": "ml_env",
   "language": "python",
   "name": "python3"
  },
  "language_info": {
   "codemirror_mode": {
    "name": "ipython",
    "version": 3
   },
   "file_extension": ".py",
   "mimetype": "text/x-python",
   "name": "python",
   "nbconvert_exporter": "python",
   "pygments_lexer": "ipython3",
   "version": "3.10.8"
  }
 },
 "nbformat": 4,
 "nbformat_minor": 5
}
