{
 "cells": [
  {
   "cell_type": "code",
   "execution_count": 1,
   "id": "76e6c6b3",
   "metadata": {},
   "outputs": [],
   "source": [
    "\n",
    "import numpy as np\n",
    "import torch\n",
    "from cebmf_torch import *\n",
    " \n",
    "rng = np.random.default_rng(42)\n",
    "n,p=50,40\n",
    "u = rng.random(n); v=rng.random(p)\n",
    "X = np.outer(u,v) + rng.normal(0,0.1,(n,p))\n",
    "X[1,1]=np.nan; X[10,5]=np.nan; X[30:33,12:14]=np.nan\n",
    "Y = torch.tensor(X, dtype=torch.float32)\n",
    "m = cEBMF(Y, K=5, prior_L=\"norm\", prior_F=\"norm\")\n",
    "m.initialize(\"svd\")\n",
    "for _ in range(10):\n",
    "        m.iter_once()\n",
    "    # Ensure no nans in learned factors and tau positive\n"
   ]
  },
  {
   "cell_type": "code",
   "execution_count": 4,
   "id": "590bf9e0",
   "metadata": {},
   "outputs": [
    {
     "data": {
      "text/plain": [
       "tensor(True)"
      ]
     },
     "execution_count": 4,
     "metadata": {},
     "output_type": "execute_result"
    }
   ],
   "source": [
    "torch.isfinite(m.L).all() \n",
    "\n"
   ]
  },
  {
   "cell_type": "code",
   "execution_count": 5,
   "id": "9ac99a76",
   "metadata": {},
   "outputs": [
    {
     "data": {
      "text/plain": [
       "tensor(True)"
      ]
     },
     "execution_count": 5,
     "metadata": {},
     "output_type": "execute_result"
    }
   ],
   "source": [
    "torch.isfinite(m.F).all()"
   ]
  },
  {
   "cell_type": "code",
   "execution_count": 6,
   "id": "28f148a3",
   "metadata": {},
   "outputs": [
    {
     "data": {
      "text/plain": [
       "True"
      ]
     },
     "execution_count": 6,
     "metadata": {},
     "output_type": "execute_result"
    }
   ],
   "source": [
    "float(m.tau) > 0"
   ]
  }
 ],
 "metadata": {
  "kernelspec": {
   "display_name": "ml_env",
   "language": "python",
   "name": "python3"
  },
  "language_info": {
   "codemirror_mode": {
    "name": "ipython",
    "version": 3
   },
   "file_extension": ".py",
   "mimetype": "text/x-python",
   "name": "python",
   "nbconvert_exporter": "python",
   "pygments_lexer": "ipython3",
   "version": "3.10.8"
  }
 },
 "nbformat": 4,
 "nbformat_minor": 5
}
