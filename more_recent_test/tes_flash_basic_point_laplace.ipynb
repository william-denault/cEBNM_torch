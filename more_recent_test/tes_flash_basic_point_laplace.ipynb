{
 "cells": [
  {
   "cell_type": "code",
   "execution_count": 1,
   "id": "19180450",
   "metadata": {},
   "outputs": [],
   "source": [
    "# ---- Reproducibility\n",
    "import random\n",
    "import torch\n",
    "\n",
    "#seed = 1234\n",
    "#random.seed(seed)\n",
    "#torch.manual_seed(seed)\n",
    "#if torch.cuda.is_available():\n",
    "#    torch.cuda.manual_seed_all(seed)\n"
   ]
  },
  {
   "cell_type": "code",
   "execution_count": 2,
   "id": "e86f9d33",
   "metadata": {},
   "outputs": [
    {
     "name": "stdout",
     "output_type": "stream",
     "text": [
      "Rank-1 Matrix (Outer Product):\n",
      "[[0.10264281 0.01476487 0.05175839 ... 0.13181893 0.17655744 0.07007373]\n",
      " [0.18083871 0.02601312 0.09118924 ... 0.23224195 0.31106338 0.12345768]\n",
      " [0.03460074 0.00497721 0.01744768 ... 0.04443597 0.05951725 0.02362175]\n",
      " ...\n",
      " [0.19478228 0.02801886 0.09822039 ... 0.25014896 0.33504793 0.13297688]\n",
      " [0.18131549 0.0260817  0.09142966 ... 0.23285425 0.3118835  0.12378317]\n",
      " [0.01055747 0.00151866 0.00532368 ... 0.01355842 0.01816006 0.00720753]]\n",
      "\n",
      "Noisy Matrix (with Homoscedastic Noise):\n",
      "[[-0.00422066  0.21153028  0.06010272 ...  0.21404265  0.17577045\n",
      "   0.03728365]\n",
      " [ 0.10136012 -0.06421656  0.22997044 ...  0.27354002  0.39821172\n",
      "   0.09342566]\n",
      " [ 0.06328461 -0.13757287  0.12028556 ... -0.16832537  0.25027905\n",
      "   0.1343545 ]\n",
      " ...\n",
      " [ 0.04836237 -0.11069574 -0.01273401 ...  0.3128043   0.59201921\n",
      "   0.16397437]\n",
      " [ 0.25745413 -0.13926727  0.26778996 ...  0.08625145  0.32431885\n",
      "   0.19155726]\n",
      " [-0.03131898 -0.07281977 -0.03194115 ... -0.05639279  0.05864907\n",
      "   0.11010665]]\n"
     ]
    }
   ],
   "source": [
    "\n",
    "\n",
    "# ---- Parameters\n",
    "n, p = 50, 40\n",
    "noise_std = 0.1\n",
    "\n",
    "# (Optional) choose device\n",
    "device = torch.device(\"cuda\" if torch.cuda.is_available() else \"cpu\")\n",
    "\n",
    "# ---- Data generation (PyTorch)\n",
    "# Use float64 to mirror NumPy defaults\n",
    "u = torch.rand(n, dtype=torch.float64, device=device)          # length n\n",
    "v = torch.rand(p, dtype=torch.float64, device=device)          # length p\n",
    "\n",
    "# Rank-1 matrix via outer product\n",
    "rank_1_matrix = torch.outer(u, v)                              # (n, p)\n",
    "\n",
    "# Homoscedastic Gaussian noise\n",
    "noise = noise_std * torch.randn(n, p, dtype=torch.float64, device=device)\n",
    "\n",
    "noisy_matrix = rank_1_matrix + noise\n",
    "\n",
    "# ---- Print (move to CPU for readability if needed)\n",
    "print(\"Rank-1 Matrix (Outer Product):\")\n",
    "print(rank_1_matrix.cpu().numpy())\n",
    "\n",
    "print(\"\\nNoisy Matrix (with Homoscedastic Noise):\")\n",
    "print(noisy_matrix.cpu().numpy())\n"
   ]
  },
  {
   "cell_type": "code",
   "execution_count": 3,
   "id": "ef5f20ea",
   "metadata": {},
   "outputs": [],
   "source": [
    "import sys\n",
    "import os\n",
    "import matplotlib.pyplot as plt\n",
    "from cebmf_torch import cEBMF"
   ]
  },
  {
   "cell_type": "code",
   "execution_count": 4,
   "id": "ec4db86c",
   "metadata": {},
   "outputs": [],
   "source": [
    "mycebmf=  cEBMF(data= noisy_matrix, prior_F=\"point_laplace\",\n",
    "                prior_L=\"point_laplace\") \n",
    "\n",
    " "
   ]
  },
  {
   "cell_type": "code",
   "execution_count": 5,
   "id": "72b27883",
   "metadata": {},
   "outputs": [
    {
     "name": "stdout",
     "output_type": "stream",
     "text": [
      "tensor([ 0.2278, -0.0034,  0.3611, -0.0307, -0.2668,  0.2387, -0.1440,  0.0462,\n",
      "         0.0590, -0.4228,  0.0626,  0.2886,  0.0888, -0.1490, -0.0648,  0.0793,\n",
      "        -0.2448, -0.2590,  0.0938,  0.0488,  0.2284,  0.0614,  0.1965, -0.1036,\n",
      "         0.1913,  0.0598, -0.1077, -0.0228, -0.1876, -0.1148,  0.1590,  0.1172,\n",
      "         0.0252,  0.0348,  0.0192, -0.0528,  0.0760, -0.1966, -0.0115, -0.1773,\n",
      "        -0.3010,  0.0195, -0.0696, -0.1914, -0.0928, -0.2792,  0.2444,  0.2169,\n",
      "         0.4231,  0.0419])\n",
      "tensor([ 0.1475, -0.3069,  0.3127, -0.0741, -0.1410,  0.0791, -0.0882, -0.0015,\n",
      "        -0.2112, -0.2629, -0.0176,  0.1730,  0.1543,  0.1712, -0.0770,  0.1302,\n",
      "        -0.1382, -0.0542, -0.0348, -0.1672,  0.0666,  0.1352,  0.2610, -0.2324,\n",
      "        -0.1330,  0.1991, -0.0272,  0.0500, -0.2160, -0.0332, -0.0635,  0.2126,\n",
      "        -0.1322,  0.0026,  0.0143,  0.1630, -0.1287, -0.1825,  0.2675,  0.0869])\n"
     ]
    }
   ],
   "source": [
    "mycebmf.initialize()\n",
    "print(mycebmf.L[:,1])\n",
    "\n",
    "print(mycebmf.F[:,1])"
   ]
  },
  {
   "cell_type": "code",
   "execution_count": 6,
   "id": "929bbf73",
   "metadata": {},
   "outputs": [
    {
     "data": {
      "text/plain": [
       "tensor([[ 0.1242,  0.0435,  0.1376,  ...,  0.1295,  0.1894,  0.1056],\n",
       "        [ 0.1228, -0.0089,  0.1364,  ...,  0.1639,  0.3491,  0.1121],\n",
       "        [ 0.0581, -0.1271,  0.1505,  ..., -0.0442,  0.2082,  0.0511],\n",
       "        ...,\n",
       "        [ 0.2477, -0.0226,  0.1367,  ...,  0.2455,  0.4210,  0.1817],\n",
       "        [ 0.2157, -0.0846,  0.2253,  ...,  0.1477,  0.4362,  0.1684],\n",
       "        [ 0.0458,  0.0029,  0.0236,  ...,  0.0192, -0.0104,  0.0180]])"
      ]
     },
     "execution_count": 6,
     "metadata": {},
     "output_type": "execute_result"
    }
   ],
   "source": [
    "sum(torch.outer(mycebmf.L[:,k], mycebmf.F[:,k]) for k in range(mycebmf.K))"
   ]
  },
  {
   "cell_type": "code",
   "execution_count": 7,
   "id": "92b90eed",
   "metadata": {},
   "outputs": [
    {
     "data": {
      "text/plain": [
       "tensor([[ 0.1242,  0.0435,  0.1376,  ...,  0.1295,  0.1894,  0.1056],\n",
       "        [ 0.1228, -0.0089,  0.1364,  ...,  0.1639,  0.3491,  0.1121],\n",
       "        [ 0.0581, -0.1271,  0.1505,  ..., -0.0442,  0.2082,  0.0511],\n",
       "        ...,\n",
       "        [ 0.2477, -0.0226,  0.1367,  ...,  0.2455,  0.4210,  0.1817],\n",
       "        [ 0.2157, -0.0846,  0.2253,  ...,  0.1477,  0.4362,  0.1684],\n",
       "        [ 0.0458,  0.0029,  0.0236,  ...,  0.0192, -0.0104,  0.0180]])"
      ]
     },
     "execution_count": 7,
     "metadata": {},
     "output_type": "execute_result"
    }
   ],
   "source": [
    " mycebmf.L @  mycebmf.F.T"
   ]
  },
  {
   "cell_type": "code",
   "execution_count": 8,
   "id": "dedc31d8",
   "metadata": {},
   "outputs": [
    {
     "name": "stdout",
     "output_type": "stream",
     "text": [
      "tensor([[-3.3921e-02,  1.9064e-01, -2.7212e-02,  ...,  2.1467e-01,\n",
      "          1.6744e-01,  8.0237e-03],\n",
      "        [ 1.5202e-01, -1.3800e-02,  1.8582e-01,  ...,  3.4847e-01,\n",
      "          3.8143e-01,  1.2151e-01],\n",
      "        [ 4.8726e-02, -4.3660e-05, -7.0234e-03,  ..., -6.4203e-02,\n",
      "          1.2544e-01,  1.1838e-01],\n",
      "        ...,\n",
      "        [-1.3299e-02, -4.3504e-02, -5.0455e-02,  ...,  3.2348e-01,\n",
      "          5.2751e-01,  1.3264e-01],\n",
      "        [ 2.0837e-01, -1.4742e-02,  1.3108e-01,  ...,  1.6791e-01,\n",
      "          2.0722e-01,  1.5781e-01],\n",
      "        [-6.9013e-02, -7.3798e-02, -5.1181e-02,  ..., -6.4404e-02,\n",
      "          8.4640e-02,  9.8657e-02]])\n"
     ]
    },
    {
     "data": {
      "text/plain": [
       "tensor([[ 0.1242,  0.0435,  0.1376,  ...,  0.1295,  0.1894,  0.1056],\n",
       "        [ 0.1228, -0.0089,  0.1364,  ...,  0.1639,  0.3491,  0.1121],\n",
       "        [ 0.0581, -0.1271,  0.1505,  ..., -0.0442,  0.2082,  0.0511],\n",
       "        ...,\n",
       "        [ 0.2477, -0.0226,  0.1367,  ...,  0.2455,  0.4210,  0.1817],\n",
       "        [ 0.2157, -0.0846,  0.2253,  ...,  0.1477,  0.4362,  0.1684],\n",
       "        [ 0.0458,  0.0029,  0.0236,  ...,  0.0192, -0.0104,  0.0180]])"
      ]
     },
     "execution_count": 8,
     "metadata": {},
     "output_type": "execute_result"
    }
   ],
   "source": [
    "\n",
    "k=0\n",
    "f_o=mycebmf.F[:,k]\n",
    "l_o=mycebmf.L[:,k]\n",
    "R= noisy_matrix- mycebmf.L@mycebmf.F.T\n",
    "Rk= mycebmf._partial_residual_masked(k)\n",
    "\n",
    "print(Rk)\n",
    "\n",
    "\n",
    "sum( torch.outer(mycebmf.L[:,k], mycebmf.F[:,k])   for k in range(mycebmf.K))"
   ]
  },
  {
   "cell_type": "code",
   "execution_count": 9,
   "id": "dedaec0b",
   "metadata": {},
   "outputs": [
    {
     "name": "stdout",
     "output_type": "stream",
     "text": [
      "True\n",
      "False\n"
     ]
    }
   ],
   "source": [
    "import torch\n",
    "\n",
    "k = 0\n",
    "Y0   = mycebmf.Y0\n",
    "M    = mycebmf.mask\n",
    "L    = mycebmf.L\n",
    "F    = mycebmf.F\n",
    "\n",
    "# Clone these to avoid view aliasing issues\n",
    "l_old = L[:, k].clone()\n",
    "f_old = F[:, k].clone()\n",
    "\n",
    "# Baseline residual (masked)\n",
    "recon = L @ F.T\n",
    "R     = (Y0 - recon) * M\n",
    "\n",
    "# Partial residual excluding factor k\n",
    "Rk = (Y0 - (recon - torch.outer(l_old, f_old))) * M\n",
    "\n",
    "# 1) First identity: Rk = R + l_old f_old^T  (masked)\n",
    "print(torch.allclose(Rk, R + torch.outer(l_old, f_old) * M, atol=1e-7))\n",
    "\n",
    "# Mutate L[:,k] --> l_new\n",
    "L[:, k] = l_old + 1.0\n",
    "l_new = L[:, k]  # (this is fine; we already saved l_old above)\n",
    "\n",
    "# New residual (recompute from scratch, masked)\n",
    "recon_new = L @ F.T\n",
    "R_new     = (Y0 - recon_new) * M\n",
    "\n",
    "# 2) Second identity: R_new = Rk - l_new f_old^T  (masked)\n",
    "print(torch.allclose(R_new, Rk - torch.outer(l_new, f_old) * M, atol=1e-7))\n"
   ]
  },
  {
   "cell_type": "code",
   "execution_count": 10,
   "id": "975f8400",
   "metadata": {},
   "outputs": [
    {
     "data": {
      "text/plain": [
       "<matplotlib.collections.PathCollection at 0x1e63acf9ea0>"
      ]
     },
     "execution_count": 10,
     "metadata": {},
     "output_type": "execute_result"
    },
    {
     "data": {
      "image/png": "[encoded data removed]",
      "text/plain": [
       "<Figure size 640x480 with 1 Axes>"
      ]
     },
     "metadata": {},
     "output_type": "display_data"
    }
   ],
   "source": [
    "plt.scatter( mycebmf.L[:,0],u)"
   ]
  },
  {
   "cell_type": "code",
   "execution_count": 11,
   "id": "65c747e1",
   "metadata": {},
   "outputs": [
    {
     "name": "stdout",
     "output_type": "stream",
     "text": [
      "5\n"
     ]
    },
    {
     "data": {
      "text/plain": [
       "tensor([[ 0.1426,  0.0106,  0.0848,  ...,  0.1433,  0.1920,  0.0940],\n",
       "        [ 0.1014,  0.0191,  0.1414,  ...,  0.1766,  0.3385,  0.1205],\n",
       "        [ 0.0592, -0.0955,  0.1241,  ..., -0.0012,  0.1576,  0.0459],\n",
       "        ...,\n",
       "        [ 0.2160, -0.0057,  0.1357,  ...,  0.2418,  0.3894,  0.1600],\n",
       "        [ 0.2047, -0.0743,  0.1998,  ...,  0.1730,  0.3975,  0.1513],\n",
       "        [ 0.0234,  0.0077,  0.0149,  ...,  0.0080,  0.0018,  0.0053]])"
      ]
     },
     "execution_count": 11,
     "metadata": {},
     "output_type": "execute_result"
    }
   ],
   "source": [
    "mycebmf.iter_once()\n",
    "mycebmf.update_fitted_value()\n",
    "import numpy as np\n",
    "K=0\n",
    "mycebmf.Y_fit "
   ]
  },
  {
   "cell_type": "code",
   "execution_count": 12,
   "id": "dc39ba8f",
   "metadata": {},
   "outputs": [
    {
     "data": {
      "text/plain": [
       "<matplotlib.collections.PathCollection at 0x1e63ad70a00>"
      ]
     },
     "execution_count": 12,
     "metadata": {},
     "output_type": "execute_result"
    },
    {
     "data": {
      "image/png": "[encoded data removed]",
      "text/plain": [
       "<Figure size 640x480 with 1 Axes>"
      ]
     },
     "metadata": {},
     "output_type": "display_data"
    }
   ],
   "source": [
    "plt.scatter( mycebmf.L[:,0],u)"
   ]
  },
  {
   "cell_type": "code",
   "execution_count": 13,
   "id": "cd9e6f93",
   "metadata": {},
   "outputs": [
    {
     "name": "stdout",
     "output_type": "stream",
     "text": [
      "5\n"
     ]
    },
    {
     "data": {
      "text/plain": [
       "<matplotlib.collections.PathCollection at 0x1e640e755a0>"
      ]
     },
     "execution_count": 13,
     "metadata": {},
     "output_type": "execute_result"
    },
    {
     "data": {
      "image/png": "[encoded data removed]",
      "text/plain": [
       "<Figure size 640x480 with 1 Axes>"
      ]
     },
     "metadata": {},
     "output_type": "display_data"
    }
   ],
   "source": [
    "mycebmf.iter_once()  \n",
    "plt.scatter(mycebmf.Y_fit, noisy_matrix)\n",
    " \n",
    "plt.scatter(mycebmf.Y_fit, rank_1_matrix)"
   ]
  },
  {
   "cell_type": "code",
   "execution_count": null,
   "id": "1d55212b",
   "metadata": {},
   "outputs": [],
   "source": []
  },
  {
   "cell_type": "code",
   "execution_count": 14,
   "id": "a392de19",
   "metadata": {},
   "outputs": [
    {
     "name": "stdout",
     "output_type": "stream",
     "text": [
      "5\n",
      "5\n",
      "5\n",
      "5\n",
      "3\n",
      "3\n",
      "3\n"
     ]
    },
    {
     "data": {
      "text/plain": [
       "CEBMFResult(L=tensor([[1.7092],\n",
       "        [3.1411],\n",
       "        [0.7842],\n",
       "        [0.1274],\n",
       "        [1.9568],\n",
       "        [0.6010],\n",
       "        [3.2441],\n",
       "        [2.8215],\n",
       "        [3.0499],\n",
       "        [1.0547],\n",
       "        [1.3228],\n",
       "        [3.4366],\n",
       "        [1.8274],\n",
       "        [3.2221],\n",
       "        [1.7038],\n",
       "        [0.9252],\n",
       "        [2.9389],\n",
       "        [2.1475],\n",
       "        [1.5861],\n",
       "        [2.2198],\n",
       "        [2.9387],\n",
       "        [2.1482],\n",
       "        [2.2187],\n",
       "        [2.4897],\n",
       "        [0.0705],\n",
       "        [2.7307],\n",
       "        [3.1974],\n",
       "        [2.0949],\n",
       "        [1.3831],\n",
       "        [3.1507],\n",
       "        [1.6177],\n",
       "        [2.0276],\n",
       "        [3.3538],\n",
       "        [2.4095],\n",
       "        [1.0302],\n",
       "        [2.0922],\n",
       "        [0.8478],\n",
       "        [1.4478],\n",
       "        [0.0236],\n",
       "        [2.0380],\n",
       "        [1.2767],\n",
       "        [1.3992],\n",
       "        [0.9131],\n",
       "        [2.5668],\n",
       "        [3.8033],\n",
       "        [1.9110],\n",
       "        [1.0919],\n",
       "        [3.3702],\n",
       "        [3.0169],\n",
       "        [0.1016]]), F=tensor([[0.0549],\n",
       "        [0.0109],\n",
       "        [0.0290],\n",
       "        [0.2068],\n",
       "        [0.0684],\n",
       "        [0.2349],\n",
       "        [0.2642],\n",
       "        [0.0536],\n",
       "        [0.1649],\n",
       "        [0.2532],\n",
       "        [0.1987],\n",
       "        [0.2642],\n",
       "        [0.0747],\n",
       "        [0.2440],\n",
       "        [0.1394],\n",
       "        [0.1619],\n",
       "        [0.0233],\n",
       "        [0.0863],\n",
       "        [0.2460],\n",
       "        [0.0041],\n",
       "        [0.2437],\n",
       "        [0.2137],\n",
       "        [0.0307],\n",
       "        [0.1857],\n",
       "        [0.1490],\n",
       "        [0.0329],\n",
       "        [0.2222],\n",
       "        [0.0128],\n",
       "        [0.0026],\n",
       "        [0.1634],\n",
       "        [0.0774],\n",
       "        [0.2263],\n",
       "        [0.0944],\n",
       "        [0.2456],\n",
       "        [0.1870],\n",
       "        [0.0509],\n",
       "        [0.1214],\n",
       "        [0.0756],\n",
       "        [0.1053],\n",
       "        [0.0442]]), tau=tensor(100.2897), history_obj=[-2068.9443359375, -2067.835693359375, -2067.787109375, -2067.78515625, -2067.78466796875, -2067.784912109375, -2067.784912109375, -2067.784912109375, -2067.784912109375, -2067.784912109375, -2067.784912109375, -2067.784912109375, -2067.784912109375, -2067.784912109375, -2067.784912109375, -2067.784912109375, -2067.78466796875, -2067.784912109375, -2067.784912109375, -2067.784912109375, -2067.784912109375, -2067.784423828125, -2067.784912109375, -2067.784423828125, -2067.784912109375, -2067.784423828125, -2067.784423828125, -2067.784423828125, -2067.784912109375, -2067.784423828125, -2067.78466796875, -2067.784423828125, -2067.784912109375, -2067.784912109375, -2067.784912109375, -2067.78466796875, -2067.784912109375, -2067.784912109375, -2067.784912109375, -2067.78466796875, -2067.784912109375, -2067.784912109375, -2067.784912109375, -2067.785400390625])"
      ]
     },
     "execution_count": 14,
     "metadata": {},
     "output_type": "execute_result"
    }
   ],
   "source": [
    "mycebmf=  cEBMF(data= noisy_matrix, prior_F=\"point_laplace\",\n",
    "                prior_L=\"point_laplace\") \n",
    "mycebmf.initialize()\n",
    "mycebmf.fit()"
   ]
  },
  {
   "cell_type": "code",
   "execution_count": 15,
   "id": "35b6b44f",
   "metadata": {},
   "outputs": [
    {
     "data": {
      "text/plain": [
       "[<matplotlib.lines.Line2D at 0x1e64102b670>]"
      ]
     },
     "execution_count": 15,
     "metadata": {},
     "output_type": "execute_result"
    },
    {
     "data": {
      "image/png": "[encoded data removed]",
      "text/plain": [
       "<Figure size 640x480 with 1 Axes>"
      ]
     },
     "metadata": {},
     "output_type": "display_data"
    }
   ],
   "source": [
    "plt.plot(mycebmf.obj)"
   ]
  },
  {
   "cell_type": "code",
   "execution_count": null,
   "id": "fbf651a5",
   "metadata": {},
   "outputs": [],
   "source": [
    " "
   ]
  },
  {
   "cell_type": "code",
   "execution_count": null,
   "id": "6f41de58",
   "metadata": {},
   "outputs": [
    {
     "name": "stdout",
     "output_type": "stream",
     "text": [
      "5\n",
      "5\n",
      "5\n",
      "5\n",
      "4\n",
      "4\n",
      "4\n",
      "3\n",
      "3\n",
      "3\n",
      "2\n",
      "2\n",
      "2\n",
      "2\n",
      "2\n",
      "2\n",
      "5\n",
      "5\n",
      "5\n",
      "4\n",
      "3\n",
      "2\n",
      "5\n",
      "5\n",
      "5\n",
      "4\n",
      "3\n",
      "2\n",
      "2\n",
      "2\n",
      "2\n",
      "2\n",
      "2\n",
      "2\n",
      "2\n",
      "2\n",
      "2\n",
      "2\n",
      "2\n",
      "2\n",
      "2\n",
      "2\n",
      "2\n",
      "2\n",
      "2\n",
      "2\n",
      "2\n",
      "2\n",
      "2\n",
      "2\n",
      "2\n",
      "5\n",
      "5\n",
      "5\n",
      "4\n",
      "4\n",
      "3\n",
      "3\n",
      "3\n",
      "2\n",
      "5\n",
      "5\n",
      "5\n",
      "4\n",
      "4\n",
      "4\n",
      "3\n",
      "2\n",
      "2\n",
      "5\n",
      "5\n",
      "5\n",
      "4\n",
      "3\n",
      "3\n",
      "3\n",
      "3\n"
     ]
    }
   ],
   "source": [
    "results =[]\n",
    "for i in range(50):\n",
    "    # Parameters\n",
    "    n, p = 50, 40\n",
    "    noise_std = 0.1\n",
    "\n",
    "# (Optional) choose device\n",
    "    device = torch.device(\"cuda\" if torch.cuda.is_available() else \"cpu\")\n",
    "\n",
    "# ---- Data generation (PyTorch)\n",
    "# Use float64 to mirror NumPy defaults\n",
    "    u = torch.rand(n, dtype=torch.float64, device=device)          # length n\n",
    "    v = torch.rand(p, dtype=torch.float64, device=device)          # length p\n",
    "\n",
    "# Rank-1 matrix via outer product\n",
    "    rank_1_matrix = torch.outer(u, v)                              # (n, p)\n",
    "\n",
    "# Homoscedastic Gaussian noise\n",
    "    noise = noise_std * torch.randn(n, p, dtype=torch.float64, device=device)\n",
    "\n",
    "    noisy_matrix = rank_1_matrix + noise\n",
    "\n",
    " \n",
    "# Add homoscedastic Gaussian noise (constant variance across the matrix)\n",
    "    mycebmf=  cEBMF(data= noisy_matrix, prior_F=\"point_laplace\",\n",
    "                      prior_L=\"point_laplace\") \n",
    "    mycebmf.initialize()\n",
    "    mycebmf.fit()\n",
    "    \n",
    "    mycebmf.update_fitted_value()\n",
    "    \n",
    "    rr = torch.sqrt(torch.mean(mycebmf.Y_fit- rank_1_matrix)**2)\n",
    "    results.append( rr)\n",
    " "
   ]
  },
  {
   "cell_type": "code",
   "execution_count": null,
   "id": "8f252484",
   "metadata": {},
   "outputs": [
    {
     "data": {
      "image/png": "[encoded data removed]",
      "text/plain": [
       "<Figure size 640x480 with 1 Axes>"
      ]
     },
     "metadata": {},
     "output_type": "display_data"
    }
   ],
   "source": [
    "plt.boxplot(results)\n",
    "plt.title(\"Results from Loop Iterations\")\n",
    "plt.ylabel(\"Result Value\")\n",
    "plt.show()"
   ]
  },
  {
   "cell_type": "code",
   "execution_count": null,
   "id": "5665e16e",
   "metadata": {},
   "outputs": [
    {
     "data": {
      "text/plain": [
       "0.00236293612052501"
      ]
     },
     "execution_count": 18,
     "metadata": {},
     "output_type": "execute_result"
    }
   ],
   "source": [
    "res= np.asarray(results)\n",
    "np.mean(res )"
   ]
  }
 ],
 "metadata": {
  "kernelspec": {
   "display_name": "ml_env",
   "language": "python",
   "name": "python3"
  },
  "language_info": {
   "codemirror_mode": {
    "name": "ipython",
    "version": 3
   },
   "file_extension": ".py",
   "mimetype": "text/x-python",
   "name": "python",
   "nbconvert_exporter": "python",
   "pygments_lexer": "ipython3",
   "version": "3.10.8"
  }
 },
 "nbformat": 4,
 "nbformat_minor": 5
}
