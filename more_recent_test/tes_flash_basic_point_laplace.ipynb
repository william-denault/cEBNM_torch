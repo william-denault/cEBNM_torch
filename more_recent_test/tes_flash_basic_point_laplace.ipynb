{
 "cells": [
  {
   "cell_type": "code",
   "execution_count": 1,
   "id": "19180450",
   "metadata": {},
   "outputs": [],
   "source": [
    "# ---- Reproducibility\n",
    "import random\n",
    "import torch\n",
    "\n",
    "#seed = 1234\n",
    "#random.seed(seed)\n",
    "#torch.manual_seed(seed)\n",
    "#if torch.cuda.is_available():\n",
    "#    torch.cuda.manual_seed_all(seed)\n"
   ]
  },
  {
   "cell_type": "code",
   "execution_count": 2,
   "id": "e86f9d33",
   "metadata": {},
   "outputs": [
    {
     "name": "stdout",
     "output_type": "stream",
     "text": [
      "Rank-1 Matrix (Outer Product):\n",
      "[[0.04707873 0.19200922 0.38343104 ... 0.18855113 0.09636875 0.74079147]\n",
      " [0.03405367 0.1388869  0.27734891 ... 0.13638554 0.06970685 0.53584003]\n",
      " [0.05714733 0.2330737  0.46543437 ... 0.22887604 0.11697887 0.89922247]\n",
      " ...\n",
      " [0.05577502 0.22747678 0.45425765 ... 0.22337992 0.1141698  0.87762897]\n",
      " [0.06014447 0.24529743 0.48984445 ... 0.24087962 0.12311392 0.94638291]\n",
      " [0.01978853 0.08070693 0.16116697 ... 0.0792534  0.04050653 0.31137571]]\n",
      "\n",
      "Noisy Matrix (with Homoscedastic Noise):\n",
      "[[ 0.14694936  0.27889061  0.32699674 ... -0.04936794  0.0800102\n",
      "   0.66282845]\n",
      " [ 0.165351    0.19125687  0.42898802 ... -0.01420059 -0.10082862\n",
      "   0.83215865]\n",
      " [ 0.11763038  0.33050591  0.32642983 ...  0.44297971  0.0543\n",
      "   0.97918348]\n",
      " ...\n",
      " [ 0.0424654   0.17609656  0.47166726 ...  0.28330506  0.20000109\n",
      "   0.6335947 ]\n",
      " [-0.01285507  0.4083527   0.39161318 ...  0.2934109   0.01118065\n",
      "   0.88556792]\n",
      " [ 0.06832208  0.25648165  0.04485975 ...  0.05109514  0.1293467\n",
      "   0.21177756]]\n"
     ]
    }
   ],
   "source": [
    "\n",
    "\n",
    "# ---- Parameters\n",
    "n, p = 50, 40\n",
    "noise_std = 0.1\n",
    "\n",
    "# (Optional) choose device\n",
    "device = torch.device(\"cuda\" if torch.cuda.is_available() else \"cpu\")\n",
    "\n",
    "# ---- Data generation (PyTorch)\n",
    "# Use float64 to mirror NumPy defaults\n",
    "u = torch.rand(n, dtype=torch.float64, device=device)          # length n\n",
    "v = torch.rand(p, dtype=torch.float64, device=device)          # length p\n",
    "\n",
    "# Rank-1 matrix via outer product\n",
    "rank_1_matrix = torch.outer(u, v)                              # (n, p)\n",
    "\n",
    "# Homoscedastic Gaussian noise\n",
    "noise = noise_std * torch.randn(n, p, dtype=torch.float64, device=device)\n",
    "\n",
    "noisy_matrix = rank_1_matrix + noise\n",
    "\n",
    "# ---- Print (move to CPU for readability if needed)\n",
    "print(\"Rank-1 Matrix (Outer Product):\")\n",
    "print(rank_1_matrix.cpu().numpy())\n",
    "\n",
    "print(\"\\nNoisy Matrix (with Homoscedastic Noise):\")\n",
    "print(noisy_matrix.cpu().numpy())\n"
   ]
  },
  {
   "cell_type": "code",
   "execution_count": 3,
   "id": "ef5f20ea",
   "metadata": {},
   "outputs": [],
   "source": [
    "import sys\n",
    "import os\n",
    "import matplotlib.pyplot as plt\n",
    "from cebmf_torch import cEBMF"
   ]
  },
  {
   "cell_type": "code",
   "execution_count": 4,
   "id": "ec4db86c",
   "metadata": {},
   "outputs": [],
   "source": [
    "mycebmf=  cEBMF(data= noisy_matrix, prior_F=\"point_laplace\",\n",
    "                prior_L=\"point_laplace\") \n",
    "\n",
    " "
   ]
  },
  {
   "cell_type": "code",
   "execution_count": 5,
   "id": "72b27883",
   "metadata": {},
   "outputs": [
    {
     "name": "stdout",
     "output_type": "stream",
     "text": [
      "tensor([ 0.2338,  0.4781,  0.0914,  0.0341,  0.1091,  0.0727, -0.0523,  0.0909,\n",
      "        -0.0125, -0.1889,  0.2838,  0.3373, -0.1516, -0.0875, -0.2821,  0.1666,\n",
      "        -0.1761, -0.2672, -0.0886,  0.1413,  0.0999,  0.0450,  0.0216, -0.2249,\n",
      "         0.0046,  0.0088, -0.0095, -0.1852, -0.2457, -0.1349,  0.0940, -0.2875,\n",
      "        -0.0303,  0.0011,  0.3133,  0.1276, -0.0632, -0.0243,  0.0990,  0.0986,\n",
      "         0.1541,  0.0131,  0.0573,  0.2540, -0.0480, -0.3286,  0.0606, -0.0393,\n",
      "        -0.1211, -0.0817])\n",
      "tensor([ 1.7295e-01,  3.3465e-02,  2.3193e-01,  1.5330e-04,  5.3503e-02,\n",
      "        -2.0925e-01, -9.5059e-03,  3.8512e-01,  2.1953e-01, -2.1693e-01,\n",
      "         1.9712e-01,  1.0195e-01, -2.6840e-02, -1.0327e-01, -1.9006e-01,\n",
      "         1.1204e-01,  1.7055e-01, -9.5964e-02, -1.6554e-01,  7.8573e-02,\n",
      "        -1.2247e-01,  2.9153e-02, -6.9624e-02, -1.0094e-01,  3.6264e-01,\n",
      "        -1.9306e-01,  1.0462e-01, -2.9459e-01, -7.9000e-02,  1.0480e-02,\n",
      "         4.3731e-02, -2.2366e-01, -1.0165e-01, -5.6543e-02,  5.2176e-02,\n",
      "        -1.4239e-01,  4.3261e-02,  4.7221e-03, -1.1878e-01,  1.8833e-01])\n"
     ]
    }
   ],
   "source": [
    "mycebmf.initialize()\n",
    "print(mycebmf.L[:,1])\n",
    "\n",
    "print(mycebmf.F[:,1])"
   ]
  },
  {
   "cell_type": "code",
   "execution_count": 6,
   "id": "929bbf73",
   "metadata": {},
   "outputs": [
    {
     "data": {
      "text/plain": [
       "tensor([[ 0.1254,  0.2227,  0.4009,  ...,  0.0973,  0.1210,  0.7063],\n",
       "        [ 0.1207,  0.1933,  0.4462,  ...,  0.1805, -0.0223,  0.6803],\n",
       "        [ 0.0907,  0.2610,  0.4803,  ...,  0.2919,  0.0756,  0.9686],\n",
       "        ...,\n",
       "        [ 0.0856,  0.2807,  0.4610,  ...,  0.1622,  0.1361,  0.8467],\n",
       "        [ 0.0423,  0.2494,  0.4767,  ...,  0.2277,  0.1318,  0.8434],\n",
       "        [ 0.0392,  0.0905,  0.0812,  ...,  0.0810,  0.0732,  0.3437]])"
      ]
     },
     "execution_count": 6,
     "metadata": {},
     "output_type": "execute_result"
    }
   ],
   "source": [
    "sum(torch.outer(mycebmf.L[:,k], mycebmf.F[:,k]) for k in range(mycebmf.K))"
   ]
  },
  {
   "cell_type": "code",
   "execution_count": 7,
   "id": "92b90eed",
   "metadata": {},
   "outputs": [
    {
     "data": {
      "text/plain": [
       "tensor([[ 0.1254,  0.2227,  0.4009,  ...,  0.0973,  0.1210,  0.7063],\n",
       "        [ 0.1207,  0.1933,  0.4462,  ...,  0.1805, -0.0223,  0.6803],\n",
       "        [ 0.0907,  0.2610,  0.4803,  ...,  0.2919,  0.0756,  0.9686],\n",
       "        ...,\n",
       "        [ 0.0856,  0.2807,  0.4610,  ...,  0.1622,  0.1361,  0.8467],\n",
       "        [ 0.0423,  0.2494,  0.4767,  ...,  0.2277,  0.1318,  0.8434],\n",
       "        [ 0.0392,  0.0905,  0.0812,  ...,  0.0810,  0.0732,  0.3437]])"
      ]
     },
     "execution_count": 7,
     "metadata": {},
     "output_type": "execute_result"
    }
   ],
   "source": [
    " mycebmf.L @  mycebmf.F.T"
   ]
  },
  {
   "cell_type": "code",
   "execution_count": 8,
   "id": "dedc31d8",
   "metadata": {},
   "outputs": [
    {
     "name": "stdout",
     "output_type": "stream",
     "text": [
      "tensor([[ 0.0796,  0.2576,  0.2948,  ...,  0.0493,  0.0428,  0.6661],\n",
      "        [ 0.0927,  0.1648,  0.2880,  ..., -0.0325, -0.0091,  0.7393],\n",
      "        [ 0.1021,  0.3303,  0.3233,  ...,  0.4047,  0.0873,  0.9291],\n",
      "        ...,\n",
      "        [ 0.0301,  0.1494,  0.4757,  ...,  0.3683,  0.1697,  0.6820],\n",
      "        [ 0.0185,  0.4145,  0.3826,  ...,  0.3144, -0.0143,  0.9423],\n",
      "        [ 0.0561,  0.2597,  0.1351,  ...,  0.0613,  0.0952,  0.1981]])\n"
     ]
    },
    {
     "data": {
      "text/plain": [
       "tensor([[ 0.1254,  0.2227,  0.4009,  ...,  0.0973,  0.1210,  0.7063],\n",
       "        [ 0.1207,  0.1933,  0.4462,  ...,  0.1805, -0.0223,  0.6803],\n",
       "        [ 0.0907,  0.2610,  0.4803,  ...,  0.2919,  0.0756,  0.9686],\n",
       "        ...,\n",
       "        [ 0.0856,  0.2807,  0.4610,  ...,  0.1622,  0.1361,  0.8467],\n",
       "        [ 0.0423,  0.2494,  0.4767,  ...,  0.2277,  0.1318,  0.8434],\n",
       "        [ 0.0392,  0.0905,  0.0812,  ...,  0.0810,  0.0732,  0.3437]])"
      ]
     },
     "execution_count": 8,
     "metadata": {},
     "output_type": "execute_result"
    }
   ],
   "source": [
    "\n",
    "k=0\n",
    "f_o=mycebmf.F[:,k]\n",
    "l_o=mycebmf.L[:,k]\n",
    "R= noisy_matrix- mycebmf.L@mycebmf.F.T\n",
    "Rk= mycebmf._partial_residual_masked(k)\n",
    "\n",
    "print(Rk)\n",
    "\n",
    "\n",
    "sum( torch.outer(mycebmf.L[:,k], mycebmf.F[:,k])   for k in range(mycebmf.K))"
   ]
  },
  {
   "cell_type": "code",
   "execution_count": 9,
   "id": "dedaec0b",
   "metadata": {},
   "outputs": [
    {
     "name": "stdout",
     "output_type": "stream",
     "text": [
      "True\n",
      "True\n"
     ]
    }
   ],
   "source": [
    "import torch\n",
    "\n",
    "k = 0\n",
    "Y0   = mycebmf.Y0\n",
    "M    = mycebmf.mask\n",
    "L    = mycebmf.L\n",
    "F    = mycebmf.F\n",
    "\n",
    "# Clone these to avoid view aliasing issues\n",
    "l_old = L[:, k].clone()\n",
    "f_old = F[:, k].clone()\n",
    "\n",
    "# Baseline residual (masked)\n",
    "recon = L @ F.T\n",
    "R     = (Y0 - recon) * M\n",
    "\n",
    "# Partial residual excluding factor k\n",
    "Rk = (Y0 - (recon - torch.outer(l_old, f_old))) * M\n",
    "\n",
    "# 1) First identity: Rk = R + l_old f_old^T  (masked)\n",
    "print(torch.allclose(Rk, R + torch.outer(l_old, f_old) * M, atol=1e-7))\n",
    "\n",
    "# Mutate L[:,k] --> l_new\n",
    "L[:, k] = l_old + 1.0\n",
    "l_new = L[:, k]  # (this is fine; we already saved l_old above)\n",
    "\n",
    "# New residual (recompute from scratch, masked)\n",
    "recon_new = L @ F.T\n",
    "R_new     = (Y0 - recon_new) * M\n",
    "\n",
    "# 2) Second identity: R_new = Rk - l_new f_old^T  (masked)\n",
    "print(torch.allclose(R_new, Rk - torch.outer(l_new, f_old) * M, atol=1e-7))\n"
   ]
  },
  {
   "cell_type": "code",
   "execution_count": 10,
   "id": "975f8400",
   "metadata": {},
   "outputs": [
    {
     "data": {
      "text/plain": [
       "<matplotlib.collections.PathCollection at 0x1d5147e1330>"
      ]
     },
     "execution_count": 10,
     "metadata": {},
     "output_type": "execute_result"
    },
    {
     "data": {
      "image/png": "[encoded data removed]",
      "text/plain": [
       "<Figure size 640x480 with 1 Axes>"
      ]
     },
     "metadata": {},
     "output_type": "display_data"
    }
   ],
   "source": [
    "plt.scatter( mycebmf.L[:,0],u)"
   ]
  },
  {
   "cell_type": "code",
   "execution_count": 11,
   "id": "65c747e1",
   "metadata": {},
   "outputs": [
    {
     "name": "stdout",
     "output_type": "stream",
     "text": [
      "5\n"
     ]
    },
    {
     "data": {
      "text/plain": [
       "tensor([[0.0879, 0.2043, 0.3783,  ..., 0.1450, 0.1009, 0.7118],\n",
       "        [0.1036, 0.1710, 0.3925,  ..., 0.1641, 0.0275, 0.6544],\n",
       "        [0.0796, 0.2603, 0.4802,  ..., 0.2645, 0.0972, 0.9304],\n",
       "        ...,\n",
       "        [0.0739, 0.2579, 0.4569,  ..., 0.1955, 0.1128, 0.8744],\n",
       "        [0.0625, 0.2530, 0.4656,  ..., 0.2412, 0.1137, 0.8823],\n",
       "        [0.0319, 0.0947, 0.1305,  ..., 0.0886, 0.0484, 0.3316]])"
      ]
     },
     "execution_count": 11,
     "metadata": {},
     "output_type": "execute_result"
    }
   ],
   "source": [
    "mycebmf.iter_once()\n",
    "mycebmf.update_fitted_value()\n",
    "import numpy as np\n",
    "K=0\n",
    "mycebmf.Y_fit "
   ]
  },
  {
   "cell_type": "code",
   "execution_count": 12,
   "id": "dc39ba8f",
   "metadata": {},
   "outputs": [
    {
     "data": {
      "text/plain": [
       "<matplotlib.collections.PathCollection at 0x1d517ba1ab0>"
      ]
     },
     "execution_count": 12,
     "metadata": {},
     "output_type": "execute_result"
    },
    {
     "data": {
      "image/png": "[encoded data removed]",
      "text/plain": [
       "<Figure size 640x480 with 1 Axes>"
      ]
     },
     "metadata": {},
     "output_type": "display_data"
    }
   ],
   "source": [
    "plt.scatter( mycebmf.L[:,0],u)"
   ]
  },
  {
   "cell_type": "code",
   "execution_count": 13,
   "id": "cd9e6f93",
   "metadata": {},
   "outputs": [
    {
     "name": "stdout",
     "output_type": "stream",
     "text": [
      "5\n"
     ]
    },
    {
     "data": {
      "text/plain": [
       "<matplotlib.collections.PathCollection at 0x1d517c17b50>"
      ]
     },
     "execution_count": 13,
     "metadata": {},
     "output_type": "execute_result"
    },
    {
     "data": {
      "image/png": "[encoded data removed]",
      "text/plain": [
       "<Figure size 640x480 with 1 Axes>"
      ]
     },
     "metadata": {},
     "output_type": "display_data"
    }
   ],
   "source": [
    "mycebmf.iter_once()  \n",
    "plt.scatter(mycebmf.Y_fit, noisy_matrix)\n",
    " \n",
    "plt.scatter(mycebmf.Y_fit, rank_1_matrix)"
   ]
  },
  {
   "cell_type": "code",
   "execution_count": null,
   "id": "1d55212b",
   "metadata": {},
   "outputs": [],
   "source": []
  },
  {
   "cell_type": "code",
   "execution_count": 14,
   "id": "a392de19",
   "metadata": {},
   "outputs": [
    {
     "name": "stdout",
     "output_type": "stream",
     "text": [
      "5\n",
      "5\n",
      "5\n",
      "4\n",
      "2\n"
     ]
    },
    {
     "data": {
      "text/plain": [
       "CEBMFResult(L=tensor([[-2.4638],\n",
       "        [-2.0378],\n",
       "        [-3.1905],\n",
       "        [-1.0107],\n",
       "        [-3.2303],\n",
       "        [-1.0515],\n",
       "        [-3.0681],\n",
       "        [-1.9940],\n",
       "        [-1.3784],\n",
       "        [-2.9995],\n",
       "        [-1.3345],\n",
       "        [-1.7751],\n",
       "        [-2.4989],\n",
       "        [-2.7589],\n",
       "        [-0.0594],\n",
       "        [-0.5503],\n",
       "        [-0.4957],\n",
       "        [-2.9266],\n",
       "        [-1.0283],\n",
       "        [-2.8068],\n",
       "        [-0.5658],\n",
       "        [-2.2524],\n",
       "        [-2.3212],\n",
       "        [-2.3334],\n",
       "        [-2.1381],\n",
       "        [-1.5310],\n",
       "        [-0.2553],\n",
       "        [-2.2477],\n",
       "        [-2.8965],\n",
       "        [-2.6952],\n",
       "        [-1.6919],\n",
       "        [-1.1757],\n",
       "        [-0.3124],\n",
       "        [-1.4621],\n",
       "        [-1.3516],\n",
       "        [-1.1635],\n",
       "        [-1.4272],\n",
       "        [-0.5470],\n",
       "        [-1.3238],\n",
       "        [-2.2610],\n",
       "        [-0.9131],\n",
       "        [-2.7893],\n",
       "        [-0.9275],\n",
       "        [-1.7371],\n",
       "        [-1.4514],\n",
       "        [-1.6149],\n",
       "        [-1.1572],\n",
       "        [-3.1078],\n",
       "        [-3.1267],\n",
       "        [-1.1435]]), F=tensor([[-0.0230],\n",
       "        [-0.0812],\n",
       "        [-0.1490],\n",
       "        [-0.2685],\n",
       "        [ 0.0044],\n",
       "        [-0.1020],\n",
       "        [-0.0004],\n",
       "        [-0.1601],\n",
       "        [-0.1288],\n",
       "        [-0.1865],\n",
       "        [-0.0995],\n",
       "        [-0.2070],\n",
       "        [-0.1274],\n",
       "        [ 0.0007],\n",
       "        [-0.0956],\n",
       "        [-0.0007],\n",
       "        [-0.2405],\n",
       "        [-0.0025],\n",
       "        [-0.2275],\n",
       "        [-0.2278],\n",
       "        [-0.2516],\n",
       "        [-0.0288],\n",
       "        [-0.0854],\n",
       "        [-0.0789],\n",
       "        [-0.0554],\n",
       "        [-0.0487],\n",
       "        [-0.1668],\n",
       "        [-0.2838],\n",
       "        [-0.1299],\n",
       "        [-0.1148],\n",
       "        [-0.2638],\n",
       "        [-0.1513],\n",
       "        [-0.1082],\n",
       "        [-0.0783],\n",
       "        [-0.1391],\n",
       "        [-0.2297],\n",
       "        [-0.2756],\n",
       "        [-0.0790],\n",
       "        [-0.0336],\n",
       "        [-0.2870]]), tau=tensor(100.1926), history_obj=[-2058.329833984375, -2057.770751953125, -2057.74755859375, -2057.74658203125, -2057.74658203125, -2057.74609375, -2057.74609375, -2057.74658203125, -2057.746337890625, -2057.74658203125, -2057.74658203125, -2057.74609375, -2057.74609375, -2057.746337890625, -2057.74609375, -2057.74609375, -2057.74658203125, -2057.74609375, -2057.74658203125, -2057.74609375, -2057.746826171875, -2057.74609375, -2057.74658203125, -2057.746826171875, -2057.74609375, -2057.74658203125, -2057.746826171875, -2057.74658203125, -2057.746826171875, -2057.74609375, -2057.74609375, -2057.74658203125, -2057.74609375, -2057.746826171875, -2057.74658203125, -2057.74658203125, -2057.74658203125, -2057.74658203125, -2057.74658203125, -2057.746826171875, -2057.74609375, -2057.74609375, -2057.74609375, -2057.74658203125, -2057.74609375, -2057.74609375])"
      ]
     },
     "execution_count": 14,
     "metadata": {},
     "output_type": "execute_result"
    }
   ],
   "source": [
    "mycebmf=  cEBMF(data= noisy_matrix, prior_F=\"point_laplace\",\n",
    "                prior_L=\"point_laplace\") \n",
    "mycebmf.initialize()\n",
    "mycebmf.fit()"
   ]
  },
  {
   "cell_type": "code",
   "execution_count": 15,
   "id": "35b6b44f",
   "metadata": {},
   "outputs": [
    {
     "data": {
      "text/plain": [
       "[<matplotlib.lines.Line2D at 0x1d517cb04f0>]"
      ]
     },
     "execution_count": 15,
     "metadata": {},
     "output_type": "execute_result"
    },
    {
     "data": {
      "image/png": "[encoded data removed]",
      "text/plain": [
       "<Figure size 640x480 with 1 Axes>"
      ]
     },
     "metadata": {},
     "output_type": "display_data"
    }
   ],
   "source": [
    "plt.plot(mycebmf.obj)"
   ]
  },
  {
   "cell_type": "code",
   "execution_count": null,
   "id": "fbf651a5",
   "metadata": {},
   "outputs": [],
   "source": [
    " "
   ]
  },
  {
   "cell_type": "code",
   "execution_count": null,
   "id": "6f41de58",
   "metadata": {},
   "outputs": [
    {
     "ename": "SyntaxError",
     "evalue": "invalid decimal literal (3250926536.py, line 2)",
     "output_type": "error",
     "traceback": [
      "\u001b[1;36m  Cell \u001b[1;32mIn[16], line 2\u001b[1;36m\u001b[0m\n\u001b[1;33m    for i in range(50s):\u001b[0m\n\u001b[1;37m                    ^\u001b[0m\n\u001b[1;31mSyntaxError\u001b[0m\u001b[1;31m:\u001b[0m invalid decimal literal\n"
     ]
    }
   ],
   "source": [
    "results =[]\n",
    "for i in range(50):\n",
    "    # Parameters\n",
    "    n, p = 50, 40\n",
    "    noise_std = 0.1\n",
    "\n",
    "# (Optional) choose device\n",
    "    device = torch.device(\"cuda\" if torch.cuda.is_available() else \"cpu\")\n",
    "\n",
    "# ---- Data generation (PyTorch)\n",
    "# Use float64 to mirror NumPy defaults\n",
    "    u = torch.rand(n, dtype=torch.float64, device=device)          # length n\n",
    "    v = torch.rand(p, dtype=torch.float64, device=device)          # length p\n",
    "\n",
    "# Rank-1 matrix via outer product\n",
    "    rank_1_matrix = torch.outer(u, v)                              # (n, p)\n",
    "\n",
    "# Homoscedastic Gaussian noise\n",
    "    noise = noise_std * torch.randn(n, p, dtype=torch.float64, device=device)\n",
    "\n",
    "    noisy_matrix = rank_1_matrix + noise\n",
    "\n",
    " \n",
    "# Add homoscedastic Gaussian noise (constant variance across the matrix)\n",
    "    mycebmf=  cEBMF(data= noisy_matrix, prior_F=\"point_laplace\",\n",
    "                      prior_L=\"point_laplace\") \n",
    "    mycebmf.initialize()\n",
    "    mycebmf.fit()\n",
    "    \n",
    "    mycebmf.update_fitted_value()\n",
    "    \n",
    "    rr = torch.sqrt(torch.mean(mycebmf.Y_fit- rank_1_matrix)**2)\n",
    "    results.append( rr)\n",
    " "
   ]
  },
  {
   "cell_type": "code",
   "execution_count": null,
   "id": "8f252484",
   "metadata": {},
   "outputs": [
    {
     "data": {
      "image/png": "[encoded data removed]",
      "text/plain": [
       "<Figure size 640x480 with 1 Axes>"
      ]
     },
     "metadata": {},
     "output_type": "display_data"
    }
   ],
   "source": [
    "plt.boxplot(results)\n",
    "plt.title(\"Results from Loop Iterations\")\n",
    "plt.ylabel(\"Result Value\")\n",
    "plt.show()"
   ]
  },
  {
   "cell_type": "code",
   "execution_count": null,
   "id": "5665e16e",
   "metadata": {},
   "outputs": [
    {
     "data": {
      "text/plain": [
       "0.00236293612052501"
      ]
     },
     "execution_count": 18,
     "metadata": {},
     "output_type": "execute_result"
    }
   ],
   "source": [
    "res= np.asarray(results)\n",
    "np.mean(res )"
   ]
  }
 ],
 "metadata": {
  "kernelspec": {
   "display_name": "ml_env",
   "language": "python",
   "name": "python3"
  },
  "language_info": {
   "codemirror_mode": {
    "name": "ipython",
    "version": 3
   },
   "file_extension": ".py",
   "mimetype": "text/x-python",
   "name": "python",
   "nbconvert_exporter": "python",
   "pygments_lexer": "ipython3",
   "version": "3.10.8"
  }
 },
 "nbformat": 4,
 "nbformat_minor": 5
}
