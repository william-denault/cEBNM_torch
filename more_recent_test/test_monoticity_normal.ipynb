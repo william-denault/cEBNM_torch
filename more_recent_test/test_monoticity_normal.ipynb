{
 "cells": [
  {
   "cell_type": "code",
   "execution_count": null,
   "id": "170d4824",
   "metadata": {},
   "outputs": [
    {
     "name": "stdout",
     "output_type": "stream",
     "text": [
      "5\n",
      "Converged after 57 iterations.\n",
      "Converged after 71 iterations.\n",
      "Converged after 55 iterations.\n",
      "5\n",
      "Converged after 56 iterations.\n",
      "3\n",
      "Converged after 67 iterations.\n",
      "Converged after 55 iterations.\n",
      "2\n",
      "5\n",
      "Converged after 57 iterations.\n",
      "5\n",
      "Converged after 56 iterations.\n",
      "Converged after 56 iterations.\n",
      "4\n",
      "Converged after 59 iterations.\n",
      "2\n",
      "Converged after 66 iterations.\n",
      "Converged after 55 iterations.\n",
      "Converged after 65 iterations.\n",
      "Converged after 55 iterations.\n",
      "Converged after 65 iterations.\n",
      "Converged after 55 iterations.\n",
      "Converged after 65 iterations.\n",
      "Converged after 55 iterations.\n",
      "Converged after 65 iterations.\n",
      "Converged after 55 iterations.\n",
      "Converged after 65 iterations.\n",
      "Converged after 55 iterations.\n",
      "Converged after 65 iterations.\n",
      "Converged after 55 iterations.\n",
      "Converged after 65 iterations.\n",
      "Converged after 55 iterations.\n",
      "5\n",
      "5\n",
      "5\n",
      "Converged after 68 iterations.\n",
      "Converged after 55 iterations.\n",
      "Converged after 68 iterations.\n",
      "Converged after 55 iterations.\n",
      "Converged after 67 iterations.\n",
      "Converged after 55 iterations.\n",
      "4\n",
      "5\n",
      "5\n",
      "Converged after 68 iterations.\n",
      "Converged after 55 iterations.\n",
      "5\n",
      "Converged after 67 iterations.\n",
      "Converged after 55 iterations.\n",
      "4\n",
      "3\n",
      "3\n",
      "Converged after 56 iterations.\n",
      "3\n",
      "2\n",
      "2\n",
      "2\n",
      "2\n",
      "2\n",
      "2\n",
      "2\n",
      "2\n",
      "2\n",
      "2\n",
      "2\n",
      "2\n",
      "2\n",
      "2\n",
      "2\n",
      "2\n",
      "2\n",
      "2\n",
      "2\n",
      "2\n",
      "2\n",
      "2\n",
      "2\n",
      "2\n",
      "2\n",
      "2\n",
      "2\n",
      "2\n",
      "2\n",
      "2\n",
      "2\n",
      "2\n",
      "2\n",
      "2\n",
      "2\n",
      "2\n",
      "2\n",
      "2\n",
      "2\n",
      "2\n",
      "2\n",
      "2\n",
      "2\n",
      "5\n",
      "5\n",
      "Converged after 55 iterations.\n",
      "Converged after 67 iterations.\n",
      "Converged after 55 iterations.\n",
      "5\n",
      "Converged after 66 iterations.\n",
      "Converged after 55 iterations.\n",
      "Converged after 67 iterations.\n",
      "Converged after 55 iterations.\n",
      "3\n",
      "5\n",
      "5\n",
      "Converged after 56 iterations.\n",
      "5\n",
      "4\n",
      "4\n",
      "Converged after 66 iterations.\n",
      "Converged after 55 iterations.\n",
      "4\n",
      "3\n",
      "Converged after 55 iterations.\n",
      "3\n",
      "Converged after 55 iterations.\n",
      "2\n",
      "5\n",
      "5\n",
      "Converged after 65 iterations.\n",
      "Converged after 55 iterations.\n",
      "Converged after 67 iterations.\n",
      "Converged after 55 iterations.\n",
      "Converged after 67 iterations.\n",
      "Converged after 55 iterations.\n",
      "5\n",
      "2\n",
      "2\n",
      "2\n",
      "2\n",
      "2\n",
      "2\n",
      "2\n",
      "2\n",
      "2\n",
      "2\n",
      "2\n",
      "2\n",
      "2\n",
      "2\n",
      "2\n",
      "2\n",
      "2\n",
      "2\n",
      "2\n",
      "2\n",
      "2\n",
      "2\n",
      "2\n",
      "2\n",
      "2\n",
      "2\n",
      "2\n",
      "2\n",
      "2\n",
      "2\n",
      "2\n",
      "2\n",
      "2\n",
      "2\n",
      "2\n",
      "2\n",
      "2\n",
      "2\n",
      "2\n",
      "2\n",
      "2\n",
      "2\n",
      "2\n",
      "2\n",
      "2\n",
      "2\n",
      "2\n"
     ]
    }
   ],
   "source": [
    "import torch, random\n",
    "from statistics import mean\n",
    "from cebmf_torch import cEBMF\n",
    "import matplotlib.pyplot as plt\n",
    "# ---- config\n",
    "NUM_RUNS   =7\n",
    "N, P       = 50, 40\n",
    "NOISE_STD  = 1.0\n",
    "MAXIT      = 50\n",
    "TOL        = 1e-9   # numerical tolerance for strictness\n",
    "\n",
    "device = torch.device(\"cuda\" if torch.cuda.is_available() else \"cpu\")\n",
    "torch.set_default_dtype(torch.float64)\n",
    "\n",
    "def is_strictly_increasing(xs, tol=0.0001):\n",
    "    # xs[t+1] > xs[t] + tol  for all t\n",
    "    return all(xs[t+1] > xs[t] + tol for t in range(len(xs)-1))\n",
    "\n",
    "def is_strictly_decreasing(xs, tol=0.0):\n",
    "    # xs[t+1] < xs[t] - tol  for all t\n",
    "    return all(xs[t+1] < xs[t] - tol for t in range(len(xs)-1))\n",
    "\n",
    "def one_run(seed):\n",
    "    # reproducibility\n",
    "    random.seed(seed)\n",
    "    torch.manual_seed(seed)\n",
    "\n",
    "    # rank-1 signal + Gaussian noise\n",
    "    u = torch.rand(N, device=device)\n",
    "    v = torch.rand(P, device=device)\n",
    "    Y = torch.outer(u, v) + NOISE_STD * torch.randn(N, P, device=device)\n",
    "\n",
    "    model = cEBMF(data=Y, K=5)\n",
    "    model.initialize()\n",
    "    model.fit(maxit=MAXIT)\n",
    "\n",
    "    loss_hist = model.obj                       # your stored objective = negative ELBO\n",
    "    return(loss_hist)\n",
    " \n",
    "\n",
    "\n",
    "results=[]\n",
    "\n",
    "for i in range(NUM_RUNS):\n",
    "    results.append( one_run(i))\n",
    " "
   ]
  },
  {
   "cell_type": "code",
   "execution_count": null,
   "id": "f9994673",
   "metadata": {},
   "outputs": [],
   "source": []
  },
  {
   "cell_type": "code",
   "execution_count": null,
   "id": "7fccdf52",
   "metadata": {},
   "outputs": [],
   "source": []
  },
  {
   "cell_type": "code",
   "execution_count": null,
   "id": "fa6a8734",
   "metadata": {},
   "outputs": [
    {
     "data": {
      "text/plain": [
       "[2800.350054777926,\n",
       " 2805.453220438735,\n",
       " 2808.280500063398,\n",
       " 2810.2003593475974,\n",
       " 2811.693213110501,\n",
       " 2812.945153578796,\n",
       " 2814.0459501219707,\n",
       " 2815.0446480950754,\n",
       " 2815.9709340729464,\n",
       " 2816.8447824989817,\n",
       " 2817.6803038991284,\n",
       " 2818.4887226173732,\n",
       " 2819.279283991813,\n",
       " 2820.0604762072253,\n",
       " 2820.8399411717573,\n",
       " 2821.625476787531,\n",
       " 2822.4247792816236,\n",
       " 2823.2466275530455,\n",
       " 2824.1000664452786,\n",
       " 2824.9959598884484,\n",
       " 2825.947149542251,\n",
       " 2826.968446509417,\n",
       " 2828.078238387076,\n",
       " 2829.2988955335627,\n",
       " 2830.657492378321,\n",
       " 2832.185452200177,\n",
       " 2833.917269807007,\n",
       " 2835.882626374534,\n",
       " 2838.0925077236325,\n",
       " 2840.514769319034,\n",
       " 2843.0583219465575,\n",
       " 2845.590248117314,\n",
       " 2847.989338085116,\n",
       " 2850.1789293987626,\n",
       " 2852.1185764886222,\n",
       " 2853.7817787981426,\n",
       " 2855.1535310067757,\n",
       " 2856.228211988418,\n",
       " 2857.0387688098135,\n",
       " 2857.6297349615897,\n",
       " 2858.0481731891623,\n",
       " 2858.337553954109,\n",
       " 2858.534472954503,\n",
       " 2858.6668907586127,\n",
       " 2858.755388392119,\n",
       " 2858.8137331596768,\n",
       " 2858.8525044754037]"
      ]
     },
     "execution_count": 2,
     "metadata": {},
     "output_type": "execute_result"
    }
   ],
   "source": [
    "results[0]"
   ]
  },
  {
   "cell_type": "code",
   "execution_count": null,
   "id": "3131318f",
   "metadata": {},
   "outputs": [
    {
     "data": {
      "image/png": "[encoded data removed]",
      "text/plain": [
       "<Figure size 640x480 with 1 Axes>"
      ]
     },
     "metadata": {},
     "output_type": "display_data"
    }
   ],
   "source": [
    "plt.plot(results[0])\n",
    "for i in range(NUM_RUNS):\n",
    "    plt.plot(results[i])"
   ]
  },
  {
   "cell_type": "code",
   "execution_count": null,
   "id": "08f547e3",
   "metadata": {},
   "outputs": [],
   "source": [
    "def is_strictly_increasing(xs, tol=0.1):\n",
    "    # xs[t+1] > xs[t] + tol  for all t\n",
    "    return all(xs[t+1] > xs[t] - tol for t in range(len(xs)-1))"
   ]
  },
  {
   "cell_type": "code",
   "execution_count": null,
   "id": "1ea102a4",
   "metadata": {},
   "outputs": [
    {
     "data": {
      "text/plain": [
       "True"
      ]
     },
     "execution_count": 5,
     "metadata": {},
     "output_type": "execute_result"
    }
   ],
   "source": [
    "is_strictly_increasing(results[0])"
   ]
  },
  {
   "cell_type": "code",
   "execution_count": null,
   "id": "3fbedf87",
   "metadata": {},
   "outputs": [
    {
     "data": {
      "text/plain": [
       "[<matplotlib.lines.Line2D at 0x1f3660e1240>]"
      ]
     },
     "execution_count": 6,
     "metadata": {},
     "output_type": "execute_result"
    },
    {
     "data": {
      "image/png": "[encoded data removed]",
      "text/plain": [
       "<Figure size 640x480 with 1 Axes>"
      ]
     },
     "metadata": {},
     "output_type": "display_data"
    }
   ],
   "source": [
    "plt.plot(results[6])"
   ]
  },
  {
   "cell_type": "code",
   "execution_count": null,
   "id": "be85cbdf",
   "metadata": {},
   "outputs": [],
   "source": [
    " "
   ]
  },
  {
   "cell_type": "code",
   "execution_count": null,
   "id": "d29c8e62",
   "metadata": {},
   "outputs": [
    {
     "name": "stdout",
     "output_type": "stream",
     "text": [
      "1\n"
     ]
    }
   ],
   "source": [
    "h=0\n",
    "\n",
    "for i in range(NUM_RUNS):\n",
    "    if (is_strictly_increasing(results[i], tol=0.5))== False:\n",
    "        h=h+1\n",
    "print(h)"
   ]
  }
 ],
 "metadata": {
  "kernelspec": {
   "display_name": "ml_env",
   "language": "python",
   "name": "python3"
  },
  "language_info": {
   "codemirror_mode": {
    "name": "ipython",
    "version": 3
   },
   "file_extension": ".py",
   "mimetype": "text/x-python",
   "name": "python",
   "nbconvert_exporter": "python",
   "pygments_lexer": "ipython3",
   "version": "3.10.8"
  }
 },
 "nbformat": 4,
 "nbformat_minor": 5
}
