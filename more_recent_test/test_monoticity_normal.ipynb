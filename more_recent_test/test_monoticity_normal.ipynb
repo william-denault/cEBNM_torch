{
 "cells": [
  {
   "cell_type": "code",
   "execution_count": 2,
   "id": "170d4824",
   "metadata": {},
   "outputs": [
    {
     "name": "stdout",
     "output_type": "stream",
     "text": [
      "Converged after 57 iterations.\n",
      "Converged after 71 iterations.\n",
      "Converged after 55 iterations.\n",
      "Converged after 56 iterations.\n",
      "Converged after 67 iterations.\n",
      "Converged after 55 iterations.\n",
      "Converged after 57 iterations.\n",
      "Converged after 56 iterations.\n",
      "Converged after 56 iterations.\n",
      "Converged after 59 iterations.\n",
      "Converged after 66 iterations.\n",
      "Converged after 55 iterations.\n",
      "Converged after 65 iterations.\n",
      "Converged after 55 iterations.\n",
      "Converged after 65 iterations.\n",
      "Converged after 55 iterations.\n",
      "Converged after 65 iterations.\n",
      "Converged after 55 iterations.\n",
      "Converged after 65 iterations.\n",
      "Converged after 55 iterations.\n",
      "Converged after 65 iterations.\n",
      "Converged after 55 iterations.\n",
      "Converged after 65 iterations.\n",
      "Converged after 55 iterations.\n",
      "Converged after 65 iterations.\n",
      "Converged after 55 iterations.\n",
      "Converged after 68 iterations.\n",
      "Converged after 55 iterations.\n",
      "Converged after 68 iterations.\n",
      "Converged after 55 iterations.\n",
      "Converged after 67 iterations.\n",
      "Converged after 55 iterations.\n",
      "Converged after 68 iterations.\n",
      "Converged after 55 iterations.\n",
      "Converged after 67 iterations.\n",
      "Converged after 55 iterations.\n",
      "Converged after 56 iterations.\n",
      "Converged after 55 iterations.\n",
      "Converged after 67 iterations.\n",
      "Converged after 55 iterations.\n",
      "Converged after 66 iterations.\n",
      "Converged after 55 iterations.\n",
      "Converged after 67 iterations.\n",
      "Converged after 55 iterations.\n",
      "Converged after 56 iterations.\n",
      "Converged after 66 iterations.\n",
      "Converged after 55 iterations.\n",
      "Converged after 55 iterations.\n",
      "Converged after 55 iterations.\n",
      "Converged after 65 iterations.\n",
      "Converged after 55 iterations.\n",
      "Converged after 67 iterations.\n",
      "Converged after 55 iterations.\n",
      "Converged after 67 iterations.\n",
      "Converged after 55 iterations.\n"
     ]
    }
   ],
   "source": [
    "import torch, random\n",
    "from statistics import mean\n",
    "from cebmf_torch import cEBMF\n",
    "import matplotlib.pyplot as plt\n",
    "# ---- config\n",
    "NUM_RUNS   =7\n",
    "N, P       = 50, 40\n",
    "NOISE_STD  = 1.0\n",
    "MAXIT      = 50\n",
    "TOL        = 1e-9   # numerical tolerance for strictness\n",
    "\n",
    "device = torch.device(\"cuda\" if torch.cuda.is_available() else \"cpu\")\n",
    "torch.set_default_dtype(torch.float64)\n",
    "\n",
    "def is_strictly_increasing(xs, tol=0.0001):\n",
    "    # xs[t+1] > xs[t] + tol  for all t\n",
    "    return all(xs[t+1] > xs[t] + tol for t in range(len(xs)-1))\n",
    "\n",
    "def is_strictly_decreasing(xs, tol=0.0):\n",
    "    # xs[t+1] < xs[t] - tol  for all t\n",
    "    return all(xs[t+1] < xs[t] - tol for t in range(len(xs)-1))\n",
    "\n",
    "def one_run(seed):\n",
    "    # reproducibility\n",
    "    random.seed(seed)\n",
    "    torch.manual_seed(seed)\n",
    "\n",
    "    # rank-1 signal + Gaussian noise\n",
    "    u = torch.rand(N, device=device)\n",
    "    v = torch.rand(P, device=device)\n",
    "    Y = torch.outer(u, v) + NOISE_STD * torch.randn(N, P, device=device)\n",
    "\n",
    "    model = cEBMF(data=Y, K=5)\n",
    "    model.initialise_factors()\n",
    "    model.fit(maxit=MAXIT)\n",
    "\n",
    "    loss_hist = model.obj                       # your stored objective = negative ELBO\n",
    "    return(loss_hist)\n",
    " \n",
    "\n",
    "\n",
    "results=[]\n",
    "\n",
    "for i in range(NUM_RUNS):\n",
    "    results.append( one_run(i))\n",
    " "
   ]
  },
  {
   "cell_type": "code",
   "execution_count": null,
   "id": "f9994673",
   "metadata": {},
   "outputs": [],
   "source": []
  },
  {
   "cell_type": "code",
   "execution_count": null,
   "id": "7fccdf52",
   "metadata": {},
   "outputs": [],
   "source": []
  },
  {
   "cell_type": "code",
   "execution_count": null,
   "id": "fa6a8734",
   "metadata": {},
   "outputs": [
    {
     "data": {
      "text/plain": [
       "[2800.3500440455905,\n",
       " 2805.453223515565,\n",
       " 2808.280502831113,\n",
       " 2810.2003530905245,\n",
       " 2811.6932202420285,\n",
       " 2812.945166428215,\n",
       " 2814.045974318565,\n",
       " 2815.0446505572236,\n",
       " 2815.970938579571,\n",
       " 2816.8447788626104,\n",
       " 2817.6803086357368,\n",
       " 2818.488721829083,\n",
       " 2819.2792910766743,\n",
       " 2820.0604753586517,\n",
       " 2820.8399410059133,\n",
       " 2821.6253568573206,\n",
       " 2822.42477253352,\n",
       " 2823.246628833359,\n",
       " 2824.100075657707,\n",
       " 2824.996102728929,\n",
       " 2825.9473048842106,\n",
       " 2826.9686042243375,\n",
       " 2828.0783012417546,\n",
       " 2829.2990600331045,\n",
       " 2830.657655794277,\n",
       " 2832.185627099681,\n",
       " 2833.9174884282647,\n",
       " 2835.8828504582902,\n",
       " 2838.0927354503447,\n",
       " 2840.5151229845346,\n",
       " 2843.058552288285,\n",
       " 2845.5906135416512,\n",
       " 2847.9896965138105,\n",
       " 2850.179283576466,\n",
       " 2852.1188739356944,\n",
       " 2853.7820096114965,\n",
       " 2855.1535927148884,\n",
       " 2856.228326218593,\n",
       " 2857.038816604717,\n",
       " 2857.629892015236,\n",
       " 2858.048205857204,\n",
       " 2858.337572081097,\n",
       " 2858.5344902905813,\n",
       " 2858.666884329614,\n",
       " 2858.7553908790637,\n",
       " 2858.8137274660867,\n",
       " 2858.852504830073]"
      ]
     },
     "execution_count": 2,
     "metadata": {},
     "output_type": "execute_result"
    }
   ],
   "source": [
    "results[0]"
   ]
  },
  {
   "cell_type": "code",
   "execution_count": null,
   "id": "3131318f",
   "metadata": {},
   "outputs": [
    {
     "data": {
      "image/png": "[encoded data removed]",
      "text/plain": [
       "<Figure size 640x480 with 1 Axes>"
      ]
     },
     "metadata": {},
     "output_type": "display_data"
    }
   ],
   "source": [
    "plt.plot(results[0])\n",
    "for i in range(NUM_RUNS):\n",
    "    plt.plot(results[i])"
   ]
  },
  {
   "cell_type": "code",
   "execution_count": null,
   "id": "08f547e3",
   "metadata": {},
   "outputs": [],
   "source": [
    "def is_strictly_increasing(xs, tol=0.1):\n",
    "    # xs[t+1] > xs[t] + tol  for all t\n",
    "    return all(xs[t+1] > xs[t] - tol for t in range(len(xs)-1))"
   ]
  },
  {
   "cell_type": "code",
   "execution_count": null,
   "id": "1ea102a4",
   "metadata": {},
   "outputs": [
    {
     "data": {
      "text/plain": [
       "True"
      ]
     },
     "execution_count": 5,
     "metadata": {},
     "output_type": "execute_result"
    }
   ],
   "source": [
    "is_strictly_increasing(results[0])"
   ]
  },
  {
   "cell_type": "code",
   "execution_count": null,
   "id": "3fbedf87",
   "metadata": {},
   "outputs": [
    {
     "data": {
      "text/plain": [
       "[<matplotlib.lines.Line2D at 0x23a9e07a260>]"
      ]
     },
     "execution_count": 6,
     "metadata": {},
     "output_type": "execute_result"
    },
    {
     "data": {
      "image/png": "[encoded data removed]",
      "text/plain": [
       "<Figure size 640x480 with 1 Axes>"
      ]
     },
     "metadata": {},
     "output_type": "display_data"
    }
   ],
   "source": [
    "plt.plot(results[6])"
   ]
  },
  {
   "cell_type": "code",
   "execution_count": null,
   "id": "be85cbdf",
   "metadata": {},
   "outputs": [],
   "source": [
    " "
   ]
  },
  {
   "cell_type": "code",
   "execution_count": null,
   "id": "d29c8e62",
   "metadata": {},
   "outputs": [
    {
     "name": "stdout",
     "output_type": "stream",
     "text": [
      "1\n"
     ]
    }
   ],
   "source": [
    "h=0\n",
    "\n",
    "for i in range(NUM_RUNS):\n",
    "    if (is_strictly_increasing(results[i], tol=0.5))== False:\n",
    "        h=h+1\n",
    "print(h)"
   ]
  }
 ],
 "metadata": {
  "kernelspec": {
   "display_name": "cebmf_env",
   "language": "python",
   "name": "python3"
  },
  "language_info": {
   "codemirror_mode": {
    "name": "ipython",
    "version": 3
   },
   "file_extension": ".py",
   "mimetype": "text/x-python",
   "name": "python",
   "nbconvert_exporter": "python",
   "pygments_lexer": "ipython3",
   "version": "3.11.13"
  }
 },
 "nbformat": 4,
 "nbformat_minor": 5
}
