{
 "cells": [
  {
   "cell_type": "code",
   "execution_count": 1,
   "id": "058450fc",
   "metadata": {},
   "outputs": [],
   "source": [
    "# ---- Reproducibility\n",
    "import random\n",
    "import torch\n",
    "\n",
    "seed = 1234\n",
    "random.seed(seed)\n",
    "torch.manual_seed(seed)\n",
    "if torch.cuda.is_available():\n",
    "    torch.cuda.manual_seed_all(seed)\n"
   ]
  },
  {
   "cell_type": "code",
   "execution_count": 2,
   "id": "3a4ac569",
   "metadata": {},
   "outputs": [
    {
     "name": "stdout",
     "output_type": "stream",
     "text": [
      "Rank-1 Matrix (Outer Product):\n",
      "[[0.0369924  0.12349849 0.01266485 ... 0.20919041 0.20178125 0.15269329]\n",
      " [0.01256629 0.04195233 0.00430224 ... 0.0710618  0.06854491 0.05186978]\n",
      " [0.07442166 0.24845541 0.02547927 ... 0.42085123 0.40594542 0.3071898 ]\n",
      " ...\n",
      " [0.13003676 0.43412546 0.04451985 ... 0.73535219 0.70930731 0.53675188]\n",
      " [0.02568535 0.08575008 0.00879373 ... 0.14524951 0.14010503 0.10602124]\n",
      " [0.01213768 0.04052142 0.0041555  ... 0.06863803 0.06620699 0.05010061]]\n",
      "\n",
      "Noisy Matrix (with Homoscedastic Noise):\n",
      "[[ 0.14788041  0.16955928  0.1824038  ...  0.06284919  0.26615598\n",
      "   0.04153663]\n",
      " [-0.07975735  0.07738678 -0.06536086 ...  0.08710195  0.01799688\n",
      "   0.10035783]\n",
      " [ 0.15693369  0.13496091 -0.12057474 ...  0.40187727  0.53974668\n",
      "   0.3314774 ]\n",
      " ...\n",
      " [ 0.16086152  0.64130937  0.12866035 ...  0.67670073  0.59595961\n",
      "   0.57849158]\n",
      " [-0.06675871 -0.03323521 -0.03429034 ...  0.1487228   0.2078188\n",
      "   0.18898802]\n",
      " [-0.14480705  0.07884231  0.03359961 ... -0.16932926  0.1779711\n",
      "   0.1486646 ]]\n"
     ]
    }
   ],
   "source": [
    "\n",
    "\n",
    "# ---- Parameters\n",
    "n, p = 50, 40\n",
    "noise_std = 0.1\n",
    "\n",
    "# (Optional) choose device\n",
    "device = torch.device(\"cuda\" if torch.cuda.is_available() else \"cpu\")\n",
    "\n",
    "# ---- Data generation (PyTorch)\n",
    "# Use float64 to mirror NumPy defaults\n",
    "u = torch.rand(n, dtype=torch.float64, device=device)          # length n\n",
    "v = torch.rand(p, dtype=torch.float64, device=device)          # length p\n",
    "\n",
    "# Rank-1 matrix via outer product\n",
    "rank_1_matrix = torch.outer(u, v)                              # (n, p)\n",
    "\n",
    "# Homoscedastic Gaussian noise\n",
    "noise = noise_std * torch.randn(n, p, dtype=torch.float64, device=device)\n",
    "\n",
    "noisy_matrix = rank_1_matrix + noise\n",
    "\n",
    "# ---- Print (move to CPU for readability if needed)\n",
    "print(\"Rank-1 Matrix (Outer Product):\")\n",
    "print(rank_1_matrix.cpu().numpy())\n",
    "\n",
    "print(\"\\nNoisy Matrix (with Homoscedastic Noise):\")\n",
    "print(noisy_matrix.cpu().numpy())\n"
   ]
  },
  {
   "cell_type": "code",
   "execution_count": null,
   "id": "288daa18",
   "metadata": {},
   "outputs": [
    {
     "ename": "ImportError",
     "evalue": "cannot import name 'StrEnum' from 'enum' (c:\\Users\\willi\\anaconda3\\envs\\ml_env\\lib\\enum.py)",
     "output_type": "error",
     "traceback": [
      "\u001b[1;31m---------------------------------------------------------------------------\u001b[0m",
      "\u001b[1;31mImportError\u001b[0m                               Traceback (most recent call last)",
      "Cell \u001b[1;32mIn[3], line 4\u001b[0m\n\u001b[0;32m      2\u001b[0m \u001b[38;5;28;01mimport\u001b[39;00m \u001b[38;5;21;01mos\u001b[39;00m\n\u001b[0;32m      3\u001b[0m \u001b[38;5;28;01mimport\u001b[39;00m \u001b[38;5;21;01mmatplotlib\u001b[39;00m\u001b[38;5;21;01m.\u001b[39;00m\u001b[38;5;21;01mpyplot\u001b[39;00m \u001b[38;5;28;01mas\u001b[39;00m \u001b[38;5;21;01mplt\u001b[39;00m\n\u001b[1;32m----> 4\u001b[0m \u001b[38;5;28;01mfrom\u001b[39;00m \u001b[38;5;21;01mcebmf_torch\u001b[39;00m \u001b[38;5;28;01mimport\u001b[39;00m cEBMF\n",
      "File \u001b[1;32mC:\\Document\\Serieux\\Travail\\python_work\\package\\cebmf_torch\\src\\cebmf_torch\\__init__.py:1\u001b[0m\n\u001b[1;32m----> 1\u001b[0m \u001b[38;5;28;01mfrom\u001b[39;00m \u001b[38;5;21;01m.\u001b[39;00m\u001b[38;5;21;01mtorch_main\u001b[39;00m \u001b[38;5;28;01mimport\u001b[39;00m cEBMF\n\u001b[0;32m      3\u001b[0m __all__ \u001b[38;5;241m=\u001b[39m [\u001b[38;5;124m\"\u001b[39m\u001b[38;5;124mcEBMF\u001b[39m\u001b[38;5;124m\"\u001b[39m]\n",
      "File \u001b[1;32mC:\\Document\\Serieux\\Travail\\python_work\\package\\cebmf_torch\\src\\cebmf_torch\\torch_main.py:8\u001b[0m\n\u001b[0;32m      5\u001b[0m \u001b[38;5;28;01mimport\u001b[39;00m \u001b[38;5;21;01mtorch\u001b[39;00m\n\u001b[0;32m      6\u001b[0m \u001b[38;5;28;01mfrom\u001b[39;00m \u001b[38;5;21;01mtorch\u001b[39;00m \u001b[38;5;28;01mimport\u001b[39;00m Tensor\n\u001b[1;32m----> 8\u001b[0m \u001b[38;5;28;01mfrom\u001b[39;00m \u001b[38;5;21;01mcebmf_torch\u001b[39;00m\u001b[38;5;21;01m.\u001b[39;00m\u001b[38;5;21;01mpriors\u001b[39;00m \u001b[38;5;28;01mimport\u001b[39;00m PRIOR_REGISTRY\n\u001b[0;32m      9\u001b[0m \u001b[38;5;28;01mfrom\u001b[39;00m \u001b[38;5;21;01mcebmf_torch\u001b[39;00m\u001b[38;5;21;01m.\u001b[39;00m\u001b[38;5;21;01mutils\u001b[39;00m\u001b[38;5;21;01m.\u001b[39;00m\u001b[38;5;21;01mdevice\u001b[39;00m \u001b[38;5;28;01mimport\u001b[39;00m get_device\n\u001b[0;32m     12\u001b[0m \u001b[38;5;129m@dataclass\u001b[39m\n\u001b[0;32m     13\u001b[0m \u001b[38;5;28;01mclass\u001b[39;00m \u001b[38;5;21;01mCEBMFResult\u001b[39;00m:\n",
      "File \u001b[1;32mC:\\Document\\Serieux\\Travail\\python_work\\package\\cebmf_torch\\src\\cebmf_torch\\priors\\__init__.py:1\u001b[0m\n\u001b[1;32m----> 1\u001b[0m \u001b[38;5;28;01mfrom\u001b[39;00m \u001b[38;5;21;01m.\u001b[39;00m\u001b[38;5;21;01mregistry\u001b[39;00m \u001b[38;5;28;01mimport\u001b[39;00m PRIOR_REGISTRY\n\u001b[0;32m      3\u001b[0m __all__ \u001b[38;5;241m=\u001b[39m [\u001b[38;5;124m\"\u001b[39m\u001b[38;5;124mPRIOR_REGISTRY\u001b[39m\u001b[38;5;124m\"\u001b[39m]\n",
      "File \u001b[1;32mC:\\Document\\Serieux\\Travail\\python_work\\package\\cebmf_torch\\src\\cebmf_torch\\priors\\registry.py:2\u001b[0m\n\u001b[0;32m      1\u001b[0m \u001b[38;5;28;01mfrom\u001b[39;00m \u001b[38;5;21;01m.\u001b[39;00m\u001b[38;5;21;01mbase\u001b[39;00m \u001b[38;5;28;01mimport\u001b[39;00m PriorBuilder\n\u001b[1;32m----> 2\u001b[0m \u001b[38;5;28;01mfrom\u001b[39;00m \u001b[38;5;21;01m.\u001b[39;00m\u001b[38;5;21;01mlearned\u001b[39;00m \u001b[38;5;28;01mimport\u001b[39;00m LearnedBuilder, LearnedPriorType\n\u001b[0;32m      3\u001b[0m \u001b[38;5;28;01mfrom\u001b[39;00m \u001b[38;5;21;01m.\u001b[39;00m\u001b[38;5;21;01mmixture\u001b[39;00m \u001b[38;5;28;01mimport\u001b[39;00m ASHBuilder, MixturePriorType\n\u001b[0;32m      4\u001b[0m \u001b[38;5;28;01mfrom\u001b[39;00m \u001b[38;5;21;01m.\u001b[39;00m\u001b[38;5;21;01mpoint\u001b[39;00m \u001b[38;5;28;01mimport\u001b[39;00m PointBuilder, PointPriorType\n",
      "File \u001b[1;32mC:\\Document\\Serieux\\Travail\\python_work\\package\\cebmf_torch\\src\\cebmf_torch\\priors\\learned.py:2\u001b[0m\n\u001b[0;32m      1\u001b[0m \u001b[38;5;28;01mfrom\u001b[39;00m \u001b[38;5;21;01mcollections\u001b[39;00m\u001b[38;5;21;01m.\u001b[39;00m\u001b[38;5;21;01mabc\u001b[39;00m \u001b[38;5;28;01mimport\u001b[39;00m Callable\n\u001b[1;32m----> 2\u001b[0m \u001b[38;5;28;01mfrom\u001b[39;00m \u001b[38;5;21;01menum\u001b[39;00m \u001b[38;5;28;01mimport\u001b[39;00m StrEnum, auto\n\u001b[0;32m      3\u001b[0m \u001b[38;5;28;01mfrom\u001b[39;00m \u001b[38;5;21;01mtyping\u001b[39;00m \u001b[38;5;28;01mimport\u001b[39;00m Any\n\u001b[0;32m      5\u001b[0m \u001b[38;5;28;01mfrom\u001b[39;00m \u001b[38;5;21;01mtorch\u001b[39;00m \u001b[38;5;28;01mimport\u001b[39;00m Tensor\n",
      "\u001b[1;31mImportError\u001b[0m: cannot import name 'StrEnum' from 'enum' (c:\\Users\\willi\\anaconda3\\envs\\ml_env\\lib\\enum.py)"
     ]
    },
    {
     "ename": "",
     "evalue": "",
     "output_type": "error",
     "traceback": [
      "\u001b[1;31mThe Kernel crashed while executing code in the current cell or a previous cell. \n",
      "\u001b[1;31mPlease review the code in the cell(s) to identify a possible cause of the failure. \n",
      "\u001b[1;31mClick <a href='https://aka.ms/vscodeJupyterKernelCrash'>here</a> for more info. \n",
      "\u001b[1;31mView Jupyter <a href='command:jupyter.viewOutput'>log</a> for further details."
     ]
    }
   ],
   "source": [
    "import sys\n",
    "import os\n",
    "import matplotlib.pyplot as plt\n",
    "from cebmf_torch import cEBMF"
   ]
  },
  {
   "cell_type": "code",
   "execution_count": null,
   "id": "5b5272bf",
   "metadata": {},
   "outputs": [],
   "source": [
    "mycebmf=  cEBMF(data= noisy_matrix,\n",
    "                prior_L=\"point_exp\",\n",
    "                  prior_F=\"point_exp\") "
   ]
  },
  {
   "cell_type": "code",
   "execution_count": null,
   "id": "8d4e3633",
   "metadata": {},
   "outputs": [],
   "source": [
    " "
   ]
  },
  {
   "cell_type": "code",
   "execution_count": null,
   "id": "12ac914e",
   "metadata": {},
   "outputs": [
    {
     "name": "stdout",
     "output_type": "stream",
     "text": [
      "tensor([ 0.0080, -0.1905,  0.2605, -0.2120,  0.2116,  0.1896, -0.2458, -0.2640,\n",
      "         0.1057,  0.1225,  0.0676,  0.0620, -0.0016,  0.1750,  0.1087, -0.0761,\n",
      "         0.1078, -0.4832,  0.0641,  0.1960, -0.2287, -0.0704, -0.2441,  0.0377,\n",
      "        -0.2611, -0.1291,  0.3901, -0.0387, -0.1331, -0.2875, -0.2095,  0.1439,\n",
      "        -0.0307, -0.0648,  0.0598, -0.0430,  0.1896,  0.1109,  0.0643, -0.0023,\n",
      "        -0.0328, -0.2137,  0.0720,  0.0039, -0.1591, -0.2714, -0.0136,  0.1367,\n",
      "         0.0542,  0.2452])\n",
      "tensor([ 0.0610,  0.0381, -0.0373,  0.1844, -0.0388, -0.1764,  0.0488, -0.3281,\n",
      "        -0.0793,  0.0009,  0.2299,  0.1970,  0.0735, -0.2066,  0.0725, -0.2878,\n",
      "        -0.0727,  0.3067, -0.2505,  0.0539,  0.1928,  0.0201, -0.0158,  0.1157,\n",
      "         0.1509,  0.0815,  0.0377,  0.1380,  0.1188, -0.1703, -0.0225, -0.0766,\n",
      "        -0.2759,  0.2154,  0.2396, -0.1764, -0.0045, -0.1609,  0.1603,  0.0669])\n"
     ]
    }
   ],
   "source": [
    "mycebmf.initialize()\n",
    "print(mycebmf.L[:,1])\n",
    "print(mycebmf.F[:,1])"
   ]
  },
  {
   "cell_type": "code",
   "execution_count": null,
   "id": "42a6bf92",
   "metadata": {},
   "outputs": [
    {
     "data": {
      "text/plain": [
       "<matplotlib.collections.PathCollection at 0x1c05a3dbc10>"
      ]
     },
     "execution_count": 59,
     "metadata": {},
     "output_type": "execute_result"
    },
    {
     "data": {
      "image/png": "[encoded data removed]",
      "text/plain": [
       "<Figure size 640x480 with 1 Axes>"
      ]
     },
     "metadata": {},
     "output_type": "display_data"
    }
   ],
   "source": [
    "plt.scatter( mycebmf.L[:,0],u)"
   ]
  },
  {
   "cell_type": "code",
   "execution_count": null,
   "id": "8905b3c9",
   "metadata": {},
   "outputs": [],
   "source": [
    "mycebmf.initialize () \n",
    "tau_map=None\n",
    "eps=1e-12"
   ]
  },
  {
   "cell_type": "code",
   "execution_count": null,
   "id": "78287e57",
   "metadata": {},
   "outputs": [
    {
     "name": "stdout",
     "output_type": "stream",
     "text": [
      "tensor(0.0050)\n",
      "tensor(0.3803)\n",
      "tensor(0.4633)\n",
      "tensor(0.4120)\n",
      "tensor(0.3384)\n",
      "tensor([[0.0099, 0.2902, 0.1756, 0.5005, 0.0739],\n",
      "        [0.0099, 1.1556, 1.1131, 0.8634, 0.5329],\n",
      "        [0.0099, 0.0739, 0.1353, 0.1046, 0.0567],\n",
      "        [0.0099, 1.9673, 1.2419, 0.9136, 0.9686],\n",
      "        [0.0099, 0.9058, 0.8045, 0.5395, 0.5011],\n",
      "        [0.0099, 0.0666, 0.1139, 0.0265, 0.0537],\n",
      "        [0.0099, 2.0321, 1.4603, 1.3061, 0.7188],\n",
      "        [0.0099, 1.0898, 1.2675, 0.7349, 0.6748],\n",
      "        [0.0099, 1.1780, 1.0684, 0.8081, 0.5637],\n",
      "        [0.0099, 1.9248, 1.2288, 0.8486, 1.0703],\n",
      "        [0.0099, 0.6553, 0.4867, 0.3691, 0.1108],\n",
      "        [0.0099, 2.0085, 1.3303, 0.9018, 0.6177],\n",
      "        [0.0099, 0.3227, 0.0839, 0.0987, 0.0582],\n",
      "        [0.0099, 1.3629, 1.2521, 0.7512, 0.6092],\n",
      "        [0.0099, 2.1506, 1.6113, 1.1451, 0.8660],\n",
      "        [0.0099, 0.4104, 0.7868, 0.4029, 0.3374],\n",
      "        [0.0099, 1.9762, 1.3215, 1.1184, 0.7850],\n",
      "        [0.0099, 0.4012, 0.1831, 0.1015, 0.0300],\n",
      "        [0.0099, 1.4049, 1.5904, 0.9922, 0.7653],\n",
      "        [0.0099, 1.0466, 0.8745, 0.5723, 0.4194],\n",
      "        [0.0099, 1.1469, 0.7490, 0.6819, 0.4525],\n",
      "        [0.0099, 1.5846, 1.3850, 1.1043, 0.4202],\n",
      "        [0.0099, 1.8678, 1.4504, 0.8548, 0.8256],\n",
      "        [0.0099, 0.7492, 0.3728, 0.3094, 0.2499],\n",
      "        [0.0099, 1.1599, 0.5894, 0.3737, 0.0448],\n",
      "        [0.0099, 0.4207, 0.2101, 0.1658, 0.0343],\n",
      "        [0.0099, 0.9031, 0.9416, 0.3373, 0.6043],\n",
      "        [0.0099, 0.9843, 0.3578, 0.4744, 0.5934],\n",
      "        [0.0099, 1.6500, 0.8216, 0.8057, 0.8126],\n",
      "        [0.0099, 1.3596, 1.2969, 0.9315, 0.9213],\n",
      "        [0.0099, 1.5955, 1.1471, 0.9298, 0.7525],\n",
      "        [0.0099, 1.2126, 1.3807, 0.4231, 0.6944],\n",
      "        [0.0099, 0.7074, 0.6442, 0.7661, 0.5132],\n",
      "        [0.0099, 1.2481, 0.7206, 0.7457, 0.6637],\n",
      "        [0.0099, 1.8704, 1.3368, 0.9611, 0.8695],\n",
      "        [0.0099, 1.6115, 1.4097, 1.0015, 0.7803],\n",
      "        [0.0099, 1.8897, 1.5771, 0.8315, 0.7641],\n",
      "        [0.0099, 1.5543, 1.1483, 1.0368, 0.9281],\n",
      "        [0.0099, 1.9586, 1.3649, 0.8794, 0.8903],\n",
      "        [0.0099, 1.5002, 1.3922, 0.3094, 0.7515]])\n"
     ]
    }
   ],
   "source": [
    "for k in range (mycebmf.K):\n",
    "# ---------- Update L[:, k] ----------\n",
    "        Rk = mycebmf._partial_residual_masked(k)            # (N,P), zeros where missing\n",
    "        fk  = mycebmf.F[:, k]                                # (P,)\n",
    "        fk2 = mycebmf.F2[:, k]                               # (P,)\n",
    "\n",
    "        if tau_map is None:\n",
    "            denom_l = (fk2.view(1, -1) * mycebmf.mask).sum(dim=1).clamp_min(eps)     # (N,)\n",
    "            num_l   = (Rk @ fk)                                                   # (N,)\n",
    "            se_l    = torch.sqrt(1.0 / (mycebmf.tau * denom_l))\n",
    "        else:\n",
    "            denom_l = (tau_map * (fk2.view(1, -1) * mycebmf.mask)).sum(dim=1).clamp_min(eps)  # (N,)\n",
    "            num_l   = (tau_map * Rk) @ fk                                                 # (N,)\n",
    "            se_l    = torch.sqrt(1.0 / denom_l)\n",
    "\n",
    "        lhat = num_l / denom_l\n",
    "       # print(denom_l)\n",
    "        resL = mycebmf.prior_L_fn(\n",
    "            X=getattr(mycebmf, \"X_l\", None),\n",
    "            betahat=lhat,\n",
    "            sebetahat=se_l,\n",
    "            model_param=mycebmf.model_state_L[k]\n",
    "        )\n",
    "        mycebmf.model_state_L[k] = resL.model_param\n",
    "        mycebmf.L[:, k]  = resL.post_mean\n",
    "        mycebmf.L2[:, k] = resL.post_mean2\n",
    "        mycebmf.kl_l[k]  = torch.as_tensor(resL.loss, device=mycebmf.device)\n",
    "\n",
    "    # ---------- Update F[:, k] ----------\n",
    "        Rk = mycebmf._partial_residual_masked(k)            # recompute with updated L\n",
    "        lk  = mycebmf.L[:, k]                               # (N,)\n",
    "        lk2 = mycebmf.L2[:, k]                              # (N,)\n",
    "\n",
    "        if tau_map is None:\n",
    "            denom_f = (lk2.view(-1, 1) * mycebmf.mask).sum(dim=0).clamp_min(eps)      # (P,)\n",
    "            num_f   = (Rk.T @ lk)                                                  # (P,)\n",
    "            se_f    = torch.sqrt(1.0 / (mycebmf.tau * denom_f))\n",
    "        else:\n",
    "            denom_f = (tau_map * (lk2.view(-1, 1) * mycebmf.mask)).sum(dim=0).clamp_min(eps)  # (P,)\n",
    "            num_f   = (tau_map * Rk).T @ lk                                                # (P,)\n",
    "            se_f    = torch.sqrt(1.0 / denom_f)\n",
    "\n",
    "        fhat = num_f / denom_f\n",
    "        print(denom_f[1])\n",
    "        resF = mycebmf.prior_F_fn(\n",
    "            X=getattr(mycebmf, \"X_f\", None),\n",
    "            betahat=fhat,\n",
    "            sebetahat=se_f,\n",
    "            model_param=mycebmf.model_state_F[k]\n",
    "        )\n",
    "        mycebmf.model_state_F[k] = resF.model_param\n",
    "        mycebmf.F[:, k]  = resF.post_mean\n",
    "        mycebmf.F2[:, k] = resF.post_mean2\n",
    "        mycebmf.kl_f[k]  = torch.as_tensor(resF.loss, device=mycebmf.device)\n",
    " \n",
    "print(mycebmf.F)"
   ]
  },
  {
   "cell_type": "code",
   "execution_count": null,
   "id": "d956308e",
   "metadata": {},
   "outputs": [],
   "source": [
    "mycebmf=  cEBMF(data= noisy_matrix,\n",
    "                prior_L=\"point_exp\",\n",
    "                  prior_F=\"point_exp\") \n",
    "mycebmf.initialize()"
   ]
  },
  {
   "cell_type": "code",
   "execution_count": null,
   "id": "30556c96",
   "metadata": {},
   "outputs": [
    {
     "name": "stdout",
     "output_type": "stream",
     "text": [
      "5\n",
      "tensor([[0.0099, 0.0739],\n",
      "        [0.0099, 0.5329],\n",
      "        [0.0099, 0.0567],\n",
      "        [0.0099, 0.9686],\n",
      "        [0.0099, 0.5011],\n",
      "        [0.0099, 0.0537],\n",
      "        [0.0099, 0.7188],\n",
      "        [0.0099, 0.6748],\n",
      "        [0.0099, 0.5637],\n",
      "        [0.0099, 1.0703],\n",
      "        [0.0099, 0.1108],\n",
      "        [0.0099, 0.6177],\n",
      "        [0.0099, 0.0582],\n",
      "        [0.0099, 0.6092],\n",
      "        [0.0099, 0.8660],\n",
      "        [0.0099, 0.3374],\n",
      "        [0.0099, 0.7850],\n",
      "        [0.0099, 0.0300],\n",
      "        [0.0099, 0.7653],\n",
      "        [0.0099, 0.4194],\n",
      "        [0.0099, 0.4525],\n",
      "        [0.0099, 0.4202],\n",
      "        [0.0099, 0.8256],\n",
      "        [0.0099, 0.2499],\n",
      "        [0.0099, 0.0448],\n",
      "        [0.0099, 0.0343],\n",
      "        [0.0099, 0.6043],\n",
      "        [0.0099, 0.5934],\n",
      "        [0.0099, 0.8126],\n",
      "        [0.0099, 0.9213],\n",
      "        [0.0099, 0.7525],\n",
      "        [0.0099, 0.6944],\n",
      "        [0.0099, 0.5132],\n",
      "        [0.0099, 0.6637],\n",
      "        [0.0099, 0.8695],\n",
      "        [0.0099, 0.7803],\n",
      "        [0.0099, 0.7641],\n",
      "        [0.0099, 0.9281],\n",
      "        [0.0099, 0.8903],\n",
      "        [0.0099, 0.7515]])\n"
     ]
    },
    {
     "data": {
      "text/plain": [
       "<matplotlib.collections.PathCollection at 0x1c05a4aa7a0>"
      ]
     },
     "execution_count": 63,
     "metadata": {},
     "output_type": "execute_result"
    },
    {
     "data": {
      "image/png": "[encoded data removed]",
      "text/plain": [
       "<Figure size 640x480 with 1 Axes>"
      ]
     },
     "metadata": {},
     "output_type": "display_data"
    }
   ],
   "source": [
    "mycebmf.iter_once()  \n",
    "mycebmf.update_fitted_value()\n",
    "print(mycebmf.F)\n",
    "plt.scatter(mycebmf.Y_fit, noisy_matrix)\n",
    " \n",
    "plt.scatter(mycebmf.Y_fit, rank_1_matrix)"
   ]
  },
  {
   "cell_type": "code",
   "execution_count": null,
   "id": "5259328c",
   "metadata": {},
   "outputs": [
    {
     "data": {
      "text/plain": [
       "tensor([[1.0000e-04, 7.2173e-04],\n",
       "        [1.0000e-04, 4.0716e-03],\n",
       "        [1.0000e-04, 5.9370e-04],\n",
       "        [1.0000e-04, 4.0936e-02],\n",
       "        [1.0000e-04, 1.0568e-04],\n",
       "        [1.0000e-04, 1.4389e-03],\n",
       "        [1.0000e-04, 2.6995e-05],\n",
       "        [1.0000e-04, 9.1021e-04],\n",
       "        [1.0000e-04, 8.6074e-03],\n",
       "        [1.0000e-04, 2.9133e-04],\n",
       "        [1.0000e-04, 3.6063e-04],\n",
       "        [1.0000e-04, 7.3672e-02],\n",
       "        [1.0000e-04, 4.5495e-04],\n",
       "        [1.0000e-04, 1.1909e-04],\n",
       "        [1.0000e-04, 6.2251e-04],\n",
       "        [1.0000e-04, 2.7924e-03],\n",
       "        [1.0000e-04, 6.7631e-05],\n",
       "        [1.0000e-04, 1.3629e-04],\n",
       "        [1.0000e-04, 1.8424e-04],\n",
       "        [1.0000e-04, 2.5959e-02],\n",
       "        [1.0000e-04, 2.8227e-03],\n",
       "        [1.0000e-04, 3.1027e-04],\n",
       "        [1.0000e-04, 1.9738e-03],\n",
       "        [1.0000e-04, 5.6217e-04],\n",
       "        [1.0000e-04, 1.9746e-03],\n",
       "        [1.0000e-04, 2.1196e-02],\n",
       "        [1.0000e-04, 2.7407e-03],\n",
       "        [1.0000e-04, 4.4259e-03],\n",
       "        [1.0000e-04, 2.5180e-03],\n",
       "        [1.0000e-04, 1.3559e-02],\n",
       "        [1.0000e-04, 2.0566e-04],\n",
       "        [1.0000e-04, 4.9255e-05],\n",
       "        [1.0000e-04, 2.6785e-03],\n",
       "        [1.0000e-04, 8.8302e-03],\n",
       "        [1.0000e-04, 1.2577e-03],\n",
       "        [1.0000e-04, 1.4722e-03],\n",
       "        [1.0000e-04, 7.6765e-03],\n",
       "        [1.0000e-04, 5.0915e-03],\n",
       "        [1.0000e-04, 8.8805e-04],\n",
       "        [1.0000e-04, 2.3267e-03],\n",
       "        [1.0000e-04, 3.4782e-03],\n",
       "        [1.0000e-04, 2.8685e-02],\n",
       "        [1.0000e-04, 4.9391e-03],\n",
       "        [1.0000e-04, 1.3573e-04],\n",
       "        [1.0000e-04, 5.0647e-04],\n",
       "        [1.0000e-04, 9.9544e-05],\n",
       "        [1.0000e-04, 1.7029e-02],\n",
       "        [1.0000e-04, 1.6390e-03],\n",
       "        [1.0000e-04, 3.3288e-02],\n",
       "        [1.0000e-04, 3.9228e-03]])"
      ]
     },
     "execution_count": 64,
     "metadata": {},
     "output_type": "execute_result"
    }
   ],
   "source": [
    "mycebmf.L2"
   ]
  },
  {
   "cell_type": "code",
   "execution_count": null,
   "id": "7bb3bac3",
   "metadata": {},
   "outputs": [],
   "source": [
    "mycebmf.update_fitted_value()"
   ]
  },
  {
   "cell_type": "code",
   "execution_count": null,
   "id": "e7ac7570",
   "metadata": {},
   "outputs": [
    {
     "data": {
      "text/plain": [
       "<matplotlib.collections.PathCollection at 0x1c05a4f76d0>"
      ]
     },
     "execution_count": 66,
     "metadata": {},
     "output_type": "execute_result"
    },
    {
     "data": {
      "image/png": "[encoded data removed]",
      "text/plain": [
       "<Figure size 640x480 with 1 Axes>"
      ]
     },
     "metadata": {},
     "output_type": "display_data"
    }
   ],
   "source": [
    "plt.scatter(mycebmf.Y_fit, noisy_matrix)\n",
    " \n",
    "plt.scatter(mycebmf.Y_fit, rank_1_matrix)"
   ]
  },
  {
   "cell_type": "code",
   "execution_count": null,
   "id": "859c5319",
   "metadata": {},
   "outputs": [],
   "source": []
  },
  {
   "cell_type": "code",
   "execution_count": null,
   "id": "f0bd69a7",
   "metadata": {},
   "outputs": [],
   "source": [
    "from cebmf_torch.torch_main import *\n",
    "mycebmf=  cEBMF(data= noisy_matrix,\n",
    "                prior_L=\"point_exp\",\n",
    "                  prior_F=\"point_exp\") \n",
    "mycebmf.initialize()\n",
    "k=0"
   ]
  },
  {
   "cell_type": "code",
   "execution_count": null,
   "id": "67027da2",
   "metadata": {},
   "outputs": [],
   "source": []
  },
  {
   "cell_type": "code",
   "execution_count": null,
   "id": "ec81ccef",
   "metadata": {},
   "outputs": [],
   "source": []
  },
  {
   "cell_type": "code",
   "execution_count": null,
   "id": "6c5f3f92",
   "metadata": {},
   "outputs": [
    {
     "data": {
      "text/plain": [
       "tensor([[-1.0800e+00,  8.0196e-03,  1.5701e-01,  2.6303e-01, -4.1739e-02],\n",
       "        [-1.7109e-01, -1.9046e-01,  1.4650e-01,  3.7131e-02,  8.8875e-02],\n",
       "        [-2.1563e+00,  2.6045e-01, -2.9440e-01,  5.0543e-02, -4.6051e-02],\n",
       "        [-1.7606e+00, -2.1199e-01,  2.5109e-01, -1.1951e-02,  2.4847e-01],\n",
       "        [-1.5449e+00,  2.1157e-01,  9.9516e-02,  2.0594e-01, -2.2076e-01],\n",
       "        [-1.2314e+00,  1.8960e-01, -1.3784e-01,  5.0737e-02,  2.0818e-02],\n",
       "        [-7.6256e-01, -2.4581e-01,  2.3146e-03,  7.5396e-02, -4.0319e-01],\n",
       "        [-1.1439e+00, -2.6397e-01,  1.8187e-01, -8.0567e-02, -8.1205e-03],\n",
       "        [-1.0905e+00,  1.0566e-01,  2.1918e-02,  2.5164e-01,  1.1956e-01],\n",
       "        [-3.9036e+00,  1.2250e-01,  1.1006e-02,  8.3848e-02, -1.0205e-01],\n",
       "        [-3.3608e+00,  6.7632e-02, -1.3782e-01, -1.8388e-01, -7.9343e-02],\n",
       "        [-2.8256e-01,  6.1964e-02,  1.6782e-01, -1.5000e-01,  3.2100e-01],\n",
       "        [-3.1371e+00, -1.5682e-03,  1.2186e-01,  1.8391e-01, -6.9569e-02],\n",
       "        [-2.6537e+00,  1.7499e-01, -8.0762e-02, -5.0424e-03, -1.9304e-01],\n",
       "        [-1.1513e+00,  1.0867e-01,  1.1378e-01,  1.2128e-02, -3.7015e-02],\n",
       "        [-1.3913e+00, -7.6145e-02,  1.2153e-01,  8.6103e-02,  6.4852e-02],\n",
       "        [-1.3740e+00,  1.0782e-01,  1.6148e-01, -4.1494e-01, -2.6208e-01],\n",
       "        [-7.5712e-01, -4.8320e-01,  1.1743e-01,  3.1841e-02, -1.7631e-01],\n",
       "        [-3.1971e+00,  6.4094e-02, -1.3046e-01, -3.0206e-01, -1.4250e-01],\n",
       "        [-2.6375e+00,  1.9603e-01,  1.1535e-01,  1.5738e-02,  2.0656e-01],\n",
       "        [-1.1854e+00, -2.2867e-01, -2.9677e-01,  1.9078e-01,  5.9602e-02],\n",
       "        [-1.4123e+00, -7.0387e-02, -2.2162e-01, -2.2893e-02, -9.2731e-02],\n",
       "        [-1.5185e+00, -2.4405e-01, -2.1875e-01, -6.0345e-02,  4.6484e-02],\n",
       "        [-1.5451e+00,  3.7692e-02,  5.3646e-02,  5.5653e-03, -4.3632e-02],\n",
       "        [-3.5696e-01, -2.6105e-01, -4.8496e-02,  2.1996e-02,  4.5653e-02],\n",
       "        [-2.8822e-01, -1.2909e-01, -1.0871e-01, -4.4381e-02,  1.9616e-01],\n",
       "        [-2.1206e+00,  3.9007e-01,  9.9799e-02, -1.6718e-01,  5.6170e-02],\n",
       "        [-1.2886e+00, -3.8711e-02,  2.5837e-02,  1.8736e-01,  8.6870e-02],\n",
       "        [-3.7495e+00, -1.3310e-01,  2.8506e-01,  5.6030e-02,  5.5489e-02],\n",
       "        [-1.8378e+00, -2.8753e-01,  2.3898e-02, -9.3194e-02,  1.6521e-01],\n",
       "        [-3.9335e+00, -2.0952e-01, -1.0498e-01,  1.2492e-01, -1.3550e-01],\n",
       "        [-1.3211e+00,  1.4394e-01,  2.7879e-01,  2.8786e-01, -3.3056e-01],\n",
       "        [-3.3329e+00, -3.0673e-02, -1.7941e-01, -2.0532e-01,  6.5975e-02],\n",
       "        [-1.9320e+00, -6.4846e-02, -1.8599e-01,  5.2030e-02,  1.3676e-01],\n",
       "        [-1.3153e+00,  5.9796e-02, -9.1383e-02,  5.3043e-02,  1.4722e-02],\n",
       "        [-3.8683e+00, -4.2975e-02,  2.7704e-01, -2.8827e-01,  2.3012e-02],\n",
       "        [-4.8066e-01,  1.8960e-01, -2.5840e-01,  2.9030e-01,  1.0629e-01],\n",
       "        [-5.3172e-01,  1.1089e-01, -7.2663e-02,  3.5995e-03,  1.0309e-01],\n",
       "        [-2.1271e+00,  6.4250e-02, -8.2268e-02, -1.6076e-01, -8.0659e-03],\n",
       "        [-1.1181e+00, -2.3487e-03, -1.2762e-01,  1.3920e-01,  5.1571e-02],\n",
       "        [-1.8677e+00, -3.2754e-02,  1.3962e-02, -3.5963e-02,  8.1290e-02],\n",
       "        [-1.7295e+00, -2.1372e-01, -5.8995e-02,  5.2264e-02,  2.1876e-01],\n",
       "        [-4.1114e+00,  7.2044e-02,  4.7318e-02,  5.6729e-02,  1.0055e-01],\n",
       "        [-3.8303e-01,  3.8863e-03, -2.1074e-01, -1.8264e-01, -1.7477e-01],\n",
       "        [-3.2977e+00, -1.5914e-01, -1.8159e-01, -1.3019e-01, -5.0413e-02],\n",
       "        [-8.7760e-01, -2.7135e-01,  1.9075e-01,  1.0067e-01, -2.1614e-01],\n",
       "        [-3.1488e+00, -1.3637e-02, -7.5074e-02,  1.4003e-01,  1.7523e-01],\n",
       "        [-3.4296e+00,  1.3665e-01,  4.0598e-03,  1.8605e-01,  2.3113e-02],\n",
       "        [-6.1188e-01,  5.4167e-02,  1.5028e-01, -6.3751e-02,  2.3114e-01],\n",
       "        [-4.4484e-01,  2.4524e-01,  3.3110e-01, -1.6884e-02,  7.7175e-02]])"
      ]
     },
     "execution_count": 68,
     "metadata": {},
     "output_type": "execute_result"
    }
   ],
   "source": [
    " \n",
    "\n",
    "mycebmf.L"
   ]
  },
  {
   "cell_type": "code",
   "execution_count": null,
   "id": "3da8f8e0",
   "metadata": {},
   "outputs": [],
   "source": [
    "\n",
    "k=0\n",
    "Rk = mycebmf._partial_residual_masked(k)            # (N,P), zeros where missing\n",
    "fk  = mycebmf.F[:, k]                                # (P,)\n",
    "fk2 = mycebmf.F2[:, k]                               # (P,)\n",
    "\n",
    "eps = 1e-12\n",
    "denom_l = (fk2.view(1, -1) * mycebmf.mask).sum(dim=1).clamp_min(eps)     # (N,)\n",
    "num_l   = (Rk @ fk)                                                   # (N,)\n",
    "se_l    = torch.sqrt(1.0 / (mycebmf.tau * denom_l))\n",
    "\n",
    "\n",
    "lhat = num_l / denom_l\n",
    "\n",
    "resL = mycebmf.prior_L_fn(\n",
    "            X=getattr(mycebmf, \"X_l\", None),\n",
    "            betahat=lhat,\n",
    "            sebetahat=se_l,\n",
    "            model_param=mycebmf.model_state_L[k]\n",
    ")\n",
    "mycebmf.model_state_L[k] = resL.model_param\n",
    "mycebmf.L[:, k]  = resL.post_mean\n",
    "mycebmf.L2[:, k] = resL.post_mean2\n",
    "mycebmf.kl_l[k]  = torch.as_tensor(resL.loss, device=mycebmf.device)"
   ]
  },
  {
   "cell_type": "code",
   "execution_count": null,
   "id": "001194e9",
   "metadata": {},
   "outputs": [
    {
     "data": {
      "text/plain": [
       "tensor([1.0000e-04, 1.0000e-04, 1.0000e-04, 1.0000e-04, 1.0000e-04, 1.0000e-04,\n",
       "        1.0000e-04, 1.0000e-04, 1.0000e-04, 1.0000e-04, 1.0000e-04, 1.0000e-04,\n",
       "        1.0000e-04, 1.0000e-04, 1.0000e-04, 1.0000e-04, 1.0000e-04, 1.0000e-04,\n",
       "        1.0000e-04, 1.0000e-04, 1.0000e-04, 1.0000e-04, 1.0000e-04, 1.0000e-04,\n",
       "        1.0000e-04, 1.0000e-04, 1.0000e-04, 1.0000e-04, 1.0000e-04, 1.0000e-04,\n",
       "        1.0000e-04, 1.0000e-04, 1.0000e-04, 1.0000e-04, 1.0000e-04, 1.0000e-04,\n",
       "        1.0000e-04, 1.0000e-04, 1.0000e-04, 1.0000e-04, 1.0000e-04, 1.0000e-04,\n",
       "        1.0000e-04, 1.0000e-04, 1.0000e-04, 1.0000e-04, 1.0000e-04, 1.0000e-04,\n",
       "        1.0000e-04, 1.0000e-04])"
      ]
     },
     "execution_count": 70,
     "metadata": {},
     "output_type": "execute_result"
    }
   ],
   "source": [
    "se_l\n",
    "resL.post_mean2"
   ]
  },
  {
   "cell_type": "code",
   "execution_count": null,
   "id": "9085104f",
   "metadata": {},
   "outputs": [],
   "source": [
    "from cebmf_torch.torch_ebnm.torch_ebnm_point_laplace import ebnm_point_laplace\n",
    "\n",
    "lol=ebnm_point_laplace(\n",
    "    x=lhat ,\n",
    "    s=se_l ,    # a=exp(0)=1\n",
    "    fix_par=[False,False, True] # optimize w only; fix a, mu\n",
    ")"
   ]
  },
  {
   "cell_type": "code",
   "execution_count": null,
   "id": "6a04e4a5",
   "metadata": {},
   "outputs": [
    {
     "data": {
      "text/plain": [
       "tensor([0.0792, 0.0751, 0.0792, 0.0792, 0.0792, 0.0792, 0.0792, 0.0792, 0.0792,\n",
       "        0.0792, 0.0792, 0.0794, 0.0792, 0.0792, 0.0792, 0.0792, 0.0792, 0.0792,\n",
       "        0.0792, 0.0792, 0.0792, 0.0792, 0.0792, 0.0792, 0.0792, 0.0794, 0.0792,\n",
       "        0.0792, 0.0792, 0.0792, 0.0792, 0.0792, 0.0792, 0.0792, 0.0792, 0.0792,\n",
       "        0.0792, 0.0792, 0.0792, 0.0792, 0.0792, 0.0792, 0.0792, 0.0792, 0.0792,\n",
       "        0.0792, 0.0792, 0.0792, 0.0792, 0.0792], dtype=torch.float64)"
      ]
     },
     "execution_count": 72,
     "metadata": {},
     "output_type": "execute_result"
    }
   ],
   "source": [
    "lol.post_sd"
   ]
  },
  {
   "cell_type": "code",
   "execution_count": null,
   "id": "e98689d2",
   "metadata": {},
   "outputs": [
    {
     "data": {
      "text/plain": [
       "<matplotlib.collections.PathCollection at 0x1c05a7b76a0>"
      ]
     },
     "execution_count": 73,
     "metadata": {},
     "output_type": "execute_result"
    },
    {
     "data": {
      "image/png": "[encoded data removed]",
      "text/plain": [
       "<Figure size 640x480 with 1 Axes>"
      ]
     },
     "metadata": {},
     "output_type": "display_data"
    }
   ],
   "source": [
    "plt.scatter(lol.post_mean2,resL.post_mean2)"
   ]
  },
  {
   "cell_type": "code",
   "execution_count": null,
   "id": "ee082178",
   "metadata": {},
   "outputs": [
    {
     "data": {
      "text/plain": [
       "<matplotlib.collections.PathCollection at 0x1c05a4f6230>"
      ]
     },
     "execution_count": 74,
     "metadata": {},
     "output_type": "execute_result"
    },
    {
     "data": {
      "image/png": "[encoded data removed]",
      "text/plain": [
       "<Figure size 640x480 with 1 Axes>"
      ]
     },
     "metadata": {},
     "output_type": "display_data"
    }
   ],
   "source": [
    "plt.scatter(lol.post_sd**2 ,resL.post_mean2-resL.post_mean**2)"
   ]
  },
  {
   "cell_type": "code",
   "execution_count": null,
   "id": "fd0a10a2",
   "metadata": {},
   "outputs": [
    {
     "data": {
      "text/plain": [
       "<function cebmf_torch.priors_torch.prior_point_exp_torch(X, betahat: torch.Tensor, sebetahat: torch.Tensor, model_param=None) -> cebmf_torch.priors_torch.PriorResultTorch>"
      ]
     },
     "execution_count": 75,
     "metadata": {},
     "output_type": "execute_result"
    }
   ],
   "source": [
    "mycebmf.prior_L_fn"
   ]
  },
  {
   "cell_type": "code",
   "execution_count": null,
   "id": "55c074e1",
   "metadata": {},
   "outputs": [
    {
     "name": "stdout",
     "output_type": "stream",
     "text": [
      "tensor([0., 0., 0., 0., 0., 0., 0., 0., 0., 0., 0., 0., 0., 0., 0., 0., 0., 0., 0., 0., 0., 0., 0., 0.,\n",
      "        0., 0., 0., 0., 0., 0., 0., 0., 0., 0., 0., 0., 0., 0., 0., 0., 0., 0., 0., 0., 0., 0., 0., 0.,\n",
      "        0., 0.])\n"
     ]
    }
   ],
   "source": [
    "k=0\n",
    "Rk = mycebmf._partial_residual_masked(k)            # (N,P), zeros where missing\n",
    "fk  = mycebmf.F[:, k]                                # (P,)\n",
    "fk2 = mycebmf.F2[:, k]                               # (P,)\n",
    "\n",
    "eps = 1e-12\n",
    "denom_l = (fk2.view(1, -1) * mycebmf.mask).sum(dim=1).clamp_min(eps)     # (N,)\n",
    "num_l   = (Rk @ fk)                                                   # (N,)\n",
    "se_l    = torch.sqrt(1.0 / (mycebmf.tau * denom_l))\n",
    "\n",
    "\n",
    "lhat = num_l / denom_l\n",
    "\n",
    "resL = mycebmf.prior_L_fn(\n",
    "            X=getattr(mycebmf, \"X_l\", None),\n",
    "            betahat=lhat,\n",
    "            sebetahat=se_l,\n",
    "            model_param=mycebmf.model_state_L[k]\n",
    ")\n",
    "mycebmf.model_state_L[k] = resL.model_param\n",
    "print(resL.post_mean)\n",
    "mycebmf.L[:, k]  = resL.post_mean\n",
    "mycebmf.L2[:, k] = resL.post_mean2"
   ]
  },
  {
   "cell_type": "code",
   "execution_count": null,
   "id": "dfa1ef80",
   "metadata": {},
   "outputs": [],
   "source": [
    "denom_f = (lk2.view(-1, 1) * mycebmf.mask).sum(dim=0).clamp_min(eps)      # (P,)\n",
    "num_f   = (Rk.T @ lk)                                                  # (P,)\n",
    "se_f    = torch.sqrt(1.0 / (mycebmf.tau * denom_f))"
   ]
  },
  {
   "cell_type": "code",
   "execution_count": null,
   "id": "3cc57f99",
   "metadata": {},
   "outputs": [
    {
     "data": {
      "text/plain": [
       "tensor([[1., 1., 1.,  ..., 1., 1., 1.],\n",
       "        [1., 1., 1.,  ..., 1., 1., 1.],\n",
       "        [1., 1., 1.,  ..., 1., 1., 1.],\n",
       "        ...,\n",
       "        [1., 1., 1.,  ..., 1., 1., 1.],\n",
       "        [1., 1., 1.,  ..., 1., 1., 1.],\n",
       "        [1., 1., 1.,  ..., 1., 1., 1.]])"
      ]
     },
     "execution_count": 78,
     "metadata": {},
     "output_type": "execute_result"
    }
   ],
   "source": [
    "mycebmf.mask"
   ]
  },
  {
   "cell_type": "code",
   "execution_count": null,
   "id": "95f0cdaa",
   "metadata": {},
   "outputs": [
    {
     "name": "stdout",
     "output_type": "stream",
     "text": [
      "tensor([0.2005, 0.0181, 0.0212, 0.0106, 0.1333, 0.0212, 0.0287, 0.0056, 0.1875,\n",
      "        0.0319, 0.0027, 0.0033, 0.1079, 0.0114, 0.0136, 0.0329, 0.0009, 0.0170,\n",
      "        0.0014, 0.0142, 0.1156, 0.0095, 0.0067, 0.0127, 0.0152, 0.0077, 0.0030,\n",
      "        0.1117, 0.0226, 0.0051, 0.0540, 0.2278, 0.0024, 0.0216, 0.0218, 0.0015,\n",
      "        0.2305, 0.0124, 0.0031, 0.0646, 0.0084, 0.0216, 0.0228, 0.0027, 0.0038,\n",
      "        0.0396, 0.0652, 0.1103, 0.0065, 0.0101], dtype=torch.float64)\n",
      "tensor([0.6355, 1.4603, 0.1338, 1.7315, 1.0154, 0.0243, 2.2442, 1.4484, 1.4336,\n",
      "        1.7043, 0.6233, 1.7560, 0.1497, 1.5003, 2.1372, 0.7855, 2.0447, 0.1461,\n",
      "        1.8500, 1.0810, 1.1505, 1.9018, 1.7346, 0.5998, 0.8049, 0.2981, 0.8201,\n",
      "        0.8180, 1.4623, 1.6915, 1.6831, 1.1200, 1.2191, 1.2364, 1.7742, 1.8638,\n",
      "        1.7590, 1.8161, 1.7376, 1.0315], dtype=torch.float64)\n"
     ]
    }
   ],
   "source": [
    "k=3\n",
    "Rk = mycebmf._partial_residual_masked(k)            # (N,P), zeros where missing\n",
    "fk  = mycebmf.F[:, k]                                # (P,)\n",
    "fk2 = mycebmf.F2[:, k]                               # (P,)\n",
    "\n",
    "eps = 1e-12\n",
    "denom_l = (fk2.view(1, -1) * mycebmf.mask).sum(dim=1).clamp_min(eps)     # (N,)\n",
    "num_l   = (Rk @ fk)                                                   # (N,)\n",
    "se_l    = torch.sqrt(1.0 / (mycebmf.tau * denom_l))\n",
    "\n",
    "\n",
    "lhat = num_l / denom_l\n",
    "\n",
    "resL = mycebmf.prior_L_fn(\n",
    "            X=getattr(mycebmf, \"X_l\", None),\n",
    "            betahat=lhat,\n",
    "            sebetahat=se_l,\n",
    "            model_param=mycebmf.model_state_L[k]\n",
    ")\n",
    "mycebmf.model_state_L[k] = resL.model_param\n",
    "print(resL.post_mean)\n",
    "mycebmf.L[:, k]  = resL.post_mean\n",
    "mycebmf.L2[:, k] = resL.post_mean2\n",
    "mycebmf.kl_l[k]  = torch.as_tensor(resL.loss, device=mycebmf.device)\n",
    "Rk = mycebmf._partial_residual_masked(k)            # recompute with updated L\n",
    "lk  = mycebmf.L[:, k]                               # (N,)\n",
    "lk2 = mycebmf.L2[:, k]                              # (N,)\n",
    "\n",
    "if tau_map is None:\n",
    "            denom_f = (lk2.view(-1, 1) * mycebmf.mask).sum(dim=0).clamp_min(eps)      # (P,)\n",
    "            num_f   = (Rk.T @ lk)                                                  # (P,)\n",
    "            se_f    = torch.sqrt(1.0 / (mycebmf.tau * denom_f))\n",
    "else:\n",
    "            denom_f = (tau_map * (lk2.view(-1, 1) * mycebmf.mask)).sum(dim=0).clamp_min(eps)  # (P,)\n",
    "            num_f   = (tau_map * Rk).T @ lk                                                # (P,)\n",
    "            se_f    = torch.sqrt(1.0 / denom_f)\n",
    "\n",
    "fhat = num_f / denom_f \n",
    "resF = mycebmf.prior_F_fn(\n",
    "            X=getattr(mycebmf, \"X_f\", None),\n",
    "            betahat=fhat,\n",
    "            sebetahat=se_f,\n",
    "            model_param=mycebmf.model_state_F[k]\n",
    "        )\n",
    "mycebmf.model_state_F[k] = resF.model_param\n",
    "print(resF.post_mean)\n",
    "mycebmf.F[:, k]  = resF.post_mean\n",
    "mycebmf.F2[:, k] = resF.post_mean2\n",
    "mycebmf.kl_f[k]  = torch.as_tensor(resF.loss, device=mycebmf.device)\n"
   ]
  },
  {
   "cell_type": "code",
   "execution_count": null,
   "id": "8e18a929",
   "metadata": {},
   "outputs": [
    {
     "data": {
      "text/plain": [
       "tensor([0.1281, 0.1281, 0.1281, 0.1281, 0.1281, 0.1281, 0.1281, 0.1281, 0.1281,\n",
       "        0.1281, 0.1281, 0.1281, 0.1281, 0.1281, 0.1281, 0.1281, 0.1281, 0.1281,\n",
       "        0.1281, 0.1281, 0.1281, 0.1281, 0.1281, 0.1281, 0.1281, 0.1281, 0.1281,\n",
       "        0.1281, 0.1281, 0.1281, 0.1281, 0.1281, 0.1281, 0.1281, 0.1281, 0.1281,\n",
       "        0.1281, 0.1281, 0.1281, 0.1281])"
      ]
     },
     "execution_count": 80,
     "metadata": {},
     "output_type": "execute_result"
    }
   ],
   "source": [
    "se_f"
   ]
  },
  {
   "cell_type": "code",
   "execution_count": null,
   "id": "57dad8d3",
   "metadata": {},
   "outputs": [],
   "source": [
    "from cebmf_torch.torch_ebnm.torch_ebnm_point_exp import ebnm_point_exp\n",
    "lolf=ebnm_point_exp(\n",
    "    x=fhat ,\n",
    "    s=se_f ,    # a=exp(0)=1\n",
    "    fix_par=[False,True, True] # optimize w only; fix a, mu\n",
    ") "
   ]
  },
  {
   "cell_type": "code",
   "execution_count": null,
   "id": "ed42f9de",
   "metadata": {},
   "outputs": [
    {
     "data": {
      "text/plain": [
       "tensor([0.6038, 1.4286, 0.1231, 1.6999, 0.9837, 0.0303, 2.2125, 1.4167, 1.4019,\n",
       "        1.6726, 0.5917, 1.7243, 0.1366, 1.4686, 2.1055, 0.7538, 2.0131, 0.1335,\n",
       "        1.8183, 1.0494, 1.1188, 1.8701, 1.7029, 0.5681, 0.7732, 0.2698, 0.7885,\n",
       "        0.7864, 1.4306, 1.6598, 1.6514, 1.0883, 1.1874, 1.2047, 1.7425, 1.8321,\n",
       "        1.7273, 1.7844, 1.7059, 0.9998], dtype=torch.float64)"
      ]
     },
     "execution_count": 82,
     "metadata": {},
     "output_type": "execute_result"
    }
   ],
   "source": [
    "lolf.post_mean"
   ]
  },
  {
   "cell_type": "code",
   "execution_count": null,
   "id": "c0460dc2",
   "metadata": {},
   "outputs": [
    {
     "data": {
      "text/plain": [
       "tensor([0.0792, 0.0792, 0.0792, 0.0792, 0.0792, 0.0792, 0.0792, 0.0792, 0.0792,\n",
       "        0.0792, 0.0792, 0.0792, 0.0792, 0.0792, 0.0792, 0.0792, 0.0792, 0.0792,\n",
       "        0.0792, 0.0792, 0.0792, 0.0792, 0.0792, 0.0792, 0.0792, 0.0792, 0.0792,\n",
       "        0.0792, 0.0792, 0.0792, 0.0792, 0.0792, 0.0792, 0.0792, 0.0792, 0.0792,\n",
       "        0.0792, 0.0792, 0.0792, 0.0792, 0.0792, 0.0792, 0.0792, 0.0792, 0.0792,\n",
       "        0.0792, 0.0792, 0.0792, 0.0792, 0.0792])"
      ]
     },
     "execution_count": 83,
     "metadata": {},
     "output_type": "execute_result"
    }
   ],
   "source": [
    "se_l\n"
   ]
  },
  {
   "cell_type": "code",
   "execution_count": null,
   "id": "441e02f9",
   "metadata": {},
   "outputs": [],
   "source": [
    "\n"
   ]
  },
  {
   "cell_type": "code",
   "execution_count": null,
   "id": "53231549",
   "metadata": {},
   "outputs": [
    {
     "data": {
      "text/plain": [
       "0.0"
      ]
     },
     "execution_count": 84,
     "metadata": {},
     "output_type": "execute_result"
    }
   ],
   "source": [
    "lol.mu"
   ]
  },
  {
   "cell_type": "code",
   "execution_count": null,
   "id": "c5d8a126",
   "metadata": {},
   "outputs": [
    {
     "ename": "AttributeError",
     "evalue": "'EBNMLaplaceResult' object has no attribute 'w'",
     "output_type": "error",
     "traceback": [
      "\u001b[1;31m---------------------------------------------------------------------------\u001b[0m",
      "\u001b[1;31mAttributeError\u001b[0m                            Traceback (most recent call last)",
      "Cell \u001b[1;32mIn[85], line 1\u001b[0m\n\u001b[1;32m----> 1\u001b[0m \u001b[43mlol\u001b[49m\u001b[38;5;241;43m.\u001b[39;49m\u001b[43mw\u001b[49m\n",
      "\u001b[1;31mAttributeError\u001b[0m: 'EBNMLaplaceResult' object has no attribute 'w'"
     ]
    }
   ],
   "source": [
    " "
   ]
  },
  {
   "cell_type": "code",
   "execution_count": null,
   "id": "0e429d6e",
   "metadata": {},
   "outputs": [
    {
     "data": {
      "text/plain": [
       "tensor([0.2005, 0.0181, 0.0212, 0.0106, 0.1333, 0.0212, 0.0287, 0.0056, 0.1875,\n",
       "        0.0319, 0.0027, 0.0033, 0.1079, 0.0114, 0.0136, 0.0329, 0.0009, 0.0170,\n",
       "        0.0014, 0.0142, 0.1156, 0.0095, 0.0067, 0.0127, 0.0152, 0.0077, 0.0030,\n",
       "        0.1117, 0.0226, 0.0051, 0.0540, 0.2278, 0.0024, 0.0216, 0.0218, 0.0015,\n",
       "        0.2305, 0.0124, 0.0031, 0.0646, 0.0084, 0.0216, 0.0228, 0.0027, 0.0038,\n",
       "        0.0396, 0.0652, 0.1103, 0.0065, 0.0101], dtype=torch.float64)"
      ]
     },
     "execution_count": 87,
     "metadata": {},
     "output_type": "execute_result"
    }
   ],
   "source": [
    "# make sure this is the stable version we discussed\n",
    "from cebmf_torch.torch_ebnm.torch_ebnm_point_exp import ebnm_point_exp\n",
    "res = ebnm_point_exp(\n",
    "    x=lhat.float(),\n",
    "    s=se_l.float() \n",
    ") \n",
    "res.post_mean  # shrunk toward 0, not all zero\n"
   ]
  },
  {
   "cell_type": "code",
   "execution_count": null,
   "id": "3135beec",
   "metadata": {},
   "outputs": [
    {
     "data": {
      "text/plain": [
       "tensor([ 0.2188,  0.0062,  0.0091, -0.0019,  0.1427,  0.0091,  0.0160, -0.0178,\n",
       "         0.2054,  0.0190, -0.1098, -0.0658,  0.1099, -0.0008,  0.0019,  0.0199,\n",
       "        -0.3596,  0.0052, -0.2590,  0.0025,  0.1200, -0.0037, -0.0115,  0.0009,\n",
       "         0.0035, -0.0077, -0.0866,  0.1149,  0.0104, -0.0229,  0.0422,  0.2452,\n",
       "        -0.1418,  0.0094,  0.0096, -0.2456,  0.2476,  0.0006, -0.0784,  0.0546,\n",
       "        -0.0060,  0.0095,  0.0105, -0.1081, -0.0464,  0.0266,  0.0554,  0.1130,\n",
       "        -0.0124, -0.0027])"
      ]
     },
     "execution_count": 89,
     "metadata": {},
     "output_type": "execute_result"
    }
   ],
   "source": [
    "from cebmf_torch.torch_ebnm.torch_ash import ash\n",
    "chk = ash(lhat.float(), se_l.float(), prior=\"norm\")\n",
    "chk.post_mean  # finite; should be close to lhat for large SNR\n"
   ]
  },
  {
   "cell_type": "code",
   "execution_count": null,
   "id": "5c132067",
   "metadata": {},
   "outputs": [
    {
     "data": {
      "text/plain": [
       "<matplotlib.collections.PathCollection at 0x1c05a870430>"
      ]
     },
     "execution_count": 90,
     "metadata": {},
     "output_type": "execute_result"
    },
    {
     "data": {
      "image/png": "[encoded data removed]",
      "text/plain": [
       "<Figure size 640x480 with 1 Axes>"
      ]
     },
     "metadata": {},
     "output_type": "display_data"
    }
   ],
   "source": [
    "plt.scatter( chk.post_mean, lol.post_mean)\n",
    "\n"
   ]
  },
  {
   "cell_type": "code",
   "execution_count": null,
   "id": "74e1cac0",
   "metadata": {},
   "outputs": [
    {
     "data": {
      "text/plain": [
       "tensor([6.7347e-01, 4.7844e-04, 1.0382e-06, 1.4445e-06, 2.4983e-05, 3.6217e-06,\n",
       "        1.4250e-05, 3.3088e-06, 5.4869e-01, 3.0915e-07, 3.6415e-07, 4.8196e-05,\n",
       "        8.4201e-07, 6.2016e-07, 3.7152e-06, 3.2613e-06, 2.1406e-06, 1.0278e-05,\n",
       "        3.9973e-07, 6.4057e-07, 8.7082e-05, 2.2607e-06, 1.8791e-06, 1.9474e-06,\n",
       "        5.8624e-05, 5.9860e-05, 9.1975e-07, 3.5085e-05, 3.2181e-07, 1.2513e-06,\n",
       "        3.3894e-07, 6.7263e-01, 3.6963e-07, 1.3240e-06, 3.1425e-06, 2.7314e-07,\n",
       "        1.5361e+00, 2.0124e-05, 9.1508e-07, 1.2357e-05, 1.2497e-06, 1.6914e-06,\n",
       "        2.6546e-07, 2.6819e-05, 3.8062e-07, 1.3287e-05, 6.0968e-07, 6.6754e-07,\n",
       "        1.2197e-05, 2.7202e-05], dtype=torch.float64)"
      ]
     },
     "execution_count": 91,
     "metadata": {},
     "output_type": "execute_result"
    }
   ],
   "source": [
    "\n",
    "k=0\n",
    "Rk = mycebmf._partial_residual_masked(k)            # (N,P), zeros where missing\n",
    "fk  = mycebmf.F[:, k]                                # (P,)\n",
    "fk2 = mycebmf.F2[:, k]                               # (P,)\n",
    "\n",
    "eps = 1e-12\n",
    "denom_l = (fk2.view(1, -1) * mycebmf.mask).sum(dim=1).clamp_min(eps)     # (N,)\n",
    "num_l   = (Rk @ fk)                                                   # (N,)\n",
    "se_l    = torch.sqrt(1.0 / (mycebmf.tau * denom_l))\n",
    "\n",
    "\n",
    "lhat = num_l / denom_l\n",
    "\n",
    "resL = mycebmf.prior_L_fn(\n",
    "            X=getattr(mycebmf, \"X_l\", None),\n",
    "            betahat=lhat,\n",
    "            sebetahat=se_l,\n",
    "            model_param=mycebmf.model_state_L[k]\n",
    ")\n",
    "mycebmf.model_state_L[k] = resL.model_param\n",
    "mycebmf.L[:, k]  = resL.post_mean\n",
    "mycebmf.L2[:, k] = resL.post_mean2\n",
    "mycebmf.kl_l[k]  = torch.as_tensor(resL.loss, device=mycebmf.device)\n",
    "se_l\n",
    "resL.post_mean"
   ]
  },
  {
   "cell_type": "code",
   "execution_count": null,
   "id": "f8e7a6c4",
   "metadata": {},
   "outputs": [
    {
     "data": {
      "text/plain": [
       "tensor([0.0744, 0.0706, 0.0012, 0.1936, 0.0355, 0.0031, 0.0109, 0.1084, 0.0128,\n",
       "        0.0120, 0.0031, 0.0925, 0.0487, 0.0048, 0.0456, 0.0502, 0.0858, 0.0479,\n",
       "        0.0032, 0.0466, 0.0012, 0.0018, 0.0018, 0.0204, 0.0065, 0.0038, 0.0379,\n",
       "        0.0138, 0.2318, 0.0141, 0.0039, 0.2169, 0.0023, 0.0022, 0.0044, 0.2238,\n",
       "        0.0014, 0.0052, 0.0048, 0.0033, 0.0126, 0.0059, 0.0187, 0.0019, 0.0023,\n",
       "        0.1177, 0.0050, 0.0108, 0.0744, 0.2806], dtype=torch.float64)"
      ]
     },
     "execution_count": 92,
     "metadata": {},
     "output_type": "execute_result"
    }
   ],
   "source": [
    "\n",
    "k=2\n",
    "Rk = mycebmf._partial_residual_masked(k)            # (N,P), zeros where missing\n",
    "fk  = mycebmf.F[:, k]                                # (P,)\n",
    "fk2 = mycebmf.F2[:, k]                               # (P,)\n",
    "\n",
    "eps = 1e-12\n",
    "denom_l = (fk2.view(1, -1) * mycebmf.mask).sum(dim=1).clamp_min(eps)     # (N,)\n",
    "num_l   = (Rk @ fk)                                                   # (N,)\n",
    "se_l    = torch.sqrt(1.0 / (mycebmf.tau * denom_l))\n",
    "\n",
    "\n",
    "lhat = num_l / denom_l\n",
    "\n",
    "resL = mycebmf.prior_L_fn(\n",
    "            X=getattr(mycebmf, \"X_l\", None),\n",
    "            betahat=lhat,\n",
    "            sebetahat=se_l,\n",
    "            model_param=mycebmf.model_state_L[k]\n",
    ")\n",
    "mycebmf.model_state_L[k] = resL.model_param\n",
    "mycebmf.L[:, k]  = resL.post_mean\n",
    "mycebmf.L2[:, k] = resL.post_mean2\n",
    "mycebmf.kl_l[k]  = torch.as_tensor(resL.loss, device=mycebmf.device)\n",
    "se_l\n",
    "resL.post_mean"
   ]
  },
  {
   "cell_type": "code",
   "execution_count": null,
   "id": "0b833086",
   "metadata": {},
   "outputs": [
    {
     "data": {
      "text/plain": [
       "tensor([0.0792, 0.0792, 0.0792, 0.0792, 0.0792, 0.0792, 0.0792, 0.0792, 0.0792,\n",
       "        0.0792, 0.0792, 0.0792, 0.0792, 0.0792, 0.0792, 0.0792, 0.0792, 0.0792,\n",
       "        0.0792, 0.0792, 0.0792, 0.0792, 0.0792, 0.0792, 0.0792, 0.0792, 0.0792,\n",
       "        0.0792, 0.0792, 0.0792, 0.0792, 0.0792, 0.0792, 0.0792, 0.0792, 0.0792,\n",
       "        0.0792, 0.0792, 0.0792, 0.0792, 0.0792, 0.0792, 0.0792, 0.0792, 0.0792,\n",
       "        0.0792, 0.0792, 0.0792, 0.0792, 0.0792])"
      ]
     },
     "execution_count": 93,
     "metadata": {},
     "output_type": "execute_result"
    }
   ],
   "source": [
    "lhat\n",
    "se_l"
   ]
  },
  {
   "cell_type": "code",
   "execution_count": null,
   "id": "db392345",
   "metadata": {},
   "outputs": [
    {
     "data": {
      "text/plain": [
       "tensor([ 9.1907e-02,  8.8043e-02, -2.4197e-01,  1.9613e-01,  4.7592e-02,\n",
       "        -8.1476e-02,  5.4882e-04,  1.2319e-01,  6.4525e-03,  4.1312e-03,\n",
       "        -8.0889e-02,  1.0900e-01,  6.4405e-02, -3.8893e-02,  6.0696e-02,\n",
       "         6.6198e-02,  1.0281e-01,  6.3409e-02, -7.4500e-02,  6.1882e-02,\n",
       "        -2.4771e-01, -1.6572e-01, -1.6256e-01,  2.3606e-02, -2.1550e-02,\n",
       "        -5.7464e-02,  5.0850e-02,  9.2471e-03,  2.3088e-01,  1.0008e-02,\n",
       "        -5.5912e-02,  2.1710e-01, -1.2094e-01, -1.2844e-01, -4.5781e-02,\n",
       "         2.2340e-01, -2.1248e-01, -3.4176e-02, -3.9631e-02, -7.3949e-02,\n",
       "         5.7187e-03, -2.6929e-02,  2.0345e-02, -1.5389e-01, -1.2325e-01,\n",
       "         1.3120e-01, -3.6625e-02,  9.6374e-05,  9.1911e-02,  2.7797e-01],\n",
       "       dtype=torch.float64)"
      ]
     },
     "execution_count": 95,
     "metadata": {},
     "output_type": "execute_result"
    }
   ],
   "source": [
    "from cebmf_torch.torch_ebnm.torch_ebnm_point_laplace import ebnm_point_laplace\n",
    "lol= ebnm_point_laplace(lhat , se_l) \n",
    "lol.post_mean\n"
   ]
  },
  {
   "cell_type": "code",
   "execution_count": null,
   "id": "f942b946",
   "metadata": {},
   "outputs": [
    {
     "data": {
      "text/plain": [
       "tensor([0.0792, 0.0792, 0.0792, 0.0792, 0.0792, 0.0792, 0.0792, 0.0792, 0.0792,\n",
       "        0.0792, 0.0792, 0.0792, 0.0792, 0.0792, 0.0792, 0.0792, 0.0792, 0.0792,\n",
       "        0.0792, 0.0792, 0.0792, 0.0792, 0.0792, 0.0792, 0.0792, 0.0792, 0.0792,\n",
       "        0.0792, 0.0792, 0.0792, 0.0792, 0.0792, 0.0792, 0.0792, 0.0792, 0.0792,\n",
       "        0.0792, 0.0792, 0.0792, 0.0792, 0.0792, 0.0792, 0.0792, 0.0792, 0.0792,\n",
       "        0.0792, 0.0792, 0.0792, 0.0792, 0.0792])"
      ]
     },
     "execution_count": 96,
     "metadata": {},
     "output_type": "execute_result"
    }
   ],
   "source": [
    "se_l"
   ]
  },
  {
   "cell_type": "code",
   "execution_count": null,
   "id": "3d870a2a",
   "metadata": {},
   "outputs": [],
   "source": [
    "lhat"
   ]
  },
  {
   "cell_type": "code",
   "execution_count": null,
   "id": "ed404183",
   "metadata": {},
   "outputs": [
    {
     "data": {
      "text/plain": [
       "tensor([ 9.1907e-02,  8.8043e-02, -2.4197e-01,  1.9613e-01,  4.7592e-02,\n",
       "        -8.1476e-02,  5.4882e-04,  1.2319e-01,  6.4525e-03,  4.1312e-03,\n",
       "        -8.0889e-02,  1.0900e-01,  6.4405e-02, -3.8893e-02,  6.0696e-02,\n",
       "         6.6198e-02,  1.0281e-01,  6.3409e-02, -7.4500e-02,  6.1882e-02,\n",
       "        -2.4771e-01, -1.6572e-01, -1.6256e-01,  2.3606e-02, -2.1550e-02,\n",
       "        -5.7464e-02,  5.0850e-02,  9.2471e-03,  2.3088e-01,  1.0008e-02,\n",
       "        -5.5912e-02,  2.1710e-01, -1.2094e-01, -1.2844e-01, -4.5781e-02,\n",
       "         2.2340e-01, -2.1248e-01, -3.4176e-02, -3.9631e-02, -7.3949e-02,\n",
       "         5.7187e-03, -2.6929e-02,  2.0345e-02, -1.5389e-01, -1.2325e-01,\n",
       "         1.3120e-01, -3.6625e-02,  9.6374e-05,  9.1911e-02,  2.7797e-01],\n",
       "       dtype=torch.float64)"
      ]
     },
     "execution_count": 97,
     "metadata": {},
     "output_type": "execute_result"
    }
   ],
   "source": [
    "lol= ebnm_point_laplace(lhat , se_l  ) \n",
    "lol.post_mean\n"
   ]
  },
  {
   "cell_type": "code",
   "execution_count": null,
   "id": "1b46c073",
   "metadata": {},
   "outputs": [],
   "source": [
    "lol.w"
   ]
  },
  {
   "cell_type": "code",
   "execution_count": null,
   "id": "55aacff1",
   "metadata": {},
   "outputs": [],
   "source": []
  },
  {
   "cell_type": "code",
   "execution_count": null,
   "id": "572468e7",
   "metadata": {},
   "outputs": [
    {
     "data": {
      "text/plain": [
       "EBNMLaplaceResult(post_mean=tensor([ 9.1907e-02,  8.8043e-02, -2.4197e-01,  1.9613e-01,  4.7592e-02,\n",
       "        -8.1476e-02,  5.4882e-04,  1.2319e-01,  6.4525e-03,  4.1312e-03,\n",
       "        -8.0889e-02,  1.0900e-01,  6.4405e-02, -3.8893e-02,  6.0696e-02,\n",
       "         6.6198e-02,  1.0281e-01,  6.3409e-02, -7.4500e-02,  6.1882e-02,\n",
       "        -2.4771e-01, -1.6572e-01, -1.6256e-01,  2.3606e-02, -2.1550e-02,\n",
       "        -5.7464e-02,  5.0850e-02,  9.2471e-03,  2.3088e-01,  1.0008e-02,\n",
       "        -5.5912e-02,  2.1710e-01, -1.2094e-01, -1.2844e-01, -4.5781e-02,\n",
       "         2.2340e-01, -2.1248e-01, -3.4176e-02, -3.9631e-02, -7.3949e-02,\n",
       "         5.7187e-03, -2.6929e-02,  2.0345e-02, -1.5389e-01, -1.2325e-01,\n",
       "         1.3120e-01, -3.6625e-02,  9.6371e-05,  9.1911e-02,  2.7797e-01],\n",
       "       dtype=torch.float64), post_mean2=tensor([0.0143, 0.0135, 0.0646, 0.0450, 0.0064, 0.0067, 0.0026, 0.0217, 0.0027,\n",
       "        0.0026, 0.0066, 0.0181, 0.0091, 0.0022, 0.0084, 0.0094, 0.0167, 0.0089,\n",
       "        0.0054, 0.0086, 0.0675, 0.0320, 0.0308, 0.0037, 0.0035, 0.0029, 0.0069,\n",
       "        0.0028, 0.0597, 0.0028, 0.0028, 0.0536, 0.0169, 0.0192, 0.0022, 0.0564,\n",
       "        0.0509, 0.0024, 0.0021, 0.0053, 0.0027, 0.0031, 0.0034, 0.0277, 0.0176,\n",
       "        0.0238, 0.0022, 0.0026, 0.0143, 0.0836], dtype=torch.float64), post_sd=tensor([0.0765, 0.0758, 0.0781, 0.0810, 0.0646, 0.0073, 0.0511, 0.0805, 0.0515,\n",
       "        0.0513, 0.0053, 0.0791, 0.0701, 0.0256, 0.0689, 0.0706, 0.0783, 0.0698,\n",
       "        0.0000, 0.0693, 0.0783, 0.0674, 0.0665, 0.0559, 0.0552, 0.0000, 0.0657,\n",
       "        0.0519, 0.0801, 0.0521, 0.0000, 0.0805, 0.0474, 0.0519, 0.0087, 0.0803,\n",
       "        0.0761, 0.0349, 0.0241, 0.0000, 0.0514, 0.0488, 0.0548, 0.0635, 0.0488,\n",
       "        0.0810, 0.0301, 0.0511, 0.0765, 0.0794], dtype=torch.float64), pi0=0.18968745636495987, a=8.395122387081601, mu=0.0, log_lik=15.638037832789815)"
      ]
     },
     "execution_count": 98,
     "metadata": {},
     "output_type": "execute_result"
    }
   ],
   "source": [
    "ebnm_point_laplace(\n",
    "    x=lhat.double(),\n",
    "    s=se_l.double(),    # a=exp(0)=1\n",
    "    fix_par=[False,False, True] # optimize w only; fix a, mu\n",
    ")"
   ]
  },
  {
   "cell_type": "code",
   "execution_count": null,
   "id": "7cbbbd41",
   "metadata": {},
   "outputs": [
    {
     "data": {
      "text/plain": [
       "EBNMLaplaceResult(post_mean=tensor([ 9.1944e-02,  8.8078e-02, -2.4205e-01,  1.9621e-01,  4.7602e-02,\n",
       "        -8.1506e-02,  5.4881e-04,  1.2325e-01,  6.4524e-03,  4.1311e-03,\n",
       "        -8.0919e-02,  1.0905e-01,  6.4425e-02, -3.8899e-02,  6.0714e-02,\n",
       "         6.6219e-02,  1.0285e-01,  6.3428e-02, -7.4526e-02,  6.1900e-02,\n",
       "        -2.4780e-01, -1.6579e-01, -1.6264e-01,  2.3607e-02, -2.1551e-02,\n",
       "        -5.7479e-02,  5.0861e-02,  9.2470e-03,  2.3096e-01,  1.0008e-02,\n",
       "        -5.5926e-02,  2.1718e-01, -1.2099e-01, -1.2850e-01, -4.5791e-02,\n",
       "         2.2348e-01, -2.1256e-01, -3.4180e-02, -3.9637e-02, -7.3974e-02,\n",
       "         5.7186e-03, -2.6932e-02,  2.0346e-02, -1.5396e-01, -1.2330e-01,\n",
       "         1.3126e-01, -3.6631e-02,  9.6369e-05,  9.1948e-02,  2.7806e-01],\n",
       "       dtype=torch.float64), post_mean2=tensor([0.0143, 0.0135, 0.0647, 0.0451, 0.0064, 0.0067, 0.0026, 0.0217, 0.0027,\n",
       "        0.0026, 0.0066, 0.0181, 0.0091, 0.0022, 0.0084, 0.0094, 0.0167, 0.0089,\n",
       "        0.0054, 0.0086, 0.0675, 0.0320, 0.0309, 0.0037, 0.0035, 0.0029, 0.0069,\n",
       "        0.0028, 0.0598, 0.0028, 0.0028, 0.0536, 0.0169, 0.0192, 0.0022, 0.0564,\n",
       "        0.0510, 0.0024, 0.0021, 0.0053, 0.0027, 0.0031, 0.0034, 0.0277, 0.0176,\n",
       "        0.0238, 0.0022, 0.0026, 0.0143, 0.0836], dtype=torch.float64), post_sd=tensor([0.0766, 0.0758, 0.0781, 0.0811, 0.0646, 0.0077, 0.0511, 0.0805, 0.0515,\n",
       "        0.0513, 0.0060, 0.0791, 0.0701, 0.0255, 0.0690, 0.0706, 0.0783, 0.0698,\n",
       "        0.0000, 0.0693, 0.0783, 0.0675, 0.0665, 0.0559, 0.0552, 0.0000, 0.0658,\n",
       "        0.0519, 0.0801, 0.0521, 0.0000, 0.0805, 0.0475, 0.0519, 0.0087, 0.0803,\n",
       "        0.0761, 0.0348, 0.0240, 0.0000, 0.0514, 0.0487, 0.0548, 0.0636, 0.0489,\n",
       "        0.0810, 0.0300, 0.0511, 0.0766, 0.0794], dtype=torch.float64), pi0=0.18993674092368806, a=8.381726164579486, mu=0.0, log_lik=15.635368226667914)"
      ]
     },
     "execution_count": 99,
     "metadata": {},
     "output_type": "execute_result"
    }
   ],
   "source": [
    "ebnm_point_laplace(\n",
    "    x=lhat.double(),\n",
    "    s=se_l.double(),\n",
    "    par_init=[0.0, 2.0, 0.0],   # a=exp(0)=1\n",
    "    fix_par=[False,False, True] # optimize w only; fix a, mu\n",
    ")"
   ]
  }
 ],
 "metadata": {
  "kernelspec": {
   "display_name": "ml_env",
   "language": "python",
   "name": "python3"
  },
  "language_info": {
   "codemirror_mode": {
    "name": "ipython",
    "version": 3
   },
   "file_extension": ".py",
   "mimetype": "text/x-python",
   "name": "python",
   "nbconvert_exporter": "python",
   "pygments_lexer": "ipython3",
   "version": "3.10.8"
  }
 },
 "nbformat": 4,
 "nbformat_minor": 5
}
