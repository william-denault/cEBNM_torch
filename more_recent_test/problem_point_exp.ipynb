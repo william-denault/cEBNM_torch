{
 "cells": [
  {
   "cell_type": "code",
   "execution_count": 1,
   "id": "058450fc",
   "metadata": {},
   "outputs": [],
   "source": [
    "# ---- Reproducibility\n",
    "import random\n",
    "import torch\n",
    "\n",
    "seed = 1234\n",
    "random.seed(seed)\n",
    "torch.manual_seed(seed)\n",
    "if torch.cuda.is_available():\n",
    "    torch.cuda.manual_seed_all(seed)\n"
   ]
  },
  {
   "cell_type": "code",
   "execution_count": 2,
   "id": "3a4ac569",
   "metadata": {},
   "outputs": [
    {
     "name": "stdout",
     "output_type": "stream",
     "text": [
      "Rank-1 Matrix (Outer Product):\n",
      "[[0.0369924  0.12349849 0.01266485 ... 0.20919041 0.20178125 0.15269329]\n",
      " [0.01256629 0.04195233 0.00430224 ... 0.0710618  0.06854491 0.05186978]\n",
      " [0.07442166 0.24845541 0.02547927 ... 0.42085123 0.40594542 0.3071898 ]\n",
      " ...\n",
      " [0.13003676 0.43412546 0.04451985 ... 0.73535219 0.70930731 0.53675188]\n",
      " [0.02568535 0.08575008 0.00879373 ... 0.14524951 0.14010503 0.10602124]\n",
      " [0.01213768 0.04052142 0.0041555  ... 0.06863803 0.06620699 0.05010061]]\n",
      "\n",
      "Noisy Matrix (with Homoscedastic Noise):\n",
      "[[ 0.14788041  0.16955928  0.1824038  ...  0.06284919  0.26615598\n",
      "   0.04153663]\n",
      " [-0.07975735  0.07738678 -0.06536086 ...  0.08710195  0.01799688\n",
      "   0.10035783]\n",
      " [ 0.15693369  0.13496091 -0.12057474 ...  0.40187727  0.53974668\n",
      "   0.3314774 ]\n",
      " ...\n",
      " [ 0.16086152  0.64130937  0.12866035 ...  0.67670073  0.59595961\n",
      "   0.57849158]\n",
      " [-0.06675871 -0.03323521 -0.03429034 ...  0.1487228   0.2078188\n",
      "   0.18898802]\n",
      " [-0.14480705  0.07884231  0.03359961 ... -0.16932926  0.1779711\n",
      "   0.1486646 ]]\n"
     ]
    }
   ],
   "source": [
    "\n",
    "\n",
    "# ---- Parameters\n",
    "n, p = 50, 40\n",
    "noise_std = 0.1\n",
    "\n",
    "# (Optional) choose device\n",
    "device = torch.device(\"cuda\" if torch.cuda.is_available() else \"cpu\")\n",
    "\n",
    "# ---- Data generation (PyTorch)\n",
    "# Use float64 to mirror NumPy defaults\n",
    "u = torch.rand(n, dtype=torch.float64, device=device)          # length n\n",
    "v = torch.rand(p, dtype=torch.float64, device=device)          # length p\n",
    "\n",
    "# Rank-1 matrix via outer product\n",
    "rank_1_matrix = torch.outer(u, v)                              # (n, p)\n",
    "\n",
    "# Homoscedastic Gaussian noise\n",
    "noise = noise_std * torch.randn(n, p, dtype=torch.float64, device=device)\n",
    "\n",
    "noisy_matrix = rank_1_matrix + noise\n",
    "\n",
    "# ---- Print (move to CPU for readability if needed)\n",
    "print(\"Rank-1 Matrix (Outer Product):\")\n",
    "print(rank_1_matrix.cpu().numpy())\n",
    "\n",
    "print(\"\\nNoisy Matrix (with Homoscedastic Noise):\")\n",
    "print(noisy_matrix.cpu().numpy())\n"
   ]
  },
  {
   "cell_type": "code",
   "execution_count": 3,
   "id": "288daa18",
   "metadata": {},
   "outputs": [],
   "source": [
    "import sys\n",
    "import os\n",
    "import matplotlib.pyplot as plt\n",
    "from cebmf_torch import cEBMF"
   ]
  },
  {
   "cell_type": "code",
   "execution_count": 4,
   "id": "5b5272bf",
   "metadata": {},
   "outputs": [],
   "source": [
    "mycebmf=  cEBMF(data= noisy_matrix,\n",
    "                prior_L=\"point_exp\",\n",
    "                  prior_F=\"point_exp\") "
   ]
  },
  {
   "cell_type": "code",
   "execution_count": null,
   "id": "8d4e3633",
   "metadata": {},
   "outputs": [],
   "source": [
    " "
   ]
  },
  {
   "cell_type": "code",
   "execution_count": 5,
   "id": "12ac914e",
   "metadata": {},
   "outputs": [
    {
     "name": "stdout",
     "output_type": "stream",
     "text": [
      "tensor([ 0.0080, -0.1905,  0.2605, -0.2120,  0.2116,  0.1896, -0.2458, -0.2640,\n",
      "         0.1057,  0.1225,  0.0676,  0.0620, -0.0016,  0.1750,  0.1087, -0.0761,\n",
      "         0.1078, -0.4832,  0.0641,  0.1960, -0.2287, -0.0704, -0.2441,  0.0377,\n",
      "        -0.2611, -0.1291,  0.3901, -0.0387, -0.1331, -0.2875, -0.2095,  0.1439,\n",
      "        -0.0307, -0.0648,  0.0598, -0.0430,  0.1896,  0.1109,  0.0643, -0.0023,\n",
      "        -0.0328, -0.2137,  0.0720,  0.0039, -0.1591, -0.2714, -0.0136,  0.1367,\n",
      "         0.0542,  0.2452])\n",
      "tensor([ 0.0610,  0.0381, -0.0373,  0.1844, -0.0388, -0.1764,  0.0488, -0.3281,\n",
      "        -0.0793,  0.0009,  0.2299,  0.1970,  0.0735, -0.2066,  0.0725, -0.2878,\n",
      "        -0.0727,  0.3067, -0.2505,  0.0539,  0.1928,  0.0201, -0.0158,  0.1157,\n",
      "         0.1509,  0.0815,  0.0377,  0.1380,  0.1188, -0.1703, -0.0225, -0.0766,\n",
      "        -0.2759,  0.2154,  0.2396, -0.1764, -0.0045, -0.1609,  0.1603,  0.0669])\n"
     ]
    }
   ],
   "source": [
    "mycebmf.initialize()\n",
    "print(mycebmf.L[:,1])\n",
    "print(mycebmf.F[:,1])"
   ]
  },
  {
   "cell_type": "code",
   "execution_count": 6,
   "id": "42a6bf92",
   "metadata": {},
   "outputs": [
    {
     "data": {
      "text/plain": [
       "<matplotlib.collections.PathCollection at 0x13bdd990e20>"
      ]
     },
     "execution_count": 6,
     "metadata": {},
     "output_type": "execute_result"
    },
    {
     "data": {
      "image/png": "[encoded data removed]",
      "text/plain": [
       "<Figure size 640x480 with 1 Axes>"
      ]
     },
     "metadata": {},
     "output_type": "display_data"
    }
   ],
   "source": [
    "plt.scatter( mycebmf.L[:,0],u)"
   ]
  },
  {
   "cell_type": "code",
   "execution_count": 7,
   "id": "8905b3c9",
   "metadata": {},
   "outputs": [],
   "source": [
    "mycebmf.initialize () \n",
    "tau_map=None\n",
    "eps=1e-12"
   ]
  },
  {
   "cell_type": "code",
   "execution_count": 8,
   "id": "78287e57",
   "metadata": {},
   "outputs": [
    {
     "name": "stdout",
     "output_type": "stream",
     "text": [
      "tensor(0.0050)\n",
      "tensor(0.3803)\n",
      "tensor(0.4633)\n",
      "tensor(0.4120)\n",
      "tensor(0.3384)\n",
      "tensor([[0.0099, 0.2902, 0.1756, 0.5005, 0.0739],\n",
      "        [0.0099, 1.1556, 1.1131, 0.8634, 0.5329],\n",
      "        [0.0099, 0.0739, 0.1353, 0.1046, 0.0567],\n",
      "        [0.0099, 1.9673, 1.2419, 0.9136, 0.9686],\n",
      "        [0.0099, 0.9058, 0.8045, 0.5395, 0.5011],\n",
      "        [0.0099, 0.0666, 0.1139, 0.0265, 0.0537],\n",
      "        [0.0099, 2.0321, 1.4603, 1.3061, 0.7188],\n",
      "        [0.0099, 1.0898, 1.2675, 0.7349, 0.6748],\n",
      "        [0.0099, 1.1780, 1.0684, 0.8081, 0.5637],\n",
      "        [0.0099, 1.9248, 1.2288, 0.8486, 1.0703],\n",
      "        [0.0099, 0.6553, 0.4867, 0.3691, 0.1108],\n",
      "        [0.0099, 2.0085, 1.3303, 0.9018, 0.6177],\n",
      "        [0.0099, 0.3227, 0.0839, 0.0987, 0.0582],\n",
      "        [0.0099, 1.3629, 1.2521, 0.7512, 0.6092],\n",
      "        [0.0099, 2.1506, 1.6113, 1.1451, 0.8660],\n",
      "        [0.0099, 0.4104, 0.7868, 0.4029, 0.3374],\n",
      "        [0.0099, 1.9762, 1.3215, 1.1184, 0.7850],\n",
      "        [0.0099, 0.4012, 0.1831, 0.1015, 0.0300],\n",
      "        [0.0099, 1.4049, 1.5904, 0.9922, 0.7653],\n",
      "        [0.0099, 1.0466, 0.8745, 0.5723, 0.4194],\n",
      "        [0.0099, 1.1469, 0.7490, 0.6819, 0.4525],\n",
      "        [0.0099, 1.5846, 1.3850, 1.1043, 0.4202],\n",
      "        [0.0099, 1.8678, 1.4504, 0.8548, 0.8256],\n",
      "        [0.0099, 0.7492, 0.3728, 0.3094, 0.2499],\n",
      "        [0.0099, 1.1599, 0.5894, 0.3737, 0.0448],\n",
      "        [0.0099, 0.4207, 0.2101, 0.1658, 0.0343],\n",
      "        [0.0099, 0.9031, 0.9416, 0.3373, 0.6043],\n",
      "        [0.0099, 0.9843, 0.3578, 0.4744, 0.5934],\n",
      "        [0.0099, 1.6500, 0.8216, 0.8057, 0.8126],\n",
      "        [0.0099, 1.3596, 1.2969, 0.9315, 0.9213],\n",
      "        [0.0099, 1.5955, 1.1471, 0.9298, 0.7525],\n",
      "        [0.0099, 1.2126, 1.3807, 0.4231, 0.6944],\n",
      "        [0.0099, 0.7074, 0.6442, 0.7661, 0.5132],\n",
      "        [0.0099, 1.2481, 0.7206, 0.7457, 0.6637],\n",
      "        [0.0099, 1.8704, 1.3368, 0.9611, 0.8695],\n",
      "        [0.0099, 1.6115, 1.4097, 1.0015, 0.7803],\n",
      "        [0.0099, 1.8897, 1.5771, 0.8315, 0.7641],\n",
      "        [0.0099, 1.5543, 1.1483, 1.0368, 0.9281],\n",
      "        [0.0099, 1.9586, 1.3649, 0.8794, 0.8903],\n",
      "        [0.0099, 1.5002, 1.3922, 0.3094, 0.7515]])\n"
     ]
    }
   ],
   "source": [
    "for k in range (mycebmf.K):\n",
    "# ---------- Update L[:, k] ----------\n",
    "        Rk = mycebmf._partial_residual_masked(k)            # (N,P), zeros where missing\n",
    "        fk  = mycebmf.F[:, k]                                # (P,)\n",
    "        fk2 = mycebmf.F2[:, k]                               # (P,)\n",
    "\n",
    "        if tau_map is None:\n",
    "            denom_l = (fk2.view(1, -1) * mycebmf.mask).sum(dim=1).clamp_min(eps)     # (N,)\n",
    "            num_l   = (Rk @ fk)                                                   # (N,)\n",
    "            se_l    = torch.sqrt(1.0 / (mycebmf.tau * denom_l))\n",
    "        else:\n",
    "            denom_l = (tau_map * (fk2.view(1, -1) * mycebmf.mask)).sum(dim=1).clamp_min(eps)  # (N,)\n",
    "            num_l   = (tau_map * Rk) @ fk                                                 # (N,)\n",
    "            se_l    = torch.sqrt(1.0 / denom_l)\n",
    "\n",
    "        lhat = num_l / denom_l\n",
    "       # print(denom_l)\n",
    "        resL = mycebmf.prior_L_fn(\n",
    "            X=getattr(mycebmf, \"X_l\", None),\n",
    "            betahat=lhat,\n",
    "            sebetahat=se_l,\n",
    "            model_param=mycebmf.model_state_L[k]\n",
    "        )\n",
    "        mycebmf.model_state_L[k] = resL.model_param\n",
    "        mycebmf.L[:, k]  = resL.post_mean\n",
    "        mycebmf.L2[:, k] = resL.post_mean2\n",
    "        mycebmf.kl_l[k]  = torch.as_tensor(resL.loss, device=mycebmf.device)\n",
    "\n",
    "    # ---------- Update F[:, k] ----------\n",
    "        Rk = mycebmf._partial_residual_masked(k)            # recompute with updated L\n",
    "        lk  = mycebmf.L[:, k]                               # (N,)\n",
    "        lk2 = mycebmf.L2[:, k]                              # (N,)\n",
    "\n",
    "        if tau_map is None:\n",
    "            denom_f = (lk2.view(-1, 1) * mycebmf.mask).sum(dim=0).clamp_min(eps)      # (P,)\n",
    "            num_f   = (Rk.T @ lk)                                                  # (P,)\n",
    "            se_f    = torch.sqrt(1.0 / (mycebmf.tau * denom_f))\n",
    "        else:\n",
    "            denom_f = (tau_map * (lk2.view(-1, 1) * mycebmf.mask)).sum(dim=0).clamp_min(eps)  # (P,)\n",
    "            num_f   = (tau_map * Rk).T @ lk                                                # (P,)\n",
    "            se_f    = torch.sqrt(1.0 / denom_f)\n",
    "\n",
    "        fhat = num_f / denom_f\n",
    "        print(denom_f[1])\n",
    "        resF = mycebmf.prior_F_fn(\n",
    "            X=getattr(mycebmf, \"X_f\", None),\n",
    "            betahat=fhat,\n",
    "            sebetahat=se_f,\n",
    "            model_param=mycebmf.model_state_F[k]\n",
    "        )\n",
    "        mycebmf.model_state_F[k] = resF.model_param\n",
    "        mycebmf.F[:, k]  = resF.post_mean\n",
    "        mycebmf.F2[:, k] = resF.post_mean2\n",
    "        mycebmf.kl_f[k]  = torch.as_tensor(resF.loss, device=mycebmf.device)\n",
    " \n",
    "print(mycebmf.F)"
   ]
  },
  {
   "cell_type": "code",
   "execution_count": 46,
   "id": "d956308e",
   "metadata": {},
   "outputs": [],
   "source": [
    "mycebmf=  cEBMF(data= noisy_matrix,\n",
    "                prior_L=\"point_exp\",\n",
    "                  prior_F=\"point_exp\") \n",
    "mycebmf.initialize()"
   ]
  },
  {
   "cell_type": "code",
   "execution_count": 61,
   "id": "30556c96",
   "metadata": {},
   "outputs": [
    {
     "name": "stdout",
     "output_type": "stream",
     "text": [
      "tensor(9523.1523)\n",
      "tensor(0.0050)\n",
      "tensor(0.0233)\n",
      "tensor(0.9852)\n",
      "tensor(0.2290)\n",
      "tensor([[3.2400e-03, 9.8756e-03, 3.4147e-01, 9.7764e-03, 4.2233e-01],\n",
      "        [1.7702e-02, 9.8756e-03, 3.4614e-01, 9.3987e-03, 9.4827e-01],\n",
      "        [7.3239e-04, 9.8756e-03, 2.8266e-01, 9.3516e-03, 1.6743e-01],\n",
      "        [2.7363e-02, 9.8756e-03, 4.2259e-01, 9.8080e-03, 9.3800e-01],\n",
      "        [1.6105e-02, 9.8756e-03, 4.8635e-01, 1.0045e-02, 3.5990e-01],\n",
      "        [1.1311e-03, 9.8756e-03, 3.7353e-01, 9.0014e-03, 8.8537e-02],\n",
      "        [3.1768e-02, 9.8756e-03, 3.0803e-01, 1.0097e-02, 8.8204e-01],\n",
      "        [2.5603e-02, 9.8756e-03, 4.4524e-01, 9.9937e-03, 2.2160e-01],\n",
      "        [2.0846e-02, 9.8756e-03, 3.5250e-01, 9.6877e-03, 6.0870e-01],\n",
      "        [3.3288e-02, 9.8756e-03, 4.6929e-01, 1.0055e-02, 1.3366e-01],\n",
      "        [4.1305e-03, 9.8756e-03, 4.7619e-01, 9.6193e-03, 9.9399e-01],\n",
      "        [2.5760e-02, 9.8756e-03, 6.2502e-01, 1.0420e-02, 9.0200e-01],\n",
      "        [3.0829e-03, 9.8756e-03, 4.3356e-01, 9.6962e-03, 1.2312e-01],\n",
      "        [2.2697e-02, 9.8756e-03, 1.0083e+00, 1.0264e-02, 5.9917e-01],\n",
      "        [3.1749e-02, 9.8756e-03, 7.6617e-01, 9.7433e-03, 9.7495e-01],\n",
      "        [1.0009e-02, 9.8756e-03, 4.3248e-01, 1.0041e-02, 3.6079e-01],\n",
      "        [3.6011e-02, 9.8756e-03, 3.4355e-01, 1.0005e-02, 1.7038e-01],\n",
      "        [2.8421e-03, 9.8756e-03, 4.8169e-01, 9.1819e-03, 2.3020e-01],\n",
      "        [2.5767e-02, 9.8756e-03, 8.8799e-01, 1.0152e-02, 7.5110e-01],\n",
      "        [1.5636e-02, 9.8756e-03, 7.2285e-01, 9.8396e-03, 3.0486e-01],\n",
      "        [1.4752e-02, 9.8756e-03, 2.9817e-01, 9.8614e-03, 9.8391e-01],\n",
      "        [2.2783e-02, 9.8756e-03, 4.8587e-01, 9.8656e-03, 1.2805e+00],\n",
      "        [2.8275e-02, 9.8756e-03, 4.2857e-01, 9.7581e-03, 1.0364e+00],\n",
      "        [1.2111e-02, 9.8756e-03, 2.6821e-01, 9.1928e-03, 1.5912e-01],\n",
      "        [1.1565e-02, 9.8756e-03, 4.2926e-01, 9.6873e-03, 7.6893e-01],\n",
      "        [3.7310e-03, 9.8756e-03, 4.1244e-01, 9.8728e-03, 2.3428e-01],\n",
      "        [1.4813e-02, 9.8756e-03, 1.8535e+00, 1.0229e-02, 1.4465e-01],\n",
      "        [1.2691e-02, 9.8756e-03, 4.1508e-01, 9.9842e-03, 1.8044e-01],\n",
      "        [2.5580e-02, 9.8756e-03, 4.9381e-01, 1.0363e-02, 1.8153e-01],\n",
      "        [2.3636e-02, 9.8756e-03, 7.8510e-01, 1.1074e-02, 6.1785e-01],\n",
      "        [2.6423e-02, 9.8756e-03, 3.7598e-01, 1.0647e-02, 3.1797e-01],\n",
      "        [1.8899e-02, 9.8756e-03, 2.5653e+00, 1.0126e-02, 2.5276e-01],\n",
      "        [1.6045e-02, 9.8756e-03, 2.8688e-01, 1.0148e-02, 2.8131e-01],\n",
      "        [1.6735e-02, 9.8756e-03, 4.5204e-01, 1.0122e-02, 2.9087e-01],\n",
      "        [3.0346e-02, 9.8756e-03, 5.5624e-01, 9.5035e-03, 3.1458e-01],\n",
      "        [2.8322e-02, 9.8756e-03, 3.4218e-01, 1.0202e-02, 6.7294e-01],\n",
      "        [3.1241e-02, 9.8756e-03, 1.0664e+00, 1.0316e-02, 5.3501e-01],\n",
      "        [3.1051e-02, 9.8756e-03, 3.1642e-01, 1.0150e-02, 3.0542e-01],\n",
      "        [2.7454e-02, 9.8756e-03, 1.0476e+00, 1.0163e-02, 4.4419e-01],\n",
      "        [1.8306e-02, 9.8756e-03, 2.5653e+00, 9.9125e-03, 6.9298e-01]])\n"
     ]
    },
    {
     "data": {
      "text/plain": [
       "<matplotlib.collections.PathCollection at 0x13be37bb9a0>"
      ]
     },
     "execution_count": 61,
     "metadata": {},
     "output_type": "execute_result"
    },
    {
     "data": {
      "image/png": "[encoded data removed]",
      "text/plain": [
       "<Figure size 640x480 with 1 Axes>"
      ]
     },
     "metadata": {},
     "output_type": "display_data"
    }
   ],
   "source": [
    "mycebmf.iter_once()  \n",
    "mycebmf.update_fitted_value()\n",
    "print(mycebmf.F)\n",
    "plt.scatter(mycebmf.Y_fit, noisy_matrix)\n",
    " \n",
    "plt.scatter(mycebmf.Y_fit, rank_1_matrix)"
   ]
  },
  {
   "cell_type": "code",
   "execution_count": 11,
   "id": "5259328c",
   "metadata": {},
   "outputs": [
    {
     "data": {
      "text/plain": [
       "tensor([[1.0000e-04, 7.7899e-04, 1.2892e-02, 4.8845e-02, 7.2173e-04],\n",
       "        [1.0000e-04, 6.9659e-05, 1.0829e-02, 1.7804e-03, 4.0716e-03],\n",
       "        [1.0000e-04, 4.8381e-02, 3.7041e-05, 2.8822e-03, 5.9370e-04],\n",
       "        [1.0000e-04, 5.7427e-05, 4.5113e-02, 8.8694e-04, 4.0936e-02],\n",
       "        [1.0000e-04, 2.7588e-02, 4.3183e-03, 3.0143e-02, 1.0568e-04],\n",
       "        [1.0000e-04, 2.0004e-02, 1.4574e-04, 2.5273e-03, 1.4389e-03],\n",
       "        [1.0000e-04, 4.3227e-05, 8.9942e-04, 3.2507e-03, 2.6995e-05],\n",
       "        [1.0000e-04, 3.7442e-05, 1.9241e-02, 3.5441e-04, 9.1021e-04],\n",
       "        [1.0000e-04, 4.3917e-03, 1.2020e-03, 4.4234e-02, 8.6074e-03],\n",
       "        [1.0000e-04, 6.0569e-03, 1.0067e-03, 4.0017e-03, 2.9133e-04],\n",
       "        [1.0000e-04, 2.1554e-03, 1.5021e-04, 1.2063e-04, 3.6063e-04],\n",
       "        [1.0000e-04, 1.9450e-03, 1.5323e-02, 1.6926e-04, 7.3672e-02],\n",
       "        [1.0000e-04, 6.7054e-04, 6.9780e-03, 1.9559e-02, 4.5495e-04],\n",
       "        [1.0000e-04, 1.5777e-02, 2.7804e-04, 1.0355e-03, 1.1909e-04],\n",
       "        [1.0000e-04, 4.6519e-03, 5.9336e-03, 1.2577e-03, 6.2251e-04],\n",
       "        [1.0000e-04, 2.3752e-04, 6.9545e-03, 3.9695e-03, 2.7924e-03],\n",
       "        [1.0000e-04, 4.5766e-03, 1.3692e-02, 2.3659e-05, 6.7631e-05],\n",
       "        [1.0000e-04, 9.4433e-06, 6.4719e-03, 1.6224e-03, 1.3629e-04],\n",
       "        [1.0000e-04, 2.0213e-03, 1.6238e-04, 4.7125e-05, 1.8424e-04],\n",
       "        [1.0000e-04, 2.2077e-02, 5.8215e-03, 1.4848e-03, 2.5959e-02],\n",
       "        [1.0000e-04, 4.9778e-05, 3.8136e-05, 2.1009e-02, 2.8227e-03],\n",
       "        [1.0000e-04, 2.5539e-04, 6.8556e-05, 7.1931e-04, 3.1027e-04],\n",
       "        [1.0000e-04, 4.3845e-05, 7.0310e-05, 4.3988e-04, 1.9738e-03],\n",
       "        [1.0000e-04, 1.2698e-03, 2.0587e-03, 1.0974e-03, 5.6217e-04],\n",
       "        [1.0000e-04, 3.8300e-05, 4.3486e-04, 1.3748e-03, 1.9746e-03],\n",
       "        [1.0000e-04, 1.2843e-04, 2.0737e-04, 5.3962e-04, 2.1196e-02],\n",
       "        [1.0000e-04, 1.2150e-01, 3.8638e-03, 1.8722e-04, 2.7407e-03],\n",
       "        [1.0000e-04, 3.8906e-04, 1.2997e-03, 2.0226e-02, 4.4259e-03],\n",
       "        [1.0000e-04, 1.2301e-04, 6.0954e-02, 2.5637e-03, 2.5180e-03],\n",
       "        [1.0000e-04, 3.1335e-05, 1.2626e-03, 2.9866e-04, 1.3559e-02],\n",
       "        [1.0000e-04, 5.8682e-05, 2.1643e-04, 7.5152e-03, 2.0566e-04],\n",
       "        [1.0000e-04, 9.0768e-03, 5.6998e-02, 6.4124e-02, 4.9255e-05],\n",
       "        [1.0000e-04, 4.3561e-04, 9.9918e-05, 9.8715e-05, 2.6785e-03],\n",
       "        [1.0000e-04, 2.7416e-04, 9.4018e-05, 2.2135e-03, 8.8302e-03],\n",
       "        [1.0000e-04, 1.8707e-03, 2.5192e-04, 2.2971e-03, 1.2577e-03],\n",
       "        [1.0000e-04, 3.6680e-04, 5.7010e-02, 5.3364e-05, 1.4722e-03],\n",
       "        [1.0000e-04, 2.0003e-02, 4.9484e-05, 6.5046e-02, 7.6765e-03],\n",
       "        [1.0000e-04, 4.8528e-03, 3.1377e-04, 1.0946e-03, 5.0915e-03],\n",
       "        [1.0000e-04, 2.0271e-03, 2.8087e-04, 1.4960e-04, 8.8805e-04],\n",
       "        [1.0000e-04, 6.6252e-04, 1.6803e-04, 9.6343e-03, 2.3267e-03],\n",
       "        [1.0000e-04, 4.2294e-04, 1.0750e-03, 6.0649e-04, 3.4782e-03],\n",
       "        [1.0000e-04, 5.6563e-05, 3.7874e-04, 2.2154e-03, 2.8685e-02],\n",
       "        [1.0000e-04, 2.3365e-03, 1.8401e-03, 2.4645e-03, 4.9391e-03],\n",
       "        [1.0000e-04, 7.2988e-04, 7.5186e-05, 1.2086e-04, 1.3573e-04],\n",
       "        [1.0000e-04, 9.4034e-05, 9.8008e-05, 1.9963e-04, 5.0647e-04],\n",
       "        [1.0000e-04, 3.5375e-05, 2.1926e-02, 5.1969e-03, 9.9544e-05],\n",
       "        [1.0000e-04, 5.5832e-04, 3.0820e-04, 9.7592e-03, 1.7029e-02],\n",
       "        [1.0000e-04, 7.9209e-03, 8.9983e-04, 2.1078e-02, 1.6390e-03],\n",
       "        [1.0000e-04, 1.6919e-03, 1.1458e-02, 4.3773e-04, 3.3288e-02],\n",
       "        [1.0000e-04, 4.1466e-02, 8.2058e-02, 1.0709e-03, 3.9228e-03]])"
      ]
     },
     "execution_count": 11,
     "metadata": {},
     "output_type": "execute_result"
    }
   ],
   "source": [
    "mycebmf.L2"
   ]
  },
  {
   "cell_type": "code",
   "execution_count": 12,
   "id": "7bb3bac3",
   "metadata": {},
   "outputs": [],
   "source": [
    "mycebmf.update_fitted_value()"
   ]
  },
  {
   "cell_type": "code",
   "execution_count": 13,
   "id": "e7ac7570",
   "metadata": {},
   "outputs": [
    {
     "data": {
      "text/plain": [
       "<matplotlib.collections.PathCollection at 0x13be0de34f0>"
      ]
     },
     "execution_count": 13,
     "metadata": {},
     "output_type": "execute_result"
    },
    {
     "data": {
      "image/png": "[encoded data removed]",
      "text/plain": [
       "<Figure size 640x480 with 1 Axes>"
      ]
     },
     "metadata": {},
     "output_type": "display_data"
    }
   ],
   "source": [
    "plt.scatter(mycebmf.Y_fit, noisy_matrix)\n",
    " \n",
    "plt.scatter(mycebmf.Y_fit, rank_1_matrix)"
   ]
  },
  {
   "cell_type": "code",
   "execution_count": null,
   "id": "859c5319",
   "metadata": {},
   "outputs": [],
   "source": []
  },
  {
   "cell_type": "code",
   "execution_count": 14,
   "id": "f0bd69a7",
   "metadata": {},
   "outputs": [],
   "source": [
    "from cebmf_torch.torch_main import *\n",
    "mycebmf=  cEBMF(data= noisy_matrix,\n",
    "                prior_L=\"point_exp\",\n",
    "                  prior_F=\"point_exp\") \n",
    "mycebmf.initialize()\n",
    "k=0"
   ]
  },
  {
   "cell_type": "code",
   "execution_count": null,
   "id": "67027da2",
   "metadata": {},
   "outputs": [],
   "source": []
  },
  {
   "cell_type": "code",
   "execution_count": null,
   "id": "ec81ccef",
   "metadata": {},
   "outputs": [],
   "source": []
  },
  {
   "cell_type": "code",
   "execution_count": 15,
   "id": "6c5f3f92",
   "metadata": {},
   "outputs": [
    {
     "data": {
      "text/plain": [
       "tensor([[-1.0800e+00,  8.0196e-03,  1.5701e-01,  2.6303e-01, -4.1739e-02],\n",
       "        [-1.7109e-01, -1.9046e-01,  1.4650e-01,  3.7131e-02,  8.8875e-02],\n",
       "        [-2.1563e+00,  2.6045e-01, -2.9440e-01,  5.0543e-02, -4.6051e-02],\n",
       "        [-1.7606e+00, -2.1199e-01,  2.5109e-01, -1.1951e-02,  2.4847e-01],\n",
       "        [-1.5449e+00,  2.1157e-01,  9.9516e-02,  2.0594e-01, -2.2076e-01],\n",
       "        [-1.2314e+00,  1.8960e-01, -1.3784e-01,  5.0737e-02,  2.0818e-02],\n",
       "        [-7.6256e-01, -2.4581e-01,  2.3146e-03,  7.5396e-02, -4.0319e-01],\n",
       "        [-1.1439e+00, -2.6397e-01,  1.8187e-01, -8.0567e-02, -8.1205e-03],\n",
       "        [-1.0905e+00,  1.0566e-01,  2.1918e-02,  2.5164e-01,  1.1956e-01],\n",
       "        [-3.9036e+00,  1.2250e-01,  1.1006e-02,  8.3848e-02, -1.0205e-01],\n",
       "        [-3.3608e+00,  6.7632e-02, -1.3782e-01, -1.8388e-01, -7.9343e-02],\n",
       "        [-2.8256e-01,  6.1964e-02,  1.6782e-01, -1.5000e-01,  3.2100e-01],\n",
       "        [-3.1371e+00, -1.5682e-03,  1.2186e-01,  1.8391e-01, -6.9569e-02],\n",
       "        [-2.6537e+00,  1.7499e-01, -8.0762e-02, -5.0424e-03, -1.9304e-01],\n",
       "        [-1.1513e+00,  1.0867e-01,  1.1378e-01,  1.2128e-02, -3.7015e-02],\n",
       "        [-1.3913e+00, -7.6145e-02,  1.2153e-01,  8.6103e-02,  6.4852e-02],\n",
       "        [-1.3740e+00,  1.0782e-01,  1.6148e-01, -4.1494e-01, -2.6208e-01],\n",
       "        [-7.5712e-01, -4.8320e-01,  1.1743e-01,  3.1841e-02, -1.7631e-01],\n",
       "        [-3.1971e+00,  6.4094e-02, -1.3046e-01, -3.0206e-01, -1.4250e-01],\n",
       "        [-2.6375e+00,  1.9603e-01,  1.1535e-01,  1.5738e-02,  2.0656e-01],\n",
       "        [-1.1854e+00, -2.2867e-01, -2.9677e-01,  1.9078e-01,  5.9602e-02],\n",
       "        [-1.4123e+00, -7.0387e-02, -2.2162e-01, -2.2893e-02, -9.2731e-02],\n",
       "        [-1.5185e+00, -2.4405e-01, -2.1875e-01, -6.0345e-02,  4.6484e-02],\n",
       "        [-1.5451e+00,  3.7692e-02,  5.3646e-02,  5.5653e-03, -4.3632e-02],\n",
       "        [-3.5696e-01, -2.6105e-01, -4.8496e-02,  2.1996e-02,  4.5653e-02],\n",
       "        [-2.8822e-01, -1.2909e-01, -1.0871e-01, -4.4381e-02,  1.9616e-01],\n",
       "        [-2.1206e+00,  3.9007e-01,  9.9799e-02, -1.6718e-01,  5.6170e-02],\n",
       "        [-1.2886e+00, -3.8711e-02,  2.5837e-02,  1.8736e-01,  8.6870e-02],\n",
       "        [-3.7495e+00, -1.3310e-01,  2.8506e-01,  5.6030e-02,  5.5489e-02],\n",
       "        [-1.8378e+00, -2.8753e-01,  2.3898e-02, -9.3194e-02,  1.6521e-01],\n",
       "        [-3.9335e+00, -2.0952e-01, -1.0498e-01,  1.2492e-01, -1.3550e-01],\n",
       "        [-1.3211e+00,  1.4394e-01,  2.7879e-01,  2.8786e-01, -3.3056e-01],\n",
       "        [-3.3329e+00, -3.0673e-02, -1.7941e-01, -2.0532e-01,  6.5975e-02],\n",
       "        [-1.9320e+00, -6.4846e-02, -1.8599e-01,  5.2030e-02,  1.3676e-01],\n",
       "        [-1.3153e+00,  5.9796e-02, -9.1383e-02,  5.3043e-02,  1.4722e-02],\n",
       "        [-3.8683e+00, -4.2975e-02,  2.7704e-01, -2.8827e-01,  2.3012e-02],\n",
       "        [-4.8066e-01,  1.8960e-01, -2.5840e-01,  2.9030e-01,  1.0629e-01],\n",
       "        [-5.3172e-01,  1.1089e-01, -7.2663e-02,  3.5995e-03,  1.0309e-01],\n",
       "        [-2.1271e+00,  6.4250e-02, -8.2268e-02, -1.6076e-01, -8.0659e-03],\n",
       "        [-1.1181e+00, -2.3487e-03, -1.2762e-01,  1.3920e-01,  5.1571e-02],\n",
       "        [-1.8677e+00, -3.2754e-02,  1.3962e-02, -3.5963e-02,  8.1290e-02],\n",
       "        [-1.7295e+00, -2.1372e-01, -5.8995e-02,  5.2264e-02,  2.1876e-01],\n",
       "        [-4.1114e+00,  7.2044e-02,  4.7318e-02,  5.6729e-02,  1.0055e-01],\n",
       "        [-3.8303e-01,  3.8863e-03, -2.1074e-01, -1.8264e-01, -1.7477e-01],\n",
       "        [-3.2977e+00, -1.5914e-01, -1.8159e-01, -1.3019e-01, -5.0413e-02],\n",
       "        [-8.7760e-01, -2.7135e-01,  1.9075e-01,  1.0067e-01, -2.1614e-01],\n",
       "        [-3.1488e+00, -1.3637e-02, -7.5074e-02,  1.4003e-01,  1.7523e-01],\n",
       "        [-3.4296e+00,  1.3665e-01,  4.0598e-03,  1.8605e-01,  2.3113e-02],\n",
       "        [-6.1188e-01,  5.4167e-02,  1.5028e-01, -6.3751e-02,  2.3114e-01],\n",
       "        [-4.4484e-01,  2.4524e-01,  3.3110e-01, -1.6884e-02,  7.7175e-02]])"
      ]
     },
     "execution_count": 15,
     "metadata": {},
     "output_type": "execute_result"
    }
   ],
   "source": [
    " \n",
    "\n",
    "mycebmf.L"
   ]
  },
  {
   "cell_type": "code",
   "execution_count": 16,
   "id": "3da8f8e0",
   "metadata": {},
   "outputs": [],
   "source": [
    "\n",
    "k=0\n",
    "Rk = mycebmf._partial_residual_masked(k)            # (N,P), zeros where missing\n",
    "fk  = mycebmf.F[:, k]                                # (P,)\n",
    "fk2 = mycebmf.F2[:, k]                               # (P,)\n",
    "\n",
    "eps = 1e-12\n",
    "denom_l = (fk2.view(1, -1) * mycebmf.mask).sum(dim=1).clamp_min(eps)     # (N,)\n",
    "num_l   = (Rk @ fk)                                                   # (N,)\n",
    "se_l    = torch.sqrt(1.0 / (mycebmf.tau * denom_l))\n",
    "\n",
    "\n",
    "lhat = num_l / denom_l\n",
    "\n",
    "resL = mycebmf.prior_L_fn(\n",
    "            X=getattr(mycebmf, \"X_l\", None),\n",
    "            betahat=lhat,\n",
    "            sebetahat=se_l,\n",
    "            model_param=mycebmf.model_state_L[k]\n",
    ")\n",
    "mycebmf.model_state_L[k] = resL.model_param\n",
    "mycebmf.L[:, k]  = resL.post_mean\n",
    "mycebmf.L2[:, k] = resL.post_mean2\n",
    "mycebmf.kl_l[k]  = torch.as_tensor(resL.loss, device=mycebmf.device)"
   ]
  },
  {
   "cell_type": "code",
   "execution_count": 17,
   "id": "001194e9",
   "metadata": {},
   "outputs": [
    {
     "data": {
      "text/plain": [
       "tensor([1.0000e-04, 1.0000e-04, 1.0000e-04, 1.0000e-04, 1.0000e-04, 1.0000e-04,\n",
       "        1.0000e-04, 1.0000e-04, 1.0000e-04, 1.0000e-04, 1.0000e-04, 1.0000e-04,\n",
       "        1.0000e-04, 1.0000e-04, 1.0000e-04, 1.0000e-04, 1.0000e-04, 1.0000e-04,\n",
       "        1.0000e-04, 1.0000e-04, 1.0000e-04, 1.0000e-04, 1.0000e-04, 1.0000e-04,\n",
       "        1.0000e-04, 1.0000e-04, 1.0000e-04, 1.0000e-04, 1.0000e-04, 1.0000e-04,\n",
       "        1.0000e-04, 1.0000e-04, 1.0000e-04, 1.0000e-04, 1.0000e-04, 1.0000e-04,\n",
       "        1.0000e-04, 1.0000e-04, 1.0000e-04, 1.0000e-04, 1.0000e-04, 1.0000e-04,\n",
       "        1.0000e-04, 1.0000e-04, 1.0000e-04, 1.0000e-04, 1.0000e-04, 1.0000e-04,\n",
       "        1.0000e-04, 1.0000e-04])"
      ]
     },
     "execution_count": 17,
     "metadata": {},
     "output_type": "execute_result"
    }
   ],
   "source": [
    "se_l\n",
    "resL.post_mean2"
   ]
  },
  {
   "cell_type": "code",
   "execution_count": 18,
   "id": "9085104f",
   "metadata": {},
   "outputs": [],
   "source": [
    "from cebmf_torch.torch_ebnm_point_laplace import ebnm_point_laplace\n",
    "\n",
    "lol=ebnm_point_laplace(\n",
    "    x=lhat ,\n",
    "    s=se_l ,    # a=exp(0)=1\n",
    "    fix_par=[False,False, True] # optimize w only; fix a, mu\n",
    ")"
   ]
  },
  {
   "cell_type": "code",
   "execution_count": 19,
   "id": "6a04e4a5",
   "metadata": {},
   "outputs": [
    {
     "data": {
      "text/plain": [
       "tensor([0.0792, 0.0632, 0.0792, 0.0792, 0.0792, 0.0792, 0.0792, 0.0792, 0.0792,\n",
       "        0.0792, 0.0792, 0.0787, 0.0792, 0.0792, 0.0792, 0.0792, 0.0792, 0.0792,\n",
       "        0.0792, 0.0792, 0.0792, 0.0792, 0.0792, 0.0792, 0.0792, 0.0788, 0.0792,\n",
       "        0.0792, 0.0792, 0.0792, 0.0792, 0.0792, 0.0792, 0.0792, 0.0792, 0.0792,\n",
       "        0.0792, 0.0792, 0.0792, 0.0792, 0.0792, 0.0792, 0.0792, 0.0792, 0.0792,\n",
       "        0.0792, 0.0792, 0.0792, 0.0792, 0.0792], dtype=torch.float64)"
      ]
     },
     "execution_count": 19,
     "metadata": {},
     "output_type": "execute_result"
    }
   ],
   "source": [
    "lol.post_sd"
   ]
  },
  {
   "cell_type": "code",
   "execution_count": 20,
   "id": "e98689d2",
   "metadata": {},
   "outputs": [
    {
     "data": {
      "text/plain": [
       "<matplotlib.collections.PathCollection at 0x13be0e78af0>"
      ]
     },
     "execution_count": 20,
     "metadata": {},
     "output_type": "execute_result"
    },
    {
     "data": {
      "image/png": "[encoded data removed]",
      "text/plain": [
       "<Figure size 640x480 with 1 Axes>"
      ]
     },
     "metadata": {},
     "output_type": "display_data"
    }
   ],
   "source": [
    "plt.scatter(lol.post_mean2,resL.post_mean2)"
   ]
  },
  {
   "cell_type": "code",
   "execution_count": 21,
   "id": "ee082178",
   "metadata": {},
   "outputs": [
    {
     "data": {
      "text/plain": [
       "<matplotlib.collections.PathCollection at 0x13bddbdfca0>"
      ]
     },
     "execution_count": 21,
     "metadata": {},
     "output_type": "execute_result"
    },
    {
     "data": {
      "image/png": "[encoded data removed]",
      "text/plain": [
       "<Figure size 640x480 with 1 Axes>"
      ]
     },
     "metadata": {},
     "output_type": "display_data"
    }
   ],
   "source": [
    "plt.scatter(lol.post_sd**2 ,resL.post_mean2-resL.post_mean**2)"
   ]
  },
  {
   "cell_type": "code",
   "execution_count": 22,
   "id": "fd0a10a2",
   "metadata": {},
   "outputs": [
    {
     "data": {
      "text/plain": [
       "<function cebmf_torch.priors_torch.prior_point_exp_torch(X, betahat: torch.Tensor, sebetahat: torch.Tensor, model_param=None) -> cebmf_torch.priors_torch.PriorResultTorch>"
      ]
     },
     "execution_count": 22,
     "metadata": {},
     "output_type": "execute_result"
    }
   ],
   "source": [
    "mycebmf.prior_L_fn"
   ]
  },
  {
   "cell_type": "code",
   "execution_count": 23,
   "id": "55c074e1",
   "metadata": {},
   "outputs": [
    {
     "name": "stdout",
     "output_type": "stream",
     "text": [
      "tensor([0., 0., 0., 0., 0., 0., 0., 0., 0., 0., 0., 0., 0., 0., 0., 0., 0., 0., 0., 0., 0., 0., 0., 0.,\n",
      "        0., 0., 0., 0., 0., 0., 0., 0., 0., 0., 0., 0., 0., 0., 0., 0., 0., 0., 0., 0., 0., 0., 0., 0.,\n",
      "        0., 0.])\n"
     ]
    }
   ],
   "source": [
    "k=0\n",
    "Rk = mycebmf._partial_residual_masked(k)            # (N,P), zeros where missing\n",
    "fk  = mycebmf.F[:, k]                                # (P,)\n",
    "fk2 = mycebmf.F2[:, k]                               # (P,)\n",
    "\n",
    "eps = 1e-12\n",
    "denom_l = (fk2.view(1, -1) * mycebmf.mask).sum(dim=1).clamp_min(eps)     # (N,)\n",
    "num_l   = (Rk @ fk)                                                   # (N,)\n",
    "se_l    = torch.sqrt(1.0 / (mycebmf.tau * denom_l))\n",
    "\n",
    "\n",
    "lhat = num_l / denom_l\n",
    "\n",
    "resL = mycebmf.prior_L_fn(\n",
    "            X=getattr(mycebmf, \"X_l\", None),\n",
    "            betahat=lhat,\n",
    "            sebetahat=se_l,\n",
    "            model_param=mycebmf.model_state_L[k]\n",
    ")\n",
    "mycebmf.model_state_L[k] = resL.model_param\n",
    "print(resL.post_mean)\n",
    "mycebmf.L[:, k]  = resL.post_mean\n",
    "mycebmf.L2[:, k] = resL.post_mean2"
   ]
  },
  {
   "cell_type": "code",
   "execution_count": 24,
   "id": "dfa1ef80",
   "metadata": {},
   "outputs": [],
   "source": [
    "denom_f = (lk2.view(-1, 1) * mycebmf.mask).sum(dim=0).clamp_min(eps)      # (P,)\n",
    "num_f   = (Rk.T @ lk)                                                  # (P,)\n",
    "se_f    = torch.sqrt(1.0 / (mycebmf.tau * denom_f))"
   ]
  },
  {
   "cell_type": "code",
   "execution_count": 25,
   "id": "3cc57f99",
   "metadata": {},
   "outputs": [
    {
     "data": {
      "text/plain": [
       "tensor([[1., 1., 1.,  ..., 1., 1., 1.],\n",
       "        [1., 1., 1.,  ..., 1., 1., 1.],\n",
       "        [1., 1., 1.,  ..., 1., 1., 1.],\n",
       "        ...,\n",
       "        [1., 1., 1.,  ..., 1., 1., 1.],\n",
       "        [1., 1., 1.,  ..., 1., 1., 1.],\n",
       "        [1., 1., 1.,  ..., 1., 1., 1.]])"
      ]
     },
     "execution_count": 25,
     "metadata": {},
     "output_type": "execute_result"
    }
   ],
   "source": [
    "mycebmf.mask"
   ]
  },
  {
   "cell_type": "code",
   "execution_count": 26,
   "id": "95f0cdaa",
   "metadata": {},
   "outputs": [
    {
     "name": "stdout",
     "output_type": "stream",
     "text": [
      "tensor([0.2005, 0.0181, 0.0212, 0.0106, 0.1333, 0.0212, 0.0287, 0.0056, 0.1875,\n",
      "        0.0319, 0.0027, 0.0033, 0.1079, 0.0114, 0.0136, 0.0329, 0.0009, 0.0170,\n",
      "        0.0014, 0.0142, 0.1156, 0.0095, 0.0067, 0.0127, 0.0152, 0.0077, 0.0030,\n",
      "        0.1117, 0.0226, 0.0051, 0.0540, 0.2278, 0.0024, 0.0216, 0.0218, 0.0015,\n",
      "        0.2305, 0.0124, 0.0031, 0.0646, 0.0084, 0.0216, 0.0228, 0.0027, 0.0038,\n",
      "        0.0396, 0.0652, 0.1103, 0.0065, 0.0101], dtype=torch.float64)\n",
      "tensor([0.6355, 1.4603, 0.1338, 1.7315, 1.0154, 0.0243, 2.2442, 1.4484, 1.4336,\n",
      "        1.7043, 0.6233, 1.7560, 0.1497, 1.5003, 2.1372, 0.7855, 2.0447, 0.1461,\n",
      "        1.8500, 1.0810, 1.1505, 1.9018, 1.7346, 0.5998, 0.8049, 0.2981, 0.8201,\n",
      "        0.8180, 1.4623, 1.6915, 1.6831, 1.1200, 1.2191, 1.2364, 1.7742, 1.8638,\n",
      "        1.7590, 1.8161, 1.7376, 1.0315], dtype=torch.float64)\n"
     ]
    }
   ],
   "source": [
    "k=3\n",
    "Rk = mycebmf._partial_residual_masked(k)            # (N,P), zeros where missing\n",
    "fk  = mycebmf.F[:, k]                                # (P,)\n",
    "fk2 = mycebmf.F2[:, k]                               # (P,)\n",
    "\n",
    "eps = 1e-12\n",
    "denom_l = (fk2.view(1, -1) * mycebmf.mask).sum(dim=1).clamp_min(eps)     # (N,)\n",
    "num_l   = (Rk @ fk)                                                   # (N,)\n",
    "se_l    = torch.sqrt(1.0 / (mycebmf.tau * denom_l))\n",
    "\n",
    "\n",
    "lhat = num_l / denom_l\n",
    "\n",
    "resL = mycebmf.prior_L_fn(\n",
    "            X=getattr(mycebmf, \"X_l\", None),\n",
    "            betahat=lhat,\n",
    "            sebetahat=se_l,\n",
    "            model_param=mycebmf.model_state_L[k]\n",
    ")\n",
    "mycebmf.model_state_L[k] = resL.model_param\n",
    "print(resL.post_mean)\n",
    "mycebmf.L[:, k]  = resL.post_mean\n",
    "mycebmf.L2[:, k] = resL.post_mean2\n",
    "mycebmf.kl_l[k]  = torch.as_tensor(resL.loss, device=mycebmf.device)\n",
    "Rk = mycebmf._partial_residual_masked(k)            # recompute with updated L\n",
    "lk  = mycebmf.L[:, k]                               # (N,)\n",
    "lk2 = mycebmf.L2[:, k]                              # (N,)\n",
    "\n",
    "if tau_map is None:\n",
    "            denom_f = (lk2.view(-1, 1) * mycebmf.mask).sum(dim=0).clamp_min(eps)      # (P,)\n",
    "            num_f   = (Rk.T @ lk)                                                  # (P,)\n",
    "            se_f    = torch.sqrt(1.0 / (mycebmf.tau * denom_f))\n",
    "else:\n",
    "            denom_f = (tau_map * (lk2.view(-1, 1) * mycebmf.mask)).sum(dim=0).clamp_min(eps)  # (P,)\n",
    "            num_f   = (tau_map * Rk).T @ lk                                                # (P,)\n",
    "            se_f    = torch.sqrt(1.0 / denom_f)\n",
    "\n",
    "fhat = num_f / denom_f \n",
    "resF = mycebmf.prior_F_fn(\n",
    "            X=getattr(mycebmf, \"X_f\", None),\n",
    "            betahat=fhat,\n",
    "            sebetahat=se_f,\n",
    "            model_param=mycebmf.model_state_F[k]\n",
    "        )\n",
    "mycebmf.model_state_F[k] = resF.model_param\n",
    "print(resF.post_mean)\n",
    "mycebmf.F[:, k]  = resF.post_mean\n",
    "mycebmf.F2[:, k] = resF.post_mean2\n",
    "mycebmf.kl_f[k]  = torch.as_tensor(resF.loss, device=mycebmf.device)\n"
   ]
  },
  {
   "cell_type": "code",
   "execution_count": 27,
   "id": "8e18a929",
   "metadata": {},
   "outputs": [
    {
     "data": {
      "text/plain": [
       "tensor([0.1281, 0.1281, 0.1281, 0.1281, 0.1281, 0.1281, 0.1281, 0.1281, 0.1281,\n",
       "        0.1281, 0.1281, 0.1281, 0.1281, 0.1281, 0.1281, 0.1281, 0.1281, 0.1281,\n",
       "        0.1281, 0.1281, 0.1281, 0.1281, 0.1281, 0.1281, 0.1281, 0.1281, 0.1281,\n",
       "        0.1281, 0.1281, 0.1281, 0.1281, 0.1281, 0.1281, 0.1281, 0.1281, 0.1281,\n",
       "        0.1281, 0.1281, 0.1281, 0.1281])"
      ]
     },
     "execution_count": 27,
     "metadata": {},
     "output_type": "execute_result"
    }
   ],
   "source": [
    "se_f"
   ]
  },
  {
   "cell_type": "code",
   "execution_count": 28,
   "id": "57dad8d3",
   "metadata": {},
   "outputs": [],
   "source": [
    "from cebmf_torch.torch_ebnm_point_exp import ebnm_point_exp\n",
    "lolf=ebnm_point_exp(\n",
    "    x=fhat ,\n",
    "    s=se_f ,    # a=exp(0)=1\n",
    "    fix_par=[False,True, True] # optimize w only; fix a, mu\n",
    ") "
   ]
  },
  {
   "cell_type": "code",
   "execution_count": 29,
   "id": "ed42f9de",
   "metadata": {},
   "outputs": [
    {
     "data": {
      "text/plain": [
       "tensor([0.6038, 1.4286, 0.1231, 1.6999, 0.9837, 0.0303, 2.2125, 1.4167, 1.4019,\n",
       "        1.6726, 0.5917, 1.7243, 0.1366, 1.4686, 2.1055, 0.7538, 2.0131, 0.1335,\n",
       "        1.8183, 1.0494, 1.1188, 1.8701, 1.7029, 0.5681, 0.7732, 0.2698, 0.7885,\n",
       "        0.7864, 1.4306, 1.6598, 1.6514, 1.0883, 1.1874, 1.2047, 1.7425, 1.8321,\n",
       "        1.7273, 1.7844, 1.7059, 0.9998], dtype=torch.float64)"
      ]
     },
     "execution_count": 29,
     "metadata": {},
     "output_type": "execute_result"
    }
   ],
   "source": [
    "lolf.post_mean"
   ]
  },
  {
   "cell_type": "code",
   "execution_count": 30,
   "id": "c0460dc2",
   "metadata": {},
   "outputs": [
    {
     "data": {
      "text/plain": [
       "tensor([0.0792, 0.0792, 0.0792, 0.0792, 0.0792, 0.0792, 0.0792, 0.0792, 0.0792,\n",
       "        0.0792, 0.0792, 0.0792, 0.0792, 0.0792, 0.0792, 0.0792, 0.0792, 0.0792,\n",
       "        0.0792, 0.0792, 0.0792, 0.0792, 0.0792, 0.0792, 0.0792, 0.0792, 0.0792,\n",
       "        0.0792, 0.0792, 0.0792, 0.0792, 0.0792, 0.0792, 0.0792, 0.0792, 0.0792,\n",
       "        0.0792, 0.0792, 0.0792, 0.0792, 0.0792, 0.0792, 0.0792, 0.0792, 0.0792,\n",
       "        0.0792, 0.0792, 0.0792, 0.0792, 0.0792])"
      ]
     },
     "execution_count": 30,
     "metadata": {},
     "output_type": "execute_result"
    }
   ],
   "source": [
    "se_l\n"
   ]
  },
  {
   "cell_type": "code",
   "execution_count": null,
   "id": "441e02f9",
   "metadata": {},
   "outputs": [],
   "source": [
    "\n"
   ]
  },
  {
   "cell_type": "code",
   "execution_count": 31,
   "id": "53231549",
   "metadata": {},
   "outputs": [
    {
     "data": {
      "text/plain": [
       "0.0"
      ]
     },
     "execution_count": 31,
     "metadata": {},
     "output_type": "execute_result"
    }
   ],
   "source": [
    "lol.mu"
   ]
  },
  {
   "cell_type": "code",
   "execution_count": 32,
   "id": "c5d8a126",
   "metadata": {},
   "outputs": [
    {
     "data": {
      "text/plain": [
       "0.999930739402771"
      ]
     },
     "execution_count": 32,
     "metadata": {},
     "output_type": "execute_result"
    }
   ],
   "source": [
    "lol.w"
   ]
  },
  {
   "cell_type": "code",
   "execution_count": 33,
   "id": "0e429d6e",
   "metadata": {},
   "outputs": [
    {
     "data": {
      "text/plain": [
       "tensor([0.2005, 0.0181, 0.0212, 0.0106, 0.1333, 0.0212, 0.0287, 0.0056, 0.1875,\n",
       "        0.0319, 0.0027, 0.0033, 0.1079, 0.0114, 0.0136, 0.0329, 0.0009, 0.0170,\n",
       "        0.0014, 0.0142, 0.1156, 0.0095, 0.0067, 0.0127, 0.0152, 0.0077, 0.0030,\n",
       "        0.1117, 0.0226, 0.0051, 0.0540, 0.2278, 0.0024, 0.0216, 0.0218, 0.0015,\n",
       "        0.2305, 0.0124, 0.0031, 0.0646, 0.0084, 0.0216, 0.0228, 0.0027, 0.0038,\n",
       "        0.0396, 0.0652, 0.1103, 0.0065, 0.0101], dtype=torch.float64)"
      ]
     },
     "execution_count": 33,
     "metadata": {},
     "output_type": "execute_result"
    }
   ],
   "source": [
    "# make sure this is the stable version we discussed\n",
    "from cebmf_torch.torch_ebnm_point_exp import ebnm_point_exp\n",
    "res = ebnm_point_exp(\n",
    "    x=lhat.float(),\n",
    "    s=se_l.float() \n",
    ") \n",
    "res.post_mean  # shrunk toward 0, not all zero\n"
   ]
  },
  {
   "cell_type": "code",
   "execution_count": 34,
   "id": "3135beec",
   "metadata": {},
   "outputs": [
    {
     "data": {
      "text/plain": [
       "tensor([ 0.2188,  0.0062,  0.0091, -0.0019,  0.1427,  0.0091,  0.0160, -0.0178,\n",
       "         0.2054,  0.0190, -0.1098, -0.0658,  0.1099, -0.0008,  0.0019,  0.0199,\n",
       "        -0.3596,  0.0052, -0.2590,  0.0025,  0.1200, -0.0037, -0.0115,  0.0009,\n",
       "         0.0035, -0.0077, -0.0866,  0.1149,  0.0104, -0.0229,  0.0422,  0.2452,\n",
       "        -0.1418,  0.0094,  0.0096, -0.2456,  0.2476,  0.0006, -0.0784,  0.0546,\n",
       "        -0.0060,  0.0095,  0.0105, -0.1081, -0.0464,  0.0266,  0.0554,  0.1130,\n",
       "        -0.0124, -0.0027])"
      ]
     },
     "execution_count": 34,
     "metadata": {},
     "output_type": "execute_result"
    }
   ],
   "source": [
    "from cebmf_torch.torch_ash import ash\n",
    "chk = ash(lhat.float(), se_l.float(), prior=\"norm\")\n",
    "chk.post_mean  # finite; should be close to lhat for large SNR\n"
   ]
  },
  {
   "cell_type": "code",
   "execution_count": 35,
   "id": "5c132067",
   "metadata": {},
   "outputs": [
    {
     "data": {
      "text/plain": [
       "<matplotlib.collections.PathCollection at 0x13be0eb6860>"
      ]
     },
     "execution_count": 35,
     "metadata": {},
     "output_type": "execute_result"
    },
    {
     "data": {
      "image/png": "[encoded data removed]",
      "text/plain": [
       "<Figure size 640x480 with 1 Axes>"
      ]
     },
     "metadata": {},
     "output_type": "display_data"
    }
   ],
   "source": [
    "plt.scatter( chk.post_mean, lol.post_mean)\n",
    "\n"
   ]
  },
  {
   "cell_type": "code",
   "execution_count": 36,
   "id": "74e1cac0",
   "metadata": {},
   "outputs": [
    {
     "data": {
      "text/plain": [
       "tensor([6.7347e-01, 4.7844e-04, 1.0382e-06, 1.4445e-06, 2.4983e-05, 3.6217e-06,\n",
       "        1.4250e-05, 3.3088e-06, 5.4869e-01, 3.0915e-07, 3.6415e-07, 4.8196e-05,\n",
       "        8.4201e-07, 6.2016e-07, 3.7152e-06, 3.2613e-06, 2.1406e-06, 1.0278e-05,\n",
       "        3.9973e-07, 6.4057e-07, 8.7082e-05, 2.2607e-06, 1.8791e-06, 1.9474e-06,\n",
       "        5.8624e-05, 5.9860e-05, 9.1975e-07, 3.5085e-05, 3.2181e-07, 1.2513e-06,\n",
       "        3.3894e-07, 6.7263e-01, 3.6963e-07, 1.3240e-06, 3.1425e-06, 2.7314e-07,\n",
       "        1.5361e+00, 2.0124e-05, 9.1508e-07, 1.2357e-05, 1.2497e-06, 1.6914e-06,\n",
       "        2.6546e-07, 2.6819e-05, 3.8062e-07, 1.3287e-05, 6.0968e-07, 6.6754e-07,\n",
       "        1.2197e-05, 2.7202e-05], dtype=torch.float64)"
      ]
     },
     "execution_count": 36,
     "metadata": {},
     "output_type": "execute_result"
    }
   ],
   "source": [
    "\n",
    "k=0\n",
    "Rk = mycebmf._partial_residual_masked(k)            # (N,P), zeros where missing\n",
    "fk  = mycebmf.F[:, k]                                # (P,)\n",
    "fk2 = mycebmf.F2[:, k]                               # (P,)\n",
    "\n",
    "eps = 1e-12\n",
    "denom_l = (fk2.view(1, -1) * mycebmf.mask).sum(dim=1).clamp_min(eps)     # (N,)\n",
    "num_l   = (Rk @ fk)                                                   # (N,)\n",
    "se_l    = torch.sqrt(1.0 / (mycebmf.tau * denom_l))\n",
    "\n",
    "\n",
    "lhat = num_l / denom_l\n",
    "\n",
    "resL = mycebmf.prior_L_fn(\n",
    "            X=getattr(mycebmf, \"X_l\", None),\n",
    "            betahat=lhat,\n",
    "            sebetahat=se_l,\n",
    "            model_param=mycebmf.model_state_L[k]\n",
    ")\n",
    "mycebmf.model_state_L[k] = resL.model_param\n",
    "mycebmf.L[:, k]  = resL.post_mean\n",
    "mycebmf.L2[:, k] = resL.post_mean2\n",
    "mycebmf.kl_l[k]  = torch.as_tensor(resL.loss, device=mycebmf.device)\n",
    "se_l\n",
    "resL.post_mean"
   ]
  },
  {
   "cell_type": "code",
   "execution_count": 37,
   "id": "f8e7a6c4",
   "metadata": {},
   "outputs": [
    {
     "data": {
      "text/plain": [
       "tensor([0.0744, 0.0706, 0.0012, 0.1936, 0.0355, 0.0031, 0.0109, 0.1084, 0.0128,\n",
       "        0.0120, 0.0031, 0.0925, 0.0487, 0.0048, 0.0456, 0.0502, 0.0858, 0.0479,\n",
       "        0.0032, 0.0466, 0.0012, 0.0018, 0.0018, 0.0204, 0.0065, 0.0038, 0.0379,\n",
       "        0.0138, 0.2318, 0.0141, 0.0039, 0.2169, 0.0023, 0.0022, 0.0044, 0.2238,\n",
       "        0.0014, 0.0052, 0.0048, 0.0033, 0.0126, 0.0059, 0.0187, 0.0019, 0.0023,\n",
       "        0.1177, 0.0050, 0.0108, 0.0744, 0.2806], dtype=torch.float64)"
      ]
     },
     "execution_count": 37,
     "metadata": {},
     "output_type": "execute_result"
    }
   ],
   "source": [
    "\n",
    "k=2\n",
    "Rk = mycebmf._partial_residual_masked(k)            # (N,P), zeros where missing\n",
    "fk  = mycebmf.F[:, k]                                # (P,)\n",
    "fk2 = mycebmf.F2[:, k]                               # (P,)\n",
    "\n",
    "eps = 1e-12\n",
    "denom_l = (fk2.view(1, -1) * mycebmf.mask).sum(dim=1).clamp_min(eps)     # (N,)\n",
    "num_l   = (Rk @ fk)                                                   # (N,)\n",
    "se_l    = torch.sqrt(1.0 / (mycebmf.tau * denom_l))\n",
    "\n",
    "\n",
    "lhat = num_l / denom_l\n",
    "\n",
    "resL = mycebmf.prior_L_fn(\n",
    "            X=getattr(mycebmf, \"X_l\", None),\n",
    "            betahat=lhat,\n",
    "            sebetahat=se_l,\n",
    "            model_param=mycebmf.model_state_L[k]\n",
    ")\n",
    "mycebmf.model_state_L[k] = resL.model_param\n",
    "mycebmf.L[:, k]  = resL.post_mean\n",
    "mycebmf.L2[:, k] = resL.post_mean2\n",
    "mycebmf.kl_l[k]  = torch.as_tensor(resL.loss, device=mycebmf.device)\n",
    "se_l\n",
    "resL.post_mean"
   ]
  },
  {
   "cell_type": "code",
   "execution_count": 38,
   "id": "0b833086",
   "metadata": {},
   "outputs": [
    {
     "data": {
      "text/plain": [
       "tensor([0.0792, 0.0792, 0.0792, 0.0792, 0.0792, 0.0792, 0.0792, 0.0792, 0.0792,\n",
       "        0.0792, 0.0792, 0.0792, 0.0792, 0.0792, 0.0792, 0.0792, 0.0792, 0.0792,\n",
       "        0.0792, 0.0792, 0.0792, 0.0792, 0.0792, 0.0792, 0.0792, 0.0792, 0.0792,\n",
       "        0.0792, 0.0792, 0.0792, 0.0792, 0.0792, 0.0792, 0.0792, 0.0792, 0.0792,\n",
       "        0.0792, 0.0792, 0.0792, 0.0792, 0.0792, 0.0792, 0.0792, 0.0792, 0.0792,\n",
       "        0.0792, 0.0792, 0.0792, 0.0792, 0.0792])"
      ]
     },
     "execution_count": 38,
     "metadata": {},
     "output_type": "execute_result"
    }
   ],
   "source": [
    "lhat\n",
    "se_l"
   ]
  },
  {
   "cell_type": "code",
   "execution_count": 39,
   "id": "db392345",
   "metadata": {},
   "outputs": [
    {
     "data": {
      "text/plain": [
       "tensor([ 1.0082e-01,  9.7368e-02, -2.3768e-01,  1.9372e-01,  5.8615e-02,\n",
       "        -9.1431e-02,  7.5782e-04,  1.2827e-01,  8.8796e-03,  5.6965e-03,\n",
       "        -9.0896e-02,  1.1589e-01,  7.5473e-02, -4.9245e-02,  7.1872e-02,\n",
       "         7.7194e-02,  1.1047e-01,  7.4512e-02, -8.5016e-02,  7.3029e-02,\n",
       "        -2.4331e-01, -1.6580e-01, -1.6296e-01,  3.1340e-02, -2.8776e-02,\n",
       "        -6.8683e-02,  6.1998e-02,  1.2681e-02,  2.2688e-01,  1.3709e-02,\n",
       "        -6.7135e-02,  2.1359e-01, -1.2630e-01, -1.3285e-01, -5.6707e-02,\n",
       "         2.1965e-01, -2.0917e-01, -4.3930e-02, -5.0060e-02, -8.4503e-02,\n",
       "         7.8755e-03, -3.5405e-02,  2.7255e-02, -1.5521e-01, -1.2832e-01,\n",
       "         1.3525e-01, -4.6712e-02,  1.3307e-04,  1.0083e-01,  2.7321e-01],\n",
       "       dtype=torch.float64)"
      ]
     },
     "execution_count": 39,
     "metadata": {},
     "output_type": "execute_result"
    }
   ],
   "source": [
    "from cebmf_torch.torch_ebnm_point_laplace import ebnm_point_laplace\n",
    "lol= ebnm_point_laplace(lhat , se_l) \n",
    "lol.post_mean\n"
   ]
  },
  {
   "cell_type": "code",
   "execution_count": 40,
   "id": "f942b946",
   "metadata": {},
   "outputs": [
    {
     "data": {
      "text/plain": [
       "tensor([0.0792, 0.0792, 0.0792, 0.0792, 0.0792, 0.0792, 0.0792, 0.0792, 0.0792,\n",
       "        0.0792, 0.0792, 0.0792, 0.0792, 0.0792, 0.0792, 0.0792, 0.0792, 0.0792,\n",
       "        0.0792, 0.0792, 0.0792, 0.0792, 0.0792, 0.0792, 0.0792, 0.0792, 0.0792,\n",
       "        0.0792, 0.0792, 0.0792, 0.0792, 0.0792, 0.0792, 0.0792, 0.0792, 0.0792,\n",
       "        0.0792, 0.0792, 0.0792, 0.0792, 0.0792, 0.0792, 0.0792, 0.0792, 0.0792,\n",
       "        0.0792, 0.0792, 0.0792, 0.0792, 0.0792])"
      ]
     },
     "execution_count": 40,
     "metadata": {},
     "output_type": "execute_result"
    }
   ],
   "source": [
    "se_l"
   ]
  },
  {
   "cell_type": "code",
   "execution_count": 41,
   "id": "3d870a2a",
   "metadata": {},
   "outputs": [
    {
     "data": {
      "text/plain": [
       "tensor([ 1.5005e-01,  1.4587e-01, -2.9513e-01,  2.5072e-01,  9.4887e-02,\n",
       "        -1.3858e-01,  1.3177e-03,  1.8167e-01,  1.5408e-02,  9.8965e-03,\n",
       "        -1.3792e-01,  1.6771e-01,  1.1812e-01, -8.1157e-02,  1.1330e-01,\n",
       "         1.2039e-01,  1.6145e-01,  1.1684e-01, -1.3051e-01,  1.1486e-01,\n",
       "        -3.0079e-01, -2.2195e-01, -2.1899e-01,  5.3204e-02, -4.9024e-02,\n",
       "        -1.0898e-01,  9.9695e-02,  2.1958e-02,  2.8428e-01,  2.3721e-02,\n",
       "        -1.0685e-01,  2.7088e-01, -1.7949e-01, -1.8674e-01, -9.2141e-02,\n",
       "         2.7699e-01, -2.6641e-01, -7.3095e-02, -8.2376e-02, -1.2986e-01,\n",
       "         1.3671e-02, -5.9746e-02,  4.6525e-02, -2.1083e-01, -1.8173e-01,\n",
       "         1.8937e-01, -7.7339e-02,  2.3139e-04,  1.5005e-01,  3.3075e-01])"
      ]
     },
     "execution_count": 41,
     "metadata": {},
     "output_type": "execute_result"
    }
   ],
   "source": [
    "lhat"
   ]
  },
  {
   "cell_type": "code",
   "execution_count": 42,
   "id": "ed404183",
   "metadata": {},
   "outputs": [
    {
     "data": {
      "text/plain": [
       "tensor([ 1.0082e-01,  9.7368e-02, -2.3768e-01,  1.9372e-01,  5.8615e-02,\n",
       "        -9.1431e-02,  7.5782e-04,  1.2827e-01,  8.8796e-03,  5.6965e-03,\n",
       "        -9.0896e-02,  1.1589e-01,  7.5473e-02, -4.9245e-02,  7.1872e-02,\n",
       "         7.7194e-02,  1.1047e-01,  7.4512e-02, -8.5016e-02,  7.3029e-02,\n",
       "        -2.4331e-01, -1.6580e-01, -1.6296e-01,  3.1340e-02, -2.8776e-02,\n",
       "        -6.8683e-02,  6.1998e-02,  1.2681e-02,  2.2688e-01,  1.3709e-02,\n",
       "        -6.7135e-02,  2.1359e-01, -1.2630e-01, -1.3285e-01, -5.6707e-02,\n",
       "         2.1965e-01, -2.0917e-01, -4.3930e-02, -5.0060e-02, -8.4503e-02,\n",
       "         7.8755e-03, -3.5405e-02,  2.7255e-02, -1.5521e-01, -1.2832e-01,\n",
       "         1.3525e-01, -4.6712e-02,  1.3307e-04,  1.0083e-01,  2.7321e-01],\n",
       "       dtype=torch.float64)"
      ]
     },
     "execution_count": 42,
     "metadata": {},
     "output_type": "execute_result"
    }
   ],
   "source": [
    "lol= ebnm_point_laplace(lhat , se_l  ) \n",
    "lol.post_mean\n"
   ]
  },
  {
   "cell_type": "code",
   "execution_count": 43,
   "id": "1b46c073",
   "metadata": {},
   "outputs": [
    {
     "data": {
      "text/plain": [
       "0.999811589717865"
      ]
     },
     "execution_count": 43,
     "metadata": {},
     "output_type": "execute_result"
    }
   ],
   "source": [
    "lol.w"
   ]
  },
  {
   "cell_type": "code",
   "execution_count": null,
   "id": "55aacff1",
   "metadata": {},
   "outputs": [],
   "source": []
  },
  {
   "cell_type": "code",
   "execution_count": 44,
   "id": "572468e7",
   "metadata": {},
   "outputs": [
    {
     "data": {
      "text/plain": [
       "EBNMLaplaceResult(post_mean=tensor([ 1.0083e-01,  9.7379e-02, -2.3768e-01,  1.9373e-01,  5.8625e-02,\n",
       "        -9.1442e-02,  7.5800e-04,  1.2828e-01,  8.8817e-03,  5.6979e-03,\n",
       "        -9.0907e-02,  1.1590e-01,  7.5484e-02, -4.9254e-02,  7.1883e-02,\n",
       "         7.7206e-02,  1.1048e-01,  7.4523e-02, -8.5027e-02,  7.3040e-02,\n",
       "        -2.4331e-01, -1.6581e-01, -1.6297e-01,  3.1346e-02, -2.8782e-02,\n",
       "        -6.8694e-02,  6.2008e-02,  1.2684e-02,  2.2689e-01,  1.3712e-02,\n",
       "        -6.7146e-02,  2.1360e-01, -1.2631e-01, -1.3286e-01, -5.6717e-02,\n",
       "         2.1965e-01, -2.0918e-01, -4.3939e-02, -5.0069e-02, -8.4514e-02,\n",
       "         7.8774e-03, -3.5413e-02,  2.7261e-02, -1.5522e-01, -1.2833e-01,\n",
       "         1.3526e-01, -4.6721e-02,  1.3311e-04,  1.0084e-01,  2.7321e-01],\n",
       "       dtype=torch.float64), post_mean2=tensor([0.0154, 0.0146, 0.0624, 0.0437, 0.0078, 0.0069, 0.0036, 0.0221, 0.0037,\n",
       "        0.0036, 0.0068, 0.0189, 0.0104, 0.0030, 0.0098, 0.0107, 0.0176, 0.0103,\n",
       "        0.0056, 0.0100, 0.0652, 0.0311, 0.0300, 0.0048, 0.0047, 0.0033, 0.0083,\n",
       "        0.0038, 0.0577, 0.0038, 0.0032, 0.0518, 0.0167, 0.0189, 0.0028, 0.0545,\n",
       "        0.0491, 0.0035, 0.0030, 0.0055, 0.0037, 0.0048, 0.0045, 0.0270, 0.0174,\n",
       "        0.0240, 0.0032, 0.0036, 0.0154, 0.0809], dtype=torch.float64), post_sd=tensor([0.0723, 0.0718, 0.0769, 0.0784, 0.0661, 0.0000, 0.0601, 0.0751, 0.0602,\n",
       "        0.0601, 0.0000, 0.0739, 0.0688, 0.0244, 0.0682, 0.0690, 0.0734, 0.0686,\n",
       "        0.0000, 0.0684, 0.0773, 0.0599, 0.0584, 0.0622, 0.0619, 0.0000, 0.0667,\n",
       "        0.0604, 0.0789, 0.0605, 0.0000, 0.0788, 0.0281, 0.0360, 0.0000, 0.0788,\n",
       "        0.0733, 0.0396, 0.0215, 0.0000, 0.0602, 0.0595, 0.0617, 0.0541, 0.0308,\n",
       "        0.0757, 0.0322, 0.0601, 0.0723, 0.0791], dtype=torch.float64), w=0.9999057665763451, a=9.181599188812422, mu=0.0, log_lik=17.35029487418295)"
      ]
     },
     "execution_count": 44,
     "metadata": {},
     "output_type": "execute_result"
    }
   ],
   "source": [
    "ebnm_point_laplace(\n",
    "    x=lhat.double(),\n",
    "    s=se_l.double(),    # a=exp(0)=1\n",
    "    fix_par=[False,False, True] # optimize w only; fix a, mu\n",
    ")"
   ]
  },
  {
   "cell_type": "code",
   "execution_count": 45,
   "id": "7cbbbd41",
   "metadata": {},
   "outputs": [
    {
     "data": {
      "text/plain": [
       "EBNMLaplaceResult(post_mean=tensor([ 1.0083e-01,  9.7371e-02, -2.3768e-01,  1.9373e-01,  5.8618e-02,\n",
       "        -9.1434e-02,  7.5786e-04,  1.2827e-01,  8.8801e-03,  5.6968e-03,\n",
       "        -9.0899e-02,  1.1589e-01,  7.5476e-02, -4.9247e-02,  7.1875e-02,\n",
       "         7.7198e-02,  1.1047e-01,  7.4515e-02, -8.5019e-02,  7.3032e-02,\n",
       "        -2.4331e-01, -1.6580e-01, -1.6297e-01,  3.1341e-02, -2.8777e-02,\n",
       "        -6.8686e-02,  6.2001e-02,  1.2682e-02,  2.2688e-01,  1.3710e-02,\n",
       "        -6.7138e-02,  2.1359e-01, -1.2631e-01, -1.3285e-01, -5.6710e-02,\n",
       "         2.1965e-01, -2.0917e-01, -4.3932e-02, -5.0062e-02, -8.4506e-02,\n",
       "         7.8759e-03, -3.5407e-02,  2.7256e-02, -1.5522e-01, -1.2832e-01,\n",
       "         1.3525e-01, -4.6714e-02,  1.3308e-04,  1.0083e-01,  2.7321e-01],\n",
       "       dtype=torch.float64), post_mean2=tensor([0.0154, 0.0146, 0.0624, 0.0437, 0.0078, 0.0069, 0.0036, 0.0221, 0.0037,\n",
       "        0.0036, 0.0068, 0.0189, 0.0104, 0.0030, 0.0098, 0.0107, 0.0176, 0.0103,\n",
       "        0.0056, 0.0100, 0.0652, 0.0311, 0.0300, 0.0048, 0.0047, 0.0033, 0.0083,\n",
       "        0.0038, 0.0577, 0.0038, 0.0032, 0.0518, 0.0167, 0.0189, 0.0028, 0.0545,\n",
       "        0.0491, 0.0035, 0.0030, 0.0055, 0.0037, 0.0048, 0.0045, 0.0270, 0.0174,\n",
       "        0.0240, 0.0032, 0.0036, 0.0154, 0.0809], dtype=torch.float64), post_sd=tensor([0.0723, 0.0718, 0.0769, 0.0784, 0.0661, 0.0000, 0.0600, 0.0751, 0.0602,\n",
       "        0.0601, 0.0000, 0.0740, 0.0688, 0.0244, 0.0682, 0.0690, 0.0734, 0.0686,\n",
       "        0.0000, 0.0684, 0.0773, 0.0599, 0.0584, 0.0622, 0.0619, 0.0000, 0.0667,\n",
       "        0.0604, 0.0789, 0.0605, 0.0000, 0.0788, 0.0281, 0.0360, 0.0000, 0.0788,\n",
       "        0.0733, 0.0397, 0.0215, 0.0000, 0.0602, 0.0595, 0.0617, 0.0541, 0.0308,\n",
       "        0.0757, 0.0322, 0.0600, 0.0723, 0.0791], dtype=torch.float64), w=0.9998151247249019, a=9.182057998333885, mu=0.0, log_lik=17.3496035268867)"
      ]
     },
     "execution_count": 45,
     "metadata": {},
     "output_type": "execute_result"
    }
   ],
   "source": [
    "ebnm_point_laplace(\n",
    "    x=lhat.double(),\n",
    "    s=se_l.double(),\n",
    "    par_init=[0.0, 2.0, 0.0],   # a=exp(0)=1\n",
    "    fix_par=[False,False, True] # optimize w only; fix a, mu\n",
    ")"
   ]
  }
 ],
 "metadata": {
  "kernelspec": {
   "display_name": "ml_env",
   "language": "python",
   "name": "python3"
  },
  "language_info": {
   "codemirror_mode": {
    "name": "ipython",
    "version": 3
   },
   "file_extension": ".py",
   "mimetype": "text/x-python",
   "name": "python",
   "nbconvert_exporter": "python",
   "pygments_lexer": "ipython3",
   "version": "3.10.8"
  }
 },
 "nbformat": 4,
 "nbformat_minor": 5
}
