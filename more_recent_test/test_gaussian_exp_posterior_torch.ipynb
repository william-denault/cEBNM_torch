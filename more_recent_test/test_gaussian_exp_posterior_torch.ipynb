{
 "cells": [
  {
   "cell_type": "code",
   "execution_count": 1,
   "id": "f7f9b3bb",
   "metadata": {},
   "outputs": [],
   "source": [
    "\n",
    "import numpy as np\n",
    "import torch\n",
    "from cebmf_torch import *\n",
    "import matplotlib.pyplot as plt\n",
    "def my_etruncnorm(a,b,mu,s):\n",
    "    a = torch.tensor(a, dtype=torch.float64)\n",
    "    b = torch.tensor(b, dtype=torch.float64) if np.isfinite(b) else torch.tensor(float('inf'), dtype=torch.float64)\n",
    "    mu = torch.tensor(mu, dtype=torch.float64)\n",
    "    s = torch.tensor(s, dtype=torch.float64)\n",
    "    EX, _ = my_trunc_mom(a,b,mu,s)\n",
    "    return float(EX)\n",
    "\n",
    "def my_e2truncnorm(a,b,mu,s):\n",
    "    a = torch.tensor(a, dtype=torch.float64)\n",
    "    b = torch.tensor(b, dtype=torch.float64) if np.isfinite(b) else torch.tensor(float('inf'), dtype=torch.float64)\n",
    "    mu = torch.tensor(mu, dtype=torch.float64)\n",
    "    s = torch.tensor(s, dtype=torch.float64)\n",
    "    _, EX2 = my_trunc_mom(a,b,mu,s)\n",
    "    return float(EX2)\n",
    "\n",
    "def wpost_exp(x, s, w, scale):\n",
    "    # responsibilities given uniform prior weights w over components\n",
    "    device = torch.device('cpu')\n",
    "    betahat = torch.tensor([x], dtype=torch.float64, device=device)\n",
    "    se = torch.tensor([s], dtype=torch.float64, device=device)\n",
    "    sc = torch.tensor(scale, dtype=torch.float64, device=device)\n",
    "    L = get_data_loglik_exp(betahat, se, sc)  # (1,K)\n",
    "    logw = torch.log(torch.tensor(w, dtype=torch.float64, device=device))\n",
    "    log_post = L + logw.view(1,-1)\n",
    "    post = torch.softmax(log_post, dim=1)[0].cpu().numpy()\n",
    "    return post\n",
    "\n"
   ]
  },
  {
   "cell_type": "code",
   "execution_count": 2,
   "id": "529d64d1",
   "metadata": {},
   "outputs": [
    {
     "ename": "NameError",
     "evalue": "name 'my_trunc_mom' is not defined",
     "output_type": "error",
     "traceback": [
      "\u001b[1;31m---------------------------------------------------------------------------\u001b[0m",
      "\u001b[1;31mNameError\u001b[0m                                 Traceback (most recent call last)",
      "Cell \u001b[1;32mIn[2], line 1\u001b[0m\n\u001b[1;32m----> 1\u001b[0m \u001b[43mmy_etruncnorm\u001b[49m\u001b[43m(\u001b[49m\u001b[38;5;241;43m0\u001b[39;49m\u001b[43m,\u001b[49m\u001b[38;5;241;43m2\u001b[39;49m\u001b[43m,\u001b[49m\u001b[38;5;241;43m3\u001b[39;49m\u001b[43m,\u001b[49m\u001b[38;5;241;43m1\u001b[39;49m\u001b[43m)\u001b[49m\n",
      "Cell \u001b[1;32mIn[1], line 10\u001b[0m, in \u001b[0;36mmy_etruncnorm\u001b[1;34m(a, b, mu, s)\u001b[0m\n\u001b[0;32m      8\u001b[0m mu \u001b[38;5;241m=\u001b[39m torch\u001b[38;5;241m.\u001b[39mtensor(mu, dtype\u001b[38;5;241m=\u001b[39mtorch\u001b[38;5;241m.\u001b[39mfloat64)\n\u001b[0;32m      9\u001b[0m s \u001b[38;5;241m=\u001b[39m torch\u001b[38;5;241m.\u001b[39mtensor(s, dtype\u001b[38;5;241m=\u001b[39mtorch\u001b[38;5;241m.\u001b[39mfloat64)\n\u001b[1;32m---> 10\u001b[0m EX, _ \u001b[38;5;241m=\u001b[39m \u001b[43mmy_trunc_mom\u001b[49m(a,b,mu,s)\n\u001b[0;32m     11\u001b[0m \u001b[38;5;28;01mreturn\u001b[39;00m \u001b[38;5;28mfloat\u001b[39m(EX)\n",
      "\u001b[1;31mNameError\u001b[0m: name 'my_trunc_mom' is not defined"
     ]
    }
   ],
   "source": [
    "my_etruncnorm(0,2,3,1) # should close to  1.48995049"
   ]
  },
  {
   "cell_type": "code",
   "execution_count": null,
   "id": "f2f08f03",
   "metadata": {},
   "outputs": [],
   "source": [
    "my_e2truncnorm(0,2,3,1) # should be close to, 2.39340536"
   ]
  },
  {
   "cell_type": "code",
   "execution_count": null,
   "id": "2c33322a",
   "metadata": {},
   "outputs": [],
   "source": [
    "betahat=  np.array([1,2,3,4,5], dtype=float)\n",
    "sebetahat=np.array([1,0.4,5,1,1], dtype=float)\n",
    "device = torch.device('cpu')\n",
    "scale = autoselect_scales_mix_exp ( torch.tensor(betahat),  torch.tensor(sebetahat)).cpu().numpy()"
   ]
  },
  {
   "cell_type": "code",
   "execution_count": null,
   "id": "9f331b61",
   "metadata": {},
   "outputs": [],
   "source": [
    "non_informativ = np.full( scale.shape[0], 1/ scale.shape[0])\n",
    "n=betahat.shape[0]\n",
    "log_pi =  np.log( np.tile(non_informativ, (n, 1)))\n",
    "assignment = np.exp(log_pi)[0]\n",
    "assignment = assignment /   sum(assignment)\n",
    "w=assignment\n",
    "x=betahat[1]\n",
    "s=sebetahat[1]\n",
    "\n",
    "obs_wpost= wpost_exp ( x, s, w, scale)\n",
    "expected_wpost=np.array([3.53987758e-06, 6.61493885e-06, 1.06391083e-05, 2.86976960e-05,\n",
    "       1.69165759e-04, 1.40776600e-03, 8.91255655e-03, 3.45101678e-02,\n",
    "       8.34205613e-02, 1.38160703e-01, 1.72844260e-01, 1.77093219e-01,\n",
    "       1.57939387e-01, 1.28091688e-01, 9.74010338e-02])\n",
    "# Compute posteriors and truncated-moment means\n",
    "    # Note: first column is spike at 0; skip in expectation\n",
    "post_assign =   np.zeros ( (betahat.shape[0], scale.shape[0]))\n",
    "for i in range(betahat.shape[0]):\n",
    "        post_assign[i,] = wpost_exp ( x=betahat[i], s=sebetahat[i], w=np.exp(log_pi)[i,], scale=scale) \n",
    "\n",
    "post_mean = np.zeros(betahat.shape[0])\n",
    "post_mean2 = np.zeros(betahat.shape[0])\n",
    "for i in range(post_mean.shape[0]):\n",
    "        mu_i = betahat[i] - sebetahat[i]**2 * (1/scale[1:])\n",
    "        ex = np.array([my_etruncnorm(0, np.inf, m, sebetahat[i]) for m in mu_i])\n",
    "        ex2 = np.array([my_e2truncnorm(0, 99999, m, sebetahat[i]) for m in mu_i])\n",
    "        post_mean[i]=  np.sum( post_assign[i,1:] * ex )\n",
    "        post_mean2[i] = np.sum( post_assign[i,1:] * ex2 )\n",
    "\n",
    "expected_post_mean= np.array([0.4836384 , 1.89328341, 1.05670973, 3.57009763, 4.66379651])\n",
    "expected_post_mean2= np.array([ 0.59674218,  3.75372025,  4.34337321, 13.89299102, 22.81107216])\n",
    "\n",
    "    # Use our get_data_loglik + softmax responsibilities in the same way\n",
    "bet = torch.tensor(betahat, dtype=torch.float64)\n",
    "se = torch.tensor(sebetahat, dtype=torch.float64)\n",
    "sc = torch.tensor(scale, dtype=torch.float64)\n",
    "L = get_data_loglik_exp(bet, se, sc)  # (n,K)\n",
    "post = torch.softmax(L + torch.log(torch.tensor(non_informativ, dtype=torch.float64)).view(1,-1), dim=1).cpu().numpy()"
   ]
  },
  {
   "cell_type": "code",
   "execution_count": null,
   "id": "eadfa3eb",
   "metadata": {},
   "outputs": [],
   "source": [
    "plt.scatter(obs_wpost, expected_wpost)"
   ]
  },
  {
   "cell_type": "code",
   "execution_count": null,
   "id": "8d6b4463",
   "metadata": {},
   "outputs": [],
   "source": [
    "plt.scatter (post_mean, expected_post_mean)"
   ]
  },
  {
   "cell_type": "code",
   "execution_count": null,
   "id": "172e2af1",
   "metadata": {},
   "outputs": [],
   "source": [
    "plt.scatter (post_mean2, expected_post_mean2)"
   ]
  },
  {
   "cell_type": "code",
   "execution_count": null,
   "id": "22a27a0a",
   "metadata": {},
   "outputs": [],
   "source": [
    " "
   ]
  }
 ],
 "metadata": {
  "kernelspec": {
   "display_name": "ml_env",
   "language": "python",
   "name": "python3"
  },
  "language_info": {
   "codemirror_mode": {
    "name": "ipython",
    "version": 3
   },
   "file_extension": ".py",
   "mimetype": "text/x-python",
   "name": "python",
   "nbconvert_exporter": "python",
   "pygments_lexer": "ipython3",
   "version": "3.10.8"
  }
 },
 "nbformat": 4,
 "nbformat_minor": 5
}
