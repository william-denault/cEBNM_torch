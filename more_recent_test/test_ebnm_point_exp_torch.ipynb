{
 "cells": [
  {
   "cell_type": "code",
   "execution_count": 4,
   "id": "93472ddb",
   "metadata": {},
   "outputs": [],
   "source": [
    "import numpy as np\n",
    "import torch\n",
    "from cebmf_torch import *\n",
    " \n",
    "x = torch.tensor([1.0, 1.0, -0.5])\n",
    "s = torch.tensor([1.0, 1.0, 1.0])\n",
    "res = ebnm_point_exp(x, s, steps=2000, lr=0.02)\n",
    "    # Expected numbers from original tests (allow small tolerance)\n",
    " "
   ]
  },
  {
   "cell_type": "code",
   "execution_count": 5,
   "id": "ea180bf5",
   "metadata": {},
   "outputs": [
    {
     "data": {
      "text/plain": [
       "-1.1688940525054932"
      ]
     },
     "execution_count": 5,
     "metadata": {},
     "output_type": "execute_result"
    }
   ],
   "source": [
    "res.log_lik # -3.636553632132083"
   ]
  },
  {
   "cell_type": "code",
   "execution_count": 6,
   "id": "3c774d0f",
   "metadata": {},
   "outputs": [
    {
     "data": {
      "text/plain": [
       "0.004968094639480114"
      ]
     },
     "execution_count": 6,
     "metadata": {},
     "output_type": "execute_result"
    }
   ],
   "source": [
    "float(res.w)#0.9999563044116645"
   ]
  },
  {
   "cell_type": "code",
   "execution_count": 7,
   "id": "fce55b71",
   "metadata": {},
   "outputs": [
    {
     "data": {
      "text/plain": [
       "4.193866729736328"
      ]
     },
     "execution_count": 7,
     "metadata": {},
     "output_type": "execute_result"
    }
   ],
   "source": [
    "float(res.a)#3.047337093696241"
   ]
  },
  {
   "cell_type": "code",
   "execution_count": 8,
   "id": "048c7b17",
   "metadata": {},
   "outputs": [
    {
     "data": {
      "text/plain": [
       "0.4988369047641754"
      ]
     },
     "execution_count": 8,
     "metadata": {},
     "output_type": "execute_result"
    }
   ],
   "source": [
    "float(res.mu)# 0.0"
   ]
  }
 ],
 "metadata": {
  "kernelspec": {
   "display_name": "ml_env",
   "language": "python",
   "name": "python3"
  },
  "language_info": {
   "codemirror_mode": {
    "name": "ipython",
    "version": 3
   },
   "file_extension": ".py",
   "mimetype": "text/x-python",
   "name": "python",
   "nbconvert_exporter": "python",
   "pygments_lexer": "ipython3",
   "version": "3.10.8"
  }
 },
 "nbformat": 4,
 "nbformat_minor": 5
}
