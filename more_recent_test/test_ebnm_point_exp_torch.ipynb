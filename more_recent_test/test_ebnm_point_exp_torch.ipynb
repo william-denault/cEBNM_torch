{
 "cells": [
  {
   "cell_type": "code",
   "execution_count": 1,
   "id": "93472ddb",
   "metadata": {},
   "outputs": [],
   "source": [
    "import numpy as np\n",
    "import torch\n",
    "from cebmf_torch.torch_ebnm_point_exp import ebnm_point_exp \n",
    "\n",
    "from cebmf_torch.torch_ebnm_point_laplace import ebnm_point_laplace\n",
    "import matplotlib.pyplot  as plt\n",
    "x = torch.tensor([1.0, 1.0, -0.5])\n",
    "s = torch.tensor([1.0, 1.0, 1.0])\n",
    "res = ebnm_point_exp (x, s  )\n",
    "    # Expected numbers from original tests (allow small tolerance)\n",
    " "
   ]
  },
  {
   "cell_type": "code",
   "execution_count": 2,
   "id": "6a6de11c",
   "metadata": {},
   "outputs": [
    {
     "data": {
      "text/plain": [
       "tensor([0.3680, 0.3680, 0.2488], dtype=torch.float64)"
      ]
     },
     "execution_count": 2,
     "metadata": {},
     "output_type": "execute_result"
    }
   ],
   "source": [
    "res.post_mean"
   ]
  },
  {
   "cell_type": "code",
   "execution_count": 3,
   "id": "eebd8b80",
   "metadata": {},
   "outputs": [
    {
     "name": "stdout",
     "output_type": "stream",
     "text": [
      "tensor(2.1269, grad_fn=<MulBackward0>)\n",
      "tensor(1.3187, grad_fn=<MulBackward0>)\n",
      "tensor(0.0194, grad_fn=<MulBackward0>)\n",
      "tensor(0.0169, grad_fn=<MulBackward0>)\n",
      "tensor(0.0057, grad_fn=<MulBackward0>)\n",
      "tensor(0.0033, grad_fn=<MulBackward0>)\n",
      "tensor(0.0015, grad_fn=<MulBackward0>)\n",
      "tensor(0.0008, grad_fn=<MulBackward0>)\n",
      "tensor(0.0004, grad_fn=<MulBackward0>)\n"
     ]
    }
   ],
   "source": [
    "res0 = ebnm_point_laplace (\n",
    "    x=x,\n",
    "    s=s# [alpha, beta, mu] (alpha=0 => w≈0.5, beta=0 => a=1)\n",
    ")"
   ]
  },
  {
   "cell_type": "code",
   "execution_count": null,
   "id": "ab200da4",
   "metadata": {},
   "outputs": [],
   "source": [
    " "
   ]
  },
  {
   "cell_type": "code",
   "execution_count": 4,
   "id": "dd7e207a",
   "metadata": {},
   "outputs": [
    {
     "data": {
      "text/plain": [
       "<matplotlib.collections.PathCollection at 0x1ecf59b2ec0>"
      ]
     },
     "execution_count": 4,
     "metadata": {},
     "output_type": "execute_result"
    },
    {
     "data": {
      "image/png": "[encoded data removed]",
      "text/plain": [
       "<Figure size 640x480 with 1 Axes>"
      ]
     },
     "metadata": {},
     "output_type": "display_data"
    }
   ],
   "source": [
    "plt.scatter( res.post_mean, x)"
   ]
  },
  {
   "cell_type": "code",
   "execution_count": 5,
   "id": "ea180bf5",
   "metadata": {},
   "outputs": [
    {
     "data": {
      "text/plain": [
       "-3.6365468502044678"
      ]
     },
     "execution_count": 5,
     "metadata": {},
     "output_type": "execute_result"
    }
   ],
   "source": [
    "res.log_lik # -3.636553632132083"
   ]
  },
  {
   "cell_type": "code",
   "execution_count": 6,
   "id": "3c774d0f",
   "metadata": {},
   "outputs": [
    {
     "data": {
      "text/plain": [
       "1.7642974853515625e-05"
      ]
     },
     "execution_count": 6,
     "metadata": {},
     "output_type": "execute_result"
    }
   ],
   "source": [
    "float(res.pi0)#0.9999563044116645"
   ]
  },
  {
   "cell_type": "code",
   "execution_count": 7,
   "id": "fce55b71",
   "metadata": {},
   "outputs": [
    {
     "data": {
      "text/plain": [
       "3.0457077026367188"
      ]
     },
     "execution_count": 7,
     "metadata": {},
     "output_type": "execute_result"
    }
   ],
   "source": [
    "float(res.scale)#3.047337093696241"
   ]
  },
  {
   "cell_type": "code",
   "execution_count": 8,
   "id": "048c7b17",
   "metadata": {},
   "outputs": [
    {
     "data": {
      "text/plain": [
       "0.0"
      ]
     },
     "execution_count": 8,
     "metadata": {},
     "output_type": "execute_result"
    }
   ],
   "source": [
    "float(res.mode)# 0.0"
   ]
  },
  {
   "cell_type": "code",
   "execution_count": null,
   "id": "21961116",
   "metadata": {},
   "outputs": [],
   "source": []
  },
  {
   "cell_type": "code",
   "execution_count": 9,
   "id": "fe76335d",
   "metadata": {},
   "outputs": [
    {
     "name": "stdout",
     "output_type": "stream",
     "text": [
      "tensor(2.1269, dtype=torch.float64, grad_fn=<MulBackward0>)\n",
      "tensor(2.1568, dtype=torch.float64, grad_fn=<MulBackward0>)\n",
      "tensor(2.3680, dtype=torch.float64, grad_fn=<MulBackward0>)\n",
      "tensor(2.1748, dtype=torch.float64, grad_fn=<MulBackward0>)\n",
      "tensor(2.1940, dtype=torch.float64, grad_fn=<MulBackward0>)\n",
      "tensor(2.1832, dtype=torch.float64, grad_fn=<MulBackward0>)\n",
      "tensor(2.0731, dtype=torch.float64, grad_fn=<MulBackward0>)\n",
      "tensor(0.0411, dtype=torch.float64, grad_fn=<MulBackward0>)\n",
      "tensor(1.7038, dtype=torch.float64, grad_fn=<MulBackward0>)\n",
      "tensor(1.3395, dtype=torch.float64, grad_fn=<MulBackward0>)\n",
      "tensor(1.1308, dtype=torch.float64, grad_fn=<MulBackward0>)\n",
      "tensor(0.8833, dtype=torch.float64, grad_fn=<MulBackward0>)\n",
      "tensor(0.1936, dtype=torch.float64, grad_fn=<MulBackward0>)\n",
      "tensor(0.8162, dtype=torch.float64, grad_fn=<MulBackward0>)\n",
      "tensor(0.7460, dtype=torch.float64, grad_fn=<MulBackward0>)\n",
      "tensor(0.6961, dtype=torch.float64, grad_fn=<MulBackward0>)\n",
      "tensor(0.6877, dtype=torch.float64, grad_fn=<MulBackward0>)\n"
     ]
    }
   ],
   "source": [
    "import torch\n",
    "import math\n",
    "\n",
    "# If you saved the previous implementation in torch_only_point_exponential.py:\n",
    "# from torch_only_point_exponential import ebnm_point_exp_solver\n",
    "from cebmf_torch.torch_ebnm_point_laplace import ebnm_point_laplace\n",
    "torch.manual_seed(0)\n",
    "dtype = torch.float64\n",
    "device = \"cpu\"\n",
    "\n",
    "# Generate data (same structure as your NumPy snippet)\n",
    "true_val1 = 2*torch.randn(1000, dtype=dtype, device=device)          # ~ N(0,1)\n",
    "true_val0 = torch.zeros(2000, dtype=dtype, device=device)\n",
    "\n",
    "observations_mu_1 = true_val1 + torch.randn(1000, dtype=dtype, device=device)  # add N(0,1) noise\n",
    "observations_mu_0 = true_val0 + torch.randn(2000, dtype=dtype, device=device)  # add N(0,1) noise\n",
    "\n",
    "betahat = torch.cat([observations_mu_1, observations_mu_0], dim=0)            # shape (300,)\n",
    "sebetahat = torch.ones_like(betahat)                                          # all s = 1\n",
    "res0 = ebnm_point_laplace (\n",
    "    x=betahat,\n",
    "    s=sebetahat# [alpha, beta, mu] (alpha=0 => w≈0.5, beta=0 => a=1)\n",
    ")\n",
    "# Fit point-exponential EBNM\n",
    "res = ebnm_point_exp (\n",
    "    x=betahat,\n",
    "    s=sebetahat# [alpha, beta, mu] (alpha=0 => w≈0.5, beta=0 => a=1)\n",
    ")\n",
    "\n",
    "\n",
    "# Quick summary\n",
    " "
   ]
  },
  {
   "cell_type": "code",
   "execution_count": 10,
   "id": "802609cd",
   "metadata": {},
   "outputs": [
    {
     "data": {
      "text/plain": [
       "<cebmf_torch.torch_ebnm_point_exp.EBNMPointExp at 0x1ecf5a36d70>"
      ]
     },
     "execution_count": 10,
     "metadata": {},
     "output_type": "execute_result"
    }
   ],
   "source": [
    "ebnm_point_exp (\n",
    "    x=betahat,\n",
    "    s=sebetahat# [alpha, beta, mu] (alpha=0 => w≈0.5, beta=0 => a=1)\n",
    ")"
   ]
  },
  {
   "cell_type": "code",
   "execution_count": null,
   "id": "8f1cae65",
   "metadata": {},
   "outputs": [],
   "source": [
    " "
   ]
  },
  {
   "cell_type": "code",
   "execution_count": 11,
   "id": "6e41043e",
   "metadata": {},
   "outputs": [
    {
     "data": {
      "text/plain": [
       "0.5027330019116059"
      ]
     },
     "execution_count": 11,
     "metadata": {},
     "output_type": "execute_result"
    }
   ],
   "source": [
    "res0.pi0"
   ]
  },
  {
   "cell_type": "code",
   "execution_count": 12,
   "id": "5bd7a583",
   "metadata": {},
   "outputs": [
    {
     "data": {
      "text/plain": [
       "<matplotlib.collections.PathCollection at 0x1ecf5a776d0>"
      ]
     },
     "execution_count": 12,
     "metadata": {},
     "output_type": "execute_result"
    },
    {
     "data": {
      "image/png": "[encoded data removed]",
      "text/plain": [
       "<Figure size 640x480 with 1 Axes>"
      ]
     },
     "metadata": {},
     "output_type": "display_data"
    }
   ],
   "source": [
    "plt.scatter(betahat, res.post_mean   ) \n",
    "plt.scatter(betahat, res0.post_mean   ) \n"
   ]
  },
  {
   "cell_type": "code",
   "execution_count": 13,
   "id": "90b599c2",
   "metadata": {},
   "outputs": [
    {
     "data": {
      "text/plain": [
       "<cebmf_torch.torch_ebnm_point_exp.EBNMPointExp at 0x1ecf5a77070>"
      ]
     },
     "execution_count": 13,
     "metadata": {},
     "output_type": "execute_result"
    }
   ],
   "source": [
    "res"
   ]
  }
 ],
 "metadata": {
  "kernelspec": {
   "display_name": "ml_env",
   "language": "python",
   "name": "python3"
  },
  "language_info": {
   "codemirror_mode": {
    "name": "ipython",
    "version": 3
   },
   "file_extension": ".py",
   "mimetype": "text/x-python",
   "name": "python",
   "nbconvert_exporter": "python",
   "pygments_lexer": "ipython3",
   "version": "3.10.8"
  }
 },
 "nbformat": 4,
 "nbformat_minor": 5
}
