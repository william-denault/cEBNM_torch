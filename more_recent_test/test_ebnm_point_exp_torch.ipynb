{
 "cells": [
  {
   "cell_type": "code",
   "execution_count": 24,
   "id": "93472ddb",
   "metadata": {},
   "outputs": [],
   "source": [
    "import numpy as np\n",
    "import torch\n",
    "from cebmf_torch.torch_ebnm_point_exp import ebnm_point_exp_solver\n",
    "import matplotlib.pyplot  as plt\n",
    "x = torch.tensor([1.0, 1.0, -0.5])\n",
    "s = torch.tensor([1.0, 1.0, 1.0])\n",
    "res = ebnm_point_exp_solver(x, s  )\n",
    "    # Expected numbers from original tests (allow small tolerance)\n",
    " "
   ]
  },
  {
   "cell_type": "code",
   "execution_count": 25,
   "id": "6a6de11c",
   "metadata": {},
   "outputs": [
    {
     "data": {
      "text/plain": [
       "0.9999969601631165"
      ]
     },
     "execution_count": 25,
     "metadata": {},
     "output_type": "execute_result"
    }
   ],
   "source": [
    "res.pi"
   ]
  },
  {
   "cell_type": "code",
   "execution_count": 26,
   "id": "dd7e207a",
   "metadata": {},
   "outputs": [
    {
     "data": {
      "text/plain": [
       "<matplotlib.collections.PathCollection at 0x2a18e05aa10>"
      ]
     },
     "execution_count": 26,
     "metadata": {},
     "output_type": "execute_result"
    },
    {
     "data": {
      "image/png": "[encoded data removed]",
      "text/plain": [
       "<Figure size 640x480 with 1 Axes>"
      ]
     },
     "metadata": {},
     "output_type": "display_data"
    }
   ],
   "source": [
    "plt.scatter( res.post_mean, x)"
   ]
  },
  {
   "cell_type": "code",
   "execution_count": 27,
   "id": "ea180bf5",
   "metadata": {},
   "outputs": [
    {
     "data": {
      "text/plain": [
       "-3.636544942855835"
      ]
     },
     "execution_count": 27,
     "metadata": {},
     "output_type": "execute_result"
    }
   ],
   "source": [
    "res.log_lik # -3.636553632132083"
   ]
  },
  {
   "cell_type": "code",
   "execution_count": 28,
   "id": "3c774d0f",
   "metadata": {},
   "outputs": [
    {
     "data": {
      "text/plain": [
       "0.9999969601631165"
      ]
     },
     "execution_count": 28,
     "metadata": {},
     "output_type": "execute_result"
    }
   ],
   "source": [
    "float(res.pi)#0.9999563044116645"
   ]
  },
  {
   "cell_type": "code",
   "execution_count": 29,
   "id": "fce55b71",
   "metadata": {},
   "outputs": [
    {
     "data": {
      "text/plain": [
       "3.047322988510132"
      ]
     },
     "execution_count": 29,
     "metadata": {},
     "output_type": "execute_result"
    }
   ],
   "source": [
    "float(res.scale)#3.047337093696241"
   ]
  },
  {
   "cell_type": "code",
   "execution_count": 30,
   "id": "048c7b17",
   "metadata": {},
   "outputs": [
    {
     "data": {
      "text/plain": [
       "0.0"
      ]
     },
     "execution_count": 30,
     "metadata": {},
     "output_type": "execute_result"
    }
   ],
   "source": [
    "float(res.mode)# 0.0"
   ]
  },
  {
   "cell_type": "code",
   "execution_count": null,
   "id": "21961116",
   "metadata": {},
   "outputs": [],
   "source": []
  },
  {
   "cell_type": "code",
   "execution_count": 31,
   "id": "fe76335d",
   "metadata": {},
   "outputs": [],
   "source": [
    "import torch\n",
    "import math\n",
    "\n",
    "# If you saved the previous implementation in torch_only_point_exponential.py:\n",
    "# from torch_only_point_exponential import ebnm_point_exp_solver\n",
    "\n",
    "torch.manual_seed(0)\n",
    "dtype = torch.float64\n",
    "device = \"cpu\"\n",
    "\n",
    "# Generate data (same structure as your NumPy snippet)\n",
    "true_val1 = torch.randn(100, dtype=dtype, device=device)          # ~ N(0,1)\n",
    "true_val0 = torch.zeros(200, dtype=dtype, device=device)\n",
    "\n",
    "observations_mu_1 = true_val1 + torch.randn(100, dtype=dtype, device=device)  # add N(0,1) noise\n",
    "observations_mu_0 = true_val0 + torch.randn(200, dtype=dtype, device=device)  # add N(0,1) noise\n",
    "\n",
    "betahat = torch.cat([observations_mu_1, observations_mu_0], dim=0)            # shape (300,)\n",
    "sebetahat = torch.ones_like(betahat)                                          # all s = 1\n",
    "\n",
    "# Fit point-exponential EBNM\n",
    "res = ebnm_point_exp_solver(\n",
    "    x=betahat,\n",
    "    s=sebetahat# [alpha, beta, mu] (alpha=0 => w≈0.5, beta=0 => a=1)\n",
    ")\n",
    "\n",
    "# Quick summary\n",
    " "
   ]
  },
  {
   "cell_type": "code",
   "execution_count": null,
   "id": "8f1cae65",
   "metadata": {},
   "outputs": [],
   "source": []
  },
  {
   "cell_type": "code",
   "execution_count": 32,
   "id": "5bd7a583",
   "metadata": {},
   "outputs": [
    {
     "data": {
      "text/plain": [
       "<matplotlib.collections.PathCollection at 0x2a18e0ca350>"
      ]
     },
     "execution_count": 32,
     "metadata": {},
     "output_type": "execute_result"
    },
    {
     "data": {
      "image/png": "[encoded data removed]",
      "text/plain": [
       "<Figure size 640x480 with 1 Axes>"
      ]
     },
     "metadata": {},
     "output_type": "display_data"
    }
   ],
   "source": [
    "plt.scatter(betahat, res.post_mean   )"
   ]
  },
  {
   "cell_type": "code",
   "execution_count": null,
   "id": "90b599c2",
   "metadata": {},
   "outputs": [],
   "source": []
  }
 ],
 "metadata": {
  "kernelspec": {
   "display_name": "ml_env",
   "language": "python",
   "name": "python3"
  },
  "language_info": {
   "codemirror_mode": {
    "name": "ipython",
    "version": 3
   },
   "file_extension": ".py",
   "mimetype": "text/x-python",
   "name": "python",
   "nbconvert_exporter": "python",
   "pygments_lexer": "ipython3",
   "version": "3.10.8"
  }
 },
 "nbformat": 4,
 "nbformat_minor": 5
}
