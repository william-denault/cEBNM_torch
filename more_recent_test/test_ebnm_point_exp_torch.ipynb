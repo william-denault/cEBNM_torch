{
 "cells": [
  {
   "cell_type": "code",
   "execution_count": 8,
   "id": "93472ddb",
   "metadata": {},
   "outputs": [],
   "source": [
    "import numpy as np\n",
    "import torch\n",
    "from cebmf_torch import *\n",
    "import matplotlib.pyplot  as plt\n",
    "x = torch.tensor([1.0, 1.0, -0.5])\n",
    "s = torch.tensor([1.0, 1.0, 1.0])\n",
    "res = ebnm_point_exp(x, s, steps=2000, lr=0.02)\n",
    "    # Expected numbers from original tests (allow small tolerance)\n",
    " "
   ]
  },
  {
   "cell_type": "code",
   "execution_count": 14,
   "id": "6a6de11c",
   "metadata": {},
   "outputs": [
    {
     "data": {
      "text/plain": [
       "tensor(4.1939)"
      ]
     },
     "execution_count": 14,
     "metadata": {},
     "output_type": "execute_result"
    }
   ],
   "source": [
    "res.a"
   ]
  },
  {
   "cell_type": "code",
   "execution_count": 15,
   "id": "01a66cd2",
   "metadata": {},
   "outputs": [
    {
     "data": {
      "text/plain": [
       "tensor(0.0050)"
      ]
     },
     "execution_count": 15,
     "metadata": {},
     "output_type": "execute_result"
    }
   ],
   "source": [
    "res.w"
   ]
  },
  {
   "cell_type": "code",
   "execution_count": 9,
   "id": "dd7e207a",
   "metadata": {},
   "outputs": [
    {
     "data": {
      "text/plain": [
       "<matplotlib.collections.PathCollection at 0x1dc5c3f35e0>"
      ]
     },
     "execution_count": 9,
     "metadata": {},
     "output_type": "execute_result"
    },
    {
     "data": {
      "image/png": "[encoded data removed]",
      "text/plain": [
       "<Figure size 640x480 with 1 Axes>"
      ]
     },
     "metadata": {},
     "output_type": "display_data"
    }
   ],
   "source": [
    "plt.scatter( res.post_mean, x)"
   ]
  },
  {
   "cell_type": "code",
   "execution_count": 10,
   "id": "ea180bf5",
   "metadata": {},
   "outputs": [
    {
     "data": {
      "text/plain": [
       "-1.1688940525054932"
      ]
     },
     "execution_count": 10,
     "metadata": {},
     "output_type": "execute_result"
    }
   ],
   "source": [
    "res.log_lik # -3.636553632132083"
   ]
  },
  {
   "cell_type": "code",
   "execution_count": 11,
   "id": "3c774d0f",
   "metadata": {},
   "outputs": [
    {
     "data": {
      "text/plain": [
       "0.004968094639480114"
      ]
     },
     "execution_count": 11,
     "metadata": {},
     "output_type": "execute_result"
    }
   ],
   "source": [
    "float(res.w)#0.9999563044116645"
   ]
  },
  {
   "cell_type": "code",
   "execution_count": 12,
   "id": "fce55b71",
   "metadata": {},
   "outputs": [
    {
     "data": {
      "text/plain": [
       "4.193866729736328"
      ]
     },
     "execution_count": 12,
     "metadata": {},
     "output_type": "execute_result"
    }
   ],
   "source": [
    "float(res.a)#3.047337093696241"
   ]
  },
  {
   "cell_type": "code",
   "execution_count": 13,
   "id": "048c7b17",
   "metadata": {},
   "outputs": [
    {
     "data": {
      "text/plain": [
       "0.4988369047641754"
      ]
     },
     "execution_count": 13,
     "metadata": {},
     "output_type": "execute_result"
    }
   ],
   "source": [
    "float(res.mu)# 0.0"
   ]
  },
  {
   "cell_type": "code",
   "execution_count": null,
   "id": "21961116",
   "metadata": {},
   "outputs": [],
   "source": []
  },
  {
   "cell_type": "code",
   "execution_count": null,
   "id": "fe76335d",
   "metadata": {},
   "outputs": [
    {
     "ename": "AttributeError",
     "evalue": "'EBNMExpResult' object has no attribute 'pi'",
     "output_type": "error",
     "traceback": [
      "\u001b[1;31m---------------------------------------------------------------------------\u001b[0m",
      "\u001b[1;31mAttributeError\u001b[0m                            Traceback (most recent call last)",
      "Cell \u001b[1;32mIn[17], line 28\u001b[0m\n\u001b[0;32m     22\u001b[0m res \u001b[38;5;241m=\u001b[39m ebnm_point_exp(\n\u001b[0;32m     23\u001b[0m     x\u001b[38;5;241m=\u001b[39mbetahat,\n\u001b[0;32m     24\u001b[0m     s\u001b[38;5;241m=\u001b[39msebetahat\u001b[38;5;66;03m# [alpha, beta, mu] (alpha=0 => w≈0.5, beta=0 => a=1)\u001b[39;00m\n\u001b[0;32m     25\u001b[0m )\n\u001b[0;32m     27\u001b[0m \u001b[38;5;66;03m# Quick summary\u001b[39;00m\n\u001b[1;32m---> 28\u001b[0m \u001b[38;5;28mprint\u001b[39m(\u001b[38;5;124mf\u001b[39m\u001b[38;5;124m\"\u001b[39m\u001b[38;5;124mEstimated pi (w): \u001b[39m\u001b[38;5;132;01m{\u001b[39;00mres\u001b[38;5;241m.\u001b[39mpi\u001b[38;5;132;01m:\u001b[39;00m\u001b[38;5;124m.4f\u001b[39m\u001b[38;5;132;01m}\u001b[39;00m\u001b[38;5;124m\"\u001b[39m)\n\u001b[0;32m     29\u001b[0m \u001b[38;5;28mprint\u001b[39m(\u001b[38;5;124mf\u001b[39m\u001b[38;5;124m\"\u001b[39m\u001b[38;5;124mEstimated scale (a): \u001b[39m\u001b[38;5;132;01m{\u001b[39;00mres\u001b[38;5;241m.\u001b[39mscale\u001b[38;5;132;01m:\u001b[39;00m\u001b[38;5;124m.4f\u001b[39m\u001b[38;5;132;01m}\u001b[39;00m\u001b[38;5;124m\"\u001b[39m)\n\u001b[0;32m     30\u001b[0m \u001b[38;5;28mprint\u001b[39m(\u001b[38;5;124mf\u001b[39m\u001b[38;5;124m\"\u001b[39m\u001b[38;5;124mMode (mu): \u001b[39m\u001b[38;5;132;01m{\u001b[39;00mres\u001b[38;5;241m.\u001b[39mmode\u001b[38;5;132;01m:\u001b[39;00m\u001b[38;5;124m.4f\u001b[39m\u001b[38;5;132;01m}\u001b[39;00m\u001b[38;5;124m\"\u001b[39m)\n",
      "\u001b[1;31mAttributeError\u001b[0m: 'EBNMExpResult' object has no attribute 'pi'"
     ]
    }
   ],
   "source": [
    "import torch\n",
    "import math\n",
    "\n",
    "# If you saved the previous implementation in torch_only_point_exponential.py:\n",
    "# from torch_only_point_exponential import ebnm_point_exp_solver\n",
    "\n",
    "torch.manual_seed(0)\n",
    "dtype = torch.float64\n",
    "device = \"cpu\"\n",
    "\n",
    "# Generate data (same structure as your NumPy snippet)\n",
    "true_val1 = torch.randn(100, dtype=dtype, device=device)          # ~ N(0,1)\n",
    "true_val0 = torch.zeros(200, dtype=dtype, device=device)\n",
    "\n",
    "observations_mu_1 = true_val1 + torch.randn(100, dtype=dtype, device=device)  # add N(0,1) noise\n",
    "observations_mu_0 = true_val0 + torch.randn(200, dtype=dtype, device=device)  # add N(0,1) noise\n",
    "\n",
    "betahat = torch.cat([observations_mu_1, observations_mu_0], dim=0)            # shape (300,)\n",
    "sebetahat = torch.ones_like(betahat)                                          # all s = 1\n",
    "\n",
    "# Fit point-exponential EBNM\n",
    "res = ebnm_point_exp(\n",
    "    x=betahat,\n",
    "    s=sebetahat# [alpha, beta, mu] (alpha=0 => w≈0.5, beta=0 => a=1)\n",
    ")\n",
    "\n",
    "# Quick summary\n",
    " "
   ]
  },
  {
   "cell_type": "code",
   "execution_count": null,
   "id": "8f1cae65",
   "metadata": {},
   "outputs": [
    {
     "data": {
      "text/plain": [
       "tensor([0.2643, 0.4815, 0.2290, 0.4656, 0.3945, 0.4160, 0.3064, 0.5252, 0.2912,\n",
       "        0.5630, 0.9637, 0.7292, 0.7008, 0.3352, 0.3621, 0.8641, 0.5802, 0.3422,\n",
       "        0.2259, 0.2830, 0.5027, 0.2541, 0.4088, 0.4274, 0.8777, 0.1944, 0.2459,\n",
       "        0.2106, 0.3530, 0.5595, 0.5366, 0.3766, 0.2492, 0.2945, 0.4503, 0.1848,\n",
       "        0.2021, 0.3686, 0.7013, 0.3953, 0.8563, 0.3960, 0.2531, 0.4002, 0.6613,\n",
       "        0.2882, 0.1776, 0.7710, 0.1123, 0.6823, 0.2529, 0.2596, 0.3184, 1.2748,\n",
       "        0.5149, 0.6508, 0.1853, 0.1768, 0.4276, 0.2997, 0.3874, 0.3631, 0.6488,\n",
       "        0.5465, 0.2540, 0.6180, 0.4732, 0.3924, 0.3739, 0.9035, 0.1326, 0.4832,\n",
       "        0.7808, 0.2165, 0.3788, 0.6971, 0.6480, 0.9763, 0.2384, 0.8010, 0.1945,\n",
       "        0.3990, 0.1892, 0.6351, 0.5592, 0.3944, 0.8213, 0.1606, 0.2874, 0.8441,\n",
       "        0.3951, 1.7785, 0.4805, 2.0405, 0.2241, 1.3879, 0.4546, 0.7707, 0.3123,\n",
       "        0.3923, 0.4583, 0.3498, 0.2228, 0.2311, 0.5028, 0.5267, 0.6963, 0.2803,\n",
       "        0.5322, 0.2625, 0.2668, 0.4402, 0.5086, 0.5376, 0.3777, 0.6825, 0.6344,\n",
       "        0.6732, 0.5519, 0.3924, 0.4305, 0.3171, 0.2725, 0.2935, 0.2889, 0.4068,\n",
       "        0.4366, 0.4120, 0.5936, 0.4760, 0.2434, 0.2260, 0.1693, 0.2914, 0.1707,\n",
       "        0.5357, 1.3222, 0.4198, 0.6617, 0.3441, 0.2889, 1.6170, 0.3387, 1.2595,\n",
       "        0.2810, 0.2580, 0.8935, 0.3826, 0.3620, 0.2900, 0.5198, 0.3525, 0.3732,\n",
       "        0.4584, 0.5363, 0.2593, 0.3449, 0.2734, 0.3016, 0.4562, 0.3315, 0.2879,\n",
       "        0.7957, 0.5774, 0.5942, 0.2583, 0.3178, 0.2391, 0.7222, 0.3188, 0.4817,\n",
       "        0.4706, 0.4277, 0.2700, 0.6224, 0.5664, 0.4223, 0.4721, 0.5183, 0.3771,\n",
       "        0.2532, 0.3700, 0.3026, 0.3267, 0.4522, 0.4901, 0.3153, 0.2185, 0.2446,\n",
       "        0.6514, 0.4891, 0.2760, 0.3091, 0.6129, 0.5489, 0.1957, 0.3414, 0.3449,\n",
       "        0.1709, 0.3752, 0.2772, 0.2818, 0.4607, 0.3501, 0.7171, 0.3721, 0.9431,\n",
       "        0.1907, 0.3920, 0.3385, 0.2305, 0.4651, 0.1733, 0.2521, 0.6293, 0.2887,\n",
       "        0.2218, 0.9089, 0.4240, 0.3694, 0.5132, 0.3803, 0.5307, 0.4056, 0.3710,\n",
       "        0.2610, 0.4850, 0.2792, 0.3061, 0.4753, 0.5345, 0.5502, 0.5452, 0.3437,\n",
       "        0.3425, 0.4205, 0.4108, 0.5587, 0.2487, 0.7509, 0.3103, 0.3234, 0.3741,\n",
       "        0.3147, 0.4182, 0.3483, 0.4438, 0.2910, 0.7164, 0.6022, 0.2826, 0.3353,\n",
       "        0.3897, 0.5747, 0.5373, 0.4153, 0.3782, 0.3922, 0.4699, 0.4422, 0.4518,\n",
       "        0.5297, 0.5239, 1.8692, 0.3423, 0.5706, 0.5847, 0.3321, 0.2270, 0.8561,\n",
       "        0.4058, 0.3354, 0.2264, 0.5695, 0.4936, 0.3012, 0.2952, 0.2854, 0.1829,\n",
       "        0.3478, 0.3735, 0.4658, 0.3828, 0.3767, 0.2173, 0.6836, 0.3280, 0.4318,\n",
       "        0.3937, 0.4352, 0.4563, 0.3543, 0.7298, 0.5522, 0.5884, 0.6653, 0.4010,\n",
       "        0.2074, 0.4165, 0.7133], dtype=torch.float64)"
      ]
     },
     "execution_count": 18,
     "metadata": {},
     "output_type": "execute_result"
    }
   ],
   "source": []
  },
  {
   "cell_type": "code",
   "execution_count": 19,
   "id": "5bd7a583",
   "metadata": {},
   "outputs": [
    {
     "data": {
      "text/plain": [
       "<matplotlib.collections.PathCollection at 0x1dc5c47acb0>"
      ]
     },
     "execution_count": 19,
     "metadata": {},
     "output_type": "execute_result"
    },
    {
     "data": {
      "image/png": "[encoded data removed]",
      "text/plain": [
       "<Figure size 640x480 with 1 Axes>"
      ]
     },
     "metadata": {},
     "output_type": "display_data"
    }
   ],
   "source": [
    "plt.scatter(betahat, res.post_mean   )"
   ]
  },
  {
   "cell_type": "code",
   "execution_count": null,
   "id": "90b599c2",
   "metadata": {},
   "outputs": [],
   "source": []
  }
 ],
 "metadata": {
  "kernelspec": {
   "display_name": "ml_env",
   "language": "python",
   "name": "python3"
  },
  "language_info": {
   "codemirror_mode": {
    "name": "ipython",
    "version": 3
   },
   "file_extension": ".py",
   "mimetype": "text/x-python",
   "name": "python",
   "nbconvert_exporter": "python",
   "pygments_lexer": "ipython3",
   "version": "3.10.8"
  }
 },
 "nbformat": 4,
 "nbformat_minor": 5
}
