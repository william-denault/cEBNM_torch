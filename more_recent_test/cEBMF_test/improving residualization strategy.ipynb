{
 "cells": [
  {
   "cell_type": "code",
   "execution_count": 48,
   "id": "b9591091",
   "metadata": {},
   "outputs": [],
   "source": [
    "# ---- Reproducibility\n",
    "import random\n",
    "import torch\n",
    "import sys\n",
    "import os\n",
    "import matplotlib.pyplot as plt\n",
    "from cebmf_torch import cEBMF\n",
    "#seed = 1234\n",
    "#random.seed(seed)\n",
    "#torch.manual_seed(seed)\n",
    "#if torch.cuda.is_available():\n",
    "#    torch.cuda.manual_seed_all(seed)\n"
   ]
  },
  {
   "cell_type": "code",
   "execution_count": 49,
   "id": "9f7bc5cb",
   "metadata": {},
   "outputs": [],
   "source": [
    "from cebmf_torch.torch_main import normal_means_loglik"
   ]
  },
  {
   "cell_type": "code",
   "execution_count": 50,
   "id": "4fe2357f",
   "metadata": {},
   "outputs": [
    {
     "name": "stdout",
     "output_type": "stream",
     "text": [
      "Rank-1 Matrix (Outer Product):\n",
      "[[0.10183198 0.04179437 0.02419357 ... 0.15857383 0.20969895 0.17719393]\n",
      " [0.37269712 0.15296413 0.0885466  ... 0.58036789 0.76748184 0.64851601]\n",
      " [0.23915893 0.09815675 0.05682016 ... 0.3724208  0.49249141 0.4161513 ]\n",
      " ...\n",
      " [0.34951133 0.14344811 0.08303804 ... 0.54426273 0.71973616 0.6081713 ]\n",
      " [0.08165583 0.03351358 0.01940006 ... 0.12715532 0.16815093 0.14208619]\n",
      " [0.03996504 0.01640264 0.00949502 ... 0.06223398 0.08229857 0.06954164]]\n",
      "\n",
      "Noisy Matrix (with Homoscedastic Noise):\n",
      "[[ 0.09951602  0.02614354 -0.16815235 ...  0.28284187  0.27875396\n",
      "   0.05413766]\n",
      " [ 0.26044719  0.30674842  0.18253977 ...  0.51981395  0.8529362\n",
      "   0.76356992]\n",
      " [ 0.23443733  0.07428488 -0.04053495 ...  0.40685807  0.56206996\n",
      "   0.31545154]\n",
      " ...\n",
      " [ 0.49719097  0.04818408  0.13564272 ...  0.61150795  0.62623968\n",
      "   0.60111502]\n",
      " [-0.00615284  0.03337321  0.03377152 ...  0.06712921  0.11190382\n",
      "   0.03189209]\n",
      " [-0.10464407 -0.11992216  0.32517501 ...  0.1760092   0.10745593\n",
      "   0.13942909]]\n"
     ]
    }
   ],
   "source": [
    "\n",
    "\n",
    "# ---- Parameters\n",
    "n, p = 50, 40\n",
    "noise_std = 0.1\n",
    "\n",
    "# (Optional) choose device\n",
    "device = torch.device(\"cuda\" if torch.cuda.is_available() else \"cpu\")\n",
    "\n",
    "# ---- Data generation (PyTorch)\n",
    "# Use float64 to mirror NumPy defaults\n",
    "u = torch.rand(n, dtype=torch.float64, device=device)          # length n\n",
    "v = torch.rand(p, dtype=torch.float64, device=device)          # length p\n",
    "\n",
    "# Rank-1 matrix via outer product\n",
    "rank_1_matrix = torch.outer(u, v)                              # (n, p)\n",
    "\n",
    "# Homoscedastic Gaussian noise\n",
    "noise = noise_std * torch.randn(n, p, dtype=torch.float64, device=device)\n",
    "\n",
    "noisy_matrix = rank_1_matrix + noise\n",
    "\n",
    "# ---- Print (move to CPU for readability if needed)\n",
    "print(\"Rank-1 Matrix (Outer Product):\")\n",
    "print(rank_1_matrix.cpu().numpy())\n",
    "\n",
    "print(\"\\nNoisy Matrix (with Homoscedastic Noise):\")\n",
    "print(noisy_matrix.cpu().numpy())\n"
   ]
  },
  {
   "cell_type": "code",
   "execution_count": 51,
   "id": "5b1d6e17",
   "metadata": {},
   "outputs": [
    {
     "name": "stdout",
     "output_type": "stream",
     "text": [
      "tensor([-0.0147, -0.2760, -0.0662,  0.0625,  0.0772,  0.0047,  0.0633,  0.0280,\n",
      "        -0.3390, -0.0413, -0.0170,  0.0669,  0.1766, -0.2237, -0.0968,  0.0988,\n",
      "        -0.0460,  0.0924,  0.0023,  0.1061,  0.2991,  0.2363,  0.3222,  0.1686,\n",
      "        -0.0574, -0.1355, -0.1192,  0.2116,  0.3235,  0.0218, -0.0371,  0.0350,\n",
      "        -0.0155,  0.2007,  0.0133, -0.2813, -0.0676,  0.0023,  0.2820, -0.0249,\n",
      "        -0.4599, -0.1258,  0.1396, -0.2020,  0.1928,  0.3024,  0.0350,  0.0207,\n",
      "        -0.1874,  0.3040])\n",
      "tensor([ 0.0081, -0.0964,  0.2163,  0.0418, -0.0567, -0.0518, -0.0031, -0.1564,\n",
      "        -0.0869, -0.0970,  0.0351, -0.2561, -0.1230,  0.1926, -0.3042, -0.2442,\n",
      "        -0.0405,  0.1762,  0.1268, -0.0604,  0.3845,  0.0120,  0.1653, -0.2584,\n",
      "        -0.0922,  0.0957,  0.0962,  0.0341, -0.2715,  0.3153,  0.0100,  0.0928,\n",
      "         0.0382,  0.0887,  0.0398, -0.0994,  0.1395,  0.2355, -0.0932,  0.1214])\n"
     ]
    }
   ],
   "source": [
    "mycebmf=  cEBMF(data= noisy_matrix) \n",
    "mycebmf.initialize()\n",
    "print(mycebmf.L[:,1])\n",
    "print(mycebmf.F[:,1])"
   ]
  },
  {
   "cell_type": "code",
   "execution_count": 52,
   "id": "f5839eb0",
   "metadata": {},
   "outputs": [],
   "source": [
    "tau_map=None\n",
    "eps = 1e-12"
   ]
  },
  {
   "cell_type": "code",
   "execution_count": null,
   "id": "27b8525c",
   "metadata": {},
   "outputs": [],
   "source": []
  },
  {
   "cell_type": "code",
   "execution_count": null,
   "id": "aaa618ae",
   "metadata": {},
   "outputs": [],
   "source": [
    " "
   ]
  },
  {
   "cell_type": "code",
   "execution_count": 53,
   "id": "4ddec261",
   "metadata": {},
   "outputs": [],
   "source": [
    "k = 0\n",
    "\n",
    "Rk = mycebmf._partial_residual_masked(k)  # (N,P), zeros where missing\n",
    "fk = mycebmf.F[:, k]  # (P,)\n",
    "fk2 = mycebmf.F2[:, k]  # (P,)\n",
    "\n",
    "if tau_map is None:\n",
    "    denom_l = (\n",
    "        (fk2.view(1, -1) * mycebmf.mask).sum(dim=1).clamp_min(eps)\n",
    "    )  # (N,)\n",
    "    num_l = Rk @ fk  # (N,)\n",
    "    se_l = torch.sqrt(1.0 / (mycebmf.tau * denom_l))\n",
    "else:\n",
    "    denom_l = (\n",
    "        (tau_map * (fk2.view(1, -1) * mycebmf.mask)).sum(dim=1).clamp_min(eps)\n",
    "    )  # (N,)\n",
    "    num_l = (tau_map * Rk) @ fk  # (N,)\n",
    "    se_l = torch.sqrt(1.0 / denom_l)\n",
    "\n",
    "lhat = num_l / denom_l\n",
    "# print(denom_l)\n",
    "\n",
    "X_model = mycebmf.update_cov_L(k)\n",
    "with torch.enable_grad():\n",
    "    resL = mycebmf.prior_L_fn(\n",
    "        X=X_model,\n",
    "        betahat=lhat,\n",
    "        sebetahat=se_l,\n",
    "        model_param=mycebmf.model_state_L[k],\n",
    "    )\n",
    "with torch.no_grad():\n",
    "    mycebmf.model_state_L[k] = resL.model_param\n",
    "    mycebmf.L[:, k] = resL.post_mean\n",
    "    mycebmf.L2[:, k] = resL.post_mean2\n",
    "    nm_ll_L = normal_means_loglik(\n",
    "        x=lhat, s=se_l, Et=resL.post_mean, Et2=resL.post_mean2\n",
    "    )\n",
    "    mycebmf.kl_l[k] = torch.as_tensor((-resL.loss) - nm_ll_L, device=mycebmf.device)\n",
    "    mycebmf.pi0_L[k] = resL.pi0_null if hasattr(resL, \"pi0_null\") else None\n",
    "\n",
    "# ---------- Update F[:, k] ----------\n",
    "Rk = mycebmf._partial_residual_masked(k)  # recompute with updated L\n",
    "lk = mycebmf.L[:, k]  # (N,)\n",
    "lk2 = mycebmf.L2[:, k]  # (N,)\n",
    "\n",
    "if tau_map is None:\n",
    "    denom_f = (\n",
    "        (lk2.view(-1, 1) * mycebmf.mask).sum(dim=0).clamp_min(eps)\n",
    "    )  # (P,)\n",
    "    num_f = Rk.T @ lk  # (P,)\n",
    "    se_f = torch.sqrt(1.0 / (mycebmf.tau * denom_f))\n",
    "else:\n",
    "    denom_f = (\n",
    "        (tau_map * (lk2.view(-1, 1) * mycebmf.mask)).sum(dim=0).clamp_min(eps)\n",
    "    )  # (P,)\n",
    "    num_f = (tau_map * Rk).T @ lk  # (P,)\n",
    "    se_f = torch.sqrt(1.0 / denom_f)\n",
    "\n",
    "fhat = num_f / denom_f\n",
    "\n",
    "X_model = mycebmf.update_cov_F(k)\n",
    "with torch.enable_grad():\n",
    "    resF = mycebmf.prior_F_fn(\n",
    "        X=X_model,\n",
    "        betahat=fhat,\n",
    "        sebetahat=se_f,\n",
    "        model_param=mycebmf.model_state_F[k],\n",
    "    )\n",
    "with torch.no_grad():\n",
    "    mycebmf.model_state_F[k] = resF.model_param\n",
    "    mycebmf.F[:, k] = resF.post_mean\n",
    "    mycebmf.F2[:, k] = resF.post_mean2\n",
    "    # store as scalar on device; PriorResult.loss already = -log_lik\n",
    "    nm_ll_F = normal_means_loglik(\n",
    "        x=fhat, s=se_f, Et=resF.post_mean, Et2=resF.post_mean2\n",
    "    )\n",
    "    mycebmf.kl_f[k] = torch.as_tensor((-resF.loss) - nm_ll_F, device=mycebmf.device)\n",
    "    mycebmf.pi0_F[k] = resF.pi0_null if hasattr(resF, \"pi0_null\") else None\n"
   ]
  },
  {
   "cell_type": "code",
   "execution_count": null,
   "id": "d4e9dc60",
   "metadata": {},
   "outputs": [
    {
     "name": "stdout",
     "output_type": "stream",
     "text": [
      "5\n"
     ]
    }
   ],
   "source": [
    "mycebmf=  cEBMF(data= noisy_matrix) \n",
    "mycebmf.initialize()\n"
   ]
  },
  {
   "cell_type": "code",
   "execution_count": 70,
   "id": "cceadf24",
   "metadata": {},
   "outputs": [
    {
     "name": "stdout",
     "output_type": "stream",
     "text": [
      "Converged after 66 iterations.\n",
      "Converged after 54 iterations.\n",
      "2\n"
     ]
    }
   ],
   "source": [
    "mycebmf.iter_once()"
   ]
  },
  {
   "cell_type": "code",
   "execution_count": 55,
   "id": "2ce0794f",
   "metadata": {},
   "outputs": [
    {
     "name": "stdout",
     "output_type": "stream",
     "text": [
      "tensor([-0.0147, -0.2760, -0.0662,  0.0625,  0.0772,  0.0047,  0.0633,  0.0280,\n",
      "        -0.3390, -0.0413, -0.0170,  0.0669,  0.1766, -0.2237, -0.0968,  0.0988,\n",
      "        -0.0460,  0.0924,  0.0023,  0.1061,  0.2991,  0.2363,  0.3222,  0.1686,\n",
      "        -0.0574, -0.1355, -0.1192,  0.2116,  0.3235,  0.0218, -0.0371,  0.0350,\n",
      "        -0.0155,  0.2007,  0.0133, -0.2813, -0.0676,  0.0023,  0.2820, -0.0249,\n",
      "        -0.4599, -0.1258,  0.1396, -0.2020,  0.1928,  0.3024,  0.0350,  0.0207,\n",
      "        -0.1874,  0.3040])\n",
      "tensor([ 0.0081, -0.0964,  0.2163,  0.0418, -0.0567, -0.0518, -0.0031, -0.1564,\n",
      "        -0.0869, -0.0970,  0.0351, -0.2561, -0.1230,  0.1926, -0.3042, -0.2442,\n",
      "        -0.0405,  0.1762,  0.1268, -0.0604,  0.3845,  0.0120,  0.1653, -0.2584,\n",
      "        -0.0922,  0.0957,  0.0962,  0.0341, -0.2715,  0.3153,  0.0100,  0.0928,\n",
      "         0.0382,  0.0887,  0.0398, -0.0994,  0.1395,  0.2355, -0.0932,  0.1214])\n"
     ]
    }
   ],
   "source": [
    "mycebmf0=  cEBMF(data= noisy_matrix) \n",
    "mycebmf0.initialize()\n",
    "print(mycebmf0.L[:,1])\n",
    "print(mycebmf0.F[:,1])"
   ]
  },
  {
   "cell_type": "code",
   "execution_count": 56,
   "id": "f9531936",
   "metadata": {},
   "outputs": [],
   "source": [
    "R = mycebmf0.Y0 - mycebmf0.L @ mycebmf0.F.T"
   ]
  },
  {
   "cell_type": "code",
   "execution_count": 57,
   "id": "0374366c",
   "metadata": {},
   "outputs": [],
   "source": [
    "k= 0 \n"
   ]
  },
  {
   "cell_type": "code",
   "execution_count": 58,
   "id": "3611729e",
   "metadata": {},
   "outputs": [],
   "source": [
    "# Precondition: R is the global residual with ALL components removed:\n",
    "# R = Y - sum_j L[:, j] @ F[:, j]^T\n",
    "\n",
    "for k in range(mycebmf0.K):\n",
    "    # 1) Add back k's current contribution to form the partial residual\n",
    "    R_k = R + torch.outer(mycebmf0.L[:, k], mycebmf0.F[:, k])  # (N,P)\n",
    "\n",
    "    # ---------- Update L[:, k] (hold F[:, k] fixed) ----------\n",
    "    fk  = mycebmf0.F[:, k]      # (P,)\n",
    "    fk2 = mycebmf0.F2[:, k]     # (P,)\n",
    "\n",
    "    if tau_map is None:\n",
    "        denom_l = ((fk2.view(1, -1) * mycebmf0.mask).sum(dim=1).clamp_min(eps))  # (N,)\n",
    "        num_l   = R_k @ fk                                                        # (N,)\n",
    "        se_l    = torch.sqrt(1.0 / (mycebmf0.tau * denom_l))\n",
    "    else:\n",
    "        denom_l = ((tau_map * (fk2.view(1, -1) * mycebmf0.mask)).sum(dim=1).clamp_min(eps))  # (N,)\n",
    "        num_l   = (tau_map * R_k) @ fk                                                        # (N,)\n",
    "        se_l    = torch.sqrt(1.0 / denom_l)\n",
    "\n",
    "    lhat = num_l / denom_l\n",
    "\n",
    "    X_model = mycebmf0.update_cov_L(k)\n",
    "    with torch.enable_grad():\n",
    "        resL = mycebmf0.prior_L_fn(\n",
    "            X=X_model, betahat=lhat, sebetahat=se_l, model_param=mycebmf0.model_state_L[k],\n",
    "        )\n",
    "    with torch.no_grad():\n",
    "        mycebmf0.model_state_L[k] = resL.model_param\n",
    "        mycebmf0.L[:, k]  = resL.post_mean\n",
    "        mycebmf0.L2[:, k] = resL.post_mean2\n",
    "        nm_ll_L = normal_means_loglik(x=lhat, s=se_l, Et=resL.post_mean, Et2=resL.post_mean2)\n",
    "        mycebmf0.kl_l[k] = torch.as_tensor((-resL.loss) - nm_ll_L, device=mycebmf0.device)\n",
    "        mycebmf0.pi0_L[k] = resL.pi0_null if hasattr(resL, \"pi0_null\") else None\n",
    "\n",
    "    # 2) Recompute global residual with UPDATED L[:, k] (F[:, k] still old)\n",
    "    R = R_k - torch.outer(mycebmf0.L[:, k], mycebmf0.F[:, k])\n",
    "\n",
    "    # 3) Add back k's (now with updated L) to update F\n",
    "    R_k = R + torch.outer(mycebmf0.L[:, k], mycebmf0.F[:, k])\n",
    "\n",
    "    # ---------- Update F[:, k] (hold UPDATED L[:, k] fixed) ----------\n",
    "    lk  = mycebmf0.L[:, k]      # (N,)\n",
    "    lk2 = mycebmf0.L2[:, k]     # (N,)\n",
    "\n",
    "    if tau_map is None:\n",
    "        denom_f = ((lk2.view(-1, 1) * mycebmf0.mask).sum(dim=0).clamp_min(eps))  # (P,)\n",
    "        num_f   = R_k.T @ lk                                                     # (P,)\n",
    "        se_f    = torch.sqrt(1.0 / (mycebmf0.tau * denom_f))\n",
    "    else:\n",
    "        denom_f = ((tau_map * (lk2.view(-1, 1) * mycebmf0.mask)).sum(dim=0).clamp_min(eps))  # (P,)\n",
    "        num_f   = (tau_map * R_k).T @ lk                                                     # (P,)\n",
    "        se_f    = torch.sqrt(1.0 / denom_f)\n",
    "\n",
    "    fhat = num_f / denom_f\n",
    "\n",
    "    X_model = mycebmf0.update_cov_F(k)\n",
    "    with torch.enable_grad():\n",
    "        resF = mycebmf0.prior_F_fn(\n",
    "            X=X_model, betahat=fhat, sebetahat=se_f, model_param=mycebmf0.model_state_F[k],\n",
    "        )\n",
    "    with torch.no_grad():\n",
    "        mycebmf0.model_state_F[k] = resF.model_param\n",
    "        mycebmf0.F[:, k]  = resF.post_mean\n",
    "        mycebmf0.F2[:, k] = resF.post_mean2\n",
    "        nm_ll_F = normal_means_loglik(x=fhat, s=se_f, Et=resF.post_mean, Et2=resF.post_mean2)\n",
    "        mycebmf0.kl_f[k] = torch.as_tensor((-resF.loss) - nm_ll_F, device=mycebmf0.device)\n",
    "        mycebmf0.pi0_F[k] = resF.pi0_null if hasattr(resF, \"pi0_null\") else None\n",
    "\n",
    "    # 4) Recompute global residual with UPDATED F[:, k]\n",
    "    R = R_k - torch.outer(mycebmf0.L[:, k], mycebmf0.F[:, k])\n"
   ]
  },
  {
   "cell_type": "code",
   "execution_count": 59,
   "id": "ce8c481c",
   "metadata": {},
   "outputs": [
    {
     "data": {
      "text/plain": [
       "<matplotlib.collections.PathCollection at 0x1c7a8a4cd90>"
      ]
     },
     "execution_count": 59,
     "metadata": {},
     "output_type": "execute_result"
    },
    {
     "data": {
      "image/png": "[encoded data removed]",
      "text/plain": [
       "<Figure size 640x480 with 1 Axes>"
      ]
     },
     "metadata": {},
     "output_type": "display_data"
    }
   ],
   "source": [
    "plt.scatter(mycebmf0.F[:, 1],mycebmf.F[:, 1 ])"
   ]
  },
  {
   "cell_type": "code",
   "execution_count": 76,
   "id": "904173b6",
   "metadata": {},
   "outputs": [
    {
     "name": "stdout",
     "output_type": "stream",
     "text": [
      "Converged after 65 iterations.\n",
      "Converged after 54 iterations.\n"
     ]
    }
   ],
   "source": [
    "# R is the global residual with ALL components removed:\n",
    "# R = Y - sum_j L[:, j] @ F[:, j]^T\n",
    "\n",
    "for k in range(mycebmf0.K):\n",
    "    Lk  = mycebmf0.L[:, k]\n",
    "    Fk  = mycebmf0.F[:, k]\n",
    "    Lk2 = mycebmf0.L2[:, k]\n",
    "    Fk2 = mycebmf0.F2[:, k]\n",
    "\n",
    "    # ---- Add back k's contribution: R <- R + Lk Fk^T (in-place, no outer allocation)\n",
    "    R.addr_(Lk, Fk, alpha=1.0)\n",
    "\n",
    "    # ---------- Update L[:, k] ----------\n",
    "    if tau_map is None:\n",
    "        # denom_l = sum_j mask[i,j] * Fk2[j]\n",
    "        denom_l = mycebmf0.mask @ Fk2\n",
    "        # num_l = (R @ Fk)\n",
    "        num_l   = R @ Fk\n",
    "        se_l    = torch.sqrt(1.0 / (mycebmf0.tau * denom_l.clamp_min(eps)))\n",
    "    else:\n",
    "        # denom_l = sum_j tau_map[i,j]*mask[i,j]*Fk2[j]\n",
    "        denom_l = (tau_map * mycebmf0.mask) @ Fk2\n",
    "        # num_l = sum_j tau_map[i,j]*R[i,j]*Fk[j]\n",
    "        num_l   = torch.einsum('ij,ij,j->i', R, tau_map, Fk)\n",
    "        se_l    = torch.sqrt(1.0 / denom_l.clamp_min(eps))\n",
    "\n",
    "    lhat = num_l / denom_l.clamp_min(eps)\n",
    "\n",
    "    X_model = mycebmf0.update_cov_L(k)\n",
    "    with torch.enable_grad():\n",
    "        resL = mycebmf0.prior_L_fn(\n",
    "            X=X_model, betahat=lhat, sebetahat=se_l, model_param=mycebmf0.model_state_L[k]\n",
    "        )\n",
    "    with torch.no_grad():\n",
    "        mycebmf0.model_state_L[k] = resL.model_param\n",
    "        mycebmf0.L[:, k]  = resL.post_mean\n",
    "        mycebmf0.L2[:, k] = resL.post_mean2\n",
    "        nm_ll_L = normal_means_loglik(x=lhat, s=se_l, Et=resL.post_mean, Et2=resL.post_mean2)\n",
    "        mycebmf0.kl_l[k]  = torch.as_tensor((-resL.loss) - nm_ll_L, device=mycebmf0.device)\n",
    "        mycebmf0.pi0_L[k] = resL.pi0_null if hasattr(resL, \"pi0_null\") else None\n",
    "\n",
    "    # ---- Subtract UPDATED Lk contribution: R <- R - Lk_new Fk^T\n",
    "    Lk = mycebmf0.L[:, k]  # updated\n",
    "    R.addr_(Lk, Fk, alpha=-1.0)\n",
    "\n",
    "    # ---- Add back (updated Lk) to prepare F update: R <- R + Lk_new Fk^T\n",
    "    R.addr_(Lk, Fk, alpha=1.0)\n",
    "\n",
    "    # ---------- Update F[:, k] ----------\n",
    "    if tau_map is None:\n",
    "        # denom_f = sum_i mask[i,j] * Lk2[i]\n",
    "        denom_f = mycebmf0.mask.T @ mycebmf0.L2[:, k]\n",
    "        # num_f = (R^T @ Lk)\n",
    "        num_f   = R.T @ Lk\n",
    "        se_f    = torch.sqrt(1.0 / (mycebmf0.tau * denom_f.clamp_min(eps)))\n",
    "    else:\n",
    "        # denom_f = sum_i tau_map[i,j]*mask[i,j]*Lk2[i]\n",
    "        denom_f = (tau_map * mycebmf0.mask).transpose(0, 1) @ mycebmf0.L2[:, k]\n",
    "        # num_f = sum_i tau_map[i,j]*R[i,j]*Lk[i]\n",
    "        num_f   = torch.einsum('ij,ij,i->j', R, tau_map, Lk)\n",
    "        se_f    = torch.sqrt(1.0 / denom_f.clamp_min(eps))\n",
    "\n",
    "    fhat = num_f / denom_f.clamp_min(eps)\n",
    "\n",
    "    X_model = mycebmf0.update_cov_F(k)\n",
    "    with torch.enable_grad():\n",
    "        resF = mycebmf0.prior_F_fn(\n",
    "            X=X_model, betahat=fhat, sebetahat=se_f, model_param=mycebmf0.model_state_F[k]\n",
    "        )\n",
    "    with torch.no_grad():\n",
    "        mycebmf0.model_state_F[k] = resF.model_param\n",
    "        mycebmf0.F[:, k]  = resF.post_mean\n",
    "        mycebmf0.F2[:, k] = resF.post_mean2\n",
    "        nm_ll_F = normal_means_loglik(x=fhat, s=se_f, Et=resF.post_mean, Et2=resF.post_mean2)\n",
    "        mycebmf0.kl_f[k]  = torch.as_tensor((-resF.loss) - nm_ll_F, device=mycebmf0.device)\n",
    "        mycebmf0.pi0_F[k] = resF.pi0_null if hasattr(resF, \"pi0_null\") else None\n",
    "\n",
    "    # ---- Subtract UPDATED Fk contribution: R <- R - Lk_new Fk_new^T\n",
    "    Fk = mycebmf0.F[:, k]  # updated\n",
    "    R.addr_(Lk, Fk, alpha=-1.0)\n"
   ]
  },
  {
   "cell_type": "code",
   "execution_count": 78,
   "id": "7e70d2e9",
   "metadata": {},
   "outputs": [
    {
     "data": {
      "text/plain": [
       "<matplotlib.collections.PathCollection at 0x1c7a8c93ee0>"
      ]
     },
     "execution_count": 78,
     "metadata": {},
     "output_type": "execute_result"
    },
    {
     "data": {
      "image/png": "[encoded data removed]",
      "text/plain": [
       "<Figure size 640x480 with 1 Axes>"
      ]
     },
     "metadata": {},
     "output_type": "display_data"
    }
   ],
   "source": [
    "plt.scatter(mycebmf0.F[:, 0],mycebmf.F[:, 0 ])"
   ]
  }
 ],
 "metadata": {
  "kernelspec": {
   "display_name": "ml_env",
   "language": "python",
   "name": "python3"
  },
  "language_info": {
   "codemirror_mode": {
    "name": "ipython",
    "version": 3
   },
   "file_extension": ".py",
   "mimetype": "text/x-python",
   "name": "python",
   "nbconvert_exporter": "python",
   "pygments_lexer": "ipython3",
   "version": "3.10.8"
  }
 },
 "nbformat": 4,
 "nbformat_minor": 5
}
