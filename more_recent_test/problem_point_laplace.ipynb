{
 "cells": [
  {
   "cell_type": "code",
   "execution_count": 1,
   "id": "058450fc",
   "metadata": {},
   "outputs": [],
   "source": [
    "# ---- Reproducibility\n",
    "import random\n",
    "import torch\n",
    "\n",
    "seed = 1234\n",
    "random.seed(seed)\n",
    "torch.manual_seed(seed)\n",
    "if torch.cuda.is_available():\n",
    "    torch.cuda.manual_seed_all(seed)\n"
   ]
  },
  {
   "cell_type": "code",
   "execution_count": 2,
   "id": "3a4ac569",
   "metadata": {},
   "outputs": [
    {
     "name": "stdout",
     "output_type": "stream",
     "text": [
      "Rank-1 Matrix (Outer Product):\n",
      "[[0.0369924  0.12349849 0.01266485 ... 0.20919041 0.20178125 0.15269329]\n",
      " [0.01256629 0.04195233 0.00430224 ... 0.0710618  0.06854491 0.05186978]\n",
      " [0.07442166 0.24845541 0.02547927 ... 0.42085123 0.40594542 0.3071898 ]\n",
      " ...\n",
      " [0.13003676 0.43412546 0.04451985 ... 0.73535219 0.70930731 0.53675188]\n",
      " [0.02568535 0.08575008 0.00879373 ... 0.14524951 0.14010503 0.10602124]\n",
      " [0.01213768 0.04052142 0.0041555  ... 0.06863803 0.06620699 0.05010061]]\n",
      "\n",
      "Noisy Matrix (with Homoscedastic Noise):\n",
      "[[ 0.14788041  0.16955928  0.1824038  ...  0.06284919  0.26615598\n",
      "   0.04153663]\n",
      " [-0.07975735  0.07738678 -0.06536086 ...  0.08710195  0.01799688\n",
      "   0.10035783]\n",
      " [ 0.15693369  0.13496091 -0.12057474 ...  0.40187727  0.53974668\n",
      "   0.3314774 ]\n",
      " ...\n",
      " [ 0.16086152  0.64130937  0.12866035 ...  0.67670073  0.59595961\n",
      "   0.57849158]\n",
      " [-0.06675871 -0.03323521 -0.03429034 ...  0.1487228   0.2078188\n",
      "   0.18898802]\n",
      " [-0.14480705  0.07884231  0.03359961 ... -0.16932926  0.1779711\n",
      "   0.1486646 ]]\n"
     ]
    }
   ],
   "source": [
    "\n",
    "\n",
    "# ---- Parameters\n",
    "n, p = 50, 40\n",
    "noise_std = 0.1\n",
    "\n",
    "# (Optional) choose device\n",
    "device = torch.device(\"cuda\" if torch.cuda.is_available() else \"cpu\")\n",
    "\n",
    "# ---- Data generation (PyTorch)\n",
    "# Use float64 to mirror NumPy defaults\n",
    "u = torch.rand(n, dtype=torch.float64, device=device)          # length n\n",
    "v = torch.rand(p, dtype=torch.float64, device=device)          # length p\n",
    "\n",
    "# Rank-1 matrix via outer product\n",
    "rank_1_matrix = torch.outer(u, v)                              # (n, p)\n",
    "\n",
    "# Homoscedastic Gaussian noise\n",
    "noise = noise_std * torch.randn(n, p, dtype=torch.float64, device=device)\n",
    "\n",
    "noisy_matrix = rank_1_matrix + noise\n",
    "\n",
    "# ---- Print (move to CPU for readability if needed)\n",
    "print(\"Rank-1 Matrix (Outer Product):\")\n",
    "print(rank_1_matrix.cpu().numpy())\n",
    "\n",
    "print(\"\\nNoisy Matrix (with Homoscedastic Noise):\")\n",
    "print(noisy_matrix.cpu().numpy())\n"
   ]
  },
  {
   "cell_type": "code",
   "execution_count": 3,
   "id": "288daa18",
   "metadata": {},
   "outputs": [],
   "source": [
    "import sys\n",
    "import os\n",
    "import matplotlib.pyplot as plt\n",
    "from cebmf_torch import cEBMF"
   ]
  },
  {
   "cell_type": "code",
   "execution_count": 4,
   "id": "5b5272bf",
   "metadata": {},
   "outputs": [],
   "source": [
    "mycebmf=  cEBMF(data= noisy_matrix,\n",
    "                prior_L=\"point_laplace\",\n",
    "                  prior_F=\"point_laplace\") "
   ]
  },
  {
   "cell_type": "code",
   "execution_count": null,
   "id": "8d4e3633",
   "metadata": {},
   "outputs": [],
   "source": [
    " "
   ]
  },
  {
   "cell_type": "code",
   "execution_count": 5,
   "id": "12ac914e",
   "metadata": {},
   "outputs": [
    {
     "name": "stdout",
     "output_type": "stream",
     "text": [
      "tensor([ 0.0080, -0.1905,  0.2605, -0.2120,  0.2116,  0.1896, -0.2458, -0.2640,\n",
      "         0.1057,  0.1225,  0.0676,  0.0620, -0.0016,  0.1750,  0.1087, -0.0761,\n",
      "         0.1078, -0.4832,  0.0641,  0.1960, -0.2287, -0.0704, -0.2441,  0.0377,\n",
      "        -0.2611, -0.1291,  0.3901, -0.0387, -0.1331, -0.2875, -0.2095,  0.1439,\n",
      "        -0.0307, -0.0648,  0.0598, -0.0430,  0.1896,  0.1109,  0.0643, -0.0023,\n",
      "        -0.0328, -0.2137,  0.0720,  0.0039, -0.1591, -0.2714, -0.0136,  0.1367,\n",
      "         0.0542,  0.2452])\n",
      "tensor([ 0.0610,  0.0381, -0.0373,  0.1844, -0.0388, -0.1764,  0.0488, -0.3281,\n",
      "        -0.0793,  0.0009,  0.2299,  0.1970,  0.0735, -0.2066,  0.0725, -0.2878,\n",
      "        -0.0727,  0.3067, -0.2505,  0.0539,  0.1928,  0.0201, -0.0158,  0.1157,\n",
      "         0.1509,  0.0815,  0.0377,  0.1380,  0.1188, -0.1703, -0.0225, -0.0766,\n",
      "        -0.2759,  0.2154,  0.2396, -0.1764, -0.0045, -0.1609,  0.1603,  0.0669])\n"
     ]
    }
   ],
   "source": [
    "mycebmf.initialize()\n",
    "print(mycebmf.L[:,1])\n",
    "print(mycebmf.F[:,1])"
   ]
  },
  {
   "cell_type": "code",
   "execution_count": 6,
   "id": "42a6bf92",
   "metadata": {},
   "outputs": [
    {
     "data": {
      "text/plain": [
       "<matplotlib.collections.PathCollection at 0x1e8105510f0>"
      ]
     },
     "execution_count": 6,
     "metadata": {},
     "output_type": "execute_result"
    },
    {
     "data": {
      "image/png": "[encoded data removed]",
      "text/plain": [
       "<Figure size 640x480 with 1 Axes>"
      ]
     },
     "metadata": {},
     "output_type": "display_data"
    }
   ],
   "source": [
    "plt.scatter( mycebmf.L[:,0],u)"
   ]
  },
  {
   "cell_type": "code",
   "execution_count": 7,
   "id": "8905b3c9",
   "metadata": {},
   "outputs": [],
   "source": [
    "mycebmf.initialize () \n",
    "tau_map=None\n",
    "eps=1e-12"
   ]
  },
  {
   "cell_type": "code",
   "execution_count": 8,
   "id": "78287e57",
   "metadata": {},
   "outputs": [
    {
     "name": "stdout",
     "output_type": "stream",
     "text": [
      "tensor(226.3677)\n",
      "tensor(1.1670)\n",
      "tensor(0.8811)\n",
      "tensor(0.7962)\n",
      "tensor(0.7605)\n",
      "tensor([[-3.4604e-02,  2.4081e-02, -1.7526e-02,  2.7390e-01, -4.0406e-02],\n",
      "        [-1.4088e-01,  1.8866e-02,  1.9062e-01,  1.2350e-01,  1.5275e-02],\n",
      "        [-3.3036e-03, -2.4558e-02,  7.2551e-02, -1.4676e-05, -4.4157e-02],\n",
      "        [-2.0405e-01,  1.5389e-01, -1.1466e-02,  1.1728e-02,  8.2984e-02],\n",
      "        [-1.1759e-01, -1.1704e-02,  1.2970e-02, -2.0179e-02, -8.7432e-03],\n",
      "        [-7.1790e-03, -1.4012e-01,  2.8348e-02, -4.4780e-01, -2.6313e-02],\n",
      "        [-2.3100e-01,  2.0657e-02, -4.2314e-02,  1.6417e-01, -3.5329e-02],\n",
      "        [-1.7517e-01, -2.9818e-01, -1.1784e-02, -3.4545e-02, -3.4561e-02],\n",
      "        [-1.5371e-01, -4.0446e-02,  2.2794e-02,  3.3718e-02, -1.5416e-02],\n",
      "        [-2.2277e-01,  5.2719e-03, -2.1035e-01, -6.3521e-02,  1.8165e-01],\n",
      "        [-5.4403e-02,  2.0497e-01,  1.2045e-01,  8.5471e-02, -5.9368e-02],\n",
      "        [-1.9403e-01,  1.6700e-01,  4.4794e-03,  1.5769e-02, -7.4777e-02],\n",
      "        [-2.6090e-02,  3.9915e-02, -1.2739e-01, -1.1076e-01, -7.1105e-02],\n",
      "        [-1.7114e-01, -1.7112e-01,  1.0323e-02, -5.8397e-03, -3.9110e-02],\n",
      "        [-2.3722e-01,  3.6244e-02,  1.9487e-02, -5.9626e-03, -3.4643e-02],\n",
      "        [-7.8087e-02, -2.5242e-01,  1.1363e-01,  1.6463e-01,  7.8529e-03],\n",
      "        [-2.4037e-01, -4.2020e-02, -3.1094e-01, -4.3557e-02, -1.1401e-01],\n",
      "        [-2.7993e-02,  2.7939e-01,  1.5282e-02, -4.4272e-02, -2.1948e-01],\n",
      "        [-1.9422e-01, -2.3745e-01,  1.7258e-01,  3.8423e-02, -2.6575e-03],\n",
      "        [-1.1456e-01,  3.8165e-02,  3.2873e-02,  1.2068e-03,  2.5915e-02],\n",
      "        [-1.2276e-01,  1.3243e-01,  1.6391e-02,  4.1957e-02, -4.2162e-02],\n",
      "        [-1.8362e-01,  5.3324e-03,  1.5400e-01,  1.8454e-01, -1.6635e-01],\n",
      "        [-2.1282e-01, -8.2326e-03,  4.5759e-02, -2.0273e-02, -4.3934e-02],\n",
      "        [-8.4146e-02,  6.0981e-02, -8.2961e-02, -5.6059e-02, -7.7172e-02],\n",
      "        [-9.7119e-02,  1.1649e-01,  1.4754e-03,  1.5028e-02, -3.4477e-01],\n",
      "        [-3.3365e-02,  3.5187e-02, -1.2015e-02, -1.3215e-02, -2.2532e-01],\n",
      "        [-1.1292e-01,  7.4834e-03,  1.4845e-01, -1.4473e-01,  4.2438e-02],\n",
      "        [-9.0614e-02,  7.8644e-02, -8.7460e-02,  6.2858e-04,  1.9551e-01],\n",
      "        [-1.7505e-01,  6.8921e-02, -2.7070e-01, -4.4002e-02,  4.7501e-02],\n",
      "        [-1.7601e-01, -1.2744e-01,  1.0690e-03,  7.9734e-03,  3.6445e-02],\n",
      "        [-1.8288e-01, -1.9438e-02, -3.3210e-02,  3.4587e-02,  8.3218e-02],\n",
      "        [-1.4789e-01, -3.6840e-02,  2.8484e-01, -1.8228e-01,  1.1831e-01],\n",
      "        [-1.1410e-01, -2.1809e-01, -1.5730e-01,  1.4431e-01,  3.7203e-02],\n",
      "        [-1.1980e-01,  1.4506e-01, -4.4287e-03,  3.2512e-02,  2.2433e-01],\n",
      "        [-2.0982e-01,  2.0042e-01,  7.3436e-03, -1.1594e-02,  1.2747e-01],\n",
      "        [-2.0425e-01, -1.2669e-01, -8.6799e-03,  1.9042e-02, -3.4687e-02],\n",
      "        [-2.2522e-01, -2.6737e-03,  2.2996e-02, -1.4243e-01, -5.1493e-02],\n",
      "        [-2.1213e-01, -1.2100e-01, -2.3222e-01, -9.7756e-03, -1.2084e-02],\n",
      "        [-1.9836e-01,  1.3462e-01,  1.2422e-02,  1.8856e-03,  1.2054e-01],\n",
      "        [-1.5420e-01,  3.8867e-02,  3.3410e-01, -1.6467e-01,  4.3242e-02]])\n"
     ]
    }
   ],
   "source": [
    "for k in range (mycebmf.K):\n",
    "# ---------- Update L[:, k] ----------\n",
    "        Rk = mycebmf._partial_residual_masked(k)            # (N,P), zeros where missing\n",
    "        fk  = mycebmf.F[:, k]                                # (P,)\n",
    "        fk2 = mycebmf.F2[:, k]                               # (P,)\n",
    "\n",
    "        if tau_map is None:\n",
    "            denom_l = (fk2.view(1, -1) * mycebmf.mask).sum(dim=1).clamp_min(eps)     # (N,)\n",
    "            num_l   = (Rk @ fk)                                                   # (N,)\n",
    "            se_l    = torch.sqrt(1.0 / (mycebmf.tau * denom_l))\n",
    "        else:\n",
    "            denom_l = (tau_map * (fk2.view(1, -1) * mycebmf.mask)).sum(dim=1).clamp_min(eps)  # (N,)\n",
    "            num_l   = (tau_map * Rk) @ fk                                                 # (N,)\n",
    "            se_l    = torch.sqrt(1.0 / denom_l)\n",
    "\n",
    "        lhat = num_l / denom_l\n",
    "       # print(denom_l)\n",
    "        resL = mycebmf.prior_L_fn(\n",
    "            X=getattr(mycebmf, \"X_l\", None),\n",
    "            betahat=lhat,\n",
    "            sebetahat=se_l,\n",
    "            model_param=mycebmf.model_state_L[k]\n",
    "        )\n",
    "        mycebmf.model_state_L[k] = resL.model_param\n",
    "        mycebmf.L[:, k]  = resL.post_mean\n",
    "        mycebmf.L2[:, k] = resL.post_mean2\n",
    "        mycebmf.kl_l[k]  = torch.as_tensor(resL.loss, device=mycebmf.device)\n",
    "\n",
    "    # ---------- Update F[:, k] ----------\n",
    "        Rk = mycebmf._partial_residual_masked(k)            # recompute with updated L\n",
    "        lk  = mycebmf.L[:, k]                               # (N,)\n",
    "        lk2 = mycebmf.L2[:, k]                              # (N,)\n",
    "\n",
    "        if tau_map is None:\n",
    "            denom_f = (lk2.view(-1, 1) * mycebmf.mask).sum(dim=0).clamp_min(eps)      # (P,)\n",
    "            num_f   = (Rk.T @ lk)                                                  # (P,)\n",
    "            se_f    = torch.sqrt(1.0 / (mycebmf.tau * denom_f))\n",
    "        else:\n",
    "            denom_f = (tau_map * (lk2.view(-1, 1) * mycebmf.mask)).sum(dim=0).clamp_min(eps)  # (P,)\n",
    "            num_f   = (tau_map * Rk).T @ lk                                                # (P,)\n",
    "            se_f    = torch.sqrt(1.0 / denom_f)\n",
    "\n",
    "        fhat = num_f / denom_f\n",
    "        print(denom_f[1])\n",
    "        resF = mycebmf.prior_F_fn(\n",
    "            X=getattr(mycebmf, \"X_f\", None),\n",
    "            betahat=fhat,\n",
    "            sebetahat=se_f,\n",
    "            model_param=mycebmf.model_state_F[k]\n",
    "        )\n",
    "        mycebmf.model_state_F[k] = resF.model_param\n",
    "        mycebmf.F[:, k]  = resF.post_mean\n",
    "        mycebmf.F2[:, k] = resF.post_mean2\n",
    "        mycebmf.kl_f[k]  = torch.as_tensor(resF.loss, device=mycebmf.device)\n",
    " \n",
    "print(mycebmf.F)"
   ]
  },
  {
   "cell_type": "code",
   "execution_count": 9,
   "id": "d956308e",
   "metadata": {},
   "outputs": [],
   "source": [
    "mycebmf.initialize()"
   ]
  },
  {
   "cell_type": "code",
   "execution_count": 10,
   "id": "30556c96",
   "metadata": {},
   "outputs": [
    {
     "name": "stdout",
     "output_type": "stream",
     "text": [
      "5\n",
      "tensor([[-3.4604e-02,  2.4081e-02, -1.7526e-02,  2.7390e-01, -4.0406e-02],\n",
      "        [-1.4088e-01,  1.8866e-02,  1.9062e-01,  1.2350e-01,  1.5275e-02],\n",
      "        [-3.3036e-03, -2.4558e-02,  7.2551e-02, -1.4676e-05, -4.4157e-02],\n",
      "        [-2.0405e-01,  1.5389e-01, -1.1466e-02,  1.1728e-02,  8.2984e-02],\n",
      "        [-1.1759e-01, -1.1704e-02,  1.2970e-02, -2.0179e-02, -8.7432e-03],\n",
      "        [-7.1790e-03, -1.4012e-01,  2.8348e-02, -4.4780e-01, -2.6313e-02],\n",
      "        [-2.3100e-01,  2.0657e-02, -4.2314e-02,  1.6417e-01, -3.5329e-02],\n",
      "        [-1.7517e-01, -2.9818e-01, -1.1784e-02, -3.4545e-02, -3.4561e-02],\n",
      "        [-1.5371e-01, -4.0446e-02,  2.2794e-02,  3.3718e-02, -1.5416e-02],\n",
      "        [-2.2277e-01,  5.2719e-03, -2.1035e-01, -6.3521e-02,  1.8165e-01],\n",
      "        [-5.4403e-02,  2.0497e-01,  1.2045e-01,  8.5471e-02, -5.9368e-02],\n",
      "        [-1.9403e-01,  1.6700e-01,  4.4794e-03,  1.5769e-02, -7.4777e-02],\n",
      "        [-2.6090e-02,  3.9915e-02, -1.2739e-01, -1.1076e-01, -7.1105e-02],\n",
      "        [-1.7114e-01, -1.7112e-01,  1.0323e-02, -5.8397e-03, -3.9110e-02],\n",
      "        [-2.3722e-01,  3.6244e-02,  1.9487e-02, -5.9626e-03, -3.4643e-02],\n",
      "        [-7.8087e-02, -2.5242e-01,  1.1363e-01,  1.6463e-01,  7.8529e-03],\n",
      "        [-2.4037e-01, -4.2020e-02, -3.1094e-01, -4.3557e-02, -1.1401e-01],\n",
      "        [-2.7993e-02,  2.7939e-01,  1.5282e-02, -4.4272e-02, -2.1948e-01],\n",
      "        [-1.9422e-01, -2.3745e-01,  1.7258e-01,  3.8423e-02, -2.6575e-03],\n",
      "        [-1.1456e-01,  3.8165e-02,  3.2873e-02,  1.2068e-03,  2.5915e-02],\n",
      "        [-1.2276e-01,  1.3243e-01,  1.6391e-02,  4.1957e-02, -4.2162e-02],\n",
      "        [-1.8362e-01,  5.3324e-03,  1.5400e-01,  1.8454e-01, -1.6635e-01],\n",
      "        [-2.1282e-01, -8.2326e-03,  4.5759e-02, -2.0273e-02, -4.3934e-02],\n",
      "        [-8.4146e-02,  6.0981e-02, -8.2961e-02, -5.6059e-02, -7.7172e-02],\n",
      "        [-9.7119e-02,  1.1649e-01,  1.4754e-03,  1.5028e-02, -3.4477e-01],\n",
      "        [-3.3365e-02,  3.5187e-02, -1.2015e-02, -1.3215e-02, -2.2532e-01],\n",
      "        [-1.1292e-01,  7.4834e-03,  1.4845e-01, -1.4473e-01,  4.2438e-02],\n",
      "        [-9.0614e-02,  7.8644e-02, -8.7460e-02,  6.2858e-04,  1.9551e-01],\n",
      "        [-1.7505e-01,  6.8921e-02, -2.7070e-01, -4.4002e-02,  4.7501e-02],\n",
      "        [-1.7601e-01, -1.2744e-01,  1.0690e-03,  7.9734e-03,  3.6445e-02],\n",
      "        [-1.8288e-01, -1.9438e-02, -3.3210e-02,  3.4587e-02,  8.3218e-02],\n",
      "        [-1.4789e-01, -3.6840e-02,  2.8484e-01, -1.8228e-01,  1.1831e-01],\n",
      "        [-1.1410e-01, -2.1809e-01, -1.5730e-01,  1.4431e-01,  3.7203e-02],\n",
      "        [-1.1980e-01,  1.4506e-01, -4.4287e-03,  3.2512e-02,  2.2433e-01],\n",
      "        [-2.0982e-01,  2.0042e-01,  7.3436e-03, -1.1594e-02,  1.2747e-01],\n",
      "        [-2.0425e-01, -1.2669e-01, -8.6799e-03,  1.9042e-02, -3.4687e-02],\n",
      "        [-2.2522e-01, -2.6737e-03,  2.2996e-02, -1.4243e-01, -5.1493e-02],\n",
      "        [-2.1213e-01, -1.2100e-01, -2.3222e-01, -9.7756e-03, -1.2084e-02],\n",
      "        [-1.9836e-01,  1.3462e-01,  1.2422e-02,  1.8856e-03,  1.2054e-01],\n",
      "        [-1.5420e-01,  3.8867e-02,  3.3410e-01, -1.6467e-01,  4.3242e-02]])\n"
     ]
    },
    {
     "data": {
      "text/plain": [
       "<matplotlib.collections.PathCollection at 0x1e81390b850>"
      ]
     },
     "execution_count": 10,
     "metadata": {},
     "output_type": "execute_result"
    },
    {
     "data": {
      "image/png": "[encoded data removed]",
      "text/plain": [
       "<Figure size 640x480 with 1 Axes>"
      ]
     },
     "metadata": {},
     "output_type": "display_data"
    }
   ],
   "source": [
    "mycebmf.iter_once()  \n",
    "mycebmf.update_fitted_value()\n",
    "print(mycebmf.F)\n",
    "plt.scatter(mycebmf.Y_fit, noisy_matrix)\n",
    " \n",
    "plt.scatter(mycebmf.Y_fit, rank_1_matrix)"
   ]
  },
  {
   "cell_type": "code",
   "execution_count": 11,
   "id": "5259328c",
   "metadata": {},
   "outputs": [
    {
     "data": {
      "text/plain": [
       "tensor([[1.1651e+00, 2.5792e-03, 1.5885e-02, 4.8895e-02, 2.4329e-03],\n",
       "        [2.9721e-02, 2.2165e-02, 1.3746e-02, 2.1984e-03, 4.4095e-03],\n",
       "        [4.6407e+00, 5.1209e-02, 6.4024e-02, 2.7600e-03, 2.3566e-03],\n",
       "        [3.0937e+00, 3.0467e-02, 4.5879e-02, 1.9697e-03, 3.9566e-02],\n",
       "        [2.3823e+00, 3.2099e-02, 6.9363e-03, 2.7423e-02, 2.9920e-02],\n",
       "        [1.5141e+00, 2.5020e-02, 6.5227e-03, 2.6856e-03, 2.0855e-03],\n",
       "        [5.8245e-01, 4.4440e-02, 2.6209e-03, 3.5252e-03, 1.2862e-01],\n",
       "        [1.3068e+00, 5.2729e-02, 2.2121e-02, 1.6225e-03, 1.9891e-03],\n",
       "        [1.1879e+00, 7.6975e-03, 2.7964e-03, 4.4826e-02, 8.0316e-03],\n",
       "        [1.5217e+01, 9.7751e-03, 2.6781e-03, 4.0098e-03, 2.0843e-03],\n",
       "        [1.1278e+01, 4.3413e-03, 6.2236e-03, 1.7676e-02, 1.7224e-03],\n",
       "        [8.3949e-02, 4.0915e-03, 1.8192e-02, 8.2415e-03, 7.4476e-02],\n",
       "        [9.8256e+00, 2.5610e-03, 9.8523e-03, 1.9454e-02, 1.9396e-03],\n",
       "        [7.0301e+00, 2.0706e-02, 2.1979e-03, 1.8816e-03, 1.9805e-02],\n",
       "        [1.3237e+00, 8.0569e-03, 8.5701e-03, 1.9042e-03, 2.3895e-03],\n",
       "        [1.9324e+00, 2.0188e-03, 9.6712e-03, 4.1798e-03, 3.1214e-03],\n",
       "        [1.8846e+00, 7.9417e-03, 1.6860e-02, 1.3980e-01, 5.3739e-02],\n",
       "        [5.7423e-01, 1.9723e-01, 9.2556e-03, 2.0403e-03, 1.5363e-02],\n",
       "        [1.0205e+01, 4.1436e-03, 5.0764e-03, 6.9409e-02, 7.2100e-03],\n",
       "        [6.9441e+00, 2.6820e-02, 8.8483e-03, 1.9252e-03, 2.6149e-02],\n",
       "        [1.4033e+00, 3.7154e-02, 6.4782e-02, 2.2700e-02, 3.4632e-03],\n",
       "        [1.9909e+00, 2.1193e-03, 3.1502e-02, 2.0114e-03, 1.6921e-03],\n",
       "        [2.3014e+00, 4.3802e-02, 3.0122e-02, 2.1387e-03, 2.6810e-03],\n",
       "        [2.3828e+00, 3.0787e-03, 3.7427e-03, 1.8764e-03, 2.5389e-03],\n",
       "        [1.3120e-01, 5.1234e-02, 3.4577e-03, 1.9748e-03, 2.5494e-03],\n",
       "        [8.7181e-02, 5.8344e-03, 2.8830e-03, 2.4550e-03, 2.4435e-02],\n",
       "        [4.4886e+00, 1.2371e-01, 6.9316e-03, 1.1671e-02, 2.7230e-03],\n",
       "        [1.6577e+00, 3.1434e-03, 2.8735e-03, 2.1159e-02, 4.5828e-03],\n",
       "        [1.4039e+01, 6.7750e-03, 6.1331e-02, 2.5371e-03, 2.5229e-03],\n",
       "        [3.3709e+00, 6.4221e-02, 2.8586e-03, 1.8496e-03, 1.4980e-02],\n",
       "        [1.5451e+01, 2.9841e-02, 2.5033e-03, 7.5879e-03, 5.1344e-03],\n",
       "        [1.7424e+00, 1.3635e-02, 5.7411e-02, 5.9830e-02, 8.4744e-02],\n",
       "        [1.1091e+01, 2.9431e-03, 1.6218e-02, 2.5351e-02, 3.2341e-03],\n",
       "        [3.7254e+00, 2.2864e-03, 1.8535e-02, 2.6572e-03, 1.0633e-02],\n",
       "        [1.7272e+00, 3.9563e-03, 2.1532e-03, 2.6962e-03, 2.0013e-03],\n",
       "        [1.4943e+01, 3.3202e-03, 5.7508e-02, 6.5248e-02, 1.9462e-03],\n",
       "        [2.3396e-01, 2.5110e-02, 4.7437e-02, 6.4835e-02, 7.4939e-03],\n",
       "        [2.8529e-01, 8.3655e-03, 2.4073e-03, 1.8775e-03, 5.9173e-03],\n",
       "        [4.5160e+00, 4.1760e-03, 2.1708e-03, 1.0698e-02, 1.9600e-03],\n",
       "        [1.2485e+00, 2.5609e-03, 4.8385e-03, 1.0467e-02, 2.8356e-03],\n",
       "        [3.4816e+00, 2.9808e-03, 2.6985e-03, 2.2893e-03, 4.0124e-03],\n",
       "        [2.9853e+00, 3.1149e-02, 3.2848e-03, 2.5709e-03, 3.1463e-02],\n",
       "        [1.6881e+01, 4.5941e-03, 3.5428e-03, 2.6912e-03, 5.3122e-03],\n",
       "        [1.5032e-01, 2.5632e-03, 2.7606e-02, 1.6033e-02, 1.3102e-02],\n",
       "        [1.0858e+01, 1.2699e-02, 1.6792e-02, 4.9236e-03, 2.6763e-03],\n",
       "        [7.7033e-01, 5.6149e-02, 2.4571e-02, 5.0466e-03, 3.0230e-02],\n",
       "        [9.8993e+00, 2.6399e-03, 2.3857e-03, 1.0146e-02, 1.8217e-02],\n",
       "        [1.1744e+01, 1.2111e-02, 2.6287e-03, 2.0528e-02, 2.0841e-03],\n",
       "        [3.7640e-01, 3.6996e-03, 1.4421e-02, 2.0000e-03, 3.4597e-02],\n",
       "        [2.0106e-01, 4.5043e-02, 8.3525e-02, 1.9718e-03, 3.3603e-03]])"
      ]
     },
     "execution_count": 11,
     "metadata": {},
     "output_type": "execute_result"
    }
   ],
   "source": [
    "mycebmf.L2"
   ]
  },
  {
   "cell_type": "code",
   "execution_count": 12,
   "id": "7bb3bac3",
   "metadata": {},
   "outputs": [],
   "source": [
    "mycebmf.update_fitted_value()"
   ]
  },
  {
   "cell_type": "code",
   "execution_count": 13,
   "id": "e7ac7570",
   "metadata": {},
   "outputs": [
    {
     "data": {
      "text/plain": [
       "<matplotlib.collections.PathCollection at 0x1e81397c100>"
      ]
     },
     "execution_count": 13,
     "metadata": {},
     "output_type": "execute_result"
    },
    {
     "data": {
      "image/png": "[encoded data removed]",
      "text/plain": [
       "<Figure size 640x480 with 1 Axes>"
      ]
     },
     "metadata": {},
     "output_type": "display_data"
    }
   ],
   "source": [
    "plt.scatter(mycebmf.Y_fit, noisy_matrix)\n",
    " \n",
    "plt.scatter(mycebmf.Y_fit, rank_1_matrix)"
   ]
  },
  {
   "cell_type": "code",
   "execution_count": null,
   "id": "859c5319",
   "metadata": {},
   "outputs": [],
   "source": []
  },
  {
   "cell_type": "code",
   "execution_count": 14,
   "id": "f0bd69a7",
   "metadata": {},
   "outputs": [],
   "source": [
    "from cebmf_torch.torch_main import *\n",
    "mycebmf=  cEBMF(data= noisy_matrix,\n",
    "                prior_L=\"point_laplace\",\n",
    "                  prior_F=\"point_laplace\") \n",
    "mycebmf.initialize()\n",
    "k=0"
   ]
  },
  {
   "cell_type": "code",
   "execution_count": null,
   "id": "67027da2",
   "metadata": {},
   "outputs": [],
   "source": []
  },
  {
   "cell_type": "code",
   "execution_count": null,
   "id": "ec81ccef",
   "metadata": {},
   "outputs": [],
   "source": []
  },
  {
   "cell_type": "code",
   "execution_count": 15,
   "id": "6c5f3f92",
   "metadata": {},
   "outputs": [
    {
     "data": {
      "text/plain": [
       "tensor([[-1.0800e+00,  8.0196e-03,  1.5701e-01,  2.6303e-01, -4.1739e-02],\n",
       "        [-1.7109e-01, -1.9046e-01,  1.4650e-01,  3.7131e-02,  8.8875e-02],\n",
       "        [-2.1563e+00,  2.6045e-01, -2.9440e-01,  5.0543e-02, -4.6051e-02],\n",
       "        [-1.7606e+00, -2.1199e-01,  2.5109e-01, -1.1951e-02,  2.4847e-01],\n",
       "        [-1.5449e+00,  2.1157e-01,  9.9516e-02,  2.0594e-01, -2.2076e-01],\n",
       "        [-1.2314e+00,  1.8960e-01, -1.3784e-01,  5.0737e-02,  2.0818e-02],\n",
       "        [-7.6256e-01, -2.4581e-01,  2.3146e-03,  7.5396e-02, -4.0319e-01],\n",
       "        [-1.1439e+00, -2.6397e-01,  1.8187e-01, -8.0567e-02, -8.1205e-03],\n",
       "        [-1.0905e+00,  1.0566e-01,  2.1918e-02,  2.5164e-01,  1.1956e-01],\n",
       "        [-3.9036e+00,  1.2250e-01,  1.1006e-02,  8.3848e-02, -1.0205e-01],\n",
       "        [-3.3608e+00,  6.7632e-02, -1.3782e-01, -1.8388e-01, -7.9343e-02],\n",
       "        [-2.8256e-01,  6.1964e-02,  1.6782e-01, -1.5000e-01,  3.2100e-01],\n",
       "        [-3.1371e+00, -1.5682e-03,  1.2186e-01,  1.8391e-01, -6.9569e-02],\n",
       "        [-2.6537e+00,  1.7499e-01, -8.0762e-02, -5.0424e-03, -1.9304e-01],\n",
       "        [-1.1513e+00,  1.0867e-01,  1.1378e-01,  1.2128e-02, -3.7015e-02],\n",
       "        [-1.3913e+00, -7.6145e-02,  1.2153e-01,  8.6103e-02,  6.4852e-02],\n",
       "        [-1.3740e+00,  1.0782e-01,  1.6148e-01, -4.1494e-01, -2.6208e-01],\n",
       "        [-7.5712e-01, -4.8320e-01,  1.1743e-01,  3.1841e-02, -1.7631e-01],\n",
       "        [-3.1971e+00,  6.4094e-02, -1.3046e-01, -3.0206e-01, -1.4250e-01],\n",
       "        [-2.6375e+00,  1.9603e-01,  1.1535e-01,  1.5738e-02,  2.0656e-01],\n",
       "        [-1.1854e+00, -2.2867e-01, -2.9677e-01,  1.9078e-01,  5.9602e-02],\n",
       "        [-1.4123e+00, -7.0387e-02, -2.2162e-01, -2.2893e-02, -9.2731e-02],\n",
       "        [-1.5185e+00, -2.4405e-01, -2.1875e-01, -6.0345e-02,  4.6484e-02],\n",
       "        [-1.5451e+00,  3.7692e-02,  5.3646e-02,  5.5653e-03, -4.3632e-02],\n",
       "        [-3.5696e-01, -2.6105e-01, -4.8496e-02,  2.1996e-02,  4.5653e-02],\n",
       "        [-2.8822e-01, -1.2909e-01, -1.0871e-01, -4.4381e-02,  1.9616e-01],\n",
       "        [-2.1206e+00,  3.9007e-01,  9.9799e-02, -1.6718e-01,  5.6170e-02],\n",
       "        [-1.2886e+00, -3.8711e-02,  2.5837e-02,  1.8736e-01,  8.6870e-02],\n",
       "        [-3.7495e+00, -1.3310e-01,  2.8506e-01,  5.6030e-02,  5.5489e-02],\n",
       "        [-1.8378e+00, -2.8753e-01,  2.3898e-02, -9.3194e-02,  1.6521e-01],\n",
       "        [-3.9335e+00, -2.0952e-01, -1.0498e-01,  1.2492e-01, -1.3550e-01],\n",
       "        [-1.3211e+00,  1.4394e-01,  2.7879e-01,  2.8786e-01, -3.3056e-01],\n",
       "        [-3.3329e+00, -3.0673e-02, -1.7941e-01, -2.0532e-01,  6.5975e-02],\n",
       "        [-1.9320e+00, -6.4846e-02, -1.8599e-01,  5.2030e-02,  1.3676e-01],\n",
       "        [-1.3153e+00,  5.9796e-02, -9.1383e-02,  5.3043e-02,  1.4722e-02],\n",
       "        [-3.8683e+00, -4.2975e-02,  2.7704e-01, -2.8827e-01,  2.3012e-02],\n",
       "        [-4.8066e-01,  1.8960e-01, -2.5840e-01,  2.9030e-01,  1.0629e-01],\n",
       "        [-5.3172e-01,  1.1089e-01, -7.2663e-02,  3.5995e-03,  1.0309e-01],\n",
       "        [-2.1271e+00,  6.4250e-02, -8.2268e-02, -1.6076e-01, -8.0659e-03],\n",
       "        [-1.1181e+00, -2.3487e-03, -1.2762e-01,  1.3920e-01,  5.1571e-02],\n",
       "        [-1.8677e+00, -3.2754e-02,  1.3962e-02, -3.5963e-02,  8.1290e-02],\n",
       "        [-1.7295e+00, -2.1372e-01, -5.8995e-02,  5.2264e-02,  2.1876e-01],\n",
       "        [-4.1114e+00,  7.2044e-02,  4.7318e-02,  5.6729e-02,  1.0055e-01],\n",
       "        [-3.8303e-01,  3.8863e-03, -2.1074e-01, -1.8264e-01, -1.7477e-01],\n",
       "        [-3.2977e+00, -1.5914e-01, -1.8159e-01, -1.3019e-01, -5.0413e-02],\n",
       "        [-8.7760e-01, -2.7135e-01,  1.9075e-01,  1.0067e-01, -2.1614e-01],\n",
       "        [-3.1488e+00, -1.3637e-02, -7.5074e-02,  1.4003e-01,  1.7523e-01],\n",
       "        [-3.4296e+00,  1.3665e-01,  4.0598e-03,  1.8605e-01,  2.3113e-02],\n",
       "        [-6.1188e-01,  5.4167e-02,  1.5028e-01, -6.3751e-02,  2.3114e-01],\n",
       "        [-4.4484e-01,  2.4524e-01,  3.3110e-01, -1.6884e-02,  7.7175e-02]])"
      ]
     },
     "execution_count": 15,
     "metadata": {},
     "output_type": "execute_result"
    }
   ],
   "source": [
    " \n",
    "\n",
    "mycebmf.L"
   ]
  },
  {
   "cell_type": "code",
   "execution_count": 16,
   "id": "3da8f8e0",
   "metadata": {},
   "outputs": [],
   "source": [
    "\n",
    "k=0\n",
    "Rk = mycebmf._partial_residual_masked(k)            # (N,P), zeros where missing\n",
    "fk  = mycebmf.F[:, k]                                # (P,)\n",
    "fk2 = mycebmf.F2[:, k]                               # (P,)\n",
    "\n",
    "eps = 1e-12\n",
    "denom_l = (fk2.view(1, -1) * mycebmf.mask).sum(dim=1).clamp_min(eps)     # (N,)\n",
    "num_l   = (Rk @ fk)                                                   # (N,)\n",
    "se_l    = torch.sqrt(1.0 / (mycebmf.tau * denom_l))\n",
    "\n",
    "\n",
    "lhat = num_l / denom_l\n",
    "\n",
    "resL = mycebmf.prior_L_fn(\n",
    "            X=getattr(mycebmf, \"X_l\", None),\n",
    "            betahat=lhat,\n",
    "            sebetahat=se_l,\n",
    "            model_param=mycebmf.model_state_L[k]\n",
    ")\n",
    "mycebmf.model_state_L[k] = resL.model_param\n",
    "mycebmf.L[:, k]  = resL.post_mean\n",
    "mycebmf.L2[:, k] = resL.post_mean2\n",
    "mycebmf.kl_l[k]  = torch.as_tensor(resL.loss, device=mycebmf.device)"
   ]
  },
  {
   "cell_type": "code",
   "execution_count": 17,
   "id": "001194e9",
   "metadata": {},
   "outputs": [
    {
     "data": {
      "text/plain": [
       "tensor([ 1.1651,  0.0297,  4.6407,  3.0937,  2.3823,  1.5141,  0.5825,  1.3068,\n",
       "         1.1879, 15.2174, 11.2778,  0.0839,  9.8256,  7.0301,  1.3237,  1.9324,\n",
       "         1.8846,  0.5742, 10.2052,  6.9441,  1.4033,  1.9909,  2.3014,  2.3828,\n",
       "         0.1312,  0.0872,  4.4886,  1.6577, 14.0391,  3.3709, 15.4510,  1.7424,\n",
       "        11.0914,  3.7254,  1.7272, 14.9434,  0.2340,  0.2853,  4.5160,  1.2485,\n",
       "         3.4816,  2.9853, 16.8810,  0.1503, 10.8584,  0.7703,  9.8993, 11.7445,\n",
       "         0.3764,  0.2011], dtype=torch.float64)"
      ]
     },
     "execution_count": 17,
     "metadata": {},
     "output_type": "execute_result"
    }
   ],
   "source": [
    "se_l\n",
    "resL.post_mean2"
   ]
  },
  {
   "cell_type": "code",
   "execution_count": 18,
   "id": "9085104f",
   "metadata": {},
   "outputs": [],
   "source": [
    "from cebmf_torch.torch_ebnm_point_laplace import ebnm_point_laplace\n",
    "\n",
    "lol=ebnm_point_laplace(\n",
    "    x=lhat ,\n",
    "    s=se_l ,    # a=exp(0)=1\n",
    "    fix_par=[False,False, True] # optimize w only; fix a, mu\n",
    ")"
   ]
  },
  {
   "cell_type": "code",
   "execution_count": 19,
   "id": "6a04e4a5",
   "metadata": {},
   "outputs": [
    {
     "data": {
      "text/plain": [
       "tensor([0.0792, 0.0751, 0.0792, 0.0792, 0.0792, 0.0792, 0.0792, 0.0792, 0.0792,\n",
       "        0.0792, 0.0792, 0.0794, 0.0792, 0.0792, 0.0792, 0.0792, 0.0792, 0.0792,\n",
       "        0.0792, 0.0792, 0.0792, 0.0792, 0.0792, 0.0792, 0.0792, 0.0794, 0.0792,\n",
       "        0.0792, 0.0792, 0.0792, 0.0792, 0.0792, 0.0792, 0.0792, 0.0792, 0.0792,\n",
       "        0.0792, 0.0792, 0.0792, 0.0792, 0.0792, 0.0792, 0.0792, 0.0792, 0.0792,\n",
       "        0.0792, 0.0792, 0.0792, 0.0792, 0.0792], dtype=torch.float64)"
      ]
     },
     "execution_count": 19,
     "metadata": {},
     "output_type": "execute_result"
    }
   ],
   "source": [
    "lol.post_sd"
   ]
  },
  {
   "cell_type": "code",
   "execution_count": 20,
   "id": "e98689d2",
   "metadata": {},
   "outputs": [
    {
     "data": {
      "text/plain": [
       "<matplotlib.collections.PathCollection at 0x1e8139e6e00>"
      ]
     },
     "execution_count": 20,
     "metadata": {},
     "output_type": "execute_result"
    },
    {
     "data": {
      "image/png": "[encoded data removed]",
      "text/plain": [
       "<Figure size 640x480 with 1 Axes>"
      ]
     },
     "metadata": {},
     "output_type": "display_data"
    }
   ],
   "source": [
    "plt.scatter(lol.post_mean2,resL.post_mean2)"
   ]
  },
  {
   "cell_type": "code",
   "execution_count": 21,
   "id": "ee082178",
   "metadata": {},
   "outputs": [
    {
     "data": {
      "text/plain": [
       "<matplotlib.collections.PathCollection at 0x1e813bfca60>"
      ]
     },
     "execution_count": 21,
     "metadata": {},
     "output_type": "execute_result"
    },
    {
     "data": {
      "image/png": "[encoded data removed]",
      "text/plain": [
       "<Figure size 640x480 with 1 Axes>"
      ]
     },
     "metadata": {},
     "output_type": "display_data"
    }
   ],
   "source": [
    "plt.scatter(lol.post_sd**2 ,resL.post_mean2-resL.post_mean**2)"
   ]
  },
  {
   "cell_type": "code",
   "execution_count": 22,
   "id": "55c074e1",
   "metadata": {},
   "outputs": [
    {
     "name": "stdout",
     "output_type": "stream",
     "text": [
      "tensor([-1.0765, -0.1552, -2.1528, -1.7571, -1.5414, -1.2279, -0.7591, -1.1404,\n",
      "        -1.0870, -3.9001, -3.3573, -0.2786, -3.1336, -2.6503, -1.1478, -1.3878,\n",
      "        -1.3705, -0.7536, -3.1936, -2.6340, -1.1820, -1.4088, -1.5150, -1.5416,\n",
      "        -0.3535, -0.2844, -2.1171, -1.2851, -3.7460, -1.8343, -3.9300, -1.3176,\n",
      "        -3.3294, -1.9285, -1.3118, -3.8649, -0.4772, -0.5282, -2.1236, -1.1146,\n",
      "        -1.8642, -1.7260, -4.1079, -0.3795, -3.2943, -0.8741, -3.1453, -3.4261,\n",
      "        -0.6084, -0.4414], dtype=torch.float64)\n"
     ]
    }
   ],
   "source": [
    "k=0\n",
    "Rk = mycebmf._partial_residual_masked(k)            # (N,P), zeros where missing\n",
    "fk  = mycebmf.F[:, k]                                # (P,)\n",
    "fk2 = mycebmf.F2[:, k]                               # (P,)\n",
    "\n",
    "eps = 1e-12\n",
    "denom_l = (fk2.view(1, -1) * mycebmf.mask).sum(dim=1).clamp_min(eps)     # (N,)\n",
    "num_l   = (Rk @ fk)                                                   # (N,)\n",
    "se_l    = torch.sqrt(1.0 / (mycebmf.tau * denom_l))\n",
    "\n",
    "\n",
    "lhat = num_l / denom_l\n",
    "\n",
    "resL = mycebmf.prior_L_fn(\n",
    "            X=getattr(mycebmf, \"X_l\", None),\n",
    "            betahat=lhat,\n",
    "            sebetahat=se_l,\n",
    "            model_param=mycebmf.model_state_L[k]\n",
    ")\n",
    "mycebmf.model_state_L[k] = resL.model_param\n",
    "print(resL.post_mean)\n",
    "mycebmf.L[:, k]  = resL.post_mean\n",
    "mycebmf.L2[:, k] = resL.post_mean2"
   ]
  },
  {
   "cell_type": "code",
   "execution_count": 23,
   "id": "dfa1ef80",
   "metadata": {},
   "outputs": [],
   "source": [
    "denom_f = (lk2.view(-1, 1) * mycebmf.mask).sum(dim=0).clamp_min(eps)      # (P,)\n",
    "num_f   = (Rk.T @ lk)                                                  # (P,)\n",
    "se_f    = torch.sqrt(1.0 / (mycebmf.tau * denom_f))"
   ]
  },
  {
   "cell_type": "code",
   "execution_count": 24,
   "id": "3cc57f99",
   "metadata": {},
   "outputs": [
    {
     "data": {
      "text/plain": [
       "tensor([[1., 1., 1.,  ..., 1., 1., 1.],\n",
       "        [1., 1., 1.,  ..., 1., 1., 1.],\n",
       "        [1., 1., 1.,  ..., 1., 1., 1.],\n",
       "        ...,\n",
       "        [1., 1., 1.,  ..., 1., 1., 1.],\n",
       "        [1., 1., 1.,  ..., 1., 1., 1.],\n",
       "        [1., 1., 1.,  ..., 1., 1., 1.]])"
      ]
     },
     "execution_count": 24,
     "metadata": {},
     "output_type": "execute_result"
    }
   ],
   "source": [
    "mycebmf.mask"
   ]
  },
  {
   "cell_type": "code",
   "execution_count": 25,
   "id": "95f0cdaa",
   "metadata": {},
   "outputs": [
    {
     "name": "stdout",
     "output_type": "stream",
     "text": [
      "tensor([-1.0765, -0.1552, -2.1528, -1.7571, -1.5414, -1.2279, -0.7591, -1.1404,\n",
      "        -1.0870, -3.9001, -3.3573, -0.2786, -3.1336, -2.6503, -1.1478, -1.3878,\n",
      "        -1.3705, -0.7536, -3.1936, -2.6340, -1.1820, -1.4088, -1.5150, -1.5416,\n",
      "        -0.3535, -0.2844, -2.1171, -1.2851, -3.7460, -1.8343, -3.9300, -1.3176,\n",
      "        -3.3294, -1.9285, -1.3118, -3.8649, -0.4772, -0.5282, -2.1236, -1.1146,\n",
      "        -1.8642, -1.7260, -4.1079, -0.3795, -3.2943, -0.8741, -3.1453, -3.4261,\n",
      "        -0.6084, -0.4414], dtype=torch.float64)\n",
      "tensor([-0.0346, -0.1409, -0.0033, -0.2040, -0.1176, -0.0072, -0.2310, -0.1752,\n",
      "        -0.1537, -0.2228, -0.0544, -0.1940, -0.0261, -0.1711, -0.2372, -0.0781,\n",
      "        -0.2404, -0.0280, -0.1942, -0.1146, -0.1228, -0.1836, -0.2128, -0.0841,\n",
      "        -0.0971, -0.0334, -0.1129, -0.0906, -0.1750, -0.1760, -0.1829, -0.1479,\n",
      "        -0.1141, -0.1198, -0.2098, -0.2042, -0.2252, -0.2121, -0.1984, -0.1542],\n",
      "       dtype=torch.float64)\n"
     ]
    }
   ],
   "source": [
    " \n",
    "Rk = mycebmf._partial_residual_masked(k)            # (N,P), zeros where missing\n",
    "fk  = mycebmf.F[:, k]                                # (P,)\n",
    "fk2 = mycebmf.F2[:, k]                               # (P,)\n",
    "\n",
    "eps = 1e-12\n",
    "denom_l = (fk2.view(1, -1) * mycebmf.mask).sum(dim=1).clamp_min(eps)     # (N,)\n",
    "num_l   = (Rk @ fk)                                                   # (N,)\n",
    "se_l    = torch.sqrt(1.0 / (mycebmf.tau * denom_l))\n",
    "\n",
    "\n",
    "lhat = num_l / denom_l\n",
    "\n",
    "resL = mycebmf.prior_L_fn(\n",
    "            X=getattr(mycebmf, \"X_l\", None),\n",
    "            betahat=lhat,\n",
    "            sebetahat=se_l,\n",
    "            model_param=mycebmf.model_state_L[k]\n",
    ")\n",
    "mycebmf.model_state_L[k] = resL.model_param\n",
    "print(resL.post_mean)\n",
    "mycebmf.L[:, k]  = resL.post_mean\n",
    "mycebmf.L2[:, k] = resL.post_mean2\n",
    "mycebmf.kl_l[k]  = torch.as_tensor(resL.loss, device=mycebmf.device)\n",
    "Rk = mycebmf._partial_residual_masked(k)            # recompute with updated L\n",
    "lk  = mycebmf.L[:, k]                               # (N,)\n",
    "lk2 = mycebmf.L2[:, k]                              # (N,)\n",
    "\n",
    "if tau_map is None:\n",
    "            denom_f = (lk2.view(-1, 1) * mycebmf.mask).sum(dim=0).clamp_min(eps)      # (P,)\n",
    "            num_f   = (Rk.T @ lk)                                                  # (P,)\n",
    "            se_f    = torch.sqrt(1.0 / (mycebmf.tau * denom_f))\n",
    "else:\n",
    "            denom_f = (tau_map * (lk2.view(-1, 1) * mycebmf.mask)).sum(dim=0).clamp_min(eps)  # (P,)\n",
    "            num_f   = (tau_map * Rk).T @ lk                                                # (P,)\n",
    "            se_f    = torch.sqrt(1.0 / denom_f)\n",
    "\n",
    "fhat = num_f / denom_f \n",
    "resF = mycebmf.prior_F_fn(\n",
    "            X=getattr(mycebmf, \"X_f\", None),\n",
    "            betahat=fhat,\n",
    "            sebetahat=se_f,\n",
    "            model_param=mycebmf.model_state_F[k]\n",
    "        )\n",
    "mycebmf.model_state_F[k] = resF.model_param\n",
    "print(resF.post_mean)\n",
    "mycebmf.F[:, k]  = resF.post_mean\n",
    "mycebmf.F2[:, k] = resF.post_mean2\n",
    "mycebmf.kl_f[k]  = torch.as_tensor(resF.loss, device=mycebmf.device)\n"
   ]
  },
  {
   "cell_type": "code",
   "execution_count": 26,
   "id": "57dad8d3",
   "metadata": {},
   "outputs": [
    {
     "data": {
      "text/plain": [
       "tensor([226.3677, 226.3677, 226.3677, 226.3677, 226.3677, 226.3677, 226.3677,\n",
       "        226.3677, 226.3677, 226.3677, 226.3677, 226.3677, 226.3677, 226.3677,\n",
       "        226.3677, 226.3677, 226.3677, 226.3677, 226.3677, 226.3677, 226.3677,\n",
       "        226.3677, 226.3677, 226.3677, 226.3677, 226.3677, 226.3677, 226.3677,\n",
       "        226.3677, 226.3677, 226.3677, 226.3677, 226.3676, 226.3676, 226.3676,\n",
       "        226.3676, 226.3676, 226.3676, 226.3676, 226.3676])"
      ]
     },
     "execution_count": 26,
     "metadata": {},
     "output_type": "execute_result"
    }
   ],
   "source": [
    "(lk2.view(-1, 1) * mycebmf.mask) .sum(dim=0)"
   ]
  },
  {
   "cell_type": "code",
   "execution_count": 27,
   "id": "ed42f9de",
   "metadata": {},
   "outputs": [
    {
     "data": {
      "text/plain": [
       "tensor([ -6.6120, -26.8076,  -1.1584, -38.8104, -22.3824,  -1.8171, -43.9332,\n",
       "        -33.3225, -29.2461, -42.3693, -10.3744, -36.9072,  -4.9941, -32.5569,\n",
       "        -45.1151, -14.8749, -45.7122,  -5.3558, -36.9439, -21.8050, -23.3644,\n",
       "        -34.9283, -40.4778, -16.0264, -18.4916,  -6.3765, -21.4945, -17.2554,\n",
       "        -33.3000, -33.4826, -34.7883, -28.1387, -21.7182, -22.8023, -39.9087,\n",
       "        -38.8488, -42.8336, -40.3461, -37.7294, -29.3377])"
      ]
     },
     "execution_count": 27,
     "metadata": {},
     "output_type": "execute_result"
    }
   ],
   "source": [
    "fhat/se_f"
   ]
  },
  {
   "cell_type": "code",
   "execution_count": 28,
   "id": "c0460dc2",
   "metadata": {},
   "outputs": [
    {
     "data": {
      "text/plain": [
       "tensor([0.0792, 0.0792, 0.0792, 0.0792, 0.0792, 0.0792, 0.0792, 0.0792, 0.0792,\n",
       "        0.0792, 0.0792, 0.0792, 0.0792, 0.0792, 0.0792, 0.0792, 0.0792, 0.0792,\n",
       "        0.0792, 0.0792, 0.0792, 0.0792, 0.0792, 0.0792, 0.0792, 0.0792, 0.0792,\n",
       "        0.0792, 0.0792, 0.0792, 0.0792, 0.0792, 0.0792, 0.0792, 0.0792, 0.0792,\n",
       "        0.0792, 0.0792, 0.0792, 0.0792, 0.0792, 0.0792, 0.0792, 0.0792, 0.0792,\n",
       "        0.0792, 0.0792, 0.0792, 0.0792, 0.0792])"
      ]
     },
     "execution_count": 28,
     "metadata": {},
     "output_type": "execute_result"
    }
   ],
   "source": [
    "se_l\n"
   ]
  },
  {
   "cell_type": "code",
   "execution_count": 29,
   "id": "441e02f9",
   "metadata": {},
   "outputs": [],
   "source": [
    "\n",
    "lolf=ebnm_point_laplace(\n",
    "    x=fhat ,\n",
    "    s=se_f ,    # a=exp(0)=1\n",
    "    fix_par=[False,False, True] # optimize w only; fix a, mu\n",
    ")"
   ]
  },
  {
   "cell_type": "code",
   "execution_count": 30,
   "id": "53231549",
   "metadata": {},
   "outputs": [
    {
     "data": {
      "text/plain": [
       "0.0"
      ]
     },
     "execution_count": 30,
     "metadata": {},
     "output_type": "execute_result"
    }
   ],
   "source": [
    "lol.mu"
   ]
  },
  {
   "cell_type": "code",
   "execution_count": 31,
   "id": "c5d8a126",
   "metadata": {},
   "outputs": [
    {
     "ename": "AttributeError",
     "evalue": "'EBNMLaplaceResult' object has no attribute 'w'",
     "output_type": "error",
     "traceback": [
      "\u001b[1;31m---------------------------------------------------------------------------\u001b[0m",
      "\u001b[1;31mAttributeError\u001b[0m                            Traceback (most recent call last)",
      "Cell \u001b[1;32mIn[31], line 1\u001b[0m\n\u001b[1;32m----> 1\u001b[0m \u001b[43mlol\u001b[49m\u001b[38;5;241;43m.\u001b[39;49m\u001b[43mw\u001b[49m\n",
      "\u001b[1;31mAttributeError\u001b[0m: 'EBNMLaplaceResult' object has no attribute 'w'"
     ]
    }
   ],
   "source": [
    "lol.w"
   ]
  },
  {
   "cell_type": "code",
   "execution_count": null,
   "id": "0e429d6e",
   "metadata": {},
   "outputs": [
    {
     "data": {
      "text/plain": [
       "tensor([0., 0., 0., 0., 0., 0., 0., 0., 0., 0., 0., 0., 0., 0., 0., 0., 0., 0., 0., 0., 0., 0., 0., 0.,\n",
       "        0., 0., 0., 0., 0., 0., 0., 0., 0., 0., 0., 0., 0., 0., 0., 0., 0., 0., 0., 0., 0., 0., 0., 0.,\n",
       "        0., 0.])"
      ]
     },
     "execution_count": 91,
     "metadata": {},
     "output_type": "execute_result"
    }
   ],
   "source": [
    "# make sure this is the stable version we discussed\n",
    "from cebmf_torch.torch_ebnm_point_exp import ebnm_point_exp\n",
    "res = ebnm_point_exp(\n",
    "    x=lhat.float(),\n",
    "    s=se_l.float() \n",
    ") \n",
    "res.post_mean  # shrunk toward 0, not all zero\n"
   ]
  },
  {
   "cell_type": "code",
   "execution_count": null,
   "id": "3135beec",
   "metadata": {},
   "outputs": [
    {
     "data": {
      "text/plain": [
       "tensor([-1.0784, -0.1156, -2.1531, -1.7580, -1.5426, -1.2296, -0.7614, -1.1422,\n",
       "        -1.0889, -3.8980, -3.3559, -0.2798, -3.1325, -2.6499, -1.1496, -1.3893,\n",
       "        -1.3720, -0.7560, -3.1924, -2.6336, -1.1837, -1.4102, -1.5162, -1.5428,\n",
       "        -0.3564, -0.2859, -2.1175, -1.2867, -3.7441, -1.8351, -3.9278, -1.3192,\n",
       "        -3.3281, -1.9292, -1.3134, -3.8627, -0.4800, -0.5309, -2.1240, -1.1164,\n",
       "        -1.8650, -1.7269, -4.1054, -0.3824, -3.2929, -0.8763, -3.1442, -3.4246,\n",
       "        -0.6110, -0.4442])"
      ]
     },
     "execution_count": 92,
     "metadata": {},
     "output_type": "execute_result"
    }
   ],
   "source": [
    "from cebmf_torch.torch_ash import ash\n",
    "chk = ash(lhat.float(), se_l.float(), prior=\"norm\")\n",
    "chk.post_mean  # finite; should be close to lhat for large SNR\n"
   ]
  },
  {
   "cell_type": "code",
   "execution_count": null,
   "id": "5c132067",
   "metadata": {},
   "outputs": [
    {
     "data": {
      "text/plain": [
       "<matplotlib.collections.PathCollection at 0x1f65075c670>"
      ]
     },
     "execution_count": 93,
     "metadata": {},
     "output_type": "execute_result"
    },
    {
     "data": {
      "image/png": "[encoded data removed]",
      "text/plain": [
       "<Figure size 640x480 with 1 Axes>"
      ]
     },
     "metadata": {},
     "output_type": "display_data"
    }
   ],
   "source": [
    "plt.scatter( chk.post_mean, lol.post_mean)\n",
    "\n"
   ]
  },
  {
   "cell_type": "code",
   "execution_count": null,
   "id": "74e1cac0",
   "metadata": {},
   "outputs": [
    {
     "data": {
      "text/plain": [
       "tensor([-0.0226,  0.0505, -0.0251,  0.1828, -0.1567,  0.0110, -0.3370, -0.0044,\n",
       "         0.0712, -0.0596, -0.0448,  0.2547, -0.0389, -0.1313, -0.0200,  0.0356,\n",
       "        -0.1965, -0.1163, -0.0888,  0.1429,  0.0326, -0.0532,  0.0251, -0.0237,\n",
       "         0.0247,  0.1337,  0.0305,  0.0491,  0.0300,  0.1066, -0.0835, -0.2645,\n",
       "         0.0361,  0.0838,  0.0077,  0.0120,  0.0620,  0.0598, -0.0045,  0.0280,\n",
       "         0.0456,  0.1544,  0.0578, -0.1150, -0.0277, -0.1523,  0.1149,  0.0121,\n",
       "         0.1663,  0.0432], dtype=torch.float64)"
      ]
     },
     "execution_count": 94,
     "metadata": {},
     "output_type": "execute_result"
    }
   ],
   "source": [
    "\n",
    "k=4\n",
    "Rk = mycebmf._partial_residual_masked(k)            # (N,P), zeros where missing\n",
    "fk  = mycebmf.F[:, k]                                # (P,)\n",
    "fk2 = mycebmf.F2[:, k]                               # (P,)\n",
    "\n",
    "eps = 1e-12\n",
    "denom_l = (fk2.view(1, -1) * mycebmf.mask).sum(dim=1).clamp_min(eps)     # (N,)\n",
    "num_l   = (Rk @ fk)                                                   # (N,)\n",
    "se_l    = torch.sqrt(1.0 / (mycebmf.tau * denom_l))\n",
    "\n",
    "\n",
    "lhat = num_l / denom_l\n",
    "\n",
    "resL = mycebmf.prior_L_fn(\n",
    "            X=getattr(mycebmf, \"X_l\", None),\n",
    "            betahat=lhat,\n",
    "            sebetahat=se_l,\n",
    "            model_param=mycebmf.model_state_L[k]\n",
    ")\n",
    "mycebmf.model_state_L[k] = resL.model_param\n",
    "mycebmf.L[:, k]  = resL.post_mean\n",
    "mycebmf.L2[:, k] = resL.post_mean2\n",
    "mycebmf.kl_l[k]  = torch.as_tensor(resL.loss, device=mycebmf.device)\n",
    "se_l\n",
    "resL.post_mean"
   ]
  },
  {
   "cell_type": "code",
   "execution_count": null,
   "id": "f8e7a6c4",
   "metadata": {},
   "outputs": [
    {
     "data": {
      "text/plain": [
       "tensor([ 0.1068,  0.0980, -0.2368,  0.1943,  0.0620, -0.0908,  0.0014,  0.1286,\n",
       "         0.0127,  0.0065, -0.0906,  0.1161,  0.0786, -0.0489,  0.0723,  0.0782,\n",
       "         0.1107,  0.0751, -0.0848,  0.0736, -0.2393, -0.1654, -0.1627,  0.0317,\n",
       "        -0.0285, -0.0685,  0.0622,  0.0150,  0.2281,  0.0139, -0.0656,  0.2216,\n",
       "        -0.1260, -0.1321, -0.0561,  0.2201, -0.2013, -0.0437, -0.0499, -0.0827,\n",
       "         0.0081, -0.0349,  0.0280, -0.1552, -0.1280,  0.1366, -0.0451,  0.0025,\n",
       "         0.1011,  0.2737], dtype=torch.float64)"
      ]
     },
     "execution_count": 95,
     "metadata": {},
     "output_type": "execute_result"
    }
   ],
   "source": [
    "\n",
    "k=2\n",
    "Rk = mycebmf._partial_residual_masked(k)            # (N,P), zeros where missing\n",
    "fk  = mycebmf.F[:, k]                                # (P,)\n",
    "fk2 = mycebmf.F2[:, k]                               # (P,)\n",
    "\n",
    "eps = 1e-12\n",
    "denom_l = (fk2.view(1, -1) * mycebmf.mask).sum(dim=1).clamp_min(eps)     # (N,)\n",
    "num_l   = (Rk @ fk)                                                   # (N,)\n",
    "se_l    = torch.sqrt(1.0 / (mycebmf.tau * denom_l))\n",
    "\n",
    "\n",
    "lhat = num_l / denom_l\n",
    "\n",
    "resL = mycebmf.prior_L_fn(\n",
    "            X=getattr(mycebmf, \"X_l\", None),\n",
    "            betahat=lhat,\n",
    "            sebetahat=se_l,\n",
    "            model_param=mycebmf.model_state_L[k]\n",
    ")\n",
    "mycebmf.model_state_L[k] = resL.model_param\n",
    "mycebmf.L[:, k]  = resL.post_mean\n",
    "mycebmf.L2[:, k] = resL.post_mean2\n",
    "mycebmf.kl_l[k]  = torch.as_tensor(resL.loss, device=mycebmf.device)\n",
    "se_l\n",
    "resL.post_mean"
   ]
  },
  {
   "cell_type": "code",
   "execution_count": null,
   "id": "0b833086",
   "metadata": {},
   "outputs": [
    {
     "data": {
      "text/plain": [
       "tensor([0.0792, 0.0792, 0.0792, 0.0792, 0.0792, 0.0792, 0.0792, 0.0792, 0.0792,\n",
       "        0.0792, 0.0792, 0.0792, 0.0792, 0.0792, 0.0792, 0.0792, 0.0792, 0.0792,\n",
       "        0.0792, 0.0792, 0.0792, 0.0792, 0.0792, 0.0792, 0.0792, 0.0792, 0.0792,\n",
       "        0.0792, 0.0792, 0.0792, 0.0792, 0.0792, 0.0792, 0.0792, 0.0792, 0.0792,\n",
       "        0.0792, 0.0792, 0.0792, 0.0792, 0.0792, 0.0792, 0.0792, 0.0792, 0.0792,\n",
       "        0.0792, 0.0792, 0.0792, 0.0792, 0.0792])"
      ]
     },
     "execution_count": 96,
     "metadata": {},
     "output_type": "execute_result"
    }
   ],
   "source": [
    "lhat\n",
    "se_l"
   ]
  },
  {
   "cell_type": "code",
   "execution_count": null,
   "id": "db392345",
   "metadata": {},
   "outputs": [
    {
     "data": {
      "text/plain": [
       "tensor([ 0.1068,  0.0980, -0.2369,  0.1943,  0.0620, -0.0908,  0.0014,  0.1286,\n",
       "         0.0127,  0.0065, -0.0907,  0.1161,  0.0786, -0.0489,  0.0724,  0.0782,\n",
       "         0.1107,  0.0751, -0.0848,  0.0736, -0.2393, -0.1655, -0.1627,  0.0317,\n",
       "        -0.0285, -0.0685,  0.0623,  0.0150,  0.2281,  0.0139, -0.0656,  0.2216,\n",
       "        -0.1261, -0.1321, -0.0562,  0.2201, -0.2013, -0.0437, -0.0499, -0.0827,\n",
       "         0.0081, -0.0349,  0.0280, -0.1552, -0.1280,  0.1367, -0.0451,  0.0025,\n",
       "         0.1011,  0.2737], dtype=torch.float64)"
      ]
     },
     "execution_count": 97,
     "metadata": {},
     "output_type": "execute_result"
    }
   ],
   "source": [
    "from cebmf_torch.torch_ebnm_point_laplace import ebnm_point_laplace\n",
    "lol= ebnm_point_laplace(lhat , se_l) \n",
    "lol.post_mean\n"
   ]
  },
  {
   "cell_type": "code",
   "execution_count": null,
   "id": "f942b946",
   "metadata": {},
   "outputs": [
    {
     "data": {
      "text/plain": [
       "tensor([0.0792, 0.0792, 0.0792, 0.0792, 0.0792, 0.0792, 0.0792, 0.0792, 0.0792,\n",
       "        0.0792, 0.0792, 0.0792, 0.0792, 0.0792, 0.0792, 0.0792, 0.0792, 0.0792,\n",
       "        0.0792, 0.0792, 0.0792, 0.0792, 0.0792, 0.0792, 0.0792, 0.0792, 0.0792,\n",
       "        0.0792, 0.0792, 0.0792, 0.0792, 0.0792, 0.0792, 0.0792, 0.0792, 0.0792,\n",
       "        0.0792, 0.0792, 0.0792, 0.0792, 0.0792, 0.0792, 0.0792, 0.0792, 0.0792,\n",
       "        0.0792, 0.0792, 0.0792, 0.0792, 0.0792])"
      ]
     },
     "execution_count": 98,
     "metadata": {},
     "output_type": "execute_result"
    }
   ],
   "source": [
    "se_l"
   ]
  },
  {
   "cell_type": "code",
   "execution_count": null,
   "id": "3d870a2a",
   "metadata": {},
   "outputs": [
    {
     "data": {
      "text/plain": [
       "tensor([ 0.1571,  0.1465, -0.2942,  0.2512,  0.0996, -0.1377,  0.0024,  0.1820,\n",
       "         0.0220,  0.0113, -0.1375,  0.1678,  0.1221, -0.0805,  0.1139,  0.1217,\n",
       "         0.1616,  0.1175, -0.1302,  0.1156, -0.2967, -0.2215, -0.2186,  0.0538,\n",
       "        -0.0485, -0.1087,  0.1000,  0.0259,  0.2854,  0.0241, -0.1046,  0.2789,\n",
       "        -0.1791, -0.1858, -0.0913,  0.2774, -0.2584, -0.0726, -0.0821, -0.1275,\n",
       "         0.0141, -0.0588,  0.0477, -0.2107, -0.1813,  0.1908, -0.0748,  0.0044,\n",
       "         0.1503,  0.3311])"
      ]
     },
     "execution_count": 99,
     "metadata": {},
     "output_type": "execute_result"
    }
   ],
   "source": [
    "lhat"
   ]
  },
  {
   "cell_type": "code",
   "execution_count": null,
   "id": "ed404183",
   "metadata": {},
   "outputs": [
    {
     "data": {
      "text/plain": [
       "tensor([ 0.1068,  0.0980, -0.2369,  0.1943,  0.0620, -0.0908,  0.0014,  0.1286,\n",
       "         0.0127,  0.0065, -0.0907,  0.1161,  0.0786, -0.0489,  0.0724,  0.0782,\n",
       "         0.1107,  0.0751, -0.0848,  0.0736, -0.2393, -0.1655, -0.1627,  0.0317,\n",
       "        -0.0285, -0.0685,  0.0623,  0.0150,  0.2281,  0.0139, -0.0656,  0.2216,\n",
       "        -0.1261, -0.1321, -0.0562,  0.2201, -0.2013, -0.0437, -0.0499, -0.0827,\n",
       "         0.0081, -0.0349,  0.0280, -0.1552, -0.1280,  0.1367, -0.0451,  0.0025,\n",
       "         0.1011,  0.2737], dtype=torch.float64)"
      ]
     },
     "execution_count": 100,
     "metadata": {},
     "output_type": "execute_result"
    }
   ],
   "source": [
    "lol= ebnm_point_laplace(lhat , se_l  ) \n",
    "lol.post_mean\n"
   ]
  },
  {
   "cell_type": "code",
   "execution_count": null,
   "id": "1b46c073",
   "metadata": {},
   "outputs": [
    {
     "data": {
      "text/plain": [
       "0.9999071359634399"
      ]
     },
     "execution_count": 101,
     "metadata": {},
     "output_type": "execute_result"
    }
   ],
   "source": [
    "lol.w"
   ]
  },
  {
   "cell_type": "code",
   "execution_count": null,
   "id": "55aacff1",
   "metadata": {},
   "outputs": [],
   "source": []
  },
  {
   "cell_type": "code",
   "execution_count": null,
   "id": "572468e7",
   "metadata": {},
   "outputs": [
    {
     "data": {
      "text/plain": [
       "EBNMLaplaceResult(post_mean=tensor([ 0.1068,  0.0980, -0.2368,  0.1943,  0.0620, -0.0908,  0.0014,  0.1286,\n",
       "         0.0127,  0.0065, -0.0906,  0.1161,  0.0786, -0.0489,  0.0723,  0.0782,\n",
       "         0.1107,  0.0751, -0.0848,  0.0736, -0.2393, -0.1654, -0.1627,  0.0317,\n",
       "        -0.0285, -0.0685,  0.0622,  0.0150,  0.2281,  0.0139, -0.0656,  0.2216,\n",
       "        -0.1260, -0.1321, -0.0561,  0.2201, -0.2013, -0.0437, -0.0499, -0.0827,\n",
       "         0.0081, -0.0349,  0.0280, -0.1552, -0.1280,  0.1366, -0.0451,  0.0025,\n",
       "         0.1011,  0.2737], dtype=torch.float64), post_mean2=tensor([0.0167, 0.0148, 0.0620, 0.0439, 0.0083, 0.0068, 0.0036, 0.0222, 0.0038,\n",
       "        0.0037, 0.0067, 0.0189, 0.0110, 0.0030, 0.0099, 0.0109, 0.0176, 0.0104,\n",
       "        0.0055, 0.0101, 0.0632, 0.0309, 0.0299, 0.0049, 0.0046, 0.0033, 0.0083,\n",
       "        0.0039, 0.0582, 0.0039, 0.0030, 0.0553, 0.0167, 0.0187, 0.0028, 0.0547,\n",
       "        0.0457, 0.0035, 0.0030, 0.0052, 0.0037, 0.0049, 0.0046, 0.0270, 0.0173,\n",
       "        0.0244, 0.0034, 0.0036, 0.0155, 0.0812], dtype=torch.float64), post_sd=tensor([0.0730, 0.0719, 0.0768, 0.0784, 0.0667, 0.0000, 0.0601, 0.0751, 0.0604,\n",
       "        0.0602, 0.0000, 0.0740, 0.0692, 0.0256, 0.0683, 0.0692, 0.0734, 0.0687,\n",
       "        0.0000, 0.0685, 0.0770, 0.0597, 0.0583, 0.0622, 0.0618, 0.0000, 0.0667,\n",
       "        0.0606, 0.0789, 0.0605, 0.0000, 0.0789, 0.0278, 0.0352, 0.0000, 0.0788,\n",
       "        0.0718, 0.0403, 0.0221, 0.0000, 0.0602, 0.0607, 0.0618, 0.0540, 0.0304,\n",
       "        0.0758, 0.0367, 0.0601, 0.0723, 0.0791], dtype=torch.float64), w=0.9998142393436421, a=9.169692533568076, mu=0.0, log_lik=17.287240682500823)"
      ]
     },
     "execution_count": 102,
     "metadata": {},
     "output_type": "execute_result"
    }
   ],
   "source": [
    "ebnm_point_laplace(\n",
    "    x=lhat.double(),\n",
    "    s=se_l.double(),    # a=exp(0)=1\n",
    "    fix_par=[False,False, True] # optimize w only; fix a, mu\n",
    ")"
   ]
  },
  {
   "cell_type": "code",
   "execution_count": null,
   "id": "7cbbbd41",
   "metadata": {},
   "outputs": [
    {
     "data": {
      "text/plain": [
       "EBNMLaplaceResult(post_mean=tensor([ 0.1068,  0.0980, -0.2368,  0.1943,  0.0620, -0.0908,  0.0014,  0.1286,\n",
       "         0.0127,  0.0065, -0.0906,  0.1161,  0.0786, -0.0489,  0.0723,  0.0782,\n",
       "         0.1107,  0.0751, -0.0848,  0.0736, -0.2393, -0.1654, -0.1627,  0.0317,\n",
       "        -0.0285, -0.0685,  0.0622,  0.0150,  0.2281,  0.0139, -0.0656,  0.2216,\n",
       "        -0.1260, -0.1321, -0.0561,  0.2201, -0.2013, -0.0437, -0.0499, -0.0827,\n",
       "         0.0081, -0.0349,  0.0280, -0.1552, -0.1280,  0.1366, -0.0451,  0.0025,\n",
       "         0.1011,  0.2737], dtype=torch.float64), post_mean2=tensor([0.0167, 0.0148, 0.0620, 0.0439, 0.0083, 0.0068, 0.0036, 0.0222, 0.0038,\n",
       "        0.0037, 0.0067, 0.0189, 0.0110, 0.0030, 0.0099, 0.0109, 0.0176, 0.0104,\n",
       "        0.0055, 0.0101, 0.0632, 0.0309, 0.0299, 0.0049, 0.0046, 0.0033, 0.0083,\n",
       "        0.0039, 0.0582, 0.0039, 0.0030, 0.0553, 0.0167, 0.0187, 0.0028, 0.0547,\n",
       "        0.0457, 0.0035, 0.0030, 0.0052, 0.0037, 0.0049, 0.0046, 0.0270, 0.0173,\n",
       "        0.0244, 0.0034, 0.0036, 0.0155, 0.0812], dtype=torch.float64), post_sd=tensor([0.0730, 0.0719, 0.0768, 0.0784, 0.0667, 0.0000, 0.0601, 0.0751, 0.0604,\n",
       "        0.0602, 0.0000, 0.0740, 0.0692, 0.0256, 0.0683, 0.0692, 0.0734, 0.0687,\n",
       "        0.0000, 0.0685, 0.0770, 0.0597, 0.0583, 0.0622, 0.0618, 0.0000, 0.0667,\n",
       "        0.0606, 0.0789, 0.0605, 0.0000, 0.0789, 0.0278, 0.0352, 0.0000, 0.0788,\n",
       "        0.0718, 0.0403, 0.0221, 0.0000, 0.0602, 0.0607, 0.0618, 0.0540, 0.0304,\n",
       "        0.0758, 0.0367, 0.0601, 0.0723, 0.0791], dtype=torch.float64), w=0.9998194804123799, a=9.169495425138246, mu=0.0, log_lik=17.287280524963887)"
      ]
     },
     "execution_count": 103,
     "metadata": {},
     "output_type": "execute_result"
    }
   ],
   "source": [
    "ebnm_point_laplace(\n",
    "    x=lhat.double(),\n",
    "    s=se_l.double(),\n",
    "    par_init=[0.0, 2.0, 0.0],   # a=exp(0)=1\n",
    "    fix_par=[False,False, True] # optimize w only; fix a, mu\n",
    ")"
   ]
  }
 ],
 "metadata": {
  "kernelspec": {
   "display_name": "ml_env",
   "language": "python",
   "name": "python3"
  },
  "language_info": {
   "codemirror_mode": {
    "name": "ipython",
    "version": 3
   },
   "file_extension": ".py",
   "mimetype": "text/x-python",
   "name": "python",
   "nbconvert_exporter": "python",
   "pygments_lexer": "ipython3",
   "version": "3.10.8"
  }
 },
 "nbformat": 4,
 "nbformat_minor": 5
}
