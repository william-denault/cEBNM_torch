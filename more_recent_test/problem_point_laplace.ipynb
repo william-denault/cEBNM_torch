{
 "cells": [
  {
   "cell_type": "code",
   "execution_count": 60,
   "id": "058450fc",
   "metadata": {},
   "outputs": [],
   "source": [
    "# ---- Reproducibility\n",
    "import random\n",
    "import torch\n",
    "\n",
    "seed = 1234\n",
    "random.seed(seed)\n",
    "torch.manual_seed(seed)\n",
    "if torch.cuda.is_available():\n",
    "    torch.cuda.manual_seed_all(seed)\n"
   ]
  },
  {
   "cell_type": "code",
   "execution_count": 61,
   "id": "3a4ac569",
   "metadata": {},
   "outputs": [
    {
     "name": "stdout",
     "output_type": "stream",
     "text": [
      "Rank-1 Matrix (Outer Product):\n",
      "[[0.0369924  0.12349849 0.01266485 ... 0.20919041 0.20178125 0.15269329]\n",
      " [0.01256629 0.04195233 0.00430224 ... 0.0710618  0.06854491 0.05186978]\n",
      " [0.07442166 0.24845541 0.02547927 ... 0.42085123 0.40594542 0.3071898 ]\n",
      " ...\n",
      " [0.13003676 0.43412546 0.04451985 ... 0.73535219 0.70930731 0.53675188]\n",
      " [0.02568535 0.08575008 0.00879373 ... 0.14524951 0.14010503 0.10602124]\n",
      " [0.01213768 0.04052142 0.0041555  ... 0.06863803 0.06620699 0.05010061]]\n",
      "\n",
      "Noisy Matrix (with Homoscedastic Noise):\n",
      "[[ 0.14788041  0.16955928  0.1824038  ...  0.06284919  0.26615598\n",
      "   0.04153663]\n",
      " [-0.07975735  0.07738678 -0.06536086 ...  0.08710195  0.01799688\n",
      "   0.10035783]\n",
      " [ 0.15693369  0.13496091 -0.12057474 ...  0.40187727  0.53974668\n",
      "   0.3314774 ]\n",
      " ...\n",
      " [ 0.16086152  0.64130937  0.12866035 ...  0.67670073  0.59595961\n",
      "   0.57849158]\n",
      " [-0.06675871 -0.03323521 -0.03429034 ...  0.1487228   0.2078188\n",
      "   0.18898802]\n",
      " [-0.14480705  0.07884231  0.03359961 ... -0.16932926  0.1779711\n",
      "   0.1486646 ]]\n"
     ]
    }
   ],
   "source": [
    "\n",
    "\n",
    "# ---- Parameters\n",
    "n, p = 50, 40\n",
    "noise_std = 0.1\n",
    "\n",
    "# (Optional) choose device\n",
    "device = torch.device(\"cuda\" if torch.cuda.is_available() else \"cpu\")\n",
    "\n",
    "# ---- Data generation (PyTorch)\n",
    "# Use float64 to mirror NumPy defaults\n",
    "u = torch.rand(n, dtype=torch.float64, device=device)          # length n\n",
    "v = torch.rand(p, dtype=torch.float64, device=device)          # length p\n",
    "\n",
    "# Rank-1 matrix via outer product\n",
    "rank_1_matrix = torch.outer(u, v)                              # (n, p)\n",
    "\n",
    "# Homoscedastic Gaussian noise\n",
    "noise = noise_std * torch.randn(n, p, dtype=torch.float64, device=device)\n",
    "\n",
    "noisy_matrix = rank_1_matrix + noise\n",
    "\n",
    "# ---- Print (move to CPU for readability if needed)\n",
    "print(\"Rank-1 Matrix (Outer Product):\")\n",
    "print(rank_1_matrix.cpu().numpy())\n",
    "\n",
    "print(\"\\nNoisy Matrix (with Homoscedastic Noise):\")\n",
    "print(noisy_matrix.cpu().numpy())\n"
   ]
  },
  {
   "cell_type": "code",
   "execution_count": 62,
   "id": "288daa18",
   "metadata": {},
   "outputs": [],
   "source": [
    "import sys\n",
    "import os\n",
    "import matplotlib.pyplot as plt\n",
    "from cebmf_torch import cEBMF"
   ]
  },
  {
   "cell_type": "code",
   "execution_count": 63,
   "id": "5b5272bf",
   "metadata": {},
   "outputs": [],
   "source": [
    "mycebmf=  cEBMF(data= noisy_matrix,\n",
    "                prior_L=\"point_laplace\",\n",
    "                  prior_F=\"point_laplace\") "
   ]
  },
  {
   "cell_type": "code",
   "execution_count": null,
   "id": "8d4e3633",
   "metadata": {},
   "outputs": [],
   "source": [
    " "
   ]
  },
  {
   "cell_type": "code",
   "execution_count": 64,
   "id": "12ac914e",
   "metadata": {},
   "outputs": [
    {
     "name": "stdout",
     "output_type": "stream",
     "text": [
      "tensor([ 0.0080, -0.1905,  0.2605, -0.2120,  0.2116,  0.1896, -0.2458, -0.2640,\n",
      "         0.1057,  0.1225,  0.0676,  0.0620, -0.0016,  0.1750,  0.1087, -0.0761,\n",
      "         0.1078, -0.4832,  0.0641,  0.1960, -0.2287, -0.0704, -0.2441,  0.0377,\n",
      "        -0.2611, -0.1291,  0.3901, -0.0387, -0.1331, -0.2875, -0.2095,  0.1439,\n",
      "        -0.0307, -0.0648,  0.0598, -0.0430,  0.1896,  0.1109,  0.0643, -0.0023,\n",
      "        -0.0328, -0.2137,  0.0720,  0.0039, -0.1591, -0.2714, -0.0136,  0.1367,\n",
      "         0.0542,  0.2452])\n",
      "tensor([ 0.0610,  0.0381, -0.0373,  0.1844, -0.0388, -0.1764,  0.0488, -0.3281,\n",
      "        -0.0793,  0.0009,  0.2299,  0.1970,  0.0735, -0.2066,  0.0725, -0.2878,\n",
      "        -0.0727,  0.3067, -0.2505,  0.0539,  0.1928,  0.0201, -0.0158,  0.1157,\n",
      "         0.1509,  0.0815,  0.0377,  0.1380,  0.1188, -0.1703, -0.0225, -0.0766,\n",
      "        -0.2759,  0.2154,  0.2396, -0.1764, -0.0045, -0.1609,  0.1603,  0.0669])\n"
     ]
    }
   ],
   "source": [
    "mycebmf.initialize()\n",
    "print(mycebmf.L[:,1])\n",
    "print(mycebmf.F[:,1])"
   ]
  },
  {
   "cell_type": "code",
   "execution_count": 65,
   "id": "42a6bf92",
   "metadata": {},
   "outputs": [
    {
     "data": {
      "text/plain": [
       "<matplotlib.collections.PathCollection at 0x1f64f4f11e0>"
      ]
     },
     "execution_count": 65,
     "metadata": {},
     "output_type": "execute_result"
    },
    {
     "data": {
      "image/png": "[encoded data removed]",
      "text/plain": [
       "<Figure size 640x480 with 1 Axes>"
      ]
     },
     "metadata": {},
     "output_type": "display_data"
    }
   ],
   "source": [
    "plt.scatter( mycebmf.L[:,0],u)"
   ]
  },
  {
   "cell_type": "code",
   "execution_count": 66,
   "id": "8905b3c9",
   "metadata": {},
   "outputs": [],
   "source": [
    "mycebmf.initialize () \n",
    "tau_map=None\n",
    "eps=1e-12"
   ]
  },
  {
   "cell_type": "code",
   "execution_count": 67,
   "id": "78287e57",
   "metadata": {},
   "outputs": [
    {
     "name": "stdout",
     "output_type": "stream",
     "text": [
      "tensor(226.3701)\n",
      "tensor(1.1746)\n",
      "tensor(0.8950)\n",
      "tensor(0.8008)\n",
      "tensor(0.7701)\n",
      "tensor([[-0.0346,  0.0381, -0.0289,  0.2660, -0.0537],\n",
      "        [-0.1409,  0.0279,  0.1842,  0.1332,  0.0225],\n",
      "        [-0.0059, -0.0310,  0.0933,  0.0051, -0.0673],\n",
      "        [-0.2040,  0.1510, -0.0163,  0.0264,  0.1081],\n",
      "        [-0.1176, -0.0213,  0.0254, -0.0342, -0.0167],\n",
      "        [-0.0094, -0.1421,  0.0501, -0.4328, -0.0494],\n",
      "        [-0.2310,  0.0301, -0.0660,  0.1630, -0.0502],\n",
      "        [-0.1752, -0.2963, -0.0217, -0.0610, -0.0603],\n",
      "        [-0.1537, -0.0544,  0.0381,  0.0560, -0.0243],\n",
      "        [-0.2228,  0.0047, -0.2141, -0.0856,  0.1864],\n",
      "        [-0.0544,  0.1985,  0.1365,  0.1105, -0.0716],\n",
      "        [-0.1940,  0.1650,  0.0051,  0.0212, -0.0923],\n",
      "        [-0.0261,  0.0540, -0.1384, -0.1269, -0.0964],\n",
      "        [-0.1711, -0.1700,  0.0235, -0.0104, -0.0556],\n",
      "        [-0.2372,  0.0494,  0.0380, -0.0085, -0.0570],\n",
      "        [-0.0781, -0.2505,  0.1279,  0.1666,  0.0129],\n",
      "        [-0.2404, -0.0531, -0.3054, -0.0692, -0.1429],\n",
      "        [-0.0280,  0.2737,  0.0271, -0.0618, -0.2158],\n",
      "        [-0.1942, -0.2273,  0.1747,  0.0682,  0.0045],\n",
      "        [-0.1146,  0.0458,  0.0550, -0.0038,  0.0388],\n",
      "        [-0.1228,  0.1446,  0.0276,  0.0735, -0.0580],\n",
      "        [-0.1836,  0.0104,  0.1574,  0.1804, -0.1617],\n",
      "        [-0.2128, -0.0133,  0.0757, -0.0389, -0.0620],\n",
      "        [-0.0841,  0.0787, -0.1051, -0.0944, -0.0964],\n",
      "        [-0.0971,  0.1190,  0.0043,  0.0299, -0.3398],\n",
      "        [-0.0334,  0.0516, -0.0232, -0.0252, -0.2269],\n",
      "        [-0.1129,  0.0182,  0.1545, -0.1546,  0.0635],\n",
      "        [-0.0906,  0.0948, -0.1077,  0.0077,  0.1947],\n",
      "        [-0.1750,  0.0835, -0.2647, -0.0701,  0.0643],\n",
      "        [-0.1760, -0.1315,  0.0031,  0.0182,  0.0582],\n",
      "        [-0.1829, -0.0242, -0.0519,  0.0560,  0.0942],\n",
      "        [-0.1479, -0.0518,  0.2706, -0.1862,  0.1222],\n",
      "        [-0.1141, -0.2239, -0.1599,  0.1595,  0.0589],\n",
      "        [-0.1198,  0.1607, -0.0092,  0.0429,  0.2229],\n",
      "        [-0.2098,  0.2012,  0.0146, -0.0164,  0.1473],\n",
      "        [-0.2042, -0.1337, -0.0216,  0.0347, -0.0518],\n",
      "        [-0.2252, -0.0022,  0.0386, -0.1439, -0.0653],\n",
      "        [-0.2121, -0.1247, -0.2268, -0.0113, -0.0192],\n",
      "        [-0.1984,  0.1325,  0.0234,  0.0006,  0.1276],\n",
      "        [-0.1542,  0.0504,  0.3275, -0.1743,  0.0611]])\n"
     ]
    }
   ],
   "source": [
    "for k in range (mycebmf.K):\n",
    "# ---------- Update L[:, k] ----------\n",
    "        Rk = mycebmf._partial_residual_masked(k)            # (N,P), zeros where missing\n",
    "        fk  = mycebmf.F[:, k]                                # (P,)\n",
    "        fk2 = mycebmf.F2[:, k]                               # (P,)\n",
    "\n",
    "        if tau_map is None:\n",
    "            denom_l = (fk2.view(1, -1) * mycebmf.mask).sum(dim=1).clamp_min(eps)     # (N,)\n",
    "            num_l   = (Rk @ fk)                                                   # (N,)\n",
    "            se_l    = torch.sqrt(1.0 / (mycebmf.tau * denom_l))\n",
    "        else:\n",
    "            denom_l = (tau_map * (fk2.view(1, -1) * mycebmf.mask)).sum(dim=1).clamp_min(eps)  # (N,)\n",
    "            num_l   = (tau_map * Rk) @ fk                                                 # (N,)\n",
    "            se_l    = torch.sqrt(1.0 / denom_l)\n",
    "\n",
    "        lhat = num_l / denom_l\n",
    "       # print(denom_l)\n",
    "        resL = mycebmf.prior_L_fn(\n",
    "            X=getattr(mycebmf, \"X_l\", None),\n",
    "            betahat=lhat,\n",
    "            sebetahat=se_l,\n",
    "            model_param=mycebmf.model_state_L[k]\n",
    "        )\n",
    "        mycebmf.model_state_L[k] = resL.model_param\n",
    "        mycebmf.L[:, k]  = resL.post_mean\n",
    "        mycebmf.L2[:, k] = resL.post_mean2\n",
    "        mycebmf.kl_l[k]  = torch.as_tensor(resL.loss, device=mycebmf.device)\n",
    "\n",
    "    # ---------- Update F[:, k] ----------\n",
    "        Rk = mycebmf._partial_residual_masked(k)            # recompute with updated L\n",
    "        lk  = mycebmf.L[:, k]                               # (N,)\n",
    "        lk2 = mycebmf.L2[:, k]                              # (N,)\n",
    "\n",
    "        if tau_map is None:\n",
    "            denom_f = (lk2.view(-1, 1) * mycebmf.mask).sum(dim=0).clamp_min(eps)      # (P,)\n",
    "            num_f   = (Rk.T @ lk)                                                  # (P,)\n",
    "            se_f    = torch.sqrt(1.0 / (mycebmf.tau * denom_f))\n",
    "        else:\n",
    "            denom_f = (tau_map * (lk2.view(-1, 1) * mycebmf.mask)).sum(dim=0).clamp_min(eps)  # (P,)\n",
    "            num_f   = (tau_map * Rk).T @ lk                                                # (P,)\n",
    "            se_f    = torch.sqrt(1.0 / denom_f)\n",
    "\n",
    "        fhat = num_f / denom_f\n",
    "        print(denom_f[1])\n",
    "        resF = mycebmf.prior_F_fn(\n",
    "            X=getattr(mycebmf, \"X_f\", None),\n",
    "            betahat=fhat,\n",
    "            sebetahat=se_f,\n",
    "            model_param=mycebmf.model_state_F[k]\n",
    "        )\n",
    "        mycebmf.model_state_F[k] = resF.model_param\n",
    "        mycebmf.F[:, k]  = resF.post_mean\n",
    "        mycebmf.F2[:, k] = resF.post_mean2\n",
    "        mycebmf.kl_f[k]  = torch.as_tensor(resF.loss, device=mycebmf.device)\n",
    " \n",
    "print(mycebmf.F)"
   ]
  },
  {
   "cell_type": "code",
   "execution_count": 68,
   "id": "d956308e",
   "metadata": {},
   "outputs": [],
   "source": [
    "mycebmf.initialize()"
   ]
  },
  {
   "cell_type": "code",
   "execution_count": 114,
   "id": "30556c96",
   "metadata": {},
   "outputs": [
    {
     "name": "stdout",
     "output_type": "stream",
     "text": [
      "tensor(226.4012)\n",
      "tensor(0.2558)\n",
      "tensor(0.3071)\n",
      "tensor(0.3071)\n",
      "tensor(0.3071)\n",
      "tensor([[-3.4539e-02,  4.6729e-02,  0.0000e+00,  0.0000e+00,  0.0000e+00],\n",
      "        [-1.4077e-01,  2.8656e-02,  0.0000e+00,  0.0000e+00,  0.0000e+00],\n",
      "        [-5.8064e-03, -1.3473e-01,  0.0000e+00,  0.0000e+00,  0.0000e+00],\n",
      "        [-2.0410e-01,  2.6093e-01,  0.0000e+00,  0.0000e+00,  0.0000e+00],\n",
      "        [-1.1745e-01, -2.6510e-02,  0.0000e+00,  0.0000e+00,  0.0000e+00],\n",
      "        [-9.1955e-03, -1.6072e-01,  0.0000e+00,  0.0000e+00,  0.0000e+00],\n",
      "        [-2.3086e-01,  1.6508e-02,  0.0000e+00,  0.0000e+00,  0.0000e+00],\n",
      "        [-1.7464e-01, -4.6403e-01,  0.0000e+00,  0.0000e+00,  0.0000e+00],\n",
      "        [-1.5348e-01, -1.1040e-01,  0.0000e+00,  0.0000e+00,  0.0000e+00],\n",
      "        [-2.2268e-01,  9.0367e-02,  0.0000e+00,  0.0000e+00,  0.0000e+00],\n",
      "        [-5.4483e-02,  2.1350e-01,  0.0000e+00,  0.0000e+00,  0.0000e+00],\n",
      "        [-1.9405e-01,  1.9458e-01,  0.0000e+00,  0.0000e+00,  0.0000e+00],\n",
      "        [-2.6112e-02,  1.3276e-01,  0.0000e+00,  0.0000e+00,  0.0000e+00],\n",
      "        [-1.7075e-01, -2.7764e-01,  0.0000e+00,  0.0000e+00,  0.0000e+00],\n",
      "        [-2.3710e-01,  4.8626e-02,  0.0000e+00,  0.0000e+00,  0.0000e+00],\n",
      "        [-7.7614e-02, -4.3486e-01,  0.0000e+00,  0.0000e+00,  0.0000e+00],\n",
      "        [-2.4014e-01, -6.5856e-02,  0.0000e+00,  0.0000e+00,  0.0000e+00],\n",
      "        [-2.8208e-02,  3.5573e-01,  0.0000e+00,  0.0000e+00,  0.0000e+00],\n",
      "        [-1.9367e-01, -4.9568e-01,  0.0000e+00,  0.0000e+00,  0.0000e+00],\n",
      "        [-1.1453e-01,  1.1650e-01,  0.0000e+00,  0.0000e+00,  0.0000e+00],\n",
      "        [-1.2273e-01,  1.0351e-01,  0.0000e+00,  0.0000e+00,  0.0000e+00],\n",
      "        [-1.8341e-01, -7.0742e-02,  0.0000e+00,  0.0000e+00,  0.0000e+00],\n",
      "        [-2.1260e-01, -7.5512e-02,  0.0000e+00,  0.0000e+00,  0.0000e+00],\n",
      "        [-8.4113e-02,  9.3049e-02,  0.0000e+00,  0.0000e+00,  0.0000e+00],\n",
      "        [-9.7096e-02,  9.0919e-02,  0.0000e+00,  0.0000e+00,  0.0000e+00],\n",
      "        [-3.3285e-02,  1.2428e-02,  0.0000e+00,  0.0000e+00,  0.0000e+00],\n",
      "        [-1.1280e-01,  4.3837e-04,  0.0000e+00,  0.0000e+00,  0.0000e+00],\n",
      "        [-9.0596e-02,  1.1353e-01,  0.0000e+00,  0.0000e+00,  0.0000e+00],\n",
      "        [-1.7503e-01,  1.6104e-01,  0.0000e+00,  0.0000e+00,  0.0000e+00],\n",
      "        [-1.7574e-01, -1.2829e-01,  0.0000e+00,  0.0000e+00,  0.0000e+00],\n",
      "        [-1.8266e-01, -8.3303e-02,  0.0000e+00,  0.0000e+00,  0.0000e+00],\n",
      "        [-1.4768e-01, -8.6056e-02,  0.0000e+00,  0.0000e+00,  0.0000e+00],\n",
      "        [-1.1381e-01, -1.5779e-01,  0.0000e+00,  0.0000e+00,  0.0000e+00],\n",
      "        [-1.1982e-01,  1.7527e-01,  0.0000e+00,  0.0000e+00,  0.0000e+00],\n",
      "        [-2.0993e-01,  3.2101e-01,  0.0000e+00,  0.0000e+00,  0.0000e+00],\n",
      "        [-2.0396e-01, -1.4082e-01,  0.0000e+00,  0.0000e+00,  0.0000e+00],\n",
      "        [-2.2507e-01,  1.0202e-02,  0.0000e+00,  0.0000e+00,  0.0000e+00],\n",
      "        [-2.1186e-01, -1.1902e-01,  0.0000e+00,  0.0000e+00,  0.0000e+00],\n",
      "        [-1.9839e-01,  2.3213e-01,  0.0000e+00,  0.0000e+00,  0.0000e+00],\n",
      "        [-1.5413e-01,  7.8425e-02,  0.0000e+00,  0.0000e+00,  0.0000e+00]])\n"
     ]
    },
    {
     "data": {
      "text/plain": [
       "<matplotlib.collections.PathCollection at 0x1f651e11d50>"
      ]
     },
     "execution_count": 114,
     "metadata": {},
     "output_type": "execute_result"
    },
    {
     "data": {
      "image/png": "[encoded data removed]",
      "text/plain": [
       "<Figure size 640x480 with 1 Axes>"
      ]
     },
     "metadata": {},
     "output_type": "display_data"
    }
   ],
   "source": [
    "mycebmf.iter_once()  \n",
    "mycebmf.update_fitted_value()\n",
    "print(mycebmf.F)\n",
    "plt.scatter(mycebmf.Y_fit, noisy_matrix)\n",
    " \n",
    "plt.scatter(mycebmf.Y_fit, rank_1_matrix)"
   ]
  },
  {
   "cell_type": "code",
   "execution_count": 70,
   "id": "5259328c",
   "metadata": {},
   "outputs": [
    {
     "data": {
      "text/plain": [
       "tensor([[1.1651e+00, 3.8010e-03, 1.6735e-02, 4.5428e-02, 4.0268e-03],\n",
       "        [3.2117e-02, 2.1698e-02, 1.4795e-02, 3.8525e-03, 6.4160e-03],\n",
       "        [4.6407e+00, 4.9594e-02, 6.2110e-02, 4.4665e-03, 3.9875e-03],\n",
       "        [3.0937e+00, 2.9144e-02, 4.3980e-02, 3.4375e-03, 3.8119e-02],\n",
       "        [2.3822e+00, 3.1786e-02, 8.2740e-03, 2.6806e-02, 2.7534e-02],\n",
       "        [1.5141e+00, 2.5383e-02, 6.7910e-03, 4.4347e-03, 3.5259e-03],\n",
       "        [5.8245e-01, 4.2402e-02, 3.6111e-03, 5.5558e-03, 1.1994e-01],\n",
       "        [1.3068e+00, 5.0182e-02, 2.2246e-02, 3.3232e-03, 3.3792e-03],\n",
       "        [1.1879e+00, 9.4647e-03, 3.8139e-03, 4.1392e-02, 9.6906e-03],\n",
       "        [1.5217e+01, 1.1706e-02, 3.6621e-03, 6.3100e-03, 2.7377e-03],\n",
       "        [1.1278e+01, 5.9803e-03, 6.7354e-03, 1.5697e-02, 3.7159e-03],\n",
       "        [8.4076e-02, 5.5969e-03, 1.8937e-02, 7.6059e-03, 6.9806e-02],\n",
       "        [9.8255e+00, 3.7717e-03, 1.0968e-02, 2.0795e-02, 4.5270e-03],\n",
       "        [7.0301e+00, 2.1700e-02, 3.0382e-03, 3.3688e-03, 1.8009e-02],\n",
       "        [1.3237e+00, 9.8285e-03, 9.8887e-03, 3.4237e-03, 3.8912e-03],\n",
       "        [1.9324e+00, 3.0485e-03, 1.0910e-02, 6.3826e-03, 4.9107e-03],\n",
       "        [1.8846e+00, 9.7265e-03, 1.7617e-02, 1.2837e-01, 4.5336e-02],\n",
       "        [5.7423e-01, 1.9160e-01, 1.0419e-02, 3.6561e-03, 1.4022e-02],\n",
       "        [1.0205e+01, 5.7459e-03, 5.5538e-03, 6.1864e-02, 6.1523e-03],\n",
       "        [6.9441e+00, 2.7186e-02, 1.0090e-02, 3.4716e-03, 2.5924e-02],\n",
       "        [1.4033e+00, 3.5478e-02, 6.3087e-02, 2.2218e-02, 4.9561e-03],\n",
       "        [1.9909e+00, 3.3736e-03, 3.0917e-02, 3.5654e-03, 2.9858e-03],\n",
       "        [2.3014e+00, 4.1648e-02, 2.9787e-02, 4.8846e-03, 4.2440e-03],\n",
       "        [2.3828e+00, 4.4340e-03, 4.8773e-03, 3.3754e-03, 4.0862e-03],\n",
       "        [1.3120e-01, 4.8928e-02, 4.6234e-03, 3.5176e-03, 4.1365e-03],\n",
       "        [8.7284e-02, 6.1085e-03, 3.2590e-03, 4.1545e-03, 2.3793e-02],\n",
       "        [4.4886e+00, 1.2025e-01, 8.2870e-03, 1.0667e-02, 4.4919e-03],\n",
       "        [1.6577e+00, 4.4619e-03, 3.8974e-03, 2.1603e-02, 6.4341e-03],\n",
       "        [1.4039e+01, 6.7294e-03, 5.8291e-02, 4.5359e-03, 4.3260e-03],\n",
       "        [3.3709e+00, 6.1029e-02, 3.8616e-03, 2.7810e-03, 1.6404e-02],\n",
       "        [1.5451e+01, 2.8178e-02, 3.0313e-03, 1.0190e-02, 4.9640e-03],\n",
       "        [1.7424e+00, 1.5155e-02, 5.5288e-02, 5.6087e-02, 7.7448e-02],\n",
       "        [1.1091e+01, 4.1965e-03, 1.6653e-02, 2.2520e-02, 5.0974e-03],\n",
       "        [3.7254e+00, 3.8015e-03, 1.8674e-02, 4.4211e-03, 1.2178e-02],\n",
       "        [1.7272e+00, 5.4721e-03, 2.7602e-03, 4.4889e-03, 3.4248e-03],\n",
       "        [1.4943e+01, 4.6170e-03, 5.4680e-02, 5.5968e-02, 3.4392e-03],\n",
       "        [2.3396e-01, 2.5365e-02, 4.5754e-02, 5.7795e-02, 8.6805e-03],\n",
       "        [2.8529e-01, 1.0097e-02, 3.5261e-03, 3.3705e-03, 7.9001e-03],\n",
       "        [4.5160e+00, 5.7500e-03, 2.9747e-03, 9.7729e-03, 3.3550e-03],\n",
       "        [1.2485e+00, 3.7732e-03, 5.1673e-03, 1.2388e-02, 4.4383e-03],\n",
       "        [3.4816e+00, 4.2613e-03, 3.6935e-03, 3.8706e-03, 5.9620e-03],\n",
       "        [2.9853e+00, 2.9782e-02, 4.9205e-03, 4.3744e-03, 2.9882e-02],\n",
       "        [1.6881e+01, 6.2969e-03, 4.5975e-03, 4.6457e-03, 7.4962e-03],\n",
       "        [1.5032e-01, 3.7779e-03, 2.7001e-02, 1.5381e-02, 1.2488e-02],\n",
       "        [1.0858e+01, 1.2379e-02, 1.7273e-02, 4.6409e-03, 4.2660e-03],\n",
       "        [7.7033e-01, 5.3505e-02, 2.4484e-02, 7.4597e-03, 2.6789e-02],\n",
       "        [9.8993e+00, 3.8526e-03, 3.3758e-03, 1.2480e-02, 1.8880e-02],\n",
       "        [1.1744e+01, 1.3915e-02, 3.6158e-03, 2.1541e-02, 3.5394e-03],\n",
       "        [3.7640e-01, 5.1550e-03, 1.5446e-02, 4.9821e-03, 3.2990e-02],\n",
       "        [2.0106e-01, 4.3474e-02, 8.1039e-02, 3.4574e-03, 5.4179e-03]])"
      ]
     },
     "execution_count": 70,
     "metadata": {},
     "output_type": "execute_result"
    }
   ],
   "source": [
    "mycebmf.L2"
   ]
  },
  {
   "cell_type": "code",
   "execution_count": 71,
   "id": "7bb3bac3",
   "metadata": {},
   "outputs": [],
   "source": [
    "mycebmf.update_fitted_value()"
   ]
  },
  {
   "cell_type": "code",
   "execution_count": 72,
   "id": "e7ac7570",
   "metadata": {},
   "outputs": [
    {
     "data": {
      "text/plain": [
       "<matplotlib.collections.PathCollection at 0x1f65065a3e0>"
      ]
     },
     "execution_count": 72,
     "metadata": {},
     "output_type": "execute_result"
    },
    {
     "data": {
      "image/png": "[encoded data removed]",
      "text/plain": [
       "<Figure size 640x480 with 1 Axes>"
      ]
     },
     "metadata": {},
     "output_type": "display_data"
    }
   ],
   "source": [
    "plt.scatter(mycebmf.Y_fit, noisy_matrix)\n",
    " \n",
    "plt.scatter(mycebmf.Y_fit, rank_1_matrix)"
   ]
  },
  {
   "cell_type": "code",
   "execution_count": null,
   "id": "859c5319",
   "metadata": {},
   "outputs": [],
   "source": []
  },
  {
   "cell_type": "code",
   "execution_count": 73,
   "id": "f0bd69a7",
   "metadata": {},
   "outputs": [],
   "source": [
    "from cebmf_torch.torch_main import *\n",
    "mycebmf=  cEBMF(data= noisy_matrix,\n",
    "                prior_L=\"point_laplace\",\n",
    "                  prior_F=\"point_laplace\") \n",
    "mycebmf.initialize()\n",
    "k=0"
   ]
  },
  {
   "cell_type": "code",
   "execution_count": null,
   "id": "67027da2",
   "metadata": {},
   "outputs": [],
   "source": []
  },
  {
   "cell_type": "code",
   "execution_count": null,
   "id": "ec81ccef",
   "metadata": {},
   "outputs": [],
   "source": []
  },
  {
   "cell_type": "code",
   "execution_count": 74,
   "id": "6c5f3f92",
   "metadata": {},
   "outputs": [
    {
     "data": {
      "text/plain": [
       "tensor([[-1.0800e+00,  8.0196e-03,  1.5701e-01,  2.6303e-01, -4.1739e-02],\n",
       "        [-1.7109e-01, -1.9046e-01,  1.4650e-01,  3.7131e-02,  8.8875e-02],\n",
       "        [-2.1563e+00,  2.6045e-01, -2.9440e-01,  5.0543e-02, -4.6051e-02],\n",
       "        [-1.7606e+00, -2.1199e-01,  2.5109e-01, -1.1951e-02,  2.4847e-01],\n",
       "        [-1.5449e+00,  2.1157e-01,  9.9516e-02,  2.0594e-01, -2.2076e-01],\n",
       "        [-1.2314e+00,  1.8960e-01, -1.3784e-01,  5.0737e-02,  2.0818e-02],\n",
       "        [-7.6256e-01, -2.4581e-01,  2.3146e-03,  7.5396e-02, -4.0319e-01],\n",
       "        [-1.1439e+00, -2.6397e-01,  1.8187e-01, -8.0567e-02, -8.1205e-03],\n",
       "        [-1.0905e+00,  1.0566e-01,  2.1918e-02,  2.5164e-01,  1.1956e-01],\n",
       "        [-3.9036e+00,  1.2250e-01,  1.1006e-02,  8.3848e-02, -1.0205e-01],\n",
       "        [-3.3608e+00,  6.7632e-02, -1.3782e-01, -1.8388e-01, -7.9343e-02],\n",
       "        [-2.8256e-01,  6.1964e-02,  1.6782e-01, -1.5000e-01,  3.2100e-01],\n",
       "        [-3.1371e+00, -1.5682e-03,  1.2186e-01,  1.8391e-01, -6.9569e-02],\n",
       "        [-2.6537e+00,  1.7499e-01, -8.0762e-02, -5.0424e-03, -1.9304e-01],\n",
       "        [-1.1513e+00,  1.0867e-01,  1.1378e-01,  1.2128e-02, -3.7015e-02],\n",
       "        [-1.3913e+00, -7.6145e-02,  1.2153e-01,  8.6103e-02,  6.4852e-02],\n",
       "        [-1.3740e+00,  1.0782e-01,  1.6148e-01, -4.1494e-01, -2.6208e-01],\n",
       "        [-7.5712e-01, -4.8320e-01,  1.1743e-01,  3.1841e-02, -1.7631e-01],\n",
       "        [-3.1971e+00,  6.4094e-02, -1.3046e-01, -3.0206e-01, -1.4250e-01],\n",
       "        [-2.6375e+00,  1.9603e-01,  1.1535e-01,  1.5738e-02,  2.0656e-01],\n",
       "        [-1.1854e+00, -2.2867e-01, -2.9677e-01,  1.9078e-01,  5.9602e-02],\n",
       "        [-1.4123e+00, -7.0387e-02, -2.2162e-01, -2.2893e-02, -9.2731e-02],\n",
       "        [-1.5185e+00, -2.4405e-01, -2.1875e-01, -6.0345e-02,  4.6484e-02],\n",
       "        [-1.5451e+00,  3.7692e-02,  5.3646e-02,  5.5653e-03, -4.3632e-02],\n",
       "        [-3.5696e-01, -2.6105e-01, -4.8496e-02,  2.1996e-02,  4.5653e-02],\n",
       "        [-2.8822e-01, -1.2909e-01, -1.0871e-01, -4.4381e-02,  1.9616e-01],\n",
       "        [-2.1206e+00,  3.9007e-01,  9.9799e-02, -1.6718e-01,  5.6170e-02],\n",
       "        [-1.2886e+00, -3.8711e-02,  2.5837e-02,  1.8736e-01,  8.6870e-02],\n",
       "        [-3.7495e+00, -1.3310e-01,  2.8506e-01,  5.6030e-02,  5.5489e-02],\n",
       "        [-1.8378e+00, -2.8753e-01,  2.3898e-02, -9.3194e-02,  1.6521e-01],\n",
       "        [-3.9335e+00, -2.0952e-01, -1.0498e-01,  1.2492e-01, -1.3550e-01],\n",
       "        [-1.3211e+00,  1.4394e-01,  2.7879e-01,  2.8786e-01, -3.3056e-01],\n",
       "        [-3.3329e+00, -3.0673e-02, -1.7941e-01, -2.0532e-01,  6.5975e-02],\n",
       "        [-1.9320e+00, -6.4846e-02, -1.8599e-01,  5.2030e-02,  1.3676e-01],\n",
       "        [-1.3153e+00,  5.9796e-02, -9.1383e-02,  5.3043e-02,  1.4722e-02],\n",
       "        [-3.8683e+00, -4.2975e-02,  2.7704e-01, -2.8827e-01,  2.3012e-02],\n",
       "        [-4.8066e-01,  1.8960e-01, -2.5840e-01,  2.9030e-01,  1.0629e-01],\n",
       "        [-5.3172e-01,  1.1089e-01, -7.2663e-02,  3.5995e-03,  1.0309e-01],\n",
       "        [-2.1271e+00,  6.4250e-02, -8.2268e-02, -1.6076e-01, -8.0659e-03],\n",
       "        [-1.1181e+00, -2.3487e-03, -1.2762e-01,  1.3920e-01,  5.1571e-02],\n",
       "        [-1.8677e+00, -3.2754e-02,  1.3962e-02, -3.5963e-02,  8.1290e-02],\n",
       "        [-1.7295e+00, -2.1372e-01, -5.8995e-02,  5.2264e-02,  2.1876e-01],\n",
       "        [-4.1114e+00,  7.2044e-02,  4.7318e-02,  5.6729e-02,  1.0055e-01],\n",
       "        [-3.8303e-01,  3.8863e-03, -2.1074e-01, -1.8264e-01, -1.7477e-01],\n",
       "        [-3.2977e+00, -1.5914e-01, -1.8159e-01, -1.3019e-01, -5.0413e-02],\n",
       "        [-8.7760e-01, -2.7135e-01,  1.9075e-01,  1.0067e-01, -2.1614e-01],\n",
       "        [-3.1488e+00, -1.3637e-02, -7.5074e-02,  1.4003e-01,  1.7523e-01],\n",
       "        [-3.4296e+00,  1.3665e-01,  4.0598e-03,  1.8605e-01,  2.3113e-02],\n",
       "        [-6.1188e-01,  5.4167e-02,  1.5028e-01, -6.3751e-02,  2.3114e-01],\n",
       "        [-4.4484e-01,  2.4524e-01,  3.3110e-01, -1.6884e-02,  7.7175e-02]])"
      ]
     },
     "execution_count": 74,
     "metadata": {},
     "output_type": "execute_result"
    }
   ],
   "source": [
    " \n",
    "\n",
    "mycebmf.L"
   ]
  },
  {
   "cell_type": "code",
   "execution_count": 75,
   "id": "3da8f8e0",
   "metadata": {},
   "outputs": [],
   "source": [
    "\n",
    "k=0\n",
    "Rk = mycebmf._partial_residual_masked(k)            # (N,P), zeros where missing\n",
    "fk  = mycebmf.F[:, k]                                # (P,)\n",
    "fk2 = mycebmf.F2[:, k]                               # (P,)\n",
    "\n",
    "eps = 1e-12\n",
    "denom_l = (fk2.view(1, -1) * mycebmf.mask).sum(dim=1).clamp_min(eps)     # (N,)\n",
    "num_l   = (Rk @ fk)                                                   # (N,)\n",
    "se_l    = torch.sqrt(1.0 / (mycebmf.tau * denom_l))\n",
    "\n",
    "\n",
    "lhat = num_l / denom_l\n",
    "\n",
    "resL = mycebmf.prior_L_fn(\n",
    "            X=getattr(mycebmf, \"X_l\", None),\n",
    "            betahat=lhat,\n",
    "            sebetahat=se_l,\n",
    "            model_param=mycebmf.model_state_L[k]\n",
    ")\n",
    "mycebmf.model_state_L[k] = resL.model_param\n",
    "mycebmf.L[:, k]  = resL.post_mean\n",
    "mycebmf.L2[:, k] = resL.post_mean2\n",
    "mycebmf.kl_l[k]  = torch.as_tensor(resL.loss, device=mycebmf.device)"
   ]
  },
  {
   "cell_type": "code",
   "execution_count": 76,
   "id": "001194e9",
   "metadata": {},
   "outputs": [
    {
     "data": {
      "text/plain": [
       "tensor([ 1.1651,  0.0321,  4.6407,  3.0937,  2.3822,  1.5141,  0.5824,  1.3068,\n",
       "         1.1879, 15.2174, 11.2778,  0.0841,  9.8255,  7.0301,  1.3237,  1.9324,\n",
       "         1.8846,  0.5742, 10.2052,  6.9441,  1.4033,  1.9909,  2.3014,  2.3828,\n",
       "         0.1312,  0.0873,  4.4886,  1.6577, 14.0391,  3.3709, 15.4510,  1.7424,\n",
       "        11.0914,  3.7254,  1.7272, 14.9434,  0.2340,  0.2853,  4.5160,  1.2485,\n",
       "         3.4816,  2.9853, 16.8810,  0.1503, 10.8584,  0.7703,  9.8993, 11.7445,\n",
       "         0.3764,  0.2011], dtype=torch.float64)"
      ]
     },
     "execution_count": 76,
     "metadata": {},
     "output_type": "execute_result"
    }
   ],
   "source": [
    "se_l\n",
    "resL.post_mean2"
   ]
  },
  {
   "cell_type": "code",
   "execution_count": 77,
   "id": "9085104f",
   "metadata": {},
   "outputs": [],
   "source": [
    "from cebmf_torch.torch_ebnm_point_laplace import ebnm_point_laplace\n",
    "\n",
    "lol=ebnm_point_laplace(\n",
    "    x=lhat ,\n",
    "    s=se_l ,    # a=exp(0)=1\n",
    "    fix_par=[False,False, True] # optimize w only; fix a, mu\n",
    ")"
   ]
  },
  {
   "cell_type": "code",
   "execution_count": 78,
   "id": "6a04e4a5",
   "metadata": {},
   "outputs": [
    {
     "data": {
      "text/plain": [
       "tensor([0.0792, 0.0632, 0.0792, 0.0792, 0.0792, 0.0792, 0.0792, 0.0792, 0.0792,\n",
       "        0.0792, 0.0792, 0.0787, 0.0792, 0.0792, 0.0792, 0.0792, 0.0792, 0.0792,\n",
       "        0.0792, 0.0792, 0.0792, 0.0792, 0.0792, 0.0792, 0.0792, 0.0788, 0.0792,\n",
       "        0.0792, 0.0792, 0.0792, 0.0792, 0.0792, 0.0792, 0.0792, 0.0792, 0.0792,\n",
       "        0.0792, 0.0792, 0.0792, 0.0792, 0.0792, 0.0792, 0.0792, 0.0792, 0.0792,\n",
       "        0.0792, 0.0792, 0.0792, 0.0792, 0.0792], dtype=torch.float64)"
      ]
     },
     "execution_count": 78,
     "metadata": {},
     "output_type": "execute_result"
    }
   ],
   "source": [
    "lol.post_sd"
   ]
  },
  {
   "cell_type": "code",
   "execution_count": 79,
   "id": "e98689d2",
   "metadata": {},
   "outputs": [
    {
     "data": {
      "text/plain": [
       "<matplotlib.collections.PathCollection at 0x1f6506bc6d0>"
      ]
     },
     "execution_count": 79,
     "metadata": {},
     "output_type": "execute_result"
    },
    {
     "data": {
      "image/png": "[encoded data removed]",
      "text/plain": [
       "<Figure size 640x480 with 1 Axes>"
      ]
     },
     "metadata": {},
     "output_type": "display_data"
    }
   ],
   "source": [
    "plt.scatter(lol.post_mean2,resL.post_mean2)"
   ]
  },
  {
   "cell_type": "code",
   "execution_count": 80,
   "id": "ee082178",
   "metadata": {},
   "outputs": [
    {
     "data": {
      "text/plain": [
       "<matplotlib.collections.PathCollection at 0x1f65075d3f0>"
      ]
     },
     "execution_count": 80,
     "metadata": {},
     "output_type": "execute_result"
    },
    {
     "data": {
      "image/png": "[encoded data removed]",
      "text/plain": [
       "<Figure size 640x480 with 1 Axes>"
      ]
     },
     "metadata": {},
     "output_type": "display_data"
    }
   ],
   "source": [
    "plt.scatter(lol.post_sd**2 ,resL.post_mean2-resL.post_mean**2)"
   ]
  },
  {
   "cell_type": "code",
   "execution_count": 81,
   "id": "55c074e1",
   "metadata": {},
   "outputs": [
    {
     "name": "stdout",
     "output_type": "stream",
     "text": [
      "tensor([-1.0765, -0.1677, -2.1528, -1.7571, -1.5414, -1.2279, -0.7591, -1.1404,\n",
      "        -1.0870, -3.9001, -3.3573, -0.2791, -3.1336, -2.6503, -1.1478, -1.3878,\n",
      "        -1.3705, -0.7536, -3.1936, -2.6340, -1.1820, -1.4088, -1.5150, -1.5416,\n",
      "        -0.3535, -0.2847, -2.1171, -1.2851, -3.7460, -1.8343, -3.9300, -1.3176,\n",
      "        -3.3294, -1.9285, -1.3118, -3.8649, -0.4772, -0.5282, -2.1236, -1.1146,\n",
      "        -1.8642, -1.7260, -4.1079, -0.3795, -3.2943, -0.8741, -3.1453, -3.4261,\n",
      "        -0.6084, -0.4414], dtype=torch.float64)\n"
     ]
    }
   ],
   "source": [
    "k=0\n",
    "Rk = mycebmf._partial_residual_masked(k)            # (N,P), zeros where missing\n",
    "fk  = mycebmf.F[:, k]                                # (P,)\n",
    "fk2 = mycebmf.F2[:, k]                               # (P,)\n",
    "\n",
    "eps = 1e-12\n",
    "denom_l = (fk2.view(1, -1) * mycebmf.mask).sum(dim=1).clamp_min(eps)     # (N,)\n",
    "num_l   = (Rk @ fk)                                                   # (N,)\n",
    "se_l    = torch.sqrt(1.0 / (mycebmf.tau * denom_l))\n",
    "\n",
    "\n",
    "lhat = num_l / denom_l\n",
    "\n",
    "resL = mycebmf.prior_L_fn(\n",
    "            X=getattr(mycebmf, \"X_l\", None),\n",
    "            betahat=lhat,\n",
    "            sebetahat=se_l,\n",
    "            model_param=mycebmf.model_state_L[k]\n",
    ")\n",
    "mycebmf.model_state_L[k] = resL.model_param\n",
    "print(resL.post_mean)\n",
    "mycebmf.L[:, k]  = resL.post_mean\n",
    "mycebmf.L2[:, k] = resL.post_mean2"
   ]
  },
  {
   "cell_type": "code",
   "execution_count": 82,
   "id": "dfa1ef80",
   "metadata": {},
   "outputs": [],
   "source": [
    "denom_f = (lk2.view(-1, 1) * mycebmf.mask).sum(dim=0).clamp_min(eps)      # (P,)\n",
    "num_f   = (Rk.T @ lk)                                                  # (P,)\n",
    "se_f    = torch.sqrt(1.0 / (mycebmf.tau * denom_f))"
   ]
  },
  {
   "cell_type": "code",
   "execution_count": 83,
   "id": "3cc57f99",
   "metadata": {},
   "outputs": [
    {
     "data": {
      "text/plain": [
       "tensor([[1., 1., 1.,  ..., 1., 1., 1.],\n",
       "        [1., 1., 1.,  ..., 1., 1., 1.],\n",
       "        [1., 1., 1.,  ..., 1., 1., 1.],\n",
       "        ...,\n",
       "        [1., 1., 1.,  ..., 1., 1., 1.],\n",
       "        [1., 1., 1.,  ..., 1., 1., 1.],\n",
       "        [1., 1., 1.,  ..., 1., 1., 1.]])"
      ]
     },
     "execution_count": 83,
     "metadata": {},
     "output_type": "execute_result"
    }
   ],
   "source": [
    "mycebmf.mask"
   ]
  },
  {
   "cell_type": "code",
   "execution_count": 84,
   "id": "95f0cdaa",
   "metadata": {},
   "outputs": [
    {
     "name": "stdout",
     "output_type": "stream",
     "text": [
      "tensor([-1.0765, -0.1677, -2.1528, -1.7571, -1.5414, -1.2279, -0.7591, -1.1404,\n",
      "        -1.0870, -3.9001, -3.3573, -0.2791, -3.1336, -2.6503, -1.1478, -1.3878,\n",
      "        -1.3705, -0.7536, -3.1936, -2.6340, -1.1820, -1.4088, -1.5150, -1.5416,\n",
      "        -0.3535, -0.2847, -2.1171, -1.2851, -3.7460, -1.8343, -3.9300, -1.3176,\n",
      "        -3.3294, -1.9285, -1.3118, -3.8649, -0.4772, -0.5282, -2.1236, -1.1146,\n",
      "        -1.8642, -1.7260, -4.1079, -0.3795, -3.2943, -0.8741, -3.1453, -3.4261,\n",
      "        -0.6084, -0.4414], dtype=torch.float64)\n",
      "tensor([-0.0346, -0.1409, -0.0059, -0.2040, -0.1176, -0.0094, -0.2310, -0.1752,\n",
      "        -0.1537, -0.2228, -0.0544, -0.1940, -0.0261, -0.1711, -0.2372, -0.0781,\n",
      "        -0.2404, -0.0280, -0.1942, -0.1146, -0.1228, -0.1836, -0.2128, -0.0841,\n",
      "        -0.0971, -0.0334, -0.1129, -0.0906, -0.1750, -0.1760, -0.1829, -0.1479,\n",
      "        -0.1141, -0.1198, -0.2098, -0.2042, -0.2252, -0.2121, -0.1984, -0.1542],\n",
      "       dtype=torch.float64)\n"
     ]
    }
   ],
   "source": [
    " \n",
    "Rk = mycebmf._partial_residual_masked(k)            # (N,P), zeros where missing\n",
    "fk  = mycebmf.F[:, k]                                # (P,)\n",
    "fk2 = mycebmf.F2[:, k]                               # (P,)\n",
    "\n",
    "eps = 1e-12\n",
    "denom_l = (fk2.view(1, -1) * mycebmf.mask).sum(dim=1).clamp_min(eps)     # (N,)\n",
    "num_l   = (Rk @ fk)                                                   # (N,)\n",
    "se_l    = torch.sqrt(1.0 / (mycebmf.tau * denom_l))\n",
    "\n",
    "\n",
    "lhat = num_l / denom_l\n",
    "\n",
    "resL = mycebmf.prior_L_fn(\n",
    "            X=getattr(mycebmf, \"X_l\", None),\n",
    "            betahat=lhat,\n",
    "            sebetahat=se_l,\n",
    "            model_param=mycebmf.model_state_L[k]\n",
    ")\n",
    "mycebmf.model_state_L[k] = resL.model_param\n",
    "print(resL.post_mean)\n",
    "mycebmf.L[:, k]  = resL.post_mean\n",
    "mycebmf.L2[:, k] = resL.post_mean2\n",
    "mycebmf.kl_l[k]  = torch.as_tensor(resL.loss, device=mycebmf.device)\n",
    "Rk = mycebmf._partial_residual_masked(k)            # recompute with updated L\n",
    "lk  = mycebmf.L[:, k]                               # (N,)\n",
    "lk2 = mycebmf.L2[:, k]                              # (N,)\n",
    "\n",
    "if tau_map is None:\n",
    "            denom_f = (lk2.view(-1, 1) * mycebmf.mask).sum(dim=0).clamp_min(eps)      # (P,)\n",
    "            num_f   = (Rk.T @ lk)                                                  # (P,)\n",
    "            se_f    = torch.sqrt(1.0 / (mycebmf.tau * denom_f))\n",
    "else:\n",
    "            denom_f = (tau_map * (lk2.view(-1, 1) * mycebmf.mask)).sum(dim=0).clamp_min(eps)  # (P,)\n",
    "            num_f   = (tau_map * Rk).T @ lk                                                # (P,)\n",
    "            se_f    = torch.sqrt(1.0 / denom_f)\n",
    "\n",
    "fhat = num_f / denom_f \n",
    "resF = mycebmf.prior_F_fn(\n",
    "            X=getattr(mycebmf, \"X_f\", None),\n",
    "            betahat=fhat,\n",
    "            sebetahat=se_f,\n",
    "            model_param=mycebmf.model_state_F[k]\n",
    "        )\n",
    "mycebmf.model_state_F[k] = resF.model_param\n",
    "print(resF.post_mean)\n",
    "mycebmf.F[:, k]  = resF.post_mean\n",
    "mycebmf.F2[:, k] = resF.post_mean2\n",
    "mycebmf.kl_f[k]  = torch.as_tensor(resF.loss, device=mycebmf.device)\n"
   ]
  },
  {
   "cell_type": "code",
   "execution_count": 85,
   "id": "57dad8d3",
   "metadata": {},
   "outputs": [
    {
     "data": {
      "text/plain": [
       "tensor([226.3701, 226.3701, 226.3701, 226.3701, 226.3701, 226.3701, 226.3701,\n",
       "        226.3701, 226.3701, 226.3701, 226.3701, 226.3701, 226.3701, 226.3701,\n",
       "        226.3701, 226.3701, 226.3701, 226.3701, 226.3701, 226.3701, 226.3701,\n",
       "        226.3701, 226.3701, 226.3701, 226.3701, 226.3701, 226.3701, 226.3701,\n",
       "        226.3701, 226.3701, 226.3701, 226.3701, 226.3701, 226.3701, 226.3701,\n",
       "        226.3701, 226.3701, 226.3701, 226.3701, 226.3701])"
      ]
     },
     "execution_count": 85,
     "metadata": {},
     "output_type": "execute_result"
    }
   ],
   "source": [
    "(lk2.view(-1, 1) * mycebmf.mask) .sum(dim=0)"
   ]
  },
  {
   "cell_type": "code",
   "execution_count": 86,
   "id": "ed42f9de",
   "metadata": {},
   "outputs": [
    {
     "data": {
      "text/plain": [
       "tensor([ -6.6113, -26.8079,  -1.1576, -38.8110, -22.3831,  -1.8171, -43.9343,\n",
       "        -33.3216, -29.2467, -42.3695, -10.3742, -36.9088,  -4.9950, -32.5561,\n",
       "        -45.1146, -14.8755, -45.7126,  -5.3548, -36.9436, -21.8064, -23.3640,\n",
       "        -34.9277, -40.4776, -16.0244, -18.4936,  -6.3763, -21.4954, -17.2554,\n",
       "        -33.2994, -33.4828, -34.7892, -28.1384, -21.7189, -22.8018, -39.9078,\n",
       "        -38.8476, -42.8353, -40.3469, -37.7295, -29.3382])"
      ]
     },
     "execution_count": 86,
     "metadata": {},
     "output_type": "execute_result"
    }
   ],
   "source": [
    "fhat/se_f"
   ]
  },
  {
   "cell_type": "code",
   "execution_count": 87,
   "id": "c0460dc2",
   "metadata": {},
   "outputs": [
    {
     "data": {
      "text/plain": [
       "tensor([0.0792, 0.0792, 0.0792, 0.0792, 0.0792, 0.0792, 0.0792, 0.0792, 0.0792,\n",
       "        0.0792, 0.0792, 0.0792, 0.0792, 0.0792, 0.0792, 0.0792, 0.0792, 0.0792,\n",
       "        0.0792, 0.0792, 0.0792, 0.0792, 0.0792, 0.0792, 0.0792, 0.0792, 0.0792,\n",
       "        0.0792, 0.0792, 0.0792, 0.0792, 0.0792, 0.0792, 0.0792, 0.0792, 0.0792,\n",
       "        0.0792, 0.0792, 0.0792, 0.0792, 0.0792, 0.0792, 0.0792, 0.0792, 0.0792,\n",
       "        0.0792, 0.0792, 0.0792, 0.0792, 0.0792])"
      ]
     },
     "execution_count": 87,
     "metadata": {},
     "output_type": "execute_result"
    }
   ],
   "source": [
    "se_l\n"
   ]
  },
  {
   "cell_type": "code",
   "execution_count": 88,
   "id": "441e02f9",
   "metadata": {},
   "outputs": [],
   "source": [
    "\n",
    "lolf=ebnm_point_laplace(\n",
    "    x=fhat ,\n",
    "    s=se_f ,    # a=exp(0)=1\n",
    "    fix_par=[False,False, True] # optimize w only; fix a, mu\n",
    ")"
   ]
  },
  {
   "cell_type": "code",
   "execution_count": 89,
   "id": "53231549",
   "metadata": {},
   "outputs": [
    {
     "data": {
      "text/plain": [
       "0.0"
      ]
     },
     "execution_count": 89,
     "metadata": {},
     "output_type": "execute_result"
    }
   ],
   "source": [
    "lol.mu"
   ]
  },
  {
   "cell_type": "code",
   "execution_count": 90,
   "id": "c5d8a126",
   "metadata": {},
   "outputs": [
    {
     "data": {
      "text/plain": [
       "0.999930739402771"
      ]
     },
     "execution_count": 90,
     "metadata": {},
     "output_type": "execute_result"
    }
   ],
   "source": [
    "lol.w"
   ]
  },
  {
   "cell_type": "code",
   "execution_count": 91,
   "id": "0e429d6e",
   "metadata": {},
   "outputs": [
    {
     "data": {
      "text/plain": [
       "tensor([0., 0., 0., 0., 0., 0., 0., 0., 0., 0., 0., 0., 0., 0., 0., 0., 0., 0., 0., 0., 0., 0., 0., 0.,\n",
       "        0., 0., 0., 0., 0., 0., 0., 0., 0., 0., 0., 0., 0., 0., 0., 0., 0., 0., 0., 0., 0., 0., 0., 0.,\n",
       "        0., 0.])"
      ]
     },
     "execution_count": 91,
     "metadata": {},
     "output_type": "execute_result"
    }
   ],
   "source": [
    "# make sure this is the stable version we discussed\n",
    "from cebmf_torch.torch_ebnm_point_exp import ebnm_point_exp\n",
    "res = ebnm_point_exp(\n",
    "    x=lhat.float(),\n",
    "    s=se_l.float() \n",
    ") \n",
    "res.post_mean  # shrunk toward 0, not all zero\n"
   ]
  },
  {
   "cell_type": "code",
   "execution_count": 92,
   "id": "3135beec",
   "metadata": {},
   "outputs": [
    {
     "data": {
      "text/plain": [
       "tensor([-1.0784, -0.1156, -2.1531, -1.7580, -1.5426, -1.2296, -0.7614, -1.1422,\n",
       "        -1.0889, -3.8980, -3.3559, -0.2798, -3.1325, -2.6499, -1.1496, -1.3893,\n",
       "        -1.3720, -0.7560, -3.1924, -2.6336, -1.1837, -1.4102, -1.5162, -1.5428,\n",
       "        -0.3564, -0.2859, -2.1175, -1.2867, -3.7441, -1.8351, -3.9278, -1.3192,\n",
       "        -3.3281, -1.9292, -1.3134, -3.8627, -0.4800, -0.5309, -2.1240, -1.1164,\n",
       "        -1.8650, -1.7269, -4.1054, -0.3824, -3.2929, -0.8763, -3.1442, -3.4246,\n",
       "        -0.6110, -0.4442])"
      ]
     },
     "execution_count": 92,
     "metadata": {},
     "output_type": "execute_result"
    }
   ],
   "source": [
    "from cebmf_torch.torch_ash import ash\n",
    "chk = ash(lhat.float(), se_l.float(), prior=\"norm\")\n",
    "chk.post_mean  # finite; should be close to lhat for large SNR\n"
   ]
  },
  {
   "cell_type": "code",
   "execution_count": 93,
   "id": "5c132067",
   "metadata": {},
   "outputs": [
    {
     "data": {
      "text/plain": [
       "<matplotlib.collections.PathCollection at 0x1f65075c670>"
      ]
     },
     "execution_count": 93,
     "metadata": {},
     "output_type": "execute_result"
    },
    {
     "data": {
      "image/png": "[encoded data removed]",
      "text/plain": [
       "<Figure size 640x480 with 1 Axes>"
      ]
     },
     "metadata": {},
     "output_type": "display_data"
    }
   ],
   "source": [
    "plt.scatter( chk.post_mean, lol.post_mean)\n",
    "\n"
   ]
  },
  {
   "cell_type": "code",
   "execution_count": 94,
   "id": "74e1cac0",
   "metadata": {},
   "outputs": [
    {
     "data": {
      "text/plain": [
       "tensor([-0.0226,  0.0505, -0.0251,  0.1828, -0.1567,  0.0110, -0.3370, -0.0044,\n",
       "         0.0712, -0.0596, -0.0448,  0.2547, -0.0389, -0.1313, -0.0200,  0.0356,\n",
       "        -0.1965, -0.1163, -0.0888,  0.1429,  0.0326, -0.0532,  0.0251, -0.0237,\n",
       "         0.0247,  0.1337,  0.0305,  0.0491,  0.0300,  0.1066, -0.0835, -0.2645,\n",
       "         0.0361,  0.0838,  0.0077,  0.0120,  0.0620,  0.0598, -0.0045,  0.0280,\n",
       "         0.0456,  0.1544,  0.0578, -0.1150, -0.0277, -0.1523,  0.1149,  0.0121,\n",
       "         0.1663,  0.0432], dtype=torch.float64)"
      ]
     },
     "execution_count": 94,
     "metadata": {},
     "output_type": "execute_result"
    }
   ],
   "source": [
    "\n",
    "k=4\n",
    "Rk = mycebmf._partial_residual_masked(k)            # (N,P), zeros where missing\n",
    "fk  = mycebmf.F[:, k]                                # (P,)\n",
    "fk2 = mycebmf.F2[:, k]                               # (P,)\n",
    "\n",
    "eps = 1e-12\n",
    "denom_l = (fk2.view(1, -1) * mycebmf.mask).sum(dim=1).clamp_min(eps)     # (N,)\n",
    "num_l   = (Rk @ fk)                                                   # (N,)\n",
    "se_l    = torch.sqrt(1.0 / (mycebmf.tau * denom_l))\n",
    "\n",
    "\n",
    "lhat = num_l / denom_l\n",
    "\n",
    "resL = mycebmf.prior_L_fn(\n",
    "            X=getattr(mycebmf, \"X_l\", None),\n",
    "            betahat=lhat,\n",
    "            sebetahat=se_l,\n",
    "            model_param=mycebmf.model_state_L[k]\n",
    ")\n",
    "mycebmf.model_state_L[k] = resL.model_param\n",
    "mycebmf.L[:, k]  = resL.post_mean\n",
    "mycebmf.L2[:, k] = resL.post_mean2\n",
    "mycebmf.kl_l[k]  = torch.as_tensor(resL.loss, device=mycebmf.device)\n",
    "se_l\n",
    "resL.post_mean"
   ]
  },
  {
   "cell_type": "code",
   "execution_count": 95,
   "id": "f8e7a6c4",
   "metadata": {},
   "outputs": [
    {
     "data": {
      "text/plain": [
       "tensor([ 0.1068,  0.0980, -0.2368,  0.1943,  0.0620, -0.0908,  0.0014,  0.1286,\n",
       "         0.0127,  0.0065, -0.0906,  0.1161,  0.0786, -0.0489,  0.0723,  0.0782,\n",
       "         0.1107,  0.0751, -0.0848,  0.0736, -0.2393, -0.1654, -0.1627,  0.0317,\n",
       "        -0.0285, -0.0685,  0.0622,  0.0150,  0.2281,  0.0139, -0.0656,  0.2216,\n",
       "        -0.1260, -0.1321, -0.0561,  0.2201, -0.2013, -0.0437, -0.0499, -0.0827,\n",
       "         0.0081, -0.0349,  0.0280, -0.1552, -0.1280,  0.1366, -0.0451,  0.0025,\n",
       "         0.1011,  0.2737], dtype=torch.float64)"
      ]
     },
     "execution_count": 95,
     "metadata": {},
     "output_type": "execute_result"
    }
   ],
   "source": [
    "\n",
    "k=2\n",
    "Rk = mycebmf._partial_residual_masked(k)            # (N,P), zeros where missing\n",
    "fk  = mycebmf.F[:, k]                                # (P,)\n",
    "fk2 = mycebmf.F2[:, k]                               # (P,)\n",
    "\n",
    "eps = 1e-12\n",
    "denom_l = (fk2.view(1, -1) * mycebmf.mask).sum(dim=1).clamp_min(eps)     # (N,)\n",
    "num_l   = (Rk @ fk)                                                   # (N,)\n",
    "se_l    = torch.sqrt(1.0 / (mycebmf.tau * denom_l))\n",
    "\n",
    "\n",
    "lhat = num_l / denom_l\n",
    "\n",
    "resL = mycebmf.prior_L_fn(\n",
    "            X=getattr(mycebmf, \"X_l\", None),\n",
    "            betahat=lhat,\n",
    "            sebetahat=se_l,\n",
    "            model_param=mycebmf.model_state_L[k]\n",
    ")\n",
    "mycebmf.model_state_L[k] = resL.model_param\n",
    "mycebmf.L[:, k]  = resL.post_mean\n",
    "mycebmf.L2[:, k] = resL.post_mean2\n",
    "mycebmf.kl_l[k]  = torch.as_tensor(resL.loss, device=mycebmf.device)\n",
    "se_l\n",
    "resL.post_mean"
   ]
  },
  {
   "cell_type": "code",
   "execution_count": 96,
   "id": "0b833086",
   "metadata": {},
   "outputs": [
    {
     "data": {
      "text/plain": [
       "tensor([0.0792, 0.0792, 0.0792, 0.0792, 0.0792, 0.0792, 0.0792, 0.0792, 0.0792,\n",
       "        0.0792, 0.0792, 0.0792, 0.0792, 0.0792, 0.0792, 0.0792, 0.0792, 0.0792,\n",
       "        0.0792, 0.0792, 0.0792, 0.0792, 0.0792, 0.0792, 0.0792, 0.0792, 0.0792,\n",
       "        0.0792, 0.0792, 0.0792, 0.0792, 0.0792, 0.0792, 0.0792, 0.0792, 0.0792,\n",
       "        0.0792, 0.0792, 0.0792, 0.0792, 0.0792, 0.0792, 0.0792, 0.0792, 0.0792,\n",
       "        0.0792, 0.0792, 0.0792, 0.0792, 0.0792])"
      ]
     },
     "execution_count": 96,
     "metadata": {},
     "output_type": "execute_result"
    }
   ],
   "source": [
    "lhat\n",
    "se_l"
   ]
  },
  {
   "cell_type": "code",
   "execution_count": 97,
   "id": "db392345",
   "metadata": {},
   "outputs": [
    {
     "data": {
      "text/plain": [
       "tensor([ 0.1068,  0.0980, -0.2369,  0.1943,  0.0620, -0.0908,  0.0014,  0.1286,\n",
       "         0.0127,  0.0065, -0.0907,  0.1161,  0.0786, -0.0489,  0.0724,  0.0782,\n",
       "         0.1107,  0.0751, -0.0848,  0.0736, -0.2393, -0.1655, -0.1627,  0.0317,\n",
       "        -0.0285, -0.0685,  0.0623,  0.0150,  0.2281,  0.0139, -0.0656,  0.2216,\n",
       "        -0.1261, -0.1321, -0.0562,  0.2201, -0.2013, -0.0437, -0.0499, -0.0827,\n",
       "         0.0081, -0.0349,  0.0280, -0.1552, -0.1280,  0.1367, -0.0451,  0.0025,\n",
       "         0.1011,  0.2737], dtype=torch.float64)"
      ]
     },
     "execution_count": 97,
     "metadata": {},
     "output_type": "execute_result"
    }
   ],
   "source": [
    "from cebmf_torch.torch_ebnm_point_laplace import ebnm_point_laplace\n",
    "lol= ebnm_point_laplace(lhat , se_l) \n",
    "lol.post_mean\n"
   ]
  },
  {
   "cell_type": "code",
   "execution_count": 98,
   "id": "f942b946",
   "metadata": {},
   "outputs": [
    {
     "data": {
      "text/plain": [
       "tensor([0.0792, 0.0792, 0.0792, 0.0792, 0.0792, 0.0792, 0.0792, 0.0792, 0.0792,\n",
       "        0.0792, 0.0792, 0.0792, 0.0792, 0.0792, 0.0792, 0.0792, 0.0792, 0.0792,\n",
       "        0.0792, 0.0792, 0.0792, 0.0792, 0.0792, 0.0792, 0.0792, 0.0792, 0.0792,\n",
       "        0.0792, 0.0792, 0.0792, 0.0792, 0.0792, 0.0792, 0.0792, 0.0792, 0.0792,\n",
       "        0.0792, 0.0792, 0.0792, 0.0792, 0.0792, 0.0792, 0.0792, 0.0792, 0.0792,\n",
       "        0.0792, 0.0792, 0.0792, 0.0792, 0.0792])"
      ]
     },
     "execution_count": 98,
     "metadata": {},
     "output_type": "execute_result"
    }
   ],
   "source": [
    "se_l"
   ]
  },
  {
   "cell_type": "code",
   "execution_count": 99,
   "id": "3d870a2a",
   "metadata": {},
   "outputs": [
    {
     "data": {
      "text/plain": [
       "tensor([ 0.1571,  0.1465, -0.2942,  0.2512,  0.0996, -0.1377,  0.0024,  0.1820,\n",
       "         0.0220,  0.0113, -0.1375,  0.1678,  0.1221, -0.0805,  0.1139,  0.1217,\n",
       "         0.1616,  0.1175, -0.1302,  0.1156, -0.2967, -0.2215, -0.2186,  0.0538,\n",
       "        -0.0485, -0.1087,  0.1000,  0.0259,  0.2854,  0.0241, -0.1046,  0.2789,\n",
       "        -0.1791, -0.1858, -0.0913,  0.2774, -0.2584, -0.0726, -0.0821, -0.1275,\n",
       "         0.0141, -0.0588,  0.0477, -0.2107, -0.1813,  0.1908, -0.0748,  0.0044,\n",
       "         0.1503,  0.3311])"
      ]
     },
     "execution_count": 99,
     "metadata": {},
     "output_type": "execute_result"
    }
   ],
   "source": [
    "lhat"
   ]
  },
  {
   "cell_type": "code",
   "execution_count": 100,
   "id": "ed404183",
   "metadata": {},
   "outputs": [
    {
     "data": {
      "text/plain": [
       "tensor([ 0.1068,  0.0980, -0.2369,  0.1943,  0.0620, -0.0908,  0.0014,  0.1286,\n",
       "         0.0127,  0.0065, -0.0907,  0.1161,  0.0786, -0.0489,  0.0724,  0.0782,\n",
       "         0.1107,  0.0751, -0.0848,  0.0736, -0.2393, -0.1655, -0.1627,  0.0317,\n",
       "        -0.0285, -0.0685,  0.0623,  0.0150,  0.2281,  0.0139, -0.0656,  0.2216,\n",
       "        -0.1261, -0.1321, -0.0562,  0.2201, -0.2013, -0.0437, -0.0499, -0.0827,\n",
       "         0.0081, -0.0349,  0.0280, -0.1552, -0.1280,  0.1367, -0.0451,  0.0025,\n",
       "         0.1011,  0.2737], dtype=torch.float64)"
      ]
     },
     "execution_count": 100,
     "metadata": {},
     "output_type": "execute_result"
    }
   ],
   "source": [
    "lol= ebnm_point_laplace(lhat , se_l  ) \n",
    "lol.post_mean\n"
   ]
  },
  {
   "cell_type": "code",
   "execution_count": 101,
   "id": "1b46c073",
   "metadata": {},
   "outputs": [
    {
     "data": {
      "text/plain": [
       "0.9999071359634399"
      ]
     },
     "execution_count": 101,
     "metadata": {},
     "output_type": "execute_result"
    }
   ],
   "source": [
    "lol.w"
   ]
  },
  {
   "cell_type": "code",
   "execution_count": null,
   "id": "55aacff1",
   "metadata": {},
   "outputs": [],
   "source": []
  },
  {
   "cell_type": "code",
   "execution_count": 102,
   "id": "572468e7",
   "metadata": {},
   "outputs": [
    {
     "data": {
      "text/plain": [
       "EBNMLaplaceResult(post_mean=tensor([ 0.1068,  0.0980, -0.2368,  0.1943,  0.0620, -0.0908,  0.0014,  0.1286,\n",
       "         0.0127,  0.0065, -0.0906,  0.1161,  0.0786, -0.0489,  0.0723,  0.0782,\n",
       "         0.1107,  0.0751, -0.0848,  0.0736, -0.2393, -0.1654, -0.1627,  0.0317,\n",
       "        -0.0285, -0.0685,  0.0622,  0.0150,  0.2281,  0.0139, -0.0656,  0.2216,\n",
       "        -0.1260, -0.1321, -0.0561,  0.2201, -0.2013, -0.0437, -0.0499, -0.0827,\n",
       "         0.0081, -0.0349,  0.0280, -0.1552, -0.1280,  0.1366, -0.0451,  0.0025,\n",
       "         0.1011,  0.2737], dtype=torch.float64), post_mean2=tensor([0.0167, 0.0148, 0.0620, 0.0439, 0.0083, 0.0068, 0.0036, 0.0222, 0.0038,\n",
       "        0.0037, 0.0067, 0.0189, 0.0110, 0.0030, 0.0099, 0.0109, 0.0176, 0.0104,\n",
       "        0.0055, 0.0101, 0.0632, 0.0309, 0.0299, 0.0049, 0.0046, 0.0033, 0.0083,\n",
       "        0.0039, 0.0582, 0.0039, 0.0030, 0.0553, 0.0167, 0.0187, 0.0028, 0.0547,\n",
       "        0.0457, 0.0035, 0.0030, 0.0052, 0.0037, 0.0049, 0.0046, 0.0270, 0.0173,\n",
       "        0.0244, 0.0034, 0.0036, 0.0155, 0.0812], dtype=torch.float64), post_sd=tensor([0.0730, 0.0719, 0.0768, 0.0784, 0.0667, 0.0000, 0.0601, 0.0751, 0.0604,\n",
       "        0.0602, 0.0000, 0.0740, 0.0692, 0.0256, 0.0683, 0.0692, 0.0734, 0.0687,\n",
       "        0.0000, 0.0685, 0.0770, 0.0597, 0.0583, 0.0622, 0.0618, 0.0000, 0.0667,\n",
       "        0.0606, 0.0789, 0.0605, 0.0000, 0.0789, 0.0278, 0.0352, 0.0000, 0.0788,\n",
       "        0.0718, 0.0403, 0.0221, 0.0000, 0.0602, 0.0607, 0.0618, 0.0540, 0.0304,\n",
       "        0.0758, 0.0367, 0.0601, 0.0723, 0.0791], dtype=torch.float64), w=0.9998142393436421, a=9.169692533568076, mu=0.0, log_lik=17.287240682500823)"
      ]
     },
     "execution_count": 102,
     "metadata": {},
     "output_type": "execute_result"
    }
   ],
   "source": [
    "ebnm_point_laplace(\n",
    "    x=lhat.double(),\n",
    "    s=se_l.double(),    # a=exp(0)=1\n",
    "    fix_par=[False,False, True] # optimize w only; fix a, mu\n",
    ")"
   ]
  },
  {
   "cell_type": "code",
   "execution_count": 103,
   "id": "7cbbbd41",
   "metadata": {},
   "outputs": [
    {
     "data": {
      "text/plain": [
       "EBNMLaplaceResult(post_mean=tensor([ 0.1068,  0.0980, -0.2368,  0.1943,  0.0620, -0.0908,  0.0014,  0.1286,\n",
       "         0.0127,  0.0065, -0.0906,  0.1161,  0.0786, -0.0489,  0.0723,  0.0782,\n",
       "         0.1107,  0.0751, -0.0848,  0.0736, -0.2393, -0.1654, -0.1627,  0.0317,\n",
       "        -0.0285, -0.0685,  0.0622,  0.0150,  0.2281,  0.0139, -0.0656,  0.2216,\n",
       "        -0.1260, -0.1321, -0.0561,  0.2201, -0.2013, -0.0437, -0.0499, -0.0827,\n",
       "         0.0081, -0.0349,  0.0280, -0.1552, -0.1280,  0.1366, -0.0451,  0.0025,\n",
       "         0.1011,  0.2737], dtype=torch.float64), post_mean2=tensor([0.0167, 0.0148, 0.0620, 0.0439, 0.0083, 0.0068, 0.0036, 0.0222, 0.0038,\n",
       "        0.0037, 0.0067, 0.0189, 0.0110, 0.0030, 0.0099, 0.0109, 0.0176, 0.0104,\n",
       "        0.0055, 0.0101, 0.0632, 0.0309, 0.0299, 0.0049, 0.0046, 0.0033, 0.0083,\n",
       "        0.0039, 0.0582, 0.0039, 0.0030, 0.0553, 0.0167, 0.0187, 0.0028, 0.0547,\n",
       "        0.0457, 0.0035, 0.0030, 0.0052, 0.0037, 0.0049, 0.0046, 0.0270, 0.0173,\n",
       "        0.0244, 0.0034, 0.0036, 0.0155, 0.0812], dtype=torch.float64), post_sd=tensor([0.0730, 0.0719, 0.0768, 0.0784, 0.0667, 0.0000, 0.0601, 0.0751, 0.0604,\n",
       "        0.0602, 0.0000, 0.0740, 0.0692, 0.0256, 0.0683, 0.0692, 0.0734, 0.0687,\n",
       "        0.0000, 0.0685, 0.0770, 0.0597, 0.0583, 0.0622, 0.0618, 0.0000, 0.0667,\n",
       "        0.0606, 0.0789, 0.0605, 0.0000, 0.0789, 0.0278, 0.0352, 0.0000, 0.0788,\n",
       "        0.0718, 0.0403, 0.0221, 0.0000, 0.0602, 0.0607, 0.0618, 0.0540, 0.0304,\n",
       "        0.0758, 0.0367, 0.0601, 0.0723, 0.0791], dtype=torch.float64), w=0.9998194804123799, a=9.169495425138246, mu=0.0, log_lik=17.287280524963887)"
      ]
     },
     "execution_count": 103,
     "metadata": {},
     "output_type": "execute_result"
    }
   ],
   "source": [
    "ebnm_point_laplace(\n",
    "    x=lhat.double(),\n",
    "    s=se_l.double(),\n",
    "    par_init=[0.0, 2.0, 0.0],   # a=exp(0)=1\n",
    "    fix_par=[False,False, True] # optimize w only; fix a, mu\n",
    ")"
   ]
  }
 ],
 "metadata": {
  "kernelspec": {
   "display_name": "ml_env",
   "language": "python",
   "name": "python3"
  },
  "language_info": {
   "codemirror_mode": {
    "name": "ipython",
    "version": 3
   },
   "file_extension": ".py",
   "mimetype": "text/x-python",
   "name": "python",
   "nbconvert_exporter": "python",
   "pygments_lexer": "ipython3",
   "version": "3.10.8"
  }
 },
 "nbformat": 4,
 "nbformat_minor": 5
}
