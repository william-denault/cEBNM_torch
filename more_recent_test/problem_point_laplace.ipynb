{
 "cells": [
  {
   "cell_type": "code",
   "execution_count": 1,
   "id": "058450fc",
   "metadata": {},
   "outputs": [],
   "source": [
    "# ---- Reproducibility\n",
    "import random\n",
    "import torch\n",
    "\n",
    "seed = 1234\n",
    "random.seed(seed)\n",
    "torch.manual_seed(seed)\n",
    "if torch.cuda.is_available():\n",
    "    torch.cuda.manual_seed_all(seed)\n"
   ]
  },
  {
   "cell_type": "code",
   "execution_count": 2,
   "id": "3a4ac569",
   "metadata": {},
   "outputs": [
    {
     "name": "stdout",
     "output_type": "stream",
     "text": [
      "Rank-1 Matrix (Outer Product):\n",
      "[[0.0369924  0.12349849 0.01266485 ... 0.20919041 0.20178125 0.15269329]\n",
      " [0.01256629 0.04195233 0.00430224 ... 0.0710618  0.06854491 0.05186978]\n",
      " [0.07442166 0.24845541 0.02547927 ... 0.42085123 0.40594542 0.3071898 ]\n",
      " ...\n",
      " [0.13003676 0.43412546 0.04451985 ... 0.73535219 0.70930731 0.53675188]\n",
      " [0.02568535 0.08575008 0.00879373 ... 0.14524951 0.14010503 0.10602124]\n",
      " [0.01213768 0.04052142 0.0041555  ... 0.06863803 0.06620699 0.05010061]]\n",
      "\n",
      "Noisy Matrix (with Homoscedastic Noise):\n",
      "[[ 0.14788041  0.16955928  0.1824038  ...  0.06284919  0.26615598\n",
      "   0.04153663]\n",
      " [-0.07975735  0.07738678 -0.06536086 ...  0.08710195  0.01799688\n",
      "   0.10035783]\n",
      " [ 0.15693369  0.13496091 -0.12057474 ...  0.40187727  0.53974668\n",
      "   0.3314774 ]\n",
      " ...\n",
      " [ 0.16086152  0.64130937  0.12866035 ...  0.67670073  0.59595961\n",
      "   0.57849158]\n",
      " [-0.06675871 -0.03323521 -0.03429034 ...  0.1487228   0.2078188\n",
      "   0.18898802]\n",
      " [-0.14480705  0.07884231  0.03359961 ... -0.16932926  0.1779711\n",
      "   0.1486646 ]]\n"
     ]
    }
   ],
   "source": [
    "\n",
    "\n",
    "# ---- Parameters\n",
    "n, p = 50, 40\n",
    "noise_std = 0.1\n",
    "\n",
    "# (Optional) choose device\n",
    "device = torch.device(\"cuda\" if torch.cuda.is_available() else \"cpu\")\n",
    "\n",
    "# ---- Data generation (PyTorch)\n",
    "# Use float64 to mirror NumPy defaults\n",
    "u = torch.rand(n, dtype=torch.float64, device=device)          # length n\n",
    "v = torch.rand(p, dtype=torch.float64, device=device)          # length p\n",
    "\n",
    "# Rank-1 matrix via outer product\n",
    "rank_1_matrix = torch.outer(u, v)                              # (n, p)\n",
    "\n",
    "# Homoscedastic Gaussian noise\n",
    "noise = noise_std * torch.randn(n, p, dtype=torch.float64, device=device)\n",
    "\n",
    "noisy_matrix = rank_1_matrix + noise\n",
    "\n",
    "# ---- Print (move to CPU for readability if needed)\n",
    "print(\"Rank-1 Matrix (Outer Product):\")\n",
    "print(rank_1_matrix.cpu().numpy())\n",
    "\n",
    "print(\"\\nNoisy Matrix (with Homoscedastic Noise):\")\n",
    "print(noisy_matrix.cpu().numpy())\n"
   ]
  },
  {
   "cell_type": "code",
   "execution_count": 3,
   "id": "288daa18",
   "metadata": {},
   "outputs": [],
   "source": [
    "import sys\n",
    "import os\n",
    "import matplotlib.pyplot as plt\n",
    "from cebmf_torch import cEBMF"
   ]
  },
  {
   "cell_type": "code",
   "execution_count": 4,
   "id": "5b5272bf",
   "metadata": {},
   "outputs": [],
   "source": [
    "mycebmf=  cEBMF(data= noisy_matrix,\n",
    "                prior_L=\"point_laplace\",\n",
    "                  prior_F=\"point_laplace\") "
   ]
  },
  {
   "cell_type": "code",
   "execution_count": null,
   "id": "8d4e3633",
   "metadata": {},
   "outputs": [],
   "source": [
    " "
   ]
  },
  {
   "cell_type": "code",
   "execution_count": 5,
   "id": "12ac914e",
   "metadata": {},
   "outputs": [
    {
     "name": "stdout",
     "output_type": "stream",
     "text": [
      "tensor([ 0.0080, -0.1905,  0.2605, -0.2120,  0.2116,  0.1896, -0.2458, -0.2640,\n",
      "         0.1057,  0.1225,  0.0676,  0.0620, -0.0016,  0.1750,  0.1087, -0.0761,\n",
      "         0.1078, -0.4832,  0.0641,  0.1960, -0.2287, -0.0704, -0.2441,  0.0377,\n",
      "        -0.2611, -0.1291,  0.3901, -0.0387, -0.1331, -0.2875, -0.2095,  0.1439,\n",
      "        -0.0307, -0.0648,  0.0598, -0.0430,  0.1896,  0.1109,  0.0643, -0.0023,\n",
      "        -0.0328, -0.2137,  0.0720,  0.0039, -0.1591, -0.2714, -0.0136,  0.1367,\n",
      "         0.0542,  0.2452])\n",
      "tensor([ 0.0610,  0.0381, -0.0373,  0.1844, -0.0388, -0.1764,  0.0488, -0.3281,\n",
      "        -0.0793,  0.0009,  0.2299,  0.1970,  0.0735, -0.2066,  0.0725, -0.2878,\n",
      "        -0.0727,  0.3067, -0.2505,  0.0539,  0.1928,  0.0201, -0.0158,  0.1157,\n",
      "         0.1509,  0.0815,  0.0377,  0.1380,  0.1188, -0.1703, -0.0225, -0.0766,\n",
      "        -0.2759,  0.2154,  0.2396, -0.1764, -0.0045, -0.1609,  0.1603,  0.0669])\n"
     ]
    }
   ],
   "source": [
    "mycebmf.initialize()\n",
    "print(mycebmf.L[:,1])\n",
    "print(mycebmf.F[:,1])"
   ]
  },
  {
   "cell_type": "code",
   "execution_count": 6,
   "id": "42a6bf92",
   "metadata": {},
   "outputs": [
    {
     "data": {
      "text/plain": [
       "<matplotlib.collections.PathCollection at 0x20880064fd0>"
      ]
     },
     "execution_count": 6,
     "metadata": {},
     "output_type": "execute_result"
    },
    {
     "data": {
      "image/png": "[encoded data removed]",
      "text/plain": [
       "<Figure size 640x480 with 1 Axes>"
      ]
     },
     "metadata": {},
     "output_type": "display_data"
    }
   ],
   "source": [
    "plt.scatter( mycebmf.L[:,0],u)"
   ]
  },
  {
   "cell_type": "code",
   "execution_count": 7,
   "id": "8905b3c9",
   "metadata": {},
   "outputs": [],
   "source": [
    "mycebmf.initialize () \n",
    "tau_map=None\n",
    "eps=1e-12"
   ]
  },
  {
   "cell_type": "code",
   "execution_count": 8,
   "id": "78287e57",
   "metadata": {},
   "outputs": [
    {
     "name": "stdout",
     "output_type": "stream",
     "text": [
      "tensor(226.3688)\n",
      "tensor(1.1747)\n",
      "tensor(0.8950)\n",
      "tensor(0.8198)\n",
      "tensor(0.7878)\n",
      "tensor([[-0.0346,  0.0381, -0.0290,  0.2636, -0.0530],\n",
      "        [-0.1409,  0.0279,  0.1842,  0.1321,  0.0223],\n",
      "        [-0.0059, -0.0310,  0.0934,  0.0052, -0.0665],\n",
      "        [-0.2040,  0.1510, -0.0164,  0.0262,  0.1073],\n",
      "        [-0.1176, -0.0213,  0.0255, -0.0338, -0.0163],\n",
      "        [-0.0094, -0.1421,  0.0502, -0.4286, -0.0490],\n",
      "        [-0.2310,  0.0301, -0.0661,  0.1613, -0.0500],\n",
      "        [-0.1752, -0.2963, -0.0218, -0.0606, -0.0595],\n",
      "        [-0.1537, -0.0544,  0.0382,  0.0555, -0.0241],\n",
      "        [-0.2228,  0.0047, -0.2141, -0.0850,  0.1842],\n",
      "        [-0.0544,  0.1985,  0.1366,  0.1095, -0.0707],\n",
      "        [-0.1940,  0.1650,  0.0051,  0.0206, -0.0912],\n",
      "        [-0.0261,  0.0540, -0.1384, -0.1256, -0.0954],\n",
      "        [-0.1711, -0.1700,  0.0236, -0.0102, -0.0552],\n",
      "        [-0.2372,  0.0494,  0.0381, -0.0083, -0.0563],\n",
      "        [-0.0781, -0.2505,  0.1279,  0.1649,  0.0130],\n",
      "        [-0.2404, -0.0531, -0.3053, -0.0688, -0.1414],\n",
      "        [-0.0280,  0.2737,  0.0272, -0.0611, -0.2137],\n",
      "        [-0.1942, -0.2273,  0.1747,  0.0679,  0.0041],\n",
      "        [-0.1146,  0.0458,  0.0551, -0.0039,  0.0386],\n",
      "        [-0.1228,  0.1446,  0.0276,  0.0731, -0.0574],\n",
      "        [-0.1836,  0.0104,  0.1575,  0.1788, -0.1604],\n",
      "        [-0.2128, -0.0133,  0.0759, -0.0387, -0.0613],\n",
      "        [-0.0841,  0.0787, -0.1052, -0.0939, -0.0955],\n",
      "        [-0.0971,  0.1190,  0.0043,  0.0297, -0.3365],\n",
      "        [-0.0334,  0.0516, -0.0232, -0.0250, -0.2248],\n",
      "        [-0.1129,  0.0182,  0.1545, -0.1531,  0.0627],\n",
      "        [-0.0906,  0.0948, -0.1078,  0.0079,  0.1928],\n",
      "        [-0.1750,  0.0835, -0.2647, -0.0696,  0.0639],\n",
      "        [-0.1760, -0.1315,  0.0031,  0.0181,  0.0576],\n",
      "        [-0.1829, -0.0242, -0.0520,  0.0555,  0.0933],\n",
      "        [-0.1479, -0.0518,  0.2706, -0.1843,  0.1210],\n",
      "        [-0.1141, -0.2239, -0.1600,  0.1581,  0.0584],\n",
      "        [-0.1198,  0.1607, -0.0092,  0.0421,  0.2206],\n",
      "        [-0.2098,  0.2012,  0.0147, -0.0159,  0.1452],\n",
      "        [-0.2042, -0.1337, -0.0217,  0.0344, -0.0510],\n",
      "        [-0.2252, -0.0022,  0.0387, -0.1424, -0.0651],\n",
      "        [-0.2121, -0.1247, -0.2268, -0.0110, -0.0190],\n",
      "        [-0.1984,  0.1325,  0.0235,  0.0005,  0.1268],\n",
      "        [-0.1542,  0.0504,  0.3275, -0.1728,  0.0605]])\n"
     ]
    }
   ],
   "source": [
    "for k in range (mycebmf.K):\n",
    "# ---------- Update L[:, k] ----------\n",
    "        Rk = mycebmf._partial_residual_masked(k)            # (N,P), zeros where missing\n",
    "        fk  = mycebmf.F[:, k]                                # (P,)\n",
    "        fk2 = mycebmf.F2[:, k]                               # (P,)\n",
    "\n",
    "        if tau_map is None:\n",
    "            denom_l = (fk2.view(1, -1) * mycebmf.mask).sum(dim=1).clamp_min(eps)     # (N,)\n",
    "            num_l   = (Rk @ fk)                                                   # (N,)\n",
    "            se_l    = torch.sqrt(1.0 / (mycebmf.tau * denom_l))\n",
    "        else:\n",
    "            denom_l = (tau_map * (fk2.view(1, -1) * mycebmf.mask)).sum(dim=1).clamp_min(eps)  # (N,)\n",
    "            num_l   = (tau_map * Rk) @ fk                                                 # (N,)\n",
    "            se_l    = torch.sqrt(1.0 / denom_l)\n",
    "\n",
    "        lhat = num_l / denom_l\n",
    "       # print(denom_l)\n",
    "        resL = mycebmf.prior_L_fn(\n",
    "            X=getattr(mycebmf, \"X_l\", None),\n",
    "            betahat=lhat,\n",
    "            sebetahat=se_l,\n",
    "            model_param=mycebmf.model_state_L[k]\n",
    "        )\n",
    "        mycebmf.model_state_L[k] = resL.model_param\n",
    "        mycebmf.L[:, k]  = resL.post_mean\n",
    "        mycebmf.L2[:, k] = resL.post_mean2\n",
    "        mycebmf.kl_l[k]  = torch.as_tensor(resL.loss, device=mycebmf.device)\n",
    "\n",
    "    # ---------- Update F[:, k] ----------\n",
    "        Rk = mycebmf._partial_residual_masked(k)            # recompute with updated L\n",
    "        lk  = mycebmf.L[:, k]                               # (N,)\n",
    "        lk2 = mycebmf.L2[:, k]                              # (N,)\n",
    "\n",
    "        if tau_map is None:\n",
    "            denom_f = (lk2.view(-1, 1) * mycebmf.mask).sum(dim=0).clamp_min(eps)      # (P,)\n",
    "            num_f   = (Rk.T @ lk)                                                  # (P,)\n",
    "            se_f    = torch.sqrt(1.0 / (mycebmf.tau * denom_f))\n",
    "        else:\n",
    "            denom_f = (tau_map * (lk2.view(-1, 1) * mycebmf.mask)).sum(dim=0).clamp_min(eps)  # (P,)\n",
    "            num_f   = (tau_map * Rk).T @ lk                                                # (P,)\n",
    "            se_f    = torch.sqrt(1.0 / denom_f)\n",
    "\n",
    "        fhat = num_f / denom_f\n",
    "        print(denom_f[1])\n",
    "        resF = mycebmf.prior_F_fn(\n",
    "            X=getattr(mycebmf, \"X_f\", None),\n",
    "            betahat=fhat,\n",
    "            sebetahat=se_f,\n",
    "            model_param=mycebmf.model_state_F[k]\n",
    "        )\n",
    "        mycebmf.model_state_F[k] = resF.model_param\n",
    "        mycebmf.F[:, k]  = resF.post_mean\n",
    "        mycebmf.F2[:, k] = resF.post_mean2\n",
    "        mycebmf.kl_f[k]  = torch.as_tensor(resF.loss, device=mycebmf.device)\n",
    " \n",
    "print(mycebmf.F)"
   ]
  },
  {
   "cell_type": "code",
   "execution_count": 45,
   "id": "d956308e",
   "metadata": {},
   "outputs": [],
   "source": [
    "mycebmf.initialize()"
   ]
  },
  {
   "cell_type": "code",
   "execution_count": 60,
   "id": "30556c96",
   "metadata": {},
   "outputs": [
    {
     "name": "stdout",
     "output_type": "stream",
     "text": [
      "tensor(226.4589)\n",
      "tensor(0.4351)\n",
      "tensor(0.0050)\n",
      "tensor(0.0050)\n",
      "tensor(0.0050)\n",
      "tensor([[-0.0345,  0.0219,  0.0000,  0.0000,  0.0000],\n",
      "        [-0.1407,  0.0206,  0.0000,  0.0000,  0.0000],\n",
      "        [-0.0059, -0.1139,  0.0000,  0.0000,  0.0000],\n",
      "        [-0.2038,  0.1305,  0.0000,  0.0000,  0.0000],\n",
      "        [-0.1175, -0.0240,  0.0000,  0.0000,  0.0000],\n",
      "        [-0.0093, -0.0806,  0.0000,  0.0000,  0.0000],\n",
      "        [-0.2308, -0.0057,  0.0000,  0.0000,  0.0000],\n",
      "        [-0.1750, -0.2222,  0.0000,  0.0000,  0.0000],\n",
      "        [-0.1536, -0.0446,  0.0000,  0.0000,  0.0000],\n",
      "        [-0.2226,  0.0745,  0.0000,  0.0000,  0.0000],\n",
      "        [-0.0543,  0.0817,  0.0000,  0.0000,  0.0000],\n",
      "        [-0.1938,  0.0844,  0.0000,  0.0000,  0.0000],\n",
      "        [-0.0260,  0.0973,  0.0000,  0.0000,  0.0000],\n",
      "        [-0.1710, -0.1055,  0.0000,  0.0000,  0.0000],\n",
      "        [-0.2370,  0.0182,  0.0000,  0.0000,  0.0000],\n",
      "        [-0.0780, -0.1792,  0.0000,  0.0000,  0.0000],\n",
      "        [-0.2402, -0.0331,  0.0000,  0.0000,  0.0000],\n",
      "        [-0.0279,  0.1094,  0.0000,  0.0000,  0.0000],\n",
      "        [-0.1941, -0.2911,  0.0000,  0.0000,  0.0000],\n",
      "        [-0.1144,  0.1028,  0.0000,  0.0000,  0.0000],\n",
      "        [-0.1226,  0.0161,  0.0000,  0.0000,  0.0000],\n",
      "        [-0.1834, -0.0665,  0.0000,  0.0000,  0.0000],\n",
      "        [-0.2126, -0.0709,  0.0000,  0.0000,  0.0000],\n",
      "        [-0.0840,  0.0367,  0.0000,  0.0000,  0.0000],\n",
      "        [-0.0970,  0.0272,  0.0000,  0.0000,  0.0000],\n",
      "        [-0.0333, -0.0131,  0.0000,  0.0000,  0.0000],\n",
      "        [-0.1128, -0.0030,  0.0000,  0.0000,  0.0000],\n",
      "        [-0.0905,  0.0489,  0.0000,  0.0000,  0.0000],\n",
      "        [-0.1749,  0.0715,  0.0000,  0.0000,  0.0000],\n",
      "        [-0.1758, -0.0380,  0.0000,  0.0000,  0.0000],\n",
      "        [-0.1827, -0.0785,  0.0000,  0.0000,  0.0000],\n",
      "        [-0.1477, -0.0431,  0.0000,  0.0000,  0.0000],\n",
      "        [-0.1140, -0.0089,  0.0000,  0.0000,  0.0000],\n",
      "        [-0.1196,  0.0763,  0.0000,  0.0000,  0.0000],\n",
      "        [-0.2096,  0.1530,  0.0000,  0.0000,  0.0000],\n",
      "        [-0.2041, -0.0491,  0.0000,  0.0000,  0.0000],\n",
      "        [-0.2250,  0.0193,  0.0000,  0.0000,  0.0000],\n",
      "        [-0.2119, -0.0291,  0.0000,  0.0000,  0.0000],\n",
      "        [-0.1981,  0.1156,  0.0000,  0.0000,  0.0000],\n",
      "        [-0.1540,  0.0456,  0.0000,  0.0000,  0.0000]])\n"
     ]
    },
    {
     "data": {
      "text/plain": [
       "<matplotlib.collections.PathCollection at 0x20884ea6920>"
      ]
     },
     "execution_count": 60,
     "metadata": {},
     "output_type": "execute_result"
    },
    {
     "data": {
      "image/png": "[encoded data removed]",
      "text/plain": [
       "<Figure size 640x480 with 1 Axes>"
      ]
     },
     "metadata": {},
     "output_type": "display_data"
    }
   ],
   "source": [
    "mycebmf.iter_once()  \n",
    "mycebmf.update_fitted_value()\n",
    "print(mycebmf.F)\n",
    "plt.scatter(mycebmf.Y_fit, noisy_matrix)\n",
    " \n",
    "plt.scatter(mycebmf.Y_fit, rank_1_matrix)"
   ]
  },
  {
   "cell_type": "code",
   "execution_count": 11,
   "id": "5259328c",
   "metadata": {},
   "outputs": [
    {
     "data": {
      "text/plain": [
       "tensor([[1.1651e+00, 3.8029e-03, 1.6736e-02, 4.6401e-02, 3.9787e-03],\n",
       "        [3.2114e-02, 2.1701e-02, 1.4796e-02, 3.9501e-03, 6.4409e-03],\n",
       "        [4.6406e+00, 4.9598e-02, 6.2109e-02, 4.5850e-03, 3.9395e-03],\n",
       "        [3.0936e+00, 2.9147e-02, 4.3979e-02, 3.5195e-03, 3.9307e-02],\n",
       "        [2.3822e+00, 3.1789e-02, 8.2753e-03, 2.7492e-02, 2.8695e-02],\n",
       "        [1.5141e+00, 2.5387e-02, 6.7914e-03, 4.5526e-03, 3.4669e-03],\n",
       "        [5.8244e-01, 4.2406e-02, 3.6121e-03, 5.7130e-03, 1.2237e-01],\n",
       "        [1.3068e+00, 5.0185e-02, 2.2246e-02, 3.1801e-03, 3.3172e-03],\n",
       "        [1.1879e+00, 9.4679e-03, 3.8150e-03, 4.2308e-02, 9.8419e-03],\n",
       "        [1.5217e+01, 1.1710e-02, 3.6631e-03, 6.4927e-03, 2.6952e-03],\n",
       "        [1.1278e+01, 5.9830e-03, 6.7360e-03, 1.6405e-02, 3.3075e-03],\n",
       "        [8.4072e-02, 5.5994e-03, 1.8938e-02, 8.0781e-03, 7.1614e-02],\n",
       "        [9.8255e+00, 3.7736e-03, 1.0969e-02, 2.1364e-02, 3.9799e-03],\n",
       "        [7.0301e+00, 2.1703e-02, 3.0390e-03, 3.4485e-03, 1.8948e-02],\n",
       "        [1.3237e+00, 9.8318e-03, 9.8900e-03, 3.5055e-03, 3.8402e-03],\n",
       "        [1.9323e+00, 3.0493e-03, 1.0911e-02, 6.5681e-03, 4.8871e-03],\n",
       "        [1.8846e+00, 9.7298e-03, 1.7618e-02, 1.3009e-01, 4.6811e-02],\n",
       "        [5.7421e-01, 1.9161e-01, 1.0420e-02, 3.7465e-03, 1.4838e-02],\n",
       "        [1.0205e+01, 5.7485e-03, 5.5544e-03, 6.3058e-02, 6.6159e-03],\n",
       "        [6.9441e+00, 2.7190e-02, 1.0091e-02, 3.5552e-03, 2.6735e-02],\n",
       "        [1.4033e+00, 3.5481e-02, 6.3086e-02, 2.2809e-02, 4.9327e-03],\n",
       "        [1.9909e+00, 3.3745e-03, 3.0917e-02, 3.6525e-03, 2.7599e-03],\n",
       "        [2.3014e+00, 4.1651e-02, 2.9787e-02, 5.0193e-03, 4.2012e-03],\n",
       "        [2.3828e+00, 4.4362e-03, 4.8785e-03, 3.4554e-03, 4.0399e-03],\n",
       "        [1.3120e-01, 4.8931e-02, 4.6246e-03, 3.6028e-03, 4.0915e-03],\n",
       "        [8.7279e-02, 6.1107e-03, 3.2594e-03, 4.2629e-03, 2.4523e-02],\n",
       "        [4.4885e+00, 1.2026e-01, 8.2883e-03, 1.1249e-02, 4.4561e-03],\n",
       "        [1.6577e+00, 4.4640e-03, 3.8984e-03, 2.2186e-02, 6.4595e-03],\n",
       "        [1.4039e+01, 6.7315e-03, 5.8289e-02, 4.6587e-03, 4.2868e-03],\n",
       "        [3.3709e+00, 6.1032e-02, 3.8627e-03, 2.7547e-03, 1.6841e-02],\n",
       "        [1.5451e+01, 2.8181e-02, 3.0318e-03, 1.0493e-02, 5.3358e-03],\n",
       "        [1.7424e+00, 1.5159e-02, 5.5286e-02, 5.7193e-02, 7.9372e-02],\n",
       "        [1.1091e+01, 4.1985e-03, 1.6654e-02, 2.3342e-02, 5.0780e-03],\n",
       "        [3.7254e+00, 3.8025e-03, 1.8674e-02, 4.5383e-03, 1.2433e-02],\n",
       "        [1.7272e+00, 5.4746e-03, 2.7608e-03, 4.6088e-03, 3.3639e-03],\n",
       "        [1.4943e+01, 4.6192e-03, 5.4678e-02, 5.7099e-02, 3.3787e-03],\n",
       "        [2.3395e-01, 2.5369e-02, 4.5753e-02, 5.8904e-02, 8.7886e-03],\n",
       "        [2.8529e-01, 1.0100e-02, 3.5272e-03, 3.4502e-03, 7.9786e-03],\n",
       "        [4.5159e+00, 5.7526e-03, 2.9755e-03, 1.0329e-02, 3.2927e-03],\n",
       "        [1.2485e+00, 3.7752e-03, 5.1677e-03, 1.2751e-02, 4.4011e-03],\n",
       "        [3.4816e+00, 4.2634e-03, 3.6945e-03, 3.9686e-03, 5.9706e-03],\n",
       "        [2.9853e+00, 2.9786e-02, 4.9221e-03, 4.4904e-03, 3.0824e-02],\n",
       "        [1.6881e+01, 6.2996e-03, 4.5986e-03, 4.7717e-03, 7.5602e-03],\n",
       "        [1.5031e-01, 3.7799e-03, 2.7001e-02, 1.6085e-02, 1.3257e-02],\n",
       "        [1.0858e+01, 1.2382e-02, 1.7274e-02, 4.9533e-03, 4.2249e-03],\n",
       "        [7.7032e-01, 5.3508e-02, 2.4485e-02, 7.6807e-03, 2.7932e-02],\n",
       "        [9.8993e+00, 3.8545e-03, 3.3768e-03, 1.2847e-02, 1.9421e-02],\n",
       "        [1.1744e+01, 1.3918e-02, 3.6169e-03, 2.2123e-02, 3.4809e-03],\n",
       "        [3.7639e-01, 5.1574e-03, 1.5447e-02, 4.9408e-03, 3.4031e-02],\n",
       "        [2.0105e-01, 4.3477e-02, 8.1037e-02, 3.5401e-03, 5.4103e-03]])"
      ]
     },
     "execution_count": 11,
     "metadata": {},
     "output_type": "execute_result"
    }
   ],
   "source": [
    "mycebmf.L2"
   ]
  },
  {
   "cell_type": "code",
   "execution_count": 12,
   "id": "7bb3bac3",
   "metadata": {},
   "outputs": [],
   "source": [
    "mycebmf.update_fitted_value()"
   ]
  },
  {
   "cell_type": "code",
   "execution_count": 13,
   "id": "e7ac7570",
   "metadata": {},
   "outputs": [
    {
     "data": {
      "text/plain": [
       "<matplotlib.collections.PathCollection at 0x208836af940>"
      ]
     },
     "execution_count": 13,
     "metadata": {},
     "output_type": "execute_result"
    },
    {
     "data": {
      "image/png": "[encoded data removed]",
      "text/plain": [
       "<Figure size 640x480 with 1 Axes>"
      ]
     },
     "metadata": {},
     "output_type": "display_data"
    }
   ],
   "source": [
    "plt.scatter(mycebmf.Y_fit, noisy_matrix)\n",
    " \n",
    "plt.scatter(mycebmf.Y_fit, rank_1_matrix)"
   ]
  },
  {
   "cell_type": "code",
   "execution_count": null,
   "id": "859c5319",
   "metadata": {},
   "outputs": [],
   "source": []
  },
  {
   "cell_type": "code",
   "execution_count": 14,
   "id": "f0bd69a7",
   "metadata": {},
   "outputs": [],
   "source": [
    "from cebmf_torch.torch_main import *\n",
    "mycebmf=  cEBMF(data= noisy_matrix,\n",
    "                prior_L=\"point_laplace\",\n",
    "                  prior_F=\"point_laplace\") \n",
    "mycebmf.initialize()\n",
    "k=0"
   ]
  },
  {
   "cell_type": "code",
   "execution_count": null,
   "id": "67027da2",
   "metadata": {},
   "outputs": [],
   "source": []
  },
  {
   "cell_type": "code",
   "execution_count": null,
   "id": "ec81ccef",
   "metadata": {},
   "outputs": [],
   "source": []
  },
  {
   "cell_type": "code",
   "execution_count": 15,
   "id": "6c5f3f92",
   "metadata": {},
   "outputs": [
    {
     "data": {
      "text/plain": [
       "tensor([[-1.0800e+00,  8.0196e-03,  1.5701e-01,  2.6303e-01, -4.1739e-02],\n",
       "        [-1.7109e-01, -1.9046e-01,  1.4650e-01,  3.7131e-02,  8.8875e-02],\n",
       "        [-2.1563e+00,  2.6045e-01, -2.9440e-01,  5.0543e-02, -4.6051e-02],\n",
       "        [-1.7606e+00, -2.1199e-01,  2.5109e-01, -1.1951e-02,  2.4847e-01],\n",
       "        [-1.5449e+00,  2.1157e-01,  9.9516e-02,  2.0594e-01, -2.2076e-01],\n",
       "        [-1.2314e+00,  1.8960e-01, -1.3784e-01,  5.0737e-02,  2.0818e-02],\n",
       "        [-7.6256e-01, -2.4581e-01,  2.3146e-03,  7.5396e-02, -4.0319e-01],\n",
       "        [-1.1439e+00, -2.6397e-01,  1.8187e-01, -8.0567e-02, -8.1205e-03],\n",
       "        [-1.0905e+00,  1.0566e-01,  2.1918e-02,  2.5164e-01,  1.1956e-01],\n",
       "        [-3.9036e+00,  1.2250e-01,  1.1006e-02,  8.3848e-02, -1.0205e-01],\n",
       "        [-3.3608e+00,  6.7632e-02, -1.3782e-01, -1.8388e-01, -7.9343e-02],\n",
       "        [-2.8256e-01,  6.1964e-02,  1.6782e-01, -1.5000e-01,  3.2100e-01],\n",
       "        [-3.1371e+00, -1.5682e-03,  1.2186e-01,  1.8391e-01, -6.9569e-02],\n",
       "        [-2.6537e+00,  1.7499e-01, -8.0762e-02, -5.0424e-03, -1.9304e-01],\n",
       "        [-1.1513e+00,  1.0867e-01,  1.1378e-01,  1.2128e-02, -3.7015e-02],\n",
       "        [-1.3913e+00, -7.6145e-02,  1.2153e-01,  8.6103e-02,  6.4852e-02],\n",
       "        [-1.3740e+00,  1.0782e-01,  1.6148e-01, -4.1494e-01, -2.6208e-01],\n",
       "        [-7.5712e-01, -4.8320e-01,  1.1743e-01,  3.1841e-02, -1.7631e-01],\n",
       "        [-3.1971e+00,  6.4094e-02, -1.3046e-01, -3.0206e-01, -1.4250e-01],\n",
       "        [-2.6375e+00,  1.9603e-01,  1.1535e-01,  1.5738e-02,  2.0656e-01],\n",
       "        [-1.1854e+00, -2.2867e-01, -2.9677e-01,  1.9078e-01,  5.9602e-02],\n",
       "        [-1.4123e+00, -7.0387e-02, -2.2162e-01, -2.2893e-02, -9.2731e-02],\n",
       "        [-1.5185e+00, -2.4405e-01, -2.1875e-01, -6.0345e-02,  4.6484e-02],\n",
       "        [-1.5451e+00,  3.7692e-02,  5.3646e-02,  5.5653e-03, -4.3632e-02],\n",
       "        [-3.5696e-01, -2.6105e-01, -4.8496e-02,  2.1996e-02,  4.5653e-02],\n",
       "        [-2.8822e-01, -1.2909e-01, -1.0871e-01, -4.4381e-02,  1.9616e-01],\n",
       "        [-2.1206e+00,  3.9007e-01,  9.9799e-02, -1.6718e-01,  5.6170e-02],\n",
       "        [-1.2886e+00, -3.8711e-02,  2.5837e-02,  1.8736e-01,  8.6870e-02],\n",
       "        [-3.7495e+00, -1.3310e-01,  2.8506e-01,  5.6030e-02,  5.5489e-02],\n",
       "        [-1.8378e+00, -2.8753e-01,  2.3898e-02, -9.3194e-02,  1.6521e-01],\n",
       "        [-3.9335e+00, -2.0952e-01, -1.0498e-01,  1.2492e-01, -1.3550e-01],\n",
       "        [-1.3211e+00,  1.4394e-01,  2.7879e-01,  2.8786e-01, -3.3056e-01],\n",
       "        [-3.3329e+00, -3.0673e-02, -1.7941e-01, -2.0532e-01,  6.5975e-02],\n",
       "        [-1.9320e+00, -6.4846e-02, -1.8599e-01,  5.2030e-02,  1.3676e-01],\n",
       "        [-1.3153e+00,  5.9796e-02, -9.1383e-02,  5.3043e-02,  1.4722e-02],\n",
       "        [-3.8683e+00, -4.2975e-02,  2.7704e-01, -2.8827e-01,  2.3012e-02],\n",
       "        [-4.8066e-01,  1.8960e-01, -2.5840e-01,  2.9030e-01,  1.0629e-01],\n",
       "        [-5.3172e-01,  1.1089e-01, -7.2663e-02,  3.5995e-03,  1.0309e-01],\n",
       "        [-2.1271e+00,  6.4250e-02, -8.2268e-02, -1.6076e-01, -8.0659e-03],\n",
       "        [-1.1181e+00, -2.3487e-03, -1.2762e-01,  1.3920e-01,  5.1571e-02],\n",
       "        [-1.8677e+00, -3.2754e-02,  1.3962e-02, -3.5963e-02,  8.1290e-02],\n",
       "        [-1.7295e+00, -2.1372e-01, -5.8995e-02,  5.2264e-02,  2.1876e-01],\n",
       "        [-4.1114e+00,  7.2044e-02,  4.7318e-02,  5.6729e-02,  1.0055e-01],\n",
       "        [-3.8303e-01,  3.8863e-03, -2.1074e-01, -1.8264e-01, -1.7477e-01],\n",
       "        [-3.2977e+00, -1.5914e-01, -1.8159e-01, -1.3019e-01, -5.0413e-02],\n",
       "        [-8.7760e-01, -2.7135e-01,  1.9075e-01,  1.0067e-01, -2.1614e-01],\n",
       "        [-3.1488e+00, -1.3637e-02, -7.5074e-02,  1.4003e-01,  1.7523e-01],\n",
       "        [-3.4296e+00,  1.3665e-01,  4.0598e-03,  1.8605e-01,  2.3113e-02],\n",
       "        [-6.1188e-01,  5.4167e-02,  1.5028e-01, -6.3751e-02,  2.3114e-01],\n",
       "        [-4.4484e-01,  2.4524e-01,  3.3110e-01, -1.6884e-02,  7.7175e-02]])"
      ]
     },
     "execution_count": 15,
     "metadata": {},
     "output_type": "execute_result"
    }
   ],
   "source": [
    " \n",
    "\n",
    "mycebmf.L"
   ]
  },
  {
   "cell_type": "code",
   "execution_count": 16,
   "id": "3da8f8e0",
   "metadata": {},
   "outputs": [],
   "source": [
    "\n",
    "k=0\n",
    "Rk = mycebmf._partial_residual_masked(k)            # (N,P), zeros where missing\n",
    "fk  = mycebmf.F[:, k]                                # (P,)\n",
    "fk2 = mycebmf.F2[:, k]                               # (P,)\n",
    "\n",
    "eps = 1e-12\n",
    "denom_l = (fk2.view(1, -1) * mycebmf.mask).sum(dim=1).clamp_min(eps)     # (N,)\n",
    "num_l   = (Rk @ fk)                                                   # (N,)\n",
    "se_l    = torch.sqrt(1.0 / (mycebmf.tau * denom_l))\n",
    "\n",
    "\n",
    "lhat = num_l / denom_l\n",
    "\n",
    "resL = mycebmf.prior_L_fn(\n",
    "            X=getattr(mycebmf, \"X_l\", None),\n",
    "            betahat=lhat,\n",
    "            sebetahat=se_l,\n",
    "            model_param=mycebmf.model_state_L[k]\n",
    ")\n",
    "mycebmf.model_state_L[k] = resL.model_param\n",
    "mycebmf.L[:, k]  = resL.post_mean\n",
    "mycebmf.L2[:, k] = resL.post_mean2\n",
    "mycebmf.kl_l[k]  = torch.as_tensor(resL.loss, device=mycebmf.device)"
   ]
  },
  {
   "cell_type": "code",
   "execution_count": 17,
   "id": "001194e9",
   "metadata": {},
   "outputs": [
    {
     "data": {
      "text/plain": [
       "tensor([ 1.1651,  0.0321,  4.6406,  3.0936,  2.3822,  1.5141,  0.5824,  1.3068,\n",
       "         1.1879, 15.2173, 11.2778,  0.0841,  9.8255,  7.0301,  1.3237,  1.9323,\n",
       "         1.8846,  0.5742, 10.2051,  6.9441,  1.4033,  1.9909,  2.3014,  2.3828,\n",
       "         0.1312,  0.0873,  4.4885,  1.6577, 14.0390,  3.3709, 15.4509,  1.7424,\n",
       "        11.0913,  3.7254,  1.7272, 14.9433,  0.2340,  0.2853,  4.5159,  1.2485,\n",
       "         3.4816,  2.9853, 16.8809,  0.1503, 10.8583,  0.7703,  9.8993, 11.7444,\n",
       "         0.3764,  0.2011], dtype=torch.float64)"
      ]
     },
     "execution_count": 17,
     "metadata": {},
     "output_type": "execute_result"
    }
   ],
   "source": [
    "se_l\n",
    "resL.post_mean2"
   ]
  },
  {
   "cell_type": "code",
   "execution_count": 18,
   "id": "9085104f",
   "metadata": {},
   "outputs": [],
   "source": [
    "from cebmf_torch.torch_ebnm_point_laplace import ebnm_point_laplace\n",
    "\n",
    "lol=ebnm_point_laplace(\n",
    "    x=lhat ,\n",
    "    s=se_l ,    # a=exp(0)=1\n",
    "    fix_par=[False,False, True] # optimize w only; fix a, mu\n",
    ")"
   ]
  },
  {
   "cell_type": "code",
   "execution_count": 19,
   "id": "6a04e4a5",
   "metadata": {},
   "outputs": [
    {
     "data": {
      "text/plain": [
       "tensor([0.0792, 0.0632, 0.0792, 0.0792, 0.0792, 0.0792, 0.0792, 0.0792, 0.0792,\n",
       "        0.0792, 0.0792, 0.0787, 0.0792, 0.0792, 0.0792, 0.0792, 0.0792, 0.0792,\n",
       "        0.0792, 0.0792, 0.0792, 0.0792, 0.0792, 0.0792, 0.0792, 0.0788, 0.0792,\n",
       "        0.0792, 0.0792, 0.0792, 0.0792, 0.0792, 0.0792, 0.0792, 0.0792, 0.0792,\n",
       "        0.0792, 0.0792, 0.0792, 0.0792, 0.0792, 0.0792, 0.0792, 0.0792, 0.0792,\n",
       "        0.0792, 0.0792, 0.0792, 0.0792, 0.0792], dtype=torch.float64)"
      ]
     },
     "execution_count": 19,
     "metadata": {},
     "output_type": "execute_result"
    }
   ],
   "source": [
    "lol.post_sd"
   ]
  },
  {
   "cell_type": "code",
   "execution_count": 20,
   "id": "e98689d2",
   "metadata": {},
   "outputs": [
    {
     "data": {
      "text/plain": [
       "<matplotlib.collections.PathCollection at 0x2088372af80>"
      ]
     },
     "execution_count": 20,
     "metadata": {},
     "output_type": "execute_result"
    },
    {
     "data": {
      "image/png": "[encoded data removed]",
      "text/plain": [
       "<Figure size 640x480 with 1 Axes>"
      ]
     },
     "metadata": {},
     "output_type": "display_data"
    }
   ],
   "source": [
    "plt.scatter(lol.post_mean2,resL.post_mean2)"
   ]
  },
  {
   "cell_type": "code",
   "execution_count": 21,
   "id": "ee082178",
   "metadata": {},
   "outputs": [
    {
     "data": {
      "text/plain": [
       "<matplotlib.collections.PathCollection at 0x208802a8b80>"
      ]
     },
     "execution_count": 21,
     "metadata": {},
     "output_type": "execute_result"
    },
    {
     "data": {
      "image/png": "[encoded data removed]",
      "text/plain": [
       "<Figure size 640x480 with 1 Axes>"
      ]
     },
     "metadata": {},
     "output_type": "display_data"
    }
   ],
   "source": [
    "plt.scatter(lol.post_sd**2 ,resL.post_mean2-resL.post_mean**2)"
   ]
  },
  {
   "cell_type": "code",
   "execution_count": 22,
   "id": "55c074e1",
   "metadata": {},
   "outputs": [
    {
     "name": "stdout",
     "output_type": "stream",
     "text": [
      "tensor([-1.0765, -0.1677, -2.1528, -1.7571, -1.5414, -1.2279, -0.7591, -1.1404,\n",
      "        -1.0870, -3.9001, -3.3573, -0.2791, -3.1336, -2.6502, -1.1478, -1.3878,\n",
      "        -1.3705, -0.7536, -3.1936, -2.6340, -1.1819, -1.4088, -1.5150, -1.5416,\n",
      "        -0.3535, -0.2847, -2.1171, -1.2851, -3.7460, -1.8343, -3.9300, -1.3176,\n",
      "        -3.3294, -1.9285, -1.3118, -3.8648, -0.4772, -0.5282, -2.1236, -1.1146,\n",
      "        -1.8642, -1.7260, -4.1079, -0.3795, -3.2942, -0.8741, -3.1453, -3.4261,\n",
      "        -0.6084, -0.4413], dtype=torch.float64)\n"
     ]
    }
   ],
   "source": [
    "k=0\n",
    "Rk = mycebmf._partial_residual_masked(k)            # (N,P), zeros where missing\n",
    "fk  = mycebmf.F[:, k]                                # (P,)\n",
    "fk2 = mycebmf.F2[:, k]                               # (P,)\n",
    "\n",
    "eps = 1e-12\n",
    "denom_l = (fk2.view(1, -1) * mycebmf.mask).sum(dim=1).clamp_min(eps)     # (N,)\n",
    "num_l   = (Rk @ fk)                                                   # (N,)\n",
    "se_l    = torch.sqrt(1.0 / (mycebmf.tau * denom_l))\n",
    "\n",
    "\n",
    "lhat = num_l / denom_l\n",
    "\n",
    "resL = mycebmf.prior_L_fn(\n",
    "            X=getattr(mycebmf, \"X_l\", None),\n",
    "            betahat=lhat,\n",
    "            sebetahat=se_l,\n",
    "            model_param=mycebmf.model_state_L[k]\n",
    ")\n",
    "mycebmf.model_state_L[k] = resL.model_param\n",
    "print(resL.post_mean)\n",
    "mycebmf.L[:, k]  = resL.post_mean\n",
    "mycebmf.L2[:, k] = resL.post_mean2"
   ]
  },
  {
   "cell_type": "code",
   "execution_count": 23,
   "id": "dfa1ef80",
   "metadata": {},
   "outputs": [],
   "source": [
    "denom_f = (lk2.view(-1, 1) * mycebmf.mask).sum(dim=0).clamp_min(eps)      # (P,)\n",
    "num_f   = (Rk.T @ lk)                                                  # (P,)\n",
    "se_f    = torch.sqrt(1.0 / (mycebmf.tau * denom_f))"
   ]
  },
  {
   "cell_type": "code",
   "execution_count": 24,
   "id": "3cc57f99",
   "metadata": {},
   "outputs": [
    {
     "data": {
      "text/plain": [
       "tensor([[1., 1., 1.,  ..., 1., 1., 1.],\n",
       "        [1., 1., 1.,  ..., 1., 1., 1.],\n",
       "        [1., 1., 1.,  ..., 1., 1., 1.],\n",
       "        ...,\n",
       "        [1., 1., 1.,  ..., 1., 1., 1.],\n",
       "        [1., 1., 1.,  ..., 1., 1., 1.],\n",
       "        [1., 1., 1.,  ..., 1., 1., 1.]])"
      ]
     },
     "execution_count": 24,
     "metadata": {},
     "output_type": "execute_result"
    }
   ],
   "source": [
    "mycebmf.mask"
   ]
  },
  {
   "cell_type": "code",
   "execution_count": 25,
   "id": "95f0cdaa",
   "metadata": {},
   "outputs": [
    {
     "name": "stdout",
     "output_type": "stream",
     "text": [
      "tensor([-1.0765, -0.1677, -2.1528, -1.7571, -1.5414, -1.2279, -0.7591, -1.1404,\n",
      "        -1.0870, -3.9001, -3.3573, -0.2791, -3.1336, -2.6502, -1.1478, -1.3878,\n",
      "        -1.3705, -0.7536, -3.1936, -2.6340, -1.1819, -1.4088, -1.5150, -1.5416,\n",
      "        -0.3535, -0.2847, -2.1171, -1.2851, -3.7460, -1.8343, -3.9300, -1.3176,\n",
      "        -3.3294, -1.9285, -1.3118, -3.8648, -0.4772, -0.5282, -2.1236, -1.1146,\n",
      "        -1.8642, -1.7260, -4.1079, -0.3795, -3.2942, -0.8741, -3.1453, -3.4261,\n",
      "        -0.6084, -0.4413], dtype=torch.float64)\n",
      "tensor([-0.0346, -0.1409, -0.0059, -0.2040, -0.1176, -0.0094, -0.2310, -0.1752,\n",
      "        -0.1537, -0.2228, -0.0544, -0.1940, -0.0261, -0.1711, -0.2372, -0.0781,\n",
      "        -0.2404, -0.0280, -0.1942, -0.1146, -0.1228, -0.1836, -0.2128, -0.0841,\n",
      "        -0.0971, -0.0334, -0.1129, -0.0906, -0.1750, -0.1760, -0.1829, -0.1479,\n",
      "        -0.1141, -0.1198, -0.2098, -0.2042, -0.2252, -0.2121, -0.1984, -0.1542],\n",
      "       dtype=torch.float64)\n"
     ]
    }
   ],
   "source": [
    " \n",
    "Rk = mycebmf._partial_residual_masked(k)            # (N,P), zeros where missing\n",
    "fk  = mycebmf.F[:, k]                                # (P,)\n",
    "fk2 = mycebmf.F2[:, k]                               # (P,)\n",
    "\n",
    "eps = 1e-12\n",
    "denom_l = (fk2.view(1, -1) * mycebmf.mask).sum(dim=1).clamp_min(eps)     # (N,)\n",
    "num_l   = (Rk @ fk)                                                   # (N,)\n",
    "se_l    = torch.sqrt(1.0 / (mycebmf.tau * denom_l))\n",
    "\n",
    "\n",
    "lhat = num_l / denom_l\n",
    "\n",
    "resL = mycebmf.prior_L_fn(\n",
    "            X=getattr(mycebmf, \"X_l\", None),\n",
    "            betahat=lhat,\n",
    "            sebetahat=se_l,\n",
    "            model_param=mycebmf.model_state_L[k]\n",
    ")\n",
    "mycebmf.model_state_L[k] = resL.model_param\n",
    "print(resL.post_mean)\n",
    "mycebmf.L[:, k]  = resL.post_mean\n",
    "mycebmf.L2[:, k] = resL.post_mean2\n",
    "mycebmf.kl_l[k]  = torch.as_tensor(resL.loss, device=mycebmf.device)\n",
    "Rk = mycebmf._partial_residual_masked(k)            # recompute with updated L\n",
    "lk  = mycebmf.L[:, k]                               # (N,)\n",
    "lk2 = mycebmf.L2[:, k]                              # (N,)\n",
    "\n",
    "if tau_map is None:\n",
    "            denom_f = (lk2.view(-1, 1) * mycebmf.mask).sum(dim=0).clamp_min(eps)      # (P,)\n",
    "            num_f   = (Rk.T @ lk)                                                  # (P,)\n",
    "            se_f    = torch.sqrt(1.0 / (mycebmf.tau * denom_f))\n",
    "else:\n",
    "            denom_f = (tau_map * (lk2.view(-1, 1) * mycebmf.mask)).sum(dim=0).clamp_min(eps)  # (P,)\n",
    "            num_f   = (tau_map * Rk).T @ lk                                                # (P,)\n",
    "            se_f    = torch.sqrt(1.0 / denom_f)\n",
    "\n",
    "fhat = num_f / denom_f \n",
    "resF = mycebmf.prior_F_fn(\n",
    "            X=getattr(mycebmf, \"X_f\", None),\n",
    "            betahat=fhat,\n",
    "            sebetahat=se_f,\n",
    "            model_param=mycebmf.model_state_F[k]\n",
    "        )\n",
    "mycebmf.model_state_F[k] = resF.model_param\n",
    "print(resF.post_mean)\n",
    "mycebmf.F[:, k]  = resF.post_mean\n",
    "mycebmf.F2[:, k] = resF.post_mean2\n",
    "mycebmf.kl_f[k]  = torch.as_tensor(resF.loss, device=mycebmf.device)\n"
   ]
  },
  {
   "cell_type": "code",
   "execution_count": 26,
   "id": "57dad8d3",
   "metadata": {},
   "outputs": [
    {
     "data": {
      "text/plain": [
       "tensor([226.3688, 226.3688, 226.3688, 226.3688, 226.3688, 226.3688, 226.3688,\n",
       "        226.3688, 226.3688, 226.3688, 226.3688, 226.3688, 226.3688, 226.3688,\n",
       "        226.3688, 226.3688, 226.3688, 226.3688, 226.3688, 226.3688, 226.3688,\n",
       "        226.3688, 226.3688, 226.3688, 226.3688, 226.3688, 226.3688, 226.3688,\n",
       "        226.3688, 226.3688, 226.3688, 226.3688, 226.3688, 226.3688, 226.3688,\n",
       "        226.3688, 226.3688, 226.3688, 226.3688, 226.3688])"
      ]
     },
     "execution_count": 26,
     "metadata": {},
     "output_type": "execute_result"
    }
   ],
   "source": [
    "(lk2.view(-1, 1) * mycebmf.mask) .sum(dim=0)"
   ]
  },
  {
   "cell_type": "code",
   "execution_count": 27,
   "id": "ed42f9de",
   "metadata": {},
   "outputs": [
    {
     "data": {
      "text/plain": [
       "tensor([ -6.6113, -26.8079,  -1.1576, -38.8110, -22.3831,  -1.8171, -43.9343,\n",
       "        -33.3216, -29.2467, -42.3695, -10.3742, -36.9088,  -4.9950, -32.5561,\n",
       "        -45.1146, -14.8755, -45.7126,  -5.3548, -36.9436, -21.8064, -23.3640,\n",
       "        -34.9277, -40.4776, -16.0244, -18.4936,  -6.3763, -21.4954, -17.2554,\n",
       "        -33.2994, -33.4827, -34.7892, -28.1384, -21.7189, -22.8018, -39.9078,\n",
       "        -38.8476, -42.8353, -40.3469, -37.7295, -29.3382])"
      ]
     },
     "execution_count": 27,
     "metadata": {},
     "output_type": "execute_result"
    }
   ],
   "source": [
    "fhat/se_f"
   ]
  },
  {
   "cell_type": "code",
   "execution_count": 28,
   "id": "c0460dc2",
   "metadata": {},
   "outputs": [
    {
     "data": {
      "text/plain": [
       "tensor([0.0792, 0.0792, 0.0792, 0.0792, 0.0792, 0.0792, 0.0792, 0.0792, 0.0792,\n",
       "        0.0792, 0.0792, 0.0792, 0.0792, 0.0792, 0.0792, 0.0792, 0.0792, 0.0792,\n",
       "        0.0792, 0.0792, 0.0792, 0.0792, 0.0792, 0.0792, 0.0792, 0.0792, 0.0792,\n",
       "        0.0792, 0.0792, 0.0792, 0.0792, 0.0792, 0.0792, 0.0792, 0.0792, 0.0792,\n",
       "        0.0792, 0.0792, 0.0792, 0.0792, 0.0792, 0.0792, 0.0792, 0.0792, 0.0792,\n",
       "        0.0792, 0.0792, 0.0792, 0.0792, 0.0792])"
      ]
     },
     "execution_count": 28,
     "metadata": {},
     "output_type": "execute_result"
    }
   ],
   "source": [
    "se_l\n"
   ]
  },
  {
   "cell_type": "code",
   "execution_count": 29,
   "id": "441e02f9",
   "metadata": {},
   "outputs": [],
   "source": [
    "\n",
    "lolf=ebnm_point_laplace(\n",
    "    x=fhat ,\n",
    "    s=se_f ,    # a=exp(0)=1\n",
    "    fix_par=[False,False, True] # optimize w only; fix a, mu\n",
    ")"
   ]
  },
  {
   "cell_type": "code",
   "execution_count": 30,
   "id": "53231549",
   "metadata": {},
   "outputs": [
    {
     "data": {
      "text/plain": [
       "0.0"
      ]
     },
     "execution_count": 30,
     "metadata": {},
     "output_type": "execute_result"
    }
   ],
   "source": [
    "lol.mu"
   ]
  },
  {
   "cell_type": "code",
   "execution_count": 31,
   "id": "c5d8a126",
   "metadata": {},
   "outputs": [
    {
     "data": {
      "text/plain": [
       "0.9999840259552002"
      ]
     },
     "execution_count": 31,
     "metadata": {},
     "output_type": "execute_result"
    }
   ],
   "source": [
    "lol.w"
   ]
  },
  {
   "cell_type": "code",
   "execution_count": 32,
   "id": "0e429d6e",
   "metadata": {},
   "outputs": [
    {
     "data": {
      "text/plain": [
       "tensor([2.2707e-09, 5.4210e-08, 5.8578e-10, 8.7363e-10, 1.1294e-09, 1.7596e-09,\n",
       "        4.4278e-09, 2.0309e-09, 2.2284e-09, 1.8056e-10, 2.4313e-10, 2.5888e-08,\n",
       "        2.7877e-10, 3.8847e-10, 2.0057e-09, 1.3866e-09, 1.4209e-09, 4.4883e-09,\n",
       "        2.6850e-10, 3.9324e-10, 1.8950e-09, 1.3467e-09, 1.1684e-09, 1.1292e-09,\n",
       "        1.7575e-08, 2.5074e-08, 6.0539e-10, 1.6107e-09, 1.9558e-10, 8.0290e-10,\n",
       "        1.7787e-10, 1.5342e-09, 2.4721e-10, 7.2759e-10, 1.5475e-09, 1.8385e-10,\n",
       "        1.0421e-08, 8.6760e-09, 6.0176e-10, 2.1231e-09, 7.7770e-10, 9.0482e-10,\n",
       "        1.6288e-10, 1.5570e-08, 2.5248e-10, 3.3871e-09, 2.7672e-10, 2.3357e-10,\n",
       "        6.6967e-09, 1.1972e-08], dtype=torch.float64)"
      ]
     },
     "execution_count": 32,
     "metadata": {},
     "output_type": "execute_result"
    }
   ],
   "source": [
    "# make sure this is the stable version we discussed\n",
    "from cebmf_torch.torch_ebnm_point_exp import ebnm_point_exp\n",
    "res = ebnm_point_exp(\n",
    "    x=lhat.float(),\n",
    "    s=se_l.float() \n",
    ") \n",
    "res.post_mean  # shrunk toward 0, not all zero\n"
   ]
  },
  {
   "cell_type": "code",
   "execution_count": 33,
   "id": "3135beec",
   "metadata": {},
   "outputs": [
    {
     "data": {
      "text/plain": [
       "tensor([-1.0784, -0.1156, -2.1531, -1.7580, -1.5426, -1.2296, -0.7614, -1.1422,\n",
       "        -1.0889, -3.8980, -3.3559, -0.2798, -3.1325, -2.6499, -1.1496, -1.3893,\n",
       "        -1.3720, -0.7560, -3.1924, -2.6336, -1.1837, -1.4102, -1.5162, -1.5428,\n",
       "        -0.3564, -0.2859, -2.1175, -1.2867, -3.7441, -1.8351, -3.9278, -1.3192,\n",
       "        -3.3281, -1.9292, -1.3134, -3.8627, -0.4800, -0.5309, -2.1240, -1.1164,\n",
       "        -1.8650, -1.7269, -4.1054, -0.3824, -3.2929, -0.8763, -3.1442, -3.4246,\n",
       "        -0.6110, -0.4442])"
      ]
     },
     "execution_count": 33,
     "metadata": {},
     "output_type": "execute_result"
    }
   ],
   "source": [
    "from cebmf_torch.torch_ash import ash\n",
    "chk = ash(lhat.float(), se_l.float(), prior=\"norm\")\n",
    "chk.post_mean  # finite; should be close to lhat for large SNR\n"
   ]
  },
  {
   "cell_type": "code",
   "execution_count": 34,
   "id": "5c132067",
   "metadata": {},
   "outputs": [
    {
     "data": {
      "text/plain": [
       "<matplotlib.collections.PathCollection at 0x2088392ef80>"
      ]
     },
     "execution_count": 34,
     "metadata": {},
     "output_type": "execute_result"
    },
    {
     "data": {
      "image/png": "[encoded data removed]",
      "text/plain": [
       "<Figure size 640x480 with 1 Axes>"
      ]
     },
     "metadata": {},
     "output_type": "display_data"
    }
   ],
   "source": [
    "plt.scatter( chk.post_mean, lol.post_mean)\n",
    "\n"
   ]
  },
  {
   "cell_type": "code",
   "execution_count": 35,
   "id": "74e1cac0",
   "metadata": {},
   "outputs": [
    {
     "data": {
      "text/plain": [
       "tensor([-0.0217,  0.0493, -0.0242,  0.1857, -0.1590,  0.0105, -0.3406, -0.0042,\n",
       "         0.0704, -0.0585, -0.0436,  0.2583, -0.0377, -0.1328, -0.0192,  0.0345,\n",
       "        -0.1997, -0.1172, -0.0886,  0.1448,  0.0315, -0.0520,  0.0241, -0.0228,\n",
       "         0.0237,  0.1353,  0.0294,  0.0479,  0.0289,  0.1071, -0.0831, -0.2681,\n",
       "         0.0350,  0.0834,  0.0074,  0.0115,  0.0610,  0.0587, -0.0043,  0.0269,\n",
       "         0.0444,  0.1566,  0.0567, -0.1158, -0.0267, -0.1545,  0.1158,  0.0116,\n",
       "         0.1688,  0.0419], dtype=torch.float64)"
      ]
     },
     "execution_count": 35,
     "metadata": {},
     "output_type": "execute_result"
    }
   ],
   "source": [
    "\n",
    "k=4\n",
    "Rk = mycebmf._partial_residual_masked(k)            # (N,P), zeros where missing\n",
    "fk  = mycebmf.F[:, k]                                # (P,)\n",
    "fk2 = mycebmf.F2[:, k]                               # (P,)\n",
    "\n",
    "eps = 1e-12\n",
    "denom_l = (fk2.view(1, -1) * mycebmf.mask).sum(dim=1).clamp_min(eps)     # (N,)\n",
    "num_l   = (Rk @ fk)                                                   # (N,)\n",
    "se_l    = torch.sqrt(1.0 / (mycebmf.tau * denom_l))\n",
    "\n",
    "\n",
    "lhat = num_l / denom_l\n",
    "\n",
    "resL = mycebmf.prior_L_fn(\n",
    "            X=getattr(mycebmf, \"X_l\", None),\n",
    "            betahat=lhat,\n",
    "            sebetahat=se_l,\n",
    "            model_param=mycebmf.model_state_L[k]\n",
    ")\n",
    "mycebmf.model_state_L[k] = resL.model_param\n",
    "mycebmf.L[:, k]  = resL.post_mean\n",
    "mycebmf.L2[:, k] = resL.post_mean2\n",
    "mycebmf.kl_l[k]  = torch.as_tensor(resL.loss, device=mycebmf.device)\n",
    "se_l\n",
    "resL.post_mean"
   ]
  },
  {
   "cell_type": "code",
   "execution_count": 36,
   "id": "f8e7a6c4",
   "metadata": {},
   "outputs": [
    {
     "data": {
      "text/plain": [
       "tensor([ 0.1068,  0.0980, -0.2368,  0.1943,  0.0620, -0.0908,  0.0014,  0.1286,\n",
       "         0.0127,  0.0065, -0.0907,  0.1161,  0.0786, -0.0489,  0.0724,  0.0782,\n",
       "         0.1107,  0.0751, -0.0848,  0.0736, -0.2393, -0.1655, -0.1627,  0.0317,\n",
       "        -0.0285, -0.0685,  0.0623,  0.0150,  0.2281,  0.0139, -0.0656,  0.2216,\n",
       "        -0.1261, -0.1321, -0.0562,  0.2201, -0.2013, -0.0437, -0.0499, -0.0827,\n",
       "         0.0081, -0.0349,  0.0280, -0.1552, -0.1280,  0.1367, -0.0451,  0.0025,\n",
       "         0.1011,  0.2737], dtype=torch.float64)"
      ]
     },
     "execution_count": 36,
     "metadata": {},
     "output_type": "execute_result"
    }
   ],
   "source": [
    "\n",
    "k=2\n",
    "Rk = mycebmf._partial_residual_masked(k)            # (N,P), zeros where missing\n",
    "fk  = mycebmf.F[:, k]                                # (P,)\n",
    "fk2 = mycebmf.F2[:, k]                               # (P,)\n",
    "\n",
    "eps = 1e-12\n",
    "denom_l = (fk2.view(1, -1) * mycebmf.mask).sum(dim=1).clamp_min(eps)     # (N,)\n",
    "num_l   = (Rk @ fk)                                                   # (N,)\n",
    "se_l    = torch.sqrt(1.0 / (mycebmf.tau * denom_l))\n",
    "\n",
    "\n",
    "lhat = num_l / denom_l\n",
    "\n",
    "resL = mycebmf.prior_L_fn(\n",
    "            X=getattr(mycebmf, \"X_l\", None),\n",
    "            betahat=lhat,\n",
    "            sebetahat=se_l,\n",
    "            model_param=mycebmf.model_state_L[k]\n",
    ")\n",
    "mycebmf.model_state_L[k] = resL.model_param\n",
    "mycebmf.L[:, k]  = resL.post_mean\n",
    "mycebmf.L2[:, k] = resL.post_mean2\n",
    "mycebmf.kl_l[k]  = torch.as_tensor(resL.loss, device=mycebmf.device)\n",
    "se_l\n",
    "resL.post_mean"
   ]
  },
  {
   "cell_type": "code",
   "execution_count": 37,
   "id": "0b833086",
   "metadata": {},
   "outputs": [
    {
     "data": {
      "text/plain": [
       "tensor([0.0792, 0.0792, 0.0792, 0.0792, 0.0792, 0.0792, 0.0792, 0.0792, 0.0792,\n",
       "        0.0792, 0.0792, 0.0792, 0.0792, 0.0792, 0.0792, 0.0792, 0.0792, 0.0792,\n",
       "        0.0792, 0.0792, 0.0792, 0.0792, 0.0792, 0.0792, 0.0792, 0.0792, 0.0792,\n",
       "        0.0792, 0.0792, 0.0792, 0.0792, 0.0792, 0.0792, 0.0792, 0.0792, 0.0792,\n",
       "        0.0792, 0.0792, 0.0792, 0.0792, 0.0792, 0.0792, 0.0792, 0.0792, 0.0792,\n",
       "        0.0792, 0.0792, 0.0792, 0.0792, 0.0792])"
      ]
     },
     "execution_count": 37,
     "metadata": {},
     "output_type": "execute_result"
    }
   ],
   "source": [
    "lhat\n",
    "se_l"
   ]
  },
  {
   "cell_type": "code",
   "execution_count": 38,
   "id": "db392345",
   "metadata": {},
   "outputs": [
    {
     "data": {
      "text/plain": [
       "tensor([ 0.1068,  0.0980, -0.2368,  0.1943,  0.0620, -0.0908,  0.0014,  0.1286,\n",
       "         0.0127,  0.0065, -0.0907,  0.1161,  0.0786, -0.0489,  0.0724,  0.0782,\n",
       "         0.1107,  0.0751, -0.0848,  0.0736, -0.2393, -0.1655, -0.1627,  0.0317,\n",
       "        -0.0285, -0.0685,  0.0623,  0.0150,  0.2281,  0.0139, -0.0656,  0.2216,\n",
       "        -0.1261, -0.1321, -0.0562,  0.2201, -0.2013, -0.0437, -0.0499, -0.0827,\n",
       "         0.0081, -0.0349,  0.0280, -0.1552, -0.1280,  0.1367, -0.0451,  0.0025,\n",
       "         0.1011,  0.2737], dtype=torch.float64)"
      ]
     },
     "execution_count": 38,
     "metadata": {},
     "output_type": "execute_result"
    }
   ],
   "source": [
    "from cebmf_torch.torch_ebnm_point_laplace import ebnm_point_laplace\n",
    "lol= ebnm_point_laplace(lhat , se_l) \n",
    "lol.post_mean\n"
   ]
  },
  {
   "cell_type": "code",
   "execution_count": 39,
   "id": "f942b946",
   "metadata": {},
   "outputs": [
    {
     "data": {
      "text/plain": [
       "tensor([0.0792, 0.0792, 0.0792, 0.0792, 0.0792, 0.0792, 0.0792, 0.0792, 0.0792,\n",
       "        0.0792, 0.0792, 0.0792, 0.0792, 0.0792, 0.0792, 0.0792, 0.0792, 0.0792,\n",
       "        0.0792, 0.0792, 0.0792, 0.0792, 0.0792, 0.0792, 0.0792, 0.0792, 0.0792,\n",
       "        0.0792, 0.0792, 0.0792, 0.0792, 0.0792, 0.0792, 0.0792, 0.0792, 0.0792,\n",
       "        0.0792, 0.0792, 0.0792, 0.0792, 0.0792, 0.0792, 0.0792, 0.0792, 0.0792,\n",
       "        0.0792, 0.0792, 0.0792, 0.0792, 0.0792])"
      ]
     },
     "execution_count": 39,
     "metadata": {},
     "output_type": "execute_result"
    }
   ],
   "source": [
    "se_l"
   ]
  },
  {
   "cell_type": "code",
   "execution_count": 40,
   "id": "3d870a2a",
   "metadata": {},
   "outputs": [
    {
     "data": {
      "text/plain": [
       "tensor([ 0.1571,  0.1465, -0.2942,  0.2512,  0.0996, -0.1377,  0.0024,  0.1820,\n",
       "         0.0220,  0.0113, -0.1375,  0.1678,  0.1221, -0.0805,  0.1139,  0.1216,\n",
       "         0.1616,  0.1175, -0.1302,  0.1156, -0.2967, -0.2215, -0.2186,  0.0538,\n",
       "        -0.0485, -0.1087,  0.1000,  0.0259,  0.2854,  0.0241, -0.1046,  0.2789,\n",
       "        -0.1791, -0.1858, -0.0913,  0.2774, -0.2584, -0.0726, -0.0821, -0.1275,\n",
       "         0.0141, -0.0588,  0.0477, -0.2107, -0.1813,  0.1908, -0.0748,  0.0044,\n",
       "         0.1503,  0.3311])"
      ]
     },
     "execution_count": 40,
     "metadata": {},
     "output_type": "execute_result"
    }
   ],
   "source": [
    "lhat"
   ]
  },
  {
   "cell_type": "code",
   "execution_count": 41,
   "id": "ed404183",
   "metadata": {},
   "outputs": [
    {
     "data": {
      "text/plain": [
       "tensor([ 0.1068,  0.0980, -0.2368,  0.1943,  0.0620, -0.0908,  0.0014,  0.1286,\n",
       "         0.0127,  0.0065, -0.0907,  0.1161,  0.0786, -0.0489,  0.0724,  0.0782,\n",
       "         0.1107,  0.0751, -0.0848,  0.0736, -0.2393, -0.1655, -0.1627,  0.0317,\n",
       "        -0.0285, -0.0685,  0.0623,  0.0150,  0.2281,  0.0139, -0.0656,  0.2216,\n",
       "        -0.1261, -0.1321, -0.0562,  0.2201, -0.2013, -0.0437, -0.0499, -0.0827,\n",
       "         0.0081, -0.0349,  0.0280, -0.1552, -0.1280,  0.1367, -0.0451,  0.0025,\n",
       "         0.1011,  0.2737], dtype=torch.float64)"
      ]
     },
     "execution_count": 41,
     "metadata": {},
     "output_type": "execute_result"
    }
   ],
   "source": [
    "lol= ebnm_point_laplace(lhat , se_l  ) \n",
    "lol.post_mean\n"
   ]
  },
  {
   "cell_type": "code",
   "execution_count": 42,
   "id": "1b46c073",
   "metadata": {},
   "outputs": [
    {
     "data": {
      "text/plain": [
       "0.9999992847442627"
      ]
     },
     "execution_count": 42,
     "metadata": {},
     "output_type": "execute_result"
    }
   ],
   "source": [
    "lol.w"
   ]
  },
  {
   "cell_type": "code",
   "execution_count": null,
   "id": "55aacff1",
   "metadata": {},
   "outputs": [],
   "source": []
  },
  {
   "cell_type": "code",
   "execution_count": 43,
   "id": "572468e7",
   "metadata": {},
   "outputs": [
    {
     "data": {
      "text/plain": [
       "EBNMLaplaceResult(post_mean=tensor([ 0.1068,  0.0980, -0.2368,  0.1943,  0.0620, -0.0908,  0.0014,  0.1286,\n",
       "         0.0127,  0.0065, -0.0907,  0.1161,  0.0786, -0.0489,  0.0724,  0.0782,\n",
       "         0.1107,  0.0751, -0.0848,  0.0736, -0.2393, -0.1655, -0.1627,  0.0317,\n",
       "        -0.0285, -0.0685,  0.0623,  0.0150,  0.2281,  0.0139, -0.0656,  0.2216,\n",
       "        -0.1261, -0.1321, -0.0562,  0.2201, -0.2013, -0.0437, -0.0499, -0.0827,\n",
       "         0.0081, -0.0349,  0.0280, -0.1552, -0.1280,  0.1367, -0.0451,  0.0025,\n",
       "         0.1011,  0.2737], dtype=torch.float64), post_mean2=tensor([0.0167, 0.0148, 0.0620, 0.0439, 0.0083, 0.0068, 0.0036, 0.0222, 0.0038,\n",
       "        0.0037, 0.0067, 0.0189, 0.0110, 0.0030, 0.0099, 0.0109, 0.0176, 0.0104,\n",
       "        0.0055, 0.0101, 0.0632, 0.0309, 0.0299, 0.0049, 0.0046, 0.0033, 0.0083,\n",
       "        0.0039, 0.0582, 0.0039, 0.0030, 0.0553, 0.0167, 0.0187, 0.0028, 0.0547,\n",
       "        0.0457, 0.0035, 0.0030, 0.0052, 0.0037, 0.0049, 0.0046, 0.0270, 0.0173,\n",
       "        0.0244, 0.0034, 0.0036, 0.0155, 0.0812], dtype=torch.float64), post_sd=tensor([0.0730, 0.0719, 0.0768, 0.0784, 0.0667, 0.0000, 0.0601, 0.0751, 0.0605,\n",
       "        0.0602, 0.0000, 0.0740, 0.0692, 0.0256, 0.0683, 0.0692, 0.0734, 0.0687,\n",
       "        0.0000, 0.0685, 0.0770, 0.0597, 0.0583, 0.0622, 0.0618, 0.0000, 0.0667,\n",
       "        0.0606, 0.0789, 0.0605, 0.0000, 0.0789, 0.0278, 0.0352, 0.0000, 0.0788,\n",
       "        0.0718, 0.0403, 0.0220, 0.0000, 0.0602, 0.0607, 0.0618, 0.0540, 0.0304,\n",
       "        0.0758, 0.0366, 0.0601, 0.0723, 0.0791], dtype=torch.float64), w=0.9999992482373121, a=9.168893240258825, mu=0.0, log_lik=17.28866172910462)"
      ]
     },
     "execution_count": 43,
     "metadata": {},
     "output_type": "execute_result"
    }
   ],
   "source": [
    "ebnm_point_laplace(\n",
    "    x=lhat.double(),\n",
    "    s=se_l.double(),    # a=exp(0)=1\n",
    "    fix_par=[False,False, True] # optimize w only; fix a, mu\n",
    ")"
   ]
  },
  {
   "cell_type": "code",
   "execution_count": 44,
   "id": "7cbbbd41",
   "metadata": {},
   "outputs": [
    {
     "data": {
      "text/plain": [
       "EBNMLaplaceResult(post_mean=tensor([ 0.1068,  0.0980, -0.2368,  0.1943,  0.0620, -0.0908,  0.0014,  0.1286,\n",
       "         0.0127,  0.0065, -0.0907,  0.1161,  0.0786, -0.0489,  0.0724,  0.0782,\n",
       "         0.1107,  0.0751, -0.0848,  0.0736, -0.2393, -0.1655, -0.1627,  0.0317,\n",
       "        -0.0285, -0.0685,  0.0623,  0.0150,  0.2281,  0.0139, -0.0656,  0.2216,\n",
       "        -0.1261, -0.1321, -0.0562,  0.2201, -0.2013, -0.0437, -0.0499, -0.0827,\n",
       "         0.0081, -0.0349,  0.0280, -0.1552, -0.1280,  0.1367, -0.0451,  0.0025,\n",
       "         0.1011,  0.2737], dtype=torch.float64), post_mean2=tensor([0.0167, 0.0148, 0.0620, 0.0439, 0.0083, 0.0068, 0.0036, 0.0222, 0.0038,\n",
       "        0.0037, 0.0067, 0.0189, 0.0110, 0.0030, 0.0099, 0.0109, 0.0176, 0.0104,\n",
       "        0.0055, 0.0101, 0.0632, 0.0309, 0.0299, 0.0049, 0.0046, 0.0033, 0.0083,\n",
       "        0.0039, 0.0582, 0.0039, 0.0030, 0.0553, 0.0167, 0.0187, 0.0028, 0.0547,\n",
       "        0.0457, 0.0035, 0.0030, 0.0052, 0.0037, 0.0049, 0.0046, 0.0270, 0.0173,\n",
       "        0.0244, 0.0034, 0.0036, 0.0155, 0.0812], dtype=torch.float64), post_sd=tensor([0.0730, 0.0719, 0.0768, 0.0784, 0.0667, 0.0000, 0.0601, 0.0751, 0.0605,\n",
       "        0.0602, 0.0000, 0.0740, 0.0692, 0.0256, 0.0683, 0.0692, 0.0734, 0.0687,\n",
       "        0.0000, 0.0685, 0.0770, 0.0597, 0.0583, 0.0622, 0.0618, 0.0000, 0.0667,\n",
       "        0.0606, 0.0789, 0.0605, 0.0000, 0.0789, 0.0278, 0.0352, 0.0000, 0.0788,\n",
       "        0.0718, 0.0403, 0.0220, 0.0000, 0.0602, 0.0607, 0.0618, 0.0540, 0.0304,\n",
       "        0.0758, 0.0366, 0.0601, 0.0723, 0.0791], dtype=torch.float64), w=0.9999992482373121, a=9.168893240258825, mu=0.0, log_lik=17.28866172910462)"
      ]
     },
     "execution_count": 44,
     "metadata": {},
     "output_type": "execute_result"
    }
   ],
   "source": [
    "ebnm_point_laplace(\n",
    "    x=lhat.double(),\n",
    "    s=se_l.double(),\n",
    "    par_init=[0.0, 2.0, 0.0],   # a=exp(0)=1\n",
    "    fix_par=[False,False, True] # optimize w only; fix a, mu\n",
    ")"
   ]
  }
 ],
 "metadata": {
  "kernelspec": {
   "display_name": "ml_env",
   "language": "python",
   "name": "python3"
  },
  "language_info": {
   "codemirror_mode": {
    "name": "ipython",
    "version": 3
   },
   "file_extension": ".py",
   "mimetype": "text/x-python",
   "name": "python",
   "nbconvert_exporter": "python",
   "pygments_lexer": "ipython3",
   "version": "3.10.8"
  }
 },
 "nbformat": 4,
 "nbformat_minor": 5
}
